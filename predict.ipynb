{
 "cells": [
  {
   "cell_type": "code",
   "execution_count": 12,
   "id": "8f7a6dfc",
   "metadata": {},
   "outputs": [],
   "source": [
    "from keras.models import load_model\n",
    "import numpy as np \n",
    "import pandas as pd\n",
    "\n",
    "from keras.preprocessing.text import Tokenizer\n",
    "from tensorflow.keras.utils import pad_sequences"
   ]
  },
  {
   "cell_type": "markdown",
   "id": "efd7e643",
   "metadata": {},
   "source": [
    "### Predicting sentiment of release of first month of chatGPT"
   ]
  },
  {
   "cell_type": "code",
   "execution_count": 11,
   "id": "250ef2a8",
   "metadata": {},
   "outputs": [],
   "source": [
    "df = pd.read_csv('datasets/preprocessed_chatgptfirst.csv')"
   ]
  },
  {
   "cell_type": "code",
   "execution_count": null,
   "id": "ed33bbb2",
   "metadata": {},
   "outputs": [],
   "source": [
    "df = df['tweet']"
   ]
  },
  {
   "cell_type": "code",
   "execution_count": 19,
   "id": "c048f060",
   "metadata": {},
   "outputs": [
    {
     "data": {
      "text/plain": [
       "14"
      ]
     },
     "execution_count": 19,
     "metadata": {},
     "output_type": "execute_result"
    }
   ],
   "source": [
    "# check if there is any NaN value\n",
    "\n",
    "df.isnull().values.any()\n",
    "df.isnull().sum()"
   ]
  },
  {
   "cell_type": "code",
   "execution_count": 21,
   "id": "183d8ca6",
   "metadata": {},
   "outputs": [],
   "source": [
    "# drop the NaN values if any\n",
    "\n",
    "df = df.dropna()"
   ]
  },
  {
   "cell_type": "code",
   "execution_count": 22,
   "id": "e1d3b56b",
   "metadata": {},
   "outputs": [
    {
     "data": {
      "text/plain": [
       "0"
      ]
     },
     "execution_count": 22,
     "metadata": {},
     "output_type": "execute_result"
    }
   ],
   "source": [
    "df.isnull().values.any()\n",
    "df.isnull().sum()"
   ]
  },
  {
   "cell_type": "code",
   "execution_count": 12,
   "id": "1ed2f240",
   "metadata": {},
   "outputs": [
    {
     "name": "stdout",
     "output_type": "stream",
     "text": [
      "Model: \"sequential\"\n",
      "_________________________________________________________________\n",
      " Layer (type)                Output Shape              Param #   \n",
      "=================================================================\n",
      " embedding (Embedding)       (None, 100, 100)          11683700  \n",
      "                                                                 \n",
      " conv1d (Conv1D)             (None, 99, 32)            6432      \n",
      "                                                                 \n",
      " max_pooling1d (MaxPooling1D  (None, 49, 32)           0         \n",
      " )                                                               \n",
      "                                                                 \n",
      " conv1d_1 (Conv1D)           (None, 48, 32)            2080      \n",
      "                                                                 \n",
      " dropout (Dropout)           (None, 48, 32)            0         \n",
      "                                                                 \n",
      " conv1d_2 (Conv1D)           (None, 47, 16)            1040      \n",
      "                                                                 \n",
      " max_pooling1d_1 (MaxPooling  (None, 23, 16)           0         \n",
      " 1D)                                                             \n",
      "                                                                 \n",
      " conv1d_3 (Conv1D)           (None, 22, 16)            528       \n",
      "                                                                 \n",
      " dropout_1 (Dropout)         (None, 22, 16)            0         \n",
      "                                                                 \n",
      " flatten (Flatten)           (None, 352)               0         \n",
      "                                                                 \n",
      " dense (Dense)               (None, 64)                22592     \n",
      "                                                                 \n",
      " dropout_2 (Dropout)         (None, 64)                0         \n",
      "                                                                 \n",
      " dense_1 (Dense)             (None, 3)                 195       \n",
      "                                                                 \n",
      "=================================================================\n",
      "Total params: 11,716,567\n",
      "Trainable params: 11,716,567\n",
      "Non-trainable params: 0\n",
      "_________________________________________________________________\n",
      "None\n"
     ]
    }
   ],
   "source": [
    "# use the pretrained model \n",
    "model = load_model('model/cnnkeras.h5', compile=False)\n",
    "model.compile(optimizer=\"adam\",\n",
    "                loss='categorical_crossentropy',\n",
    "                metrics=['accuracy'])\n",
    "\n",
    "# Print the summary\n",
    "print(model.summary())"
   ]
  },
  {
   "cell_type": "code",
   "execution_count": 18,
   "id": "eded05fd",
   "metadata": {},
   "outputs": [
    {
     "data": {
      "text/plain": [
       "array(['chatgpt optimizing language models dialogue openai',\n",
       "       'try talking chatgpt new optimized dialogue feedback help improve',\n",
       "       'chatgpt optimizing language models dialogue machinelearning datascience artificialintelligencenntrending aiml article identified amp digested granola machinedriven rss bot ramsey elbasheer',\n",
       "       ..., 'chatgpt disassembled dissemble',\n",
       "       'predictions chatgpt specific trends past years nshould topic days',\n",
       "       'chatgpt neat stuff'], dtype=object)"
      ]
     },
     "execution_count": 18,
     "metadata": {},
     "output_type": "execute_result"
    }
   ],
   "source": [
    "df.values"
   ]
  },
  {
   "cell_type": "code",
   "execution_count": 23,
   "id": "86544acb",
   "metadata": {},
   "outputs": [],
   "source": [
    "tokenizer = Tokenizer(num_words=50000)\n",
    "tokenizer.fit_on_texts(df.values)\n",
    "\n",
    "tweets = tokenizer.texts_to_sequences(df)\n",
    "\n",
    "vocab_size = len(tokenizer.word_index) + 1\n",
    "maxlen = 100\n",
    "\n",
    "tweets = pad_sequences(tweets, padding='post', maxlen=maxlen)\n",
    "\n",
    "word_index = tokenizer.word_index"
   ]
  },
  {
   "cell_type": "code",
   "execution_count": 24,
   "id": "b034ecc8",
   "metadata": {},
   "outputs": [
    {
     "name": "stdout",
     "output_type": "stream",
     "text": [
      "6853/6853 [==============================] - 49023s 7s/step\n"
     ]
    }
   ],
   "source": [
    "# we have that :\n",
    "# 2    positiv\n",
    "# 1    neutral\n",
    "# 0    negativ\n",
    "pred = np.argmax(model.predict(tweets), axis=-1)"
   ]
  },
  {
   "cell_type": "code",
   "execution_count": 25,
   "id": "05030b85",
   "metadata": {},
   "outputs": [
    {
     "data": {
      "text/plain": [
       "array([0, 2, 2, ..., 0, 1, 1], dtype=int64)"
      ]
     },
     "execution_count": 25,
     "metadata": {},
     "output_type": "execute_result"
    }
   ],
   "source": [
    "pred"
   ]
  },
  {
   "cell_type": "code",
   "execution_count": 26,
   "id": "d4fa1044",
   "metadata": {},
   "outputs": [
    {
     "data": {
      "text/plain": [
       "219280"
      ]
     },
     "execution_count": 26,
     "metadata": {},
     "output_type": "execute_result"
    }
   ],
   "source": [
    "len(pred)"
   ]
  },
  {
   "cell_type": "code",
   "execution_count": 27,
   "id": "f54d014f",
   "metadata": {},
   "outputs": [
    {
     "data": {
      "text/plain": [
       "219280"
      ]
     },
     "execution_count": 27,
     "metadata": {},
     "output_type": "execute_result"
    }
   ],
   "source": [
    "len(tweets)"
   ]
  },
  {
   "cell_type": "code",
   "execution_count": 28,
   "id": "c7eb012c",
   "metadata": {},
   "outputs": [
    {
     "data": {
      "text/plain": [
       "array([[    1,  1211,    31, ...,     0,     0,     0],\n",
       "       [   72,   114,     1, ...,     0,     0,     0],\n",
       "       [    1,  1211,    31, ...,     0,     0,     0],\n",
       "       ...,\n",
       "       [    1, 33731, 35798, ...,     0,     0,     0],\n",
       "       [  944,     1,   376, ...,     0,     0,     0],\n",
       "       [    1,  2018,   164, ...,     0,     0,     0]])"
      ]
     },
     "execution_count": 28,
     "metadata": {},
     "output_type": "execute_result"
    }
   ],
   "source": [
    "tweets"
   ]
  },
  {
   "cell_type": "code",
   "execution_count": 29,
   "id": "fd5aad4f",
   "metadata": {},
   "outputs": [
    {
     "data": {
      "text/plain": [
       "0         chatgpt optimizing language models dialogue op...\n",
       "1         try talking chatgpt new optimized dialogue fee...\n",
       "2         chatgpt optimizing language models dialogue ma...\n",
       "3         thrilled share chatgpt new model optimized dia...\n",
       "4         minutes ago openai released new chatgpt nnand ...\n",
       "                                ...                        \n",
       "219289           software projects trying replicate chatgpt\n",
       "219290    asked chatgpt write nye joke seos delivered nn...\n",
       "219291                       chatgpt disassembled dissemble\n",
       "219292    predictions chatgpt specific trends past years...\n",
       "219293                                   chatgpt neat stuff\n",
       "Name: tweet, Length: 219280, dtype: object"
      ]
     },
     "execution_count": 29,
     "metadata": {},
     "output_type": "execute_result"
    }
   ],
   "source": [
    "df"
   ]
  },
  {
   "cell_type": "code",
   "execution_count": 30,
   "id": "796bdf1e",
   "metadata": {},
   "outputs": [
    {
     "data": {
      "text/plain": [
       "219280"
      ]
     },
     "execution_count": 30,
     "metadata": {},
     "output_type": "execute_result"
    }
   ],
   "source": [
    "len(df)"
   ]
  },
  {
   "cell_type": "code",
   "execution_count": 41,
   "id": "c8c14940",
   "metadata": {},
   "outputs": [],
   "source": [
    "data = df.values"
   ]
  },
  {
   "cell_type": "code",
   "execution_count": 42,
   "id": "bd0b6907",
   "metadata": {},
   "outputs": [],
   "source": [
    "dataframe = {'tweets': data, 'label': pred}"
   ]
  },
  {
   "cell_type": "code",
   "execution_count": 55,
   "id": "a4f77b76",
   "metadata": {},
   "outputs": [],
   "source": [
    "result = pd.DataFrame(dataframe)"
   ]
  },
  {
   "cell_type": "code",
   "execution_count": 56,
   "id": "ce337d13",
   "metadata": {},
   "outputs": [
    {
     "data": {
      "text/html": [
       "<div>\n",
       "<style scoped>\n",
       "    .dataframe tbody tr th:only-of-type {\n",
       "        vertical-align: middle;\n",
       "    }\n",
       "\n",
       "    .dataframe tbody tr th {\n",
       "        vertical-align: top;\n",
       "    }\n",
       "\n",
       "    .dataframe thead th {\n",
       "        text-align: right;\n",
       "    }\n",
       "</style>\n",
       "<table border=\"1\" class=\"dataframe\">\n",
       "  <thead>\n",
       "    <tr style=\"text-align: right;\">\n",
       "      <th></th>\n",
       "      <th>tweets</th>\n",
       "      <th>label</th>\n",
       "    </tr>\n",
       "  </thead>\n",
       "  <tbody>\n",
       "    <tr>\n",
       "      <th>0</th>\n",
       "      <td>chatgpt optimizing language models dialogue op...</td>\n",
       "      <td>0</td>\n",
       "    </tr>\n",
       "    <tr>\n",
       "      <th>1</th>\n",
       "      <td>try talking chatgpt new optimized dialogue fee...</td>\n",
       "      <td>2</td>\n",
       "    </tr>\n",
       "    <tr>\n",
       "      <th>2</th>\n",
       "      <td>chatgpt optimizing language models dialogue ma...</td>\n",
       "      <td>2</td>\n",
       "    </tr>\n",
       "    <tr>\n",
       "      <th>3</th>\n",
       "      <td>thrilled share chatgpt new model optimized dia...</td>\n",
       "      <td>1</td>\n",
       "    </tr>\n",
       "    <tr>\n",
       "      <th>4</th>\n",
       "      <td>minutes ago openai released new chatgpt nnand ...</td>\n",
       "      <td>1</td>\n",
       "    </tr>\n",
       "    <tr>\n",
       "      <th>...</th>\n",
       "      <td>...</td>\n",
       "      <td>...</td>\n",
       "    </tr>\n",
       "    <tr>\n",
       "      <th>219275</th>\n",
       "      <td>software projects trying replicate chatgpt</td>\n",
       "      <td>0</td>\n",
       "    </tr>\n",
       "    <tr>\n",
       "      <th>219276</th>\n",
       "      <td>asked chatgpt write nye joke seos delivered nn...</td>\n",
       "      <td>1</td>\n",
       "    </tr>\n",
       "    <tr>\n",
       "      <th>219277</th>\n",
       "      <td>chatgpt disassembled dissemble</td>\n",
       "      <td>0</td>\n",
       "    </tr>\n",
       "    <tr>\n",
       "      <th>219278</th>\n",
       "      <td>predictions chatgpt specific trends past years...</td>\n",
       "      <td>1</td>\n",
       "    </tr>\n",
       "    <tr>\n",
       "      <th>219279</th>\n",
       "      <td>chatgpt neat stuff</td>\n",
       "      <td>1</td>\n",
       "    </tr>\n",
       "  </tbody>\n",
       "</table>\n",
       "<p>219280 rows × 2 columns</p>\n",
       "</div>"
      ],
      "text/plain": [
       "                                                   tweets  label\n",
       "0       chatgpt optimizing language models dialogue op...      0\n",
       "1       try talking chatgpt new optimized dialogue fee...      2\n",
       "2       chatgpt optimizing language models dialogue ma...      2\n",
       "3       thrilled share chatgpt new model optimized dia...      1\n",
       "4       minutes ago openai released new chatgpt nnand ...      1\n",
       "...                                                   ...    ...\n",
       "219275         software projects trying replicate chatgpt      0\n",
       "219276  asked chatgpt write nye joke seos delivered nn...      1\n",
       "219277                     chatgpt disassembled dissemble      0\n",
       "219278  predictions chatgpt specific trends past years...      1\n",
       "219279                                 chatgpt neat stuff      1\n",
       "\n",
       "[219280 rows x 2 columns]"
      ]
     },
     "execution_count": 56,
     "metadata": {},
     "output_type": "execute_result"
    }
   ],
   "source": [
    "result"
   ]
  },
  {
   "cell_type": "code",
   "execution_count": 57,
   "id": "b5f1eee9",
   "metadata": {},
   "outputs": [
    {
     "data": {
      "text/plain": [
       "<bound method NDFrame.head of                                                    tweets  label\n",
       "0       chatgpt optimizing language models dialogue op...      0\n",
       "1       try talking chatgpt new optimized dialogue fee...      2\n",
       "2       chatgpt optimizing language models dialogue ma...      2\n",
       "3       thrilled share chatgpt new model optimized dia...      1\n",
       "4       minutes ago openai released new chatgpt nnand ...      1\n",
       "...                                                   ...    ...\n",
       "219275         software projects trying replicate chatgpt      0\n",
       "219276  asked chatgpt write nye joke seos delivered nn...      1\n",
       "219277                     chatgpt disassembled dissemble      0\n",
       "219278  predictions chatgpt specific trends past years...      1\n",
       "219279                                 chatgpt neat stuff      1\n",
       "\n",
       "[219280 rows x 2 columns]>"
      ]
     },
     "execution_count": 57,
     "metadata": {},
     "output_type": "execute_result"
    }
   ],
   "source": [
    "result.head"
   ]
  },
  {
   "cell_type": "code",
   "execution_count": 60,
   "id": "7e6d682a",
   "metadata": {},
   "outputs": [],
   "source": [
    "result['label'] = result['label'].replace({0: 'negativ', 1: 'neutral', 2: 'positiv'})"
   ]
  },
  {
   "cell_type": "code",
   "execution_count": 61,
   "id": "4b36f065",
   "metadata": {},
   "outputs": [
    {
     "data": {
      "text/html": [
       "<div>\n",
       "<style scoped>\n",
       "    .dataframe tbody tr th:only-of-type {\n",
       "        vertical-align: middle;\n",
       "    }\n",
       "\n",
       "    .dataframe tbody tr th {\n",
       "        vertical-align: top;\n",
       "    }\n",
       "\n",
       "    .dataframe thead th {\n",
       "        text-align: right;\n",
       "    }\n",
       "</style>\n",
       "<table border=\"1\" class=\"dataframe\">\n",
       "  <thead>\n",
       "    <tr style=\"text-align: right;\">\n",
       "      <th></th>\n",
       "      <th>tweets</th>\n",
       "      <th>label</th>\n",
       "    </tr>\n",
       "  </thead>\n",
       "  <tbody>\n",
       "    <tr>\n",
       "      <th>0</th>\n",
       "      <td>chatgpt optimizing language models dialogue op...</td>\n",
       "      <td>negativ</td>\n",
       "    </tr>\n",
       "    <tr>\n",
       "      <th>1</th>\n",
       "      <td>try talking chatgpt new optimized dialogue fee...</td>\n",
       "      <td>positiv</td>\n",
       "    </tr>\n",
       "    <tr>\n",
       "      <th>2</th>\n",
       "      <td>chatgpt optimizing language models dialogue ma...</td>\n",
       "      <td>positiv</td>\n",
       "    </tr>\n",
       "    <tr>\n",
       "      <th>3</th>\n",
       "      <td>thrilled share chatgpt new model optimized dia...</td>\n",
       "      <td>neutral</td>\n",
       "    </tr>\n",
       "    <tr>\n",
       "      <th>4</th>\n",
       "      <td>minutes ago openai released new chatgpt nnand ...</td>\n",
       "      <td>neutral</td>\n",
       "    </tr>\n",
       "    <tr>\n",
       "      <th>...</th>\n",
       "      <td>...</td>\n",
       "      <td>...</td>\n",
       "    </tr>\n",
       "    <tr>\n",
       "      <th>219275</th>\n",
       "      <td>software projects trying replicate chatgpt</td>\n",
       "      <td>negativ</td>\n",
       "    </tr>\n",
       "    <tr>\n",
       "      <th>219276</th>\n",
       "      <td>asked chatgpt write nye joke seos delivered nn...</td>\n",
       "      <td>neutral</td>\n",
       "    </tr>\n",
       "    <tr>\n",
       "      <th>219277</th>\n",
       "      <td>chatgpt disassembled dissemble</td>\n",
       "      <td>negativ</td>\n",
       "    </tr>\n",
       "    <tr>\n",
       "      <th>219278</th>\n",
       "      <td>predictions chatgpt specific trends past years...</td>\n",
       "      <td>neutral</td>\n",
       "    </tr>\n",
       "    <tr>\n",
       "      <th>219279</th>\n",
       "      <td>chatgpt neat stuff</td>\n",
       "      <td>neutral</td>\n",
       "    </tr>\n",
       "  </tbody>\n",
       "</table>\n",
       "<p>219280 rows × 2 columns</p>\n",
       "</div>"
      ],
      "text/plain": [
       "                                                   tweets    label\n",
       "0       chatgpt optimizing language models dialogue op...  negativ\n",
       "1       try talking chatgpt new optimized dialogue fee...  positiv\n",
       "2       chatgpt optimizing language models dialogue ma...  positiv\n",
       "3       thrilled share chatgpt new model optimized dia...  neutral\n",
       "4       minutes ago openai released new chatgpt nnand ...  neutral\n",
       "...                                                   ...      ...\n",
       "219275         software projects trying replicate chatgpt  negativ\n",
       "219276  asked chatgpt write nye joke seos delivered nn...  neutral\n",
       "219277                     chatgpt disassembled dissemble  negativ\n",
       "219278  predictions chatgpt specific trends past years...  neutral\n",
       "219279                                 chatgpt neat stuff  neutral\n",
       "\n",
       "[219280 rows x 2 columns]"
      ]
     },
     "execution_count": 61,
     "metadata": {},
     "output_type": "execute_result"
    }
   ],
   "source": [
    "result"
   ]
  },
  {
   "cell_type": "code",
   "execution_count": 62,
   "id": "238a1157",
   "metadata": {},
   "outputs": [],
   "source": [
    "result.to_csv('datasets/sentiment_chatgptfirst.csv')"
   ]
  },
  {
   "cell_type": "markdown",
   "id": "f71e215b",
   "metadata": {},
   "source": [
    "### Predicting sentiment of last two months of release of chatGPT"
   ]
  },
  {
   "cell_type": "code",
   "execution_count": 63,
   "id": "c4b71efa",
   "metadata": {},
   "outputs": [],
   "source": [
    "df = pd.read_csv('datasets/preprocessed_chatgpt2last.csv')"
   ]
  },
  {
   "cell_type": "code",
   "execution_count": 64,
   "id": "490647ca",
   "metadata": {},
   "outputs": [
    {
     "data": {
      "text/plain": [
       "<bound method NDFrame.head of         Unnamed: 0                                               text\n",
       "0              153  fake chatgpts flood app store chatgpt appstore...\n",
       "1              154  republicans release aigenerated attack preside...\n",
       "2              155  sell rsi bybit recommendation short ticker zrx...\n",
       "3              156  interesting chatgpt kept failing test promptge...\n",
       "4              157  favourite chatgpt prompt day day act end devel...\n",
       "...            ...                                                ...\n",
       "188573      190488  good bad ugly typical chatgpt video chatgpt mi...\n",
       "188574      190489  check new free tradingstrategy chatgpt alligat...\n",
       "188575      190490                             new enemy todaychatgpt\n",
       "188576      190491  cutie girl degenai altcoins altcoin degenai ge...\n",
       "188577      190492  degenai amazing instant chat bot fast generate...\n",
       "\n",
       "[188578 rows x 2 columns]>"
      ]
     },
     "execution_count": 64,
     "metadata": {},
     "output_type": "execute_result"
    }
   ],
   "source": [
    "df.head"
   ]
  },
  {
   "cell_type": "code",
   "execution_count": 65,
   "id": "7ca3aa97",
   "metadata": {},
   "outputs": [
    {
     "data": {
      "text/plain": [
       "Unnamed: 0    0\n",
       "text          3\n",
       "dtype: int64"
      ]
     },
     "execution_count": 65,
     "metadata": {},
     "output_type": "execute_result"
    }
   ],
   "source": [
    "# check if there is any NaN value\n",
    "\n",
    "df.isnull().values.any()\n",
    "df.isnull().sum()"
   ]
  },
  {
   "cell_type": "code",
   "execution_count": 66,
   "id": "cf8cb5d8",
   "metadata": {},
   "outputs": [],
   "source": [
    "# drop the NaN values if any\n",
    "\n",
    "df = df.dropna()"
   ]
  },
  {
   "cell_type": "code",
   "execution_count": 67,
   "id": "a7af030b",
   "metadata": {},
   "outputs": [
    {
     "data": {
      "text/plain": [
       "Unnamed: 0    0\n",
       "text          0\n",
       "dtype: int64"
      ]
     },
     "execution_count": 67,
     "metadata": {},
     "output_type": "execute_result"
    }
   ],
   "source": [
    "df.isnull().values.any()\n",
    "df.isnull().sum()"
   ]
  },
  {
   "cell_type": "code",
   "execution_count": 68,
   "id": "dce151de",
   "metadata": {},
   "outputs": [
    {
     "data": {
      "text/plain": [
       "Index(['Unnamed: 0', 'text'], dtype='object')"
      ]
     },
     "execution_count": 68,
     "metadata": {},
     "output_type": "execute_result"
    }
   ],
   "source": [
    "df.columns"
   ]
  },
  {
   "cell_type": "code",
   "execution_count": 69,
   "id": "0640ec90",
   "metadata": {},
   "outputs": [],
   "source": [
    "df = df.drop('Unnamed: 0', axis=1)"
   ]
  },
  {
   "cell_type": "code",
   "execution_count": 70,
   "id": "2f76587f",
   "metadata": {},
   "outputs": [
    {
     "data": {
      "text/plain": [
       "Index(['text'], dtype='object')"
      ]
     },
     "execution_count": 70,
     "metadata": {},
     "output_type": "execute_result"
    }
   ],
   "source": [
    "df.columns"
   ]
  },
  {
   "cell_type": "code",
   "execution_count": 71,
   "id": "35381931",
   "metadata": {},
   "outputs": [
    {
     "data": {
      "text/plain": [
       "<bound method NDFrame.head of                                                      text\n",
       "0       fake chatgpts flood app store chatgpt appstore...\n",
       "1       republicans release aigenerated attack preside...\n",
       "2       sell rsi bybit recommendation short ticker zrx...\n",
       "3       interesting chatgpt kept failing test promptge...\n",
       "4       favourite chatgpt prompt day day act end devel...\n",
       "...                                                   ...\n",
       "188573  good bad ugly typical chatgpt video chatgpt mi...\n",
       "188574  check new free tradingstrategy chatgpt alligat...\n",
       "188575                             new enemy todaychatgpt\n",
       "188576  cutie girl degenai altcoins altcoin degenai ge...\n",
       "188577  degenai amazing instant chat bot fast generate...\n",
       "\n",
       "[188575 rows x 1 columns]>"
      ]
     },
     "execution_count": 71,
     "metadata": {},
     "output_type": "execute_result"
    }
   ],
   "source": [
    "df.head"
   ]
  },
  {
   "cell_type": "code",
   "execution_count": 74,
   "id": "2ab90393",
   "metadata": {},
   "outputs": [
    {
     "data": {
      "text/plain": [
       "text    0\n",
       "dtype: int64"
      ]
     },
     "execution_count": 74,
     "metadata": {},
     "output_type": "execute_result"
    }
   ],
   "source": [
    "df.isnull().values.any()\n",
    "df.isnull().sum()"
   ]
  },
  {
   "cell_type": "code",
   "execution_count": 91,
   "id": "71cc0a91",
   "metadata": {},
   "outputs": [
    {
     "name": "stdout",
     "output_type": "stream",
     "text": [
      "Model: \"sequential\"\n",
      "_________________________________________________________________\n",
      " Layer (type)                Output Shape              Param #   \n",
      "=================================================================\n",
      " embedding (Embedding)       (None, 100, 100)          11683700  \n",
      "                                                                 \n",
      " conv1d (Conv1D)             (None, 99, 32)            6432      \n",
      "                                                                 \n",
      " max_pooling1d (MaxPooling1D  (None, 49, 32)           0         \n",
      " )                                                               \n",
      "                                                                 \n",
      " conv1d_1 (Conv1D)           (None, 48, 32)            2080      \n",
      "                                                                 \n",
      " dropout (Dropout)           (None, 48, 32)            0         \n",
      "                                                                 \n",
      " conv1d_2 (Conv1D)           (None, 47, 16)            1040      \n",
      "                                                                 \n",
      " max_pooling1d_1 (MaxPooling  (None, 23, 16)           0         \n",
      " 1D)                                                             \n",
      "                                                                 \n",
      " conv1d_3 (Conv1D)           (None, 22, 16)            528       \n",
      "                                                                 \n",
      " dropout_1 (Dropout)         (None, 22, 16)            0         \n",
      "                                                                 \n",
      " flatten (Flatten)           (None, 352)               0         \n",
      "                                                                 \n",
      " dense (Dense)               (None, 64)                22592     \n",
      "                                                                 \n",
      " dropout_2 (Dropout)         (None, 64)                0         \n",
      "                                                                 \n",
      " dense_1 (Dense)             (None, 3)                 195       \n",
      "                                                                 \n",
      "=================================================================\n",
      "Total params: 11,716,567\n",
      "Trainable params: 11,716,567\n",
      "Non-trainable params: 0\n",
      "_________________________________________________________________\n",
      "None\n"
     ]
    }
   ],
   "source": [
    "# use the pretrained model \n",
    "model = load_model('model/cnnkeras.h5', compile=False)\n",
    "model.compile(optimizer=\"adam\",\n",
    "                loss='categorical_crossentropy',\n",
    "                metrics=['accuracy'])\n",
    "\n",
    "# Print the summary\n",
    "print(model.summary())"
   ]
  },
  {
   "cell_type": "code",
   "execution_count": 81,
   "id": "6235e9ae",
   "metadata": {},
   "outputs": [
    {
     "data": {
      "text/plain": [
       "array([['fake chatgpts flood app store chatgpt appstore apple chatgptnews gpt artificialintelligence ainews aiupdate appstorescam applescam dailynews'],\n",
       "       ['republicans release aigenerated attack president biden twiceweekly news guide tracks largelanguagemodels useful tools chatgpt bard bing update sunday'],\n",
       "       ['sell rsi bybit recommendation short ticker zrxusdt minute candle price rsi powered chatgpt zrx zrx'],\n",
       "       ...,\n",
       "       ['new enemy todaychatgpt'],\n",
       "       ['cutie girl degenai altcoins altcoin degenai gems imgnai crypto cai cryptoai chatgpt cryptocurrency'],\n",
       "       ['degenai amazing instant chat bot fast generated words degenai altcoins altcoin degenai gems imgnai crypto cai cryptoai chatgpt cryptocurrency']],\n",
       "      dtype=object)"
      ]
     },
     "execution_count": 81,
     "metadata": {},
     "output_type": "execute_result"
    }
   ],
   "source": [
    "df.values"
   ]
  },
  {
   "cell_type": "code",
   "execution_count": 101,
   "id": "258062e8",
   "metadata": {},
   "outputs": [
    {
     "data": {
      "text/plain": [
       "188575"
      ]
     },
     "execution_count": 101,
     "metadata": {},
     "output_type": "execute_result"
    }
   ],
   "source": [
    "len(df)"
   ]
  },
  {
   "cell_type": "code",
   "execution_count": 89,
   "id": "846c495b",
   "metadata": {},
   "outputs": [
    {
     "data": {
      "text/plain": [
       "188575"
      ]
     },
     "execution_count": 89,
     "metadata": {},
     "output_type": "execute_result"
    }
   ],
   "source": [
    "len(df.values)"
   ]
  },
  {
   "cell_type": "code",
   "execution_count": 87,
   "id": "5b90e0dd",
   "metadata": {},
   "outputs": [],
   "source": [
    "temp = df.values.ravel()"
   ]
  },
  {
   "cell_type": "code",
   "execution_count": 88,
   "id": "c51b3e1e",
   "metadata": {},
   "outputs": [
    {
     "data": {
      "text/plain": [
       "188575"
      ]
     },
     "execution_count": 88,
     "metadata": {},
     "output_type": "execute_result"
    }
   ],
   "source": [
    "len(temp)"
   ]
  },
  {
   "cell_type": "code",
   "execution_count": 90,
   "id": "d5150471",
   "metadata": {},
   "outputs": [
    {
     "data": {
      "text/plain": [
       "numpy.ndarray"
      ]
     },
     "execution_count": 90,
     "metadata": {},
     "output_type": "execute_result"
    }
   ],
   "source": [
    "type(temp)"
   ]
  },
  {
   "cell_type": "code",
   "execution_count": 97,
   "id": "977cbf23",
   "metadata": {},
   "outputs": [],
   "source": [
    "tokenizer = Tokenizer(num_words=50000)\n",
    "tokenizer.fit_on_texts(temp)\n",
    "\n",
    "tweets = tokenizer.texts_to_sequences(df.values.ravel())\n",
    "\n",
    "vocab_size = len(tokenizer.word_index) + 1\n",
    "maxlen = 100\n",
    "\n",
    "tweets = pad_sequences(tweets, padding='post', maxlen=maxlen)\n",
    "\n",
    "word_index = tokenizer.word_index"
   ]
  },
  {
   "cell_type": "code",
   "execution_count": 98,
   "id": "e4771370",
   "metadata": {},
   "outputs": [
    {
     "data": {
      "text/plain": [
       "array([[  362,   286,  6541, ...,     0,     0,     0],\n",
       "       [ 8370,   514,   583, ...,     0,     0,     0],\n",
       "       [  161,    19,   137, ...,     0,     0,     0],\n",
       "       ...,\n",
       "       [    6,  6688, 38362, ...,     0,     0,     0],\n",
       "       [34872,  2281,  2122, ...,     0,     0,     0],\n",
       "       [ 2122,   110,  2048, ...,     0,     0,     0]])"
      ]
     },
     "execution_count": 98,
     "metadata": {},
     "output_type": "execute_result"
    }
   ],
   "source": [
    "tweets"
   ]
  },
  {
   "cell_type": "code",
   "execution_count": 99,
   "id": "4a269967",
   "metadata": {},
   "outputs": [
    {
     "name": "stdout",
     "output_type": "stream",
     "text": [
      "5893/5893 [==============================] - 26s 4ms/step\n"
     ]
    }
   ],
   "source": [
    "# we have that :\n",
    "# 2    positiv\n",
    "# 1    neutral\n",
    "# 0    negativ\n",
    "pred = np.argmax(model.predict(tweets), axis=-1)"
   ]
  },
  {
   "cell_type": "code",
   "execution_count": 100,
   "id": "ac1aa7b9",
   "metadata": {},
   "outputs": [
    {
     "data": {
      "text/plain": [
       "array([0, 2, 2, ..., 0, 1, 2], dtype=int64)"
      ]
     },
     "execution_count": 100,
     "metadata": {},
     "output_type": "execute_result"
    }
   ],
   "source": [
    "pred"
   ]
  },
  {
   "cell_type": "code",
   "execution_count": 102,
   "id": "20b29089",
   "metadata": {},
   "outputs": [
    {
     "data": {
      "text/plain": [
       "188575"
      ]
     },
     "execution_count": 102,
     "metadata": {},
     "output_type": "execute_result"
    }
   ],
   "source": [
    "len(pred)"
   ]
  },
  {
   "cell_type": "code",
   "execution_count": 105,
   "id": "75b1adfa",
   "metadata": {},
   "outputs": [],
   "source": [
    "data = df.values.ravel()"
   ]
  },
  {
   "cell_type": "code",
   "execution_count": 106,
   "id": "ce38214a",
   "metadata": {},
   "outputs": [],
   "source": [
    "dataframe = {'tweets': data, 'label': pred}"
   ]
  },
  {
   "cell_type": "code",
   "execution_count": 107,
   "id": "18643b09",
   "metadata": {},
   "outputs": [],
   "source": [
    "result = pd.DataFrame(dataframe)"
   ]
  },
  {
   "cell_type": "code",
   "execution_count": 108,
   "id": "2e4430f6",
   "metadata": {},
   "outputs": [
    {
     "data": {
      "text/html": [
       "<div>\n",
       "<style scoped>\n",
       "    .dataframe tbody tr th:only-of-type {\n",
       "        vertical-align: middle;\n",
       "    }\n",
       "\n",
       "    .dataframe tbody tr th {\n",
       "        vertical-align: top;\n",
       "    }\n",
       "\n",
       "    .dataframe thead th {\n",
       "        text-align: right;\n",
       "    }\n",
       "</style>\n",
       "<table border=\"1\" class=\"dataframe\">\n",
       "  <thead>\n",
       "    <tr style=\"text-align: right;\">\n",
       "      <th></th>\n",
       "      <th>tweets</th>\n",
       "      <th>label</th>\n",
       "    </tr>\n",
       "  </thead>\n",
       "  <tbody>\n",
       "    <tr>\n",
       "      <th>0</th>\n",
       "      <td>fake chatgpts flood app store chatgpt appstore...</td>\n",
       "      <td>0</td>\n",
       "    </tr>\n",
       "    <tr>\n",
       "      <th>1</th>\n",
       "      <td>republicans release aigenerated attack preside...</td>\n",
       "      <td>2</td>\n",
       "    </tr>\n",
       "    <tr>\n",
       "      <th>2</th>\n",
       "      <td>sell rsi bybit recommendation short ticker zrx...</td>\n",
       "      <td>2</td>\n",
       "    </tr>\n",
       "    <tr>\n",
       "      <th>3</th>\n",
       "      <td>interesting chatgpt kept failing test promptge...</td>\n",
       "      <td>2</td>\n",
       "    </tr>\n",
       "    <tr>\n",
       "      <th>4</th>\n",
       "      <td>favourite chatgpt prompt day day act end devel...</td>\n",
       "      <td>1</td>\n",
       "    </tr>\n",
       "    <tr>\n",
       "      <th>...</th>\n",
       "      <td>...</td>\n",
       "      <td>...</td>\n",
       "    </tr>\n",
       "    <tr>\n",
       "      <th>188570</th>\n",
       "      <td>good bad ugly typical chatgpt video chatgpt mi...</td>\n",
       "      <td>1</td>\n",
       "    </tr>\n",
       "    <tr>\n",
       "      <th>188571</th>\n",
       "      <td>check new free tradingstrategy chatgpt alligat...</td>\n",
       "      <td>2</td>\n",
       "    </tr>\n",
       "    <tr>\n",
       "      <th>188572</th>\n",
       "      <td>new enemy todaychatgpt</td>\n",
       "      <td>0</td>\n",
       "    </tr>\n",
       "    <tr>\n",
       "      <th>188573</th>\n",
       "      <td>cutie girl degenai altcoins altcoin degenai ge...</td>\n",
       "      <td>1</td>\n",
       "    </tr>\n",
       "    <tr>\n",
       "      <th>188574</th>\n",
       "      <td>degenai amazing instant chat bot fast generate...</td>\n",
       "      <td>2</td>\n",
       "    </tr>\n",
       "  </tbody>\n",
       "</table>\n",
       "<p>188575 rows × 2 columns</p>\n",
       "</div>"
      ],
      "text/plain": [
       "                                                   tweets  label\n",
       "0       fake chatgpts flood app store chatgpt appstore...      0\n",
       "1       republicans release aigenerated attack preside...      2\n",
       "2       sell rsi bybit recommendation short ticker zrx...      2\n",
       "3       interesting chatgpt kept failing test promptge...      2\n",
       "4       favourite chatgpt prompt day day act end devel...      1\n",
       "...                                                   ...    ...\n",
       "188570  good bad ugly typical chatgpt video chatgpt mi...      1\n",
       "188571  check new free tradingstrategy chatgpt alligat...      2\n",
       "188572                             new enemy todaychatgpt      0\n",
       "188573  cutie girl degenai altcoins altcoin degenai ge...      1\n",
       "188574  degenai amazing instant chat bot fast generate...      2\n",
       "\n",
       "[188575 rows x 2 columns]"
      ]
     },
     "execution_count": 108,
     "metadata": {},
     "output_type": "execute_result"
    }
   ],
   "source": [
    "result"
   ]
  },
  {
   "cell_type": "code",
   "execution_count": 109,
   "id": "ba91adf9",
   "metadata": {},
   "outputs": [],
   "source": [
    "result['label'] = result['label'].replace({0: 'negativ', 1: 'neutral', 2: 'positiv'})"
   ]
  },
  {
   "cell_type": "code",
   "execution_count": 110,
   "id": "f0a1be5f",
   "metadata": {},
   "outputs": [
    {
     "data": {
      "text/html": [
       "<div>\n",
       "<style scoped>\n",
       "    .dataframe tbody tr th:only-of-type {\n",
       "        vertical-align: middle;\n",
       "    }\n",
       "\n",
       "    .dataframe tbody tr th {\n",
       "        vertical-align: top;\n",
       "    }\n",
       "\n",
       "    .dataframe thead th {\n",
       "        text-align: right;\n",
       "    }\n",
       "</style>\n",
       "<table border=\"1\" class=\"dataframe\">\n",
       "  <thead>\n",
       "    <tr style=\"text-align: right;\">\n",
       "      <th></th>\n",
       "      <th>tweets</th>\n",
       "      <th>label</th>\n",
       "    </tr>\n",
       "  </thead>\n",
       "  <tbody>\n",
       "    <tr>\n",
       "      <th>0</th>\n",
       "      <td>fake chatgpts flood app store chatgpt appstore...</td>\n",
       "      <td>negativ</td>\n",
       "    </tr>\n",
       "    <tr>\n",
       "      <th>1</th>\n",
       "      <td>republicans release aigenerated attack preside...</td>\n",
       "      <td>positiv</td>\n",
       "    </tr>\n",
       "    <tr>\n",
       "      <th>2</th>\n",
       "      <td>sell rsi bybit recommendation short ticker zrx...</td>\n",
       "      <td>positiv</td>\n",
       "    </tr>\n",
       "    <tr>\n",
       "      <th>3</th>\n",
       "      <td>interesting chatgpt kept failing test promptge...</td>\n",
       "      <td>positiv</td>\n",
       "    </tr>\n",
       "    <tr>\n",
       "      <th>4</th>\n",
       "      <td>favourite chatgpt prompt day day act end devel...</td>\n",
       "      <td>neutral</td>\n",
       "    </tr>\n",
       "    <tr>\n",
       "      <th>...</th>\n",
       "      <td>...</td>\n",
       "      <td>...</td>\n",
       "    </tr>\n",
       "    <tr>\n",
       "      <th>188570</th>\n",
       "      <td>good bad ugly typical chatgpt video chatgpt mi...</td>\n",
       "      <td>neutral</td>\n",
       "    </tr>\n",
       "    <tr>\n",
       "      <th>188571</th>\n",
       "      <td>check new free tradingstrategy chatgpt alligat...</td>\n",
       "      <td>positiv</td>\n",
       "    </tr>\n",
       "    <tr>\n",
       "      <th>188572</th>\n",
       "      <td>new enemy todaychatgpt</td>\n",
       "      <td>negativ</td>\n",
       "    </tr>\n",
       "    <tr>\n",
       "      <th>188573</th>\n",
       "      <td>cutie girl degenai altcoins altcoin degenai ge...</td>\n",
       "      <td>neutral</td>\n",
       "    </tr>\n",
       "    <tr>\n",
       "      <th>188574</th>\n",
       "      <td>degenai amazing instant chat bot fast generate...</td>\n",
       "      <td>positiv</td>\n",
       "    </tr>\n",
       "  </tbody>\n",
       "</table>\n",
       "<p>188575 rows × 2 columns</p>\n",
       "</div>"
      ],
      "text/plain": [
       "                                                   tweets    label\n",
       "0       fake chatgpts flood app store chatgpt appstore...  negativ\n",
       "1       republicans release aigenerated attack preside...  positiv\n",
       "2       sell rsi bybit recommendation short ticker zrx...  positiv\n",
       "3       interesting chatgpt kept failing test promptge...  positiv\n",
       "4       favourite chatgpt prompt day day act end devel...  neutral\n",
       "...                                                   ...      ...\n",
       "188570  good bad ugly typical chatgpt video chatgpt mi...  neutral\n",
       "188571  check new free tradingstrategy chatgpt alligat...  positiv\n",
       "188572                             new enemy todaychatgpt  negativ\n",
       "188573  cutie girl degenai altcoins altcoin degenai ge...  neutral\n",
       "188574  degenai amazing instant chat bot fast generate...  positiv\n",
       "\n",
       "[188575 rows x 2 columns]"
      ]
     },
     "execution_count": 110,
     "metadata": {},
     "output_type": "execute_result"
    }
   ],
   "source": [
    "result"
   ]
  },
  {
   "cell_type": "code",
   "execution_count": 111,
   "id": "4100bb8e",
   "metadata": {},
   "outputs": [],
   "source": [
    "result.to_csv('datasets/sentiment_chatgpt2last.csv')"
   ]
  },
  {
   "cell_type": "markdown",
   "id": "30367ffd",
   "metadata": {},
   "source": [
    "### Predicting the whole dataset of chatGPT"
   ]
  },
  {
   "cell_type": "code",
   "execution_count": 42,
   "id": "eeea5d8e",
   "metadata": {},
   "outputs": [],
   "source": [
    "df = pd.read_csv('datasets/preprocessed_chatgpt.csv', usecols=['text','user_description','date'])"
   ]
  },
  {
   "cell_type": "code",
   "execution_count": 43,
   "id": "8eda20a3",
   "metadata": {},
   "outputs": [
    {
     "data": {
      "text/html": [
       "<div>\n",
       "<style scoped>\n",
       "    .dataframe tbody tr th:only-of-type {\n",
       "        vertical-align: middle;\n",
       "    }\n",
       "\n",
       "    .dataframe tbody tr th {\n",
       "        vertical-align: top;\n",
       "    }\n",
       "\n",
       "    .dataframe thead th {\n",
       "        text-align: right;\n",
       "    }\n",
       "</style>\n",
       "<table border=\"1\" class=\"dataframe\">\n",
       "  <thead>\n",
       "    <tr style=\"text-align: right;\">\n",
       "      <th></th>\n",
       "      <th>user_description</th>\n",
       "      <th>text</th>\n",
       "      <th>date</th>\n",
       "    </tr>\n",
       "  </thead>\n",
       "  <tbody>\n",
       "    <tr>\n",
       "      <th>0</th>\n",
       "      <td>building draftmateai developer author chatgpt ...</td>\n",
       "      <td>happy share draftmateai support day free trial...</td>\n",
       "      <td>2023-04-26 13:02:16+00:00</td>\n",
       "    </tr>\n",
       "    <tr>\n",
       "      <th>1</th>\n",
       "      <td>nomadic marketing vigilante graphic web design...</td>\n",
       "      <td>integrate chatgpt marketo smart campaign disco...</td>\n",
       "      <td>2023-04-26 13:02:06+00:00</td>\n",
       "    </tr>\n",
       "    <tr>\n",
       "      <th>2</th>\n",
       "      <td>leading translation management platform locali...</td>\n",
       "      <td>pleased announce new patentpending technology ...</td>\n",
       "      <td>2023-04-26 13:02:05+00:00</td>\n",
       "    </tr>\n",
       "    <tr>\n",
       "      <th>3</th>\n",
       "      <td>engineering leader coach mentor building remot...</td>\n",
       "      <td>starting tire scolded chatgpt slight perceived...</td>\n",
       "      <td>2023-04-26 13:02:00+00:00</td>\n",
       "    </tr>\n",
       "    <tr>\n",
       "      <th>4</th>\n",
       "      <td>stop learning research develop uild future eyo...</td>\n",
       "      <td>spartajustice it notable wikipedia entry john ...</td>\n",
       "      <td>2023-04-26 13:01:52+00:00</td>\n",
       "    </tr>\n",
       "  </tbody>\n",
       "</table>\n",
       "</div>"
      ],
      "text/plain": [
       "                                    user_description  \\\n",
       "0  building draftmateai developer author chatgpt ...   \n",
       "1  nomadic marketing vigilante graphic web design...   \n",
       "2  leading translation management platform locali...   \n",
       "3  engineering leader coach mentor building remot...   \n",
       "4  stop learning research develop uild future eyo...   \n",
       "\n",
       "                                                text  \\\n",
       "0  happy share draftmateai support day free trial...   \n",
       "1  integrate chatgpt marketo smart campaign disco...   \n",
       "2  pleased announce new patentpending technology ...   \n",
       "3  starting tire scolded chatgpt slight perceived...   \n",
       "4  spartajustice it notable wikipedia entry john ...   \n",
       "\n",
       "                        date  \n",
       "0  2023-04-26 13:02:16+00:00  \n",
       "1  2023-04-26 13:02:06+00:00  \n",
       "2  2023-04-26 13:02:05+00:00  \n",
       "3  2023-04-26 13:02:00+00:00  \n",
       "4  2023-04-26 13:01:52+00:00  "
      ]
     },
     "execution_count": 43,
     "metadata": {},
     "output_type": "execute_result"
    }
   ],
   "source": [
    "df.head()"
   ]
  },
  {
   "cell_type": "code",
   "execution_count": 44,
   "id": "1711f6c9",
   "metadata": {},
   "outputs": [
    {
     "data": {
      "text/plain": [
       "374777"
      ]
     },
     "execution_count": 44,
     "metadata": {},
     "output_type": "execute_result"
    }
   ],
   "source": [
    "len(df)"
   ]
  },
  {
   "cell_type": "code",
   "execution_count": 46,
   "id": "5e5ce26f",
   "metadata": {},
   "outputs": [
    {
     "data": {
      "text/plain": [
       "user_description    5504\n",
       "text                   4\n",
       "date                   0\n",
       "dtype: int64"
      ]
     },
     "execution_count": 46,
     "metadata": {},
     "output_type": "execute_result"
    }
   ],
   "source": [
    "df.isnull().values.any()\n",
    "df.isnull().sum()"
   ]
  },
  {
   "cell_type": "code",
   "execution_count": 47,
   "id": "f598db27",
   "metadata": {},
   "outputs": [],
   "source": [
    "df = df.dropna()"
   ]
  },
  {
   "cell_type": "code",
   "execution_count": 48,
   "id": "c97639fc",
   "metadata": {},
   "outputs": [
    {
     "data": {
      "text/plain": [
       "user_description    0\n",
       "text                0\n",
       "date                0\n",
       "dtype: int64"
      ]
     },
     "execution_count": 48,
     "metadata": {},
     "output_type": "execute_result"
    }
   ],
   "source": [
    "df.isnull().values.any()\n",
    "df.isnull().sum()"
   ]
  },
  {
   "cell_type": "code",
   "execution_count": 49,
   "id": "bc578047",
   "metadata": {},
   "outputs": [
    {
     "name": "stdout",
     "output_type": "stream",
     "text": [
      "Model: \"sequential\"\n",
      "_________________________________________________________________\n",
      " Layer (type)                Output Shape              Param #   \n",
      "=================================================================\n",
      " embedding (Embedding)       (None, 100, 100)          11683700  \n",
      "                                                                 \n",
      " conv1d (Conv1D)             (None, 99, 32)            6432      \n",
      "                                                                 \n",
      " max_pooling1d (MaxPooling1D  (None, 49, 32)           0         \n",
      " )                                                               \n",
      "                                                                 \n",
      " conv1d_1 (Conv1D)           (None, 48, 32)            2080      \n",
      "                                                                 \n",
      " dropout (Dropout)           (None, 48, 32)            0         \n",
      "                                                                 \n",
      " conv1d_2 (Conv1D)           (None, 47, 16)            1040      \n",
      "                                                                 \n",
      " max_pooling1d_1 (MaxPooling  (None, 23, 16)           0         \n",
      " 1D)                                                             \n",
      "                                                                 \n",
      " conv1d_3 (Conv1D)           (None, 22, 16)            528       \n",
      "                                                                 \n",
      " dropout_1 (Dropout)         (None, 22, 16)            0         \n",
      "                                                                 \n",
      " flatten (Flatten)           (None, 352)               0         \n",
      "                                                                 \n",
      " dense (Dense)               (None, 64)                22592     \n",
      "                                                                 \n",
      " dropout_2 (Dropout)         (None, 64)                0         \n",
      "                                                                 \n",
      " dense_1 (Dense)             (None, 3)                 195       \n",
      "                                                                 \n",
      "=================================================================\n",
      "Total params: 11,716,567\n",
      "Trainable params: 11,716,567\n",
      "Non-trainable params: 0\n",
      "_________________________________________________________________\n",
      "None\n"
     ]
    }
   ],
   "source": [
    "# use the pretrained model \n",
    "model = load_model('model/cnnkeras.h5', compile=False)\n",
    "model.compile(optimizer=\"adam\",\n",
    "                loss='categorical_crossentropy',\n",
    "                metrics=['accuracy'])\n",
    "\n",
    "# Print the summary\n",
    "print(model.summary())"
   ]
  },
  {
   "cell_type": "code",
   "execution_count": 50,
   "id": "7de625c9",
   "metadata": {},
   "outputs": [
    {
     "data": {
      "text/plain": [
       "0         happy share draftmateai support day free trial...\n",
       "1         integrate chatgpt marketo smart campaign disco...\n",
       "2         pleased announce new patentpending technology ...\n",
       "3         starting tire scolded chatgpt slight perceived...\n",
       "4         spartajustice it notable wikipedia entry john ...\n",
       "                                ...                        \n",
       "374772    chatgpt biggest smartest brain world right now...\n",
       "374773    levelsso happy chatgpt team com revolutionary ...\n",
       "374774    russel chatgpt it funny take long time answer ...\n",
       "374775    wondering difference jasper chatgpt gpt chatgp...\n",
       "374776    chatgpt similar llm pose challenge academic in...\n",
       "Name: text, Length: 369270, dtype: object"
      ]
     },
     "execution_count": 50,
     "metadata": {},
     "output_type": "execute_result"
    }
   ],
   "source": [
    "df.text"
   ]
  },
  {
   "cell_type": "code",
   "execution_count": 51,
   "id": "57f1e5c4",
   "metadata": {},
   "outputs": [],
   "source": [
    "temp = df.text.values"
   ]
  },
  {
   "cell_type": "code",
   "execution_count": 52,
   "id": "9575c3a9",
   "metadata": {},
   "outputs": [],
   "source": [
    "tokenizer = Tokenizer(num_words=50000)\n",
    "tokenizer.fit_on_texts(temp)\n",
    "\n",
    "tweets = tokenizer.texts_to_sequences(df.text.values)\n",
    "\n",
    "vocab_size = len(tokenizer.word_index) + 1\n",
    "maxlen = 100\n",
    "\n",
    "tweets = pad_sequences(tweets, padding='post', maxlen=maxlen)\n",
    "\n",
    "word_index = tokenizer.word_index"
   ]
  },
  {
   "cell_type": "code",
   "execution_count": 53,
   "id": "3dfe1094",
   "metadata": {},
   "outputs": [
    {
     "data": {
      "text/plain": [
       "array([[  499,   149,   304, ...,     0,     0,     0],\n",
       "       [  677,     1, 24365, ...,     0,     0,     0],\n",
       "       [ 4827,  1733,     7, ...,     0,     0,     0],\n",
       "       ...,\n",
       "       [40786,     1,    13, ...,     0,     0,     0],\n",
       "       [ 1133,   703,  2396, ...,     0,     0,     0],\n",
       "       [    1,   480,   130, ...,     0,     0,     0]])"
      ]
     },
     "execution_count": 53,
     "metadata": {},
     "output_type": "execute_result"
    }
   ],
   "source": [
    "tweets"
   ]
  },
  {
   "cell_type": "code",
   "execution_count": 54,
   "id": "b23187ce",
   "metadata": {},
   "outputs": [
    {
     "data": {
      "text/plain": [
       "{'chatgpt': 1,\n",
       " 'openai': 2,\n",
       " 'gpt': 3,\n",
       " 'artificialintelligence': 4,\n",
       " 'like': 5,\n",
       " 'google': 6,\n",
       " 'new': 7,\n",
       " 'use': 8,\n",
       " 'technology': 9,\n",
       " 'amp': 10,\n",
       " 'time': 11,\n",
       " 'tool': 12,\n",
       " 'it': 13,\n",
       " 'future': 14,\n",
       " 'chatbot': 15,\n",
       " 'tech': 16,\n",
       " 'prompt': 17,\n",
       " 'know': 18,\n",
       " 'microsoft': 19,\n",
       " 'asked': 20,\n",
       " 'nft': 21,\n",
       " 'way': 22,\n",
       " 'world': 23,\n",
       " 'chat': 24,\n",
       " 'help': 25,\n",
       " 'write': 26,\n",
       " 'business': 27,\n",
       " 'check': 28,\n",
       " 'human': 29,\n",
       " 'question': 30,\n",
       " 'answer': 31,\n",
       " 'model': 32,\n",
       " 'work': 33,\n",
       " 'web': 34,\n",
       " 'language': 35,\n",
       " 'data': 36,\n",
       " 'resume': 37,\n",
       " 'think': 38,\n",
       " 'need': 39,\n",
       " 'bing': 40,\n",
       " 'content': 41,\n",
       " 'crypto': 42,\n",
       " 'here': 43,\n",
       " 'people': 44,\n",
       " 'search': 45,\n",
       " 'good': 46,\n",
       " 'bard': 47,\n",
       " 'day': 48,\n",
       " 'code': 49,\n",
       " 'read': 50,\n",
       " 'today': 51,\n",
       " 'create': 52,\n",
       " 'now': 53,\n",
       " 'midjourney': 54,\n",
       " 'machinelearning': 55,\n",
       " 'intelligence': 56,\n",
       " 'want': 57,\n",
       " 'job': 58,\n",
       " 'learn': 59,\n",
       " 'free': 60,\n",
       " 'thing': 61,\n",
       " 'short': 62,\n",
       " 'let': 63,\n",
       " 'better': 64,\n",
       " 'writing': 65,\n",
       " 'news': 66,\n",
       " 'dont': 67,\n",
       " 'elonmusk': 68,\n",
       " 'long': 69,\n",
       " 'user': 70,\n",
       " 'artificial': 71,\n",
       " 'article': 72,\n",
       " 'video': 73,\n",
       " 'generativeai': 74,\n",
       " 'powered': 75,\n",
       " 'year': 76,\n",
       " 'you': 77,\n",
       " 'marketing': 78,\n",
       " 'great': 79,\n",
       " 'ask': 80,\n",
       " 'rsi': 81,\n",
       " 'look': 82,\n",
       " 'best': 83,\n",
       " 'power': 84,\n",
       " 'going': 85,\n",
       " 'airdrop': 86,\n",
       " 'art': 87,\n",
       " 'company': 88,\n",
       " 'latest': 89,\n",
       " 'learning': 90,\n",
       " 'innovation': 91,\n",
       " 'text': 92,\n",
       " 'bot': 93,\n",
       " 'price': 94,\n",
       " 'join': 95,\n",
       " 'education': 96,\n",
       " 'bitcoin': 97,\n",
       " 'right': 98,\n",
       " 'life': 99,\n",
       " 'student': 100,\n",
       " 'python': 101,\n",
       " 'link': 102,\n",
       " 'response': 103,\n",
       " 'potential': 104,\n",
       " 'dalle': 105,\n",
       " 'come': 106,\n",
       " 'game': 107,\n",
       " 'generative': 108,\n",
       " 'generated': 109,\n",
       " 'idea': 110,\n",
       " 'aiart': 111,\n",
       " 'got': 112,\n",
       " 'amazing': 113,\n",
       " 'result': 114,\n",
       " 'week': 115,\n",
       " 'recommendation': 116,\n",
       " 'thought': 117,\n",
       " 'post': 118,\n",
       " 'love': 119,\n",
       " 'try': 120,\n",
       " 'chatbots': 121,\n",
       " 'ticker': 122,\n",
       " 'twitter': 123,\n",
       " 'information': 124,\n",
       " 'app': 125,\n",
       " 'project': 126,\n",
       " 'conversation': 127,\n",
       " 'change': 128,\n",
       " 'interesting': 129,\n",
       " 'llm': 130,\n",
       " 'research': 131,\n",
       " 'more': 132,\n",
       " 'generate': 133,\n",
       " 'metaverse': 134,\n",
       " 'blog': 135,\n",
       " 'cybersecurity': 136,\n",
       " 'stock': 137,\n",
       " 'digital': 138,\n",
       " 'story': 139,\n",
       " 'service': 140,\n",
       " 'based': 141,\n",
       " 'coding': 142,\n",
       " 'domain': 143,\n",
       " 'wait': 144,\n",
       " 'created': 145,\n",
       " 'programming': 146,\n",
       " 'out': 147,\n",
       " 'real': 148,\n",
       " 'share': 149,\n",
       " 'stablediffusion': 150,\n",
       " 'lot': 151,\n",
       " 'start': 152,\n",
       " 'buy': 153,\n",
       " 'binance': 154,\n",
       " 'cant': 155,\n",
       " 'say': 156,\n",
       " 'btc': 157,\n",
       " 'seo': 158,\n",
       " 'youtube': 159,\n",
       " 'month': 160,\n",
       " 'minute': 161,\n",
       " 'min': 162,\n",
       " 'experience': 163,\n",
       " 'course': 164,\n",
       " 'industry': 165,\n",
       " 'this': 166,\n",
       " 'impact': 167,\n",
       " 'platform': 168,\n",
       " 'product': 169,\n",
       " 'coming': 170,\n",
       " 'word': 171,\n",
       " 'book': 172,\n",
       " 'startup': 173,\n",
       " 'blockchain': 174,\n",
       " 'the': 175,\n",
       " 'developer': 176,\n",
       " 'making': 177,\n",
       " 'looking': 178,\n",
       " 'thanks': 179,\n",
       " 'image': 180,\n",
       " 'talk': 181,\n",
       " 'ready': 182,\n",
       " 'trading': 183,\n",
       " 'website': 184,\n",
       " 'access': 185,\n",
       " 'launch': 186,\n",
       " 'open': 187,\n",
       " 'follow': 188,\n",
       " 'version': 189,\n",
       " 'creating': 190,\n",
       " 'gonna': 191,\n",
       " 'money': 192,\n",
       " 'engine': 193,\n",
       " 'market': 194,\n",
       " 'case': 195,\n",
       " 'development': 196,\n",
       " 'replace': 197,\n",
       " 'soon': 198,\n",
       " 'example': 199,\n",
       " 'team': 200,\n",
       " 'medium': 201,\n",
       " 'available': 202,\n",
       " 'productivity': 203,\n",
       " 'tell': 204,\n",
       " 'robot': 205,\n",
       " 'software': 206,\n",
       " 'api': 207,\n",
       " 'said': 208,\n",
       " 'internet': 209,\n",
       " 'eth': 210,\n",
       " 'tweet': 211,\n",
       " 'big': 212,\n",
       " 'impressive': 213,\n",
       " 'problem': 214,\n",
       " 'written': 215,\n",
       " 'thread': 216,\n",
       " 'fun': 217,\n",
       " 'source': 218,\n",
       " 'iot': 219,\n",
       " 'openaichatgpt': 220,\n",
       " 'openais': 221,\n",
       " 'task': 222,\n",
       " 'live': 223,\n",
       " 'solution': 224,\n",
       " 'machine': 225,\n",
       " 'level': 226,\n",
       " 'having': 227,\n",
       " 'deeplearning': 228,\n",
       " 'application': 229,\n",
       " 'option': 230,\n",
       " 'spot': 231,\n",
       " 'issue': 232,\n",
       " 'mean': 233,\n",
       " 'asking': 234,\n",
       " 'build': 235,\n",
       " 'sale': 236,\n",
       " 'feel': 237,\n",
       " 'watch': 238,\n",
       " 'topic': 239,\n",
       " 'powerful': 240,\n",
       " 'understand': 241,\n",
       " 'ive': 242,\n",
       " 'getting': 243,\n",
       " 'working': 244,\n",
       " 'imagine': 245,\n",
       " 'sure': 246,\n",
       " 'thats': 247,\n",
       " 'test': 248,\n",
       " 'datascience': 249,\n",
       " 'tried': 250,\n",
       " 'plan': 251,\n",
       " 'investment': 252,\n",
       " 'list': 253,\n",
       " 'click': 254,\n",
       " 'youre': 255,\n",
       " 'expert': 256,\n",
       " 'knowledge': 257,\n",
       " 'able': 258,\n",
       " 'feature': 259,\n",
       " 'daysofcode': 260,\n",
       " 'million': 261,\n",
       " 'nlp': 262,\n",
       " 'social': 263,\n",
       " 'email': 264,\n",
       " 'security': 265,\n",
       " 'there': 266,\n",
       " 'poem': 267,\n",
       " 'make': 268,\n",
       " 'nfts': 269,\n",
       " 'well': 270,\n",
       " 'offer': 271,\n",
       " 'point': 272,\n",
       " 'design': 273,\n",
       " 'online': 274,\n",
       " 'believe': 275,\n",
       " 'hour': 276,\n",
       " 'teacher': 277,\n",
       " 'coin': 278,\n",
       " 'fintech': 279,\n",
       " 'privacy': 280,\n",
       " 'wrong': 281,\n",
       " 'customer': 282,\n",
       " 'mind': 283,\n",
       " 'end': 284,\n",
       " 'different': 285,\n",
       " 'opportunity': 286,\n",
       " 'assistant': 287,\n",
       " 'school': 288,\n",
       " 'guide': 289,\n",
       " 'skill': 290,\n",
       " 'edtech': 291,\n",
       " 'friend': 292,\n",
       " 'that': 293,\n",
       " 'discover': 294,\n",
       " 'improve': 295,\n",
       " 'large': 296,\n",
       " 'chatgpts': 297,\n",
       " 'changing': 298,\n",
       " 'writer': 299,\n",
       " 'important': 300,\n",
       " 'play': 301,\n",
       " 'sell': 302,\n",
       " 'incredible': 303,\n",
       " 'support': 304,\n",
       " 'process': 305,\n",
       " 'provide': 306,\n",
       " 'trying': 307,\n",
       " 'value': 308,\n",
       " 'talking': 309,\n",
       " 'risk': 310,\n",
       " 'interval': 311,\n",
       " 'ceo': 312,\n",
       " 'space': 313,\n",
       " 'tip': 314,\n",
       " 'automation': 315,\n",
       " 'get': 316,\n",
       " 'pretty': 317,\n",
       " 'bybit': 318,\n",
       " 'actually': 319,\n",
       " 'recent': 320,\n",
       " 'system': 321,\n",
       " 'perfect': 322,\n",
       " 'thinking': 323,\n",
       " 'invest': 324,\n",
       " 'stay': 325,\n",
       " 'autogpt': 326,\n",
       " 'set': 327,\n",
       " 'challenge': 328,\n",
       " 'china': 329,\n",
       " 'capability': 330,\n",
       " 'far': 331,\n",
       " 'aipowered': 332,\n",
       " 'madewithai': 333,\n",
       " 'update': 334,\n",
       " 'us': 335,\n",
       " 'useful': 336,\n",
       " 'started': 337,\n",
       " 'what': 338,\n",
       " 'token': 339,\n",
       " 'bigdata': 340,\n",
       " 'podcast': 341,\n",
       " 'candle': 342,\n",
       " 'one': 343,\n",
       " 'ability': 344,\n",
       " 'wont': 345,\n",
       " 'wrote': 346,\n",
       " 'essay': 347,\n",
       " 'bad': 348,\n",
       " 'simple': 349,\n",
       " 'creator': 350,\n",
       " 'creative': 351,\n",
       " 'training': 352,\n",
       " 'trend': 353,\n",
       " 'rival': 354,\n",
       " 'analytics': 355,\n",
       " 'thank': 356,\n",
       " 'italy': 357,\n",
       " 'release': 358,\n",
       " 'community': 359,\n",
       " 'creativity': 360,\n",
       " 'don': 361,\n",
       " 'fact': 362,\n",
       " 'science': 363,\n",
       " 'doesnt': 364,\n",
       " 'step': 365,\n",
       " 'add': 366,\n",
       " 'exam': 367,\n",
       " 'little': 368,\n",
       " 'cool': 369,\n",
       " 'insight': 370,\n",
       " 'benefit': 371,\n",
       " 'comment': 372,\n",
       " 'investing': 373,\n",
       " 'cryptocurrency': 374,\n",
       " 'report': 375,\n",
       " 'taking': 376,\n",
       " 'second': 377,\n",
       " 'paper': 378,\n",
       " 'program': 379,\n",
       " 'can': 380,\n",
       " 'save': 381,\n",
       " 'revolution': 382,\n",
       " 'exciting': 383,\n",
       " 'including': 384,\n",
       " 'yet': 385,\n",
       " 'communication': 386,\n",
       " 'agi': 387,\n",
       " 'history': 388,\n",
       " 'miss': 389,\n",
       " 'key': 390,\n",
       " 'possible': 391,\n",
       " 'episode': 392,\n",
       " 'digitalart': 393,\n",
       " 'explore': 394,\n",
       " 'style': 395,\n",
       " 'message': 396,\n",
       " 'called': 397,\n",
       " 'and': 398,\n",
       " 'according': 399,\n",
       " 'excited': 400,\n",
       " 'personal': 401,\n",
       " 'concern': 402,\n",
       " 'healthcare': 403,\n",
       " 'elon': 404,\n",
       " 'whats': 405,\n",
       " 'maybe': 406,\n",
       " 'type': 407,\n",
       " 'person': 408,\n",
       " 'revolutionize': 409,\n",
       " 'building': 410,\n",
       " 'magic': 411,\n",
       " 'wonder': 412,\n",
       " 'simply': 413,\n",
       " 'bnb': 414,\n",
       " 'generation': 415,\n",
       " 'away': 416,\n",
       " 'strategy': 417,\n",
       " 'discus': 418,\n",
       " 'detail': 419,\n",
       " 'easy': 420,\n",
       " 'yourself': 421,\n",
       " 'run': 422,\n",
       " 'not': 423,\n",
       " 'bardai': 424,\n",
       " 'artificalintelligence': 425,\n",
       " 'event': 426,\n",
       " 'advanced': 427,\n",
       " 'current': 428,\n",
       " 'javascript': 429,\n",
       " 'again': 430,\n",
       " 'natural': 431,\n",
       " 'enhance': 432,\n",
       " 'interview': 433,\n",
       " 'amazon': 434,\n",
       " 'daily': 435,\n",
       " 'smart': 436,\n",
       " 'instead': 437,\n",
       " 'true': 438,\n",
       " 'algorithm': 439,\n",
       " 'doge': 440,\n",
       " 'sign': 441,\n",
       " 'law': 442,\n",
       " 'integration': 443,\n",
       " 'yes': 444,\n",
       " 'hey': 445,\n",
       " 'stop': 446,\n",
       " 'apps': 447,\n",
       " 'success': 448,\n",
       " 'hope': 449,\n",
       " 'voice': 450,\n",
       " 'all': 451,\n",
       " 'bias': 452,\n",
       " 'threat': 453,\n",
       " 'were': 454,\n",
       " 'output': 455,\n",
       " 'plus': 456,\n",
       " 'built': 457,\n",
       " 'trending': 458,\n",
       " 'gave': 459,\n",
       " 'number': 460,\n",
       " 'public': 461,\n",
       " 'script': 462,\n",
       " 'released': 463,\n",
       " 'musk': 464,\n",
       " 'agix': 465,\n",
       " 'high': 466,\n",
       " 'sama': 467,\n",
       " 'creation': 468,\n",
       " 'copy': 469,\n",
       " 'teaching': 470,\n",
       " 'aitools': 471,\n",
       " 'discussion': 472,\n",
       " 'trained': 473,\n",
       " 'aiartwork': 474,\n",
       " 'turn': 475,\n",
       " 'trial': 476,\n",
       " 'visit': 477,\n",
       " 'page': 478,\n",
       " 'googleai': 479,\n",
       " 'similar': 480,\n",
       " 'bit': 481,\n",
       " 'fake': 482,\n",
       " 'faster': 483,\n",
       " 'conversational': 484,\n",
       " 'reason': 485,\n",
       " 'review': 486,\n",
       " 'joke': 487,\n",
       " 'technews': 488,\n",
       " 'hype': 489,\n",
       " 'with': 490,\n",
       " 'playing': 491,\n",
       " 'humanity': 492,\n",
       " 'them': 493,\n",
       " 'meta': 494,\n",
       " 'opinion': 495,\n",
       " 'ban': 496,\n",
       " 'took': 497,\n",
       " 'cloud': 498,\n",
       " 'happy': 499,\n",
       " 'take': 500,\n",
       " 'chatgptplus': 501,\n",
       " 'fet': 502,\n",
       " 'aigenerated': 503,\n",
       " 'music': 504,\n",
       " 'finally': 505,\n",
       " 'attention': 506,\n",
       " 'ahead': 507,\n",
       " 'hard': 508,\n",
       " 'explain': 509,\n",
       " 'apple': 510,\n",
       " 'testing': 511,\n",
       " 'nftcommunity': 512,\n",
       " 'old': 513,\n",
       " 'error': 514,\n",
       " 'billion': 515,\n",
       " 'seen': 516,\n",
       " 'india': 517,\n",
       " 'digitalmarketing': 518,\n",
       " 'win': 519,\n",
       " 'quality': 520,\n",
       " 'aichatbot': 521,\n",
       " 'query': 522,\n",
       " 'song': 523,\n",
       " 'university': 524,\n",
       " 'digitaltransformation': 525,\n",
       " 'place': 526,\n",
       " 'for': 527,\n",
       " 'defi': 528,\n",
       " 'ai': 529,\n",
       " 'lead': 530,\n",
       " 'analysis': 531,\n",
       " 'role': 532,\n",
       " 'gaming': 533,\n",
       " 'understanding': 534,\n",
       " 'give': 535,\n",
       " 'account': 536,\n",
       " 'guy': 537,\n",
       " 'field': 538,\n",
       " 'rise': 539,\n",
       " 'whatsapp': 540,\n",
       " 'early': 541,\n",
       " 'letter': 542,\n",
       " 'launched': 543,\n",
       " 'legal': 544,\n",
       " 'googlebard': 545,\n",
       " 'engineering': 546,\n",
       " 'ethereum': 547,\n",
       " 'study': 548,\n",
       " 'race': 549,\n",
       " 'easier': 550,\n",
       " 'recently': 551,\n",
       " 'pay': 552,\n",
       " 'professional': 553,\n",
       " 'brand': 554,\n",
       " 'robotics': 555,\n",
       " 'too': 556,\n",
       " 'linkedin': 557,\n",
       " 'didnt': 558,\n",
       " 'reading': 559,\n",
       " 'isnt': 560,\n",
       " 'advice': 561,\n",
       " 'man': 562,\n",
       " 'kind': 563,\n",
       " 'super': 564,\n",
       " 'wow': 565,\n",
       " 'fear': 566,\n",
       " 'note': 567,\n",
       " 'sound': 568,\n",
       " 'stuff': 569,\n",
       " 'extension': 570,\n",
       " 'ape': 571,\n",
       " 'network': 572,\n",
       " 'imgnai': 573,\n",
       " 'remember': 574,\n",
       " 'announced': 575,\n",
       " 'fast': 576,\n",
       " 'beginner': 577,\n",
       " 'stand': 578,\n",
       " 'how': 579,\n",
       " 'engineer': 580,\n",
       " 'came': 581,\n",
       " 'possibility': 582,\n",
       " 'bring': 583,\n",
       " 'chart': 584,\n",
       " 'show': 585,\n",
       " 'specific': 586,\n",
       " 'trade': 587,\n",
       " 'everything': 588,\n",
       " 'author': 589,\n",
       " 'morning': 590,\n",
       " 'lol': 591,\n",
       " 'following': 592,\n",
       " 'accurate': 593,\n",
       " 'cuttingedge': 594,\n",
       " 'country': 595,\n",
       " 'unique': 596,\n",
       " 'listen': 597,\n",
       " 'facebook': 598,\n",
       " 'researcher': 599,\n",
       " 'correct': 600,\n",
       " 'war': 601,\n",
       " 'alternative': 602,\n",
       " 'told': 603,\n",
       " 'apt': 604,\n",
       " 'guess': 605,\n",
       " 'meme': 606,\n",
       " 'nocode': 607,\n",
       " 'line': 608,\n",
       " 'quickly': 609,\n",
       " 'awesome': 610,\n",
       " 'nice': 611,\n",
       " 'resource': 612,\n",
       " 'signal': 613,\n",
       " 'heart': 614,\n",
       " 'march': 615,\n",
       " 'given': 616,\n",
       " 'heard': 617,\n",
       " 'eye': 618,\n",
       " 'bone': 619,\n",
       " 'moment': 620,\n",
       " 'finance': 621,\n",
       " 'giving': 622,\n",
       " 'ethic': 623,\n",
       " 'popular': 624,\n",
       " 'meet': 625,\n",
       " 'piece': 626,\n",
       " 'funny': 627,\n",
       " 'medical': 628,\n",
       " 'hear': 629,\n",
       " 'matter': 630,\n",
       " 'trust': 631,\n",
       " 'processing': 632,\n",
       " 'info': 633,\n",
       " 'register': 634,\n",
       " 'msft': 635,\n",
       " 'view': 636,\n",
       " 'cost': 637,\n",
       " 'input': 638,\n",
       " 'truth': 639,\n",
       " 'leader': 640,\n",
       " 'ago': 641,\n",
       " 'english': 642,\n",
       " 'cryptonews': 643,\n",
       " 'state': 644,\n",
       " 'term': 645,\n",
       " 'academic': 646,\n",
       " 'probably': 647,\n",
       " 'etc': 648,\n",
       " 'basic': 649,\n",
       " 'form': 650,\n",
       " 'opensource': 651,\n",
       " 'webinar': 652,\n",
       " 'complex': 653,\n",
       " 'reality': 654,\n",
       " 'send': 655,\n",
       " 'reply': 656,\n",
       " 'plugins': 657,\n",
       " 'huge': 658,\n",
       " 'control': 659,\n",
       " 'forward': 660,\n",
       " 'age': 661,\n",
       " 'growth': 662,\n",
       " 'rndr': 663,\n",
       " 'solve': 664,\n",
       " 'bonk': 665,\n",
       " 'focus': 666,\n",
       " 'interested': 667,\n",
       " 'context': 668,\n",
       " 'cryptocurrencies': 669,\n",
       " 'hand': 670,\n",
       " 'generating': 671,\n",
       " 'group': 672,\n",
       " 'quick': 673,\n",
       " 'past': 674,\n",
       " 'definitely': 675,\n",
       " 'movie': 676,\n",
       " 'integrate': 677,\n",
       " 'implication': 678,\n",
       " 'entrepreneur': 679,\n",
       " 'left': 680,\n",
       " 'complete': 681,\n",
       " 'ethical': 682,\n",
       " 'saying': 683,\n",
       " 'employee': 684,\n",
       " 'pro': 685,\n",
       " 'curious': 686,\n",
       " 'deep': 687,\n",
       " 'dan': 688,\n",
       " 'starting': 689,\n",
       " 'april': 690,\n",
       " 'developed': 691,\n",
       " 'health': 692,\n",
       " 'summary': 693,\n",
       " 'general': 694,\n",
       " 'programmer': 695,\n",
       " 'increase': 696,\n",
       " 'browser': 697,\n",
       " 'however': 698,\n",
       " 'develop': 699,\n",
       " 'order': 700,\n",
       " 'shib': 701,\n",
       " 'chatgptprompts': 702,\n",
       " 'difference': 703,\n",
       " 'experiment': 704,\n",
       " 'published': 705,\n",
       " 'small': 706,\n",
       " 'boost': 707,\n",
       " 'society': 708,\n",
       " 'worth': 709,\n",
       " 'introduction': 710,\n",
       " 'character': 711,\n",
       " 'rule': 712,\n",
       " 'era': 713,\n",
       " 'financial': 714,\n",
       " 'tiktok': 715,\n",
       " 'edge': 716,\n",
       " 'produced': 717,\n",
       " 'haiku': 718,\n",
       " 'reach': 719,\n",
       " 'investor': 720,\n",
       " 'feeling': 721,\n",
       " 'educator': 722,\n",
       " 'aidriven': 723,\n",
       " 'government': 724,\n",
       " 'intelligent': 725,\n",
       " 'embracing': 726,\n",
       " 'breaking': 727,\n",
       " 'brain': 728,\n",
       " 'currently': 729,\n",
       " 'growing': 730,\n",
       " 'math': 731,\n",
       " 'description': 732,\n",
       " 'practice': 733,\n",
       " 'decision': 734,\n",
       " 'chinese': 735,\n",
       " 'approach': 736,\n",
       " 'global': 737,\n",
       " 'teach': 738,\n",
       " 'hold': 739,\n",
       " 'generator': 740,\n",
       " 'bullish': 741,\n",
       " 'virtual': 742,\n",
       " 'unlock': 743,\n",
       " 'clear': 744,\n",
       " 'gem': 745,\n",
       " 'produce': 746,\n",
       " 'baidu': 747,\n",
       " 'ill': 748,\n",
       " 'face': 749,\n",
       " 'sense': 750,\n",
       " 'artist': 751,\n",
       " 'name': 752,\n",
       " 'concept': 753,\n",
       " 'exploring': 754,\n",
       " 'helpful': 755,\n",
       " 'session': 756,\n",
       " 'taken': 757,\n",
       " 'needed': 758,\n",
       " 'kid': 759,\n",
       " 'ocean': 760,\n",
       " 'train': 761,\n",
       " 'why': 762,\n",
       " 'socialmedia': 763,\n",
       " 'management': 764,\n",
       " 'copilot': 765,\n",
       " 'gamechanger': 766,\n",
       " 'giant': 767,\n",
       " 'request': 768,\n",
       " 'agree': 769,\n",
       " 'competitor': 770,\n",
       " 'likely': 771,\n",
       " 'crazy': 772,\n",
       " 'futureofwork': 773,\n",
       " 'below': 774,\n",
       " 'instagram': 775,\n",
       " 'mistake': 776,\n",
       " 'prediction': 777,\n",
       " 'break': 778,\n",
       " 'career': 779,\n",
       " 'feedback': 780,\n",
       " 'policy': 781,\n",
       " 'degenai': 782,\n",
       " 'sharing': 783,\n",
       " 'major': 784,\n",
       " 'aiethics': 785,\n",
       " 'helping': 786,\n",
       " 'limitation': 787,\n",
       " 'beat': 788,\n",
       " 'github': 789,\n",
       " 'continue': 790,\n",
       " 'chatbotai': 791,\n",
       " 'action': 792,\n",
       " 'bingai': 793,\n",
       " 'greatest': 794,\n",
       " 'mobile': 795,\n",
       " 'popularity': 796,\n",
       " 'ukraine': 797,\n",
       " 'original': 798,\n",
       " 'worked': 799,\n",
       " 'betamoroney': 800,\n",
       " 'secret': 801,\n",
       " 'hit': 802,\n",
       " 'scary': 803,\n",
       " 'bug': 804,\n",
       " 'consider': 805,\n",
       " 'welcome': 806,\n",
       " 'especially': 807,\n",
       " 'goal': 808,\n",
       " 'awaiting': 809,\n",
       " 'go': 810,\n",
       " 'grow': 811,\n",
       " 'integrated': 812,\n",
       " 'claim': 813,\n",
       " 'plugin': 814,\n",
       " 'truly': 815,\n",
       " 'transform': 816,\n",
       " 'window': 817,\n",
       " 'class': 818,\n",
       " 'fomo': 819,\n",
       " 'easily': 820,\n",
       " 'viral': 821,\n",
       " 'wanted': 822,\n",
       " 'decentralized': 823,\n",
       " 'waiting': 824,\n",
       " 'tomorrow': 825,\n",
       " 'chrome': 826,\n",
       " 'fascinating': 827,\n",
       " 'site': 828,\n",
       " 'demo': 829,\n",
       " 'light': 830,\n",
       " 'alert': 831,\n",
       " 'but': 832,\n",
       " 'aiartcommunity': 833,\n",
       " 'safe': 834,\n",
       " 'series': 835,\n",
       " 'classroom': 836,\n",
       " 'cheating': 837,\n",
       " 'speech': 838,\n",
       " 'from': 839,\n",
       " 'xrp': 840,\n",
       " 'call': 841,\n",
       " 'college': 842,\n",
       " 'care': 843,\n",
       " 'woman': 844,\n",
       " 'leverage': 845,\n",
       " 'interaction': 846,\n",
       " 'deal': 847,\n",
       " 'download': 848,\n",
       " 'professor': 849,\n",
       " 'matic': 850,\n",
       " 'marketer': 851,\n",
       " 'aiprompts': 852,\n",
       " 'spirosmargaris': 853,\n",
       " 'enjoy': 854,\n",
       " 'altcoin': 855,\n",
       " 'embrace': 856,\n",
       " 'entire': 857,\n",
       " 'favorite': 858,\n",
       " 'positive': 859,\n",
       " 'woke': 860,\n",
       " 'travel': 861,\n",
       " 'malware': 862,\n",
       " 'udemy': 863,\n",
       " 'planning': 864,\n",
       " 'newsletter': 865,\n",
       " 'store': 866,\n",
       " 'hacking': 867,\n",
       " 'empower': 868,\n",
       " 'god': 869,\n",
       " 'battle': 870,\n",
       " 'lie': 871,\n",
       " 'writes': 872,\n",
       " 'completely': 873,\n",
       " 'effective': 874,\n",
       " 'personalized': 875,\n",
       " 'worry': 876,\n",
       " 'assignment': 877,\n",
       " 'night': 878,\n",
       " 'multiple': 879,\n",
       " 'hello': 880,\n",
       " 'function': 881,\n",
       " 'innovative': 882,\n",
       " 'insurtech': 883,\n",
       " 'fix': 884,\n",
       " 'reference': 885,\n",
       " 'effort': 886,\n",
       " 'competition': 887,\n",
       " 'hot': 888,\n",
       " 'usa': 889,\n",
       " 'home': 890,\n",
       " 'advantage': 891,\n",
       " 'stockstobuy': 892,\n",
       " 'biggest': 893,\n",
       " 'limited': 894,\n",
       " 'daytrading': 895,\n",
       " 'finding': 896,\n",
       " 'purpose': 897,\n",
       " 'chance': 898,\n",
       " 'trump': 899,\n",
       " 'stockstowatch': 900,\n",
       " 'office': 901,\n",
       " 'related': 902,\n",
       " 'impressed': 903,\n",
       " 'mindblowing': 904,\n",
       " 'about': 905,\n",
       " 'paid': 906,\n",
       " 'firm': 907,\n",
       " 'journey': 908,\n",
       " 'designed': 909,\n",
       " 'noun': 910,\n",
       " 'weve': 911,\n",
       " 'promptengineering': 912,\n",
       " 'collection': 913,\n",
       " 'phone': 914,\n",
       " 'azure': 915,\n",
       " 'tesla': 916,\n",
       " 'writingprompts': 917,\n",
       " 'speed': 918,\n",
       " 'dream': 919,\n",
       " 'hacker': 920,\n",
       " 'fan': 921,\n",
       " 'giveaway': 922,\n",
       " 'kicurency': 923,\n",
       " 'present': 924,\n",
       " 'interact': 925,\n",
       " 'banned': 926,\n",
       " 'plagiarism': 927,\n",
       " 'running': 928,\n",
       " 'hook': 929,\n",
       " 'founder': 930,\n",
       " 'assessment': 931,\n",
       " 'limit': 932,\n",
       " 'respond': 933,\n",
       " 'mwc': 934,\n",
       " 'perspective': 935,\n",
       " 'efficient': 936,\n",
       " 'tothemoon': 937,\n",
       " 'yesterday': 938,\n",
       " 'block': 939,\n",
       " 'strong': 940,\n",
       " 'critical': 941,\n",
       " 'copywriting': 942,\n",
       " 'lawyer': 943,\n",
       " 'revolutionizing': 944,\n",
       " 'opensea': 945,\n",
       " 'client': 946,\n",
       " 'ultimate': 947,\n",
       " 'digitalhealth': 948,\n",
       " 'yolo': 949,\n",
       " 'rate': 950,\n",
       " 'computer': 951,\n",
       " 'seeing': 952,\n",
       " 'smarter': 953,\n",
       " 'who': 954,\n",
       " 'forbes': 955,\n",
       " 'down': 956,\n",
       " 'master': 957,\n",
       " 'decided': 958,\n",
       " 'joe': 959,\n",
       " 'agent': 960,\n",
       " 'head': 961,\n",
       " 'happen': 962,\n",
       " 'date': 963,\n",
       " 'introducing': 964,\n",
       " 'redditarmy': 965,\n",
       " 'bottomfishing': 966,\n",
       " 'alien': 967,\n",
       " 'are': 968,\n",
       " 'tutorial': 969,\n",
       " 'creativeprompts': 970,\n",
       " 'won': 971,\n",
       " 'ideaprompts': 972,\n",
       " 'ada': 973,\n",
       " 'quote': 974,\n",
       " 'himss': 975,\n",
       " 'progress': 976,\n",
       " 'forever': 977,\n",
       " 'providing': 978,\n",
       " 'humanlike': 979,\n",
       " 'dao': 980,\n",
       " 'relevant': 981,\n",
       " 'worried': 982,\n",
       " 'efficiency': 983,\n",
       " 'went': 984,\n",
       " 'spend': 985,\n",
       " 'capable': 986,\n",
       " 'flutter': 987,\n",
       " 'happened': 988,\n",
       " 'forget': 989,\n",
       " 'anime': 990,\n",
       " 'developing': 991,\n",
       " 'worker': 992,\n",
       " 'enroll': 993,\n",
       " 'nature': 994,\n",
       " 'cause': 995,\n",
       " 'beginning': 996,\n",
       " 'exchange': 997,\n",
       " 'credit': 998,\n",
       " 'everyone': 999,\n",
       " 'expect': 1000,\n",
       " ...}"
      ]
     },
     "execution_count": 54,
     "metadata": {},
     "output_type": "execute_result"
    }
   ],
   "source": [
    "word_index"
   ]
  },
  {
   "cell_type": "code",
   "execution_count": 55,
   "id": "bf5606ff",
   "metadata": {},
   "outputs": [
    {
     "name": "stdout",
     "output_type": "stream",
     "text": [
      "11540/11540 [==============================] - 142s 12ms/step\n"
     ]
    }
   ],
   "source": [
    "pred = np.argmax(model.predict(tweets), axis=-1)"
   ]
  },
  {
   "cell_type": "code",
   "execution_count": 56,
   "id": "6f8a40b8",
   "metadata": {},
   "outputs": [
    {
     "data": {
      "text/plain": [
       "array([2, 2, 2, ..., 1, 2, 2], dtype=int64)"
      ]
     },
     "execution_count": 56,
     "metadata": {},
     "output_type": "execute_result"
    }
   ],
   "source": [
    "pred"
   ]
  },
  {
   "cell_type": "code",
   "execution_count": 57,
   "id": "14a78b64",
   "metadata": {},
   "outputs": [
    {
     "data": {
      "text/plain": [
       "369270"
      ]
     },
     "execution_count": 57,
     "metadata": {},
     "output_type": "execute_result"
    }
   ],
   "source": [
    "len(pred)"
   ]
  },
  {
   "cell_type": "code",
   "execution_count": 58,
   "id": "cee96892",
   "metadata": {},
   "outputs": [],
   "source": [
    "pred_series = pd.Series(pred)"
   ]
  },
  {
   "cell_type": "code",
   "execution_count": 59,
   "id": "11383ea3",
   "metadata": {},
   "outputs": [
    {
     "data": {
      "text/plain": [
       "369270"
      ]
     },
     "execution_count": 59,
     "metadata": {},
     "output_type": "execute_result"
    }
   ],
   "source": [
    "len(pred_series)"
   ]
  },
  {
   "cell_type": "code",
   "execution_count": 60,
   "id": "e3d01d63",
   "metadata": {},
   "outputs": [
    {
     "data": {
      "text/plain": [
       "369270"
      ]
     },
     "execution_count": 60,
     "metadata": {},
     "output_type": "execute_result"
    }
   ],
   "source": [
    "len(df.text)"
   ]
  },
  {
   "cell_type": "code",
   "execution_count": 69,
   "id": "8a40d45d",
   "metadata": {},
   "outputs": [],
   "source": [
    "dataframe = {'user_description': df.user_description.values, 'tweets': df.text.values, 'label': pred, 'date': df.date.values}"
   ]
  },
  {
   "cell_type": "code",
   "execution_count": 70,
   "id": "97e35b97",
   "metadata": {},
   "outputs": [],
   "source": [
    "result = pd.DataFrame(dataframe)"
   ]
  },
  {
   "cell_type": "code",
   "execution_count": 71,
   "id": "10eef042",
   "metadata": {},
   "outputs": [
    {
     "data": {
      "text/html": [
       "<div>\n",
       "<style scoped>\n",
       "    .dataframe tbody tr th:only-of-type {\n",
       "        vertical-align: middle;\n",
       "    }\n",
       "\n",
       "    .dataframe tbody tr th {\n",
       "        vertical-align: top;\n",
       "    }\n",
       "\n",
       "    .dataframe thead th {\n",
       "        text-align: right;\n",
       "    }\n",
       "</style>\n",
       "<table border=\"1\" class=\"dataframe\">\n",
       "  <thead>\n",
       "    <tr style=\"text-align: right;\">\n",
       "      <th></th>\n",
       "      <th>user_description</th>\n",
       "      <th>tweets</th>\n",
       "      <th>label</th>\n",
       "      <th>date</th>\n",
       "    </tr>\n",
       "  </thead>\n",
       "  <tbody>\n",
       "    <tr>\n",
       "      <th>0</th>\n",
       "      <td>building draftmateai developer author chatgpt ...</td>\n",
       "      <td>happy share draftmateai support day free trial...</td>\n",
       "      <td>2</td>\n",
       "      <td>2023-04-26 13:02:16+00:00</td>\n",
       "    </tr>\n",
       "    <tr>\n",
       "      <th>1</th>\n",
       "      <td>nomadic marketing vigilante graphic web design...</td>\n",
       "      <td>integrate chatgpt marketo smart campaign disco...</td>\n",
       "      <td>2</td>\n",
       "      <td>2023-04-26 13:02:06+00:00</td>\n",
       "    </tr>\n",
       "    <tr>\n",
       "      <th>2</th>\n",
       "      <td>leading translation management platform locali...</td>\n",
       "      <td>pleased announce new patentpending technology ...</td>\n",
       "      <td>2</td>\n",
       "      <td>2023-04-26 13:02:05+00:00</td>\n",
       "    </tr>\n",
       "    <tr>\n",
       "      <th>3</th>\n",
       "      <td>engineering leader coach mentor building remot...</td>\n",
       "      <td>starting tire scolded chatgpt slight perceived...</td>\n",
       "      <td>1</td>\n",
       "      <td>2023-04-26 13:02:00+00:00</td>\n",
       "    </tr>\n",
       "    <tr>\n",
       "      <th>4</th>\n",
       "      <td>stop learning research develop uild future eyo...</td>\n",
       "      <td>spartajustice it notable wikipedia entry john ...</td>\n",
       "      <td>2</td>\n",
       "      <td>2023-04-26 13:01:52+00:00</td>\n",
       "    </tr>\n",
       "    <tr>\n",
       "      <th>...</th>\n",
       "      <td>...</td>\n",
       "      <td>...</td>\n",
       "      <td>...</td>\n",
       "      <td>...</td>\n",
       "    </tr>\n",
       "    <tr>\n",
       "      <th>369265</th>\n",
       "      <td>brain meant processing million tweet post vide...</td>\n",
       "      <td>chatgpt biggest smartest brain world right now...</td>\n",
       "      <td>0</td>\n",
       "      <td>2022-12-05 17:11:10+00:00</td>\n",
       "    </tr>\n",
       "    <tr>\n",
       "      <th>369266</th>\n",
       "      <td>blockchain enthusiast philanthropist slave jav...</td>\n",
       "      <td>levelsso happy chatgpt team com revolutionary ...</td>\n",
       "      <td>2</td>\n",
       "      <td>2022-12-05 17:10:31+00:00</td>\n",
       "    </tr>\n",
       "    <tr>\n",
       "      <th>369267</th>\n",
       "      <td>mathematician developer amazon previously geob...</td>\n",
       "      <td>russel chatgpt it funny take long time answer ...</td>\n",
       "      <td>1</td>\n",
       "      <td>2022-12-05 17:09:04+00:00</td>\n",
       "    </tr>\n",
       "    <tr>\n",
       "      <th>369268</th>\n",
       "      <td>passionate nature software developer profession</td>\n",
       "      <td>wondering difference jasper chatgpt gpt chatgp...</td>\n",
       "      <td>2</td>\n",
       "      <td>2022-12-05 17:08:44+00:00</td>\n",
       "    </tr>\n",
       "    <tr>\n",
       "      <th>369269</th>\n",
       "      <td>postdoc gipplab unigoettingen phd unikonstanz ...</td>\n",
       "      <td>chatgpt similar llm pose challenge academic in...</td>\n",
       "      <td>2</td>\n",
       "      <td>2022-12-05 17:08:20+00:00</td>\n",
       "    </tr>\n",
       "  </tbody>\n",
       "</table>\n",
       "<p>369270 rows × 4 columns</p>\n",
       "</div>"
      ],
      "text/plain": [
       "                                         user_description  \\\n",
       "0       building draftmateai developer author chatgpt ...   \n",
       "1       nomadic marketing vigilante graphic web design...   \n",
       "2       leading translation management platform locali...   \n",
       "3       engineering leader coach mentor building remot...   \n",
       "4       stop learning research develop uild future eyo...   \n",
       "...                                                   ...   \n",
       "369265  brain meant processing million tweet post vide...   \n",
       "369266  blockchain enthusiast philanthropist slave jav...   \n",
       "369267  mathematician developer amazon previously geob...   \n",
       "369268    passionate nature software developer profession   \n",
       "369269  postdoc gipplab unigoettingen phd unikonstanz ...   \n",
       "\n",
       "                                                   tweets  label  \\\n",
       "0       happy share draftmateai support day free trial...      2   \n",
       "1       integrate chatgpt marketo smart campaign disco...      2   \n",
       "2       pleased announce new patentpending technology ...      2   \n",
       "3       starting tire scolded chatgpt slight perceived...      1   \n",
       "4       spartajustice it notable wikipedia entry john ...      2   \n",
       "...                                                   ...    ...   \n",
       "369265  chatgpt biggest smartest brain world right now...      0   \n",
       "369266  levelsso happy chatgpt team com revolutionary ...      2   \n",
       "369267  russel chatgpt it funny take long time answer ...      1   \n",
       "369268  wondering difference jasper chatgpt gpt chatgp...      2   \n",
       "369269  chatgpt similar llm pose challenge academic in...      2   \n",
       "\n",
       "                             date  \n",
       "0       2023-04-26 13:02:16+00:00  \n",
       "1       2023-04-26 13:02:06+00:00  \n",
       "2       2023-04-26 13:02:05+00:00  \n",
       "3       2023-04-26 13:02:00+00:00  \n",
       "4       2023-04-26 13:01:52+00:00  \n",
       "...                           ...  \n",
       "369265  2022-12-05 17:11:10+00:00  \n",
       "369266  2022-12-05 17:10:31+00:00  \n",
       "369267  2022-12-05 17:09:04+00:00  \n",
       "369268  2022-12-05 17:08:44+00:00  \n",
       "369269  2022-12-05 17:08:20+00:00  \n",
       "\n",
       "[369270 rows x 4 columns]"
      ]
     },
     "execution_count": 71,
     "metadata": {},
     "output_type": "execute_result"
    }
   ],
   "source": [
    "result"
   ]
  },
  {
   "cell_type": "code",
   "execution_count": 72,
   "id": "645081b2",
   "metadata": {},
   "outputs": [],
   "source": [
    "result['label'] = result['label'].replace({0: 'negativ', 1: 'neutral', 2: 'positiv'})"
   ]
  },
  {
   "cell_type": "code",
   "execution_count": 73,
   "id": "7425af0e",
   "metadata": {
    "scrolled": true
   },
   "outputs": [
    {
     "data": {
      "text/html": [
       "<div>\n",
       "<style scoped>\n",
       "    .dataframe tbody tr th:only-of-type {\n",
       "        vertical-align: middle;\n",
       "    }\n",
       "\n",
       "    .dataframe tbody tr th {\n",
       "        vertical-align: top;\n",
       "    }\n",
       "\n",
       "    .dataframe thead th {\n",
       "        text-align: right;\n",
       "    }\n",
       "</style>\n",
       "<table border=\"1\" class=\"dataframe\">\n",
       "  <thead>\n",
       "    <tr style=\"text-align: right;\">\n",
       "      <th></th>\n",
       "      <th>user_description</th>\n",
       "      <th>tweets</th>\n",
       "      <th>label</th>\n",
       "      <th>date</th>\n",
       "    </tr>\n",
       "  </thead>\n",
       "  <tbody>\n",
       "    <tr>\n",
       "      <th>0</th>\n",
       "      <td>building draftmateai developer author chatgpt ...</td>\n",
       "      <td>happy share draftmateai support day free trial...</td>\n",
       "      <td>positiv</td>\n",
       "      <td>2023-04-26 13:02:16+00:00</td>\n",
       "    </tr>\n",
       "    <tr>\n",
       "      <th>1</th>\n",
       "      <td>nomadic marketing vigilante graphic web design...</td>\n",
       "      <td>integrate chatgpt marketo smart campaign disco...</td>\n",
       "      <td>positiv</td>\n",
       "      <td>2023-04-26 13:02:06+00:00</td>\n",
       "    </tr>\n",
       "    <tr>\n",
       "      <th>2</th>\n",
       "      <td>leading translation management platform locali...</td>\n",
       "      <td>pleased announce new patentpending technology ...</td>\n",
       "      <td>positiv</td>\n",
       "      <td>2023-04-26 13:02:05+00:00</td>\n",
       "    </tr>\n",
       "    <tr>\n",
       "      <th>3</th>\n",
       "      <td>engineering leader coach mentor building remot...</td>\n",
       "      <td>starting tire scolded chatgpt slight perceived...</td>\n",
       "      <td>neutral</td>\n",
       "      <td>2023-04-26 13:02:00+00:00</td>\n",
       "    </tr>\n",
       "    <tr>\n",
       "      <th>4</th>\n",
       "      <td>stop learning research develop uild future eyo...</td>\n",
       "      <td>spartajustice it notable wikipedia entry john ...</td>\n",
       "      <td>positiv</td>\n",
       "      <td>2023-04-26 13:01:52+00:00</td>\n",
       "    </tr>\n",
       "    <tr>\n",
       "      <th>...</th>\n",
       "      <td>...</td>\n",
       "      <td>...</td>\n",
       "      <td>...</td>\n",
       "      <td>...</td>\n",
       "    </tr>\n",
       "    <tr>\n",
       "      <th>369265</th>\n",
       "      <td>brain meant processing million tweet post vide...</td>\n",
       "      <td>chatgpt biggest smartest brain world right now...</td>\n",
       "      <td>negativ</td>\n",
       "      <td>2022-12-05 17:11:10+00:00</td>\n",
       "    </tr>\n",
       "    <tr>\n",
       "      <th>369266</th>\n",
       "      <td>blockchain enthusiast philanthropist slave jav...</td>\n",
       "      <td>levelsso happy chatgpt team com revolutionary ...</td>\n",
       "      <td>positiv</td>\n",
       "      <td>2022-12-05 17:10:31+00:00</td>\n",
       "    </tr>\n",
       "    <tr>\n",
       "      <th>369267</th>\n",
       "      <td>mathematician developer amazon previously geob...</td>\n",
       "      <td>russel chatgpt it funny take long time answer ...</td>\n",
       "      <td>neutral</td>\n",
       "      <td>2022-12-05 17:09:04+00:00</td>\n",
       "    </tr>\n",
       "    <tr>\n",
       "      <th>369268</th>\n",
       "      <td>passionate nature software developer profession</td>\n",
       "      <td>wondering difference jasper chatgpt gpt chatgp...</td>\n",
       "      <td>positiv</td>\n",
       "      <td>2022-12-05 17:08:44+00:00</td>\n",
       "    </tr>\n",
       "    <tr>\n",
       "      <th>369269</th>\n",
       "      <td>postdoc gipplab unigoettingen phd unikonstanz ...</td>\n",
       "      <td>chatgpt similar llm pose challenge academic in...</td>\n",
       "      <td>positiv</td>\n",
       "      <td>2022-12-05 17:08:20+00:00</td>\n",
       "    </tr>\n",
       "  </tbody>\n",
       "</table>\n",
       "<p>369270 rows × 4 columns</p>\n",
       "</div>"
      ],
      "text/plain": [
       "                                         user_description  \\\n",
       "0       building draftmateai developer author chatgpt ...   \n",
       "1       nomadic marketing vigilante graphic web design...   \n",
       "2       leading translation management platform locali...   \n",
       "3       engineering leader coach mentor building remot...   \n",
       "4       stop learning research develop uild future eyo...   \n",
       "...                                                   ...   \n",
       "369265  brain meant processing million tweet post vide...   \n",
       "369266  blockchain enthusiast philanthropist slave jav...   \n",
       "369267  mathematician developer amazon previously geob...   \n",
       "369268    passionate nature software developer profession   \n",
       "369269  postdoc gipplab unigoettingen phd unikonstanz ...   \n",
       "\n",
       "                                                   tweets    label  \\\n",
       "0       happy share draftmateai support day free trial...  positiv   \n",
       "1       integrate chatgpt marketo smart campaign disco...  positiv   \n",
       "2       pleased announce new patentpending technology ...  positiv   \n",
       "3       starting tire scolded chatgpt slight perceived...  neutral   \n",
       "4       spartajustice it notable wikipedia entry john ...  positiv   \n",
       "...                                                   ...      ...   \n",
       "369265  chatgpt biggest smartest brain world right now...  negativ   \n",
       "369266  levelsso happy chatgpt team com revolutionary ...  positiv   \n",
       "369267  russel chatgpt it funny take long time answer ...  neutral   \n",
       "369268  wondering difference jasper chatgpt gpt chatgp...  positiv   \n",
       "369269  chatgpt similar llm pose challenge academic in...  positiv   \n",
       "\n",
       "                             date  \n",
       "0       2023-04-26 13:02:16+00:00  \n",
       "1       2023-04-26 13:02:06+00:00  \n",
       "2       2023-04-26 13:02:05+00:00  \n",
       "3       2023-04-26 13:02:00+00:00  \n",
       "4       2023-04-26 13:01:52+00:00  \n",
       "...                           ...  \n",
       "369265  2022-12-05 17:11:10+00:00  \n",
       "369266  2022-12-05 17:10:31+00:00  \n",
       "369267  2022-12-05 17:09:04+00:00  \n",
       "369268  2022-12-05 17:08:44+00:00  \n",
       "369269  2022-12-05 17:08:20+00:00  \n",
       "\n",
       "[369270 rows x 4 columns]"
      ]
     },
     "execution_count": 73,
     "metadata": {},
     "output_type": "execute_result"
    }
   ],
   "source": [
    "result"
   ]
  },
  {
   "cell_type": "code",
   "execution_count": 74,
   "id": "046928bd",
   "metadata": {},
   "outputs": [],
   "source": [
    "result.to_csv('datasets/sentiment_chatgpt.csv')"
   ]
  },
  {
   "cell_type": "code",
   "execution_count": null,
   "id": "f9b2279a",
   "metadata": {},
   "outputs": [],
   "source": []
  }
 ],
 "metadata": {
  "kernelspec": {
   "display_name": "Python 3 (ipykernel)",
   "language": "python",
   "name": "python3"
  },
  "language_info": {
   "codemirror_mode": {
    "name": "ipython",
    "version": 3
   },
   "file_extension": ".py",
   "mimetype": "text/x-python",
   "name": "python",
   "nbconvert_exporter": "python",
   "pygments_lexer": "ipython3",
   "version": "3.9.13"
  }
 },
 "nbformat": 4,
 "nbformat_minor": 5
}
