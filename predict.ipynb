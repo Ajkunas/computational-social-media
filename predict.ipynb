{
 "cells": [
  {
   "cell_type": "code",
   "execution_count": 10,
   "id": "8f7a6dfc",
   "metadata": {},
   "outputs": [],
   "source": [
    "from keras.models import load_model\n",
    "import numpy as np \n",
    "import pandas as pd\n",
    "\n",
    "from keras.preprocessing.text import Tokenizer\n",
    "from tensorflow.keras.utils import pad_sequences"
   ]
  },
  {
   "cell_type": "markdown",
   "id": "efd7e643",
   "metadata": {},
   "source": [
    "### Predicting sentiment of release of first month of chatGPT"
   ]
  },
  {
   "cell_type": "code",
   "execution_count": 11,
   "id": "250ef2a8",
   "metadata": {},
   "outputs": [],
   "source": [
    "df = pd.read_csv('datasets/preprocessed_chatgptfirst.csv')"
   ]
  },
  {
   "cell_type": "code",
   "execution_count": null,
   "id": "ed33bbb2",
   "metadata": {},
   "outputs": [],
   "source": [
    "df = df['tweet']"
   ]
  },
  {
   "cell_type": "code",
   "execution_count": 19,
   "id": "c048f060",
   "metadata": {},
   "outputs": [
    {
     "data": {
      "text/plain": [
       "14"
      ]
     },
     "execution_count": 19,
     "metadata": {},
     "output_type": "execute_result"
    }
   ],
   "source": [
    "# check if there is any NaN value\n",
    "\n",
    "df.isnull().values.any()\n",
    "df.isnull().sum()"
   ]
  },
  {
   "cell_type": "code",
   "execution_count": 21,
   "id": "183d8ca6",
   "metadata": {},
   "outputs": [],
   "source": [
    "# drop the NaN values if any\n",
    "\n",
    "df = df.dropna()"
   ]
  },
  {
   "cell_type": "code",
   "execution_count": 22,
   "id": "e1d3b56b",
   "metadata": {},
   "outputs": [
    {
     "data": {
      "text/plain": [
       "0"
      ]
     },
     "execution_count": 22,
     "metadata": {},
     "output_type": "execute_result"
    }
   ],
   "source": [
    "df.isnull().values.any()\n",
    "df.isnull().sum()"
   ]
  },
  {
   "cell_type": "code",
   "execution_count": 12,
   "id": "1ed2f240",
   "metadata": {},
   "outputs": [
    {
     "name": "stdout",
     "output_type": "stream",
     "text": [
      "Model: \"sequential\"\n",
      "_________________________________________________________________\n",
      " Layer (type)                Output Shape              Param #   \n",
      "=================================================================\n",
      " embedding (Embedding)       (None, 100, 100)          11683700  \n",
      "                                                                 \n",
      " conv1d (Conv1D)             (None, 99, 32)            6432      \n",
      "                                                                 \n",
      " max_pooling1d (MaxPooling1D  (None, 49, 32)           0         \n",
      " )                                                               \n",
      "                                                                 \n",
      " conv1d_1 (Conv1D)           (None, 48, 32)            2080      \n",
      "                                                                 \n",
      " dropout (Dropout)           (None, 48, 32)            0         \n",
      "                                                                 \n",
      " conv1d_2 (Conv1D)           (None, 47, 16)            1040      \n",
      "                                                                 \n",
      " max_pooling1d_1 (MaxPooling  (None, 23, 16)           0         \n",
      " 1D)                                                             \n",
      "                                                                 \n",
      " conv1d_3 (Conv1D)           (None, 22, 16)            528       \n",
      "                                                                 \n",
      " dropout_1 (Dropout)         (None, 22, 16)            0         \n",
      "                                                                 \n",
      " flatten (Flatten)           (None, 352)               0         \n",
      "                                                                 \n",
      " dense (Dense)               (None, 64)                22592     \n",
      "                                                                 \n",
      " dropout_2 (Dropout)         (None, 64)                0         \n",
      "                                                                 \n",
      " dense_1 (Dense)             (None, 3)                 195       \n",
      "                                                                 \n",
      "=================================================================\n",
      "Total params: 11,716,567\n",
      "Trainable params: 11,716,567\n",
      "Non-trainable params: 0\n",
      "_________________________________________________________________\n",
      "None\n"
     ]
    }
   ],
   "source": [
    "# use the pretrained model \n",
    "model = load_model('model/cnnkeras.h5', compile=False)\n",
    "model.compile(optimizer=\"adam\",\n",
    "                loss='categorical_crossentropy',\n",
    "                metrics=['accuracy'])\n",
    "\n",
    "# Print the summary\n",
    "print(model.summary())"
   ]
  },
  {
   "cell_type": "code",
   "execution_count": 18,
   "id": "eded05fd",
   "metadata": {},
   "outputs": [
    {
     "data": {
      "text/plain": [
       "array(['chatgpt optimizing language models dialogue openai',\n",
       "       'try talking chatgpt new optimized dialogue feedback help improve',\n",
       "       'chatgpt optimizing language models dialogue machinelearning datascience artificialintelligencenntrending aiml article identified amp digested granola machinedriven rss bot ramsey elbasheer',\n",
       "       ..., 'chatgpt disassembled dissemble',\n",
       "       'predictions chatgpt specific trends past years nshould topic days',\n",
       "       'chatgpt neat stuff'], dtype=object)"
      ]
     },
     "execution_count": 18,
     "metadata": {},
     "output_type": "execute_result"
    }
   ],
   "source": [
    "df.values"
   ]
  },
  {
   "cell_type": "code",
   "execution_count": 23,
   "id": "86544acb",
   "metadata": {},
   "outputs": [],
   "source": [
    "tokenizer = Tokenizer(num_words=50000)\n",
    "tokenizer.fit_on_texts(df.values)\n",
    "\n",
    "tweets = tokenizer.texts_to_sequences(df)\n",
    "\n",
    "vocab_size = len(tokenizer.word_index) + 1\n",
    "maxlen = 100\n",
    "\n",
    "tweets = pad_sequences(tweets, padding='post', maxlen=maxlen)\n",
    "\n",
    "word_index = tokenizer.word_index"
   ]
  },
  {
   "cell_type": "code",
   "execution_count": 24,
   "id": "b034ecc8",
   "metadata": {},
   "outputs": [
    {
     "name": "stdout",
     "output_type": "stream",
     "text": [
      "6853/6853 [==============================] - 49023s 7s/step\n"
     ]
    }
   ],
   "source": [
    "# we have that :\n",
    "# 2    positiv\n",
    "# 1    neutral\n",
    "# 0    negativ\n",
    "pred = np.argmax(model.predict(tweets), axis=-1)"
   ]
  },
  {
   "cell_type": "code",
   "execution_count": 25,
   "id": "05030b85",
   "metadata": {},
   "outputs": [
    {
     "data": {
      "text/plain": [
       "array([0, 2, 2, ..., 0, 1, 1], dtype=int64)"
      ]
     },
     "execution_count": 25,
     "metadata": {},
     "output_type": "execute_result"
    }
   ],
   "source": [
    "pred"
   ]
  },
  {
   "cell_type": "code",
   "execution_count": 26,
   "id": "d4fa1044",
   "metadata": {},
   "outputs": [
    {
     "data": {
      "text/plain": [
       "219280"
      ]
     },
     "execution_count": 26,
     "metadata": {},
     "output_type": "execute_result"
    }
   ],
   "source": [
    "len(pred)"
   ]
  },
  {
   "cell_type": "code",
   "execution_count": 27,
   "id": "f54d014f",
   "metadata": {},
   "outputs": [
    {
     "data": {
      "text/plain": [
       "219280"
      ]
     },
     "execution_count": 27,
     "metadata": {},
     "output_type": "execute_result"
    }
   ],
   "source": [
    "len(tweets)"
   ]
  },
  {
   "cell_type": "code",
   "execution_count": 28,
   "id": "c7eb012c",
   "metadata": {},
   "outputs": [
    {
     "data": {
      "text/plain": [
       "array([[    1,  1211,    31, ...,     0,     0,     0],\n",
       "       [   72,   114,     1, ...,     0,     0,     0],\n",
       "       [    1,  1211,    31, ...,     0,     0,     0],\n",
       "       ...,\n",
       "       [    1, 33731, 35798, ...,     0,     0,     0],\n",
       "       [  944,     1,   376, ...,     0,     0,     0],\n",
       "       [    1,  2018,   164, ...,     0,     0,     0]])"
      ]
     },
     "execution_count": 28,
     "metadata": {},
     "output_type": "execute_result"
    }
   ],
   "source": [
    "tweets"
   ]
  },
  {
   "cell_type": "code",
   "execution_count": 29,
   "id": "fd5aad4f",
   "metadata": {},
   "outputs": [
    {
     "data": {
      "text/plain": [
       "0         chatgpt optimizing language models dialogue op...\n",
       "1         try talking chatgpt new optimized dialogue fee...\n",
       "2         chatgpt optimizing language models dialogue ma...\n",
       "3         thrilled share chatgpt new model optimized dia...\n",
       "4         minutes ago openai released new chatgpt nnand ...\n",
       "                                ...                        \n",
       "219289           software projects trying replicate chatgpt\n",
       "219290    asked chatgpt write nye joke seos delivered nn...\n",
       "219291                       chatgpt disassembled dissemble\n",
       "219292    predictions chatgpt specific trends past years...\n",
       "219293                                   chatgpt neat stuff\n",
       "Name: tweet, Length: 219280, dtype: object"
      ]
     },
     "execution_count": 29,
     "metadata": {},
     "output_type": "execute_result"
    }
   ],
   "source": [
    "df"
   ]
  },
  {
   "cell_type": "code",
   "execution_count": 30,
   "id": "796bdf1e",
   "metadata": {},
   "outputs": [
    {
     "data": {
      "text/plain": [
       "219280"
      ]
     },
     "execution_count": 30,
     "metadata": {},
     "output_type": "execute_result"
    }
   ],
   "source": [
    "len(df)"
   ]
  },
  {
   "cell_type": "code",
   "execution_count": 41,
   "id": "c8c14940",
   "metadata": {},
   "outputs": [],
   "source": [
    "data = df.values"
   ]
  },
  {
   "cell_type": "code",
   "execution_count": 42,
   "id": "bd0b6907",
   "metadata": {},
   "outputs": [],
   "source": [
    "dataframe = {'tweets': data, 'label': pred}"
   ]
  },
  {
   "cell_type": "code",
   "execution_count": 55,
   "id": "a4f77b76",
   "metadata": {},
   "outputs": [],
   "source": [
    "result = pd.DataFrame(dataframe)"
   ]
  },
  {
   "cell_type": "code",
   "execution_count": 56,
   "id": "ce337d13",
   "metadata": {},
   "outputs": [
    {
     "data": {
      "text/html": [
       "<div>\n",
       "<style scoped>\n",
       "    .dataframe tbody tr th:only-of-type {\n",
       "        vertical-align: middle;\n",
       "    }\n",
       "\n",
       "    .dataframe tbody tr th {\n",
       "        vertical-align: top;\n",
       "    }\n",
       "\n",
       "    .dataframe thead th {\n",
       "        text-align: right;\n",
       "    }\n",
       "</style>\n",
       "<table border=\"1\" class=\"dataframe\">\n",
       "  <thead>\n",
       "    <tr style=\"text-align: right;\">\n",
       "      <th></th>\n",
       "      <th>tweets</th>\n",
       "      <th>label</th>\n",
       "    </tr>\n",
       "  </thead>\n",
       "  <tbody>\n",
       "    <tr>\n",
       "      <th>0</th>\n",
       "      <td>chatgpt optimizing language models dialogue op...</td>\n",
       "      <td>0</td>\n",
       "    </tr>\n",
       "    <tr>\n",
       "      <th>1</th>\n",
       "      <td>try talking chatgpt new optimized dialogue fee...</td>\n",
       "      <td>2</td>\n",
       "    </tr>\n",
       "    <tr>\n",
       "      <th>2</th>\n",
       "      <td>chatgpt optimizing language models dialogue ma...</td>\n",
       "      <td>2</td>\n",
       "    </tr>\n",
       "    <tr>\n",
       "      <th>3</th>\n",
       "      <td>thrilled share chatgpt new model optimized dia...</td>\n",
       "      <td>1</td>\n",
       "    </tr>\n",
       "    <tr>\n",
       "      <th>4</th>\n",
       "      <td>minutes ago openai released new chatgpt nnand ...</td>\n",
       "      <td>1</td>\n",
       "    </tr>\n",
       "    <tr>\n",
       "      <th>...</th>\n",
       "      <td>...</td>\n",
       "      <td>...</td>\n",
       "    </tr>\n",
       "    <tr>\n",
       "      <th>219275</th>\n",
       "      <td>software projects trying replicate chatgpt</td>\n",
       "      <td>0</td>\n",
       "    </tr>\n",
       "    <tr>\n",
       "      <th>219276</th>\n",
       "      <td>asked chatgpt write nye joke seos delivered nn...</td>\n",
       "      <td>1</td>\n",
       "    </tr>\n",
       "    <tr>\n",
       "      <th>219277</th>\n",
       "      <td>chatgpt disassembled dissemble</td>\n",
       "      <td>0</td>\n",
       "    </tr>\n",
       "    <tr>\n",
       "      <th>219278</th>\n",
       "      <td>predictions chatgpt specific trends past years...</td>\n",
       "      <td>1</td>\n",
       "    </tr>\n",
       "    <tr>\n",
       "      <th>219279</th>\n",
       "      <td>chatgpt neat stuff</td>\n",
       "      <td>1</td>\n",
       "    </tr>\n",
       "  </tbody>\n",
       "</table>\n",
       "<p>219280 rows × 2 columns</p>\n",
       "</div>"
      ],
      "text/plain": [
       "                                                   tweets  label\n",
       "0       chatgpt optimizing language models dialogue op...      0\n",
       "1       try talking chatgpt new optimized dialogue fee...      2\n",
       "2       chatgpt optimizing language models dialogue ma...      2\n",
       "3       thrilled share chatgpt new model optimized dia...      1\n",
       "4       minutes ago openai released new chatgpt nnand ...      1\n",
       "...                                                   ...    ...\n",
       "219275         software projects trying replicate chatgpt      0\n",
       "219276  asked chatgpt write nye joke seos delivered nn...      1\n",
       "219277                     chatgpt disassembled dissemble      0\n",
       "219278  predictions chatgpt specific trends past years...      1\n",
       "219279                                 chatgpt neat stuff      1\n",
       "\n",
       "[219280 rows x 2 columns]"
      ]
     },
     "execution_count": 56,
     "metadata": {},
     "output_type": "execute_result"
    }
   ],
   "source": [
    "result"
   ]
  },
  {
   "cell_type": "code",
   "execution_count": 57,
   "id": "b5f1eee9",
   "metadata": {},
   "outputs": [
    {
     "data": {
      "text/plain": [
       "<bound method NDFrame.head of                                                    tweets  label\n",
       "0       chatgpt optimizing language models dialogue op...      0\n",
       "1       try talking chatgpt new optimized dialogue fee...      2\n",
       "2       chatgpt optimizing language models dialogue ma...      2\n",
       "3       thrilled share chatgpt new model optimized dia...      1\n",
       "4       minutes ago openai released new chatgpt nnand ...      1\n",
       "...                                                   ...    ...\n",
       "219275         software projects trying replicate chatgpt      0\n",
       "219276  asked chatgpt write nye joke seos delivered nn...      1\n",
       "219277                     chatgpt disassembled dissemble      0\n",
       "219278  predictions chatgpt specific trends past years...      1\n",
       "219279                                 chatgpt neat stuff      1\n",
       "\n",
       "[219280 rows x 2 columns]>"
      ]
     },
     "execution_count": 57,
     "metadata": {},
     "output_type": "execute_result"
    }
   ],
   "source": [
    "result.head"
   ]
  },
  {
   "cell_type": "code",
   "execution_count": 60,
   "id": "7e6d682a",
   "metadata": {},
   "outputs": [],
   "source": [
    "result['label'] = result['label'].replace({0: 'negativ', 1: 'neutral', 2: 'positiv'})"
   ]
  },
  {
   "cell_type": "code",
   "execution_count": 61,
   "id": "4b36f065",
   "metadata": {},
   "outputs": [
    {
     "data": {
      "text/html": [
       "<div>\n",
       "<style scoped>\n",
       "    .dataframe tbody tr th:only-of-type {\n",
       "        vertical-align: middle;\n",
       "    }\n",
       "\n",
       "    .dataframe tbody tr th {\n",
       "        vertical-align: top;\n",
       "    }\n",
       "\n",
       "    .dataframe thead th {\n",
       "        text-align: right;\n",
       "    }\n",
       "</style>\n",
       "<table border=\"1\" class=\"dataframe\">\n",
       "  <thead>\n",
       "    <tr style=\"text-align: right;\">\n",
       "      <th></th>\n",
       "      <th>tweets</th>\n",
       "      <th>label</th>\n",
       "    </tr>\n",
       "  </thead>\n",
       "  <tbody>\n",
       "    <tr>\n",
       "      <th>0</th>\n",
       "      <td>chatgpt optimizing language models dialogue op...</td>\n",
       "      <td>negativ</td>\n",
       "    </tr>\n",
       "    <tr>\n",
       "      <th>1</th>\n",
       "      <td>try talking chatgpt new optimized dialogue fee...</td>\n",
       "      <td>positiv</td>\n",
       "    </tr>\n",
       "    <tr>\n",
       "      <th>2</th>\n",
       "      <td>chatgpt optimizing language models dialogue ma...</td>\n",
       "      <td>positiv</td>\n",
       "    </tr>\n",
       "    <tr>\n",
       "      <th>3</th>\n",
       "      <td>thrilled share chatgpt new model optimized dia...</td>\n",
       "      <td>neutral</td>\n",
       "    </tr>\n",
       "    <tr>\n",
       "      <th>4</th>\n",
       "      <td>minutes ago openai released new chatgpt nnand ...</td>\n",
       "      <td>neutral</td>\n",
       "    </tr>\n",
       "    <tr>\n",
       "      <th>...</th>\n",
       "      <td>...</td>\n",
       "      <td>...</td>\n",
       "    </tr>\n",
       "    <tr>\n",
       "      <th>219275</th>\n",
       "      <td>software projects trying replicate chatgpt</td>\n",
       "      <td>negativ</td>\n",
       "    </tr>\n",
       "    <tr>\n",
       "      <th>219276</th>\n",
       "      <td>asked chatgpt write nye joke seos delivered nn...</td>\n",
       "      <td>neutral</td>\n",
       "    </tr>\n",
       "    <tr>\n",
       "      <th>219277</th>\n",
       "      <td>chatgpt disassembled dissemble</td>\n",
       "      <td>negativ</td>\n",
       "    </tr>\n",
       "    <tr>\n",
       "      <th>219278</th>\n",
       "      <td>predictions chatgpt specific trends past years...</td>\n",
       "      <td>neutral</td>\n",
       "    </tr>\n",
       "    <tr>\n",
       "      <th>219279</th>\n",
       "      <td>chatgpt neat stuff</td>\n",
       "      <td>neutral</td>\n",
       "    </tr>\n",
       "  </tbody>\n",
       "</table>\n",
       "<p>219280 rows × 2 columns</p>\n",
       "</div>"
      ],
      "text/plain": [
       "                                                   tweets    label\n",
       "0       chatgpt optimizing language models dialogue op...  negativ\n",
       "1       try talking chatgpt new optimized dialogue fee...  positiv\n",
       "2       chatgpt optimizing language models dialogue ma...  positiv\n",
       "3       thrilled share chatgpt new model optimized dia...  neutral\n",
       "4       minutes ago openai released new chatgpt nnand ...  neutral\n",
       "...                                                   ...      ...\n",
       "219275         software projects trying replicate chatgpt  negativ\n",
       "219276  asked chatgpt write nye joke seos delivered nn...  neutral\n",
       "219277                     chatgpt disassembled dissemble  negativ\n",
       "219278  predictions chatgpt specific trends past years...  neutral\n",
       "219279                                 chatgpt neat stuff  neutral\n",
       "\n",
       "[219280 rows x 2 columns]"
      ]
     },
     "execution_count": 61,
     "metadata": {},
     "output_type": "execute_result"
    }
   ],
   "source": [
    "result"
   ]
  },
  {
   "cell_type": "code",
   "execution_count": 62,
   "id": "238a1157",
   "metadata": {},
   "outputs": [],
   "source": [
    "result.to_csv('datasets/sentiment_chatgptfirst.csv')"
   ]
  },
  {
   "cell_type": "markdown",
   "id": "f71e215b",
   "metadata": {},
   "source": [
    "### Predicting sentiment of last two months of release of chatGPT"
   ]
  },
  {
   "cell_type": "code",
   "execution_count": 63,
   "id": "c4b71efa",
   "metadata": {},
   "outputs": [],
   "source": [
    "df = pd.read_csv('datasets/preprocessed_chatgpt2last.csv')"
   ]
  },
  {
   "cell_type": "code",
   "execution_count": 64,
   "id": "490647ca",
   "metadata": {},
   "outputs": [
    {
     "data": {
      "text/plain": [
       "<bound method NDFrame.head of         Unnamed: 0                                               text\n",
       "0              153  fake chatgpts flood app store chatgpt appstore...\n",
       "1              154  republicans release aigenerated attack preside...\n",
       "2              155  sell rsi bybit recommendation short ticker zrx...\n",
       "3              156  interesting chatgpt kept failing test promptge...\n",
       "4              157  favourite chatgpt prompt day day act end devel...\n",
       "...            ...                                                ...\n",
       "188573      190488  good bad ugly typical chatgpt video chatgpt mi...\n",
       "188574      190489  check new free tradingstrategy chatgpt alligat...\n",
       "188575      190490                             new enemy todaychatgpt\n",
       "188576      190491  cutie girl degenai altcoins altcoin degenai ge...\n",
       "188577      190492  degenai amazing instant chat bot fast generate...\n",
       "\n",
       "[188578 rows x 2 columns]>"
      ]
     },
     "execution_count": 64,
     "metadata": {},
     "output_type": "execute_result"
    }
   ],
   "source": [
    "df.head"
   ]
  },
  {
   "cell_type": "code",
   "execution_count": 65,
   "id": "7ca3aa97",
   "metadata": {},
   "outputs": [
    {
     "data": {
      "text/plain": [
       "Unnamed: 0    0\n",
       "text          3\n",
       "dtype: int64"
      ]
     },
     "execution_count": 65,
     "metadata": {},
     "output_type": "execute_result"
    }
   ],
   "source": [
    "# check if there is any NaN value\n",
    "\n",
    "df.isnull().values.any()\n",
    "df.isnull().sum()"
   ]
  },
  {
   "cell_type": "code",
   "execution_count": 66,
   "id": "cf8cb5d8",
   "metadata": {},
   "outputs": [],
   "source": [
    "# drop the NaN values if any\n",
    "\n",
    "df = df.dropna()"
   ]
  },
  {
   "cell_type": "code",
   "execution_count": 67,
   "id": "a7af030b",
   "metadata": {},
   "outputs": [
    {
     "data": {
      "text/plain": [
       "Unnamed: 0    0\n",
       "text          0\n",
       "dtype: int64"
      ]
     },
     "execution_count": 67,
     "metadata": {},
     "output_type": "execute_result"
    }
   ],
   "source": [
    "df.isnull().values.any()\n",
    "df.isnull().sum()"
   ]
  },
  {
   "cell_type": "code",
   "execution_count": 68,
   "id": "dce151de",
   "metadata": {},
   "outputs": [
    {
     "data": {
      "text/plain": [
       "Index(['Unnamed: 0', 'text'], dtype='object')"
      ]
     },
     "execution_count": 68,
     "metadata": {},
     "output_type": "execute_result"
    }
   ],
   "source": [
    "df.columns"
   ]
  },
  {
   "cell_type": "code",
   "execution_count": 69,
   "id": "0640ec90",
   "metadata": {},
   "outputs": [],
   "source": [
    "df = df.drop('Unnamed: 0', axis=1)"
   ]
  },
  {
   "cell_type": "code",
   "execution_count": 70,
   "id": "2f76587f",
   "metadata": {},
   "outputs": [
    {
     "data": {
      "text/plain": [
       "Index(['text'], dtype='object')"
      ]
     },
     "execution_count": 70,
     "metadata": {},
     "output_type": "execute_result"
    }
   ],
   "source": [
    "df.columns"
   ]
  },
  {
   "cell_type": "code",
   "execution_count": 71,
   "id": "35381931",
   "metadata": {},
   "outputs": [
    {
     "data": {
      "text/plain": [
       "<bound method NDFrame.head of                                                      text\n",
       "0       fake chatgpts flood app store chatgpt appstore...\n",
       "1       republicans release aigenerated attack preside...\n",
       "2       sell rsi bybit recommendation short ticker zrx...\n",
       "3       interesting chatgpt kept failing test promptge...\n",
       "4       favourite chatgpt prompt day day act end devel...\n",
       "...                                                   ...\n",
       "188573  good bad ugly typical chatgpt video chatgpt mi...\n",
       "188574  check new free tradingstrategy chatgpt alligat...\n",
       "188575                             new enemy todaychatgpt\n",
       "188576  cutie girl degenai altcoins altcoin degenai ge...\n",
       "188577  degenai amazing instant chat bot fast generate...\n",
       "\n",
       "[188575 rows x 1 columns]>"
      ]
     },
     "execution_count": 71,
     "metadata": {},
     "output_type": "execute_result"
    }
   ],
   "source": [
    "df.head"
   ]
  },
  {
   "cell_type": "code",
   "execution_count": 74,
   "id": "2ab90393",
   "metadata": {},
   "outputs": [
    {
     "data": {
      "text/plain": [
       "text    0\n",
       "dtype: int64"
      ]
     },
     "execution_count": 74,
     "metadata": {},
     "output_type": "execute_result"
    }
   ],
   "source": [
    "df.isnull().values.any()\n",
    "df.isnull().sum()"
   ]
  },
  {
   "cell_type": "code",
   "execution_count": 91,
   "id": "71cc0a91",
   "metadata": {},
   "outputs": [
    {
     "name": "stdout",
     "output_type": "stream",
     "text": [
      "Model: \"sequential\"\n",
      "_________________________________________________________________\n",
      " Layer (type)                Output Shape              Param #   \n",
      "=================================================================\n",
      " embedding (Embedding)       (None, 100, 100)          11683700  \n",
      "                                                                 \n",
      " conv1d (Conv1D)             (None, 99, 32)            6432      \n",
      "                                                                 \n",
      " max_pooling1d (MaxPooling1D  (None, 49, 32)           0         \n",
      " )                                                               \n",
      "                                                                 \n",
      " conv1d_1 (Conv1D)           (None, 48, 32)            2080      \n",
      "                                                                 \n",
      " dropout (Dropout)           (None, 48, 32)            0         \n",
      "                                                                 \n",
      " conv1d_2 (Conv1D)           (None, 47, 16)            1040      \n",
      "                                                                 \n",
      " max_pooling1d_1 (MaxPooling  (None, 23, 16)           0         \n",
      " 1D)                                                             \n",
      "                                                                 \n",
      " conv1d_3 (Conv1D)           (None, 22, 16)            528       \n",
      "                                                                 \n",
      " dropout_1 (Dropout)         (None, 22, 16)            0         \n",
      "                                                                 \n",
      " flatten (Flatten)           (None, 352)               0         \n",
      "                                                                 \n",
      " dense (Dense)               (None, 64)                22592     \n",
      "                                                                 \n",
      " dropout_2 (Dropout)         (None, 64)                0         \n",
      "                                                                 \n",
      " dense_1 (Dense)             (None, 3)                 195       \n",
      "                                                                 \n",
      "=================================================================\n",
      "Total params: 11,716,567\n",
      "Trainable params: 11,716,567\n",
      "Non-trainable params: 0\n",
      "_________________________________________________________________\n",
      "None\n"
     ]
    }
   ],
   "source": [
    "# use the pretrained model \n",
    "model = load_model('model/cnnkeras.h5', compile=False)\n",
    "model.compile(optimizer=\"adam\",\n",
    "                loss='categorical_crossentropy',\n",
    "                metrics=['accuracy'])\n",
    "\n",
    "# Print the summary\n",
    "print(model.summary())"
   ]
  },
  {
   "cell_type": "code",
   "execution_count": 81,
   "id": "6235e9ae",
   "metadata": {},
   "outputs": [
    {
     "data": {
      "text/plain": [
       "array([['fake chatgpts flood app store chatgpt appstore apple chatgptnews gpt artificialintelligence ainews aiupdate appstorescam applescam dailynews'],\n",
       "       ['republicans release aigenerated attack president biden twiceweekly news guide tracks largelanguagemodels useful tools chatgpt bard bing update sunday'],\n",
       "       ['sell rsi bybit recommendation short ticker zrxusdt minute candle price rsi powered chatgpt zrx zrx'],\n",
       "       ...,\n",
       "       ['new enemy todaychatgpt'],\n",
       "       ['cutie girl degenai altcoins altcoin degenai gems imgnai crypto cai cryptoai chatgpt cryptocurrency'],\n",
       "       ['degenai amazing instant chat bot fast generated words degenai altcoins altcoin degenai gems imgnai crypto cai cryptoai chatgpt cryptocurrency']],\n",
       "      dtype=object)"
      ]
     },
     "execution_count": 81,
     "metadata": {},
     "output_type": "execute_result"
    }
   ],
   "source": [
    "df.values"
   ]
  },
  {
   "cell_type": "code",
   "execution_count": 101,
   "id": "258062e8",
   "metadata": {},
   "outputs": [
    {
     "data": {
      "text/plain": [
       "188575"
      ]
     },
     "execution_count": 101,
     "metadata": {},
     "output_type": "execute_result"
    }
   ],
   "source": [
    "len(df)"
   ]
  },
  {
   "cell_type": "code",
   "execution_count": 89,
   "id": "846c495b",
   "metadata": {},
   "outputs": [
    {
     "data": {
      "text/plain": [
       "188575"
      ]
     },
     "execution_count": 89,
     "metadata": {},
     "output_type": "execute_result"
    }
   ],
   "source": [
    "len(df.values)"
   ]
  },
  {
   "cell_type": "code",
   "execution_count": 87,
   "id": "5b90e0dd",
   "metadata": {},
   "outputs": [],
   "source": [
    "temp = df.values.ravel()"
   ]
  },
  {
   "cell_type": "code",
   "execution_count": 88,
   "id": "c51b3e1e",
   "metadata": {},
   "outputs": [
    {
     "data": {
      "text/plain": [
       "188575"
      ]
     },
     "execution_count": 88,
     "metadata": {},
     "output_type": "execute_result"
    }
   ],
   "source": [
    "len(temp)"
   ]
  },
  {
   "cell_type": "code",
   "execution_count": 90,
   "id": "d5150471",
   "metadata": {},
   "outputs": [
    {
     "data": {
      "text/plain": [
       "numpy.ndarray"
      ]
     },
     "execution_count": 90,
     "metadata": {},
     "output_type": "execute_result"
    }
   ],
   "source": [
    "type(temp)"
   ]
  },
  {
   "cell_type": "code",
   "execution_count": 97,
   "id": "977cbf23",
   "metadata": {},
   "outputs": [],
   "source": [
    "tokenizer = Tokenizer(num_words=50000)\n",
    "tokenizer.fit_on_texts(temp)\n",
    "\n",
    "tweets = tokenizer.texts_to_sequences(df.values.ravel())\n",
    "\n",
    "vocab_size = len(tokenizer.word_index) + 1\n",
    "maxlen = 100\n",
    "\n",
    "tweets = pad_sequences(tweets, padding='post', maxlen=maxlen)\n",
    "\n",
    "word_index = tokenizer.word_index"
   ]
  },
  {
   "cell_type": "code",
   "execution_count": 98,
   "id": "e4771370",
   "metadata": {},
   "outputs": [
    {
     "data": {
      "text/plain": [
       "array([[  362,   286,  6541, ...,     0,     0,     0],\n",
       "       [ 8370,   514,   583, ...,     0,     0,     0],\n",
       "       [  161,    19,   137, ...,     0,     0,     0],\n",
       "       ...,\n",
       "       [    6,  6688, 38362, ...,     0,     0,     0],\n",
       "       [34872,  2281,  2122, ...,     0,     0,     0],\n",
       "       [ 2122,   110,  2048, ...,     0,     0,     0]])"
      ]
     },
     "execution_count": 98,
     "metadata": {},
     "output_type": "execute_result"
    }
   ],
   "source": [
    "tweets"
   ]
  },
  {
   "cell_type": "code",
   "execution_count": 99,
   "id": "4a269967",
   "metadata": {},
   "outputs": [
    {
     "name": "stdout",
     "output_type": "stream",
     "text": [
      "5893/5893 [==============================] - 26s 4ms/step\n"
     ]
    }
   ],
   "source": [
    "# we have that :\n",
    "# 2    positiv\n",
    "# 1    neutral\n",
    "# 0    negativ\n",
    "pred = np.argmax(model.predict(tweets), axis=-1)"
   ]
  },
  {
   "cell_type": "code",
   "execution_count": 100,
   "id": "ac1aa7b9",
   "metadata": {},
   "outputs": [
    {
     "data": {
      "text/plain": [
       "array([0, 2, 2, ..., 0, 1, 2], dtype=int64)"
      ]
     },
     "execution_count": 100,
     "metadata": {},
     "output_type": "execute_result"
    }
   ],
   "source": [
    "pred"
   ]
  },
  {
   "cell_type": "code",
   "execution_count": 102,
   "id": "20b29089",
   "metadata": {},
   "outputs": [
    {
     "data": {
      "text/plain": [
       "188575"
      ]
     },
     "execution_count": 102,
     "metadata": {},
     "output_type": "execute_result"
    }
   ],
   "source": [
    "len(pred)"
   ]
  },
  {
   "cell_type": "code",
   "execution_count": 105,
   "id": "75b1adfa",
   "metadata": {},
   "outputs": [],
   "source": [
    "data = df.values.ravel()"
   ]
  },
  {
   "cell_type": "code",
   "execution_count": 106,
   "id": "ce38214a",
   "metadata": {},
   "outputs": [],
   "source": [
    "dataframe = {'tweets': data, 'label': pred}"
   ]
  },
  {
   "cell_type": "code",
   "execution_count": 107,
   "id": "18643b09",
   "metadata": {},
   "outputs": [],
   "source": [
    "result = pd.DataFrame(dataframe)"
   ]
  },
  {
   "cell_type": "code",
   "execution_count": 108,
   "id": "2e4430f6",
   "metadata": {},
   "outputs": [
    {
     "data": {
      "text/html": [
       "<div>\n",
       "<style scoped>\n",
       "    .dataframe tbody tr th:only-of-type {\n",
       "        vertical-align: middle;\n",
       "    }\n",
       "\n",
       "    .dataframe tbody tr th {\n",
       "        vertical-align: top;\n",
       "    }\n",
       "\n",
       "    .dataframe thead th {\n",
       "        text-align: right;\n",
       "    }\n",
       "</style>\n",
       "<table border=\"1\" class=\"dataframe\">\n",
       "  <thead>\n",
       "    <tr style=\"text-align: right;\">\n",
       "      <th></th>\n",
       "      <th>tweets</th>\n",
       "      <th>label</th>\n",
       "    </tr>\n",
       "  </thead>\n",
       "  <tbody>\n",
       "    <tr>\n",
       "      <th>0</th>\n",
       "      <td>fake chatgpts flood app store chatgpt appstore...</td>\n",
       "      <td>0</td>\n",
       "    </tr>\n",
       "    <tr>\n",
       "      <th>1</th>\n",
       "      <td>republicans release aigenerated attack preside...</td>\n",
       "      <td>2</td>\n",
       "    </tr>\n",
       "    <tr>\n",
       "      <th>2</th>\n",
       "      <td>sell rsi bybit recommendation short ticker zrx...</td>\n",
       "      <td>2</td>\n",
       "    </tr>\n",
       "    <tr>\n",
       "      <th>3</th>\n",
       "      <td>interesting chatgpt kept failing test promptge...</td>\n",
       "      <td>2</td>\n",
       "    </tr>\n",
       "    <tr>\n",
       "      <th>4</th>\n",
       "      <td>favourite chatgpt prompt day day act end devel...</td>\n",
       "      <td>1</td>\n",
       "    </tr>\n",
       "    <tr>\n",
       "      <th>...</th>\n",
       "      <td>...</td>\n",
       "      <td>...</td>\n",
       "    </tr>\n",
       "    <tr>\n",
       "      <th>188570</th>\n",
       "      <td>good bad ugly typical chatgpt video chatgpt mi...</td>\n",
       "      <td>1</td>\n",
       "    </tr>\n",
       "    <tr>\n",
       "      <th>188571</th>\n",
       "      <td>check new free tradingstrategy chatgpt alligat...</td>\n",
       "      <td>2</td>\n",
       "    </tr>\n",
       "    <tr>\n",
       "      <th>188572</th>\n",
       "      <td>new enemy todaychatgpt</td>\n",
       "      <td>0</td>\n",
       "    </tr>\n",
       "    <tr>\n",
       "      <th>188573</th>\n",
       "      <td>cutie girl degenai altcoins altcoin degenai ge...</td>\n",
       "      <td>1</td>\n",
       "    </tr>\n",
       "    <tr>\n",
       "      <th>188574</th>\n",
       "      <td>degenai amazing instant chat bot fast generate...</td>\n",
       "      <td>2</td>\n",
       "    </tr>\n",
       "  </tbody>\n",
       "</table>\n",
       "<p>188575 rows × 2 columns</p>\n",
       "</div>"
      ],
      "text/plain": [
       "                                                   tweets  label\n",
       "0       fake chatgpts flood app store chatgpt appstore...      0\n",
       "1       republicans release aigenerated attack preside...      2\n",
       "2       sell rsi bybit recommendation short ticker zrx...      2\n",
       "3       interesting chatgpt kept failing test promptge...      2\n",
       "4       favourite chatgpt prompt day day act end devel...      1\n",
       "...                                                   ...    ...\n",
       "188570  good bad ugly typical chatgpt video chatgpt mi...      1\n",
       "188571  check new free tradingstrategy chatgpt alligat...      2\n",
       "188572                             new enemy todaychatgpt      0\n",
       "188573  cutie girl degenai altcoins altcoin degenai ge...      1\n",
       "188574  degenai amazing instant chat bot fast generate...      2\n",
       "\n",
       "[188575 rows x 2 columns]"
      ]
     },
     "execution_count": 108,
     "metadata": {},
     "output_type": "execute_result"
    }
   ],
   "source": [
    "result"
   ]
  },
  {
   "cell_type": "code",
   "execution_count": 109,
   "id": "ba91adf9",
   "metadata": {},
   "outputs": [],
   "source": [
    "result['label'] = result['label'].replace({0: 'negativ', 1: 'neutral', 2: 'positiv'})"
   ]
  },
  {
   "cell_type": "code",
   "execution_count": 110,
   "id": "f0a1be5f",
   "metadata": {},
   "outputs": [
    {
     "data": {
      "text/html": [
       "<div>\n",
       "<style scoped>\n",
       "    .dataframe tbody tr th:only-of-type {\n",
       "        vertical-align: middle;\n",
       "    }\n",
       "\n",
       "    .dataframe tbody tr th {\n",
       "        vertical-align: top;\n",
       "    }\n",
       "\n",
       "    .dataframe thead th {\n",
       "        text-align: right;\n",
       "    }\n",
       "</style>\n",
       "<table border=\"1\" class=\"dataframe\">\n",
       "  <thead>\n",
       "    <tr style=\"text-align: right;\">\n",
       "      <th></th>\n",
       "      <th>tweets</th>\n",
       "      <th>label</th>\n",
       "    </tr>\n",
       "  </thead>\n",
       "  <tbody>\n",
       "    <tr>\n",
       "      <th>0</th>\n",
       "      <td>fake chatgpts flood app store chatgpt appstore...</td>\n",
       "      <td>negativ</td>\n",
       "    </tr>\n",
       "    <tr>\n",
       "      <th>1</th>\n",
       "      <td>republicans release aigenerated attack preside...</td>\n",
       "      <td>positiv</td>\n",
       "    </tr>\n",
       "    <tr>\n",
       "      <th>2</th>\n",
       "      <td>sell rsi bybit recommendation short ticker zrx...</td>\n",
       "      <td>positiv</td>\n",
       "    </tr>\n",
       "    <tr>\n",
       "      <th>3</th>\n",
       "      <td>interesting chatgpt kept failing test promptge...</td>\n",
       "      <td>positiv</td>\n",
       "    </tr>\n",
       "    <tr>\n",
       "      <th>4</th>\n",
       "      <td>favourite chatgpt prompt day day act end devel...</td>\n",
       "      <td>neutral</td>\n",
       "    </tr>\n",
       "    <tr>\n",
       "      <th>...</th>\n",
       "      <td>...</td>\n",
       "      <td>...</td>\n",
       "    </tr>\n",
       "    <tr>\n",
       "      <th>188570</th>\n",
       "      <td>good bad ugly typical chatgpt video chatgpt mi...</td>\n",
       "      <td>neutral</td>\n",
       "    </tr>\n",
       "    <tr>\n",
       "      <th>188571</th>\n",
       "      <td>check new free tradingstrategy chatgpt alligat...</td>\n",
       "      <td>positiv</td>\n",
       "    </tr>\n",
       "    <tr>\n",
       "      <th>188572</th>\n",
       "      <td>new enemy todaychatgpt</td>\n",
       "      <td>negativ</td>\n",
       "    </tr>\n",
       "    <tr>\n",
       "      <th>188573</th>\n",
       "      <td>cutie girl degenai altcoins altcoin degenai ge...</td>\n",
       "      <td>neutral</td>\n",
       "    </tr>\n",
       "    <tr>\n",
       "      <th>188574</th>\n",
       "      <td>degenai amazing instant chat bot fast generate...</td>\n",
       "      <td>positiv</td>\n",
       "    </tr>\n",
       "  </tbody>\n",
       "</table>\n",
       "<p>188575 rows × 2 columns</p>\n",
       "</div>"
      ],
      "text/plain": [
       "                                                   tweets    label\n",
       "0       fake chatgpts flood app store chatgpt appstore...  negativ\n",
       "1       republicans release aigenerated attack preside...  positiv\n",
       "2       sell rsi bybit recommendation short ticker zrx...  positiv\n",
       "3       interesting chatgpt kept failing test promptge...  positiv\n",
       "4       favourite chatgpt prompt day day act end devel...  neutral\n",
       "...                                                   ...      ...\n",
       "188570  good bad ugly typical chatgpt video chatgpt mi...  neutral\n",
       "188571  check new free tradingstrategy chatgpt alligat...  positiv\n",
       "188572                             new enemy todaychatgpt  negativ\n",
       "188573  cutie girl degenai altcoins altcoin degenai ge...  neutral\n",
       "188574  degenai amazing instant chat bot fast generate...  positiv\n",
       "\n",
       "[188575 rows x 2 columns]"
      ]
     },
     "execution_count": 110,
     "metadata": {},
     "output_type": "execute_result"
    }
   ],
   "source": [
    "result"
   ]
  },
  {
   "cell_type": "code",
   "execution_count": 111,
   "id": "4100bb8e",
   "metadata": {},
   "outputs": [],
   "source": [
    "result.to_csv('datasets/sentiment_chatgpt2last.csv')"
   ]
  }
 ],
 "metadata": {
  "kernelspec": {
   "display_name": "Python 3 (ipykernel)",
   "language": "python",
   "name": "python3"
  },
  "language_info": {
   "codemirror_mode": {
    "name": "ipython",
    "version": 3
   },
   "file_extension": ".py",
   "mimetype": "text/x-python",
   "name": "python",
   "nbconvert_exporter": "python",
   "pygments_lexer": "ipython3",
   "version": "3.9.13"
  }
 },
 "nbformat": 4,
 "nbformat_minor": 5
}
