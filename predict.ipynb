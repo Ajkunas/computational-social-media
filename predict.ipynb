{
 "cells": [
  {
   "cell_type": "code",
   "execution_count": 12,
   "id": "8f7a6dfc",
   "metadata": {},
   "outputs": [],
   "source": [
    "from keras.models import load_model\n",
    "import numpy as np \n",
    "import pandas as pd\n",
    "\n",
    "from keras.preprocessing.text import Tokenizer\n",
    "from tensorflow.keras.utils import pad_sequences"
   ]
  },
  {
   "cell_type": "markdown",
   "id": "efd7e643",
   "metadata": {},
   "source": [
    "### Predicting sentiment of release of first month of chatGPT"
   ]
  },
  {
   "cell_type": "code",
   "execution_count": 11,
   "id": "250ef2a8",
   "metadata": {},
   "outputs": [],
   "source": [
    "df = pd.read_csv('datasets/preprocessed_chatgptfirst.csv')"
   ]
  },
  {
   "cell_type": "code",
   "execution_count": null,
   "id": "ed33bbb2",
   "metadata": {},
   "outputs": [],
   "source": [
    "df = df['tweet']"
   ]
  },
  {
   "cell_type": "code",
   "execution_count": 19,
   "id": "c048f060",
   "metadata": {},
   "outputs": [
    {
     "data": {
      "text/plain": [
       "14"
      ]
     },
     "execution_count": 19,
     "metadata": {},
     "output_type": "execute_result"
    }
   ],
   "source": [
    "# check if there is any NaN value\n",
    "\n",
    "df.isnull().values.any()\n",
    "df.isnull().sum()"
   ]
  },
  {
   "cell_type": "code",
   "execution_count": 21,
   "id": "183d8ca6",
   "metadata": {},
   "outputs": [],
   "source": [
    "# drop the NaN values if any\n",
    "\n",
    "df = df.dropna()"
   ]
  },
  {
   "cell_type": "code",
   "execution_count": 22,
   "id": "e1d3b56b",
   "metadata": {},
   "outputs": [
    {
     "data": {
      "text/plain": [
       "0"
      ]
     },
     "execution_count": 22,
     "metadata": {},
     "output_type": "execute_result"
    }
   ],
   "source": [
    "df.isnull().values.any()\n",
    "df.isnull().sum()"
   ]
  },
  {
   "cell_type": "code",
   "execution_count": 12,
   "id": "1ed2f240",
   "metadata": {},
   "outputs": [
    {
     "name": "stdout",
     "output_type": "stream",
     "text": [
      "Model: \"sequential\"\n",
      "_________________________________________________________________\n",
      " Layer (type)                Output Shape              Param #   \n",
      "=================================================================\n",
      " embedding (Embedding)       (None, 100, 100)          11683700  \n",
      "                                                                 \n",
      " conv1d (Conv1D)             (None, 99, 32)            6432      \n",
      "                                                                 \n",
      " max_pooling1d (MaxPooling1D  (None, 49, 32)           0         \n",
      " )                                                               \n",
      "                                                                 \n",
      " conv1d_1 (Conv1D)           (None, 48, 32)            2080      \n",
      "                                                                 \n",
      " dropout (Dropout)           (None, 48, 32)            0         \n",
      "                                                                 \n",
      " conv1d_2 (Conv1D)           (None, 47, 16)            1040      \n",
      "                                                                 \n",
      " max_pooling1d_1 (MaxPooling  (None, 23, 16)           0         \n",
      " 1D)                                                             \n",
      "                                                                 \n",
      " conv1d_3 (Conv1D)           (None, 22, 16)            528       \n",
      "                                                                 \n",
      " dropout_1 (Dropout)         (None, 22, 16)            0         \n",
      "                                                                 \n",
      " flatten (Flatten)           (None, 352)               0         \n",
      "                                                                 \n",
      " dense (Dense)               (None, 64)                22592     \n",
      "                                                                 \n",
      " dropout_2 (Dropout)         (None, 64)                0         \n",
      "                                                                 \n",
      " dense_1 (Dense)             (None, 3)                 195       \n",
      "                                                                 \n",
      "=================================================================\n",
      "Total params: 11,716,567\n",
      "Trainable params: 11,716,567\n",
      "Non-trainable params: 0\n",
      "_________________________________________________________________\n",
      "None\n"
     ]
    }
   ],
   "source": [
    "# use the pretrained model \n",
    "model = load_model('model/cnnkeras.h5', compile=False)\n",
    "model.compile(optimizer=\"adam\",\n",
    "                loss='categorical_crossentropy',\n",
    "                metrics=['accuracy'])\n",
    "\n",
    "# Print the summary\n",
    "print(model.summary())"
   ]
  },
  {
   "cell_type": "code",
   "execution_count": 18,
   "id": "eded05fd",
   "metadata": {},
   "outputs": [
    {
     "data": {
      "text/plain": [
       "array(['chatgpt optimizing language models dialogue openai',\n",
       "       'try talking chatgpt new optimized dialogue feedback help improve',\n",
       "       'chatgpt optimizing language models dialogue machinelearning datascience artificialintelligencenntrending aiml article identified amp digested granola machinedriven rss bot ramsey elbasheer',\n",
       "       ..., 'chatgpt disassembled dissemble',\n",
       "       'predictions chatgpt specific trends past years nshould topic days',\n",
       "       'chatgpt neat stuff'], dtype=object)"
      ]
     },
     "execution_count": 18,
     "metadata": {},
     "output_type": "execute_result"
    }
   ],
   "source": [
    "df.values"
   ]
  },
  {
   "cell_type": "code",
   "execution_count": 23,
   "id": "86544acb",
   "metadata": {},
   "outputs": [],
   "source": [
    "tokenizer = Tokenizer(num_words=50000)\n",
    "tokenizer.fit_on_texts(df.values)\n",
    "\n",
    "tweets = tokenizer.texts_to_sequences(df)\n",
    "\n",
    "vocab_size = len(tokenizer.word_index) + 1\n",
    "maxlen = 100\n",
    "\n",
    "tweets = pad_sequences(tweets, padding='post', maxlen=maxlen)\n",
    "\n",
    "word_index = tokenizer.word_index"
   ]
  },
  {
   "cell_type": "code",
   "execution_count": 24,
   "id": "b034ecc8",
   "metadata": {},
   "outputs": [
    {
     "name": "stdout",
     "output_type": "stream",
     "text": [
      "6853/6853 [==============================] - 49023s 7s/step\n"
     ]
    }
   ],
   "source": [
    "# we have that :\n",
    "# 2    positiv\n",
    "# 1    neutral\n",
    "# 0    negativ\n",
    "pred = np.argmax(model.predict(tweets), axis=-1)"
   ]
  },
  {
   "cell_type": "code",
   "execution_count": 25,
   "id": "05030b85",
   "metadata": {},
   "outputs": [
    {
     "data": {
      "text/plain": [
       "array([0, 2, 2, ..., 0, 1, 1], dtype=int64)"
      ]
     },
     "execution_count": 25,
     "metadata": {},
     "output_type": "execute_result"
    }
   ],
   "source": [
    "pred"
   ]
  },
  {
   "cell_type": "code",
   "execution_count": 26,
   "id": "d4fa1044",
   "metadata": {},
   "outputs": [
    {
     "data": {
      "text/plain": [
       "219280"
      ]
     },
     "execution_count": 26,
     "metadata": {},
     "output_type": "execute_result"
    }
   ],
   "source": [
    "len(pred)"
   ]
  },
  {
   "cell_type": "code",
   "execution_count": 27,
   "id": "f54d014f",
   "metadata": {},
   "outputs": [
    {
     "data": {
      "text/plain": [
       "219280"
      ]
     },
     "execution_count": 27,
     "metadata": {},
     "output_type": "execute_result"
    }
   ],
   "source": [
    "len(tweets)"
   ]
  },
  {
   "cell_type": "code",
   "execution_count": 28,
   "id": "c7eb012c",
   "metadata": {},
   "outputs": [
    {
     "data": {
      "text/plain": [
       "array([[    1,  1211,    31, ...,     0,     0,     0],\n",
       "       [   72,   114,     1, ...,     0,     0,     0],\n",
       "       [    1,  1211,    31, ...,     0,     0,     0],\n",
       "       ...,\n",
       "       [    1, 33731, 35798, ...,     0,     0,     0],\n",
       "       [  944,     1,   376, ...,     0,     0,     0],\n",
       "       [    1,  2018,   164, ...,     0,     0,     0]])"
      ]
     },
     "execution_count": 28,
     "metadata": {},
     "output_type": "execute_result"
    }
   ],
   "source": [
    "tweets"
   ]
  },
  {
   "cell_type": "code",
   "execution_count": 29,
   "id": "fd5aad4f",
   "metadata": {},
   "outputs": [
    {
     "data": {
      "text/plain": [
       "0         chatgpt optimizing language models dialogue op...\n",
       "1         try talking chatgpt new optimized dialogue fee...\n",
       "2         chatgpt optimizing language models dialogue ma...\n",
       "3         thrilled share chatgpt new model optimized dia...\n",
       "4         minutes ago openai released new chatgpt nnand ...\n",
       "                                ...                        \n",
       "219289           software projects trying replicate chatgpt\n",
       "219290    asked chatgpt write nye joke seos delivered nn...\n",
       "219291                       chatgpt disassembled dissemble\n",
       "219292    predictions chatgpt specific trends past years...\n",
       "219293                                   chatgpt neat stuff\n",
       "Name: tweet, Length: 219280, dtype: object"
      ]
     },
     "execution_count": 29,
     "metadata": {},
     "output_type": "execute_result"
    }
   ],
   "source": [
    "df"
   ]
  },
  {
   "cell_type": "code",
   "execution_count": 30,
   "id": "796bdf1e",
   "metadata": {},
   "outputs": [
    {
     "data": {
      "text/plain": [
       "219280"
      ]
     },
     "execution_count": 30,
     "metadata": {},
     "output_type": "execute_result"
    }
   ],
   "source": [
    "len(df)"
   ]
  },
  {
   "cell_type": "code",
   "execution_count": 41,
   "id": "c8c14940",
   "metadata": {},
   "outputs": [],
   "source": [
    "data = df.values"
   ]
  },
  {
   "cell_type": "code",
   "execution_count": 42,
   "id": "bd0b6907",
   "metadata": {},
   "outputs": [],
   "source": [
    "dataframe = {'tweets': data, 'label': pred}"
   ]
  },
  {
   "cell_type": "code",
   "execution_count": 55,
   "id": "a4f77b76",
   "metadata": {},
   "outputs": [],
   "source": [
    "result = pd.DataFrame(dataframe)"
   ]
  },
  {
   "cell_type": "code",
   "execution_count": 56,
   "id": "ce337d13",
   "metadata": {},
   "outputs": [
    {
     "data": {
      "text/html": [
       "<div>\n",
       "<style scoped>\n",
       "    .dataframe tbody tr th:only-of-type {\n",
       "        vertical-align: middle;\n",
       "    }\n",
       "\n",
       "    .dataframe tbody tr th {\n",
       "        vertical-align: top;\n",
       "    }\n",
       "\n",
       "    .dataframe thead th {\n",
       "        text-align: right;\n",
       "    }\n",
       "</style>\n",
       "<table border=\"1\" class=\"dataframe\">\n",
       "  <thead>\n",
       "    <tr style=\"text-align: right;\">\n",
       "      <th></th>\n",
       "      <th>tweets</th>\n",
       "      <th>label</th>\n",
       "    </tr>\n",
       "  </thead>\n",
       "  <tbody>\n",
       "    <tr>\n",
       "      <th>0</th>\n",
       "      <td>chatgpt optimizing language models dialogue op...</td>\n",
       "      <td>0</td>\n",
       "    </tr>\n",
       "    <tr>\n",
       "      <th>1</th>\n",
       "      <td>try talking chatgpt new optimized dialogue fee...</td>\n",
       "      <td>2</td>\n",
       "    </tr>\n",
       "    <tr>\n",
       "      <th>2</th>\n",
       "      <td>chatgpt optimizing language models dialogue ma...</td>\n",
       "      <td>2</td>\n",
       "    </tr>\n",
       "    <tr>\n",
       "      <th>3</th>\n",
       "      <td>thrilled share chatgpt new model optimized dia...</td>\n",
       "      <td>1</td>\n",
       "    </tr>\n",
       "    <tr>\n",
       "      <th>4</th>\n",
       "      <td>minutes ago openai released new chatgpt nnand ...</td>\n",
       "      <td>1</td>\n",
       "    </tr>\n",
       "    <tr>\n",
       "      <th>...</th>\n",
       "      <td>...</td>\n",
       "      <td>...</td>\n",
       "    </tr>\n",
       "    <tr>\n",
       "      <th>219275</th>\n",
       "      <td>software projects trying replicate chatgpt</td>\n",
       "      <td>0</td>\n",
       "    </tr>\n",
       "    <tr>\n",
       "      <th>219276</th>\n",
       "      <td>asked chatgpt write nye joke seos delivered nn...</td>\n",
       "      <td>1</td>\n",
       "    </tr>\n",
       "    <tr>\n",
       "      <th>219277</th>\n",
       "      <td>chatgpt disassembled dissemble</td>\n",
       "      <td>0</td>\n",
       "    </tr>\n",
       "    <tr>\n",
       "      <th>219278</th>\n",
       "      <td>predictions chatgpt specific trends past years...</td>\n",
       "      <td>1</td>\n",
       "    </tr>\n",
       "    <tr>\n",
       "      <th>219279</th>\n",
       "      <td>chatgpt neat stuff</td>\n",
       "      <td>1</td>\n",
       "    </tr>\n",
       "  </tbody>\n",
       "</table>\n",
       "<p>219280 rows × 2 columns</p>\n",
       "</div>"
      ],
      "text/plain": [
       "                                                   tweets  label\n",
       "0       chatgpt optimizing language models dialogue op...      0\n",
       "1       try talking chatgpt new optimized dialogue fee...      2\n",
       "2       chatgpt optimizing language models dialogue ma...      2\n",
       "3       thrilled share chatgpt new model optimized dia...      1\n",
       "4       minutes ago openai released new chatgpt nnand ...      1\n",
       "...                                                   ...    ...\n",
       "219275         software projects trying replicate chatgpt      0\n",
       "219276  asked chatgpt write nye joke seos delivered nn...      1\n",
       "219277                     chatgpt disassembled dissemble      0\n",
       "219278  predictions chatgpt specific trends past years...      1\n",
       "219279                                 chatgpt neat stuff      1\n",
       "\n",
       "[219280 rows x 2 columns]"
      ]
     },
     "execution_count": 56,
     "metadata": {},
     "output_type": "execute_result"
    }
   ],
   "source": [
    "result"
   ]
  },
  {
   "cell_type": "code",
   "execution_count": 57,
   "id": "b5f1eee9",
   "metadata": {},
   "outputs": [
    {
     "data": {
      "text/plain": [
       "<bound method NDFrame.head of                                                    tweets  label\n",
       "0       chatgpt optimizing language models dialogue op...      0\n",
       "1       try talking chatgpt new optimized dialogue fee...      2\n",
       "2       chatgpt optimizing language models dialogue ma...      2\n",
       "3       thrilled share chatgpt new model optimized dia...      1\n",
       "4       minutes ago openai released new chatgpt nnand ...      1\n",
       "...                                                   ...    ...\n",
       "219275         software projects trying replicate chatgpt      0\n",
       "219276  asked chatgpt write nye joke seos delivered nn...      1\n",
       "219277                     chatgpt disassembled dissemble      0\n",
       "219278  predictions chatgpt specific trends past years...      1\n",
       "219279                                 chatgpt neat stuff      1\n",
       "\n",
       "[219280 rows x 2 columns]>"
      ]
     },
     "execution_count": 57,
     "metadata": {},
     "output_type": "execute_result"
    }
   ],
   "source": [
    "result.head"
   ]
  },
  {
   "cell_type": "code",
   "execution_count": 60,
   "id": "7e6d682a",
   "metadata": {},
   "outputs": [],
   "source": [
    "result['label'] = result['label'].replace({0: 'negativ', 1: 'neutral', 2: 'positiv'})"
   ]
  },
  {
   "cell_type": "code",
   "execution_count": 61,
   "id": "4b36f065",
   "metadata": {},
   "outputs": [
    {
     "data": {
      "text/html": [
       "<div>\n",
       "<style scoped>\n",
       "    .dataframe tbody tr th:only-of-type {\n",
       "        vertical-align: middle;\n",
       "    }\n",
       "\n",
       "    .dataframe tbody tr th {\n",
       "        vertical-align: top;\n",
       "    }\n",
       "\n",
       "    .dataframe thead th {\n",
       "        text-align: right;\n",
       "    }\n",
       "</style>\n",
       "<table border=\"1\" class=\"dataframe\">\n",
       "  <thead>\n",
       "    <tr style=\"text-align: right;\">\n",
       "      <th></th>\n",
       "      <th>tweets</th>\n",
       "      <th>label</th>\n",
       "    </tr>\n",
       "  </thead>\n",
       "  <tbody>\n",
       "    <tr>\n",
       "      <th>0</th>\n",
       "      <td>chatgpt optimizing language models dialogue op...</td>\n",
       "      <td>negativ</td>\n",
       "    </tr>\n",
       "    <tr>\n",
       "      <th>1</th>\n",
       "      <td>try talking chatgpt new optimized dialogue fee...</td>\n",
       "      <td>positiv</td>\n",
       "    </tr>\n",
       "    <tr>\n",
       "      <th>2</th>\n",
       "      <td>chatgpt optimizing language models dialogue ma...</td>\n",
       "      <td>positiv</td>\n",
       "    </tr>\n",
       "    <tr>\n",
       "      <th>3</th>\n",
       "      <td>thrilled share chatgpt new model optimized dia...</td>\n",
       "      <td>neutral</td>\n",
       "    </tr>\n",
       "    <tr>\n",
       "      <th>4</th>\n",
       "      <td>minutes ago openai released new chatgpt nnand ...</td>\n",
       "      <td>neutral</td>\n",
       "    </tr>\n",
       "    <tr>\n",
       "      <th>...</th>\n",
       "      <td>...</td>\n",
       "      <td>...</td>\n",
       "    </tr>\n",
       "    <tr>\n",
       "      <th>219275</th>\n",
       "      <td>software projects trying replicate chatgpt</td>\n",
       "      <td>negativ</td>\n",
       "    </tr>\n",
       "    <tr>\n",
       "      <th>219276</th>\n",
       "      <td>asked chatgpt write nye joke seos delivered nn...</td>\n",
       "      <td>neutral</td>\n",
       "    </tr>\n",
       "    <tr>\n",
       "      <th>219277</th>\n",
       "      <td>chatgpt disassembled dissemble</td>\n",
       "      <td>negativ</td>\n",
       "    </tr>\n",
       "    <tr>\n",
       "      <th>219278</th>\n",
       "      <td>predictions chatgpt specific trends past years...</td>\n",
       "      <td>neutral</td>\n",
       "    </tr>\n",
       "    <tr>\n",
       "      <th>219279</th>\n",
       "      <td>chatgpt neat stuff</td>\n",
       "      <td>neutral</td>\n",
       "    </tr>\n",
       "  </tbody>\n",
       "</table>\n",
       "<p>219280 rows × 2 columns</p>\n",
       "</div>"
      ],
      "text/plain": [
       "                                                   tweets    label\n",
       "0       chatgpt optimizing language models dialogue op...  negativ\n",
       "1       try talking chatgpt new optimized dialogue fee...  positiv\n",
       "2       chatgpt optimizing language models dialogue ma...  positiv\n",
       "3       thrilled share chatgpt new model optimized dia...  neutral\n",
       "4       minutes ago openai released new chatgpt nnand ...  neutral\n",
       "...                                                   ...      ...\n",
       "219275         software projects trying replicate chatgpt  negativ\n",
       "219276  asked chatgpt write nye joke seos delivered nn...  neutral\n",
       "219277                     chatgpt disassembled dissemble  negativ\n",
       "219278  predictions chatgpt specific trends past years...  neutral\n",
       "219279                                 chatgpt neat stuff  neutral\n",
       "\n",
       "[219280 rows x 2 columns]"
      ]
     },
     "execution_count": 61,
     "metadata": {},
     "output_type": "execute_result"
    }
   ],
   "source": [
    "result"
   ]
  },
  {
   "cell_type": "code",
   "execution_count": 62,
   "id": "238a1157",
   "metadata": {},
   "outputs": [],
   "source": [
    "result.to_csv('datasets/sentiment_chatgptfirst.csv')"
   ]
  },
  {
   "cell_type": "markdown",
   "id": "f71e215b",
   "metadata": {},
   "source": [
    "### Predicting sentiment of last two months of release of chatGPT"
   ]
  },
  {
   "cell_type": "code",
   "execution_count": 63,
   "id": "c4b71efa",
   "metadata": {},
   "outputs": [],
   "source": [
    "df = pd.read_csv('datasets/preprocessed_chatgpt2last.csv')"
   ]
  },
  {
   "cell_type": "code",
   "execution_count": 64,
   "id": "490647ca",
   "metadata": {},
   "outputs": [
    {
     "data": {
      "text/plain": [
       "<bound method NDFrame.head of         Unnamed: 0                                               text\n",
       "0              153  fake chatgpts flood app store chatgpt appstore...\n",
       "1              154  republicans release aigenerated attack preside...\n",
       "2              155  sell rsi bybit recommendation short ticker zrx...\n",
       "3              156  interesting chatgpt kept failing test promptge...\n",
       "4              157  favourite chatgpt prompt day day act end devel...\n",
       "...            ...                                                ...\n",
       "188573      190488  good bad ugly typical chatgpt video chatgpt mi...\n",
       "188574      190489  check new free tradingstrategy chatgpt alligat...\n",
       "188575      190490                             new enemy todaychatgpt\n",
       "188576      190491  cutie girl degenai altcoins altcoin degenai ge...\n",
       "188577      190492  degenai amazing instant chat bot fast generate...\n",
       "\n",
       "[188578 rows x 2 columns]>"
      ]
     },
     "execution_count": 64,
     "metadata": {},
     "output_type": "execute_result"
    }
   ],
   "source": [
    "df.head"
   ]
  },
  {
   "cell_type": "code",
   "execution_count": 65,
   "id": "7ca3aa97",
   "metadata": {},
   "outputs": [
    {
     "data": {
      "text/plain": [
       "Unnamed: 0    0\n",
       "text          3\n",
       "dtype: int64"
      ]
     },
     "execution_count": 65,
     "metadata": {},
     "output_type": "execute_result"
    }
   ],
   "source": [
    "# check if there is any NaN value\n",
    "\n",
    "df.isnull().values.any()\n",
    "df.isnull().sum()"
   ]
  },
  {
   "cell_type": "code",
   "execution_count": 66,
   "id": "cf8cb5d8",
   "metadata": {},
   "outputs": [],
   "source": [
    "# drop the NaN values if any\n",
    "\n",
    "df = df.dropna()"
   ]
  },
  {
   "cell_type": "code",
   "execution_count": 67,
   "id": "a7af030b",
   "metadata": {},
   "outputs": [
    {
     "data": {
      "text/plain": [
       "Unnamed: 0    0\n",
       "text          0\n",
       "dtype: int64"
      ]
     },
     "execution_count": 67,
     "metadata": {},
     "output_type": "execute_result"
    }
   ],
   "source": [
    "df.isnull().values.any()\n",
    "df.isnull().sum()"
   ]
  },
  {
   "cell_type": "code",
   "execution_count": 68,
   "id": "dce151de",
   "metadata": {},
   "outputs": [
    {
     "data": {
      "text/plain": [
       "Index(['Unnamed: 0', 'text'], dtype='object')"
      ]
     },
     "execution_count": 68,
     "metadata": {},
     "output_type": "execute_result"
    }
   ],
   "source": [
    "df.columns"
   ]
  },
  {
   "cell_type": "code",
   "execution_count": 69,
   "id": "0640ec90",
   "metadata": {},
   "outputs": [],
   "source": [
    "df = df.drop('Unnamed: 0', axis=1)"
   ]
  },
  {
   "cell_type": "code",
   "execution_count": 70,
   "id": "2f76587f",
   "metadata": {},
   "outputs": [
    {
     "data": {
      "text/plain": [
       "Index(['text'], dtype='object')"
      ]
     },
     "execution_count": 70,
     "metadata": {},
     "output_type": "execute_result"
    }
   ],
   "source": [
    "df.columns"
   ]
  },
  {
   "cell_type": "code",
   "execution_count": 71,
   "id": "35381931",
   "metadata": {},
   "outputs": [
    {
     "data": {
      "text/plain": [
       "<bound method NDFrame.head of                                                      text\n",
       "0       fake chatgpts flood app store chatgpt appstore...\n",
       "1       republicans release aigenerated attack preside...\n",
       "2       sell rsi bybit recommendation short ticker zrx...\n",
       "3       interesting chatgpt kept failing test promptge...\n",
       "4       favourite chatgpt prompt day day act end devel...\n",
       "...                                                   ...\n",
       "188573  good bad ugly typical chatgpt video chatgpt mi...\n",
       "188574  check new free tradingstrategy chatgpt alligat...\n",
       "188575                             new enemy todaychatgpt\n",
       "188576  cutie girl degenai altcoins altcoin degenai ge...\n",
       "188577  degenai amazing instant chat bot fast generate...\n",
       "\n",
       "[188575 rows x 1 columns]>"
      ]
     },
     "execution_count": 71,
     "metadata": {},
     "output_type": "execute_result"
    }
   ],
   "source": [
    "df.head"
   ]
  },
  {
   "cell_type": "code",
   "execution_count": 74,
   "id": "2ab90393",
   "metadata": {},
   "outputs": [
    {
     "data": {
      "text/plain": [
       "text    0\n",
       "dtype: int64"
      ]
     },
     "execution_count": 74,
     "metadata": {},
     "output_type": "execute_result"
    }
   ],
   "source": [
    "df.isnull().values.any()\n",
    "df.isnull().sum()"
   ]
  },
  {
   "cell_type": "code",
   "execution_count": 91,
   "id": "71cc0a91",
   "metadata": {},
   "outputs": [
    {
     "name": "stdout",
     "output_type": "stream",
     "text": [
      "Model: \"sequential\"\n",
      "_________________________________________________________________\n",
      " Layer (type)                Output Shape              Param #   \n",
      "=================================================================\n",
      " embedding (Embedding)       (None, 100, 100)          11683700  \n",
      "                                                                 \n",
      " conv1d (Conv1D)             (None, 99, 32)            6432      \n",
      "                                                                 \n",
      " max_pooling1d (MaxPooling1D  (None, 49, 32)           0         \n",
      " )                                                               \n",
      "                                                                 \n",
      " conv1d_1 (Conv1D)           (None, 48, 32)            2080      \n",
      "                                                                 \n",
      " dropout (Dropout)           (None, 48, 32)            0         \n",
      "                                                                 \n",
      " conv1d_2 (Conv1D)           (None, 47, 16)            1040      \n",
      "                                                                 \n",
      " max_pooling1d_1 (MaxPooling  (None, 23, 16)           0         \n",
      " 1D)                                                             \n",
      "                                                                 \n",
      " conv1d_3 (Conv1D)           (None, 22, 16)            528       \n",
      "                                                                 \n",
      " dropout_1 (Dropout)         (None, 22, 16)            0         \n",
      "                                                                 \n",
      " flatten (Flatten)           (None, 352)               0         \n",
      "                                                                 \n",
      " dense (Dense)               (None, 64)                22592     \n",
      "                                                                 \n",
      " dropout_2 (Dropout)         (None, 64)                0         \n",
      "                                                                 \n",
      " dense_1 (Dense)             (None, 3)                 195       \n",
      "                                                                 \n",
      "=================================================================\n",
      "Total params: 11,716,567\n",
      "Trainable params: 11,716,567\n",
      "Non-trainable params: 0\n",
      "_________________________________________________________________\n",
      "None\n"
     ]
    }
   ],
   "source": [
    "# use the pretrained model \n",
    "model = load_model('model/cnnkeras.h5', compile=False)\n",
    "model.compile(optimizer=\"adam\",\n",
    "                loss='categorical_crossentropy',\n",
    "                metrics=['accuracy'])\n",
    "\n",
    "# Print the summary\n",
    "print(model.summary())"
   ]
  },
  {
   "cell_type": "code",
   "execution_count": 81,
   "id": "6235e9ae",
   "metadata": {},
   "outputs": [
    {
     "data": {
      "text/plain": [
       "array([['fake chatgpts flood app store chatgpt appstore apple chatgptnews gpt artificialintelligence ainews aiupdate appstorescam applescam dailynews'],\n",
       "       ['republicans release aigenerated attack president biden twiceweekly news guide tracks largelanguagemodels useful tools chatgpt bard bing update sunday'],\n",
       "       ['sell rsi bybit recommendation short ticker zrxusdt minute candle price rsi powered chatgpt zrx zrx'],\n",
       "       ...,\n",
       "       ['new enemy todaychatgpt'],\n",
       "       ['cutie girl degenai altcoins altcoin degenai gems imgnai crypto cai cryptoai chatgpt cryptocurrency'],\n",
       "       ['degenai amazing instant chat bot fast generated words degenai altcoins altcoin degenai gems imgnai crypto cai cryptoai chatgpt cryptocurrency']],\n",
       "      dtype=object)"
      ]
     },
     "execution_count": 81,
     "metadata": {},
     "output_type": "execute_result"
    }
   ],
   "source": [
    "df.values"
   ]
  },
  {
   "cell_type": "code",
   "execution_count": 101,
   "id": "258062e8",
   "metadata": {},
   "outputs": [
    {
     "data": {
      "text/plain": [
       "188575"
      ]
     },
     "execution_count": 101,
     "metadata": {},
     "output_type": "execute_result"
    }
   ],
   "source": [
    "len(df)"
   ]
  },
  {
   "cell_type": "code",
   "execution_count": 89,
   "id": "846c495b",
   "metadata": {},
   "outputs": [
    {
     "data": {
      "text/plain": [
       "188575"
      ]
     },
     "execution_count": 89,
     "metadata": {},
     "output_type": "execute_result"
    }
   ],
   "source": [
    "len(df.values)"
   ]
  },
  {
   "cell_type": "code",
   "execution_count": 87,
   "id": "5b90e0dd",
   "metadata": {},
   "outputs": [],
   "source": [
    "temp = df.values.ravel()"
   ]
  },
  {
   "cell_type": "code",
   "execution_count": 88,
   "id": "c51b3e1e",
   "metadata": {},
   "outputs": [
    {
     "data": {
      "text/plain": [
       "188575"
      ]
     },
     "execution_count": 88,
     "metadata": {},
     "output_type": "execute_result"
    }
   ],
   "source": [
    "len(temp)"
   ]
  },
  {
   "cell_type": "code",
   "execution_count": 90,
   "id": "d5150471",
   "metadata": {},
   "outputs": [
    {
     "data": {
      "text/plain": [
       "numpy.ndarray"
      ]
     },
     "execution_count": 90,
     "metadata": {},
     "output_type": "execute_result"
    }
   ],
   "source": [
    "type(temp)"
   ]
  },
  {
   "cell_type": "code",
   "execution_count": 97,
   "id": "977cbf23",
   "metadata": {},
   "outputs": [],
   "source": [
    "tokenizer = Tokenizer(num_words=50000)\n",
    "tokenizer.fit_on_texts(temp)\n",
    "\n",
    "tweets = tokenizer.texts_to_sequences(df.values.ravel())\n",
    "\n",
    "vocab_size = len(tokenizer.word_index) + 1\n",
    "maxlen = 100\n",
    "\n",
    "tweets = pad_sequences(tweets, padding='post', maxlen=maxlen)\n",
    "\n",
    "word_index = tokenizer.word_index"
   ]
  },
  {
   "cell_type": "code",
   "execution_count": 98,
   "id": "e4771370",
   "metadata": {},
   "outputs": [
    {
     "data": {
      "text/plain": [
       "array([[  362,   286,  6541, ...,     0,     0,     0],\n",
       "       [ 8370,   514,   583, ...,     0,     0,     0],\n",
       "       [  161,    19,   137, ...,     0,     0,     0],\n",
       "       ...,\n",
       "       [    6,  6688, 38362, ...,     0,     0,     0],\n",
       "       [34872,  2281,  2122, ...,     0,     0,     0],\n",
       "       [ 2122,   110,  2048, ...,     0,     0,     0]])"
      ]
     },
     "execution_count": 98,
     "metadata": {},
     "output_type": "execute_result"
    }
   ],
   "source": [
    "tweets"
   ]
  },
  {
   "cell_type": "code",
   "execution_count": 99,
   "id": "4a269967",
   "metadata": {},
   "outputs": [
    {
     "name": "stdout",
     "output_type": "stream",
     "text": [
      "5893/5893 [==============================] - 26s 4ms/step\n"
     ]
    }
   ],
   "source": [
    "# we have that :\n",
    "# 2    positiv\n",
    "# 1    neutral\n",
    "# 0    negativ\n",
    "pred = np.argmax(model.predict(tweets), axis=-1)"
   ]
  },
  {
   "cell_type": "code",
   "execution_count": 100,
   "id": "ac1aa7b9",
   "metadata": {},
   "outputs": [
    {
     "data": {
      "text/plain": [
       "array([0, 2, 2, ..., 0, 1, 2], dtype=int64)"
      ]
     },
     "execution_count": 100,
     "metadata": {},
     "output_type": "execute_result"
    }
   ],
   "source": [
    "pred"
   ]
  },
  {
   "cell_type": "code",
   "execution_count": 102,
   "id": "20b29089",
   "metadata": {},
   "outputs": [
    {
     "data": {
      "text/plain": [
       "188575"
      ]
     },
     "execution_count": 102,
     "metadata": {},
     "output_type": "execute_result"
    }
   ],
   "source": [
    "len(pred)"
   ]
  },
  {
   "cell_type": "code",
   "execution_count": 105,
   "id": "75b1adfa",
   "metadata": {},
   "outputs": [],
   "source": [
    "data = df.values.ravel()"
   ]
  },
  {
   "cell_type": "code",
   "execution_count": 106,
   "id": "ce38214a",
   "metadata": {},
   "outputs": [],
   "source": [
    "dataframe = {'tweets': data, 'label': pred}"
   ]
  },
  {
   "cell_type": "code",
   "execution_count": 107,
   "id": "18643b09",
   "metadata": {},
   "outputs": [],
   "source": [
    "result = pd.DataFrame(dataframe)"
   ]
  },
  {
   "cell_type": "code",
   "execution_count": 108,
   "id": "2e4430f6",
   "metadata": {},
   "outputs": [
    {
     "data": {
      "text/html": [
       "<div>\n",
       "<style scoped>\n",
       "    .dataframe tbody tr th:only-of-type {\n",
       "        vertical-align: middle;\n",
       "    }\n",
       "\n",
       "    .dataframe tbody tr th {\n",
       "        vertical-align: top;\n",
       "    }\n",
       "\n",
       "    .dataframe thead th {\n",
       "        text-align: right;\n",
       "    }\n",
       "</style>\n",
       "<table border=\"1\" class=\"dataframe\">\n",
       "  <thead>\n",
       "    <tr style=\"text-align: right;\">\n",
       "      <th></th>\n",
       "      <th>tweets</th>\n",
       "      <th>label</th>\n",
       "    </tr>\n",
       "  </thead>\n",
       "  <tbody>\n",
       "    <tr>\n",
       "      <th>0</th>\n",
       "      <td>fake chatgpts flood app store chatgpt appstore...</td>\n",
       "      <td>0</td>\n",
       "    </tr>\n",
       "    <tr>\n",
       "      <th>1</th>\n",
       "      <td>republicans release aigenerated attack preside...</td>\n",
       "      <td>2</td>\n",
       "    </tr>\n",
       "    <tr>\n",
       "      <th>2</th>\n",
       "      <td>sell rsi bybit recommendation short ticker zrx...</td>\n",
       "      <td>2</td>\n",
       "    </tr>\n",
       "    <tr>\n",
       "      <th>3</th>\n",
       "      <td>interesting chatgpt kept failing test promptge...</td>\n",
       "      <td>2</td>\n",
       "    </tr>\n",
       "    <tr>\n",
       "      <th>4</th>\n",
       "      <td>favourite chatgpt prompt day day act end devel...</td>\n",
       "      <td>1</td>\n",
       "    </tr>\n",
       "    <tr>\n",
       "      <th>...</th>\n",
       "      <td>...</td>\n",
       "      <td>...</td>\n",
       "    </tr>\n",
       "    <tr>\n",
       "      <th>188570</th>\n",
       "      <td>good bad ugly typical chatgpt video chatgpt mi...</td>\n",
       "      <td>1</td>\n",
       "    </tr>\n",
       "    <tr>\n",
       "      <th>188571</th>\n",
       "      <td>check new free tradingstrategy chatgpt alligat...</td>\n",
       "      <td>2</td>\n",
       "    </tr>\n",
       "    <tr>\n",
       "      <th>188572</th>\n",
       "      <td>new enemy todaychatgpt</td>\n",
       "      <td>0</td>\n",
       "    </tr>\n",
       "    <tr>\n",
       "      <th>188573</th>\n",
       "      <td>cutie girl degenai altcoins altcoin degenai ge...</td>\n",
       "      <td>1</td>\n",
       "    </tr>\n",
       "    <tr>\n",
       "      <th>188574</th>\n",
       "      <td>degenai amazing instant chat bot fast generate...</td>\n",
       "      <td>2</td>\n",
       "    </tr>\n",
       "  </tbody>\n",
       "</table>\n",
       "<p>188575 rows × 2 columns</p>\n",
       "</div>"
      ],
      "text/plain": [
       "                                                   tweets  label\n",
       "0       fake chatgpts flood app store chatgpt appstore...      0\n",
       "1       republicans release aigenerated attack preside...      2\n",
       "2       sell rsi bybit recommendation short ticker zrx...      2\n",
       "3       interesting chatgpt kept failing test promptge...      2\n",
       "4       favourite chatgpt prompt day day act end devel...      1\n",
       "...                                                   ...    ...\n",
       "188570  good bad ugly typical chatgpt video chatgpt mi...      1\n",
       "188571  check new free tradingstrategy chatgpt alligat...      2\n",
       "188572                             new enemy todaychatgpt      0\n",
       "188573  cutie girl degenai altcoins altcoin degenai ge...      1\n",
       "188574  degenai amazing instant chat bot fast generate...      2\n",
       "\n",
       "[188575 rows x 2 columns]"
      ]
     },
     "execution_count": 108,
     "metadata": {},
     "output_type": "execute_result"
    }
   ],
   "source": [
    "result"
   ]
  },
  {
   "cell_type": "code",
   "execution_count": 109,
   "id": "ba91adf9",
   "metadata": {},
   "outputs": [],
   "source": [
    "result['label'] = result['label'].replace({0: 'negativ', 1: 'neutral', 2: 'positiv'})"
   ]
  },
  {
   "cell_type": "code",
   "execution_count": 110,
   "id": "f0a1be5f",
   "metadata": {},
   "outputs": [
    {
     "data": {
      "text/html": [
       "<div>\n",
       "<style scoped>\n",
       "    .dataframe tbody tr th:only-of-type {\n",
       "        vertical-align: middle;\n",
       "    }\n",
       "\n",
       "    .dataframe tbody tr th {\n",
       "        vertical-align: top;\n",
       "    }\n",
       "\n",
       "    .dataframe thead th {\n",
       "        text-align: right;\n",
       "    }\n",
       "</style>\n",
       "<table border=\"1\" class=\"dataframe\">\n",
       "  <thead>\n",
       "    <tr style=\"text-align: right;\">\n",
       "      <th></th>\n",
       "      <th>tweets</th>\n",
       "      <th>label</th>\n",
       "    </tr>\n",
       "  </thead>\n",
       "  <tbody>\n",
       "    <tr>\n",
       "      <th>0</th>\n",
       "      <td>fake chatgpts flood app store chatgpt appstore...</td>\n",
       "      <td>negativ</td>\n",
       "    </tr>\n",
       "    <tr>\n",
       "      <th>1</th>\n",
       "      <td>republicans release aigenerated attack preside...</td>\n",
       "      <td>positiv</td>\n",
       "    </tr>\n",
       "    <tr>\n",
       "      <th>2</th>\n",
       "      <td>sell rsi bybit recommendation short ticker zrx...</td>\n",
       "      <td>positiv</td>\n",
       "    </tr>\n",
       "    <tr>\n",
       "      <th>3</th>\n",
       "      <td>interesting chatgpt kept failing test promptge...</td>\n",
       "      <td>positiv</td>\n",
       "    </tr>\n",
       "    <tr>\n",
       "      <th>4</th>\n",
       "      <td>favourite chatgpt prompt day day act end devel...</td>\n",
       "      <td>neutral</td>\n",
       "    </tr>\n",
       "    <tr>\n",
       "      <th>...</th>\n",
       "      <td>...</td>\n",
       "      <td>...</td>\n",
       "    </tr>\n",
       "    <tr>\n",
       "      <th>188570</th>\n",
       "      <td>good bad ugly typical chatgpt video chatgpt mi...</td>\n",
       "      <td>neutral</td>\n",
       "    </tr>\n",
       "    <tr>\n",
       "      <th>188571</th>\n",
       "      <td>check new free tradingstrategy chatgpt alligat...</td>\n",
       "      <td>positiv</td>\n",
       "    </tr>\n",
       "    <tr>\n",
       "      <th>188572</th>\n",
       "      <td>new enemy todaychatgpt</td>\n",
       "      <td>negativ</td>\n",
       "    </tr>\n",
       "    <tr>\n",
       "      <th>188573</th>\n",
       "      <td>cutie girl degenai altcoins altcoin degenai ge...</td>\n",
       "      <td>neutral</td>\n",
       "    </tr>\n",
       "    <tr>\n",
       "      <th>188574</th>\n",
       "      <td>degenai amazing instant chat bot fast generate...</td>\n",
       "      <td>positiv</td>\n",
       "    </tr>\n",
       "  </tbody>\n",
       "</table>\n",
       "<p>188575 rows × 2 columns</p>\n",
       "</div>"
      ],
      "text/plain": [
       "                                                   tweets    label\n",
       "0       fake chatgpts flood app store chatgpt appstore...  negativ\n",
       "1       republicans release aigenerated attack preside...  positiv\n",
       "2       sell rsi bybit recommendation short ticker zrx...  positiv\n",
       "3       interesting chatgpt kept failing test promptge...  positiv\n",
       "4       favourite chatgpt prompt day day act end devel...  neutral\n",
       "...                                                   ...      ...\n",
       "188570  good bad ugly typical chatgpt video chatgpt mi...  neutral\n",
       "188571  check new free tradingstrategy chatgpt alligat...  positiv\n",
       "188572                             new enemy todaychatgpt  negativ\n",
       "188573  cutie girl degenai altcoins altcoin degenai ge...  neutral\n",
       "188574  degenai amazing instant chat bot fast generate...  positiv\n",
       "\n",
       "[188575 rows x 2 columns]"
      ]
     },
     "execution_count": 110,
     "metadata": {},
     "output_type": "execute_result"
    }
   ],
   "source": [
    "result"
   ]
  },
  {
   "cell_type": "code",
   "execution_count": 111,
   "id": "4100bb8e",
   "metadata": {},
   "outputs": [],
   "source": [
    "result.to_csv('datasets/sentiment_chatgpt2last.csv')"
   ]
  },
  {
   "cell_type": "markdown",
   "id": "30367ffd",
   "metadata": {},
   "source": [
    "### Predicting the whole dataset of chatGPT"
   ]
  },
  {
   "cell_type": "code",
   "execution_count": 2,
   "id": "d322da66",
   "metadata": {},
   "outputs": [],
   "source": [
    "import pandas as pd "
   ]
  },
  {
   "cell_type": "code",
   "execution_count": 4,
   "id": "eeea5d8e",
   "metadata": {},
   "outputs": [],
   "source": [
    "df = pd.read_csv('datasets/preprocessed_chatgpt.csv', usecols=['user_name', 'text', 'clean_text','user_description','date'])"
   ]
  },
  {
   "cell_type": "code",
   "execution_count": 5,
   "id": "8eda20a3",
   "metadata": {},
   "outputs": [
    {
     "data": {
      "text/html": [
       "<div>\n",
       "<style scoped>\n",
       "    .dataframe tbody tr th:only-of-type {\n",
       "        vertical-align: middle;\n",
       "    }\n",
       "\n",
       "    .dataframe tbody tr th {\n",
       "        vertical-align: top;\n",
       "    }\n",
       "\n",
       "    .dataframe thead th {\n",
       "        text-align: right;\n",
       "    }\n",
       "</style>\n",
       "<table border=\"1\" class=\"dataframe\">\n",
       "  <thead>\n",
       "    <tr style=\"text-align: right;\">\n",
       "      <th></th>\n",
       "      <th>user_name</th>\n",
       "      <th>user_description</th>\n",
       "      <th>text</th>\n",
       "      <th>clean_text</th>\n",
       "      <th>date</th>\n",
       "    </tr>\n",
       "  </thead>\n",
       "  <tbody>\n",
       "    <tr>\n",
       "      <th>0</th>\n",
       "      <td>bilal haidar</td>\n",
       "      <td>building draftmateai developer author chatgpt ...</td>\n",
       "      <td>I'm happy to share with you that @draftmateai ...</td>\n",
       "      <td>happy share draftmateai support day free trial...</td>\n",
       "      <td>2023-04-26 13:02:16+00:00</td>\n",
       "    </tr>\n",
       "    <tr>\n",
       "      <th>1</th>\n",
       "      <td>josh arrington</td>\n",
       "      <td>nomadic marketing vigilante graphic web design...</td>\n",
       "      <td>🤖 - Integrate ChatGPT into your Marketo Smart ...</td>\n",
       "      <td>integrate chatgpt marketo smart campaign disco...</td>\n",
       "      <td>2023-04-26 13:02:06+00:00</td>\n",
       "    </tr>\n",
       "    <tr>\n",
       "      <th>2</th>\n",
       "      <td>smartling</td>\n",
       "      <td>leading translation management platform locali...</td>\n",
       "      <td>We’re pleased to announce new patent-pending t...</td>\n",
       "      <td>pleased announce new patentpending technology ...</td>\n",
       "      <td>2023-04-26 13:02:05+00:00</td>\n",
       "    </tr>\n",
       "    <tr>\n",
       "      <th>3</th>\n",
       "      <td>richard</td>\n",
       "      <td>engineering leader coach mentor building remot...</td>\n",
       "      <td>Starting to tire of being scolded by ChatGPT f...</td>\n",
       "      <td>starting tire scolded chatgpt slight perceived...</td>\n",
       "      <td>2023-04-26 13:02:00+00:00</td>\n",
       "    </tr>\n",
       "    <tr>\n",
       "      <th>4</th>\n",
       "      <td>lockroca</td>\n",
       "      <td>stop learning research develop uild future eyo...</td>\n",
       "      <td>@SpartaJustice It's notable that wikipedia ent...</td>\n",
       "      <td>spartajustice it notable wikipedia entry john ...</td>\n",
       "      <td>2023-04-26 13:01:52+00:00</td>\n",
       "    </tr>\n",
       "  </tbody>\n",
       "</table>\n",
       "</div>"
      ],
      "text/plain": [
       "        user_name                                   user_description  \\\n",
       "0    bilal haidar  building draftmateai developer author chatgpt ...   \n",
       "1  josh arrington  nomadic marketing vigilante graphic web design...   \n",
       "2       smartling  leading translation management platform locali...   \n",
       "3         richard  engineering leader coach mentor building remot...   \n",
       "4        lockroca  stop learning research develop uild future eyo...   \n",
       "\n",
       "                                                text  \\\n",
       "0  I'm happy to share with you that @draftmateai ...   \n",
       "1  🤖 - Integrate ChatGPT into your Marketo Smart ...   \n",
       "2  We’re pleased to announce new patent-pending t...   \n",
       "3  Starting to tire of being scolded by ChatGPT f...   \n",
       "4  @SpartaJustice It's notable that wikipedia ent...   \n",
       "\n",
       "                                          clean_text  \\\n",
       "0  happy share draftmateai support day free trial...   \n",
       "1  integrate chatgpt marketo smart campaign disco...   \n",
       "2  pleased announce new patentpending technology ...   \n",
       "3  starting tire scolded chatgpt slight perceived...   \n",
       "4  spartajustice it notable wikipedia entry john ...   \n",
       "\n",
       "                        date  \n",
       "0  2023-04-26 13:02:16+00:00  \n",
       "1  2023-04-26 13:02:06+00:00  \n",
       "2  2023-04-26 13:02:05+00:00  \n",
       "3  2023-04-26 13:02:00+00:00  \n",
       "4  2023-04-26 13:01:52+00:00  "
      ]
     },
     "execution_count": 5,
     "metadata": {},
     "output_type": "execute_result"
    }
   ],
   "source": [
    "df.head()"
   ]
  },
  {
   "cell_type": "code",
   "execution_count": 6,
   "id": "1711f6c9",
   "metadata": {},
   "outputs": [
    {
     "data": {
      "text/plain": [
       "374777"
      ]
     },
     "execution_count": 6,
     "metadata": {},
     "output_type": "execute_result"
    }
   ],
   "source": [
    "len(df)"
   ]
  },
  {
   "cell_type": "code",
   "execution_count": 7,
   "id": "5e5ce26f",
   "metadata": {},
   "outputs": [
    {
     "data": {
      "text/plain": [
       "user_name           12862\n",
       "user_description     5504\n",
       "text                    0\n",
       "clean_text              4\n",
       "date                    0\n",
       "dtype: int64"
      ]
     },
     "execution_count": 7,
     "metadata": {},
     "output_type": "execute_result"
    }
   ],
   "source": [
    "df.isnull().values.any()\n",
    "df.isnull().sum()"
   ]
  },
  {
   "cell_type": "code",
   "execution_count": 8,
   "id": "f598db27",
   "metadata": {},
   "outputs": [],
   "source": [
    "df = df.dropna()"
   ]
  },
  {
   "cell_type": "code",
   "execution_count": 9,
   "id": "c97639fc",
   "metadata": {},
   "outputs": [
    {
     "data": {
      "text/plain": [
       "user_name           0\n",
       "user_description    0\n",
       "text                0\n",
       "clean_text          0\n",
       "date                0\n",
       "dtype: int64"
      ]
     },
     "execution_count": 9,
     "metadata": {},
     "output_type": "execute_result"
    }
   ],
   "source": [
    "df.isnull().values.any()\n",
    "df.isnull().sum()"
   ]
  },
  {
   "cell_type": "code",
   "execution_count": 10,
   "id": "824c1199",
   "metadata": {},
   "outputs": [
    {
     "data": {
      "text/plain": [
       "357648"
      ]
     },
     "execution_count": 10,
     "metadata": {},
     "output_type": "execute_result"
    }
   ],
   "source": [
    "len(df)"
   ]
  },
  {
   "cell_type": "code",
   "execution_count": 13,
   "id": "bc578047",
   "metadata": {},
   "outputs": [
    {
     "name": "stdout",
     "output_type": "stream",
     "text": [
      "Model: \"sequential\"\n",
      "_________________________________________________________________\n",
      " Layer (type)                Output Shape              Param #   \n",
      "=================================================================\n",
      " embedding (Embedding)       (None, 100, 100)          11683700  \n",
      "                                                                 \n",
      " conv1d (Conv1D)             (None, 99, 32)            6432      \n",
      "                                                                 \n",
      " max_pooling1d (MaxPooling1D  (None, 49, 32)           0         \n",
      " )                                                               \n",
      "                                                                 \n",
      " conv1d_1 (Conv1D)           (None, 48, 32)            2080      \n",
      "                                                                 \n",
      " dropout (Dropout)           (None, 48, 32)            0         \n",
      "                                                                 \n",
      " conv1d_2 (Conv1D)           (None, 47, 16)            1040      \n",
      "                                                                 \n",
      " max_pooling1d_1 (MaxPooling  (None, 23, 16)           0         \n",
      " 1D)                                                             \n",
      "                                                                 \n",
      " conv1d_3 (Conv1D)           (None, 22, 16)            528       \n",
      "                                                                 \n",
      " dropout_1 (Dropout)         (None, 22, 16)            0         \n",
      "                                                                 \n",
      " flatten (Flatten)           (None, 352)               0         \n",
      "                                                                 \n",
      " dense (Dense)               (None, 64)                22592     \n",
      "                                                                 \n",
      " dropout_2 (Dropout)         (None, 64)                0         \n",
      "                                                                 \n",
      " dense_1 (Dense)             (None, 3)                 195       \n",
      "                                                                 \n",
      "=================================================================\n",
      "Total params: 11,716,567\n",
      "Trainable params: 11,716,567\n",
      "Non-trainable params: 0\n",
      "_________________________________________________________________\n",
      "None\n"
     ]
    }
   ],
   "source": [
    "# use the pretrained model \n",
    "model = load_model('model/cnnkeras.h5', compile=False)\n",
    "model.compile(optimizer=\"adam\",\n",
    "                loss='categorical_crossentropy',\n",
    "                metrics=['accuracy'])\n",
    "\n",
    "# Print the summary\n",
    "print(model.summary())"
   ]
  },
  {
   "cell_type": "code",
   "execution_count": 15,
   "id": "7de625c9",
   "metadata": {},
   "outputs": [
    {
     "data": {
      "text/plain": [
       "0         happy share draftmateai support day free trial...\n",
       "1         integrate chatgpt marketo smart campaign disco...\n",
       "2         pleased announce new patentpending technology ...\n",
       "3         starting tire scolded chatgpt slight perceived...\n",
       "4         spartajustice it notable wikipedia entry john ...\n",
       "                                ...                        \n",
       "374772    chatgpt biggest smartest brain world right now...\n",
       "374773    levelsso happy chatgpt team com revolutionary ...\n",
       "374774    russel chatgpt it funny take long time answer ...\n",
       "374775    wondering difference jasper chatgpt gpt chatgp...\n",
       "374776    chatgpt similar llm pose challenge academic in...\n",
       "Name: clean_text, Length: 357648, dtype: object"
      ]
     },
     "execution_count": 15,
     "metadata": {},
     "output_type": "execute_result"
    }
   ],
   "source": [
    "df.clean_text"
   ]
  },
  {
   "cell_type": "code",
   "execution_count": 16,
   "id": "e35fb919",
   "metadata": {},
   "outputs": [
    {
     "data": {
      "text/plain": [
       "0         I'm happy to share with you that @draftmateai ...\n",
       "1         🤖 - Integrate ChatGPT into your Marketo Smart ...\n",
       "2         We’re pleased to announce new patent-pending t...\n",
       "3         Starting to tire of being scolded by ChatGPT f...\n",
       "4         @SpartaJustice It's notable that wikipedia ent...\n",
       "                                ...                        \n",
       "374772    ChatGPT is the biggest, smartest brain 🧠 in th...\n",
       "374773    Levels🙏🙏🙏,so happy for the chatGPT team for co...\n",
       "374774    Russel vs ChatGPT. It's also funny that it tak...\n",
       "374775    Was just wondering is there any difference bet...\n",
       "374776    #ChatGPT and similar #LLM pose a challenge to ...\n",
       "Name: text, Length: 357648, dtype: object"
      ]
     },
     "execution_count": 16,
     "metadata": {},
     "output_type": "execute_result"
    }
   ],
   "source": [
    "df.text"
   ]
  },
  {
   "cell_type": "code",
   "execution_count": 17,
   "id": "57f1e5c4",
   "metadata": {},
   "outputs": [],
   "source": [
    "temp = df.clean_text.values"
   ]
  },
  {
   "cell_type": "code",
   "execution_count": 19,
   "id": "9575c3a9",
   "metadata": {},
   "outputs": [],
   "source": [
    "tokenizer = Tokenizer(num_words=50000)\n",
    "tokenizer.fit_on_texts(temp)\n",
    "\n",
    "tweets = tokenizer.texts_to_sequences(df.clean_text.values)\n",
    "\n",
    "vocab_size = len(tokenizer.word_index) + 1\n",
    "maxlen = 100\n",
    "\n",
    "tweets = pad_sequences(tweets, padding='post', maxlen=maxlen)\n",
    "\n",
    "word_index = tokenizer.word_index"
   ]
  },
  {
   "cell_type": "code",
   "execution_count": 20,
   "id": "3dfe1094",
   "metadata": {},
   "outputs": [
    {
     "data": {
      "text/plain": [
       "array([[  494,   147,   303, ...,     0,     0,     0],\n",
       "       [  667,     1, 24018, ...,     0,     0,     0],\n",
       "       [ 4783,  1702,     7, ...,     0,     0,     0],\n",
       "       ...,\n",
       "       [    1,    13,   622, ...,     0,     0,     0],\n",
       "       [ 1126,   697,  2370, ...,     0,     0,     0],\n",
       "       [    1,   476,   131, ...,     0,     0,     0]])"
      ]
     },
     "execution_count": 20,
     "metadata": {},
     "output_type": "execute_result"
    }
   ],
   "source": [
    "tweets"
   ]
  },
  {
   "cell_type": "code",
   "execution_count": 21,
   "id": "b23187ce",
   "metadata": {},
   "outputs": [
    {
     "data": {
      "text/plain": [
       "{'chatgpt': 1,\n",
       " 'openai': 2,\n",
       " 'gpt': 3,\n",
       " 'artificialintelligence': 4,\n",
       " 'like': 5,\n",
       " 'google': 6,\n",
       " 'new': 7,\n",
       " 'use': 8,\n",
       " 'technology': 9,\n",
       " 'amp': 10,\n",
       " 'time': 11,\n",
       " 'tool': 12,\n",
       " 'it': 13,\n",
       " 'future': 14,\n",
       " 'chatbot': 15,\n",
       " 'tech': 16,\n",
       " 'prompt': 17,\n",
       " 'microsoft': 18,\n",
       " 'know': 19,\n",
       " 'asked': 20,\n",
       " 'way': 21,\n",
       " 'help': 22,\n",
       " 'world': 23,\n",
       " 'chat': 24,\n",
       " 'business': 25,\n",
       " 'check': 26,\n",
       " 'write': 27,\n",
       " 'question': 28,\n",
       " 'human': 29,\n",
       " 'answer': 30,\n",
       " 'model': 31,\n",
       " 'work': 32,\n",
       " 'resume': 33,\n",
       " 'data': 34,\n",
       " 'language': 35,\n",
       " 'think': 36,\n",
       " 'web': 37,\n",
       " 'need': 38,\n",
       " 'content': 39,\n",
       " 'bing': 40,\n",
       " 'here': 41,\n",
       " 'people': 42,\n",
       " 'nft': 43,\n",
       " 'search': 44,\n",
       " 'bard': 45,\n",
       " 'day': 46,\n",
       " 'read': 47,\n",
       " 'good': 48,\n",
       " 'crypto': 49,\n",
       " 'create': 50,\n",
       " 'code': 51,\n",
       " 'machinelearning': 52,\n",
       " 'midjourney': 53,\n",
       " 'now': 54,\n",
       " 'intelligence': 55,\n",
       " 'job': 56,\n",
       " 'today': 57,\n",
       " 'want': 58,\n",
       " 'short': 59,\n",
       " 'learn': 60,\n",
       " 'free': 61,\n",
       " 'thing': 62,\n",
       " 'let': 63,\n",
       " 'better': 64,\n",
       " 'news': 65,\n",
       " 'writing': 66,\n",
       " 'long': 67,\n",
       " 'elonmusk': 68,\n",
       " 'article': 69,\n",
       " 'artificial': 70,\n",
       " 'user': 71,\n",
       " 'dont': 72,\n",
       " 'powered': 73,\n",
       " 'video': 74,\n",
       " 'generativeai': 75,\n",
       " 'you': 76,\n",
       " 'year': 77,\n",
       " 'marketing': 78,\n",
       " 'rsi': 79,\n",
       " 'great': 80,\n",
       " 'ask': 81,\n",
       " 'look': 82,\n",
       " 'power': 83,\n",
       " 'best': 84,\n",
       " 'going': 85,\n",
       " 'latest': 86,\n",
       " 'company': 87,\n",
       " 'art': 88,\n",
       " 'innovation': 89,\n",
       " 'learning': 90,\n",
       " 'text': 91,\n",
       " 'price': 92,\n",
       " 'bot': 93,\n",
       " 'education': 94,\n",
       " 'bitcoin': 95,\n",
       " 'join': 96,\n",
       " 'right': 97,\n",
       " 'life': 98,\n",
       " 'student': 99,\n",
       " 'dalle': 100,\n",
       " 'potential': 101,\n",
       " 'link': 102,\n",
       " 'response': 103,\n",
       " 'generative': 104,\n",
       " 'python': 105,\n",
       " 'come': 106,\n",
       " 'generated': 107,\n",
       " 'idea': 108,\n",
       " 'aiart': 109,\n",
       " 'recommendation': 110,\n",
       " 'game': 111,\n",
       " 'amazing': 112,\n",
       " 'result': 113,\n",
       " 'week': 114,\n",
       " 'got': 115,\n",
       " 'thought': 116,\n",
       " 'ticker': 117,\n",
       " 'chatbots': 118,\n",
       " 'love': 119,\n",
       " 'try': 120,\n",
       " 'information': 121,\n",
       " 'post': 122,\n",
       " 'app': 123,\n",
       " 'project': 124,\n",
       " 'change': 125,\n",
       " 'interesting': 126,\n",
       " 'conversation': 127,\n",
       " 'twitter': 128,\n",
       " 'more': 129,\n",
       " 'research': 130,\n",
       " 'llm': 131,\n",
       " 'generate': 132,\n",
       " 'metaverse': 133,\n",
       " 'blog': 134,\n",
       " 'stock': 135,\n",
       " 'digital': 136,\n",
       " 'cybersecurity': 137,\n",
       " 'story': 138,\n",
       " 'service': 139,\n",
       " 'domain': 140,\n",
       " 'based': 141,\n",
       " 'wait': 142,\n",
       " 'coding': 143,\n",
       " 'out': 144,\n",
       " 'programming': 145,\n",
       " 'created': 146,\n",
       " 'share': 147,\n",
       " 'real': 148,\n",
       " 'stablediffusion': 149,\n",
       " 'lot': 150,\n",
       " 'start': 151,\n",
       " 'seo': 152,\n",
       " 'min': 153,\n",
       " 'minute': 154,\n",
       " 'cant': 155,\n",
       " 'course': 156,\n",
       " 'industry': 157,\n",
       " 'say': 158,\n",
       " 'binance': 159,\n",
       " 'experience': 160,\n",
       " 'month': 161,\n",
       " 'buy': 162,\n",
       " 'airdrop': 163,\n",
       " 'impact': 164,\n",
       " 'platform': 165,\n",
       " 'this': 166,\n",
       " 'youtube': 167,\n",
       " 'product': 168,\n",
       " 'word': 169,\n",
       " 'book': 170,\n",
       " 'startup': 171,\n",
       " 'btc': 172,\n",
       " 'looking': 173,\n",
       " 'blockchain': 174,\n",
       " 'making': 175,\n",
       " 'thanks': 176,\n",
       " 'talk': 177,\n",
       " 'developer': 178,\n",
       " 'image': 179,\n",
       " 'website': 180,\n",
       " 'follow': 181,\n",
       " 'trading': 182,\n",
       " 'access': 183,\n",
       " 'gonna': 184,\n",
       " 'the': 185,\n",
       " 'launch': 186,\n",
       " 'creating': 187,\n",
       " 'coming': 188,\n",
       " 'open': 189,\n",
       " 'version': 190,\n",
       " 'engine': 191,\n",
       " 'market': 192,\n",
       " 'medium': 193,\n",
       " 'replace': 194,\n",
       " 'case': 195,\n",
       " 'available': 196,\n",
       " 'development': 197,\n",
       " 'productivity': 198,\n",
       " 'example': 199,\n",
       " 'soon': 200,\n",
       " 'team': 201,\n",
       " 'robot': 202,\n",
       " 'software': 203,\n",
       " 'tell': 204,\n",
       " 'api': 205,\n",
       " 'money': 206,\n",
       " 'said': 207,\n",
       " 'ready': 208,\n",
       " 'internet': 209,\n",
       " 'impressive': 210,\n",
       " 'iot': 211,\n",
       " 'big': 212,\n",
       " 'tweet': 213,\n",
       " 'thread': 214,\n",
       " 'source': 215,\n",
       " 'written': 216,\n",
       " 'problem': 217,\n",
       " 'fun': 218,\n",
       " 'openais': 219,\n",
       " 'task': 220,\n",
       " 'solution': 221,\n",
       " 'live': 222,\n",
       " 'spot': 223,\n",
       " 'machine': 224,\n",
       " 'eth': 225,\n",
       " 'application': 226,\n",
       " 'option': 227,\n",
       " 'having': 228,\n",
       " 'sale': 229,\n",
       " 'issue': 230,\n",
       " 'deeplearning': 231,\n",
       " 'build': 232,\n",
       " 'watch': 233,\n",
       " 'mean': 234,\n",
       " 'topic': 235,\n",
       " 'powerful': 236,\n",
       " 'asking': 237,\n",
       " 'feel': 238,\n",
       " 'openaichatgpt': 239,\n",
       " 'ive': 240,\n",
       " 'understand': 241,\n",
       " 'working': 242,\n",
       " 'getting': 243,\n",
       " 'imagine': 244,\n",
       " 'level': 245,\n",
       " 'datascience': 246,\n",
       " 'click': 247,\n",
       " 'sure': 248,\n",
       " 'test': 249,\n",
       " 'plan': 250,\n",
       " 'list': 251,\n",
       " 'tried': 252,\n",
       " 'expert': 253,\n",
       " 'youre': 254,\n",
       " 'daysofcode': 255,\n",
       " 'knowledge': 256,\n",
       " 'feature': 257,\n",
       " 'nlp': 258,\n",
       " 'million': 259,\n",
       " 'social': 260,\n",
       " 'email': 261,\n",
       " 'able': 262,\n",
       " 'offer': 263,\n",
       " 'nfts': 264,\n",
       " 'there': 265,\n",
       " 'thats': 266,\n",
       " 'online': 267,\n",
       " 'security': 268,\n",
       " 'fintech': 269,\n",
       " 'design': 270,\n",
       " 'believe': 271,\n",
       " 'well': 272,\n",
       " 'make': 273,\n",
       " 'poem': 274,\n",
       " 'hour': 275,\n",
       " 'point': 276,\n",
       " 'teacher': 277,\n",
       " 'customer': 278,\n",
       " 'privacy': 279,\n",
       " 'wrong': 280,\n",
       " 'mind': 281,\n",
       " 'end': 282,\n",
       " 'school': 283,\n",
       " 'different': 284,\n",
       " 'assistant': 285,\n",
       " 'investment': 286,\n",
       " 'guide': 287,\n",
       " 'discover': 288,\n",
       " 'edtech': 289,\n",
       " 'skill': 290,\n",
       " 'friend': 291,\n",
       " 'improve': 292,\n",
       " 'that': 293,\n",
       " 'large': 294,\n",
       " 'chatgpts': 295,\n",
       " 'writer': 296,\n",
       " 'sell': 297,\n",
       " 'play': 298,\n",
       " 'incredible': 299,\n",
       " 'opportunity': 300,\n",
       " 'important': 301,\n",
       " 'interval': 302,\n",
       " 'support': 303,\n",
       " 'process': 304,\n",
       " 'value': 305,\n",
       " 'provide': 306,\n",
       " 'risk': 307,\n",
       " 'automation': 308,\n",
       " 'trying': 309,\n",
       " 'talking': 310,\n",
       " 'ceo': 311,\n",
       " 'tip': 312,\n",
       " 'get': 313,\n",
       " 'space': 314,\n",
       " 'perfect': 315,\n",
       " 'pretty': 316,\n",
       " 'system': 317,\n",
       " 'thinking': 318,\n",
       " 'actually': 319,\n",
       " 'stay': 320,\n",
       " 'bybit': 321,\n",
       " 'madewithai': 322,\n",
       " 'challenge': 323,\n",
       " 'aipowered': 324,\n",
       " 'autogpt': 325,\n",
       " 'china': 326,\n",
       " 'set': 327,\n",
       " 'capability': 328,\n",
       " 'bigdata': 329,\n",
       " 'far': 330,\n",
       " 'us': 331,\n",
       " 'candle': 332,\n",
       " 'update': 333,\n",
       " 'what': 334,\n",
       " 'podcast': 335,\n",
       " 'started': 336,\n",
       " 'useful': 337,\n",
       " 'wont': 338,\n",
       " 'recent': 339,\n",
       " 'essay': 340,\n",
       " 'analytics': 341,\n",
       " 'ability': 342,\n",
       " 'creator': 343,\n",
       " 'wrote': 344,\n",
       " 'creative': 345,\n",
       " 'trend': 346,\n",
       " 'bad': 347,\n",
       " 'one': 348,\n",
       " 'rival': 349,\n",
       " 'release': 350,\n",
       " 'simple': 351,\n",
       " 'training': 352,\n",
       " 'italy': 353,\n",
       " 'community': 354,\n",
       " 'creativity': 355,\n",
       " 'thank': 356,\n",
       " 'science': 357,\n",
       " 'don': 358,\n",
       " 'step': 359,\n",
       " 'coin': 360,\n",
       " 'insight': 361,\n",
       " 'fact': 362,\n",
       " 'benefit': 363,\n",
       " 'add': 364,\n",
       " 'investing': 365,\n",
       " 'exam': 366,\n",
       " 'little': 367,\n",
       " 'comment': 368,\n",
       " 'token': 369,\n",
       " 'report': 370,\n",
       " 'cool': 371,\n",
       " 'doesnt': 372,\n",
       " 'taking': 373,\n",
       " 'including': 374,\n",
       " 'paper': 375,\n",
       " 'program': 376,\n",
       " 'communication': 377,\n",
       " 'can': 378,\n",
       " 'yet': 379,\n",
       " 'second': 380,\n",
       " 'save': 381,\n",
       " 'exciting': 382,\n",
       " 'cryptocurrency': 383,\n",
       " 'history': 384,\n",
       " 'changing': 385,\n",
       " 'agi': 386,\n",
       " 'key': 387,\n",
       " 'episode': 388,\n",
       " 'possible': 389,\n",
       " 'explore': 390,\n",
       " 'style': 391,\n",
       " 'called': 392,\n",
       " 'healthcare': 393,\n",
       " 'digitalart': 394,\n",
       " 'and': 395,\n",
       " 'message': 396,\n",
       " 'excited': 397,\n",
       " 'concern': 398,\n",
       " 'according': 399,\n",
       " 'personal': 400,\n",
       " 'whats': 401,\n",
       " 'type': 402,\n",
       " 'building': 403,\n",
       " 'elon': 404,\n",
       " 'maybe': 405,\n",
       " 'person': 406,\n",
       " 'discus': 407,\n",
       " 'simply': 408,\n",
       " 'detail': 409,\n",
       " 'yourself': 410,\n",
       " 'wonder': 411,\n",
       " 'generation': 412,\n",
       " 'miss': 413,\n",
       " 'away': 414,\n",
       " 'revolution': 415,\n",
       " 'strategy': 416,\n",
       " 'not': 417,\n",
       " 'easy': 418,\n",
       " 'run': 419,\n",
       " 'artificalintelligence': 420,\n",
       " 'advanced': 421,\n",
       " 'enhance': 422,\n",
       " 'event': 423,\n",
       " 'daily': 424,\n",
       " 'again': 425,\n",
       " 'amazon': 426,\n",
       " 'interview': 427,\n",
       " 'natural': 428,\n",
       " 'current': 429,\n",
       " 'javascript': 430,\n",
       " 'sign': 431,\n",
       " 'integration': 432,\n",
       " 'smart': 433,\n",
       " 'law': 434,\n",
       " 'instead': 435,\n",
       " 'algorithm': 436,\n",
       " 'success': 437,\n",
       " 'true': 438,\n",
       " 'hey': 439,\n",
       " 'yes': 440,\n",
       " 'apps': 441,\n",
       " 'stop': 442,\n",
       " 'voice': 443,\n",
       " 'hope': 444,\n",
       " 'threat': 445,\n",
       " 'were': 446,\n",
       " 'output': 447,\n",
       " 'all': 448,\n",
       " 'bias': 449,\n",
       " 'bardai': 450,\n",
       " 'trending': 451,\n",
       " 'built': 452,\n",
       " 'plus': 453,\n",
       " 'aitools': 454,\n",
       " 'public': 455,\n",
       " 'number': 456,\n",
       " 'released': 457,\n",
       " 'creation': 458,\n",
       " 'gave': 459,\n",
       " 'copy': 460,\n",
       " 'teaching': 461,\n",
       " 'aiartwork': 462,\n",
       " 'musk': 463,\n",
       " 'sama': 464,\n",
       " 'trial': 465,\n",
       " 'high': 466,\n",
       " 'script': 467,\n",
       " 'discussion': 468,\n",
       " 'visit': 469,\n",
       " 'page': 470,\n",
       " 'trained': 471,\n",
       " 'turn': 472,\n",
       " 'technews': 473,\n",
       " 'bnb': 474,\n",
       " 'conversational': 475,\n",
       " 'similar': 476,\n",
       " 'bit': 477,\n",
       " 'googleai': 478,\n",
       " 'reason': 479,\n",
       " 'faster': 480,\n",
       " 'with': 481,\n",
       " 'review': 482,\n",
       " 'joke': 483,\n",
       " 'them': 484,\n",
       " 'fake': 485,\n",
       " 'hype': 486,\n",
       " 'playing': 487,\n",
       " 'meta': 488,\n",
       " 'aigenerated': 489,\n",
       " 'cloud': 490,\n",
       " 'took': 491,\n",
       " 'humanity': 492,\n",
       " 'attention': 493,\n",
       " 'happy': 494,\n",
       " 'chatgptplus': 495,\n",
       " 'ban': 496,\n",
       " 'take': 497,\n",
       " 'opinion': 498,\n",
       " 'music': 499,\n",
       " 'finally': 500,\n",
       " 'ahead': 501,\n",
       " 'testing': 502,\n",
       " 'nftcommunity': 503,\n",
       " 'hard': 504,\n",
       " 'revolutionize': 505,\n",
       " 'explain': 506,\n",
       " 'apple': 507,\n",
       " 'digitalmarketing': 508,\n",
       " 'invest': 509,\n",
       " 'billion': 510,\n",
       " 'india': 511,\n",
       " 'digitaltransformation': 512,\n",
       " 'seen': 513,\n",
       " 'quality': 514,\n",
       " 'old': 515,\n",
       " 'error': 516,\n",
       " 'university': 517,\n",
       " 'aichatbot': 518,\n",
       " 'win': 519,\n",
       " 'query': 520,\n",
       " 'for': 521,\n",
       " 'place': 522,\n",
       " 'gaming': 523,\n",
       " 'role': 524,\n",
       " 'analysis': 525,\n",
       " 'field': 526,\n",
       " 'ai': 527,\n",
       " 'song': 528,\n",
       " 'rise': 529,\n",
       " 'lead': 530,\n",
       " 'whatsapp': 531,\n",
       " 'legal': 532,\n",
       " 'early': 533,\n",
       " 'give': 534,\n",
       " 'launched': 535,\n",
       " 'account': 536,\n",
       " 'understanding': 537,\n",
       " 'letter': 538,\n",
       " 'professional': 539,\n",
       " 'googlebard': 540,\n",
       " 'brand': 541,\n",
       " 'linkedin': 542,\n",
       " 'study': 543,\n",
       " 'guy': 544,\n",
       " 'robotics': 545,\n",
       " 'race': 546,\n",
       " 'ethereum': 547,\n",
       " 'agix': 548,\n",
       " 'pay': 549,\n",
       " 'recently': 550,\n",
       " 'defi': 551,\n",
       " 'engineering': 552,\n",
       " 'easier': 553,\n",
       " 'reading': 554,\n",
       " 'didnt': 555,\n",
       " 'isnt': 556,\n",
       " 'advice': 557,\n",
       " 'super': 558,\n",
       " 'beginner': 559,\n",
       " 'too': 560,\n",
       " 'kind': 561,\n",
       " 'fear': 562,\n",
       " 'announced': 563,\n",
       " 'note': 564,\n",
       " 'extension': 565,\n",
       " 'man': 566,\n",
       " 'chart': 567,\n",
       " 'network': 568,\n",
       " 'stand': 569,\n",
       " 'sound': 570,\n",
       " 'wow': 571,\n",
       " 'stuff': 572,\n",
       " 'remember': 573,\n",
       " 'fast': 574,\n",
       " 'how': 575,\n",
       " 'author': 576,\n",
       " 'trade': 577,\n",
       " 'show': 578,\n",
       " 'doge': 579,\n",
       " 'cuttingedge': 580,\n",
       " 'magic': 581,\n",
       " 'possibility': 582,\n",
       " 'engineer': 583,\n",
       " 'came': 584,\n",
       " 'specific': 585,\n",
       " 'bring': 586,\n",
       " 'morning': 587,\n",
       " 'nocode': 588,\n",
       " 'facebook': 589,\n",
       " 'accurate': 590,\n",
       " 'listen': 591,\n",
       " 'meme': 592,\n",
       " 'signal': 593,\n",
       " 'alternative': 594,\n",
       " 'unique': 595,\n",
       " 'following': 596,\n",
       " 'researcher': 597,\n",
       " 'country': 598,\n",
       " 'quickly': 599,\n",
       " 'march': 600,\n",
       " 'heart': 601,\n",
       " 'war': 602,\n",
       " 'line': 603,\n",
       " 'told': 604,\n",
       " 'finance': 605,\n",
       " 'correct': 606,\n",
       " 'heard': 607,\n",
       " 'awesome': 608,\n",
       " 'lol': 609,\n",
       " 'resource': 610,\n",
       " 'eye': 611,\n",
       " 'nice': 612,\n",
       " 'moment': 613,\n",
       " 'guess': 614,\n",
       " 'given': 615,\n",
       " 'piece': 616,\n",
       " 'medical': 617,\n",
       " 'register': 618,\n",
       " 'hear': 619,\n",
       " 'meet': 620,\n",
       " 'popular': 621,\n",
       " 'funny': 622,\n",
       " 'info': 623,\n",
       " 'giving': 624,\n",
       " 'ethic': 625,\n",
       " 'matter': 626,\n",
       " 'trust': 627,\n",
       " 'processing': 628,\n",
       " 'leader': 629,\n",
       " 'fet': 630,\n",
       " 'view': 631,\n",
       " 'webinar': 632,\n",
       " 'cost': 633,\n",
       " 'input': 634,\n",
       " 'academic': 635,\n",
       " 'truth': 636,\n",
       " 'state': 637,\n",
       " 'send': 638,\n",
       " 'english': 639,\n",
       " 'term': 640,\n",
       " 'cryptonews': 641,\n",
       " 'probably': 642,\n",
       " 'ago': 643,\n",
       " 'reality': 644,\n",
       " 'form': 645,\n",
       " 'complex': 646,\n",
       " 'msft': 647,\n",
       " 'basic': 648,\n",
       " 'etc': 649,\n",
       " 'forward': 650,\n",
       " 'plugins': 651,\n",
       " 'cryptocurrencies': 652,\n",
       " 'reply': 653,\n",
       " 'focus': 654,\n",
       " 'growth': 655,\n",
       " 'huge': 656,\n",
       " 'interested': 657,\n",
       " 'age': 658,\n",
       " 'solve': 659,\n",
       " 'context': 660,\n",
       " 'control': 661,\n",
       " 'group': 662,\n",
       " 'hand': 663,\n",
       " 'generating': 664,\n",
       " 'quick': 665,\n",
       " 'past': 666,\n",
       " 'integrate': 667,\n",
       " 'implication': 668,\n",
       " 'entrepreneur': 669,\n",
       " 'ethical': 670,\n",
       " 'movie': 671,\n",
       " 'definitely': 672,\n",
       " 'left': 673,\n",
       " 'complete': 674,\n",
       " 'april': 675,\n",
       " 'pro': 676,\n",
       " 'employee': 677,\n",
       " 'curious': 678,\n",
       " 'saying': 679,\n",
       " 'deep': 680,\n",
       " 'health': 681,\n",
       " 'general': 682,\n",
       " 'developed': 683,\n",
       " 'starting': 684,\n",
       " 'summary': 685,\n",
       " 'programmer': 686,\n",
       " 'increase': 687,\n",
       " 'order': 688,\n",
       " 'browser': 689,\n",
       " 'however': 690,\n",
       " 'introduction': 691,\n",
       " 'boost': 692,\n",
       " 'experiment': 693,\n",
       " 'develop': 694,\n",
       " 'published': 695,\n",
       " 'small': 696,\n",
       " 'difference': 697,\n",
       " 'chatgptprompts': 698,\n",
       " 'produced': 699,\n",
       " 'haiku': 700,\n",
       " 'society': 701,\n",
       " 'worth': 702,\n",
       " 'edge': 703,\n",
       " 'financial': 704,\n",
       " 'embracing': 705,\n",
       " 'investor': 706,\n",
       " 'aidriven': 707,\n",
       " 'rule': 708,\n",
       " 'dan': 709,\n",
       " 'tiktok': 710,\n",
       " 'character': 711,\n",
       " 'educator': 712,\n",
       " 'era': 713,\n",
       " 'growing': 714,\n",
       " 'intelligent': 715,\n",
       " 'government': 716,\n",
       " 'breaking': 717,\n",
       " 'description': 718,\n",
       " 'reach': 719,\n",
       " 'global': 720,\n",
       " 'practice': 721,\n",
       " 'unlock': 722,\n",
       " 'baidu': 723,\n",
       " 'currently': 724,\n",
       " 'feeling': 725,\n",
       " 'generator': 726,\n",
       " 'approach': 727,\n",
       " 'brain': 728,\n",
       " 'decision': 729,\n",
       " 'teach': 730,\n",
       " 'produce': 731,\n",
       " 'opensource': 732,\n",
       " 'virtual': 733,\n",
       " 'chinese': 734,\n",
       " 'hold': 735,\n",
       " 'bullish': 736,\n",
       " 'math': 737,\n",
       " 'session': 738,\n",
       " 'taken': 739,\n",
       " 'ill': 740,\n",
       " 'face': 741,\n",
       " 'exploring': 742,\n",
       " 'clear': 743,\n",
       " 'concept': 744,\n",
       " 'sense': 745,\n",
       " 'name': 746,\n",
       " 'socialmedia': 747,\n",
       " 'needed': 748,\n",
       " 'kid': 749,\n",
       " 'helpful': 750,\n",
       " 'gamechanger': 751,\n",
       " 'gem': 752,\n",
       " 'management': 753,\n",
       " 'futureofwork': 754,\n",
       " 'why': 755,\n",
       " 'train': 756,\n",
       " 'copilot': 757,\n",
       " 'giant': 758,\n",
       " 'likely': 759,\n",
       " 'competitor': 760,\n",
       " 'instagram': 761,\n",
       " 'below': 762,\n",
       " 'agree': 763,\n",
       " 'career': 764,\n",
       " 'crazy': 765,\n",
       " 'request': 766,\n",
       " 'policy': 767,\n",
       " 'break': 768,\n",
       " 'feedback': 769,\n",
       " 'artist': 770,\n",
       " 'mistake': 771,\n",
       " 'prediction': 772,\n",
       " 'major': 773,\n",
       " 'sharing': 774,\n",
       " 'betamoroney': 775,\n",
       " 'beat': 776,\n",
       " 'limitation': 777,\n",
       " 'helping': 778,\n",
       " 'github': 779,\n",
       " 'mobile': 780,\n",
       " 'imgnai': 781,\n",
       " 'continue': 782,\n",
       " 'ukraine': 783,\n",
       " 'action': 784,\n",
       " 'worked': 785,\n",
       " 'awaiting': 786,\n",
       " 'original': 787,\n",
       " 'secret': 788,\n",
       " 'hit': 789,\n",
       " 'welcome': 790,\n",
       " 'fomo': 791,\n",
       " 'transform': 792,\n",
       " 'plugin': 793,\n",
       " 'grow': 794,\n",
       " 'consider': 795,\n",
       " 'especially': 796,\n",
       " 'bug': 797,\n",
       " 'go': 798,\n",
       " 'scary': 799,\n",
       " 'truly': 800,\n",
       " 'claim': 801,\n",
       " 'goal': 802,\n",
       " 'integrated': 803,\n",
       " 'tomorrow': 804,\n",
       " 'viral': 805,\n",
       " 'window': 806,\n",
       " 'class': 807,\n",
       " 'fascinating': 808,\n",
       " 'alert': 809,\n",
       " 'chrome': 810,\n",
       " 'waiting': 811,\n",
       " 'easily': 812,\n",
       " 'degenai': 813,\n",
       " 'call': 814,\n",
       " 'light': 815,\n",
       " 'from': 816,\n",
       " 'wanted': 817,\n",
       " 'aiprompts': 818,\n",
       " 'cheating': 819,\n",
       " 'spirosmargaris': 820,\n",
       " 'leverage': 821,\n",
       " 'college': 822,\n",
       " 'demo': 823,\n",
       " 'everything': 824,\n",
       " 'but': 825,\n",
       " 'series': 826,\n",
       " 'site': 827,\n",
       " 'marketer': 828,\n",
       " 'classroom': 829,\n",
       " 'safe': 830,\n",
       " 'download': 831,\n",
       " 'care': 832,\n",
       " 'speech': 833,\n",
       " 'deal': 834,\n",
       " 'favorite': 835,\n",
       " 'woman': 836,\n",
       " 'udemy': 837,\n",
       " 'enjoy': 838,\n",
       " 'empower': 839,\n",
       " 'aiartcommunity': 840,\n",
       " 'professor': 841,\n",
       " 'embrace': 842,\n",
       " 'store': 843,\n",
       " 'interaction': 844,\n",
       " 'positive': 845,\n",
       " 'travel': 846,\n",
       " 'entire': 847,\n",
       " 'insurtech': 848,\n",
       " 'newsletter': 849,\n",
       " 'planning': 850,\n",
       " 'effective': 851,\n",
       " 'battle': 852,\n",
       " 'personalized': 853,\n",
       " 'innovative': 854,\n",
       " 'writes': 855,\n",
       " 'woke': 856,\n",
       " 'stockstobuy': 857,\n",
       " 'competition': 858,\n",
       " 'completely': 859,\n",
       " 'assignment': 860,\n",
       " 'worry': 861,\n",
       " 'stockstowatch': 862,\n",
       " 'bingai': 863,\n",
       " 'advantage': 864,\n",
       " 'god': 865,\n",
       " 'daytrading': 866,\n",
       " 'effort': 867,\n",
       " 'multiple': 868,\n",
       " 'noun': 869,\n",
       " 'usa': 870,\n",
       " 'hot': 871,\n",
       " 'writingprompts': 872,\n",
       " 'night': 873,\n",
       " 'chatbotai': 874,\n",
       " 'finding': 875,\n",
       " 'biggest': 876,\n",
       " 'hello': 877,\n",
       " 'home': 878,\n",
       " 'malware': 879,\n",
       " 'function': 880,\n",
       " 'lie': 881,\n",
       " 'kicurency': 882,\n",
       " 'altcoin': 883,\n",
       " 'reference': 884,\n",
       " 'mindblowing': 885,\n",
       " 'collection': 886,\n",
       " 'fix': 887,\n",
       " 'firm': 888,\n",
       " 'chance': 889,\n",
       " 'related': 890,\n",
       " 'purpose': 891,\n",
       " 'designed': 892,\n",
       " 'promptengineering': 893,\n",
       " 'phone': 894,\n",
       " 'trump': 895,\n",
       " 'weve': 896,\n",
       " 'paid': 897,\n",
       " 'tothemoon': 898,\n",
       " 'founder': 899,\n",
       " 'speed': 900,\n",
       " 'about': 901,\n",
       " 'limited': 902,\n",
       " 'mwc': 903,\n",
       " 'office': 904,\n",
       " 'tesla': 905,\n",
       " 'copywriting': 906,\n",
       " 'hacking': 907,\n",
       " 'azure': 908,\n",
       " 'assessment': 909,\n",
       " 'giveaway': 910,\n",
       " 'impressed': 911,\n",
       " 'present': 912,\n",
       " 'limit': 913,\n",
       " 'yolo': 914,\n",
       " 'digitalhealth': 915,\n",
       " 'opensea': 916,\n",
       " 'banned': 917,\n",
       " 'interact': 918,\n",
       " 'yesterday': 919,\n",
       " 'plagiarism': 920,\n",
       " 'dream': 921,\n",
       " 'critical': 922,\n",
       " 'lawyer': 923,\n",
       " 'respond': 924,\n",
       " 'revolutionizing': 925,\n",
       " 'perspective': 926,\n",
       " 'journey': 927,\n",
       " 'strong': 928,\n",
       " 'running': 929,\n",
       " 'efficient': 930,\n",
       " 'redditarmy': 931,\n",
       " 'bottomfishing': 932,\n",
       " 'rate': 933,\n",
       " 'forbes': 934,\n",
       " 'creativeprompts': 935,\n",
       " 'block': 936,\n",
       " 'client': 937,\n",
       " 'computer': 938,\n",
       " 'hacker': 939,\n",
       " 'seeing': 940,\n",
       " 'ideaprompts': 941,\n",
       " 'master': 942,\n",
       " 'alien': 943,\n",
       " 'himss': 944,\n",
       " 'introducing': 945,\n",
       " 'popularity': 946,\n",
       " 'decided': 947,\n",
       " 'smarter': 948,\n",
       " 'who': 949,\n",
       " 'tutorial': 950,\n",
       " 'agent': 951,\n",
       " 'head': 952,\n",
       " 'ultimate': 953,\n",
       " 'won': 954,\n",
       " 'date': 955,\n",
       " 'are': 956,\n",
       " 'dao': 957,\n",
       " 'forever': 958,\n",
       " 'quote': 959,\n",
       " 'down': 960,\n",
       " 'ape': 961,\n",
       " 'flutter': 962,\n",
       " 'happen': 963,\n",
       " 'enroll': 964,\n",
       " 'providing': 965,\n",
       " 'relevant': 966,\n",
       " 'humanlike': 967,\n",
       " 'spend': 968,\n",
       " 'efficiency': 969,\n",
       " 'aiethics': 970,\n",
       " 'progress': 971,\n",
       " 'nature': 972,\n",
       " 'went': 973,\n",
       " 'anime': 974,\n",
       " 'capable': 975,\n",
       " 'exchange': 976,\n",
       " 'worker': 977,\n",
       " 'happened': 978,\n",
       " 'worried': 979,\n",
       " 'fantasy': 980,\n",
       " 'developing': 981,\n",
       " 'beginning': 982,\n",
       " 'meeting': 983,\n",
       " 'testament': 984,\n",
       " 'credit': 985,\n",
       " 'cause': 986,\n",
       " 'single': 987,\n",
       " 'forget': 988,\n",
       " 'ocean': 989,\n",
       " 'cover': 990,\n",
       " 'expect': 991,\n",
       " 'everyone': 992,\n",
       " 'title': 993,\n",
       " 'robecoins': 994,\n",
       " 'include': 995,\n",
       " 'child': 996,\n",
       " 'technical': 997,\n",
       " 'earn': 998,\n",
       " 'added': 999,\n",
       " 'performance': 1000,\n",
       " ...}"
      ]
     },
     "execution_count": 21,
     "metadata": {},
     "output_type": "execute_result"
    }
   ],
   "source": [
    "word_index"
   ]
  },
  {
   "cell_type": "code",
   "execution_count": 22,
   "id": "bf5606ff",
   "metadata": {},
   "outputs": [
    {
     "name": "stdout",
     "output_type": "stream",
     "text": [
      "11177/11177 [==============================] - 56s 5ms/step\n"
     ]
    }
   ],
   "source": [
    "pred = np.argmax(model.predict(tweets), axis=-1)"
   ]
  },
  {
   "cell_type": "code",
   "execution_count": 23,
   "id": "6f8a40b8",
   "metadata": {},
   "outputs": [
    {
     "data": {
      "text/plain": [
       "array([2, 2, 1, ..., 0, 0, 1], dtype=int64)"
      ]
     },
     "execution_count": 23,
     "metadata": {},
     "output_type": "execute_result"
    }
   ],
   "source": [
    "pred"
   ]
  },
  {
   "cell_type": "code",
   "execution_count": 24,
   "id": "14a78b64",
   "metadata": {},
   "outputs": [
    {
     "data": {
      "text/plain": [
       "357648"
      ]
     },
     "execution_count": 24,
     "metadata": {},
     "output_type": "execute_result"
    }
   ],
   "source": [
    "len(pred)"
   ]
  },
  {
   "cell_type": "code",
   "execution_count": 19,
   "id": "cee96892",
   "metadata": {},
   "outputs": [],
   "source": [
    "pred_series = pd.Series(pred)"
   ]
  },
  {
   "cell_type": "code",
   "execution_count": 20,
   "id": "11383ea3",
   "metadata": {},
   "outputs": [
    {
     "data": {
      "text/plain": [
       "357648"
      ]
     },
     "execution_count": 20,
     "metadata": {},
     "output_type": "execute_result"
    }
   ],
   "source": [
    "len(pred_series)"
   ]
  },
  {
   "cell_type": "code",
   "execution_count": 25,
   "id": "e3d01d63",
   "metadata": {},
   "outputs": [
    {
     "data": {
      "text/plain": [
       "357648"
      ]
     },
     "execution_count": 25,
     "metadata": {},
     "output_type": "execute_result"
    }
   ],
   "source": [
    "len(df.text)"
   ]
  },
  {
   "cell_type": "code",
   "execution_count": 26,
   "id": "8a40d45d",
   "metadata": {},
   "outputs": [],
   "source": [
    "dataframe = {'user_name': df.user_name, 'user_description': df.user_description.values, 'tweets': df.text.values, 'clean_tweets': df.clean_text.values, 'label': pred, 'date': df.date.values}"
   ]
  },
  {
   "cell_type": "code",
   "execution_count": 27,
   "id": "97e35b97",
   "metadata": {},
   "outputs": [],
   "source": [
    "result = pd.DataFrame(dataframe)"
   ]
  },
  {
   "cell_type": "code",
   "execution_count": 28,
   "id": "10eef042",
   "metadata": {},
   "outputs": [
    {
     "data": {
      "text/html": [
       "<div>\n",
       "<style scoped>\n",
       "    .dataframe tbody tr th:only-of-type {\n",
       "        vertical-align: middle;\n",
       "    }\n",
       "\n",
       "    .dataframe tbody tr th {\n",
       "        vertical-align: top;\n",
       "    }\n",
       "\n",
       "    .dataframe thead th {\n",
       "        text-align: right;\n",
       "    }\n",
       "</style>\n",
       "<table border=\"1\" class=\"dataframe\">\n",
       "  <thead>\n",
       "    <tr style=\"text-align: right;\">\n",
       "      <th></th>\n",
       "      <th>user_name</th>\n",
       "      <th>user_description</th>\n",
       "      <th>tweets</th>\n",
       "      <th>clean_tweets</th>\n",
       "      <th>label</th>\n",
       "      <th>date</th>\n",
       "    </tr>\n",
       "  </thead>\n",
       "  <tbody>\n",
       "    <tr>\n",
       "      <th>0</th>\n",
       "      <td>bilal haidar</td>\n",
       "      <td>building draftmateai developer author chatgpt ...</td>\n",
       "      <td>I'm happy to share with you that @draftmateai ...</td>\n",
       "      <td>happy share draftmateai support day free trial...</td>\n",
       "      <td>2</td>\n",
       "      <td>2023-04-26 13:02:16+00:00</td>\n",
       "    </tr>\n",
       "    <tr>\n",
       "      <th>1</th>\n",
       "      <td>josh arrington</td>\n",
       "      <td>nomadic marketing vigilante graphic web design...</td>\n",
       "      <td>🤖 - Integrate ChatGPT into your Marketo Smart ...</td>\n",
       "      <td>integrate chatgpt marketo smart campaign disco...</td>\n",
       "      <td>2</td>\n",
       "      <td>2023-04-26 13:02:06+00:00</td>\n",
       "    </tr>\n",
       "    <tr>\n",
       "      <th>2</th>\n",
       "      <td>smartling</td>\n",
       "      <td>leading translation management platform locali...</td>\n",
       "      <td>We’re pleased to announce new patent-pending t...</td>\n",
       "      <td>pleased announce new patentpending technology ...</td>\n",
       "      <td>1</td>\n",
       "      <td>2023-04-26 13:02:05+00:00</td>\n",
       "    </tr>\n",
       "    <tr>\n",
       "      <th>3</th>\n",
       "      <td>richard</td>\n",
       "      <td>engineering leader coach mentor building remot...</td>\n",
       "      <td>Starting to tire of being scolded by ChatGPT f...</td>\n",
       "      <td>starting tire scolded chatgpt slight perceived...</td>\n",
       "      <td>1</td>\n",
       "      <td>2023-04-26 13:02:00+00:00</td>\n",
       "    </tr>\n",
       "    <tr>\n",
       "      <th>4</th>\n",
       "      <td>lockroca</td>\n",
       "      <td>stop learning research develop uild future eyo...</td>\n",
       "      <td>@SpartaJustice It's notable that wikipedia ent...</td>\n",
       "      <td>spartajustice it notable wikipedia entry john ...</td>\n",
       "      <td>2</td>\n",
       "      <td>2023-04-26 13:01:52+00:00</td>\n",
       "    </tr>\n",
       "    <tr>\n",
       "      <th>...</th>\n",
       "      <td>...</td>\n",
       "      <td>...</td>\n",
       "      <td>...</td>\n",
       "      <td>...</td>\n",
       "      <td>...</td>\n",
       "      <td>...</td>\n",
       "    </tr>\n",
       "    <tr>\n",
       "      <th>374772</th>\n",
       "      <td>nenu</td>\n",
       "      <td>brain meant processing million tweet post vide...</td>\n",
       "      <td>ChatGPT is the biggest, smartest brain 🧠 in th...</td>\n",
       "      <td>chatgpt biggest smartest brain world right now...</td>\n",
       "      <td>1</td>\n",
       "      <td>2022-12-05 17:11:10+00:00</td>\n",
       "    </tr>\n",
       "    <tr>\n",
       "      <th>374773</th>\n",
       "      <td>iamtmoyo</td>\n",
       "      <td>blockchain enthusiast philanthropist slave jav...</td>\n",
       "      <td>Levels🙏🙏🙏,so happy for the chatGPT team for co...</td>\n",
       "      <td>levelsso happy chatgpt team com revolutionary ...</td>\n",
       "      <td>1</td>\n",
       "      <td>2022-12-05 17:10:31+00:00</td>\n",
       "    </tr>\n",
       "    <tr>\n",
       "      <th>374774</th>\n",
       "      <td>gabriel furstenheim</td>\n",
       "      <td>mathematician developer amazon previously geob...</td>\n",
       "      <td>Russel vs ChatGPT. It's also funny that it tak...</td>\n",
       "      <td>russel chatgpt it funny take long time answer ...</td>\n",
       "      <td>0</td>\n",
       "      <td>2022-12-05 17:09:04+00:00</td>\n",
       "    </tr>\n",
       "    <tr>\n",
       "      <th>374775</th>\n",
       "      <td>devang</td>\n",
       "      <td>passionate nature software developer profession</td>\n",
       "      <td>Was just wondering is there any difference bet...</td>\n",
       "      <td>wondering difference jasper chatgpt gpt chatgp...</td>\n",
       "      <td>0</td>\n",
       "      <td>2022-12-05 17:08:44+00:00</td>\n",
       "    </tr>\n",
       "    <tr>\n",
       "      <th>374776</th>\n",
       "      <td>norman meuschke</td>\n",
       "      <td>postdoc gipplab unigoettingen phd unikonstanz ...</td>\n",
       "      <td>#ChatGPT and similar #LLM pose a challenge to ...</td>\n",
       "      <td>chatgpt similar llm pose challenge academic in...</td>\n",
       "      <td>1</td>\n",
       "      <td>2022-12-05 17:08:20+00:00</td>\n",
       "    </tr>\n",
       "  </tbody>\n",
       "</table>\n",
       "<p>357648 rows × 6 columns</p>\n",
       "</div>"
      ],
      "text/plain": [
       "                  user_name  \\\n",
       "0              bilal haidar   \n",
       "1            josh arrington   \n",
       "2                 smartling   \n",
       "3                   richard   \n",
       "4                  lockroca   \n",
       "...                     ...   \n",
       "374772                 nenu   \n",
       "374773             iamtmoyo   \n",
       "374774  gabriel furstenheim   \n",
       "374775               devang   \n",
       "374776      norman meuschke   \n",
       "\n",
       "                                         user_description  \\\n",
       "0       building draftmateai developer author chatgpt ...   \n",
       "1       nomadic marketing vigilante graphic web design...   \n",
       "2       leading translation management platform locali...   \n",
       "3       engineering leader coach mentor building remot...   \n",
       "4       stop learning research develop uild future eyo...   \n",
       "...                                                   ...   \n",
       "374772  brain meant processing million tweet post vide...   \n",
       "374773  blockchain enthusiast philanthropist slave jav...   \n",
       "374774  mathematician developer amazon previously geob...   \n",
       "374775    passionate nature software developer profession   \n",
       "374776  postdoc gipplab unigoettingen phd unikonstanz ...   \n",
       "\n",
       "                                                   tweets  \\\n",
       "0       I'm happy to share with you that @draftmateai ...   \n",
       "1       🤖 - Integrate ChatGPT into your Marketo Smart ...   \n",
       "2       We’re pleased to announce new patent-pending t...   \n",
       "3       Starting to tire of being scolded by ChatGPT f...   \n",
       "4       @SpartaJustice It's notable that wikipedia ent...   \n",
       "...                                                   ...   \n",
       "374772  ChatGPT is the biggest, smartest brain 🧠 in th...   \n",
       "374773  Levels🙏🙏🙏,so happy for the chatGPT team for co...   \n",
       "374774  Russel vs ChatGPT. It's also funny that it tak...   \n",
       "374775  Was just wondering is there any difference bet...   \n",
       "374776  #ChatGPT and similar #LLM pose a challenge to ...   \n",
       "\n",
       "                                             clean_tweets  label  \\\n",
       "0       happy share draftmateai support day free trial...      2   \n",
       "1       integrate chatgpt marketo smart campaign disco...      2   \n",
       "2       pleased announce new patentpending technology ...      1   \n",
       "3       starting tire scolded chatgpt slight perceived...      1   \n",
       "4       spartajustice it notable wikipedia entry john ...      2   \n",
       "...                                                   ...    ...   \n",
       "374772  chatgpt biggest smartest brain world right now...      1   \n",
       "374773  levelsso happy chatgpt team com revolutionary ...      1   \n",
       "374774  russel chatgpt it funny take long time answer ...      0   \n",
       "374775  wondering difference jasper chatgpt gpt chatgp...      0   \n",
       "374776  chatgpt similar llm pose challenge academic in...      1   \n",
       "\n",
       "                             date  \n",
       "0       2023-04-26 13:02:16+00:00  \n",
       "1       2023-04-26 13:02:06+00:00  \n",
       "2       2023-04-26 13:02:05+00:00  \n",
       "3       2023-04-26 13:02:00+00:00  \n",
       "4       2023-04-26 13:01:52+00:00  \n",
       "...                           ...  \n",
       "374772  2022-12-05 17:11:10+00:00  \n",
       "374773  2022-12-05 17:10:31+00:00  \n",
       "374774  2022-12-05 17:09:04+00:00  \n",
       "374775  2022-12-05 17:08:44+00:00  \n",
       "374776  2022-12-05 17:08:20+00:00  \n",
       "\n",
       "[357648 rows x 6 columns]"
      ]
     },
     "execution_count": 28,
     "metadata": {},
     "output_type": "execute_result"
    }
   ],
   "source": [
    "result"
   ]
  },
  {
   "cell_type": "code",
   "execution_count": 29,
   "id": "a92e26f2",
   "metadata": {},
   "outputs": [
    {
     "data": {
      "text/plain": [
       "user_name           0\n",
       "user_description    0\n",
       "tweets              0\n",
       "clean_tweets        0\n",
       "label               0\n",
       "date                0\n",
       "dtype: int64"
      ]
     },
     "execution_count": 29,
     "metadata": {},
     "output_type": "execute_result"
    }
   ],
   "source": [
    "result.isnull().values.any()\n",
    "result.isnull().sum()"
   ]
  },
  {
   "cell_type": "code",
   "execution_count": 30,
   "id": "645081b2",
   "metadata": {},
   "outputs": [],
   "source": [
    "result['label'] = result['label'].replace({0: 'negativ', 1: 'neutral', 2: 'positiv'})"
   ]
  },
  {
   "cell_type": "code",
   "execution_count": 31,
   "id": "10d505ac",
   "metadata": {},
   "outputs": [
    {
     "data": {
      "text/plain": [
       "user_name           0\n",
       "user_description    0\n",
       "tweets              0\n",
       "clean_tweets        0\n",
       "label               0\n",
       "date                0\n",
       "dtype: int64"
      ]
     },
     "execution_count": 31,
     "metadata": {},
     "output_type": "execute_result"
    }
   ],
   "source": [
    "result.isnull().values.any()\n",
    "result.isnull().sum()"
   ]
  },
  {
   "cell_type": "code",
   "execution_count": 32,
   "id": "7425af0e",
   "metadata": {
    "scrolled": true
   },
   "outputs": [
    {
     "data": {
      "text/html": [
       "<div>\n",
       "<style scoped>\n",
       "    .dataframe tbody tr th:only-of-type {\n",
       "        vertical-align: middle;\n",
       "    }\n",
       "\n",
       "    .dataframe tbody tr th {\n",
       "        vertical-align: top;\n",
       "    }\n",
       "\n",
       "    .dataframe thead th {\n",
       "        text-align: right;\n",
       "    }\n",
       "</style>\n",
       "<table border=\"1\" class=\"dataframe\">\n",
       "  <thead>\n",
       "    <tr style=\"text-align: right;\">\n",
       "      <th></th>\n",
       "      <th>user_name</th>\n",
       "      <th>user_description</th>\n",
       "      <th>tweets</th>\n",
       "      <th>clean_tweets</th>\n",
       "      <th>label</th>\n",
       "      <th>date</th>\n",
       "    </tr>\n",
       "  </thead>\n",
       "  <tbody>\n",
       "    <tr>\n",
       "      <th>0</th>\n",
       "      <td>bilal haidar</td>\n",
       "      <td>building draftmateai developer author chatgpt ...</td>\n",
       "      <td>I'm happy to share with you that @draftmateai ...</td>\n",
       "      <td>happy share draftmateai support day free trial...</td>\n",
       "      <td>positiv</td>\n",
       "      <td>2023-04-26 13:02:16+00:00</td>\n",
       "    </tr>\n",
       "    <tr>\n",
       "      <th>1</th>\n",
       "      <td>josh arrington</td>\n",
       "      <td>nomadic marketing vigilante graphic web design...</td>\n",
       "      <td>🤖 - Integrate ChatGPT into your Marketo Smart ...</td>\n",
       "      <td>integrate chatgpt marketo smart campaign disco...</td>\n",
       "      <td>positiv</td>\n",
       "      <td>2023-04-26 13:02:06+00:00</td>\n",
       "    </tr>\n",
       "    <tr>\n",
       "      <th>2</th>\n",
       "      <td>smartling</td>\n",
       "      <td>leading translation management platform locali...</td>\n",
       "      <td>We’re pleased to announce new patent-pending t...</td>\n",
       "      <td>pleased announce new patentpending technology ...</td>\n",
       "      <td>neutral</td>\n",
       "      <td>2023-04-26 13:02:05+00:00</td>\n",
       "    </tr>\n",
       "    <tr>\n",
       "      <th>3</th>\n",
       "      <td>richard</td>\n",
       "      <td>engineering leader coach mentor building remot...</td>\n",
       "      <td>Starting to tire of being scolded by ChatGPT f...</td>\n",
       "      <td>starting tire scolded chatgpt slight perceived...</td>\n",
       "      <td>neutral</td>\n",
       "      <td>2023-04-26 13:02:00+00:00</td>\n",
       "    </tr>\n",
       "    <tr>\n",
       "      <th>4</th>\n",
       "      <td>lockroca</td>\n",
       "      <td>stop learning research develop uild future eyo...</td>\n",
       "      <td>@SpartaJustice It's notable that wikipedia ent...</td>\n",
       "      <td>spartajustice it notable wikipedia entry john ...</td>\n",
       "      <td>positiv</td>\n",
       "      <td>2023-04-26 13:01:52+00:00</td>\n",
       "    </tr>\n",
       "    <tr>\n",
       "      <th>...</th>\n",
       "      <td>...</td>\n",
       "      <td>...</td>\n",
       "      <td>...</td>\n",
       "      <td>...</td>\n",
       "      <td>...</td>\n",
       "      <td>...</td>\n",
       "    </tr>\n",
       "    <tr>\n",
       "      <th>374772</th>\n",
       "      <td>nenu</td>\n",
       "      <td>brain meant processing million tweet post vide...</td>\n",
       "      <td>ChatGPT is the biggest, smartest brain 🧠 in th...</td>\n",
       "      <td>chatgpt biggest smartest brain world right now...</td>\n",
       "      <td>neutral</td>\n",
       "      <td>2022-12-05 17:11:10+00:00</td>\n",
       "    </tr>\n",
       "    <tr>\n",
       "      <th>374773</th>\n",
       "      <td>iamtmoyo</td>\n",
       "      <td>blockchain enthusiast philanthropist slave jav...</td>\n",
       "      <td>Levels🙏🙏🙏,so happy for the chatGPT team for co...</td>\n",
       "      <td>levelsso happy chatgpt team com revolutionary ...</td>\n",
       "      <td>neutral</td>\n",
       "      <td>2022-12-05 17:10:31+00:00</td>\n",
       "    </tr>\n",
       "    <tr>\n",
       "      <th>374774</th>\n",
       "      <td>gabriel furstenheim</td>\n",
       "      <td>mathematician developer amazon previously geob...</td>\n",
       "      <td>Russel vs ChatGPT. It's also funny that it tak...</td>\n",
       "      <td>russel chatgpt it funny take long time answer ...</td>\n",
       "      <td>negativ</td>\n",
       "      <td>2022-12-05 17:09:04+00:00</td>\n",
       "    </tr>\n",
       "    <tr>\n",
       "      <th>374775</th>\n",
       "      <td>devang</td>\n",
       "      <td>passionate nature software developer profession</td>\n",
       "      <td>Was just wondering is there any difference bet...</td>\n",
       "      <td>wondering difference jasper chatgpt gpt chatgp...</td>\n",
       "      <td>negativ</td>\n",
       "      <td>2022-12-05 17:08:44+00:00</td>\n",
       "    </tr>\n",
       "    <tr>\n",
       "      <th>374776</th>\n",
       "      <td>norman meuschke</td>\n",
       "      <td>postdoc gipplab unigoettingen phd unikonstanz ...</td>\n",
       "      <td>#ChatGPT and similar #LLM pose a challenge to ...</td>\n",
       "      <td>chatgpt similar llm pose challenge academic in...</td>\n",
       "      <td>neutral</td>\n",
       "      <td>2022-12-05 17:08:20+00:00</td>\n",
       "    </tr>\n",
       "  </tbody>\n",
       "</table>\n",
       "<p>357648 rows × 6 columns</p>\n",
       "</div>"
      ],
      "text/plain": [
       "                  user_name  \\\n",
       "0              bilal haidar   \n",
       "1            josh arrington   \n",
       "2                 smartling   \n",
       "3                   richard   \n",
       "4                  lockroca   \n",
       "...                     ...   \n",
       "374772                 nenu   \n",
       "374773             iamtmoyo   \n",
       "374774  gabriel furstenheim   \n",
       "374775               devang   \n",
       "374776      norman meuschke   \n",
       "\n",
       "                                         user_description  \\\n",
       "0       building draftmateai developer author chatgpt ...   \n",
       "1       nomadic marketing vigilante graphic web design...   \n",
       "2       leading translation management platform locali...   \n",
       "3       engineering leader coach mentor building remot...   \n",
       "4       stop learning research develop uild future eyo...   \n",
       "...                                                   ...   \n",
       "374772  brain meant processing million tweet post vide...   \n",
       "374773  blockchain enthusiast philanthropist slave jav...   \n",
       "374774  mathematician developer amazon previously geob...   \n",
       "374775    passionate nature software developer profession   \n",
       "374776  postdoc gipplab unigoettingen phd unikonstanz ...   \n",
       "\n",
       "                                                   tweets  \\\n",
       "0       I'm happy to share with you that @draftmateai ...   \n",
       "1       🤖 - Integrate ChatGPT into your Marketo Smart ...   \n",
       "2       We’re pleased to announce new patent-pending t...   \n",
       "3       Starting to tire of being scolded by ChatGPT f...   \n",
       "4       @SpartaJustice It's notable that wikipedia ent...   \n",
       "...                                                   ...   \n",
       "374772  ChatGPT is the biggest, smartest brain 🧠 in th...   \n",
       "374773  Levels🙏🙏🙏,so happy for the chatGPT team for co...   \n",
       "374774  Russel vs ChatGPT. It's also funny that it tak...   \n",
       "374775  Was just wondering is there any difference bet...   \n",
       "374776  #ChatGPT and similar #LLM pose a challenge to ...   \n",
       "\n",
       "                                             clean_tweets    label  \\\n",
       "0       happy share draftmateai support day free trial...  positiv   \n",
       "1       integrate chatgpt marketo smart campaign disco...  positiv   \n",
       "2       pleased announce new patentpending technology ...  neutral   \n",
       "3       starting tire scolded chatgpt slight perceived...  neutral   \n",
       "4       spartajustice it notable wikipedia entry john ...  positiv   \n",
       "...                                                   ...      ...   \n",
       "374772  chatgpt biggest smartest brain world right now...  neutral   \n",
       "374773  levelsso happy chatgpt team com revolutionary ...  neutral   \n",
       "374774  russel chatgpt it funny take long time answer ...  negativ   \n",
       "374775  wondering difference jasper chatgpt gpt chatgp...  negativ   \n",
       "374776  chatgpt similar llm pose challenge academic in...  neutral   \n",
       "\n",
       "                             date  \n",
       "0       2023-04-26 13:02:16+00:00  \n",
       "1       2023-04-26 13:02:06+00:00  \n",
       "2       2023-04-26 13:02:05+00:00  \n",
       "3       2023-04-26 13:02:00+00:00  \n",
       "4       2023-04-26 13:01:52+00:00  \n",
       "...                           ...  \n",
       "374772  2022-12-05 17:11:10+00:00  \n",
       "374773  2022-12-05 17:10:31+00:00  \n",
       "374774  2022-12-05 17:09:04+00:00  \n",
       "374775  2022-12-05 17:08:44+00:00  \n",
       "374776  2022-12-05 17:08:20+00:00  \n",
       "\n",
       "[357648 rows x 6 columns]"
      ]
     },
     "execution_count": 32,
     "metadata": {},
     "output_type": "execute_result"
    }
   ],
   "source": [
    "result"
   ]
  },
  {
   "cell_type": "code",
   "execution_count": 33,
   "id": "046928bd",
   "metadata": {},
   "outputs": [],
   "source": [
    "result.to_csv('datasets/sentiment_chatgpt.csv')"
   ]
  },
  {
   "cell_type": "code",
   "execution_count": null,
   "id": "f9b2279a",
   "metadata": {},
   "outputs": [],
   "source": []
  }
 ],
 "metadata": {
  "kernelspec": {
   "display_name": "Python 3 (ipykernel)",
   "language": "python",
   "name": "python3"
  },
  "language_info": {
   "codemirror_mode": {
    "name": "ipython",
    "version": 3
   },
   "file_extension": ".py",
   "mimetype": "text/x-python",
   "name": "python",
   "nbconvert_exporter": "python",
   "pygments_lexer": "ipython3",
   "version": "3.9.13"
  }
 },
 "nbformat": 4,
 "nbformat_minor": 5
}
