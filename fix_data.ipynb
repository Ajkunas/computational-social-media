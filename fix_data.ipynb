{
 "cells": [
  {
   "cell_type": "code",
   "execution_count": 68,
   "metadata": {},
   "outputs": [],
   "source": [
    "\n",
    "import pandas as pd\n",
    "import numpy as np\n",
    "\n",
    "emo_neg = pd.read_csv('/Users/barbararuvolo/Desktop/EPFL/Digital Musicology/computational-social-media/datasets/negative_first_emotions.csv')\n",
    "emo_pos = pd.read_csv('/Users/barbararuvolo/Desktop/EPFL/Digital Musicology/computational-social-media/datasets/positive_first_emotions_final_final.csv')\n",
    "all = pd.read_csv('/Users/barbararuvolo/Desktop/EPFL/Digital Musicology/computational-social-media/datasets/sentiment_first.csv', usecols=['user_name', 'user_description','tweets','label', 'date'])"
   ]
  },
  {
   "cell_type": "code",
   "execution_count": 69,
   "metadata": {},
   "outputs": [],
   "source": [
    "df = all.sort_values(by='date')\n",
    "df.date = pd.to_datetime(df.date)\n",
    "first = df[df.date.dt.month == 12] # first month"
   ]
  },
  {
   "cell_type": "code",
   "execution_count": 70,
   "metadata": {},
   "outputs": [
    {
     "data": {
      "text/html": [
       "<div>\n",
       "<style scoped>\n",
       "    .dataframe tbody tr th:only-of-type {\n",
       "        vertical-align: middle;\n",
       "    }\n",
       "\n",
       "    .dataframe tbody tr th {\n",
       "        vertical-align: top;\n",
       "    }\n",
       "\n",
       "    .dataframe thead th {\n",
       "        text-align: right;\n",
       "    }\n",
       "</style>\n",
       "<table border=\"1\" class=\"dataframe\">\n",
       "  <thead>\n",
       "    <tr style=\"text-align: right;\">\n",
       "      <th></th>\n",
       "      <th>label</th>\n",
       "      <th>score</th>\n",
       "    </tr>\n",
       "  </thead>\n",
       "  <tbody>\n",
       "    <tr>\n",
       "      <th>0</th>\n",
       "      <td>optimism</td>\n",
       "      <td>0.984688</td>\n",
       "    </tr>\n",
       "    <tr>\n",
       "      <th>1</th>\n",
       "      <td>joy</td>\n",
       "      <td>0.428626</td>\n",
       "    </tr>\n",
       "    <tr>\n",
       "      <th>2</th>\n",
       "      <td>admiration</td>\n",
       "      <td>0.974384</td>\n",
       "    </tr>\n",
       "    <tr>\n",
       "      <th>3</th>\n",
       "      <td>amusement</td>\n",
       "      <td>0.984916</td>\n",
       "    </tr>\n",
       "    <tr>\n",
       "      <th>4</th>\n",
       "      <td>amusement</td>\n",
       "      <td>0.991430</td>\n",
       "    </tr>\n",
       "    <tr>\n",
       "      <th>...</th>\n",
       "      <td>...</td>\n",
       "      <td>...</td>\n",
       "    </tr>\n",
       "    <tr>\n",
       "      <th>18546</th>\n",
       "      <td>excitement</td>\n",
       "      <td>0.735533</td>\n",
       "    </tr>\n",
       "    <tr>\n",
       "      <th>18547</th>\n",
       "      <td>admiration</td>\n",
       "      <td>0.793557</td>\n",
       "    </tr>\n",
       "    <tr>\n",
       "      <th>18548</th>\n",
       "      <td>neutral</td>\n",
       "      <td>0.831502</td>\n",
       "    </tr>\n",
       "    <tr>\n",
       "      <th>18549</th>\n",
       "      <td>neutral</td>\n",
       "      <td>0.808560</td>\n",
       "    </tr>\n",
       "    <tr>\n",
       "      <th>18550</th>\n",
       "      <td>love</td>\n",
       "      <td>0.787240</td>\n",
       "    </tr>\n",
       "  </tbody>\n",
       "</table>\n",
       "<p>18551 rows × 2 columns</p>\n",
       "</div>"
      ],
      "text/plain": [
       "            label     score\n",
       "0        optimism  0.984688\n",
       "1             joy  0.428626\n",
       "2      admiration  0.974384\n",
       "3       amusement  0.984916\n",
       "4       amusement  0.991430\n",
       "...           ...       ...\n",
       "18546  excitement  0.735533\n",
       "18547  admiration  0.793557\n",
       "18548     neutral  0.831502\n",
       "18549     neutral  0.808560\n",
       "18550        love  0.787240\n",
       "\n",
       "[18551 rows x 2 columns]"
      ]
     },
     "execution_count": 70,
     "metadata": {},
     "output_type": "execute_result"
    }
   ],
   "source": [
    "emo_pos"
   ]
  },
  {
   "cell_type": "code",
   "execution_count": 71,
   "metadata": {},
   "outputs": [
    {
     "data": {
      "text/plain": [
       "52337"
      ]
     },
     "execution_count": 71,
     "metadata": {},
     "output_type": "execute_result"
    }
   ],
   "source": [
    "len(first)  "
   ]
  },
  {
   "cell_type": "code",
   "execution_count": 72,
   "metadata": {},
   "outputs": [],
   "source": [
    "positive_first = first[first.label == 'positive']\n",
    "negative_first = first[first.label == 'negative']\n",
    "neutral_first = first[first.label == 'neutral']"
   ]
  },
  {
   "cell_type": "code",
   "execution_count": 73,
   "metadata": {},
   "outputs": [
    {
     "data": {
      "text/plain": [
       "18551"
      ]
     },
     "execution_count": 73,
     "metadata": {},
     "output_type": "execute_result"
    }
   ],
   "source": [
    "len(positive_first)"
   ]
  },
  {
   "cell_type": "code",
   "execution_count": 74,
   "metadata": {},
   "outputs": [
    {
     "data": {
      "text/plain": [
       "18551"
      ]
     },
     "execution_count": 74,
     "metadata": {},
     "output_type": "execute_result"
    }
   ],
   "source": [
    "len(emo_pos)"
   ]
  },
  {
   "cell_type": "code",
   "execution_count": 75,
   "metadata": {},
   "outputs": [
    {
     "data": {
      "text/plain": [
       "9981"
      ]
     },
     "execution_count": 75,
     "metadata": {},
     "output_type": "execute_result"
    }
   ],
   "source": [
    "len(negative_first)"
   ]
  },
  {
   "cell_type": "code",
   "execution_count": 76,
   "metadata": {},
   "outputs": [
    {
     "data": {
      "text/plain": [
       "9981"
      ]
     },
     "execution_count": 76,
     "metadata": {},
     "output_type": "execute_result"
    }
   ],
   "source": [
    "len(emo_neg)"
   ]
  },
  {
   "cell_type": "code",
   "execution_count": 77,
   "metadata": {},
   "outputs": [],
   "source": [
    "positive_first.insert(5, 'emotion', emo_pos['label'].values, True)"
   ]
  },
  {
   "cell_type": "code",
   "execution_count": 79,
   "metadata": {},
   "outputs": [],
   "source": [
    "negative_first.insert(5, 'emotion', emo_neg['label'].values, True)"
   ]
  },
  {
   "cell_type": "code",
   "execution_count": 80,
   "metadata": {},
   "outputs": [],
   "source": [
    "#concatenate the two dataframes plus neutral_first dataframe\n",
    "frames = [positive_first, negative_first]\n",
    "\n",
    "result = pd.concat(frames)"
   ]
  },
  {
   "cell_type": "code",
   "execution_count": 81,
   "metadata": {},
   "outputs": [
    {
     "data": {
      "text/html": [
       "<div>\n",
       "<style scoped>\n",
       "    .dataframe tbody tr th:only-of-type {\n",
       "        vertical-align: middle;\n",
       "    }\n",
       "\n",
       "    .dataframe tbody tr th {\n",
       "        vertical-align: top;\n",
       "    }\n",
       "\n",
       "    .dataframe thead th {\n",
       "        text-align: right;\n",
       "    }\n",
       "</style>\n",
       "<table border=\"1\" class=\"dataframe\">\n",
       "  <thead>\n",
       "    <tr style=\"text-align: right;\">\n",
       "      <th></th>\n",
       "      <th>user_name</th>\n",
       "      <th>user_description</th>\n",
       "      <th>tweets</th>\n",
       "      <th>label</th>\n",
       "      <th>date</th>\n",
       "      <th>emotion</th>\n",
       "    </tr>\n",
       "  </thead>\n",
       "  <tbody>\n",
       "    <tr>\n",
       "      <th>0</th>\n",
       "      <td>norman meuschke</td>\n",
       "      <td>postdoc gipplab unigoettingen phd unikonstanz ...</td>\n",
       "      <td>#ChatGPT and similar #LLM pose a challenge to ...</td>\n",
       "      <td>positive</td>\n",
       "      <td>2022-12-05 17:08:20+00:00</td>\n",
       "      <td>optimism</td>\n",
       "    </tr>\n",
       "    <tr>\n",
       "      <th>3</th>\n",
       "      <td>iamtmoyo</td>\n",
       "      <td>blockchain enthusiast philanthropist slave jav...</td>\n",
       "      <td>Levels🙏🙏🙏,so happy for the chatGPT team for co...</td>\n",
       "      <td>positive</td>\n",
       "      <td>2022-12-05 17:10:31+00:00</td>\n",
       "      <td>joy</td>\n",
       "    </tr>\n",
       "    <tr>\n",
       "      <th>4</th>\n",
       "      <td>nenu</td>\n",
       "      <td>brain meant processing million tweet post vide...</td>\n",
       "      <td>ChatGPT is the biggest, smartest brain 🧠 in th...</td>\n",
       "      <td>positive</td>\n",
       "      <td>2022-12-05 17:11:10+00:00</td>\n",
       "      <td>admiration</td>\n",
       "    </tr>\n",
       "    <tr>\n",
       "      <th>5</th>\n",
       "      <td>nick perkins hebrew development manager</td>\n",
       "      <td>proud dad husband dev manager io eng teacher d...</td>\n",
       "      <td>Ok now @OpenAI is just showing off. lol #ChatG...</td>\n",
       "      <td>positive</td>\n",
       "      <td>2022-12-05 17:11:37+00:00</td>\n",
       "      <td>amusement</td>\n",
       "    </tr>\n",
       "    <tr>\n",
       "      <th>6</th>\n",
       "      <td>tushar tajane</td>\n",
       "      <td>artisan technocrat ecommerce performance marke...</td>\n",
       "      <td>@jebraat Keep exploring and tweeting screensho...</td>\n",
       "      <td>positive</td>\n",
       "      <td>2022-12-05 17:12:08+00:00</td>\n",
       "      <td>amusement</td>\n",
       "    </tr>\n",
       "    <tr>\n",
       "      <th>...</th>\n",
       "      <td>...</td>\n",
       "      <td>...</td>\n",
       "      <td>...</td>\n",
       "      <td>...</td>\n",
       "      <td>...</td>\n",
       "      <td>...</td>\n",
       "    </tr>\n",
       "    <tr>\n",
       "      <th>52312</th>\n",
       "      <td>zer int it</td>\n",
       "      <td>prompt engineering prompt criticality it addre...</td>\n",
       "      <td>WAT?! What are you doing, #ChatGPT? 🤓\\n\\nDid t...</td>\n",
       "      <td>negative</td>\n",
       "      <td>2022-12-31 23:24:37+00:00</td>\n",
       "      <td>admiration</td>\n",
       "    </tr>\n",
       "    <tr>\n",
       "      <th>52319</th>\n",
       "      <td>cry gen</td>\n",
       "      <td>guardian earth serving greater good protecting...</td>\n",
       "      <td>@OpenAI Hi there - I'm having trouble with the...</td>\n",
       "      <td>negative</td>\n",
       "      <td>2022-12-31 23:34:27+00:00</td>\n",
       "      <td>confusion</td>\n",
       "    </tr>\n",
       "    <tr>\n",
       "      <th>52324</th>\n",
       "      <td>melissa roe</td>\n",
       "      <td>podcaster creative writer love bake listen new...</td>\n",
       "      <td>Has anyone noticed that #ChatGpt may be easy t...</td>\n",
       "      <td>negative</td>\n",
       "      <td>2022-12-31 23:40:21+00:00</td>\n",
       "      <td>realization</td>\n",
       "    </tr>\n",
       "    <tr>\n",
       "      <th>52327</th>\n",
       "      <td>weird gpt</td>\n",
       "      <td>weird creative dall chatgpt gpt generation</td>\n",
       "      <td>Unfortunately, that's just impossible #GPT-3 #...</td>\n",
       "      <td>negative</td>\n",
       "      <td>2022-12-31 23:47:01+00:00</td>\n",
       "      <td>disappointment</td>\n",
       "    </tr>\n",
       "    <tr>\n",
       "      <th>52334</th>\n",
       "      <td>kawtar choubari</td>\n",
       "      <td>content creator software engineer tweet progra...</td>\n",
       "      <td>Sounds like AI can't predict 2023 trends 😆\\n#n...</td>\n",
       "      <td>negative</td>\n",
       "      <td>2022-12-31 23:58:37+00:00</td>\n",
       "      <td>disapproval</td>\n",
       "    </tr>\n",
       "  </tbody>\n",
       "</table>\n",
       "<p>28532 rows × 6 columns</p>\n",
       "</div>"
      ],
      "text/plain": [
       "                                     user_name  \\\n",
       "0                              norman meuschke   \n",
       "3                                     iamtmoyo   \n",
       "4                                         nenu   \n",
       "5      nick perkins hebrew development manager   \n",
       "6                                tushar tajane   \n",
       "...                                        ...   \n",
       "52312                               zer int it   \n",
       "52319                                  cry gen   \n",
       "52324                              melissa roe   \n",
       "52327                                weird gpt   \n",
       "52334                          kawtar choubari   \n",
       "\n",
       "                                        user_description  \\\n",
       "0      postdoc gipplab unigoettingen phd unikonstanz ...   \n",
       "3      blockchain enthusiast philanthropist slave jav...   \n",
       "4      brain meant processing million tweet post vide...   \n",
       "5      proud dad husband dev manager io eng teacher d...   \n",
       "6      artisan technocrat ecommerce performance marke...   \n",
       "...                                                  ...   \n",
       "52312  prompt engineering prompt criticality it addre...   \n",
       "52319  guardian earth serving greater good protecting...   \n",
       "52324  podcaster creative writer love bake listen new...   \n",
       "52327         weird creative dall chatgpt gpt generation   \n",
       "52334  content creator software engineer tweet progra...   \n",
       "\n",
       "                                                  tweets     label  \\\n",
       "0      #ChatGPT and similar #LLM pose a challenge to ...  positive   \n",
       "3      Levels🙏🙏🙏,so happy for the chatGPT team for co...  positive   \n",
       "4      ChatGPT is the biggest, smartest brain 🧠 in th...  positive   \n",
       "5      Ok now @OpenAI is just showing off. lol #ChatG...  positive   \n",
       "6      @jebraat Keep exploring and tweeting screensho...  positive   \n",
       "...                                                  ...       ...   \n",
       "52312  WAT?! What are you doing, #ChatGPT? 🤓\\n\\nDid t...  negative   \n",
       "52319  @OpenAI Hi there - I'm having trouble with the...  negative   \n",
       "52324  Has anyone noticed that #ChatGpt may be easy t...  negative   \n",
       "52327  Unfortunately, that's just impossible #GPT-3 #...  negative   \n",
       "52334  Sounds like AI can't predict 2023 trends 😆\\n#n...  negative   \n",
       "\n",
       "                           date         emotion  \n",
       "0     2022-12-05 17:08:20+00:00        optimism  \n",
       "3     2022-12-05 17:10:31+00:00             joy  \n",
       "4     2022-12-05 17:11:10+00:00      admiration  \n",
       "5     2022-12-05 17:11:37+00:00       amusement  \n",
       "6     2022-12-05 17:12:08+00:00       amusement  \n",
       "...                         ...             ...  \n",
       "52312 2022-12-31 23:24:37+00:00      admiration  \n",
       "52319 2022-12-31 23:34:27+00:00       confusion  \n",
       "52324 2022-12-31 23:40:21+00:00     realization  \n",
       "52327 2022-12-31 23:47:01+00:00  disappointment  \n",
       "52334 2022-12-31 23:58:37+00:00     disapproval  \n",
       "\n",
       "[28532 rows x 6 columns]"
      ]
     },
     "execution_count": 81,
     "metadata": {},
     "output_type": "execute_result"
    }
   ],
   "source": [
    "result"
   ]
  },
  {
   "cell_type": "code",
   "execution_count": 86,
   "metadata": {},
   "outputs": [
    {
     "data": {
      "text/html": [
       "<div>\n",
       "<style scoped>\n",
       "    .dataframe tbody tr th:only-of-type {\n",
       "        vertical-align: middle;\n",
       "    }\n",
       "\n",
       "    .dataframe tbody tr th {\n",
       "        vertical-align: top;\n",
       "    }\n",
       "\n",
       "    .dataframe thead th {\n",
       "        text-align: right;\n",
       "    }\n",
       "</style>\n",
       "<table border=\"1\" class=\"dataframe\">\n",
       "  <thead>\n",
       "    <tr style=\"text-align: right;\">\n",
       "      <th></th>\n",
       "      <th>user_name</th>\n",
       "      <th>counts</th>\n",
       "    </tr>\n",
       "  </thead>\n",
       "  <tbody>\n",
       "    <tr>\n",
       "      <th>0</th>\n",
       "      <td>beyondbacktesting</td>\n",
       "      <td>95</td>\n",
       "    </tr>\n",
       "    <tr>\n",
       "      <th>1</th>\n",
       "      <td>richard geldreich</td>\n",
       "      <td>91</td>\n",
       "    </tr>\n",
       "    <tr>\n",
       "      <th>2</th>\n",
       "      <td>chatgpt</td>\n",
       "      <td>81</td>\n",
       "    </tr>\n",
       "    <tr>\n",
       "      <th>3</th>\n",
       "      <td>richard kim</td>\n",
       "      <td>78</td>\n",
       "    </tr>\n",
       "    <tr>\n",
       "      <th>4</th>\n",
       "      <td>datachazgpt not bot</td>\n",
       "      <td>63</td>\n",
       "    </tr>\n",
       "  </tbody>\n",
       "</table>\n",
       "</div>"
      ],
      "text/plain": [
       "             user_name  counts\n",
       "0    beyondbacktesting      95\n",
       "1    richard geldreich      91\n",
       "2              chatgpt      81\n",
       "3          richard kim      78\n",
       "4  datachazgpt not bot      63"
      ]
     },
     "execution_count": 86,
     "metadata": {},
     "output_type": "execute_result"
    }
   ],
   "source": [
    "# count how many tweets per users\n",
    "\n",
    "temp= result.groupby('user_name').size().sort_values(ascending=False).reset_index(name='counts')\n",
    "temp.loc[temp.counts > 60]"
   ]
  },
  {
   "cell_type": "code",
   "execution_count": 90,
   "metadata": {},
   "outputs": [
    {
     "data": {
      "text/plain": [
       "28532"
      ]
     },
     "execution_count": 90,
     "metadata": {},
     "output_type": "execute_result"
    }
   ],
   "source": [
    "len(result)"
   ]
  },
  {
   "cell_type": "code",
   "execution_count": 93,
   "metadata": {},
   "outputs": [],
   "source": [
    "# from result remove users present in temp\n",
    "\n",
    "res_temp = result[result.user_name != 'beyondbacktesting']\n",
    "res_temp = res_temp[res_temp.user_name != 'richard geldreich']\n",
    "res_temp = res_temp[res_temp.user_name != 'chatgpt']\n",
    "res_temp = res_temp[res_temp.user_name != 'richard kim']\n",
    "res_temp = res_temp[res_temp.user_name != 'datachazgpt not bot']\n",
    "\n"
   ]
  },
  {
   "cell_type": "code",
   "execution_count": 94,
   "metadata": {},
   "outputs": [
    {
     "data": {
      "text/plain": [
       "28124"
      ]
     },
     "execution_count": 94,
     "metadata": {},
     "output_type": "execute_result"
    }
   ],
   "source": [
    "len(res_temp)"
   ]
  },
  {
   "cell_type": "code",
   "execution_count": 95,
   "metadata": {},
   "outputs": [],
   "source": [
    "# save in csv\n",
    "\n",
    "res_temp.to_csv('/Users/barbararuvolo/Desktop/EPFL/Digital Musicology/computational-social-media/datasets/sentiment_fixed_first.csv', index=False)"
   ]
  },
  {
   "attachments": {},
   "cell_type": "markdown",
   "metadata": {},
   "source": []
  }
 ],
 "metadata": {
  "kernelspec": {
   "display_name": "ComputationalSM",
   "language": "python",
   "name": "python3"
  },
  "language_info": {
   "codemirror_mode": {
    "name": "ipython",
    "version": 3
   },
   "file_extension": ".py",
   "mimetype": "text/x-python",
   "name": "python",
   "nbconvert_exporter": "python",
   "pygments_lexer": "ipython3",
   "version": "3.10.11"
  },
  "orig_nbformat": 4
 },
 "nbformat": 4,
 "nbformat_minor": 2
}
