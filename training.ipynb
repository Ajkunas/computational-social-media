{
 "cells": [
  {
   "cell_type": "code",
   "execution_count": null,
   "id": "d8c2eb35",
   "metadata": {},
   "outputs": [],
   "source": [
    "import numpy as np\n",
    "import pandas as pd\n",
    "from keras.utils import to_categorical\n",
    "from sklearn.model_selection import train_test_split"
   ]
  },
  {
   "cell_type": "code",
   "execution_count": null,
   "id": "6e976f24",
   "metadata": {},
   "outputs": [],
   "source": [
    "!pip install pad_sequences"
   ]
  },
  {
   "cell_type": "code",
   "execution_count": null,
   "id": "5ecd92e7",
   "metadata": {},
   "outputs": [],
   "source": [
    "df = pd.read_csv('datasets/preprocessed_sentiment.csv', usecols=['tweets','labels'])"
   ]
  },
  {
   "cell_type": "code",
   "execution_count": null,
   "id": "0951df51",
   "metadata": {},
   "outputs": [],
   "source": [
    "# check if there is any NaN value\n",
    "\n",
    "df.tweets.isnull().values.any()\n",
    "df.tweets.isnull().sum()"
   ]
  },
  {
   "cell_type": "code",
   "execution_count": null,
   "id": "26240d50",
   "metadata": {},
   "outputs": [],
   "source": [
    "# drop the NaN values if any\n",
    "\n",
    "df = df.dropna()\n",
    "df.labels.value_counts() "
   ]
  },
  {
   "cell_type": "markdown",
   "id": "b6fbe724",
   "metadata": {},
   "source": [
    "### CNN with Keras embedding"
   ]
  },
  {
   "cell_type": "code",
   "execution_count": null,
   "id": "b7d8e9d2",
   "metadata": {},
   "outputs": [],
   "source": [
    "df.tweets = df.tweets.map(lambda x:str(x))"
   ]
  },
  {
   "cell_type": "code",
   "execution_count": null,
   "id": "668264f2",
   "metadata": {},
   "outputs": [],
   "source": [
    "x_train, xtest, y_train, ytest = train_test_split(df.tweets.values, df.labels.values,stratify=df.labels.values, test_size=0.3,random_state=1)\n",
    "y_train = to_categorical(y_train)"
   ]
  },
  {
   "cell_type": "code",
   "execution_count": null,
   "id": "a87a5054",
   "metadata": {},
   "outputs": [],
   "source": [
    " xtest.size"
   ]
  },
  {
   "cell_type": "code",
   "execution_count": null,
   "id": "47120218",
   "metadata": {},
   "outputs": [],
   "source": [
    " xtest.size*0.3"
   ]
  },
  {
   "cell_type": "code",
   "execution_count": null,
   "id": "8da5bf87",
   "metadata": {},
   "outputs": [],
   "source": [
    "x_val = xtest[0:14885]\n",
    "y_val = to_categorical(ytest[0:14885])\n",
    "x_test = xtest[14885:]\n",
    "y_test = ytest[14885:]"
   ]
  },
  {
   "cell_type": "code",
   "execution_count": null,
   "id": "b77bd53f",
   "metadata": {},
   "outputs": [],
   "source": [
    "def cnn_keras(activation,optimizer,epochs,batchsize):\n",
    "    embedding_dim = 100\n",
    "\n",
    "    model = Sequential()\n",
    "    model.add(layers.Embedding(input_dim=vocab_size, \n",
    "                          output_dim=embedding_dim,\n",
    "                          input_length=maxlen))\n",
    "\n",
    "    model.add(Conv1D(32, kernel_size=2, activation=activation))\n",
    "    model.add(layers.MaxPooling1D(2))\n",
    "    model.add(Conv1D(32, kernel_size=2, activation=activation))\n",
    "    model.add(Dropout(0.25))\n",
    "    model.add(Conv1D(16, kernel_size=2, activation=activation))\n",
    "    model.add(layers.MaxPooling1D(2))\n",
    "    model.add(Conv1D(16, kernel_size=2, activation=activation))\n",
    "    model.add(Dropout(0.25))\n",
    "\n",
    "    model.add(Flatten())\n",
    "\n",
    "    model.add(Dense(64, activation='tanh'))\n",
    "    model.add(Dropout(0.5))\n",
    "\n",
    "    model.add(Dense(3, activation='softmax'))\n",
    "    model.compile(optimizer=optimizer,\n",
    "                loss='categorical_crossentropy',\n",
    "                metrics=['accuracy'])\n",
    "    \n",
    "    history = model.fit(X_train, y_train,\n",
    "                    epochs=epochs,\n",
    "                    verbose=0,\n",
    "                    validation_data=(X_val, y_val),\n",
    "                    batch_size=batchsize)\n",
    "\n",
    "    return history, model"
   ]
  },
  {
   "cell_type": "code",
   "execution_count": null,
   "id": "1c7a121d",
   "metadata": {},
   "outputs": [],
   "source": [
    "# Best model selection\n",
    "sel_activation_final = \"elu\"\n",
    "sel_optimizer_final = \"adam\"\n",
    "sel_epoch_final = 10\n",
    "sel_batch_final = 16\n",
    "\n",
    "history, model = cnn_keras(sel_activation_final,sel_optimizer_final,sel_epoch_final,sel_batch_final)\n",
    "pred = np.argmax(model.predict(X_test), axis=-1)\n",
    "print(\"test accuracy score = \",accuracy_score(y_pred=pred, y_true=y_test))\n",
    "print(\"test f1 score = \",f1_score(y_pred=pred, y_true=y_test, average=\"weighted\"))"
   ]
  },
  {
   "cell_type": "code",
   "execution_count": null,
   "id": "52f0d4e8",
   "metadata": {},
   "outputs": [],
   "source": [
    "model.save('/content/drive/MyDrive/computational-social-media/cnnkeras.h5')"
   ]
  }
 ],
 "metadata": {
  "kernelspec": {
   "display_name": "Python 3 (ipykernel)",
   "language": "python",
   "name": "python3"
  },
  "language_info": {
   "codemirror_mode": {
    "name": "ipython",
    "version": 3
   },
   "file_extension": ".py",
   "mimetype": "text/x-python",
   "name": "python",
   "nbconvert_exporter": "python",
   "pygments_lexer": "ipython3",
   "version": "3.9.13"
  }
 },
 "nbformat": 4,
 "nbformat_minor": 5
}
