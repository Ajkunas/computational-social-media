{
 "cells": [
  {
   "cell_type": "markdown",
   "id": "d34062d6",
   "metadata": {},
   "source": [
    "# Analysis of the dataset "
   ]
  },
  {
   "cell_type": "code",
   "execution_count": 1,
   "id": "a60c784c",
   "metadata": {},
   "outputs": [],
   "source": [
    "# we need to pick up one dataset \n",
    "# if we focus on the royal family drama : \n",
    "#     Kaggle : after Elizabeths death: https://www.kaggle.com/datasets/aneeshtickoo/tweets-after-queen-elizabeth-iis-death\n",
    "#              befor Elizabeths death: https://www.kaggle.com/datasets/soohuilee/meghan-markle-tweets\n",
    "# Other idea: sentiment analysis of the emerging of IA with extracting tweets about ChatGPT\n",
    "#     Kaggle : https://www.kaggle.com/datasets/konradb/chatgpt-the-tweets\n",
    "#              https://www.kaggle.com/datasets/charunisa/chatgpt-sentiment-analysis\n",
    "#              https://www.kaggle.com/datasets/pcminh0505/chatgpt-twitter (first month of launching)\n",
    "              "
   ]
  },
  {
   "cell_type": "markdown",
   "id": "3c00473a",
   "metadata": {},
   "source": [
    "### Research question: What is the impact of the emerging of AI on the population based on tweets \n",
    "#### Analysis: Sentiment Analysis through NLP, focus on ChatGPT\n",
    "- Categorize tweets: positive, negative, neutral \n",
    "- Frequency of words used, what type of words\n",
    "- Evolution of the sentiment analysis: from the beginning of the release of ChatGPT until recently \n",
    "- Fequency of tweets made about AI (mean of tweets per person) \n",
    "- Try to work with threads (to be continued...)\n",
    "- Categorize tweets to workers, students, reasearchers (professors) and see if the sentiment analysis is different for these categories \n"
   ]
  },
  {
   "cell_type": "markdown",
   "id": "ace5f601",
   "metadata": {},
   "source": [
    "## Sentiment Analysis\n",
    "### Some references \n",
    "- https://www.analyticsvidhya.com/blog/2021/06/twitter-sentiment-analysis-a-nlp-use-case-for-beginners/\n",
    "- https://huggingface.co/blog/sentiment-analysis-twitter"
   ]
  },
  {
   "cell_type": "code",
   "execution_count": null,
   "id": "8ccd7b24",
   "metadata": {},
   "outputs": [],
   "source": []
  }
 ],
 "metadata": {
  "kernelspec": {
   "display_name": "Python 3 (ipykernel)",
   "language": "python",
   "name": "python3"
  },
  "language_info": {
   "codemirror_mode": {
    "name": "ipython",
    "version": 3
   },
   "file_extension": ".py",
   "mimetype": "text/x-python",
   "name": "python",
   "nbconvert_exporter": "python",
   "pygments_lexer": "ipython3",
   "version": "3.9.13"
  }
 },
 "nbformat": 4,
 "nbformat_minor": 5
}
