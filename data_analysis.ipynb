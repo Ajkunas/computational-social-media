{
 "cells": [
  {
   "cell_type": "markdown",
   "id": "d34062d6",
   "metadata": {},
   "source": [
    "# Analysis of the dataset "
   ]
  },
  {
   "cell_type": "code",
   "execution_count": 1,
   "id": "a60c784c",
   "metadata": {},
   "outputs": [],
   "source": [
    "# we need to pick up one dataset \n",
    "# if we focus on the royal family drama : \n",
    "#     Kaggle : after Elizabeths death: https://www.kaggle.com/datasets/aneeshtickoo/tweets-after-queen-elizabeth-iis-death\n",
    "#              befor Elizabeths death: https://www.kaggle.com/datasets/soohuilee/meghan-markle-tweets\n",
    "# Other idea: sentiment analysis of the emerging of IA with extracting tweets about ChatGPT\n",
    "#     Kaggle : https://www.kaggle.com/datasets/konradb/chatgpt-the-tweets\n",
    "#              https://www.kaggle.com/datasets/charunisa/chatgpt-sentiment-analysis\n",
    "#              https://www.kaggle.com/datasets/pcminh0505/chatgpt-twitter (first month of launching)\n",
    "              "
   ]
  },
  {
   "cell_type": "markdown",
   "id": "3c00473a",
   "metadata": {},
   "source": [
    "### Research question: What is the impact of the emerging of AI on the population based on tweets \n",
    "#### Analysis: Sentiment Analysis through NLP, focus on ChatGPT\n",
    "- Categorize tweets: positive, negative, neutral \n",
    "- Frequency of words used, what type of words\n",
    "- Evolution of the sentiment analysis: from the beginning of the release of ChatGPT until recently \n",
    "- Fequency of tweets made about AI (mean of tweets per person) \n",
    "- Try to work with threads (to be continued...)\n",
    "- Categorize tweets to workers, students, reasearchers (professors) and see if the sentiment analysis is different for these categories \n"
   ]
  },
  {
   "cell_type": "markdown",
   "id": "ace5f601",
   "metadata": {},
   "source": [
    "## Sentiment Analysis\n",
    "### Some references \n",
    "- https://www.analyticsvidhya.com/blog/2021/06/twitter-sentiment-analysis-a-nlp-use-case-for-beginners/\n",
    "- https://huggingface.co/blog/sentiment-analysis-twitter"
   ]
  },
  {
   "cell_type": "markdown",
   "id": "a50a98b0",
   "metadata": {},
   "source": [
    "## Twitter API - tweets on ChatGPT\n"
   ]
  },
  {
   "cell_type": "code",
   "execution_count": 1,
   "id": "fa96c218",
   "metadata": {},
   "outputs": [
    {
     "name": "stdout",
     "output_type": "stream",
     "text": [
      "Requirement already satisfied: twitter in /Users/barbararuvolo/opt/anaconda3/lib/python3.9/site-packages (1.19.6)\r\n",
      "Requirement already satisfied: certifi in /Users/barbararuvolo/opt/anaconda3/lib/python3.9/site-packages (from twitter) (2021.10.8)\r\n"
     ]
    }
   ],
   "source": [
    "!pip install twitter"
   ]
  },
  {
   "cell_type": "code",
   "execution_count": 5,
   "id": "d271bd41",
   "metadata": {},
   "outputs": [
    {
     "name": "stdout",
     "output_type": "stream",
     "text": [
      "Collecting twitter\n",
      "  Using cached twitter-1.19.6-py2.py3-none-any.whl (50 kB)\n",
      "Requirement already satisfied: certifi in /Library/Frameworks/Python.framework/Versions/3.9/lib/python3.9/site-packages (from twitter) (2022.9.24)\n",
      "Installing collected packages: twitter\n",
      "\u001b[33m  WARNING: The scripts twitter, twitter-archiver, twitter-follow, twitter-log, twitter-stream-example and twitterbot are installed in '/Users/barbararuvolo/Library/Python/3.9/bin' which is not on PATH.\n",
      "  Consider adding this directory to PATH or, if you prefer to suppress this warning, use --no-warn-script-location.\n",
      "  NOTE: The current PATH contains path(s) starting with `~`, which may not be expanded by all applications.\u001b[0m\u001b[33m\n",
      "\u001b[0mSuccessfully installed twitter-1.19.6\n",
      "\u001b[33mWARNING: You are using pip version 22.0.4; however, version 23.0.1 is available.\n",
      "You should consider upgrading via the '/Library/Frameworks/Python.framework/Versions/3.9/bin/python3.9 -m pip install --upgrade pip' command.\u001b[0m\u001b[33m\n",
      "\u001b[0m"
     ]
    }
   ],
   "source": [
    "import sys\n",
    "!{sys.executable} -m pip install --user twitter"
   ]
  },
  {
   "cell_type": "code",
   "execution_count": 7,
   "id": "fd4095be",
   "metadata": {},
   "outputs": [
    {
     "ename": "ModuleNotFoundError",
     "evalue": "No module named 'twitter'",
     "output_type": "error",
     "traceback": [
      "\u001b[0;31m---------------------------------------------------------------------------\u001b[0m",
      "\u001b[0;31mModuleNotFoundError\u001b[0m                       Traceback (most recent call last)",
      "Cell \u001b[0;32mIn [7], line 5\u001b[0m\n\u001b[1;32m      1\u001b[0m \u001b[38;5;28;01mfrom\u001b[39;00m \u001b[38;5;21;01m__future__\u001b[39;00m \u001b[38;5;28;01mimport\u001b[39;00m unicode_literals\n\u001b[1;32m      2\u001b[0m \u001b[38;5;66;03m# https://github.com/sixohsix/twitter/tree/master\u001b[39;00m\n\u001b[1;32m      3\u001b[0m \u001b[38;5;66;03m# Python Twitter Tool (Version 1.18.0)\u001b[39;00m\n\u001b[1;32m      4\u001b[0m \u001b[38;5;66;03m#from twitter import *\u001b[39;00m\n\u001b[0;32m----> 5\u001b[0m \u001b[38;5;28;01mimport\u001b[39;00m \u001b[38;5;21;01mtwitter\u001b[39;00m\n\u001b[1;32m      6\u001b[0m \u001b[38;5;28;01mfrom\u001b[39;00m \u001b[38;5;21;01mtwitter\u001b[39;00m\u001b[38;5;21;01m.\u001b[39;00m\u001b[38;5;21;01mstream\u001b[39;00m \u001b[38;5;28;01mimport\u001b[39;00m TwitterStream, Timeout, HeartbeatTimeout, Hangup\n\u001b[1;32m      7\u001b[0m \u001b[38;5;28;01mimport\u001b[39;00m \u001b[38;5;21;01mtime\u001b[39;00m\n",
      "\u001b[0;31mModuleNotFoundError\u001b[0m: No module named 'twitter'"
     ]
    }
   ],
   "source": [
    "from __future__ import unicode_literals\n",
    "# https://github.com/sixohsix/twitter/tree/master\n",
    "# Python Twitter Tool (Version 1.18.0)\n",
    "#from twitter import *\n",
    "import twitter\n",
    "from twitter.stream import TwitterStream, Timeout, HeartbeatTimeout, Hangup\n",
    "import time\n",
    "\n",
    "# Replace with your own key/secret\n",
    "consumer_key = '9KDqLEI8h7DlYhUbwO7hPCRLx'\n",
    "consumer_secret = 'pHpewXVNEuPfu90pIPWbkq7eguwLHkcE7sx6f87vneRY5aZIeo'\n",
    "resource_owner_key = '1347079628410802176-BvXCNBJ1iFEOGer6UVDjP4ikyKJPDU'\n",
    "resource_owner_secret = 'gnxrAWVdjqe9JrkqnFilRRC3YUjOB9oPAAjUGALedUTLp'\n",
    "\n",
    "\n",
    "if __name__ == '__main__':\n",
    "    while True:\n",
    "        try:\n",
    "            # When using twitter stream you must authorize.\n",
    "            auth = OAuth(\n",
    "                consumer_key=consumer_key,\n",
    "                consumer_secret=consumer_secret,\n",
    "                token=resource_owner_key,\n",
    "                token_secret=resource_owner_secret\n",
    "            )\n",
    "            # Set location bounding box\n",
    "            query_args = {'track': 'chatGPT,gpt4,gpt-4,AI', 'stall_warnings':True}\n",
    "            # Start authorization and filtering tweets\n",
    "            stream = TwitterStream(auth=auth)\n",
    "            tweet_iter = stream.statuses.filter(**query_args)\n",
    "\n",
    "            # Iterate over the sample stream.\n",
    "            for tweet in tweet_iter:\n",
    "                # We should check the type of tweet.\n",
    "                # It might be  a delete or data message.\n",
    "                if tweet is None:\n",
    "                    print(\"-- None --\")\n",
    "                elif tweet is Timeout:\n",
    "                    print(\"-- Timeout --\")\n",
    "                elif tweet is HeartbeatTimeout:\n",
    "                    print(\"-- Heartbeat Timeout --\")\n",
    "                elif tweet is Hangup:\n",
    "                    print(\"-- Hangup --\")\n",
    "                else:\n",
    "                    print(tweet)\n",
    "        except Exception as e:\n",
    "            print('error (Follow): ' + str(e))\n",
    "            time.sleep(15)\n"
   ]
  },
  {
   "cell_type": "code",
   "execution_count": null,
   "id": "39e1610e",
   "metadata": {},
   "outputs": [],
   "source": []
  }
 ],
 "metadata": {
  "kernelspec": {
   "display_name": "Python 3 (ipykernel)",
   "language": "python",
   "name": "python3"
  },
  "language_info": {
   "codemirror_mode": {
    "name": "ipython",
    "version": 3
   },
   "file_extension": ".py",
   "mimetype": "text/x-python",
   "name": "python",
   "nbconvert_exporter": "python",
   "pygments_lexer": "ipython3",
   "version": "3.9.13"
  }
 },
 "nbformat": 4,
 "nbformat_minor": 5
}
