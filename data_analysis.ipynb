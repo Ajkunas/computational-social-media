{
 "cells": [
  {
   "cell_type": "markdown",
   "id": "d34062d6",
   "metadata": {},
   "source": [
    "# Analysis of the dataset "
   ]
  },
  {
   "cell_type": "code",
   "execution_count": null,
   "id": "a60c784c",
   "metadata": {},
   "outputs": [],
   "source": [
    "# we need to pick up one dataset \n",
    "# if we focus on the royal family drama : \n",
    "#     Kaggle : after Elizabeths death: https://www.kaggle.com/datasets/aneeshtickoo/tweets-after-queen-elizabeth-iis-death\n",
    "#              befor Elizabeths death: https://www.kaggle.com/datasets/soohuilee/meghan-markle-tweets\n",
    "# Other idea: sentiment analysis of the emerging of IA with extracting tweets about ChatGPT\n",
    "#     Kaggle : https://www.kaggle.com/datasets/konradb/chatgpt-the-tweets\n",
    "#              https://www.kaggle.com/datasets/charunisa/chatgpt-sentiment-analysis\n",
    "#              https://www.kaggle.com/datasets/pcminh0505/chatgpt-twitter (first month of launching)\n",
    "              "
   ]
  },
  {
   "cell_type": "code",
   "execution_count": null,
   "id": "9c327114",
   "metadata": {},
   "outputs": [],
   "source": []
  }
 ],
 "metadata": {
  "kernelspec": {
   "display_name": "Python 3 (ipykernel)",
   "language": "python",
   "name": "python3"
  },
  "language_info": {
   "codemirror_mode": {
    "name": "ipython",
    "version": 3
   },
   "file_extension": ".py",
   "mimetype": "text/x-python",
   "name": "python",
   "nbconvert_exporter": "python",
   "pygments_lexer": "ipython3",
   "version": "3.9.13"
  }
 },
 "nbformat": 4,
 "nbformat_minor": 5
}
