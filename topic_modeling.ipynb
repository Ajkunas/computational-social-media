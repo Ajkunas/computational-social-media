{
 "cells": [
  {
   "cell_type": "code",
   "execution_count": 4,
   "id": "2cf5d810",
   "metadata": {
    "executionInfo": {
     "elapsed": 2,
     "status": "ok",
     "timestamp": 1685800619954,
     "user": {
      "displayName": "Lisa Seipi",
      "userId": "08554065220125885431"
     },
     "user_tz": -120
    },
    "id": "2cf5d810"
   },
   "outputs": [],
   "source": [
    "import numpy as np\n",
    "import pandas as pd"
   ]
  },
  {
   "cell_type": "code",
   "execution_count": 5,
   "id": "c22bbff1",
   "metadata": {
    "executionInfo": {
     "elapsed": 2572,
     "status": "ok",
     "timestamp": 1685800628643,
     "user": {
      "displayName": "Lisa Seipi",
      "userId": "08554065220125885431"
     },
     "user_tz": -120
    },
    "id": "c22bbff1"
   },
   "outputs": [],
   "source": [
    "df = pd.read_csv('datasets/sentiment_chatgpt.csv', usecols=['user_name', 'user_description','tweets','label', 'date'])"
   ]
  },
  {
   "cell_type": "code",
   "execution_count": 6,
   "id": "586af034",
   "metadata": {
    "colab": {
     "base_uri": "https://localhost:8080/"
    },
    "executionInfo": {
     "elapsed": 830,
     "status": "ok",
     "timestamp": 1685800631624,
     "user": {
      "displayName": "Lisa Seipi",
      "userId": "08554065220125885431"
     },
     "user_tz": -120
    },
    "id": "586af034",
    "outputId": "b0122d23-4529-473c-8a51-3e32118db9dd",
    "scrolled": true
   },
   "outputs": [
    {
     "data": {
      "text/plain": [
       "user_name           0\n",
       "user_description    0\n",
       "tweets              0\n",
       "label               0\n",
       "date                0\n",
       "dtype: int64"
      ]
     },
     "execution_count": 6,
     "metadata": {},
     "output_type": "execute_result"
    }
   ],
   "source": [
    "df.isnull().values.any()\n",
    "df.isnull().sum()"
   ]
  },
  {
   "cell_type": "code",
   "execution_count": 7,
   "id": "02f578b2",
   "metadata": {
    "executionInfo": {
     "elapsed": 300,
     "status": "ok",
     "timestamp": 1685800633384,
     "user": {
      "displayName": "Lisa Seipi",
      "userId": "08554065220125885431"
     },
     "user_tz": -120
    },
    "id": "02f578b2"
   },
   "outputs": [],
   "source": [
    "df = df.sort_values(by='date')"
   ]
  },
  {
   "cell_type": "code",
   "execution_count": 8,
   "id": "7effde8a",
   "metadata": {
    "executionInfo": {
     "elapsed": 290,
     "status": "ok",
     "timestamp": 1685800634869,
     "user": {
      "displayName": "Lisa Seipi",
      "userId": "08554065220125885431"
     },
     "user_tz": -120
    },
    "id": "7effde8a"
   },
   "outputs": [],
   "source": [
    "df.date = pd.to_datetime(df.date)"
   ]
  },
  {
   "cell_type": "code",
   "execution_count": 9,
   "id": "97adcfd1",
   "metadata": {
    "executionInfo": {
     "elapsed": 226,
     "status": "ok",
     "timestamp": 1685800636923,
     "user": {
      "displayName": "Lisa Seipi",
      "userId": "08554065220125885431"
     },
     "user_tz": -120
    },
    "id": "97adcfd1"
   },
   "outputs": [],
   "source": [
    "first = df[df.date.dt.month == 12] # first month"
   ]
  },
  {
   "cell_type": "code",
   "execution_count": 10,
   "id": "b3d4e199",
   "metadata": {
    "executionInfo": {
     "elapsed": 4,
     "status": "ok",
     "timestamp": 1685800637133,
     "user": {
      "displayName": "Lisa Seipi",
      "userId": "08554065220125885431"
     },
     "user_tz": -120
    },
    "id": "b3d4e199"
   },
   "outputs": [],
   "source": [
    "last = df[(df.date.dt.month == 4) ] # last month (april)"
   ]
  },
  {
   "cell_type": "code",
   "execution_count": 11,
   "id": "d9329d0b",
   "metadata": {
    "executionInfo": {
     "elapsed": 228,
     "status": "ok",
     "timestamp": 1685800638728,
     "user": {
      "displayName": "Lisa Seipi",
      "userId": "08554065220125885431"
     },
     "user_tz": -120
    },
    "id": "d9329d0b"
   },
   "outputs": [],
   "source": [
    "positive = first[first.label == 'positive']\n",
    "negative = first[first.label == 'negative']"
   ]
  },
  {
   "cell_type": "markdown",
   "id": "4a47e550",
   "metadata": {
    "id": "4a47e550"
   },
   "source": [
    "## Topic extraction"
   ]
  },
  {
   "cell_type": "code",
   "execution_count": 15,
   "id": "a483e592",
   "metadata": {
    "colab": {
     "base_uri": "https://localhost:8080/"
    },
    "executionInfo": {
     "elapsed": 12200,
     "status": "ok",
     "timestamp": 1685800696511,
     "user": {
      "displayName": "Lisa Seipi",
      "userId": "08554065220125885431"
     },
     "user_tz": -120
    },
    "id": "a483e592",
    "outputId": "c1e4f936-f600-43ea-e272-5ed088645152"
   },
   "outputs": [
    {
     "name": "stdout",
     "output_type": "stream",
     "text": [
      "Looking in indexes: https://pypi.org/simple, https://us-python.pkg.dev/colab-wheels/public/simple/\n",
      "Collecting transformers\n",
      "  Downloading transformers-4.29.2-py3-none-any.whl (7.1 MB)\n",
      "\u001b[2K     \u001b[90m━━━━━━━━━━━━━━━━━━━━━━━━━━━━━━━━━━━━━━━━\u001b[0m \u001b[32m7.1/7.1 MB\u001b[0m \u001b[31m56.3 MB/s\u001b[0m eta \u001b[36m0:00:00\u001b[0m\n",
      "\u001b[?25hRequirement already satisfied: filelock in /usr/local/lib/python3.10/dist-packages (from transformers) (3.12.0)\n",
      "Collecting huggingface-hub<1.0,>=0.14.1 (from transformers)\n",
      "  Downloading huggingface_hub-0.15.1-py3-none-any.whl (236 kB)\n",
      "\u001b[2K     \u001b[90m━━━━━━━━━━━━━━━━━━━━━━━━━━━━━━━━━━━━━━\u001b[0m \u001b[32m236.8/236.8 kB\u001b[0m \u001b[31m28.4 MB/s\u001b[0m eta \u001b[36m0:00:00\u001b[0m\n",
      "\u001b[?25hRequirement already satisfied: numpy>=1.17 in /usr/local/lib/python3.10/dist-packages (from transformers) (1.22.4)\n",
      "Requirement already satisfied: packaging>=20.0 in /usr/local/lib/python3.10/dist-packages (from transformers) (23.1)\n",
      "Requirement already satisfied: pyyaml>=5.1 in /usr/local/lib/python3.10/dist-packages (from transformers) (6.0)\n",
      "Requirement already satisfied: regex!=2019.12.17 in /usr/local/lib/python3.10/dist-packages (from transformers) (2022.10.31)\n",
      "Requirement already satisfied: requests in /usr/local/lib/python3.10/dist-packages (from transformers) (2.27.1)\n",
      "Collecting tokenizers!=0.11.3,<0.14,>=0.11.1 (from transformers)\n",
      "  Downloading tokenizers-0.13.3-cp310-cp310-manylinux_2_17_x86_64.manylinux2014_x86_64.whl (7.8 MB)\n",
      "\u001b[2K     \u001b[90m━━━━━━━━━━━━━━━━━━━━━━━━━━━━━━━━━━━━━━━━\u001b[0m \u001b[32m7.8/7.8 MB\u001b[0m \u001b[31m119.9 MB/s\u001b[0m eta \u001b[36m0:00:00\u001b[0m\n",
      "\u001b[?25hRequirement already satisfied: tqdm>=4.27 in /usr/local/lib/python3.10/dist-packages (from transformers) (4.65.0)\n",
      "Requirement already satisfied: fsspec in /usr/local/lib/python3.10/dist-packages (from huggingface-hub<1.0,>=0.14.1->transformers) (2023.4.0)\n",
      "Requirement already satisfied: typing-extensions>=3.7.4.3 in /usr/local/lib/python3.10/dist-packages (from huggingface-hub<1.0,>=0.14.1->transformers) (4.5.0)\n",
      "Requirement already satisfied: urllib3<1.27,>=1.21.1 in /usr/local/lib/python3.10/dist-packages (from requests->transformers) (1.26.15)\n",
      "Requirement already satisfied: certifi>=2017.4.17 in /usr/local/lib/python3.10/dist-packages (from requests->transformers) (2022.12.7)\n",
      "Requirement already satisfied: charset-normalizer~=2.0.0 in /usr/local/lib/python3.10/dist-packages (from requests->transformers) (2.0.12)\n",
      "Requirement already satisfied: idna<4,>=2.5 in /usr/local/lib/python3.10/dist-packages (from requests->transformers) (3.4)\n",
      "Installing collected packages: tokenizers, huggingface-hub, transformers\n",
      "Successfully installed huggingface-hub-0.15.1 tokenizers-0.13.3 transformers-4.29.2\n"
     ]
    }
   ],
   "source": [
    "!pip install transformers"
   ]
  },
  {
   "cell_type": "code",
   "execution_count": 16,
   "id": "8bd7a37a",
   "metadata": {
    "colab": {
     "base_uri": "https://localhost:8080/",
     "height": 241,
     "referenced_widgets": [
      "ceb4fa2559724b4596a04708571cabb6",
      "abbff6429f1b473885dbc56944fe6f18",
      "344f14e96ef34e9b878f4c64cf0e34e4",
      "39064d1294ec462696dca68ecde56232",
      "9ee34147f34b4947a6c663575a3b18c7",
      "0ae36abd40944afb8752a306608f2410",
      "f92f69d22def4cd681728c5917fc4db5",
      "dc6db64c05634fb889702c4b4d0100b0",
      "9700a61e380342569855d2cad20b5b48",
      "f4b620d8321043d1ac283be09984b0d8",
      "62f44fcd21fa412889552074daba37de",
      "7b97a2d5335f429c85c381fdcd4fdf24",
      "bde767489bf841e39a9fcc7a56f2658f",
      "2d4796f1cea84a488db13b6a382c962a",
      "07512e9016fa441797c9ba7d35ecabdf",
      "82516f69bc3d401b8801de5f5dd196e1",
      "d914af41d7cb45cda45ddfb665e13b7d",
      "0c961d8efe0240a1ae400b99ed994d59",
      "06f740764e144c99a5fe158c176496e9",
      "fe5d14c010044283a04ef2cff47244cf",
      "179318111a5d4d0191d47479d1c027f0",
      "18af1682f2df4f768b58e744f2dbc27c",
      "c8556566d20a4cf8804429aea7fe963a",
      "4be304599deb47b2b4f263fda8b86682",
      "18b15df8474444e7aeadf867ea815bbc",
      "75598569c20f44f48a451e5466e37db0",
      "5865b69c8e0f409eb5c36847a2a9171c",
      "618c0c8b00244b799c99e86617e4cb92",
      "b17ac0561a954e8f998e7db6f92b2950",
      "acf1f458108f4416abd3a10f063cd39c",
      "292642657aa34d1a9da2ac5834646de6",
      "e432396b8356485299845c8ff4782a39",
      "abb3256e475b492d8310b7a4925d1943",
      "3ab8e7e516cf43bea087257937855049",
      "a68ea52eba4940628d1e6086cbd95729",
      "9530b43b52e6420192f837d8e7de0ae1",
      "c19b13d5c54f4773b6e7a7c4ecf1eda3",
      "09aea806064a44ba87e9c8aea83b72d3",
      "4a1507148ffb4e858437ee92eacb1d3a",
      "524ea0e67f554587a1bb6046538dffa3",
      "e1d34b0652714f84b1b3e207d9440032",
      "1d0a042f8af740bf8bf666bef3a309ad",
      "6f28c30d2d2a4d92ae1a8486f37be874",
      "17d502304ff44493b799bfaada4291ad",
      "44a9c639ce03455aac66c98cda528e4a",
      "4deb2a317c684aa4bd5932d5e697ddca",
      "8281b2abbb7445668b308bfaa9b06d5b",
      "25cbfa123c484ae7b689060394126960",
      "d49c586d8b09455191e9b88c4e40ff84",
      "4127bed22bd04a5396e5c311be26c026",
      "272d15fd23314b2c8a5118016ac67e47",
      "240b50b0bd3a4caaa51f577993b883d9",
      "bb4f57dcc9cb49acbd8456a69ce64356",
      "cb43b8416cb14248a0817590fe0a89f8",
      "099781bc5d07424dbc462e9d8869c8d9",
      "085074a1ade54cc787828a59afb7c7ea",
      "1fa7ade0bf1f4376adc9e1c3227242eb",
      "f9893deb8c094180aaad70a6085e05f5",
      "2aeaea772e37443c9e1f6b89f0430654",
      "86907dd5d916415385a320fbed4480c4",
      "0e7df65ae1b74f6ba490d19075efbea5",
      "b8e8a17f6c6b4a8b90edd81a3239765a",
      "479415bfbf6f4071b9a49b5c11490369",
      "22cbde4d1c8f4136ab0b1421723e6465",
      "9673a84616984cf9936bc312b7679c81",
      "89339560ecb54f0cb9af1549fa563d77",
      "54ba35a42ce241ef8c9a3919e4487e31",
      "d1f6101771884c9eae772bb6cc501878",
      "4fbdd9bd6af54fadb0845c7ef2173728",
      "7853f73b0fbe4823a7efd5ceeef891de",
      "c197b87159c2479e8d4619b86a4976b8",
      "303673fc6a1040878a170a9fd4744443",
      "810d4bebf5ec46308ca50308b9202730",
      "0e1d06970864441e8c2dbcbf69f0aaad",
      "8afb972f58e041a782bb4cd79860fc03",
      "2576ec2847d244748a28d28416fe9ac9",
      "43bf4b9ce85444b7871ca85c9dbbeb4b"
     ]
    },
    "executionInfo": {
     "elapsed": 15474,
     "status": "ok",
     "timestamp": 1685800714559,
     "user": {
      "displayName": "Lisa Seipi",
      "userId": "08554065220125885431"
     },
     "user_tz": -120
    },
    "id": "8bd7a37a",
    "outputId": "5fa57e62-06e9-4cd1-9f53-49f4b367c699"
   },
   "outputs": [
    {
     "data": {
      "application/vnd.jupyter.widget-view+json": {
       "model_id": "ceb4fa2559724b4596a04708571cabb6",
       "version_major": 2,
       "version_minor": 0
      },
      "text/plain": [
       "Downloading (…)okenizer_config.json:   0%|          | 0.00/1.30k [00:00<?, ?B/s]"
      ]
     },
     "metadata": {},
     "output_type": "display_data"
    },
    {
     "data": {
      "application/vnd.jupyter.widget-view+json": {
       "model_id": "7b97a2d5335f429c85c381fdcd4fdf24",
       "version_major": 2,
       "version_minor": 0
      },
      "text/plain": [
       "Downloading (…)olve/main/vocab.json:   0%|          | 0.00/798k [00:00<?, ?B/s]"
      ]
     },
     "metadata": {},
     "output_type": "display_data"
    },
    {
     "data": {
      "application/vnd.jupyter.widget-view+json": {
       "model_id": "c8556566d20a4cf8804429aea7fe963a",
       "version_major": 2,
       "version_minor": 0
      },
      "text/plain": [
       "Downloading (…)olve/main/merges.txt:   0%|          | 0.00/456k [00:00<?, ?B/s]"
      ]
     },
     "metadata": {},
     "output_type": "display_data"
    },
    {
     "data": {
      "application/vnd.jupyter.widget-view+json": {
       "model_id": "3ab8e7e516cf43bea087257937855049",
       "version_major": 2,
       "version_minor": 0
      },
      "text/plain": [
       "Downloading (…)/main/tokenizer.json:   0%|          | 0.00/1.36M [00:00<?, ?B/s]"
      ]
     },
     "metadata": {},
     "output_type": "display_data"
    },
    {
     "data": {
      "application/vnd.jupyter.widget-view+json": {
       "model_id": "44a9c639ce03455aac66c98cda528e4a",
       "version_major": 2,
       "version_minor": 0
      },
      "text/plain": [
       "Downloading (…)cial_tokens_map.json:   0%|          | 0.00/239 [00:00<?, ?B/s]"
      ]
     },
     "metadata": {},
     "output_type": "display_data"
    },
    {
     "data": {
      "application/vnd.jupyter.widget-view+json": {
       "model_id": "085074a1ade54cc787828a59afb7c7ea",
       "version_major": 2,
       "version_minor": 0
      },
      "text/plain": [
       "Downloading (…)lve/main/config.json:   0%|          | 0.00/1.88k [00:00<?, ?B/s]"
      ]
     },
     "metadata": {},
     "output_type": "display_data"
    },
    {
     "data": {
      "application/vnd.jupyter.widget-view+json": {
       "model_id": "54ba35a42ce241ef8c9a3919e4487e31",
       "version_major": 2,
       "version_minor": 0
      },
      "text/plain": [
       "Downloading pytorch_model.bin:   0%|          | 0.00/499M [00:00<?, ?B/s]"
      ]
     },
     "metadata": {},
     "output_type": "display_data"
    }
   ],
   "source": [
    "from transformers import AutoModelForSequenceClassification, TFAutoModelForSequenceClassification\n",
    "from transformers import AutoTokenizer\n",
    "import numpy as np\n",
    "from scipy.special import expit\n",
    "\n",
    "    \n",
    "MODEL = f\"cardiffnlp/tweet-topic-21-multi\"\n",
    "tokenizer = AutoTokenizer.from_pretrained(MODEL)\n",
    "\n",
    "# PT\n",
    "model = AutoModelForSequenceClassification.from_pretrained(MODEL)\n",
    "class_mapping = model.config.id2label"
   ]
  },
  {
   "cell_type": "code",
   "execution_count": 17,
   "id": "157d4cdc",
   "metadata": {
    "executionInfo": {
     "elapsed": 234,
     "status": "ok",
     "timestamp": 1685800732684,
     "user": {
      "displayName": "Lisa Seipi",
      "userId": "08554065220125885431"
     },
     "user_tz": -120
    },
    "id": "157d4cdc"
   },
   "outputs": [],
   "source": [
    "# topic modelling \n",
    "\n",
    "def get_topic(text): \n",
    "    tokenized_inputs = []\n",
    "    for sentence in text:\n",
    "        tokens = tokenizer(sentence, return_tensors='pt')\n",
    "        tokenized_inputs.append(tokens)\n",
    "        \n",
    "    predictions = []\n",
    "    for tokens in tokenized_inputs:\n",
    "        output = model(**tokens)\n",
    "        scores = output.logits[0].detach().numpy()\n",
    "        scores = expit(scores)\n",
    "        sentence_predictions = (scores >= 0.5) * 1\n",
    "        predictions.append(sentence_predictions)\n",
    "        \n",
    "    classes = []\n",
    "    for sentence_predictions in predictions:\n",
    "        for i in range(len(sentence_predictions)):\n",
    "            if sentence_predictions[i]:\n",
    "                classes.append(class_mapping[i])\n",
    "                \n",
    "    return classes"
   ]
  },
  {
   "cell_type": "markdown",
   "id": "b01f32a4",
   "metadata": {
    "id": "b01f32a4"
   },
   "source": [
    "### First month"
   ]
  },
  {
   "cell_type": "code",
   "execution_count": null,
   "id": "4777eea8",
   "metadata": {
    "id": "4777eea8"
   },
   "outputs": [],
   "source": [
    "positive = first[first.label == 'positive']\n",
    "negative = first[first.label == 'negative']"
   ]
  },
  {
   "cell_type": "code",
   "execution_count": null,
   "id": "uda5Zwon8o9z",
   "metadata": {
    "colab": {
     "base_uri": "https://localhost:8080/"
    },
    "executionInfo": {
     "elapsed": 421,
     "status": "ok",
     "timestamp": 1685705959633,
     "user": {
      "displayName": "Lisa Seipi",
      "userId": "11620504456850814394"
     },
     "user_tz": -120
    },
    "id": "uda5Zwon8o9z",
    "outputId": "8497e87a-aede-46ba-cb48-c1e839f6b290"
   },
   "outputs": [
    {
     "data": {
      "text/plain": [
       "17319"
      ]
     },
     "execution_count": 17,
     "metadata": {},
     "output_type": "execute_result"
    }
   ],
   "source": [
    "len(positiv)"
   ]
  },
  {
   "cell_type": "code",
   "execution_count": null,
   "id": "9Y6Q9T7d8ryu",
   "metadata": {
    "colab": {
     "base_uri": "https://localhost:8080/"
    },
    "executionInfo": {
     "elapsed": 9,
     "status": "ok",
     "timestamp": 1685705960696,
     "user": {
      "displayName": "Lisa Seipi",
      "userId": "11620504456850814394"
     },
     "user_tz": -120
    },
    "id": "9Y6Q9T7d8ryu",
    "outputId": "dbe413ec-0ffd-43b8-98d3-e3e6f7662e55"
   },
   "outputs": [
    {
     "data": {
      "text/plain": [
       "18252"
      ]
     },
     "execution_count": 18,
     "metadata": {},
     "output_type": "execute_result"
    }
   ],
   "source": [
    "len(negativ)"
   ]
  },
  {
   "cell_type": "code",
   "execution_count": null,
   "id": "f7b303af",
   "metadata": {
    "colab": {
     "base_uri": "https://localhost:8080/"
    },
    "executionInfo": {
     "elapsed": 41147,
     "status": "ok",
     "timestamp": 1685713808424,
     "user": {
      "displayName": "Lisa Seipi",
      "userId": "11620504456850814394"
     },
     "user_tz": -120
    },
    "id": "f7b303af",
    "outputId": "5e8c0556-988a-43f5-e092-306126a57f43"
   },
   "outputs": [
    {
     "name": "stdout",
     "output_type": "stream",
     "text": [
      "positive tweets topic modelling : \n",
      "Class: science_&_technology, Count: 5968\n",
      "Class: business_&_entrepreneurs, Count: 2253\n",
      "Class: diaries_&_daily_life, Count: 1609\n",
      "Class: learning_&_educational, Count: 2900\n",
      "Class: gaming, Count: 333\n",
      "Class: film_tv_&_video, Count: 829\n",
      "Class: family, Count: 38\n",
      "Class: relationships, Count: 102\n",
      "Class: news_&_social_concern, Count: 2131\n",
      "Class: music, Count: 359\n",
      "Class: youth_&_student_life, Count: 975\n",
      "Class: food_&_dining, Count: 135\n",
      "Class: arts_&_culture, Count: 626\n",
      "Class: sports, Count: 257\n",
      "Class: celebrity_&_pop_culture, Count: 347\n",
      "Class: travel_&_adventure, Count: 120\n",
      "Class: fitness_&_health, Count: 127\n",
      "Class: other_hobbies, Count: 221\n",
      "Class: fashion_&_style, Count: 27\n"
     ]
    }
   ],
   "source": [
    "from collections import Counter\n",
    "\n",
    "# topic modelling for positive tweets\n",
    "print(\"positive tweets topic modelling : \")\n",
    "pos = list(positive.tweets)\n",
    "classes = get_topic(pos)\n",
    "\n",
    "string_counts = Counter(classes)\n",
    "\n",
    "fmap_pos = {}\n",
    "for string, count in string_counts.items():\n",
    "    fmap_pos[string] = count\n",
    "    print(f\"Class: {string}, Count: {count}\")\n",
    "\n",
    "sorted_fpos = sorted(fmap_pos.items(), key=lambda x: x[1])"
   ]
  },
  {
   "cell_type": "code",
   "execution_count": null,
   "id": "RGFV1suJPTK0",
   "metadata": {
    "colab": {
     "base_uri": "https://localhost:8080/"
    },
    "executionInfo": {
     "elapsed": 231,
     "status": "ok",
     "timestamp": 1685713823762,
     "user": {
      "displayName": "Lisa Seipi",
      "userId": "11620504456850814394"
     },
     "user_tz": -120
    },
    "id": "RGFV1suJPTK0",
    "outputId": "c38d0c93-b08d-4293-c3f4-f7ef5e5c1b52"
   },
   "outputs": [
    {
     "data": {
      "text/plain": [
       "[('fashion_&_style', 27),\n",
       " ('family', 38),\n",
       " ('relationships', 102),\n",
       " ('travel_&_adventure', 120),\n",
       " ('fitness_&_health', 127),\n",
       " ('food_&_dining', 135),\n",
       " ('other_hobbies', 221),\n",
       " ('sports', 257),\n",
       " ('gaming', 333),\n",
       " ('celebrity_&_pop_culture', 347),\n",
       " ('music', 359),\n",
       " ('arts_&_culture', 626),\n",
       " ('film_tv_&_video', 829),\n",
       " ('youth_&_student_life', 975),\n",
       " ('diaries_&_daily_life', 1609),\n",
       " ('news_&_social_concern', 2131),\n",
       " ('business_&_entrepreneurs', 2253),\n",
       " ('learning_&_educational', 2900),\n",
       " ('science_&_technology', 5968)]"
      ]
     },
     "execution_count": 31,
     "metadata": {},
     "output_type": "execute_result"
    }
   ],
   "source": [
    "sorted_fpos"
   ]
  },
  {
   "cell_type": "code",
   "execution_count": null,
   "id": "87d3b6b9",
   "metadata": {
    "colab": {
     "base_uri": "https://localhost:8080/"
    },
    "executionInfo": {
     "elapsed": 1917330,
     "status": "ok",
     "timestamp": 1685710250773,
     "user": {
      "displayName": "Lisa Seipi",
      "userId": "11620504456850814394"
     },
     "user_tz": -120
    },
    "id": "87d3b6b9",
    "outputId": "01d9c4b6-4680-4fda-e246-2c20ff974c16"
   },
   "outputs": [
    {
     "name": "stdout",
     "output_type": "stream",
     "text": [
      "negative tweets topic modelling : \n",
      "Class: diaries_&_daily_life, Count: 2759\n",
      "Class: other_hobbies, Count: 444\n",
      "Class: news_&_social_concern, Count: 2164\n",
      "Class: business_&_entrepreneurs, Count: 1878\n",
      "Class: science_&_technology, Count: 3898\n",
      "Class: arts_&_culture, Count: 637\n",
      "Class: gaming, Count: 319\n",
      "Class: learning_&_educational, Count: 1406\n",
      "Class: sports, Count: 328\n",
      "Class: music, Count: 406\n",
      "Class: film_tv_&_video, Count: 935\n",
      "Class: celebrity_&_pop_culture, Count: 549\n",
      "Class: travel_&_adventure, Count: 77\n",
      "Class: food_&_dining, Count: 160\n",
      "Class: fashion_&_style, Count: 37\n",
      "Class: fitness_&_health, Count: 112\n",
      "Class: youth_&_student_life, Count: 372\n",
      "Class: relationships, Count: 115\n",
      "Class: family, Count: 38\n"
     ]
    }
   ],
   "source": [
    "# topic modelling for negative tweets\n",
    "print(\"negative tweets topic modelling : \")\n",
    "text = list(negative.tweets)\n",
    "classes = get_topic(text)\n",
    "\n",
    "string_counts = Counter(classes)\n",
    "\n",
    "fmap_neg = {}\n",
    "for string, count in string_counts.items():\n",
    "    fmap_neg[string] = count\n",
    "    print(f\"Class: {string}, Count: {count}\")\n",
    "\n",
    "sorted_fneg = sorted(fmap_neg.items(), key=lambda x: x[1])"
   ]
  },
  {
   "cell_type": "code",
   "execution_count": null,
   "id": "CdjVhPUXO4Ma",
   "metadata": {
    "colab": {
     "base_uri": "https://localhost:8080/"
    },
    "executionInfo": {
     "elapsed": 3,
     "status": "ok",
     "timestamp": 1685711459765,
     "user": {
      "displayName": "Lisa Seipi",
      "userId": "11620504456850814394"
     },
     "user_tz": -120
    },
    "id": "CdjVhPUXO4Ma",
    "outputId": "14f2888e-1327-49bc-eedf-d3c22ccab793"
   },
   "outputs": [
    {
     "data": {
      "text/plain": [
       "[('fashion_&_style', 37),\n",
       " ('family', 38),\n",
       " ('travel_&_adventure', 77),\n",
       " ('fitness_&_health', 112),\n",
       " ('relationships', 115),\n",
       " ('food_&_dining', 160),\n",
       " ('gaming', 319),\n",
       " ('sports', 328),\n",
       " ('youth_&_student_life', 372),\n",
       " ('music', 406),\n",
       " ('other_hobbies', 444),\n",
       " ('celebrity_&_pop_culture', 549),\n",
       " ('arts_&_culture', 637),\n",
       " ('film_tv_&_video', 935),\n",
       " ('learning_&_educational', 1406),\n",
       " ('business_&_entrepreneurs', 1878),\n",
       " ('news_&_social_concern', 2164),\n",
       " ('diaries_&_daily_life', 2759),\n",
       " ('science_&_technology', 3898)]"
      ]
     },
     "execution_count": 29,
     "metadata": {},
     "output_type": "execute_result"
    }
   ],
   "source": [
    "sorted_fneg"
   ]
  },
  {
   "cell_type": "code",
   "execution_count": 2,
   "id": "812abdb3",
   "metadata": {},
   "outputs": [],
   "source": [
    "import pandas as pd\n",
    "topic_pos_f = pd.read_csv('/Users/barbararuvolo/Desktop/EPFL/Digital Musicology/computational-social-media/datasets/positive_topic.csv', usecols=['topic', 'count'])"
   ]
  },
  {
   "cell_type": "code",
   "execution_count": 3,
   "id": "cb3f46bc",
   "metadata": {},
   "outputs": [
    {
     "data": {
      "text/html": [
       "<div>\n",
       "<style scoped>\n",
       "    .dataframe tbody tr th:only-of-type {\n",
       "        vertical-align: middle;\n",
       "    }\n",
       "\n",
       "    .dataframe tbody tr th {\n",
       "        vertical-align: top;\n",
       "    }\n",
       "\n",
       "    .dataframe thead th {\n",
       "        text-align: right;\n",
       "    }\n",
       "</style>\n",
       "<table border=\"1\" class=\"dataframe\">\n",
       "  <thead>\n",
       "    <tr style=\"text-align: right;\">\n",
       "      <th></th>\n",
       "      <th>topic</th>\n",
       "      <th>count</th>\n",
       "    </tr>\n",
       "  </thead>\n",
       "  <tbody>\n",
       "    <tr>\n",
       "      <th>0</th>\n",
       "      <td>science_&amp;_technology</td>\n",
       "      <td>5968</td>\n",
       "    </tr>\n",
       "    <tr>\n",
       "      <th>1</th>\n",
       "      <td>business_&amp;_entrepreneurs</td>\n",
       "      <td>2253</td>\n",
       "    </tr>\n",
       "    <tr>\n",
       "      <th>2</th>\n",
       "      <td>diaries_&amp;_daily_life</td>\n",
       "      <td>1609</td>\n",
       "    </tr>\n",
       "    <tr>\n",
       "      <th>3</th>\n",
       "      <td>learning_&amp;_educational</td>\n",
       "      <td>2900</td>\n",
       "    </tr>\n",
       "    <tr>\n",
       "      <th>4</th>\n",
       "      <td>gaming</td>\n",
       "      <td>333</td>\n",
       "    </tr>\n",
       "    <tr>\n",
       "      <th>5</th>\n",
       "      <td>film_tv_&amp;_video</td>\n",
       "      <td>829</td>\n",
       "    </tr>\n",
       "    <tr>\n",
       "      <th>6</th>\n",
       "      <td>family</td>\n",
       "      <td>38</td>\n",
       "    </tr>\n",
       "    <tr>\n",
       "      <th>7</th>\n",
       "      <td>relationships</td>\n",
       "      <td>102</td>\n",
       "    </tr>\n",
       "    <tr>\n",
       "      <th>8</th>\n",
       "      <td>news_&amp;_social_concern</td>\n",
       "      <td>2131</td>\n",
       "    </tr>\n",
       "    <tr>\n",
       "      <th>9</th>\n",
       "      <td>music</td>\n",
       "      <td>359</td>\n",
       "    </tr>\n",
       "    <tr>\n",
       "      <th>10</th>\n",
       "      <td>youth_&amp;_student_life</td>\n",
       "      <td>975</td>\n",
       "    </tr>\n",
       "    <tr>\n",
       "      <th>11</th>\n",
       "      <td>food_&amp;_dining</td>\n",
       "      <td>135</td>\n",
       "    </tr>\n",
       "    <tr>\n",
       "      <th>12</th>\n",
       "      <td>arts_&amp;_culture</td>\n",
       "      <td>626</td>\n",
       "    </tr>\n",
       "    <tr>\n",
       "      <th>13</th>\n",
       "      <td>sports</td>\n",
       "      <td>257</td>\n",
       "    </tr>\n",
       "    <tr>\n",
       "      <th>14</th>\n",
       "      <td>celebrity_&amp;_pop_culture</td>\n",
       "      <td>347</td>\n",
       "    </tr>\n",
       "    <tr>\n",
       "      <th>15</th>\n",
       "      <td>travel_&amp;_adventure</td>\n",
       "      <td>120</td>\n",
       "    </tr>\n",
       "    <tr>\n",
       "      <th>16</th>\n",
       "      <td>fitness_&amp;_health</td>\n",
       "      <td>127</td>\n",
       "    </tr>\n",
       "    <tr>\n",
       "      <th>17</th>\n",
       "      <td>other_hobbies</td>\n",
       "      <td>221</td>\n",
       "    </tr>\n",
       "    <tr>\n",
       "      <th>18</th>\n",
       "      <td>fashion_&amp;_style</td>\n",
       "      <td>27</td>\n",
       "    </tr>\n",
       "  </tbody>\n",
       "</table>\n",
       "</div>"
      ],
      "text/plain": [
       "                       topic  count\n",
       "0       science_&_technology   5968\n",
       "1   business_&_entrepreneurs   2253\n",
       "2       diaries_&_daily_life   1609\n",
       "3     learning_&_educational   2900\n",
       "4                     gaming    333\n",
       "5            film_tv_&_video    829\n",
       "6                     family     38\n",
       "7              relationships    102\n",
       "8      news_&_social_concern   2131\n",
       "9                      music    359\n",
       "10      youth_&_student_life    975\n",
       "11             food_&_dining    135\n",
       "12            arts_&_culture    626\n",
       "13                    sports    257\n",
       "14   celebrity_&_pop_culture    347\n",
       "15        travel_&_adventure    120\n",
       "16          fitness_&_health    127\n",
       "17             other_hobbies    221\n",
       "18           fashion_&_style     27"
      ]
     },
     "execution_count": 3,
     "metadata": {},
     "output_type": "execute_result"
    }
   ],
   "source": [
    "topic_pos_f"
   ]
  },
  {
   "cell_type": "code",
   "execution_count": 5,
   "id": "b6d6bd46",
   "metadata": {},
   "outputs": [],
   "source": [
    "topic_pos_f = topic_pos_f.sort_values(by='count', ascending=False)"
   ]
  },
  {
   "cell_type": "code",
   "execution_count": 9,
   "id": "5deeee88",
   "metadata": {},
   "outputs": [
    {
     "data": {
      "image/png": "[encoded data removed]",
      "text/plain": [
       "<Figure size 1000x500 with 1 Axes>"
      ]
     },
     "metadata": {},
     "output_type": "display_data"
    }
   ],
   "source": [
    "# plot top 5 positive topics as horizontal bar chart\n",
    "import matplotlib.pyplot as plt\n",
    "import seaborn as sns\n",
    "\n",
    "plt.figure(figsize=(10, 5))\n",
    "sns.barplot(x='count', y='topic', data=topic_pos_f[:5], palette='Blues_d')\n",
    "plt.title('Top 5 positive topics')\n",
    "plt.xlabel('Count')\n",
    "plt.ylabel('Topic')\n",
    "plt.show()\n"
   ]
  },
  {
   "cell_type": "code",
   "execution_count": 10,
   "id": "59dfb43f",
   "metadata": {},
   "outputs": [],
   "source": [
    "import pandas as pd\n",
    "topic_neg_f = pd.read_csv('/Users/barbararuvolo/Desktop/EPFL/Digital Musicology/computational-social-media/datasets/negative_topic.csv', usecols=['topic', 'count'])"
   ]
  },
  {
   "cell_type": "code",
   "execution_count": 14,
   "id": "06358b18",
   "metadata": {},
   "outputs": [
    {
     "data": {
      "text/html": [
       "<div>\n",
       "<style scoped>\n",
       "    .dataframe tbody tr th:only-of-type {\n",
       "        vertical-align: middle;\n",
       "    }\n",
       "\n",
       "    .dataframe tbody tr th {\n",
       "        vertical-align: top;\n",
       "    }\n",
       "\n",
       "    .dataframe thead th {\n",
       "        text-align: right;\n",
       "    }\n",
       "</style>\n",
       "<table border=\"1\" class=\"dataframe\">\n",
       "  <thead>\n",
       "    <tr style=\"text-align: right;\">\n",
       "      <th></th>\n",
       "      <th>topic</th>\n",
       "      <th>count</th>\n",
       "    </tr>\n",
       "  </thead>\n",
       "  <tbody>\n",
       "    <tr>\n",
       "      <th>14</th>\n",
       "      <td>learning_&amp;_educational</td>\n",
       "      <td>1406</td>\n",
       "    </tr>\n",
       "    <tr>\n",
       "      <th>15</th>\n",
       "      <td>business_&amp;_entrepreneurs</td>\n",
       "      <td>1878</td>\n",
       "    </tr>\n",
       "    <tr>\n",
       "      <th>16</th>\n",
       "      <td>news_&amp;_social_concern</td>\n",
       "      <td>2164</td>\n",
       "    </tr>\n",
       "    <tr>\n",
       "      <th>17</th>\n",
       "      <td>diaries_&amp;_daily_life</td>\n",
       "      <td>2759</td>\n",
       "    </tr>\n",
       "    <tr>\n",
       "      <th>18</th>\n",
       "      <td>science_&amp;_technology</td>\n",
       "      <td>3898</td>\n",
       "    </tr>\n",
       "  </tbody>\n",
       "</table>\n",
       "</div>"
      ],
      "text/plain": [
       "                       topic  count\n",
       "14    learning_&_educational   1406\n",
       "15  business_&_entrepreneurs   1878\n",
       "16     news_&_social_concern   2164\n",
       "17      diaries_&_daily_life   2759\n",
       "18      science_&_technology   3898"
      ]
     },
     "execution_count": 14,
     "metadata": {},
     "output_type": "execute_result"
    }
   ],
   "source": [
    "topic_neg_f[-5:]"
   ]
  },
  {
   "cell_type": "code",
   "execution_count": 15,
   "id": "bff9da66",
   "metadata": {},
   "outputs": [
    {
     "data": {
      "image/png": "[encoded data removed]",
      "text/plain": [
       "<Figure size 1000x500 with 1 Axes>"
      ]
     },
     "metadata": {},
     "output_type": "display_data"
    }
   ],
   "source": [
    "# plot top 5 positive topics as horizontal bar chart\n",
    "import matplotlib.pyplot as plt\n",
    "import seaborn as sns\n",
    "\n",
    "plt.figure(figsize=(10, 5))\n",
    "sns.barplot(x='count', y='topic', data=topic_neg_f[-5:], palette='Blues_d')\n",
    "plt.title('Top 5 negative topics')\n",
    "plt.xlabel('Count')\n",
    "plt.ylabel('Topic')\n",
    "plt.show()"
   ]
  },
  {
   "cell_type": "markdown",
   "id": "0c77d179",
   "metadata": {
    "id": "0c77d179"
   },
   "source": [
    "### Last two monthes"
   ]
  },
  {
   "cell_type": "code",
   "execution_count": 18,
   "id": "82562aae",
   "metadata": {
    "executionInfo": {
     "elapsed": 228,
     "status": "ok",
     "timestamp": 1685800741608,
     "user": {
      "displayName": "Lisa Seipi",
      "userId": "08554065220125885431"
     },
     "user_tz": -120
    },
    "id": "82562aae"
   },
   "outputs": [],
   "source": [
    "positive = last[last.label == 'positive']\n",
    "negative = last[last.label == 'negative']"
   ]
  },
  {
   "cell_type": "code",
   "execution_count": 21,
   "id": "68defe8f",
   "metadata": {
    "colab": {
     "base_uri": "https://localhost:8080/"
    },
    "executionInfo": {
     "elapsed": 4939359,
     "status": "ok",
     "timestamp": 1685805708224,
     "user": {
      "displayName": "Lisa Seipi",
      "userId": "08554065220125885431"
     },
     "user_tz": -120
    },
    "id": "68defe8f",
    "outputId": "f3d5ea12-222c-4556-a185-e45e8bd4aac4"
   },
   "outputs": [
    {
     "name": "stdout",
     "output_type": "stream",
     "text": [
      "positive tweets topic modelling : \n",
      "Class: news_&_social_concern, Count: 6035\n",
      "Class: science_&_technology, Count: 13491\n",
      "Class: music, Count: 394\n",
      "Class: diaries_&_daily_life, Count: 1716\n",
      "Class: business_&_entrepreneurs, Count: 10655\n",
      "Class: relationships, Count: 137\n",
      "Class: travel_&_adventure, Count: 244\n",
      "Class: film_tv_&_video, Count: 1233\n",
      "Class: learning_&_educational, Count: 4426\n",
      "Class: gaming, Count: 342\n",
      "Class: celebrity_&_pop_culture, Count: 371\n",
      "Class: fashion_&_style, Count: 95\n",
      "Class: food_&_dining, Count: 213\n",
      "Class: fitness_&_health, Count: 470\n",
      "Class: youth_&_student_life, Count: 1388\n",
      "Class: other_hobbies, Count: 349\n",
      "Class: arts_&_culture, Count: 1000\n",
      "Class: sports, Count: 331\n",
      "Class: family, Count: 49\n"
     ]
    }
   ],
   "source": [
    "from collections import Counter\n",
    "\n",
    "# topic modelling for positive tweets\n",
    "print(\"positive tweets topic modelling : \")\n",
    "text = list(positiv.tweets)\n",
    "classes = get_topic(text)\n",
    "\n",
    "string_counts = Counter(classes)\n",
    "\n",
    "lmap_pos = {}\n",
    "for string, count in string_counts.items():\n",
    "    lmap_pos[string] = count\n",
    "    print(f\"Class: {string}, Count: {count}\")\n",
    "\n",
    "sorted_lpos = sorted(lmap_pos.items(), key=lambda x: x[1])"
   ]
  },
  {
   "cell_type": "code",
   "execution_count": 25,
   "id": "rebtOksb3ghn",
   "metadata": {
    "colab": {
     "base_uri": "https://localhost:8080/"
    },
    "executionInfo": {
     "elapsed": 231,
     "status": "ok",
     "timestamp": 1685805998393,
     "user": {
      "displayName": "Lisa Seipi",
      "userId": "08554065220125885431"
     },
     "user_tz": -120
    },
    "id": "rebtOksb3ghn",
    "outputId": "7ec82e48-73b9-4d02-81da-011189440f42"
   },
   "outputs": [
    {
     "data": {
      "text/plain": [
       "[('family', 49),\n",
       " ('fashion_&_style', 95),\n",
       " ('relationships', 137),\n",
       " ('food_&_dining', 213),\n",
       " ('travel_&_adventure', 244),\n",
       " ('sports', 331),\n",
       " ('gaming', 342),\n",
       " ('other_hobbies', 349),\n",
       " ('celebrity_&_pop_culture', 371),\n",
       " ('music', 394),\n",
       " ('fitness_&_health', 470),\n",
       " ('arts_&_culture', 1000),\n",
       " ('film_tv_&_video', 1233),\n",
       " ('youth_&_student_life', 1388),\n",
       " ('diaries_&_daily_life', 1716),\n",
       " ('learning_&_educational', 4426),\n",
       " ('news_&_social_concern', 6035),\n",
       " ('business_&_entrepreneurs', 10655),\n",
       " ('science_&_technology', 13491)]"
      ]
     },
     "execution_count": 25,
     "metadata": {},
     "output_type": "execute_result"
    }
   ],
   "source": [
    "sorted_lpos"
   ]
  },
  {
   "cell_type": "code",
   "execution_count": 26,
   "id": "d72fe0d2",
   "metadata": {
    "colab": {
     "base_uri": "https://localhost:8080/"
    },
    "executionInfo": {
     "elapsed": 3258526,
     "status": "ok",
     "timestamp": 1685809264552,
     "user": {
      "displayName": "Lisa Seipi",
      "userId": "08554065220125885431"
     },
     "user_tz": -120
    },
    "id": "d72fe0d2",
    "outputId": "215abe87-6022-4c13-8a8a-35563c23a864"
   },
   "outputs": [
    {
     "name": "stdout",
     "output_type": "stream",
     "text": [
      "negative tweets topic modelling : \n",
      "Class: diaries_&_daily_life, Count: 2269\n",
      "Class: relationships, Count: 228\n",
      "Class: science_&_technology, Count: 7499\n",
      "Class: news_&_social_concern, Count: 3729\n",
      "Class: other_hobbies, Count: 461\n",
      "Class: learning_&_educational, Count: 3186\n",
      "Class: youth_&_student_life, Count: 775\n",
      "Class: film_tv_&_video, Count: 1341\n",
      "Class: business_&_entrepreneurs, Count: 6646\n",
      "Class: fitness_&_health, Count: 290\n",
      "Class: sports, Count: 306\n",
      "Class: celebrity_&_pop_culture, Count: 506\n",
      "Class: travel_&_adventure, Count: 247\n",
      "Class: gaming, Count: 345\n",
      "Class: music, Count: 285\n",
      "Class: arts_&_culture, Count: 857\n",
      "Class: fashion_&_style, Count: 93\n",
      "Class: food_&_dining, Count: 212\n",
      "Class: family, Count: 50\n"
     ]
    }
   ],
   "source": [
    "# topic modelling for negative tweets\n",
    "print(\"negative tweets topic modelling : \")\n",
    "text = list(negativ.tweets)\n",
    "classes = get_topic(text)\n",
    "\n",
    "string_counts = Counter(classes)\n",
    "\n",
    "lmap_neg = {}\n",
    "for string, count in string_counts.items():\n",
    "    lmap_neg[string] = count\n",
    "    print(f\"Class: {string}, Count: {count}\")\n",
    "\n",
    "sorted_lneg = sorted(lmap_neg.items(), key=lambda x: x[1])"
   ]
  },
  {
   "cell_type": "code",
   "execution_count": 27,
   "id": "9NgkJq_n2xaE",
   "metadata": {
    "colab": {
     "base_uri": "https://localhost:8080/"
    },
    "executionInfo": {
     "elapsed": 251,
     "status": "ok",
     "timestamp": 1685809851485,
     "user": {
      "displayName": "Lisa Seipi",
      "userId": "08554065220125885431"
     },
     "user_tz": -120
    },
    "id": "9NgkJq_n2xaE",
    "outputId": "1b3d2b9c-7088-4bb2-9847-9b367ee79043"
   },
   "outputs": [
    {
     "data": {
      "text/plain": [
       "[('family', 50),\n",
       " ('fashion_&_style', 93),\n",
       " ('food_&_dining', 212),\n",
       " ('relationships', 228),\n",
       " ('travel_&_adventure', 247),\n",
       " ('music', 285),\n",
       " ('fitness_&_health', 290),\n",
       " ('sports', 306),\n",
       " ('gaming', 345),\n",
       " ('other_hobbies', 461),\n",
       " ('celebrity_&_pop_culture', 506),\n",
       " ('youth_&_student_life', 775),\n",
       " ('arts_&_culture', 857),\n",
       " ('film_tv_&_video', 1341),\n",
       " ('diaries_&_daily_life', 2269),\n",
       " ('learning_&_educational', 3186),\n",
       " ('news_&_social_concern', 3729),\n",
       " ('business_&_entrepreneurs', 6646),\n",
       " ('science_&_technology', 7499)]"
      ]
     },
     "execution_count": 27,
     "metadata": {},
     "output_type": "execute_result"
    }
   ],
   "source": [
    "sorted_lneg"
   ]
  }
 ],
 "metadata": {
  "accelerator": "GPU",
  "colab": {
   "gpuType": "T4",
   "provenance": []
  },
  "kernelspec": {
   "display_name": "Python",
   "language": "python",
   "name": "python3"
  },
  "language_info": {
   "codemirror_mode": {
    "name": "ipython",
    "version": 3
   },
   "file_extension": ".py",
   "mimetype": "text/x-python",
   "name": "python",
   "nbconvert_exporter": "python",
   "pygments_lexer": "ipython3",
   "version": "3.8.10"
  },
  "widgets": {
   "application/vnd.jupyter.widget-state+json": {
    "06f740764e144c99a5fe158c176496e9": {
     "model_module": "@jupyter-widgets/base",
     "model_module_version": "1.2.0",
     "model_name": "LayoutModel",
     "state": {
      "_model_module": "@jupyter-widgets/base",
      "_model_module_version": "1.2.0",
      "_model_name": "LayoutModel",
      "_view_count": null,
      "_view_module": "@jupyter-widgets/base",
      "_view_module_version": "1.2.0",
      "_view_name": "LayoutView",
      "align_content": null,
      "align_items": null,
      "align_self": null,
      "border": null,
      "bottom": null,
      "display": null,
      "flex": null,
      "flex_flow": null,
      "grid_area": null,
      "grid_auto_columns": null,
      "grid_auto_flow": null,
      "grid_auto_rows": null,
      "grid_column": null,
      "grid_gap": null,
      "grid_row": null,
      "grid_template_areas": null,
      "grid_template_columns": null,
      "grid_template_rows": null,
      "height": null,
      "justify_content": null,
      "justify_items": null,
      "left": null,
      "margin": null,
      "max_height": null,
      "max_width": null,
      "min_height": null,
      "min_width": null,
      "object_fit": null,
      "object_position": null,
      "order": null,
      "overflow": null,
      "overflow_x": null,
      "overflow_y": null,
      "padding": null,
      "right": null,
      "top": null,
      "visibility": null,
      "width": null
     }
    },
    "07512e9016fa441797c9ba7d35ecabdf": {
     "model_module": "@jupyter-widgets/controls",
     "model_module_version": "1.5.0",
     "model_name": "HTMLModel",
     "state": {
      "_dom_classes": [],
      "_model_module": "@jupyter-widgets/controls",
      "_model_module_version": "1.5.0",
      "_model_name": "HTMLModel",
      "_view_count": null,
      "_view_module": "@jupyter-widgets/controls",
      "_view_module_version": "1.5.0",
      "_view_name": "HTMLView",
      "description": "",
      "description_tooltip": null,
      "layout": "IPY_MODEL_179318111a5d4d0191d47479d1c027f0",
      "placeholder": "​",
      "style": "IPY_MODEL_18af1682f2df4f768b58e744f2dbc27c",
      "value": " 798k/798k [00:00&lt;00:00, 10.5MB/s]"
     }
    },
    "085074a1ade54cc787828a59afb7c7ea": {
     "model_module": "@jupyter-widgets/controls",
     "model_module_version": "1.5.0",
     "model_name": "HBoxModel",
     "state": {
      "_dom_classes": [],
      "_model_module": "@jupyter-widgets/controls",
      "_model_module_version": "1.5.0",
      "_model_name": "HBoxModel",
      "_view_count": null,
      "_view_module": "@jupyter-widgets/controls",
      "_view_module_version": "1.5.0",
      "_view_name": "HBoxView",
      "box_style": "",
      "children": [
       "IPY_MODEL_1fa7ade0bf1f4376adc9e1c3227242eb",
       "IPY_MODEL_f9893deb8c094180aaad70a6085e05f5",
       "IPY_MODEL_2aeaea772e37443c9e1f6b89f0430654"
      ],
      "layout": "IPY_MODEL_86907dd5d916415385a320fbed4480c4"
     }
    },
    "099781bc5d07424dbc462e9d8869c8d9": {
     "model_module": "@jupyter-widgets/controls",
     "model_module_version": "1.5.0",
     "model_name": "DescriptionStyleModel",
     "state": {
      "_model_module": "@jupyter-widgets/controls",
      "_model_module_version": "1.5.0",
      "_model_name": "DescriptionStyleModel",
      "_view_count": null,
      "_view_module": "@jupyter-widgets/base",
      "_view_module_version": "1.2.0",
      "_view_name": "StyleView",
      "description_width": ""
     }
    },
    "09aea806064a44ba87e9c8aea83b72d3": {
     "model_module": "@jupyter-widgets/base",
     "model_module_version": "1.2.0",
     "model_name": "LayoutModel",
     "state": {
      "_model_module": "@jupyter-widgets/base",
      "_model_module_version": "1.2.0",
      "_model_name": "LayoutModel",
      "_view_count": null,
      "_view_module": "@jupyter-widgets/base",
      "_view_module_version": "1.2.0",
      "_view_name": "LayoutView",
      "align_content": null,
      "align_items": null,
      "align_self": null,
      "border": null,
      "bottom": null,
      "display": null,
      "flex": null,
      "flex_flow": null,
      "grid_area": null,
      "grid_auto_columns": null,
      "grid_auto_flow": null,
      "grid_auto_rows": null,
      "grid_column": null,
      "grid_gap": null,
      "grid_row": null,
      "grid_template_areas": null,
      "grid_template_columns": null,
      "grid_template_rows": null,
      "height": null,
      "justify_content": null,
      "justify_items": null,
      "left": null,
      "margin": null,
      "max_height": null,
      "max_width": null,
      "min_height": null,
      "min_width": null,
      "object_fit": null,
      "object_position": null,
      "order": null,
      "overflow": null,
      "overflow_x": null,
      "overflow_y": null,
      "padding": null,
      "right": null,
      "top": null,
      "visibility": null,
      "width": null
     }
    },
    "0ae36abd40944afb8752a306608f2410": {
     "model_module": "@jupyter-widgets/base",
     "model_module_version": "1.2.0",
     "model_name": "LayoutModel",
     "state": {
      "_model_module": "@jupyter-widgets/base",
      "_model_module_version": "1.2.0",
      "_model_name": "LayoutModel",
      "_view_count": null,
      "_view_module": "@jupyter-widgets/base",
      "_view_module_version": "1.2.0",
      "_view_name": "LayoutView",
      "align_content": null,
      "align_items": null,
      "align_self": null,
      "border": null,
      "bottom": null,
      "display": null,
      "flex": null,
      "flex_flow": null,
      "grid_area": null,
      "grid_auto_columns": null,
      "grid_auto_flow": null,
      "grid_auto_rows": null,
      "grid_column": null,
      "grid_gap": null,
      "grid_row": null,
      "grid_template_areas": null,
      "grid_template_columns": null,
      "grid_template_rows": null,
      "height": null,
      "justify_content": null,
      "justify_items": null,
      "left": null,
      "margin": null,
      "max_height": null,
      "max_width": null,
      "min_height": null,
      "min_width": null,
      "object_fit": null,
      "object_position": null,
      "order": null,
      "overflow": null,
      "overflow_x": null,
      "overflow_y": null,
      "padding": null,
      "right": null,
      "top": null,
      "visibility": null,
      "width": null
     }
    },
    "0c961d8efe0240a1ae400b99ed994d59": {
     "model_module": "@jupyter-widgets/controls",
     "model_module_version": "1.5.0",
     "model_name": "DescriptionStyleModel",
     "state": {
      "_model_module": "@jupyter-widgets/controls",
      "_model_module_version": "1.5.0",
      "_model_name": "DescriptionStyleModel",
      "_view_count": null,
      "_view_module": "@jupyter-widgets/base",
      "_view_module_version": "1.2.0",
      "_view_name": "StyleView",
      "description_width": ""
     }
    },
    "0e1d06970864441e8c2dbcbf69f0aaad": {
     "model_module": "@jupyter-widgets/base",
     "model_module_version": "1.2.0",
     "model_name": "LayoutModel",
     "state": {
      "_model_module": "@jupyter-widgets/base",
      "_model_module_version": "1.2.0",
      "_model_name": "LayoutModel",
      "_view_count": null,
      "_view_module": "@jupyter-widgets/base",
      "_view_module_version": "1.2.0",
      "_view_name": "LayoutView",
      "align_content": null,
      "align_items": null,
      "align_self": null,
      "border": null,
      "bottom": null,
      "display": null,
      "flex": null,
      "flex_flow": null,
      "grid_area": null,
      "grid_auto_columns": null,
      "grid_auto_flow": null,
      "grid_auto_rows": null,
      "grid_column": null,
      "grid_gap": null,
      "grid_row": null,
      "grid_template_areas": null,
      "grid_template_columns": null,
      "grid_template_rows": null,
      "height": null,
      "justify_content": null,
      "justify_items": null,
      "left": null,
      "margin": null,
      "max_height": null,
      "max_width": null,
      "min_height": null,
      "min_width": null,
      "object_fit": null,
      "object_position": null,
      "order": null,
      "overflow": null,
      "overflow_x": null,
      "overflow_y": null,
      "padding": null,
      "right": null,
      "top": null,
      "visibility": null,
      "width": null
     }
    },
    "0e7df65ae1b74f6ba490d19075efbea5": {
     "model_module": "@jupyter-widgets/base",
     "model_module_version": "1.2.0",
     "model_name": "LayoutModel",
     "state": {
      "_model_module": "@jupyter-widgets/base",
      "_model_module_version": "1.2.0",
      "_model_name": "LayoutModel",
      "_view_count": null,
      "_view_module": "@jupyter-widgets/base",
      "_view_module_version": "1.2.0",
      "_view_name": "LayoutView",
      "align_content": null,
      "align_items": null,
      "align_self": null,
      "border": null,
      "bottom": null,
      "display": null,
      "flex": null,
      "flex_flow": null,
      "grid_area": null,
      "grid_auto_columns": null,
      "grid_auto_flow": null,
      "grid_auto_rows": null,
      "grid_column": null,
      "grid_gap": null,
      "grid_row": null,
      "grid_template_areas": null,
      "grid_template_columns": null,
      "grid_template_rows": null,
      "height": null,
      "justify_content": null,
      "justify_items": null,
      "left": null,
      "margin": null,
      "max_height": null,
      "max_width": null,
      "min_height": null,
      "min_width": null,
      "object_fit": null,
      "object_position": null,
      "order": null,
      "overflow": null,
      "overflow_x": null,
      "overflow_y": null,
      "padding": null,
      "right": null,
      "top": null,
      "visibility": null,
      "width": null
     }
    },
    "179318111a5d4d0191d47479d1c027f0": {
     "model_module": "@jupyter-widgets/base",
     "model_module_version": "1.2.0",
     "model_name": "LayoutModel",
     "state": {
      "_model_module": "@jupyter-widgets/base",
      "_model_module_version": "1.2.0",
      "_model_name": "LayoutModel",
      "_view_count": null,
      "_view_module": "@jupyter-widgets/base",
      "_view_module_version": "1.2.0",
      "_view_name": "LayoutView",
      "align_content": null,
      "align_items": null,
      "align_self": null,
      "border": null,
      "bottom": null,
      "display": null,
      "flex": null,
      "flex_flow": null,
      "grid_area": null,
      "grid_auto_columns": null,
      "grid_auto_flow": null,
      "grid_auto_rows": null,
      "grid_column": null,
      "grid_gap": null,
      "grid_row": null,
      "grid_template_areas": null,
      "grid_template_columns": null,
      "grid_template_rows": null,
      "height": null,
      "justify_content": null,
      "justify_items": null,
      "left": null,
      "margin": null,
      "max_height": null,
      "max_width": null,
      "min_height": null,
      "min_width": null,
      "object_fit": null,
      "object_position": null,
      "order": null,
      "overflow": null,
      "overflow_x": null,
      "overflow_y": null,
      "padding": null,
      "right": null,
      "top": null,
      "visibility": null,
      "width": null
     }
    },
    "17d502304ff44493b799bfaada4291ad": {
     "model_module": "@jupyter-widgets/controls",
     "model_module_version": "1.5.0",
     "model_name": "DescriptionStyleModel",
     "state": {
      "_model_module": "@jupyter-widgets/controls",
      "_model_module_version": "1.5.0",
      "_model_name": "DescriptionStyleModel",
      "_view_count": null,
      "_view_module": "@jupyter-widgets/base",
      "_view_module_version": "1.2.0",
      "_view_name": "StyleView",
      "description_width": ""
     }
    },
    "18af1682f2df4f768b58e744f2dbc27c": {
     "model_module": "@jupyter-widgets/controls",
     "model_module_version": "1.5.0",
     "model_name": "DescriptionStyleModel",
     "state": {
      "_model_module": "@jupyter-widgets/controls",
      "_model_module_version": "1.5.0",
      "_model_name": "DescriptionStyleModel",
      "_view_count": null,
      "_view_module": "@jupyter-widgets/base",
      "_view_module_version": "1.2.0",
      "_view_name": "StyleView",
      "description_width": ""
     }
    },
    "18b15df8474444e7aeadf867ea815bbc": {
     "model_module": "@jupyter-widgets/controls",
     "model_module_version": "1.5.0",
     "model_name": "FloatProgressModel",
     "state": {
      "_dom_classes": [],
      "_model_module": "@jupyter-widgets/controls",
      "_model_module_version": "1.5.0",
      "_model_name": "FloatProgressModel",
      "_view_count": null,
      "_view_module": "@jupyter-widgets/controls",
      "_view_module_version": "1.5.0",
      "_view_name": "ProgressView",
      "bar_style": "success",
      "description": "",
      "description_tooltip": null,
      "layout": "IPY_MODEL_acf1f458108f4416abd3a10f063cd39c",
      "max": 456356,
      "min": 0,
      "orientation": "horizontal",
      "style": "IPY_MODEL_292642657aa34d1a9da2ac5834646de6",
      "value": 456356
     }
    },
    "1d0a042f8af740bf8bf666bef3a309ad": {
     "model_module": "@jupyter-widgets/controls",
     "model_module_version": "1.5.0",
     "model_name": "ProgressStyleModel",
     "state": {
      "_model_module": "@jupyter-widgets/controls",
      "_model_module_version": "1.5.0",
      "_model_name": "ProgressStyleModel",
      "_view_count": null,
      "_view_module": "@jupyter-widgets/base",
      "_view_module_version": "1.2.0",
      "_view_name": "StyleView",
      "bar_color": null,
      "description_width": ""
     }
    },
    "1fa7ade0bf1f4376adc9e1c3227242eb": {
     "model_module": "@jupyter-widgets/controls",
     "model_module_version": "1.5.0",
     "model_name": "HTMLModel",
     "state": {
      "_dom_classes": [],
      "_model_module": "@jupyter-widgets/controls",
      "_model_module_version": "1.5.0",
      "_model_name": "HTMLModel",
      "_view_count": null,
      "_view_module": "@jupyter-widgets/controls",
      "_view_module_version": "1.5.0",
      "_view_name": "HTMLView",
      "description": "",
      "description_tooltip": null,
      "layout": "IPY_MODEL_0e7df65ae1b74f6ba490d19075efbea5",
      "placeholder": "​",
      "style": "IPY_MODEL_b8e8a17f6c6b4a8b90edd81a3239765a",
      "value": "Downloading (…)lve/main/config.json: 100%"
     }
    },
    "22cbde4d1c8f4136ab0b1421723e6465": {
     "model_module": "@jupyter-widgets/controls",
     "model_module_version": "1.5.0",
     "model_name": "ProgressStyleModel",
     "state": {
      "_model_module": "@jupyter-widgets/controls",
      "_model_module_version": "1.5.0",
      "_model_name": "ProgressStyleModel",
      "_view_count": null,
      "_view_module": "@jupyter-widgets/base",
      "_view_module_version": "1.2.0",
      "_view_name": "StyleView",
      "bar_color": null,
      "description_width": ""
     }
    },
    "240b50b0bd3a4caaa51f577993b883d9": {
     "model_module": "@jupyter-widgets/base",
     "model_module_version": "1.2.0",
     "model_name": "LayoutModel",
     "state": {
      "_model_module": "@jupyter-widgets/base",
      "_model_module_version": "1.2.0",
      "_model_name": "LayoutModel",
      "_view_count": null,
      "_view_module": "@jupyter-widgets/base",
      "_view_module_version": "1.2.0",
      "_view_name": "LayoutView",
      "align_content": null,
      "align_items": null,
      "align_self": null,
      "border": null,
      "bottom": null,
      "display": null,
      "flex": null,
      "flex_flow": null,
      "grid_area": null,
      "grid_auto_columns": null,
      "grid_auto_flow": null,
      "grid_auto_rows": null,
      "grid_column": null,
      "grid_gap": null,
      "grid_row": null,
      "grid_template_areas": null,
      "grid_template_columns": null,
      "grid_template_rows": null,
      "height": null,
      "justify_content": null,
      "justify_items": null,
      "left": null,
      "margin": null,
      "max_height": null,
      "max_width": null,
      "min_height": null,
      "min_width": null,
      "object_fit": null,
      "object_position": null,
      "order": null,
      "overflow": null,
      "overflow_x": null,
      "overflow_y": null,
      "padding": null,
      "right": null,
      "top": null,
      "visibility": null,
      "width": null
     }
    },
    "2576ec2847d244748a28d28416fe9ac9": {
     "model_module": "@jupyter-widgets/base",
     "model_module_version": "1.2.0",
     "model_name": "LayoutModel",
     "state": {
      "_model_module": "@jupyter-widgets/base",
      "_model_module_version": "1.2.0",
      "_model_name": "LayoutModel",
      "_view_count": null,
      "_view_module": "@jupyter-widgets/base",
      "_view_module_version": "1.2.0",
      "_view_name": "LayoutView",
      "align_content": null,
      "align_items": null,
      "align_self": null,
      "border": null,
      "bottom": null,
      "display": null,
      "flex": null,
      "flex_flow": null,
      "grid_area": null,
      "grid_auto_columns": null,
      "grid_auto_flow": null,
      "grid_auto_rows": null,
      "grid_column": null,
      "grid_gap": null,
      "grid_row": null,
      "grid_template_areas": null,
      "grid_template_columns": null,
      "grid_template_rows": null,
      "height": null,
      "justify_content": null,
      "justify_items": null,
      "left": null,
      "margin": null,
      "max_height": null,
      "max_width": null,
      "min_height": null,
      "min_width": null,
      "object_fit": null,
      "object_position": null,
      "order": null,
      "overflow": null,
      "overflow_x": null,
      "overflow_y": null,
      "padding": null,
      "right": null,
      "top": null,
      "visibility": null,
      "width": null
     }
    },
    "25cbfa123c484ae7b689060394126960": {
     "model_module": "@jupyter-widgets/controls",
     "model_module_version": "1.5.0",
     "model_name": "HTMLModel",
     "state": {
      "_dom_classes": [],
      "_model_module": "@jupyter-widgets/controls",
      "_model_module_version": "1.5.0",
      "_model_name": "HTMLModel",
      "_view_count": null,
      "_view_module": "@jupyter-widgets/controls",
      "_view_module_version": "1.5.0",
      "_view_name": "HTMLView",
      "description": "",
      "description_tooltip": null,
      "layout": "IPY_MODEL_cb43b8416cb14248a0817590fe0a89f8",
      "placeholder": "​",
      "style": "IPY_MODEL_099781bc5d07424dbc462e9d8869c8d9",
      "value": " 239/239 [00:00&lt;00:00, 8.27kB/s]"
     }
    },
    "272d15fd23314b2c8a5118016ac67e47": {
     "model_module": "@jupyter-widgets/controls",
     "model_module_version": "1.5.0",
     "model_name": "DescriptionStyleModel",
     "state": {
      "_model_module": "@jupyter-widgets/controls",
      "_model_module_version": "1.5.0",
      "_model_name": "DescriptionStyleModel",
      "_view_count": null,
      "_view_module": "@jupyter-widgets/base",
      "_view_module_version": "1.2.0",
      "_view_name": "StyleView",
      "description_width": ""
     }
    },
    "292642657aa34d1a9da2ac5834646de6": {
     "model_module": "@jupyter-widgets/controls",
     "model_module_version": "1.5.0",
     "model_name": "ProgressStyleModel",
     "state": {
      "_model_module": "@jupyter-widgets/controls",
      "_model_module_version": "1.5.0",
      "_model_name": "ProgressStyleModel",
      "_view_count": null,
      "_view_module": "@jupyter-widgets/base",
      "_view_module_version": "1.2.0",
      "_view_name": "StyleView",
      "bar_color": null,
      "description_width": ""
     }
    },
    "2aeaea772e37443c9e1f6b89f0430654": {
     "model_module": "@jupyter-widgets/controls",
     "model_module_version": "1.5.0",
     "model_name": "HTMLModel",
     "state": {
      "_dom_classes": [],
      "_model_module": "@jupyter-widgets/controls",
      "_model_module_version": "1.5.0",
      "_model_name": "HTMLModel",
      "_view_count": null,
      "_view_module": "@jupyter-widgets/controls",
      "_view_module_version": "1.5.0",
      "_view_name": "HTMLView",
      "description": "",
      "description_tooltip": null,
      "layout": "IPY_MODEL_9673a84616984cf9936bc312b7679c81",
      "placeholder": "​",
      "style": "IPY_MODEL_89339560ecb54f0cb9af1549fa563d77",
      "value": " 1.88k/1.88k [00:00&lt;00:00, 46.6kB/s]"
     }
    },
    "2d4796f1cea84a488db13b6a382c962a": {
     "model_module": "@jupyter-widgets/controls",
     "model_module_version": "1.5.0",
     "model_name": "FloatProgressModel",
     "state": {
      "_dom_classes": [],
      "_model_module": "@jupyter-widgets/controls",
      "_model_module_version": "1.5.0",
      "_model_name": "FloatProgressModel",
      "_view_count": null,
      "_view_module": "@jupyter-widgets/controls",
      "_view_module_version": "1.5.0",
      "_view_name": "ProgressView",
      "bar_style": "success",
      "description": "",
      "description_tooltip": null,
      "layout": "IPY_MODEL_06f740764e144c99a5fe158c176496e9",
      "max": 798293,
      "min": 0,
      "orientation": "horizontal",
      "style": "IPY_MODEL_fe5d14c010044283a04ef2cff47244cf",
      "value": 798293
     }
    },
    "303673fc6a1040878a170a9fd4744443": {
     "model_module": "@jupyter-widgets/base",
     "model_module_version": "1.2.0",
     "model_name": "LayoutModel",
     "state": {
      "_model_module": "@jupyter-widgets/base",
      "_model_module_version": "1.2.0",
      "_model_name": "LayoutModel",
      "_view_count": null,
      "_view_module": "@jupyter-widgets/base",
      "_view_module_version": "1.2.0",
      "_view_name": "LayoutView",
      "align_content": null,
      "align_items": null,
      "align_self": null,
      "border": null,
      "bottom": null,
      "display": null,
      "flex": null,
      "flex_flow": null,
      "grid_area": null,
      "grid_auto_columns": null,
      "grid_auto_flow": null,
      "grid_auto_rows": null,
      "grid_column": null,
      "grid_gap": null,
      "grid_row": null,
      "grid_template_areas": null,
      "grid_template_columns": null,
      "grid_template_rows": null,
      "height": null,
      "justify_content": null,
      "justify_items": null,
      "left": null,
      "margin": null,
      "max_height": null,
      "max_width": null,
      "min_height": null,
      "min_width": null,
      "object_fit": null,
      "object_position": null,
      "order": null,
      "overflow": null,
      "overflow_x": null,
      "overflow_y": null,
      "padding": null,
      "right": null,
      "top": null,
      "visibility": null,
      "width": null
     }
    },
    "344f14e96ef34e9b878f4c64cf0e34e4": {
     "model_module": "@jupyter-widgets/controls",
     "model_module_version": "1.5.0",
     "model_name": "FloatProgressModel",
     "state": {
      "_dom_classes": [],
      "_model_module": "@jupyter-widgets/controls",
      "_model_module_version": "1.5.0",
      "_model_name": "FloatProgressModel",
      "_view_count": null,
      "_view_module": "@jupyter-widgets/controls",
      "_view_module_version": "1.5.0",
      "_view_name": "ProgressView",
      "bar_style": "success",
      "description": "",
      "description_tooltip": null,
      "layout": "IPY_MODEL_dc6db64c05634fb889702c4b4d0100b0",
      "max": 1302,
      "min": 0,
      "orientation": "horizontal",
      "style": "IPY_MODEL_9700a61e380342569855d2cad20b5b48",
      "value": 1302
     }
    },
    "39064d1294ec462696dca68ecde56232": {
     "model_module": "@jupyter-widgets/controls",
     "model_module_version": "1.5.0",
     "model_name": "HTMLModel",
     "state": {
      "_dom_classes": [],
      "_model_module": "@jupyter-widgets/controls",
      "_model_module_version": "1.5.0",
      "_model_name": "HTMLModel",
      "_view_count": null,
      "_view_module": "@jupyter-widgets/controls",
      "_view_module_version": "1.5.0",
      "_view_name": "HTMLView",
      "description": "",
      "description_tooltip": null,
      "layout": "IPY_MODEL_f4b620d8321043d1ac283be09984b0d8",
      "placeholder": "​",
      "style": "IPY_MODEL_62f44fcd21fa412889552074daba37de",
      "value": " 1.30k/1.30k [00:00&lt;00:00, 68.2kB/s]"
     }
    },
    "3ab8e7e516cf43bea087257937855049": {
     "model_module": "@jupyter-widgets/controls",
     "model_module_version": "1.5.0",
     "model_name": "HBoxModel",
     "state": {
      "_dom_classes": [],
      "_model_module": "@jupyter-widgets/controls",
      "_model_module_version": "1.5.0",
      "_model_name": "HBoxModel",
      "_view_count": null,
      "_view_module": "@jupyter-widgets/controls",
      "_view_module_version": "1.5.0",
      "_view_name": "HBoxView",
      "box_style": "",
      "children": [
       "IPY_MODEL_a68ea52eba4940628d1e6086cbd95729",
       "IPY_MODEL_9530b43b52e6420192f837d8e7de0ae1",
       "IPY_MODEL_c19b13d5c54f4773b6e7a7c4ecf1eda3"
      ],
      "layout": "IPY_MODEL_09aea806064a44ba87e9c8aea83b72d3"
     }
    },
    "4127bed22bd04a5396e5c311be26c026": {
     "model_module": "@jupyter-widgets/base",
     "model_module_version": "1.2.0",
     "model_name": "LayoutModel",
     "state": {
      "_model_module": "@jupyter-widgets/base",
      "_model_module_version": "1.2.0",
      "_model_name": "LayoutModel",
      "_view_count": null,
      "_view_module": "@jupyter-widgets/base",
      "_view_module_version": "1.2.0",
      "_view_name": "LayoutView",
      "align_content": null,
      "align_items": null,
      "align_self": null,
      "border": null,
      "bottom": null,
      "display": null,
      "flex": null,
      "flex_flow": null,
      "grid_area": null,
      "grid_auto_columns": null,
      "grid_auto_flow": null,
      "grid_auto_rows": null,
      "grid_column": null,
      "grid_gap": null,
      "grid_row": null,
      "grid_template_areas": null,
      "grid_template_columns": null,
      "grid_template_rows": null,
      "height": null,
      "justify_content": null,
      "justify_items": null,
      "left": null,
      "margin": null,
      "max_height": null,
      "max_width": null,
      "min_height": null,
      "min_width": null,
      "object_fit": null,
      "object_position": null,
      "order": null,
      "overflow": null,
      "overflow_x": null,
      "overflow_y": null,
      "padding": null,
      "right": null,
      "top": null,
      "visibility": null,
      "width": null
     }
    },
    "43bf4b9ce85444b7871ca85c9dbbeb4b": {
     "model_module": "@jupyter-widgets/controls",
     "model_module_version": "1.5.0",
     "model_name": "DescriptionStyleModel",
     "state": {
      "_model_module": "@jupyter-widgets/controls",
      "_model_module_version": "1.5.0",
      "_model_name": "DescriptionStyleModel",
      "_view_count": null,
      "_view_module": "@jupyter-widgets/base",
      "_view_module_version": "1.2.0",
      "_view_name": "StyleView",
      "description_width": ""
     }
    },
    "44a9c639ce03455aac66c98cda528e4a": {
     "model_module": "@jupyter-widgets/controls",
     "model_module_version": "1.5.0",
     "model_name": "HBoxModel",
     "state": {
      "_dom_classes": [],
      "_model_module": "@jupyter-widgets/controls",
      "_model_module_version": "1.5.0",
      "_model_name": "HBoxModel",
      "_view_count": null,
      "_view_module": "@jupyter-widgets/controls",
      "_view_module_version": "1.5.0",
      "_view_name": "HBoxView",
      "box_style": "",
      "children": [
       "IPY_MODEL_4deb2a317c684aa4bd5932d5e697ddca",
       "IPY_MODEL_8281b2abbb7445668b308bfaa9b06d5b",
       "IPY_MODEL_25cbfa123c484ae7b689060394126960"
      ],
      "layout": "IPY_MODEL_d49c586d8b09455191e9b88c4e40ff84"
     }
    },
    "479415bfbf6f4071b9a49b5c11490369": {
     "model_module": "@jupyter-widgets/base",
     "model_module_version": "1.2.0",
     "model_name": "LayoutModel",
     "state": {
      "_model_module": "@jupyter-widgets/base",
      "_model_module_version": "1.2.0",
      "_model_name": "LayoutModel",
      "_view_count": null,
      "_view_module": "@jupyter-widgets/base",
      "_view_module_version": "1.2.0",
      "_view_name": "LayoutView",
      "align_content": null,
      "align_items": null,
      "align_self": null,
      "border": null,
      "bottom": null,
      "display": null,
      "flex": null,
      "flex_flow": null,
      "grid_area": null,
      "grid_auto_columns": null,
      "grid_auto_flow": null,
      "grid_auto_rows": null,
      "grid_column": null,
      "grid_gap": null,
      "grid_row": null,
      "grid_template_areas": null,
      "grid_template_columns": null,
      "grid_template_rows": null,
      "height": null,
      "justify_content": null,
      "justify_items": null,
      "left": null,
      "margin": null,
      "max_height": null,
      "max_width": null,
      "min_height": null,
      "min_width": null,
      "object_fit": null,
      "object_position": null,
      "order": null,
      "overflow": null,
      "overflow_x": null,
      "overflow_y": null,
      "padding": null,
      "right": null,
      "top": null,
      "visibility": null,
      "width": null
     }
    },
    "4a1507148ffb4e858437ee92eacb1d3a": {
     "model_module": "@jupyter-widgets/base",
     "model_module_version": "1.2.0",
     "model_name": "LayoutModel",
     "state": {
      "_model_module": "@jupyter-widgets/base",
      "_model_module_version": "1.2.0",
      "_model_name": "LayoutModel",
      "_view_count": null,
      "_view_module": "@jupyter-widgets/base",
      "_view_module_version": "1.2.0",
      "_view_name": "LayoutView",
      "align_content": null,
      "align_items": null,
      "align_self": null,
      "border": null,
      "bottom": null,
      "display": null,
      "flex": null,
      "flex_flow": null,
      "grid_area": null,
      "grid_auto_columns": null,
      "grid_auto_flow": null,
      "grid_auto_rows": null,
      "grid_column": null,
      "grid_gap": null,
      "grid_row": null,
      "grid_template_areas": null,
      "grid_template_columns": null,
      "grid_template_rows": null,
      "height": null,
      "justify_content": null,
      "justify_items": null,
      "left": null,
      "margin": null,
      "max_height": null,
      "max_width": null,
      "min_height": null,
      "min_width": null,
      "object_fit": null,
      "object_position": null,
      "order": null,
      "overflow": null,
      "overflow_x": null,
      "overflow_y": null,
      "padding": null,
      "right": null,
      "top": null,
      "visibility": null,
      "width": null
     }
    },
    "4be304599deb47b2b4f263fda8b86682": {
     "model_module": "@jupyter-widgets/controls",
     "model_module_version": "1.5.0",
     "model_name": "HTMLModel",
     "state": {
      "_dom_classes": [],
      "_model_module": "@jupyter-widgets/controls",
      "_model_module_version": "1.5.0",
      "_model_name": "HTMLModel",
      "_view_count": null,
      "_view_module": "@jupyter-widgets/controls",
      "_view_module_version": "1.5.0",
      "_view_name": "HTMLView",
      "description": "",
      "description_tooltip": null,
      "layout": "IPY_MODEL_618c0c8b00244b799c99e86617e4cb92",
      "placeholder": "​",
      "style": "IPY_MODEL_b17ac0561a954e8f998e7db6f92b2950",
      "value": "Downloading (…)olve/main/merges.txt: 100%"
     }
    },
    "4deb2a317c684aa4bd5932d5e697ddca": {
     "model_module": "@jupyter-widgets/controls",
     "model_module_version": "1.5.0",
     "model_name": "HTMLModel",
     "state": {
      "_dom_classes": [],
      "_model_module": "@jupyter-widgets/controls",
      "_model_module_version": "1.5.0",
      "_model_name": "HTMLModel",
      "_view_count": null,
      "_view_module": "@jupyter-widgets/controls",
      "_view_module_version": "1.5.0",
      "_view_name": "HTMLView",
      "description": "",
      "description_tooltip": null,
      "layout": "IPY_MODEL_4127bed22bd04a5396e5c311be26c026",
      "placeholder": "​",
      "style": "IPY_MODEL_272d15fd23314b2c8a5118016ac67e47",
      "value": "Downloading (…)cial_tokens_map.json: 100%"
     }
    },
    "4fbdd9bd6af54fadb0845c7ef2173728": {
     "model_module": "@jupyter-widgets/controls",
     "model_module_version": "1.5.0",
     "model_name": "FloatProgressModel",
     "state": {
      "_dom_classes": [],
      "_model_module": "@jupyter-widgets/controls",
      "_model_module_version": "1.5.0",
      "_model_name": "FloatProgressModel",
      "_view_count": null,
      "_view_module": "@jupyter-widgets/controls",
      "_view_module_version": "1.5.0",
      "_view_name": "ProgressView",
      "bar_style": "success",
      "description": "",
      "description_tooltip": null,
      "layout": "IPY_MODEL_0e1d06970864441e8c2dbcbf69f0aaad",
      "max": 498723565,
      "min": 0,
      "orientation": "horizontal",
      "style": "IPY_MODEL_8afb972f58e041a782bb4cd79860fc03",
      "value": 498723565
     }
    },
    "524ea0e67f554587a1bb6046538dffa3": {
     "model_module": "@jupyter-widgets/controls",
     "model_module_version": "1.5.0",
     "model_name": "DescriptionStyleModel",
     "state": {
      "_model_module": "@jupyter-widgets/controls",
      "_model_module_version": "1.5.0",
      "_model_name": "DescriptionStyleModel",
      "_view_count": null,
      "_view_module": "@jupyter-widgets/base",
      "_view_module_version": "1.2.0",
      "_view_name": "StyleView",
      "description_width": ""
     }
    },
    "54ba35a42ce241ef8c9a3919e4487e31": {
     "model_module": "@jupyter-widgets/controls",
     "model_module_version": "1.5.0",
     "model_name": "HBoxModel",
     "state": {
      "_dom_classes": [],
      "_model_module": "@jupyter-widgets/controls",
      "_model_module_version": "1.5.0",
      "_model_name": "HBoxModel",
      "_view_count": null,
      "_view_module": "@jupyter-widgets/controls",
      "_view_module_version": "1.5.0",
      "_view_name": "HBoxView",
      "box_style": "",
      "children": [
       "IPY_MODEL_d1f6101771884c9eae772bb6cc501878",
       "IPY_MODEL_4fbdd9bd6af54fadb0845c7ef2173728",
       "IPY_MODEL_7853f73b0fbe4823a7efd5ceeef891de"
      ],
      "layout": "IPY_MODEL_c197b87159c2479e8d4619b86a4976b8"
     }
    },
    "5865b69c8e0f409eb5c36847a2a9171c": {
     "model_module": "@jupyter-widgets/base",
     "model_module_version": "1.2.0",
     "model_name": "LayoutModel",
     "state": {
      "_model_module": "@jupyter-widgets/base",
      "_model_module_version": "1.2.0",
      "_model_name": "LayoutModel",
      "_view_count": null,
      "_view_module": "@jupyter-widgets/base",
      "_view_module_version": "1.2.0",
      "_view_name": "LayoutView",
      "align_content": null,
      "align_items": null,
      "align_self": null,
      "border": null,
      "bottom": null,
      "display": null,
      "flex": null,
      "flex_flow": null,
      "grid_area": null,
      "grid_auto_columns": null,
      "grid_auto_flow": null,
      "grid_auto_rows": null,
      "grid_column": null,
      "grid_gap": null,
      "grid_row": null,
      "grid_template_areas": null,
      "grid_template_columns": null,
      "grid_template_rows": null,
      "height": null,
      "justify_content": null,
      "justify_items": null,
      "left": null,
      "margin": null,
      "max_height": null,
      "max_width": null,
      "min_height": null,
      "min_width": null,
      "object_fit": null,
      "object_position": null,
      "order": null,
      "overflow": null,
      "overflow_x": null,
      "overflow_y": null,
      "padding": null,
      "right": null,
      "top": null,
      "visibility": null,
      "width": null
     }
    },
    "618c0c8b00244b799c99e86617e4cb92": {
     "model_module": "@jupyter-widgets/base",
     "model_module_version": "1.2.0",
     "model_name": "LayoutModel",
     "state": {
      "_model_module": "@jupyter-widgets/base",
      "_model_module_version": "1.2.0",
      "_model_name": "LayoutModel",
      "_view_count": null,
      "_view_module": "@jupyter-widgets/base",
      "_view_module_version": "1.2.0",
      "_view_name": "LayoutView",
      "align_content": null,
      "align_items": null,
      "align_self": null,
      "border": null,
      "bottom": null,
      "display": null,
      "flex": null,
      "flex_flow": null,
      "grid_area": null,
      "grid_auto_columns": null,
      "grid_auto_flow": null,
      "grid_auto_rows": null,
      "grid_column": null,
      "grid_gap": null,
      "grid_row": null,
      "grid_template_areas": null,
      "grid_template_columns": null,
      "grid_template_rows": null,
      "height": null,
      "justify_content": null,
      "justify_items": null,
      "left": null,
      "margin": null,
      "max_height": null,
      "max_width": null,
      "min_height": null,
      "min_width": null,
      "object_fit": null,
      "object_position": null,
      "order": null,
      "overflow": null,
      "overflow_x": null,
      "overflow_y": null,
      "padding": null,
      "right": null,
      "top": null,
      "visibility": null,
      "width": null
     }
    },
    "62f44fcd21fa412889552074daba37de": {
     "model_module": "@jupyter-widgets/controls",
     "model_module_version": "1.5.0",
     "model_name": "DescriptionStyleModel",
     "state": {
      "_model_module": "@jupyter-widgets/controls",
      "_model_module_version": "1.5.0",
      "_model_name": "DescriptionStyleModel",
      "_view_count": null,
      "_view_module": "@jupyter-widgets/base",
      "_view_module_version": "1.2.0",
      "_view_name": "StyleView",
      "description_width": ""
     }
    },
    "6f28c30d2d2a4d92ae1a8486f37be874": {
     "model_module": "@jupyter-widgets/base",
     "model_module_version": "1.2.0",
     "model_name": "LayoutModel",
     "state": {
      "_model_module": "@jupyter-widgets/base",
      "_model_module_version": "1.2.0",
      "_model_name": "LayoutModel",
      "_view_count": null,
      "_view_module": "@jupyter-widgets/base",
      "_view_module_version": "1.2.0",
      "_view_name": "LayoutView",
      "align_content": null,
      "align_items": null,
      "align_self": null,
      "border": null,
      "bottom": null,
      "display": null,
      "flex": null,
      "flex_flow": null,
      "grid_area": null,
      "grid_auto_columns": null,
      "grid_auto_flow": null,
      "grid_auto_rows": null,
      "grid_column": null,
      "grid_gap": null,
      "grid_row": null,
      "grid_template_areas": null,
      "grid_template_columns": null,
      "grid_template_rows": null,
      "height": null,
      "justify_content": null,
      "justify_items": null,
      "left": null,
      "margin": null,
      "max_height": null,
      "max_width": null,
      "min_height": null,
      "min_width": null,
      "object_fit": null,
      "object_position": null,
      "order": null,
      "overflow": null,
      "overflow_x": null,
      "overflow_y": null,
      "padding": null,
      "right": null,
      "top": null,
      "visibility": null,
      "width": null
     }
    },
    "75598569c20f44f48a451e5466e37db0": {
     "model_module": "@jupyter-widgets/controls",
     "model_module_version": "1.5.0",
     "model_name": "HTMLModel",
     "state": {
      "_dom_classes": [],
      "_model_module": "@jupyter-widgets/controls",
      "_model_module_version": "1.5.0",
      "_model_name": "HTMLModel",
      "_view_count": null,
      "_view_module": "@jupyter-widgets/controls",
      "_view_module_version": "1.5.0",
      "_view_name": "HTMLView",
      "description": "",
      "description_tooltip": null,
      "layout": "IPY_MODEL_e432396b8356485299845c8ff4782a39",
      "placeholder": "​",
      "style": "IPY_MODEL_abb3256e475b492d8310b7a4925d1943",
      "value": " 456k/456k [00:00&lt;00:00, 6.86MB/s]"
     }
    },
    "7853f73b0fbe4823a7efd5ceeef891de": {
     "model_module": "@jupyter-widgets/controls",
     "model_module_version": "1.5.0",
     "model_name": "HTMLModel",
     "state": {
      "_dom_classes": [],
      "_model_module": "@jupyter-widgets/controls",
      "_model_module_version": "1.5.0",
      "_model_name": "HTMLModel",
      "_view_count": null,
      "_view_module": "@jupyter-widgets/controls",
      "_view_module_version": "1.5.0",
      "_view_name": "HTMLView",
      "description": "",
      "description_tooltip": null,
      "layout": "IPY_MODEL_2576ec2847d244748a28d28416fe9ac9",
      "placeholder": "​",
      "style": "IPY_MODEL_43bf4b9ce85444b7871ca85c9dbbeb4b",
      "value": " 499M/499M [00:03&lt;00:00, 137MB/s]"
     }
    },
    "7b97a2d5335f429c85c381fdcd4fdf24": {
     "model_module": "@jupyter-widgets/controls",
     "model_module_version": "1.5.0",
     "model_name": "HBoxModel",
     "state": {
      "_dom_classes": [],
      "_model_module": "@jupyter-widgets/controls",
      "_model_module_version": "1.5.0",
      "_model_name": "HBoxModel",
      "_view_count": null,
      "_view_module": "@jupyter-widgets/controls",
      "_view_module_version": "1.5.0",
      "_view_name": "HBoxView",
      "box_style": "",
      "children": [
       "IPY_MODEL_bde767489bf841e39a9fcc7a56f2658f",
       "IPY_MODEL_2d4796f1cea84a488db13b6a382c962a",
       "IPY_MODEL_07512e9016fa441797c9ba7d35ecabdf"
      ],
      "layout": "IPY_MODEL_82516f69bc3d401b8801de5f5dd196e1"
     }
    },
    "810d4bebf5ec46308ca50308b9202730": {
     "model_module": "@jupyter-widgets/controls",
     "model_module_version": "1.5.0",
     "model_name": "DescriptionStyleModel",
     "state": {
      "_model_module": "@jupyter-widgets/controls",
      "_model_module_version": "1.5.0",
      "_model_name": "DescriptionStyleModel",
      "_view_count": null,
      "_view_module": "@jupyter-widgets/base",
      "_view_module_version": "1.2.0",
      "_view_name": "StyleView",
      "description_width": ""
     }
    },
    "82516f69bc3d401b8801de5f5dd196e1": {
     "model_module": "@jupyter-widgets/base",
     "model_module_version": "1.2.0",
     "model_name": "LayoutModel",
     "state": {
      "_model_module": "@jupyter-widgets/base",
      "_model_module_version": "1.2.0",
      "_model_name": "LayoutModel",
      "_view_count": null,
      "_view_module": "@jupyter-widgets/base",
      "_view_module_version": "1.2.0",
      "_view_name": "LayoutView",
      "align_content": null,
      "align_items": null,
      "align_self": null,
      "border": null,
      "bottom": null,
      "display": null,
      "flex": null,
      "flex_flow": null,
      "grid_area": null,
      "grid_auto_columns": null,
      "grid_auto_flow": null,
      "grid_auto_rows": null,
      "grid_column": null,
      "grid_gap": null,
      "grid_row": null,
      "grid_template_areas": null,
      "grid_template_columns": null,
      "grid_template_rows": null,
      "height": null,
      "justify_content": null,
      "justify_items": null,
      "left": null,
      "margin": null,
      "max_height": null,
      "max_width": null,
      "min_height": null,
      "min_width": null,
      "object_fit": null,
      "object_position": null,
      "order": null,
      "overflow": null,
      "overflow_x": null,
      "overflow_y": null,
      "padding": null,
      "right": null,
      "top": null,
      "visibility": null,
      "width": null
     }
    },
    "8281b2abbb7445668b308bfaa9b06d5b": {
     "model_module": "@jupyter-widgets/controls",
     "model_module_version": "1.5.0",
     "model_name": "FloatProgressModel",
     "state": {
      "_dom_classes": [],
      "_model_module": "@jupyter-widgets/controls",
      "_model_module_version": "1.5.0",
      "_model_name": "FloatProgressModel",
      "_view_count": null,
      "_view_module": "@jupyter-widgets/controls",
      "_view_module_version": "1.5.0",
      "_view_name": "ProgressView",
      "bar_style": "success",
      "description": "",
      "description_tooltip": null,
      "layout": "IPY_MODEL_240b50b0bd3a4caaa51f577993b883d9",
      "max": 239,
      "min": 0,
      "orientation": "horizontal",
      "style": "IPY_MODEL_bb4f57dcc9cb49acbd8456a69ce64356",
      "value": 239
     }
    },
    "86907dd5d916415385a320fbed4480c4": {
     "model_module": "@jupyter-widgets/base",
     "model_module_version": "1.2.0",
     "model_name": "LayoutModel",
     "state": {
      "_model_module": "@jupyter-widgets/base",
      "_model_module_version": "1.2.0",
      "_model_name": "LayoutModel",
      "_view_count": null,
      "_view_module": "@jupyter-widgets/base",
      "_view_module_version": "1.2.0",
      "_view_name": "LayoutView",
      "align_content": null,
      "align_items": null,
      "align_self": null,
      "border": null,
      "bottom": null,
      "display": null,
      "flex": null,
      "flex_flow": null,
      "grid_area": null,
      "grid_auto_columns": null,
      "grid_auto_flow": null,
      "grid_auto_rows": null,
      "grid_column": null,
      "grid_gap": null,
      "grid_row": null,
      "grid_template_areas": null,
      "grid_template_columns": null,
      "grid_template_rows": null,
      "height": null,
      "justify_content": null,
      "justify_items": null,
      "left": null,
      "margin": null,
      "max_height": null,
      "max_width": null,
      "min_height": null,
      "min_width": null,
      "object_fit": null,
      "object_position": null,
      "order": null,
      "overflow": null,
      "overflow_x": null,
      "overflow_y": null,
      "padding": null,
      "right": null,
      "top": null,
      "visibility": null,
      "width": null
     }
    },
    "89339560ecb54f0cb9af1549fa563d77": {
     "model_module": "@jupyter-widgets/controls",
     "model_module_version": "1.5.0",
     "model_name": "DescriptionStyleModel",
     "state": {
      "_model_module": "@jupyter-widgets/controls",
      "_model_module_version": "1.5.0",
      "_model_name": "DescriptionStyleModel",
      "_view_count": null,
      "_view_module": "@jupyter-widgets/base",
      "_view_module_version": "1.2.0",
      "_view_name": "StyleView",
      "description_width": ""
     }
    },
    "8afb972f58e041a782bb4cd79860fc03": {
     "model_module": "@jupyter-widgets/controls",
     "model_module_version": "1.5.0",
     "model_name": "ProgressStyleModel",
     "state": {
      "_model_module": "@jupyter-widgets/controls",
      "_model_module_version": "1.5.0",
      "_model_name": "ProgressStyleModel",
      "_view_count": null,
      "_view_module": "@jupyter-widgets/base",
      "_view_module_version": "1.2.0",
      "_view_name": "StyleView",
      "bar_color": null,
      "description_width": ""
     }
    },
    "9530b43b52e6420192f837d8e7de0ae1": {
     "model_module": "@jupyter-widgets/controls",
     "model_module_version": "1.5.0",
     "model_name": "FloatProgressModel",
     "state": {
      "_dom_classes": [],
      "_model_module": "@jupyter-widgets/controls",
      "_model_module_version": "1.5.0",
      "_model_name": "FloatProgressModel",
      "_view_count": null,
      "_view_module": "@jupyter-widgets/controls",
      "_view_module_version": "1.5.0",
      "_view_name": "ProgressView",
      "bar_style": "success",
      "description": "",
      "description_tooltip": null,
      "layout": "IPY_MODEL_e1d34b0652714f84b1b3e207d9440032",
      "max": 1355881,
      "min": 0,
      "orientation": "horizontal",
      "style": "IPY_MODEL_1d0a042f8af740bf8bf666bef3a309ad",
      "value": 1355881
     }
    },
    "9673a84616984cf9936bc312b7679c81": {
     "model_module": "@jupyter-widgets/base",
     "model_module_version": "1.2.0",
     "model_name": "LayoutModel",
     "state": {
      "_model_module": "@jupyter-widgets/base",
      "_model_module_version": "1.2.0",
      "_model_name": "LayoutModel",
      "_view_count": null,
      "_view_module": "@jupyter-widgets/base",
      "_view_module_version": "1.2.0",
      "_view_name": "LayoutView",
      "align_content": null,
      "align_items": null,
      "align_self": null,
      "border": null,
      "bottom": null,
      "display": null,
      "flex": null,
      "flex_flow": null,
      "grid_area": null,
      "grid_auto_columns": null,
      "grid_auto_flow": null,
      "grid_auto_rows": null,
      "grid_column": null,
      "grid_gap": null,
      "grid_row": null,
      "grid_template_areas": null,
      "grid_template_columns": null,
      "grid_template_rows": null,
      "height": null,
      "justify_content": null,
      "justify_items": null,
      "left": null,
      "margin": null,
      "max_height": null,
      "max_width": null,
      "min_height": null,
      "min_width": null,
      "object_fit": null,
      "object_position": null,
      "order": null,
      "overflow": null,
      "overflow_x": null,
      "overflow_y": null,
      "padding": null,
      "right": null,
      "top": null,
      "visibility": null,
      "width": null
     }
    },
    "9700a61e380342569855d2cad20b5b48": {
     "model_module": "@jupyter-widgets/controls",
     "model_module_version": "1.5.0",
     "model_name": "ProgressStyleModel",
     "state": {
      "_model_module": "@jupyter-widgets/controls",
      "_model_module_version": "1.5.0",
      "_model_name": "ProgressStyleModel",
      "_view_count": null,
      "_view_module": "@jupyter-widgets/base",
      "_view_module_version": "1.2.0",
      "_view_name": "StyleView",
      "bar_color": null,
      "description_width": ""
     }
    },
    "9ee34147f34b4947a6c663575a3b18c7": {
     "model_module": "@jupyter-widgets/base",
     "model_module_version": "1.2.0",
     "model_name": "LayoutModel",
     "state": {
      "_model_module": "@jupyter-widgets/base",
      "_model_module_version": "1.2.0",
      "_model_name": "LayoutModel",
      "_view_count": null,
      "_view_module": "@jupyter-widgets/base",
      "_view_module_version": "1.2.0",
      "_view_name": "LayoutView",
      "align_content": null,
      "align_items": null,
      "align_self": null,
      "border": null,
      "bottom": null,
      "display": null,
      "flex": null,
      "flex_flow": null,
      "grid_area": null,
      "grid_auto_columns": null,
      "grid_auto_flow": null,
      "grid_auto_rows": null,
      "grid_column": null,
      "grid_gap": null,
      "grid_row": null,
      "grid_template_areas": null,
      "grid_template_columns": null,
      "grid_template_rows": null,
      "height": null,
      "justify_content": null,
      "justify_items": null,
      "left": null,
      "margin": null,
      "max_height": null,
      "max_width": null,
      "min_height": null,
      "min_width": null,
      "object_fit": null,
      "object_position": null,
      "order": null,
      "overflow": null,
      "overflow_x": null,
      "overflow_y": null,
      "padding": null,
      "right": null,
      "top": null,
      "visibility": null,
      "width": null
     }
    },
    "a68ea52eba4940628d1e6086cbd95729": {
     "model_module": "@jupyter-widgets/controls",
     "model_module_version": "1.5.0",
     "model_name": "HTMLModel",
     "state": {
      "_dom_classes": [],
      "_model_module": "@jupyter-widgets/controls",
      "_model_module_version": "1.5.0",
      "_model_name": "HTMLModel",
      "_view_count": null,
      "_view_module": "@jupyter-widgets/controls",
      "_view_module_version": "1.5.0",
      "_view_name": "HTMLView",
      "description": "",
      "description_tooltip": null,
      "layout": "IPY_MODEL_4a1507148ffb4e858437ee92eacb1d3a",
      "placeholder": "​",
      "style": "IPY_MODEL_524ea0e67f554587a1bb6046538dffa3",
      "value": "Downloading (…)/main/tokenizer.json: 100%"
     }
    },
    "abb3256e475b492d8310b7a4925d1943": {
     "model_module": "@jupyter-widgets/controls",
     "model_module_version": "1.5.0",
     "model_name": "DescriptionStyleModel",
     "state": {
      "_model_module": "@jupyter-widgets/controls",
      "_model_module_version": "1.5.0",
      "_model_name": "DescriptionStyleModel",
      "_view_count": null,
      "_view_module": "@jupyter-widgets/base",
      "_view_module_version": "1.2.0",
      "_view_name": "StyleView",
      "description_width": ""
     }
    },
    "abbff6429f1b473885dbc56944fe6f18": {
     "model_module": "@jupyter-widgets/controls",
     "model_module_version": "1.5.0",
     "model_name": "HTMLModel",
     "state": {
      "_dom_classes": [],
      "_model_module": "@jupyter-widgets/controls",
      "_model_module_version": "1.5.0",
      "_model_name": "HTMLModel",
      "_view_count": null,
      "_view_module": "@jupyter-widgets/controls",
      "_view_module_version": "1.5.0",
      "_view_name": "HTMLView",
      "description": "",
      "description_tooltip": null,
      "layout": "IPY_MODEL_0ae36abd40944afb8752a306608f2410",
      "placeholder": "​",
      "style": "IPY_MODEL_f92f69d22def4cd681728c5917fc4db5",
      "value": "Downloading (…)okenizer_config.json: 100%"
     }
    },
    "acf1f458108f4416abd3a10f063cd39c": {
     "model_module": "@jupyter-widgets/base",
     "model_module_version": "1.2.0",
     "model_name": "LayoutModel",
     "state": {
      "_model_module": "@jupyter-widgets/base",
      "_model_module_version": "1.2.0",
      "_model_name": "LayoutModel",
      "_view_count": null,
      "_view_module": "@jupyter-widgets/base",
      "_view_module_version": "1.2.0",
      "_view_name": "LayoutView",
      "align_content": null,
      "align_items": null,
      "align_self": null,
      "border": null,
      "bottom": null,
      "display": null,
      "flex": null,
      "flex_flow": null,
      "grid_area": null,
      "grid_auto_columns": null,
      "grid_auto_flow": null,
      "grid_auto_rows": null,
      "grid_column": null,
      "grid_gap": null,
      "grid_row": null,
      "grid_template_areas": null,
      "grid_template_columns": null,
      "grid_template_rows": null,
      "height": null,
      "justify_content": null,
      "justify_items": null,
      "left": null,
      "margin": null,
      "max_height": null,
      "max_width": null,
      "min_height": null,
      "min_width": null,
      "object_fit": null,
      "object_position": null,
      "order": null,
      "overflow": null,
      "overflow_x": null,
      "overflow_y": null,
      "padding": null,
      "right": null,
      "top": null,
      "visibility": null,
      "width": null
     }
    },
    "b17ac0561a954e8f998e7db6f92b2950": {
     "model_module": "@jupyter-widgets/controls",
     "model_module_version": "1.5.0",
     "model_name": "DescriptionStyleModel",
     "state": {
      "_model_module": "@jupyter-widgets/controls",
      "_model_module_version": "1.5.0",
      "_model_name": "DescriptionStyleModel",
      "_view_count": null,
      "_view_module": "@jupyter-widgets/base",
      "_view_module_version": "1.2.0",
      "_view_name": "StyleView",
      "description_width": ""
     }
    },
    "b8e8a17f6c6b4a8b90edd81a3239765a": {
     "model_module": "@jupyter-widgets/controls",
     "model_module_version": "1.5.0",
     "model_name": "DescriptionStyleModel",
     "state": {
      "_model_module": "@jupyter-widgets/controls",
      "_model_module_version": "1.5.0",
      "_model_name": "DescriptionStyleModel",
      "_view_count": null,
      "_view_module": "@jupyter-widgets/base",
      "_view_module_version": "1.2.0",
      "_view_name": "StyleView",
      "description_width": ""
     }
    },
    "bb4f57dcc9cb49acbd8456a69ce64356": {
     "model_module": "@jupyter-widgets/controls",
     "model_module_version": "1.5.0",
     "model_name": "ProgressStyleModel",
     "state": {
      "_model_module": "@jupyter-widgets/controls",
      "_model_module_version": "1.5.0",
      "_model_name": "ProgressStyleModel",
      "_view_count": null,
      "_view_module": "@jupyter-widgets/base",
      "_view_module_version": "1.2.0",
      "_view_name": "StyleView",
      "bar_color": null,
      "description_width": ""
     }
    },
    "bde767489bf841e39a9fcc7a56f2658f": {
     "model_module": "@jupyter-widgets/controls",
     "model_module_version": "1.5.0",
     "model_name": "HTMLModel",
     "state": {
      "_dom_classes": [],
      "_model_module": "@jupyter-widgets/controls",
      "_model_module_version": "1.5.0",
      "_model_name": "HTMLModel",
      "_view_count": null,
      "_view_module": "@jupyter-widgets/controls",
      "_view_module_version": "1.5.0",
      "_view_name": "HTMLView",
      "description": "",
      "description_tooltip": null,
      "layout": "IPY_MODEL_d914af41d7cb45cda45ddfb665e13b7d",
      "placeholder": "​",
      "style": "IPY_MODEL_0c961d8efe0240a1ae400b99ed994d59",
      "value": "Downloading (…)olve/main/vocab.json: 100%"
     }
    },
    "c197b87159c2479e8d4619b86a4976b8": {
     "model_module": "@jupyter-widgets/base",
     "model_module_version": "1.2.0",
     "model_name": "LayoutModel",
     "state": {
      "_model_module": "@jupyter-widgets/base",
      "_model_module_version": "1.2.0",
      "_model_name": "LayoutModel",
      "_view_count": null,
      "_view_module": "@jupyter-widgets/base",
      "_view_module_version": "1.2.0",
      "_view_name": "LayoutView",
      "align_content": null,
      "align_items": null,
      "align_self": null,
      "border": null,
      "bottom": null,
      "display": null,
      "flex": null,
      "flex_flow": null,
      "grid_area": null,
      "grid_auto_columns": null,
      "grid_auto_flow": null,
      "grid_auto_rows": null,
      "grid_column": null,
      "grid_gap": null,
      "grid_row": null,
      "grid_template_areas": null,
      "grid_template_columns": null,
      "grid_template_rows": null,
      "height": null,
      "justify_content": null,
      "justify_items": null,
      "left": null,
      "margin": null,
      "max_height": null,
      "max_width": null,
      "min_height": null,
      "min_width": null,
      "object_fit": null,
      "object_position": null,
      "order": null,
      "overflow": null,
      "overflow_x": null,
      "overflow_y": null,
      "padding": null,
      "right": null,
      "top": null,
      "visibility": null,
      "width": null
     }
    },
    "c19b13d5c54f4773b6e7a7c4ecf1eda3": {
     "model_module": "@jupyter-widgets/controls",
     "model_module_version": "1.5.0",
     "model_name": "HTMLModel",
     "state": {
      "_dom_classes": [],
      "_model_module": "@jupyter-widgets/controls",
      "_model_module_version": "1.5.0",
      "_model_name": "HTMLModel",
      "_view_count": null,
      "_view_module": "@jupyter-widgets/controls",
      "_view_module_version": "1.5.0",
      "_view_name": "HTMLView",
      "description": "",
      "description_tooltip": null,
      "layout": "IPY_MODEL_6f28c30d2d2a4d92ae1a8486f37be874",
      "placeholder": "​",
      "style": "IPY_MODEL_17d502304ff44493b799bfaada4291ad",
      "value": " 1.36M/1.36M [00:00&lt;00:00, 15.0MB/s]"
     }
    },
    "c8556566d20a4cf8804429aea7fe963a": {
     "model_module": "@jupyter-widgets/controls",
     "model_module_version": "1.5.0",
     "model_name": "HBoxModel",
     "state": {
      "_dom_classes": [],
      "_model_module": "@jupyter-widgets/controls",
      "_model_module_version": "1.5.0",
      "_model_name": "HBoxModel",
      "_view_count": null,
      "_view_module": "@jupyter-widgets/controls",
      "_view_module_version": "1.5.0",
      "_view_name": "HBoxView",
      "box_style": "",
      "children": [
       "IPY_MODEL_4be304599deb47b2b4f263fda8b86682",
       "IPY_MODEL_18b15df8474444e7aeadf867ea815bbc",
       "IPY_MODEL_75598569c20f44f48a451e5466e37db0"
      ],
      "layout": "IPY_MODEL_5865b69c8e0f409eb5c36847a2a9171c"
     }
    },
    "cb43b8416cb14248a0817590fe0a89f8": {
     "model_module": "@jupyter-widgets/base",
     "model_module_version": "1.2.0",
     "model_name": "LayoutModel",
     "state": {
      "_model_module": "@jupyter-widgets/base",
      "_model_module_version": "1.2.0",
      "_model_name": "LayoutModel",
      "_view_count": null,
      "_view_module": "@jupyter-widgets/base",
      "_view_module_version": "1.2.0",
      "_view_name": "LayoutView",
      "align_content": null,
      "align_items": null,
      "align_self": null,
      "border": null,
      "bottom": null,
      "display": null,
      "flex": null,
      "flex_flow": null,
      "grid_area": null,
      "grid_auto_columns": null,
      "grid_auto_flow": null,
      "grid_auto_rows": null,
      "grid_column": null,
      "grid_gap": null,
      "grid_row": null,
      "grid_template_areas": null,
      "grid_template_columns": null,
      "grid_template_rows": null,
      "height": null,
      "justify_content": null,
      "justify_items": null,
      "left": null,
      "margin": null,
      "max_height": null,
      "max_width": null,
      "min_height": null,
      "min_width": null,
      "object_fit": null,
      "object_position": null,
      "order": null,
      "overflow": null,
      "overflow_x": null,
      "overflow_y": null,
      "padding": null,
      "right": null,
      "top": null,
      "visibility": null,
      "width": null
     }
    },
    "ceb4fa2559724b4596a04708571cabb6": {
     "model_module": "@jupyter-widgets/controls",
     "model_module_version": "1.5.0",
     "model_name": "HBoxModel",
     "state": {
      "_dom_classes": [],
      "_model_module": "@jupyter-widgets/controls",
      "_model_module_version": "1.5.0",
      "_model_name": "HBoxModel",
      "_view_count": null,
      "_view_module": "@jupyter-widgets/controls",
      "_view_module_version": "1.5.0",
      "_view_name": "HBoxView",
      "box_style": "",
      "children": [
       "IPY_MODEL_abbff6429f1b473885dbc56944fe6f18",
       "IPY_MODEL_344f14e96ef34e9b878f4c64cf0e34e4",
       "IPY_MODEL_39064d1294ec462696dca68ecde56232"
      ],
      "layout": "IPY_MODEL_9ee34147f34b4947a6c663575a3b18c7"
     }
    },
    "d1f6101771884c9eae772bb6cc501878": {
     "model_module": "@jupyter-widgets/controls",
     "model_module_version": "1.5.0",
     "model_name": "HTMLModel",
     "state": {
      "_dom_classes": [],
      "_model_module": "@jupyter-widgets/controls",
      "_model_module_version": "1.5.0",
      "_model_name": "HTMLModel",
      "_view_count": null,
      "_view_module": "@jupyter-widgets/controls",
      "_view_module_version": "1.5.0",
      "_view_name": "HTMLView",
      "description": "",
      "description_tooltip": null,
      "layout": "IPY_MODEL_303673fc6a1040878a170a9fd4744443",
      "placeholder": "​",
      "style": "IPY_MODEL_810d4bebf5ec46308ca50308b9202730",
      "value": "Downloading pytorch_model.bin: 100%"
     }
    },
    "d49c586d8b09455191e9b88c4e40ff84": {
     "model_module": "@jupyter-widgets/base",
     "model_module_version": "1.2.0",
     "model_name": "LayoutModel",
     "state": {
      "_model_module": "@jupyter-widgets/base",
      "_model_module_version": "1.2.0",
      "_model_name": "LayoutModel",
      "_view_count": null,
      "_view_module": "@jupyter-widgets/base",
      "_view_module_version": "1.2.0",
      "_view_name": "LayoutView",
      "align_content": null,
      "align_items": null,
      "align_self": null,
      "border": null,
      "bottom": null,
      "display": null,
      "flex": null,
      "flex_flow": null,
      "grid_area": null,
      "grid_auto_columns": null,
      "grid_auto_flow": null,
      "grid_auto_rows": null,
      "grid_column": null,
      "grid_gap": null,
      "grid_row": null,
      "grid_template_areas": null,
      "grid_template_columns": null,
      "grid_template_rows": null,
      "height": null,
      "justify_content": null,
      "justify_items": null,
      "left": null,
      "margin": null,
      "max_height": null,
      "max_width": null,
      "min_height": null,
      "min_width": null,
      "object_fit": null,
      "object_position": null,
      "order": null,
      "overflow": null,
      "overflow_x": null,
      "overflow_y": null,
      "padding": null,
      "right": null,
      "top": null,
      "visibility": null,
      "width": null
     }
    },
    "d914af41d7cb45cda45ddfb665e13b7d": {
     "model_module": "@jupyter-widgets/base",
     "model_module_version": "1.2.0",
     "model_name": "LayoutModel",
     "state": {
      "_model_module": "@jupyter-widgets/base",
      "_model_module_version": "1.2.0",
      "_model_name": "LayoutModel",
      "_view_count": null,
      "_view_module": "@jupyter-widgets/base",
      "_view_module_version": "1.2.0",
      "_view_name": "LayoutView",
      "align_content": null,
      "align_items": null,
      "align_self": null,
      "border": null,
      "bottom": null,
      "display": null,
      "flex": null,
      "flex_flow": null,
      "grid_area": null,
      "grid_auto_columns": null,
      "grid_auto_flow": null,
      "grid_auto_rows": null,
      "grid_column": null,
      "grid_gap": null,
      "grid_row": null,
      "grid_template_areas": null,
      "grid_template_columns": null,
      "grid_template_rows": null,
      "height": null,
      "justify_content": null,
      "justify_items": null,
      "left": null,
      "margin": null,
      "max_height": null,
      "max_width": null,
      "min_height": null,
      "min_width": null,
      "object_fit": null,
      "object_position": null,
      "order": null,
      "overflow": null,
      "overflow_x": null,
      "overflow_y": null,
      "padding": null,
      "right": null,
      "top": null,
      "visibility": null,
      "width": null
     }
    },
    "dc6db64c05634fb889702c4b4d0100b0": {
     "model_module": "@jupyter-widgets/base",
     "model_module_version": "1.2.0",
     "model_name": "LayoutModel",
     "state": {
      "_model_module": "@jupyter-widgets/base",
      "_model_module_version": "1.2.0",
      "_model_name": "LayoutModel",
      "_view_count": null,
      "_view_module": "@jupyter-widgets/base",
      "_view_module_version": "1.2.0",
      "_view_name": "LayoutView",
      "align_content": null,
      "align_items": null,
      "align_self": null,
      "border": null,
      "bottom": null,
      "display": null,
      "flex": null,
      "flex_flow": null,
      "grid_area": null,
      "grid_auto_columns": null,
      "grid_auto_flow": null,
      "grid_auto_rows": null,
      "grid_column": null,
      "grid_gap": null,
      "grid_row": null,
      "grid_template_areas": null,
      "grid_template_columns": null,
      "grid_template_rows": null,
      "height": null,
      "justify_content": null,
      "justify_items": null,
      "left": null,
      "margin": null,
      "max_height": null,
      "max_width": null,
      "min_height": null,
      "min_width": null,
      "object_fit": null,
      "object_position": null,
      "order": null,
      "overflow": null,
      "overflow_x": null,
      "overflow_y": null,
      "padding": null,
      "right": null,
      "top": null,
      "visibility": null,
      "width": null
     }
    },
    "e1d34b0652714f84b1b3e207d9440032": {
     "model_module": "@jupyter-widgets/base",
     "model_module_version": "1.2.0",
     "model_name": "LayoutModel",
     "state": {
      "_model_module": "@jupyter-widgets/base",
      "_model_module_version": "1.2.0",
      "_model_name": "LayoutModel",
      "_view_count": null,
      "_view_module": "@jupyter-widgets/base",
      "_view_module_version": "1.2.0",
      "_view_name": "LayoutView",
      "align_content": null,
      "align_items": null,
      "align_self": null,
      "border": null,
      "bottom": null,
      "display": null,
      "flex": null,
      "flex_flow": null,
      "grid_area": null,
      "grid_auto_columns": null,
      "grid_auto_flow": null,
      "grid_auto_rows": null,
      "grid_column": null,
      "grid_gap": null,
      "grid_row": null,
      "grid_template_areas": null,
      "grid_template_columns": null,
      "grid_template_rows": null,
      "height": null,
      "justify_content": null,
      "justify_items": null,
      "left": null,
      "margin": null,
      "max_height": null,
      "max_width": null,
      "min_height": null,
      "min_width": null,
      "object_fit": null,
      "object_position": null,
      "order": null,
      "overflow": null,
      "overflow_x": null,
      "overflow_y": null,
      "padding": null,
      "right": null,
      "top": null,
      "visibility": null,
      "width": null
     }
    },
    "e432396b8356485299845c8ff4782a39": {
     "model_module": "@jupyter-widgets/base",
     "model_module_version": "1.2.0",
     "model_name": "LayoutModel",
     "state": {
      "_model_module": "@jupyter-widgets/base",
      "_model_module_version": "1.2.0",
      "_model_name": "LayoutModel",
      "_view_count": null,
      "_view_module": "@jupyter-widgets/base",
      "_view_module_version": "1.2.0",
      "_view_name": "LayoutView",
      "align_content": null,
      "align_items": null,
      "align_self": null,
      "border": null,
      "bottom": null,
      "display": null,
      "flex": null,
      "flex_flow": null,
      "grid_area": null,
      "grid_auto_columns": null,
      "grid_auto_flow": null,
      "grid_auto_rows": null,
      "grid_column": null,
      "grid_gap": null,
      "grid_row": null,
      "grid_template_areas": null,
      "grid_template_columns": null,
      "grid_template_rows": null,
      "height": null,
      "justify_content": null,
      "justify_items": null,
      "left": null,
      "margin": null,
      "max_height": null,
      "max_width": null,
      "min_height": null,
      "min_width": null,
      "object_fit": null,
      "object_position": null,
      "order": null,
      "overflow": null,
      "overflow_x": null,
      "overflow_y": null,
      "padding": null,
      "right": null,
      "top": null,
      "visibility": null,
      "width": null
     }
    },
    "f4b620d8321043d1ac283be09984b0d8": {
     "model_module": "@jupyter-widgets/base",
     "model_module_version": "1.2.0",
     "model_name": "LayoutModel",
     "state": {
      "_model_module": "@jupyter-widgets/base",
      "_model_module_version": "1.2.0",
      "_model_name": "LayoutModel",
      "_view_count": null,
      "_view_module": "@jupyter-widgets/base",
      "_view_module_version": "1.2.0",
      "_view_name": "LayoutView",
      "align_content": null,
      "align_items": null,
      "align_self": null,
      "border": null,
      "bottom": null,
      "display": null,
      "flex": null,
      "flex_flow": null,
      "grid_area": null,
      "grid_auto_columns": null,
      "grid_auto_flow": null,
      "grid_auto_rows": null,
      "grid_column": null,
      "grid_gap": null,
      "grid_row": null,
      "grid_template_areas": null,
      "grid_template_columns": null,
      "grid_template_rows": null,
      "height": null,
      "justify_content": null,
      "justify_items": null,
      "left": null,
      "margin": null,
      "max_height": null,
      "max_width": null,
      "min_height": null,
      "min_width": null,
      "object_fit": null,
      "object_position": null,
      "order": null,
      "overflow": null,
      "overflow_x": null,
      "overflow_y": null,
      "padding": null,
      "right": null,
      "top": null,
      "visibility": null,
      "width": null
     }
    },
    "f92f69d22def4cd681728c5917fc4db5": {
     "model_module": "@jupyter-widgets/controls",
     "model_module_version": "1.5.0",
     "model_name": "DescriptionStyleModel",
     "state": {
      "_model_module": "@jupyter-widgets/controls",
      "_model_module_version": "1.5.0",
      "_model_name": "DescriptionStyleModel",
      "_view_count": null,
      "_view_module": "@jupyter-widgets/base",
      "_view_module_version": "1.2.0",
      "_view_name": "StyleView",
      "description_width": ""
     }
    },
    "f9893deb8c094180aaad70a6085e05f5": {
     "model_module": "@jupyter-widgets/controls",
     "model_module_version": "1.5.0",
     "model_name": "FloatProgressModel",
     "state": {
      "_dom_classes": [],
      "_model_module": "@jupyter-widgets/controls",
      "_model_module_version": "1.5.0",
      "_model_name": "FloatProgressModel",
      "_view_count": null,
      "_view_module": "@jupyter-widgets/controls",
      "_view_module_version": "1.5.0",
      "_view_name": "ProgressView",
      "bar_style": "success",
      "description": "",
      "description_tooltip": null,
      "layout": "IPY_MODEL_479415bfbf6f4071b9a49b5c11490369",
      "max": 1880,
      "min": 0,
      "orientation": "horizontal",
      "style": "IPY_MODEL_22cbde4d1c8f4136ab0b1421723e6465",
      "value": 1880
     }
    },
    "fe5d14c010044283a04ef2cff47244cf": {
     "model_module": "@jupyter-widgets/controls",
     "model_module_version": "1.5.0",
     "model_name": "ProgressStyleModel",
     "state": {
      "_model_module": "@jupyter-widgets/controls",
      "_model_module_version": "1.5.0",
      "_model_name": "ProgressStyleModel",
      "_view_count": null,
      "_view_module": "@jupyter-widgets/base",
      "_view_module_version": "1.2.0",
      "_view_name": "StyleView",
      "bar_color": null,
      "description_width": ""
     }
    }
   }
  }
 },
 "nbformat": 4,
 "nbformat_minor": 5
}
