{
 "cells": [
  {
   "cell_type": "code",
   "execution_count": 1,
   "metadata": {
    "colab": {
     "base_uri": "https://localhost:8080/"
    },
    "executionInfo": {
     "elapsed": 18733,
     "status": "ok",
     "timestamp": 1686251093579,
     "user": {
      "displayName": "yun shi",
      "userId": "00615574145468529220"
     },
     "user_tz": -120
    },
    "id": "gqh2CY5nZC8T",
    "outputId": "10bf00de-9a4a-41f7-f6b7-1e6f17c407cf"
   },
   "outputs": [
    {
     "name": "stdout",
     "output_type": "stream",
     "text": [
      "Mounted at /content/drive\n"
     ]
    }
   ],
   "source": [
    "from google.colab import drive\n",
    "drive.mount('/content/drive', force_remount=True)"
   ]
  },
  {
   "cell_type": "code",
   "execution_count": 2,
   "metadata": {
    "colab": {
     "base_uri": "https://localhost:8080/"
    },
    "executionInfo": {
     "elapsed": 6,
     "status": "ok",
     "timestamp": 1686251093580,
     "user": {
      "displayName": "yun shi",
      "userId": "00615574145468529220"
     },
     "user_tz": -120
    },
    "id": "L-05k0q2ZXGH",
    "outputId": "01b5c636-7d41-42d6-b30b-1db5aed49cb2"
   },
   "outputs": [
    {
     "name": "stdout",
     "output_type": "stream",
     "text": [
      "/content/drive/MyDrive/csm\n"
     ]
    }
   ],
   "source": [
    "%cd /content/drive/MyDrive/csm/"
   ]
  },
  {
   "cell_type": "code",
   "execution_count": 2,
   "metadata": {
    "executionInfo": {
     "elapsed": 1141,
     "status": "ok",
     "timestamp": 1686251154654,
     "user": {
      "displayName": "yun shi",
      "userId": "00615574145468529220"
     },
     "user_tz": -120
    },
    "id": "8X1g4tk1ZaY9"
   },
   "outputs": [],
   "source": [
    "import pandas as pd \n",
    "\n",
    "df_lneg = pd.read_csv('datasets/topic_last_negative.csv')\n",
    "df_lpos = pd.read_csv('datasets/topic_last_positive.csv')"
   ]
  },
  {
   "cell_type": "code",
   "execution_count": 3,
   "metadata": {
    "colab": {
     "base_uri": "https://localhost:8080/",
     "height": 645
    },
    "executionInfo": {
     "elapsed": 5,
     "status": "ok",
     "timestamp": 1686251157925,
     "user": {
      "displayName": "yun shi",
      "userId": "00615574145468529220"
     },
     "user_tz": -120
    },
    "id": "RQzOg_6YZqZY",
    "outputId": "497d7e8f-3a67-4459-b570-2dfc48acea6b"
   },
   "outputs": [
    {
     "data": {
      "text/html": [
       "<div>\n",
       "<style scoped>\n",
       "    .dataframe tbody tr th:only-of-type {\n",
       "        vertical-align: middle;\n",
       "    }\n",
       "\n",
       "    .dataframe tbody tr th {\n",
       "        vertical-align: top;\n",
       "    }\n",
       "\n",
       "    .dataframe thead th {\n",
       "        text-align: right;\n",
       "    }\n",
       "</style>\n",
       "<table border=\"1\" class=\"dataframe\">\n",
       "  <thead>\n",
       "    <tr style=\"text-align: right;\">\n",
       "      <th></th>\n",
       "      <th>Unnamed: 0</th>\n",
       "      <th>Topics</th>\n",
       "      <th>Count</th>\n",
       "    </tr>\n",
       "  </thead>\n",
       "  <tbody>\n",
       "    <tr>\n",
       "      <th>0</th>\n",
       "      <td>0</td>\n",
       "      <td>news_&amp;_social_concern</td>\n",
       "      <td>4900</td>\n",
       "    </tr>\n",
       "    <tr>\n",
       "      <th>1</th>\n",
       "      <td>1</td>\n",
       "      <td>science_&amp;_technology</td>\n",
       "      <td>5280</td>\n",
       "    </tr>\n",
       "    <tr>\n",
       "      <th>2</th>\n",
       "      <td>2</td>\n",
       "      <td>diaries_&amp;_daily_life</td>\n",
       "      <td>683</td>\n",
       "    </tr>\n",
       "    <tr>\n",
       "      <th>3</th>\n",
       "      <td>3</td>\n",
       "      <td>business_&amp;_entrepreneurs</td>\n",
       "      <td>1694</td>\n",
       "    </tr>\n",
       "    <tr>\n",
       "      <th>4</th>\n",
       "      <td>4</td>\n",
       "      <td>arts_&amp;_culture</td>\n",
       "      <td>254</td>\n",
       "    </tr>\n",
       "    <tr>\n",
       "      <th>5</th>\n",
       "      <td>5</td>\n",
       "      <td>sports</td>\n",
       "      <td>103</td>\n",
       "    </tr>\n",
       "    <tr>\n",
       "      <th>6</th>\n",
       "      <td>6</td>\n",
       "      <td>learning_&amp;_educational</td>\n",
       "      <td>1325</td>\n",
       "    </tr>\n",
       "    <tr>\n",
       "      <th>7</th>\n",
       "      <td>7</td>\n",
       "      <td>travel_&amp;_adventure</td>\n",
       "      <td>42</td>\n",
       "    </tr>\n",
       "    <tr>\n",
       "      <th>8</th>\n",
       "      <td>8</td>\n",
       "      <td>other_hobbies</td>\n",
       "      <td>58</td>\n",
       "    </tr>\n",
       "    <tr>\n",
       "      <th>9</th>\n",
       "      <td>9</td>\n",
       "      <td>celebrity_&amp;_pop_culture</td>\n",
       "      <td>125</td>\n",
       "    </tr>\n",
       "    <tr>\n",
       "      <th>10</th>\n",
       "      <td>10</td>\n",
       "      <td>film_tv_&amp;_video</td>\n",
       "      <td>340</td>\n",
       "    </tr>\n",
       "    <tr>\n",
       "      <th>11</th>\n",
       "      <td>11</td>\n",
       "      <td>food_&amp;_dining</td>\n",
       "      <td>68</td>\n",
       "    </tr>\n",
       "    <tr>\n",
       "      <th>12</th>\n",
       "      <td>12</td>\n",
       "      <td>youth_&amp;_student_life</td>\n",
       "      <td>513</td>\n",
       "    </tr>\n",
       "    <tr>\n",
       "      <th>13</th>\n",
       "      <td>13</td>\n",
       "      <td>fashion_&amp;_style</td>\n",
       "      <td>8</td>\n",
       "    </tr>\n",
       "    <tr>\n",
       "      <th>14</th>\n",
       "      <td>14</td>\n",
       "      <td>gaming</td>\n",
       "      <td>76</td>\n",
       "    </tr>\n",
       "    <tr>\n",
       "      <th>15</th>\n",
       "      <td>15</td>\n",
       "      <td>music</td>\n",
       "      <td>75</td>\n",
       "    </tr>\n",
       "    <tr>\n",
       "      <th>16</th>\n",
       "      <td>16</td>\n",
       "      <td>fitness_&amp;_health</td>\n",
       "      <td>146</td>\n",
       "    </tr>\n",
       "    <tr>\n",
       "      <th>17</th>\n",
       "      <td>17</td>\n",
       "      <td>family</td>\n",
       "      <td>26</td>\n",
       "    </tr>\n",
       "    <tr>\n",
       "      <th>18</th>\n",
       "      <td>18</td>\n",
       "      <td>relationships</td>\n",
       "      <td>32</td>\n",
       "    </tr>\n",
       "  </tbody>\n",
       "</table>\n",
       "</div>"
      ],
      "text/plain": [
       "    Unnamed: 0                    Topics  Count\n",
       "0            0     news_&_social_concern   4900\n",
       "1            1      science_&_technology   5280\n",
       "2            2      diaries_&_daily_life    683\n",
       "3            3  business_&_entrepreneurs   1694\n",
       "4            4            arts_&_culture    254\n",
       "5            5                    sports    103\n",
       "6            6    learning_&_educational   1325\n",
       "7            7        travel_&_adventure     42\n",
       "8            8             other_hobbies     58\n",
       "9            9   celebrity_&_pop_culture    125\n",
       "10          10           film_tv_&_video    340\n",
       "11          11             food_&_dining     68\n",
       "12          12      youth_&_student_life    513\n",
       "13          13           fashion_&_style      8\n",
       "14          14                    gaming     76\n",
       "15          15                     music     75\n",
       "16          16          fitness_&_health    146\n",
       "17          17                    family     26\n",
       "18          18             relationships     32"
      ]
     },
     "execution_count": 3,
     "metadata": {},
     "output_type": "execute_result"
    }
   ],
   "source": [
    "df_lneg"
   ]
  },
  {
   "cell_type": "code",
   "execution_count": 4,
   "metadata": {
    "colab": {
     "base_uri": "https://localhost:8080/"
    },
    "executionInfo": {
     "elapsed": 3,
     "status": "ok",
     "timestamp": 1686251281053,
     "user": {
      "displayName": "yun shi",
      "userId": "00615574145468529220"
     },
     "user_tz": -120
    },
    "id": "jE5fy03PaJGX",
    "outputId": "2f00a1b3-de69-46a3-f223-4839ca9e68c2"
   },
   "outputs": [
    {
     "data": {
      "text/plain": [
       "['news_&_social_concern',\n",
       " 'science_&_technology',\n",
       " 'diaries_&_daily_life',\n",
       " 'business_&_entrepreneurs',\n",
       " 'arts_&_culture']"
      ]
     },
     "execution_count": 4,
     "metadata": {},
     "output_type": "execute_result"
    }
   ],
   "source": [
    "df_lneg.head(5)[\"Topics\"].values.tolist()"
   ]
  },
  {
   "cell_type": "code",
   "execution_count": 9,
   "metadata": {
    "colab": {
     "base_uri": "https://localhost:8080/",
     "height": 487
    },
    "executionInfo": {
     "elapsed": 691,
     "status": "ok",
     "timestamp": 1686251465281,
     "user": {
      "displayName": "yun shi",
      "userId": "00615574145468529220"
     },
     "user_tz": -120
    },
    "id": "MKZFwXa7ZreA",
    "outputId": "bdb2ca5f-3406-4a83-8ca1-499dc3d9bc5d"
   },
   "outputs": [
    {
     "data": {
      "image/png": "[encoded data removed]",
      "text/plain": [
       "<Figure size 700x500 with 1 Axes>"
      ]
     },
     "metadata": {},
     "output_type": "display_data"
    }
   ],
   "source": [
    "# plot top 5 positive topics as horizontal bar chart\n",
    "import matplotlib.pyplot as plt\n",
    "import seaborn as sns\n",
    "\n",
    "plt.figure(figsize=(7, 5))\n",
    "sns.barplot(x='Count', y='Topics', data= df_lpos.sort_values(by='Count', ascending=False)[:5], palette='Blues_d')\n",
    "plt.title('Top 5 positive topics')\n",
    "plt.xlabel('Count')\n",
    "plt.ylabel('Topic')\n",
    "plt.show()"
   ]
  },
  {
   "cell_type": "code",
   "execution_count": 10,
   "metadata": {
    "colab": {
     "base_uri": "https://localhost:8080/",
     "height": 487
    },
    "executionInfo": {
     "elapsed": 538,
     "status": "ok",
     "timestamp": 1686251599080,
     "user": {
      "displayName": "yun shi",
      "userId": "00615574145468529220"
     },
     "user_tz": -120
    },
    "id": "-dV9W1GMZ9Mf",
    "outputId": "22710812-c354-4dfa-cdd8-b7900d024157"
   },
   "outputs": [
    {
     "data": {
      "image/png": "[encoded data removed]",
      "text/plain": [
       "<Figure size 700x500 with 1 Axes>"
      ]
     },
     "metadata": {},
     "output_type": "display_data"
    }
   ],
   "source": [
    "# plot top 5 negative topics as horizontal bar chart\n",
    "import matplotlib.pyplot as plt\n",
    "import seaborn as sns\n",
    "\n",
    "plt.figure(figsize=(7, 5))\n",
    "sns.barplot(x='Count', y='Topics', data= df_lneg.sort_values(by='Count', ascending=False)[:5], palette='Blues_d')\n",
    "plt.title('Top 5 negative topics')\n",
    "plt.xlabel('Count')\n",
    "plt.ylabel('Topic')\n",
    "plt.savefig('topics_neg_last.png', bbox_inches='tight')\n",
    "plt.show()"
   ]
  },
  {
   "cell_type": "code",
   "execution_count": null,
   "metadata": {
    "id": "fVooh9dGa60k"
   },
   "outputs": [],
   "source": []
  }
 ],
 "metadata": {
  "colab": {
   "authorship_tag": "ABX9TyOaeacNobk0wQfY5EBnQkgZ",
   "provenance": []
  },
  "kernelspec": {
   "display_name": "Python",
   "language": "python",
   "name": "python3"
  },
  "language_info": {
   "codemirror_mode": {
    "name": "ipython",
    "version": 3
   },
   "file_extension": ".py",
   "mimetype": "text/x-python",
   "name": "python",
   "nbconvert_exporter": "python",
   "pygments_lexer": "ipython3",
   "version": "3.8.10"
  }
 },
 "nbformat": 4,
 "nbformat_minor": 4
}
