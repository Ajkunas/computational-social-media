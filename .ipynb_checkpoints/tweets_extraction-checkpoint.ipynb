{
 "cells": [
  {
   "cell_type": "code",
   "execution_count": 1,
   "id": "230275f7",
   "metadata": {},
   "outputs": [],
   "source": [
    "from TwitterApi import *"
   ]
  },
  {
   "cell_type": "code",
   "execution_count": 2,
   "id": "04099b8c",
   "metadata": {
    "scrolled": true
   },
   "outputs": [
    {
     "name": "stdout",
     "output_type": "stream",
     "text": [
      "{\"data\": [{\"id\": \"1648713036452986884\", \"value\": \"chatGPT\", \"tag\": \"chatgpt tweets\"}], \"meta\": {\"sent\": \"2023-04-19T15:41:21.071Z\", \"result_count\": 1}}\n",
      "{\"meta\": {\"sent\": \"2023-04-19T15:41:22.510Z\", \"summary\": {\"deleted\": 1, \"not_deleted\": 0}}}\n",
      "{\"data\": [{\"value\": \"chatGPT\", \"tag\": \"chatgpt tweets\", \"id\": \"1648713408227811331\"}], \"meta\": {\"sent\": \"2023-04-19T15:41:24.468Z\", \"summary\": {\"created\": 1, \"not_created\": 0, \"valid\": 1, \"invalid\": 0}}}\n",
      "200\n",
      "############ test #############\n",
      "{\n",
      "    \"data\": {\n",
      "        \"edit_history_tweet_ids\": [\n",
      "            \"1648713410148995074\"\n",
      "        ],\n",
      "        \"id\": \"1648713410148995074\",\n",
      "        \"text\": \"RT @DrCiviluOttawa: @claireboine, candidate au doctorat en droit, explique si ChatGPT devrait \\u00eatre consid\\u00e9r\\u00e9 comme un outil r\\u00e9volutionnaire\\u2026\"\n",
      "    },\n",
      "    \"matching_rules\": [\n",
      "        {\n",
      "            \"id\": \"1648713036452986884\",\n",
      "            \"tag\": \"chatgpt tweets\"\n",
      "        }\n",
      "    ]\n",
      "}\n",
      "############ test #############\n",
      "{\n",
      "    \"data\": {\n",
      "        \"edit_history_tweet_ids\": [\n",
      "            \"1648713409712779266\"\n",
      "        ],\n",
      "        \"id\": \"1648713409712779266\",\n",
      "        \"text\": \"RT @ZaraGiveaway: $100 \\u2022 3 Days \\ud83c\\udf52 \\n\\n($50)\\n\\u2022 RT &amp; UpVote + Add Bullish Comment (Post Proof)\\nhttps://t.co/SIFbxiuVVs\\n\\n($50)\\n\\u2022 Quote RT tweet\\u2026\"\n",
      "    },\n",
      "    \"matching_rules\": [\n",
      "        {\n",
      "            \"id\": \"1648713036452986884\",\n",
      "            \"tag\": \"chatgpt tweets\"\n",
      "        }\n",
      "    ]\n",
      "}\n",
      "############ test #############\n",
      "{\n",
      "    \"data\": {\n",
      "        \"edit_history_tweet_ids\": [\n",
      "            \"1648713414355865601\"\n",
      "        ],\n",
      "        \"id\": \"1648713414355865601\",\n",
      "        \"text\": \"\\u305d\\u306e\\u3046\\u3061CHATGPT\\uff1f\\u3068\\u304b\\u3067\\u3001\\u81ea\\u52d5\\u7684\\u306b\\u4eba\\u5de5\\u5730\\u5f62\\u3092\\u691c\\u7d22\\u3057\\u3066\\u57cb\\u6587\\u5730\\u56f3\\u3092\\u4f5c\\u308b\\u6642\\u4ee3\\u304c\\u6765\\u308b\\u304b\\u3082\\u306d\"\n",
      "    },\n",
      "    \"matching_rules\": [\n",
      "        {\n",
      "            \"id\": \"1648713036452986884\",\n",
      "            \"tag\": \"chatgpt tweets\"\n",
      "        }\n",
      "    ]\n",
      "}\n"
     ]
    }
   ],
   "source": [
    "main()"
   ]
  },
  {
   "cell_type": "code",
   "execution_count": 3,
   "id": "5dc5c937",
   "metadata": {},
   "outputs": [],
   "source": [
    "import pandas as pd "
   ]
  },
  {
   "cell_type": "code",
   "execution_count": null,
   "id": "3f6bf1fc",
   "metadata": {},
   "outputs": [],
   "source": [
    "df = pd.read_csv('response_test.csv', usecols=['id','text'])"
   ]
  }
 ],
 "metadata": {
  "kernelspec": {
   "display_name": "Python 3 (ipykernel)",
   "language": "python",
   "name": "python3"
  },
  "language_info": {
   "codemirror_mode": {
    "name": "ipython",
    "version": 3
   },
   "file_extension": ".py",
   "mimetype": "text/x-python",
   "name": "python",
   "nbconvert_exporter": "python",
   "pygments_lexer": "ipython3",
   "version": "3.9.13"
  }
 },
 "nbformat": 4,
 "nbformat_minor": 5
}
