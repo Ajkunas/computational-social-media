{
 "cells": [
  {
   "cell_type": "code",
   "execution_count": 1,
   "id": "e08eff1f",
   "metadata": {},
   "outputs": [],
   "source": [
    "import re\n",
    "import numpy as np\n",
    "import pandas as pd\n",
    "\n",
    "# remove english stopwords with the help of the gensim library \n",
    "from gensim.parsing.preprocessing import remove_stopwords\n",
    "\n",
    "import string\n",
    "\n",
    "from nltk.stem.porter import PorterStemmer\n",
    "from nltk.stem import WordNetLemmatizer"
   ]
  },
  {
   "cell_type": "code",
   "execution_count": 2,
   "id": "8db5af09",
   "metadata": {},
   "outputs": [],
   "source": [
    "english_punctuations = string.punctuation\n",
    "punctuations_list = english_punctuations\n",
    "\n",
    "def cleaning_punctuations(text):\n",
    "    translator = str.maketrans('', '', punctuations_list)\n",
    "    return text.translate(translator)\n",
    "\n",
    "\n",
    "# cleaning and removing URLs\n",
    "def cleaning_URLs(data):\n",
    "    return re.sub('((www.[^s]+)|(https?://[^s]+))',' ',data)\n",
    "\n",
    "def remove_hyperlink(word):\n",
    "    return re.sub(r\"http\\S+\", \"\", word)\n",
    "\n",
    "# cleaning and removing mentions \n",
    "def remove_mentions(word):\n",
    "    return re.sub(r\"@\\S+\", \"\", word)\n",
    "\n",
    "# removing emojis \n",
    "emoji_pattern = re.compile(\"[\"\n",
    "        u\"\\U0001F600-\\U0001F64F\"  # emoticons\n",
    "        u\"\\U0001F300-\\U0001F5FF\"  # symbols & pictographs\n",
    "        u\"\\U0001F680-\\U0001F6FF\"  # transport & map symbols\n",
    "        u\"\\U0001F1E0-\\U0001F1FF\"  # flags (iOS)\n",
    "                           \"]+\", flags=re.UNICODE)\n",
    "\n",
    "# cleaning and removing repeating characters\n",
    "def cleaning_repeating_char(text):\n",
    "    return re.sub(r'(.)1+', r'1', text)\n",
    "\n",
    "stemmer = PorterStemmer()\n",
    "\n",
    "def stem_words(text):\n",
    "    return \" \".join([stemmer.stem(word) for word in text])\n",
    "\n",
    "lemmatizer = WordNetLemmatizer()\n",
    "\n",
    "def lematize_words(text):\n",
    "    return \" \".join([lemmatizer.lemmatize(word) for word in text])"
   ]
  },
  {
   "cell_type": "code",
   "execution_count": 3,
   "id": "dbad9615",
   "metadata": {},
   "outputs": [],
   "source": [
    "def preprocessing(df):\n",
    "    # lower cases \n",
    "    df = df.str.lower()\n",
    "    print(\"Text of tweets transformed to lower cases.\")\n",
    "    \n",
    "    # remove english stopwords with the help of the gensim library \n",
    "    df = df.apply(lambda text: remove_stopwords(text))\n",
    "    print(\"Removed stopwords from the text of tweets.\")\n",
    "    \n",
    "    #cleaning and removing punctuation\n",
    "    df = df.apply(lambda x: cleaning_punctuations(x))\n",
    "    print(\"Cleaned and removed the punctuations.\")\n",
    "    \n",
    "    # cleaning and removing URLs\n",
    "    df = df.apply(lambda x: cleaning_URLs(x))\n",
    "    df = df.apply(lambda x: remove_hyperlink(x))\n",
    "    print(\"Cleaned and removed the URLs and hyperlinks.\")\n",
    "    \n",
    "    # cleaning and removing mentions \n",
    "    df = df.apply(lambda x: remove_mentions(x))\n",
    "    print(\"Cleaned and removed the mentions.\")\n",
    "    \n",
    "    # removing emojis \n",
    "    df = df.apply(lambda x: emoji_pattern.sub(r'', x))\n",
    "    print(\"Removed the emojis.\")\n",
    "    \n",
    "    # remove numbers \n",
    "    df = df.apply(lambda x: re.sub(\"[^a-zA-Z]\", \" \", x))\n",
    "    print(\"Removed the numbers.\")\n",
    "    \n",
    "    # Text normalization : tokenize the tweets \n",
    "    # split tweets of text into tokens (individual words of terms)\n",
    "    tokenize_tweets = df.apply(lambda x: x.split())\n",
    "    print(\"Tokenized the text.\")\n",
    "    \n",
    "    # Normalization: use of PorterStemmer()\n",
    "    tokenize_tweets = tokenize_tweets.apply(lambda text: lematize_words(text))\n",
    "    print(\"Normalized the text.\")\n",
    "    \n",
    "    # write new csv file containing the preprocessed dataset\n",
    "    return tokenize_tweets"
   ]
  },
  {
   "cell_type": "code",
   "execution_count": 40,
   "id": "040cb593",
   "metadata": {},
   "outputs": [],
   "source": [
    "# loading the dataset \n",
    "df = pd.read_csv('datasets/sample_user_descr.csv', usecols=['user_name','user_description','label'])"
   ]
  },
  {
   "cell_type": "code",
   "execution_count": 41,
   "id": "e12c7e4c",
   "metadata": {},
   "outputs": [
    {
     "data": {
      "text/html": [
       "<div>\n",
       "<style scoped>\n",
       "    .dataframe tbody tr th:only-of-type {\n",
       "        vertical-align: middle;\n",
       "    }\n",
       "\n",
       "    .dataframe tbody tr th {\n",
       "        vertical-align: top;\n",
       "    }\n",
       "\n",
       "    .dataframe thead th {\n",
       "        text-align: right;\n",
       "    }\n",
       "</style>\n",
       "<table border=\"1\" class=\"dataframe\">\n",
       "  <thead>\n",
       "    <tr style=\"text-align: right;\">\n",
       "      <th></th>\n",
       "      <th>user_name</th>\n",
       "      <th>user_description</th>\n",
       "      <th>label</th>\n",
       "    </tr>\n",
       "  </thead>\n",
       "  <tbody>\n",
       "    <tr>\n",
       "      <th>0</th>\n",
       "      <td>Speak</td>\n",
       "      <td>Join 20,000+ researchers and marketers using S...</td>\n",
       "      <td>0.0</td>\n",
       "    </tr>\n",
       "    <tr>\n",
       "      <th>1</th>\n",
       "      <td>CanGPT</td>\n",
       "      <td>I tweet about #AI #ChatGPT #Web3 🚀🚀</td>\n",
       "      <td>0.0</td>\n",
       "    </tr>\n",
       "    <tr>\n",
       "      <th>2</th>\n",
       "      <td>Best MidJourneyAI Generated Art🤖🎨</td>\n",
       "      <td>follow my twitter account if you like the cont...</td>\n",
       "      <td>0.0</td>\n",
       "    </tr>\n",
       "    <tr>\n",
       "      <th>3</th>\n",
       "      <td>NikPeachey</td>\n",
       "      <td>Co-founder https://t.co/6o0xPcZuc4. Award-Winn...</td>\n",
       "      <td>0.0</td>\n",
       "    </tr>\n",
       "    <tr>\n",
       "      <th>4</th>\n",
       "      <td>Webrpoint</td>\n",
       "      <td>We provide the solutions on Web Technology by ...</td>\n",
       "      <td>0.0</td>\n",
       "    </tr>\n",
       "    <tr>\n",
       "      <th>...</th>\n",
       "      <td>...</td>\n",
       "      <td>...</td>\n",
       "      <td>...</td>\n",
       "    </tr>\n",
       "    <tr>\n",
       "      <th>195</th>\n",
       "      <td>Dennis Kirwan</td>\n",
       "      <td>Ever since I can remember, my curious mind has...</td>\n",
       "      <td>0.0</td>\n",
       "    </tr>\n",
       "    <tr>\n",
       "      <th>196</th>\n",
       "      <td>Kamran (Shuja Kami)</td>\n",
       "      <td>An #SMM and an affiliate marketing guy. #Blogg...</td>\n",
       "      <td>0.0</td>\n",
       "    </tr>\n",
       "    <tr>\n",
       "      <th>197</th>\n",
       "      <td>Hady Ghandour</td>\n",
       "      <td>Experienced Telecom/ICT professional, @AUBalum...</td>\n",
       "      <td>0.0</td>\n",
       "    </tr>\n",
       "    <tr>\n",
       "      <th>198</th>\n",
       "      <td>឵</td>\n",
       "      <td>𝑰 𝒉𝒂𝒗𝒆 𝒏𝒐𝒕𝒉𝒊𝒏𝒈 𝒕𝒐 𝒅𝒆𝒄𝒍𝒂𝒓𝒆. \\nhttps://t.co/RBEW...</td>\n",
       "      <td>0.0</td>\n",
       "    </tr>\n",
       "    <tr>\n",
       "      <th>199</th>\n",
       "      <td>BOBJERYSARAGIH</td>\n",
       "      <td>Infuencer crypto project AventCoin</td>\n",
       "      <td>0.0</td>\n",
       "    </tr>\n",
       "  </tbody>\n",
       "</table>\n",
       "<p>200 rows × 3 columns</p>\n",
       "</div>"
      ],
      "text/plain": [
       "                             user_name  \\\n",
       "0                                Speak   \n",
       "1                               CanGPT   \n",
       "2    Best MidJourneyAI Generated Art🤖🎨   \n",
       "3                           NikPeachey   \n",
       "4                            Webrpoint   \n",
       "..                                 ...   \n",
       "195                      Dennis Kirwan   \n",
       "196                Kamran (Shuja Kami)   \n",
       "197                      Hady Ghandour   \n",
       "198                                  ឵   \n",
       "199                     BOBJERYSARAGIH   \n",
       "\n",
       "                                      user_description  label  \n",
       "0    Join 20,000+ researchers and marketers using S...    0.0  \n",
       "1                  I tweet about #AI #ChatGPT #Web3 🚀🚀    0.0  \n",
       "2    follow my twitter account if you like the cont...    0.0  \n",
       "3    Co-founder https://t.co/6o0xPcZuc4. Award-Winn...    0.0  \n",
       "4    We provide the solutions on Web Technology by ...    0.0  \n",
       "..                                                 ...    ...  \n",
       "195  Ever since I can remember, my curious mind has...    0.0  \n",
       "196  An #SMM and an affiliate marketing guy. #Blogg...    0.0  \n",
       "197  Experienced Telecom/ICT professional, @AUBalum...    0.0  \n",
       "198  𝑰 𝒉𝒂𝒗𝒆 𝒏𝒐𝒕𝒉𝒊𝒏𝒈 𝒕𝒐 𝒅𝒆𝒄𝒍𝒂𝒓𝒆. \\nhttps://t.co/RBEW...    0.0  \n",
       "199                 Infuencer crypto project AventCoin    0.0  \n",
       "\n",
       "[200 rows x 3 columns]"
      ]
     },
     "execution_count": 41,
     "metadata": {},
     "output_type": "execute_result"
    }
   ],
   "source": [
    "df"
   ]
  },
  {
   "cell_type": "markdown",
   "id": "ea1827a9",
   "metadata": {},
   "source": [
    "## Dataset preprocessing"
   ]
  },
  {
   "cell_type": "code",
   "execution_count": 42,
   "id": "b035b2fe",
   "metadata": {},
   "outputs": [
    {
     "data": {
      "text/plain": [
       "0.0    177\n",
       "1.0     18\n",
       "Name: label, dtype: int64"
      ]
     },
     "execution_count": 42,
     "metadata": {},
     "output_type": "execute_result"
    }
   ],
   "source": [
    "# SCIENTIST/RESEARCHER/ENGINEER : 1\n",
    "# NOT SCIENTIST : 0\n",
    "\n",
    "df.label.value_counts() "
   ]
  },
  {
   "cell_type": "code",
   "execution_count": 43,
   "id": "868adfc3",
   "metadata": {},
   "outputs": [
    {
     "data": {
      "text/plain": [
       "user_name           0\n",
       "user_description    0\n",
       "label               5\n",
       "dtype: int64"
      ]
     },
     "execution_count": 43,
     "metadata": {},
     "output_type": "execute_result"
    }
   ],
   "source": [
    "df.isnull().values.any()\n",
    "df.isnull().sum()"
   ]
  },
  {
   "cell_type": "code",
   "execution_count": 44,
   "id": "ce978ec3",
   "metadata": {},
   "outputs": [],
   "source": [
    "df = df.dropna()"
   ]
  },
  {
   "cell_type": "markdown",
   "id": "40fdd423",
   "metadata": {},
   "source": [
    "## Balancing data "
   ]
  },
  {
   "cell_type": "markdown",
   "id": "daafb224",
   "metadata": {},
   "source": [
    "In our case, we have relatively very few datas labeled with 1 than those labeled with 0. We decide to upsample the minority class for a better training."
   ]
  },
  {
   "cell_type": "code",
   "execution_count": 45,
   "id": "4a773b41",
   "metadata": {},
   "outputs": [],
   "source": [
    "from sklearn.utils import resample\n",
    "\n",
    "# Separate majority and minority classes\n",
    "majority_class = df[df.label == 0]\n",
    "minority_class = df[df.label == 1]\n",
    "\n",
    "# Upsample the minority class\n",
    "upsampled_minority = resample(minority_class, replace=True, n_samples=len(majority_class))\n",
    "\n",
    "# Combine the upsampled minority class with the majority class\n",
    "balanced_data = pd.concat([majority_class, upsampled_minority])\n",
    "\n",
    "# Shuffle the data\n",
    "balanced_data = balanced_data.sample(frac=1, random_state=42)"
   ]
  },
  {
   "cell_type": "code",
   "execution_count": 46,
   "id": "76c5753d",
   "metadata": {},
   "outputs": [
    {
     "data": {
      "text/html": [
       "<div>\n",
       "<style scoped>\n",
       "    .dataframe tbody tr th:only-of-type {\n",
       "        vertical-align: middle;\n",
       "    }\n",
       "\n",
       "    .dataframe tbody tr th {\n",
       "        vertical-align: top;\n",
       "    }\n",
       "\n",
       "    .dataframe thead th {\n",
       "        text-align: right;\n",
       "    }\n",
       "</style>\n",
       "<table border=\"1\" class=\"dataframe\">\n",
       "  <thead>\n",
       "    <tr style=\"text-align: right;\">\n",
       "      <th></th>\n",
       "      <th>user_name</th>\n",
       "      <th>user_description</th>\n",
       "      <th>label</th>\n",
       "    </tr>\n",
       "  </thead>\n",
       "  <tbody>\n",
       "    <tr>\n",
       "      <th>155</th>\n",
       "      <td>Melvin</td>\n",
       "      <td>Works as Machine Learning Engineer. Solopreneu...</td>\n",
       "      <td>1.0</td>\n",
       "    </tr>\n",
       "    <tr>\n",
       "      <th>45</th>\n",
       "      <td>Aaron Junker</td>\n",
       "      <td>Mastodon: @AaronJunker@phpc.social</td>\n",
       "      <td>0.0</td>\n",
       "    </tr>\n",
       "    <tr>\n",
       "      <th>135</th>\n",
       "      <td>Yuriy Yuzifovich</td>\n",
       "      <td>Technology enthusiast. Ex-Nominum, Ex-@Akamai....</td>\n",
       "      <td>1.0</td>\n",
       "    </tr>\n",
       "    <tr>\n",
       "      <th>103</th>\n",
       "      <td>Aakash Chowkase</td>\n",
       "      <td>Post-doc @UCBerkeley @GreaterGoodSC. PhD in Ed...</td>\n",
       "      <td>1.0</td>\n",
       "    </tr>\n",
       "    <tr>\n",
       "      <th>62</th>\n",
       "      <td>Aimie Sibson</td>\n",
       "      <td>Co-founder &amp; CEO Hero</td>\n",
       "      <td>0.0</td>\n",
       "    </tr>\n",
       "    <tr>\n",
       "      <th>...</th>\n",
       "      <td>...</td>\n",
       "      <td>...</td>\n",
       "      <td>...</td>\n",
       "    </tr>\n",
       "    <tr>\n",
       "      <th>80</th>\n",
       "      <td>pipik_roman</td>\n",
       "      <td>Software Dev. at https://t.co/Iw3EvbMYdl, husb...</td>\n",
       "      <td>0.0</td>\n",
       "    </tr>\n",
       "    <tr>\n",
       "      <th>119</th>\n",
       "      <td>Wes 🇨🇦✌️🇺🇦</td>\n",
       "      <td>I'm an IT manager in my early 40's. To be hone...</td>\n",
       "      <td>0.0</td>\n",
       "    </tr>\n",
       "    <tr>\n",
       "      <th>116</th>\n",
       "      <td>Natarajan Ganesan, PhD</td>\n",
       "      <td>Scientist, Entrepreneur, Educator. Tweets are ...</td>\n",
       "      <td>1.0</td>\n",
       "    </tr>\n",
       "    <tr>\n",
       "      <th>55</th>\n",
       "      <td>Lon Baker</td>\n",
       "      <td>Multi-talented entrepreneur, engineer, content...</td>\n",
       "      <td>1.0</td>\n",
       "    </tr>\n",
       "    <tr>\n",
       "      <th>114</th>\n",
       "      <td>Rampage</td>\n",
       "      <td>Investing in @rockaway_x, ex-ITSec software en...</td>\n",
       "      <td>0.0</td>\n",
       "    </tr>\n",
       "  </tbody>\n",
       "</table>\n",
       "<p>354 rows × 3 columns</p>\n",
       "</div>"
      ],
      "text/plain": [
       "                  user_name  \\\n",
       "155                  Melvin   \n",
       "45             Aaron Junker   \n",
       "135        Yuriy Yuzifovich   \n",
       "103         Aakash Chowkase   \n",
       "62             Aimie Sibson   \n",
       "..                      ...   \n",
       "80              pipik_roman   \n",
       "119              Wes 🇨🇦✌️🇺🇦   \n",
       "116  Natarajan Ganesan, PhD   \n",
       "55                Lon Baker   \n",
       "114                 Rampage   \n",
       "\n",
       "                                      user_description  label  \n",
       "155  Works as Machine Learning Engineer. Solopreneu...    1.0  \n",
       "45                  Mastodon: @AaronJunker@phpc.social    0.0  \n",
       "135  Technology enthusiast. Ex-Nominum, Ex-@Akamai....    1.0  \n",
       "103  Post-doc @UCBerkeley @GreaterGoodSC. PhD in Ed...    1.0  \n",
       "62                               Co-founder & CEO Hero    0.0  \n",
       "..                                                 ...    ...  \n",
       "80   Software Dev. at https://t.co/Iw3EvbMYdl, husb...    0.0  \n",
       "119  I'm an IT manager in my early 40's. To be hone...    0.0  \n",
       "116  Scientist, Entrepreneur, Educator. Tweets are ...    1.0  \n",
       "55   Multi-talented entrepreneur, engineer, content...    1.0  \n",
       "114  Investing in @rockaway_x, ex-ITSec software en...    0.0  \n",
       "\n",
       "[354 rows x 3 columns]"
      ]
     },
     "execution_count": 46,
     "metadata": {},
     "output_type": "execute_result"
    }
   ],
   "source": [
    "balanced_data"
   ]
  },
  {
   "cell_type": "code",
   "execution_count": 47,
   "id": "b337a21c",
   "metadata": {},
   "outputs": [],
   "source": [
    "df = balanced_data"
   ]
  },
  {
   "cell_type": "code",
   "execution_count": 48,
   "id": "974328ce",
   "metadata": {},
   "outputs": [
    {
     "data": {
      "text/plain": [
       "user_name           0\n",
       "user_description    0\n",
       "label               0\n",
       "dtype: int64"
      ]
     },
     "execution_count": 48,
     "metadata": {},
     "output_type": "execute_result"
    }
   ],
   "source": [
    "df.isnull().values.any()\n",
    "df.isnull().sum()"
   ]
  },
  {
   "cell_type": "code",
   "execution_count": 49,
   "id": "aeb040a6",
   "metadata": {},
   "outputs": [
    {
     "data": {
      "text/plain": [
       "155    1.0\n",
       "45     0.0\n",
       "135    1.0\n",
       "103    1.0\n",
       "62     0.0\n",
       "      ... \n",
       "80     0.0\n",
       "119    0.0\n",
       "116    1.0\n",
       "55     1.0\n",
       "114    0.0\n",
       "Name: label, Length: 354, dtype: float64"
      ]
     },
     "execution_count": 49,
     "metadata": {},
     "output_type": "execute_result"
    }
   ],
   "source": [
    "df.label"
   ]
  },
  {
   "cell_type": "code",
   "execution_count": 50,
   "id": "631d847c",
   "metadata": {},
   "outputs": [],
   "source": [
    "temp = df.user_description"
   ]
  },
  {
   "cell_type": "code",
   "execution_count": 51,
   "id": "bb9c0620",
   "metadata": {},
   "outputs": [
    {
     "data": {
      "text/plain": [
       "155    Works as Machine Learning Engineer. Solopreneu...\n",
       "45                    Mastodon: @AaronJunker@phpc.social\n",
       "135    Technology enthusiast. Ex-Nominum, Ex-@Akamai....\n",
       "103    Post-doc @UCBerkeley @GreaterGoodSC. PhD in Ed...\n",
       "62                                 Co-founder & CEO Hero\n",
       "                             ...                        \n",
       "80     Software Dev. at https://t.co/Iw3EvbMYdl, husb...\n",
       "119    I'm an IT manager in my early 40's. To be hone...\n",
       "116    Scientist, Entrepreneur, Educator. Tweets are ...\n",
       "55     Multi-talented entrepreneur, engineer, content...\n",
       "114    Investing in @rockaway_x, ex-ITSec software en...\n",
       "Name: user_description, Length: 354, dtype: object"
      ]
     },
     "execution_count": 51,
     "metadata": {},
     "output_type": "execute_result"
    }
   ],
   "source": [
    "temp"
   ]
  },
  {
   "cell_type": "code",
   "execution_count": 52,
   "id": "cc7f1c42",
   "metadata": {},
   "outputs": [
    {
     "data": {
      "text/plain": [
       "0"
      ]
     },
     "execution_count": 52,
     "metadata": {},
     "output_type": "execute_result"
    }
   ],
   "source": [
    "# check if there is any NaN value\n",
    "temp.isnull().values.any()\n",
    "temp.isnull().sum()"
   ]
  },
  {
   "cell_type": "code",
   "execution_count": 53,
   "id": "4cf5df1b",
   "metadata": {},
   "outputs": [
    {
     "name": "stdout",
     "output_type": "stream",
     "text": [
      "Text of tweets transformed to lower cases.\n",
      "Removed stopwords from the text of tweets.\n",
      "Cleaned and removed the punctuations.\n",
      "Cleaned and removed the URLs and hyperlinks.\n",
      "Cleaned and removed the mentions.\n",
      "Removed the emojis.\n",
      "Removed the numbers.\n",
      "Tokenized the text.\n",
      "Normalized the text.\n"
     ]
    }
   ],
   "source": [
    "descr = preprocessing(temp)"
   ]
  },
  {
   "cell_type": "code",
   "execution_count": 54,
   "id": "154a49e8",
   "metadata": {},
   "outputs": [
    {
     "data": {
      "text/plain": [
       "155    work machine learning engineer solopreneur eve...\n",
       "45                        mastodon aaronjunkerphpcsocial\n",
       "135    technology enthusiast exnominum exakamai proud...\n",
       "103    postdoc ucberkeley greatergoodsc phd education...\n",
       "62                                    cofounder ceo hero\n",
       "                             ...                        \n",
       "80     software dev husband father catholic christian...\n",
       "119    im manager early s honest gotten crypto sooner...\n",
       "116    scientist entrepreneur educator tweet fleeting...\n",
       "55     multitalented entrepreneur engineer content cr...\n",
       "114    investing rockawayx exitsec software engineer ...\n",
       "Name: user_description, Length: 354, dtype: object"
      ]
     },
     "execution_count": 54,
     "metadata": {},
     "output_type": "execute_result"
    }
   ],
   "source": [
    "descr"
   ]
  },
  {
   "cell_type": "markdown",
   "id": "2b218404",
   "metadata": {},
   "source": [
    "## Model training"
   ]
  },
  {
   "cell_type": "markdown",
   "id": "2f30e4ce",
   "metadata": {},
   "source": [
    "Apply Logistic Regression with W2V embedding (see paper for gender classification based on tweet text https://www.researchgate.net/publication/344003069_Gender_Classification_using_Twitter_Text_Data) "
   ]
  },
  {
   "cell_type": "code",
   "execution_count": 55,
   "id": "bfb9390d",
   "metadata": {},
   "outputs": [
    {
     "data": {
      "text/plain": [
       "(46646, 78000)"
      ]
     },
     "execution_count": 55,
     "metadata": {},
     "output_type": "execute_result"
    }
   ],
   "source": [
    "import gensim\n",
    "\n",
    "# Word2Vec features: \n",
    "tokenize_tweet = descr.apply(lambda x: x.split())\n",
    "\n",
    "model_W2V = gensim.models.Word2Vec(tokenize_tweet, \n",
    "                                   vector_size = 200, # No. of features\n",
    "                                   window =  5, # default window\n",
    "                                   min_count = 2, \n",
    "                                   sg = 1, # 1 for skip-gram model\n",
    "                                   hs = 0,\n",
    "                                   negative = 10, # for negative sampling\n",
    "                                   workers = 2,  # No. of cores\n",
    "                                   seed = 34 )\n",
    "\n",
    "model_W2V.train(tokenize_tweet, total_examples= len(descr), epochs=20)"
   ]
  },
  {
   "cell_type": "code",
   "execution_count": 66,
   "id": "a2463be6",
   "metadata": {},
   "outputs": [
    {
     "name": "stdout",
     "output_type": "stream",
     "text": [
      "number of words that occured minimum 5 times  421\n",
      "sample words  ['ai', 'engineer', 'learning', 'data', 'machine', 'tweet', 'opinion', 'leading', 'science', 'leader', 'scientist', 'passionate', 'educator', 'research', 'entrepreneur', 'system', 'technology', 'innovation', 'prompt', 'work', 'phd', 'microsoft', 'solopreneur', 'investment', 'evening', 'weekend', 'revolution', 'llm', 'education', 'development', 'teacher', 'gpt', 'enthusiast', 'chatgpt', 'tech', 'advocate', 'world', 'content', 'news', 'llmops', 'lead', 'mlops', 'product', 'researcher', 'follow', 'alum', 'help', 'supportjpf', 'agent', 'proud']\n"
     ]
    }
   ],
   "source": [
    "w2v_words = list(model_W2V.wv.index_to_key)\n",
    "print(\"number of words that occured minimum 5 times \",len(w2v_words))\n",
    "print(\"sample words \", w2v_words[0:50])"
   ]
  },
  {
   "cell_type": "code",
   "execution_count": 67,
   "id": "f58c2db6",
   "metadata": {},
   "outputs": [
    {
     "name": "stderr",
     "output_type": "stream",
     "text": [
      "100%|██████████████████████████████████████████████████████████████████████████████| 354/354 [00:00<00:00, 4938.61it/s]"
     ]
    },
    {
     "name": "stdout",
     "output_type": "stream",
     "text": [
      "354\n",
      "200\n"
     ]
    },
    {
     "name": "stderr",
     "output_type": "stream",
     "text": [
      "\n"
     ]
    }
   ],
   "source": [
    "from tqdm import tqdm\n",
    "\n",
    "vector = []\n",
    "for sent in tqdm(tokenize_tweet):\n",
    "    sent_vec = np.zeros(200)\n",
    "    count = 0\n",
    "    for word in sent: \n",
    "        if word in w2v_words:\n",
    "            vec = model_W2V.wv[word]\n",
    "            sent_vec += vec \n",
    "            count += 1\n",
    "    if count != 0:\n",
    "        sent_vec /= count #normalize\n",
    "    vector.append(sent_vec)\n",
    "    \n",
    "print(len(vector))\n",
    "print(len(vector[0]))"
   ]
  },
  {
   "cell_type": "code",
   "execution_count": 68,
   "id": "3f88788c",
   "metadata": {},
   "outputs": [],
   "source": [
    "# Split the train and test datasets\n",
    "from sklearn.model_selection import train_test_split\n",
    "from sklearn.metrics import f1_score\n",
    "\n",
    "x_train_w2v, x_test_w2v, y_train_w2v, y_test_w2v = train_test_split(vector, df.label, test_size=0.3) "
   ]
  },
  {
   "cell_type": "code",
   "execution_count": 69,
   "id": "43fa0b15",
   "metadata": {},
   "outputs": [
    {
     "data": {
      "text/plain": [
       "0"
      ]
     },
     "execution_count": 69,
     "metadata": {},
     "output_type": "execute_result"
    }
   ],
   "source": [
    "# check if there is any NaN value\n",
    "\n",
    "y_train_w2v.isnull().values.any()\n",
    "y_train_w2v.isnull().sum()"
   ]
  },
  {
   "cell_type": "code",
   "execution_count": 70,
   "id": "02e390d6",
   "metadata": {},
   "outputs": [
    {
     "name": "stdout",
     "output_type": "stream",
     "text": [
      "{'C': [0.01, 0.1, 0.5, 1.0, 5.0, 10.0], 'warm_start': [True, False]}\n"
     ]
    }
   ],
   "source": [
    "#parameters in Logistic Regression\n",
    "param_grid_lr = {'C': [0.01, 0.1, 0.5, 1.0, 5.0, 10.0],\n",
    "                'warm_start':[True, False]}\n",
    "print(param_grid_lr)"
   ]
  },
  {
   "cell_type": "code",
   "execution_count": 71,
   "id": "c4db5ee4",
   "metadata": {},
   "outputs": [
    {
     "name": "stdout",
     "output_type": "stream",
     "text": [
      "Fitting 10 folds for each of 10 candidates, totalling 100 fits\n"
     ]
    },
    {
     "data": {
      "text/plain": [
       "{'warm_start': True, 'C': 10.0}"
      ]
     },
     "execution_count": 71,
     "metadata": {},
     "output_type": "execute_result"
    }
   ],
   "source": [
    "#best parameters for LR\n",
    "from sklearn.linear_model import LogisticRegression\n",
    "from sklearn.model_selection import RandomizedSearchCV\n",
    "\n",
    "model_lr = LogisticRegression()\n",
    "\n",
    "LR_RandomGrid = RandomizedSearchCV(estimator = model_lr, param_distributions = param_grid_lr, cv = 10, verbose=2, n_jobs = 4)\n",
    "LR_RandomGrid.fit(x_train_w2v, y_train_w2v)\n",
    "LR_RandomGrid.best_params_"
   ]
  },
  {
   "cell_type": "code",
   "execution_count": 72,
   "id": "272c56ca",
   "metadata": {},
   "outputs": [
    {
     "name": "stdout",
     "output_type": "stream",
     "text": [
      "              precision    recall  f1-score   support\n",
      "\n",
      "         0.0       1.00      0.97      0.98        60\n",
      "         1.0       0.96      1.00      0.98        47\n",
      "\n",
      "    accuracy                           0.98       107\n",
      "   macro avg       0.98      0.98      0.98       107\n",
      "weighted avg       0.98      0.98      0.98       107\n",
      "\n"
     ]
    }
   ],
   "source": [
    "from sklearn.metrics import classification_report \n",
    "\n",
    "model_lr = LogisticRegression(C=10.0, warm_start=True, max_iter=100, multi_class='auto')\n",
    "model_lr = model_lr.fit(x_train_w2v, y_train_w2v)\n",
    "prediction_lr = model_lr.predict(x_test_w2v)\n",
    "\n",
    "print(classification_report(y_test_w2v, prediction_lr))"
   ]
  },
  {
   "cell_type": "code",
   "execution_count": 81,
   "id": "3e4889d4",
   "metadata": {},
   "outputs": [
    {
     "data": {
      "text/plain": [
       "array([1., 1., 1., 0., 1., 0., 0., 0., 1., 0., 0., 1., 0., 0., 0., 0., 1.,\n",
       "       0., 1., 0., 0., 1., 0., 1., 1., 1., 0., 1., 0., 1., 0., 1., 0., 1.,\n",
       "       0., 0., 0., 0., 0., 1., 0., 0., 0., 1., 1., 1., 0., 1., 0., 1., 1.,\n",
       "       0., 1., 1., 1., 0., 0., 0., 1., 1., 1., 0., 1., 0., 1., 1., 1., 1.,\n",
       "       0., 0., 1., 1., 1., 0., 0., 0., 0., 1., 0., 0., 1., 1., 0., 0., 0.,\n",
       "       1., 0., 0., 1., 0., 1., 0., 0., 1., 1., 1., 0., 0., 0., 0., 0., 1.,\n",
       "       0., 0., 1., 1., 0.])"
      ]
     },
     "execution_count": 81,
     "metadata": {},
     "output_type": "execute_result"
    }
   ],
   "source": [
    "prediction_lr"
   ]
  },
  {
   "cell_type": "markdown",
   "id": "0bfe4e52",
   "metadata": {},
   "source": [
    "## Classification of dataset"
   ]
  },
  {
   "cell_type": "code",
   "execution_count": 84,
   "id": "a421e9d5",
   "metadata": {},
   "outputs": [],
   "source": [
    "# loading the dataset \n",
    "df = pd.read_csv('datasets/sentiment_chatgpt.csv', usecols=['user_name', 'user_description','tweets','label', 'date'])"
   ]
  },
  {
   "cell_type": "code",
   "execution_count": 85,
   "id": "fdf83ebf",
   "metadata": {},
   "outputs": [
    {
     "data": {
      "text/html": [
       "<div>\n",
       "<style scoped>\n",
       "    .dataframe tbody tr th:only-of-type {\n",
       "        vertical-align: middle;\n",
       "    }\n",
       "\n",
       "    .dataframe tbody tr th {\n",
       "        vertical-align: top;\n",
       "    }\n",
       "\n",
       "    .dataframe thead th {\n",
       "        text-align: right;\n",
       "    }\n",
       "</style>\n",
       "<table border=\"1\" class=\"dataframe\">\n",
       "  <thead>\n",
       "    <tr style=\"text-align: right;\">\n",
       "      <th></th>\n",
       "      <th>user_description</th>\n",
       "      <th>tweets</th>\n",
       "      <th>label</th>\n",
       "      <th>date</th>\n",
       "    </tr>\n",
       "  </thead>\n",
       "  <tbody>\n",
       "    <tr>\n",
       "      <th>0</th>\n",
       "      <td>building draftmateai developer author chatgpt ...</td>\n",
       "      <td>happy share draftmateai support day free trial...</td>\n",
       "      <td>positiv</td>\n",
       "      <td>2023-04-26 13:02:16+00:00</td>\n",
       "    </tr>\n",
       "    <tr>\n",
       "      <th>1</th>\n",
       "      <td>nomadic marketing vigilante graphic web design...</td>\n",
       "      <td>integrate chatgpt marketo smart campaign disco...</td>\n",
       "      <td>positiv</td>\n",
       "      <td>2023-04-26 13:02:06+00:00</td>\n",
       "    </tr>\n",
       "    <tr>\n",
       "      <th>2</th>\n",
       "      <td>leading translation management platform locali...</td>\n",
       "      <td>pleased announce new patentpending technology ...</td>\n",
       "      <td>positiv</td>\n",
       "      <td>2023-04-26 13:02:05+00:00</td>\n",
       "    </tr>\n",
       "    <tr>\n",
       "      <th>3</th>\n",
       "      <td>engineering leader coach mentor building remot...</td>\n",
       "      <td>starting tire scolded chatgpt slight perceived...</td>\n",
       "      <td>neutral</td>\n",
       "      <td>2023-04-26 13:02:00+00:00</td>\n",
       "    </tr>\n",
       "    <tr>\n",
       "      <th>4</th>\n",
       "      <td>stop learning research develop uild future eyo...</td>\n",
       "      <td>spartajustice it notable wikipedia entry john ...</td>\n",
       "      <td>positiv</td>\n",
       "      <td>2023-04-26 13:01:52+00:00</td>\n",
       "    </tr>\n",
       "    <tr>\n",
       "      <th>...</th>\n",
       "      <td>...</td>\n",
       "      <td>...</td>\n",
       "      <td>...</td>\n",
       "      <td>...</td>\n",
       "    </tr>\n",
       "    <tr>\n",
       "      <th>369265</th>\n",
       "      <td>brain meant processing million tweet post vide...</td>\n",
       "      <td>chatgpt biggest smartest brain world right now...</td>\n",
       "      <td>negativ</td>\n",
       "      <td>2022-12-05 17:11:10+00:00</td>\n",
       "    </tr>\n",
       "    <tr>\n",
       "      <th>369266</th>\n",
       "      <td>blockchain enthusiast philanthropist slave jav...</td>\n",
       "      <td>levelsso happy chatgpt team com revolutionary ...</td>\n",
       "      <td>positiv</td>\n",
       "      <td>2022-12-05 17:10:31+00:00</td>\n",
       "    </tr>\n",
       "    <tr>\n",
       "      <th>369267</th>\n",
       "      <td>mathematician developer amazon previously geob...</td>\n",
       "      <td>russel chatgpt it funny take long time answer ...</td>\n",
       "      <td>neutral</td>\n",
       "      <td>2022-12-05 17:09:04+00:00</td>\n",
       "    </tr>\n",
       "    <tr>\n",
       "      <th>369268</th>\n",
       "      <td>passionate nature software developer profession</td>\n",
       "      <td>wondering difference jasper chatgpt gpt chatgp...</td>\n",
       "      <td>positiv</td>\n",
       "      <td>2022-12-05 17:08:44+00:00</td>\n",
       "    </tr>\n",
       "    <tr>\n",
       "      <th>369269</th>\n",
       "      <td>postdoc gipplab unigoettingen phd unikonstanz ...</td>\n",
       "      <td>chatgpt similar llm pose challenge academic in...</td>\n",
       "      <td>positiv</td>\n",
       "      <td>2022-12-05 17:08:20+00:00</td>\n",
       "    </tr>\n",
       "  </tbody>\n",
       "</table>\n",
       "<p>369270 rows × 4 columns</p>\n",
       "</div>"
      ],
      "text/plain": [
       "                                         user_description  \\\n",
       "0       building draftmateai developer author chatgpt ...   \n",
       "1       nomadic marketing vigilante graphic web design...   \n",
       "2       leading translation management platform locali...   \n",
       "3       engineering leader coach mentor building remot...   \n",
       "4       stop learning research develop uild future eyo...   \n",
       "...                                                   ...   \n",
       "369265  brain meant processing million tweet post vide...   \n",
       "369266  blockchain enthusiast philanthropist slave jav...   \n",
       "369267  mathematician developer amazon previously geob...   \n",
       "369268    passionate nature software developer profession   \n",
       "369269  postdoc gipplab unigoettingen phd unikonstanz ...   \n",
       "\n",
       "                                                   tweets    label  \\\n",
       "0       happy share draftmateai support day free trial...  positiv   \n",
       "1       integrate chatgpt marketo smart campaign disco...  positiv   \n",
       "2       pleased announce new patentpending technology ...  positiv   \n",
       "3       starting tire scolded chatgpt slight perceived...  neutral   \n",
       "4       spartajustice it notable wikipedia entry john ...  positiv   \n",
       "...                                                   ...      ...   \n",
       "369265  chatgpt biggest smartest brain world right now...  negativ   \n",
       "369266  levelsso happy chatgpt team com revolutionary ...  positiv   \n",
       "369267  russel chatgpt it funny take long time answer ...  neutral   \n",
       "369268  wondering difference jasper chatgpt gpt chatgp...  positiv   \n",
       "369269  chatgpt similar llm pose challenge academic in...  positiv   \n",
       "\n",
       "                             date  \n",
       "0       2023-04-26 13:02:16+00:00  \n",
       "1       2023-04-26 13:02:06+00:00  \n",
       "2       2023-04-26 13:02:05+00:00  \n",
       "3       2023-04-26 13:02:00+00:00  \n",
       "4       2023-04-26 13:01:52+00:00  \n",
       "...                           ...  \n",
       "369265  2022-12-05 17:11:10+00:00  \n",
       "369266  2022-12-05 17:10:31+00:00  \n",
       "369267  2022-12-05 17:09:04+00:00  \n",
       "369268  2022-12-05 17:08:44+00:00  \n",
       "369269  2022-12-05 17:08:20+00:00  \n",
       "\n",
       "[369270 rows x 4 columns]"
      ]
     },
     "execution_count": 85,
     "metadata": {},
     "output_type": "execute_result"
    }
   ],
   "source": [
    "df"
   ]
  },
  {
   "cell_type": "code",
   "execution_count": 86,
   "id": "146b1eb4",
   "metadata": {},
   "outputs": [],
   "source": [
    "descr = df.user_description"
   ]
  },
  {
   "cell_type": "code",
   "execution_count": 87,
   "id": "f2d81a43",
   "metadata": {},
   "outputs": [
    {
     "data": {
      "text/plain": [
       "0         building draftmateai developer author chatgpt ...\n",
       "1         nomadic marketing vigilante graphic web design...\n",
       "2         leading translation management platform locali...\n",
       "3         engineering leader coach mentor building remot...\n",
       "4         stop learning research develop uild future eyo...\n",
       "                                ...                        \n",
       "369265    brain meant processing million tweet post vide...\n",
       "369266    blockchain enthusiast philanthropist slave jav...\n",
       "369267    mathematician developer amazon previously geob...\n",
       "369268      passionate nature software developer profession\n",
       "369269    postdoc gipplab unigoettingen phd unikonstanz ...\n",
       "Name: user_description, Length: 369270, dtype: object"
      ]
     },
     "execution_count": 87,
     "metadata": {},
     "output_type": "execute_result"
    }
   ],
   "source": [
    "descr"
   ]
  },
  {
   "cell_type": "code",
   "execution_count": 88,
   "id": "0dd431ee",
   "metadata": {},
   "outputs": [
    {
     "data": {
      "text/plain": [
       "0"
      ]
     },
     "execution_count": 88,
     "metadata": {},
     "output_type": "execute_result"
    }
   ],
   "source": [
    "# check if there is any NaN value\n",
    "descr.isnull().values.any()\n",
    "descr.isnull().sum()"
   ]
  },
  {
   "cell_type": "code",
   "execution_count": 89,
   "id": "adcb1381",
   "metadata": {},
   "outputs": [
    {
     "data": {
      "text/plain": [
       "(23691661, 72575240)"
      ]
     },
     "execution_count": 89,
     "metadata": {},
     "output_type": "execute_result"
    }
   ],
   "source": [
    "# Word2Vec features: \n",
    "tokenize_tweet = descr.apply(lambda x: x.split())\n",
    "\n",
    "model_W2V.train(tokenize_tweet, total_examples= len(descr), epochs=20)"
   ]
  },
  {
   "cell_type": "code",
   "execution_count": 90,
   "id": "3162b80d",
   "metadata": {},
   "outputs": [
    {
     "name": "stdout",
     "output_type": "stream",
     "text": [
      "number of words that occured minimum 5 times  421\n",
      "sample words  ['ai', 'engineer', 'learning', 'data', 'machine', 'tweet', 'opinion', 'leading', 'science', 'leader', 'scientist', 'passionate', 'educator', 'research', 'entrepreneur', 'system', 'technology', 'innovation', 'prompt', 'work', 'phd', 'microsoft', 'solopreneur', 'investment', 'evening', 'weekend', 'revolution', 'llm', 'education', 'development', 'teacher', 'gpt', 'enthusiast', 'chatgpt', 'tech', 'advocate', 'world', 'content', 'news', 'llmops', 'lead', 'mlops', 'product', 'researcher', 'follow', 'alum', 'help', 'supportjpf', 'agent', 'proud']\n"
     ]
    }
   ],
   "source": [
    "w2v_words = list(model_W2V.wv.index_to_key)\n",
    "print(\"number of words that occured minimum 5 times \",len(w2v_words))\n",
    "print(\"sample words \", w2v_words[0:50])"
   ]
  },
  {
   "cell_type": "code",
   "execution_count": 91,
   "id": "6c8a0c1e",
   "metadata": {},
   "outputs": [
    {
     "name": "stderr",
     "output_type": "stream",
     "text": [
      "100%|████████████████████████████████████████████████████████████████████████| 369270/369270 [01:17<00:00, 4781.97it/s]"
     ]
    },
    {
     "name": "stdout",
     "output_type": "stream",
     "text": [
      "369270\n",
      "200\n"
     ]
    },
    {
     "name": "stderr",
     "output_type": "stream",
     "text": [
      "\n"
     ]
    }
   ],
   "source": [
    "vector = []\n",
    "for sent in tqdm(tokenize_tweet):\n",
    "    sent_vec = np.zeros(200)\n",
    "    count = 0\n",
    "    for word in sent: \n",
    "        if word in w2v_words:\n",
    "            vec = model_W2V.wv[word]\n",
    "            sent_vec += vec \n",
    "            count += 1\n",
    "    if count != 0:\n",
    "        sent_vec /= count #normalize\n",
    "    vector.append(sent_vec)\n",
    "    \n",
    "print(len(vector))\n",
    "print(len(vector[0]))"
   ]
  },
  {
   "cell_type": "code",
   "execution_count": 92,
   "id": "617225ef",
   "metadata": {},
   "outputs": [],
   "source": [
    "prediction_sc = model_lr.predict(vector)"
   ]
  },
  {
   "cell_type": "code",
   "execution_count": 93,
   "id": "83565bee",
   "metadata": {},
   "outputs": [
    {
     "data": {
      "text/plain": [
       "array([0., 0., 0., ..., 0., 0., 0.])"
      ]
     },
     "execution_count": 93,
     "metadata": {},
     "output_type": "execute_result"
    }
   ],
   "source": [
    "prediction_sc"
   ]
  },
  {
   "cell_type": "code",
   "execution_count": 94,
   "id": "0d1cebc3",
   "metadata": {},
   "outputs": [],
   "source": [
    "dataframe = {'user_description': df.user_description.values, 'SC': prediction_sc, 'tweets': df.tweets.values, 'label': df.label.values, 'date': df.date.values}"
   ]
  },
  {
   "cell_type": "code",
   "execution_count": 95,
   "id": "fa129e16",
   "metadata": {},
   "outputs": [],
   "source": [
    "result = pd.DataFrame(dataframe)"
   ]
  },
  {
   "cell_type": "code",
   "execution_count": 96,
   "id": "826c5994",
   "metadata": {},
   "outputs": [
    {
     "data": {
      "text/html": [
       "<div>\n",
       "<style scoped>\n",
       "    .dataframe tbody tr th:only-of-type {\n",
       "        vertical-align: middle;\n",
       "    }\n",
       "\n",
       "    .dataframe tbody tr th {\n",
       "        vertical-align: top;\n",
       "    }\n",
       "\n",
       "    .dataframe thead th {\n",
       "        text-align: right;\n",
       "    }\n",
       "</style>\n",
       "<table border=\"1\" class=\"dataframe\">\n",
       "  <thead>\n",
       "    <tr style=\"text-align: right;\">\n",
       "      <th></th>\n",
       "      <th>user_description</th>\n",
       "      <th>SC</th>\n",
       "      <th>tweets</th>\n",
       "      <th>label</th>\n",
       "      <th>date</th>\n",
       "    </tr>\n",
       "  </thead>\n",
       "  <tbody>\n",
       "    <tr>\n",
       "      <th>0</th>\n",
       "      <td>building draftmateai developer author chatgpt ...</td>\n",
       "      <td>0.0</td>\n",
       "      <td>happy share draftmateai support day free trial...</td>\n",
       "      <td>positiv</td>\n",
       "      <td>2023-04-26 13:02:16+00:00</td>\n",
       "    </tr>\n",
       "    <tr>\n",
       "      <th>1</th>\n",
       "      <td>nomadic marketing vigilante graphic web design...</td>\n",
       "      <td>0.0</td>\n",
       "      <td>integrate chatgpt marketo smart campaign disco...</td>\n",
       "      <td>positiv</td>\n",
       "      <td>2023-04-26 13:02:06+00:00</td>\n",
       "    </tr>\n",
       "    <tr>\n",
       "      <th>2</th>\n",
       "      <td>leading translation management platform locali...</td>\n",
       "      <td>0.0</td>\n",
       "      <td>pleased announce new patentpending technology ...</td>\n",
       "      <td>positiv</td>\n",
       "      <td>2023-04-26 13:02:05+00:00</td>\n",
       "    </tr>\n",
       "    <tr>\n",
       "      <th>3</th>\n",
       "      <td>engineering leader coach mentor building remot...</td>\n",
       "      <td>0.0</td>\n",
       "      <td>starting tire scolded chatgpt slight perceived...</td>\n",
       "      <td>neutral</td>\n",
       "      <td>2023-04-26 13:02:00+00:00</td>\n",
       "    </tr>\n",
       "    <tr>\n",
       "      <th>4</th>\n",
       "      <td>stop learning research develop uild future eyo...</td>\n",
       "      <td>0.0</td>\n",
       "      <td>spartajustice it notable wikipedia entry john ...</td>\n",
       "      <td>positiv</td>\n",
       "      <td>2023-04-26 13:01:52+00:00</td>\n",
       "    </tr>\n",
       "    <tr>\n",
       "      <th>...</th>\n",
       "      <td>...</td>\n",
       "      <td>...</td>\n",
       "      <td>...</td>\n",
       "      <td>...</td>\n",
       "      <td>...</td>\n",
       "    </tr>\n",
       "    <tr>\n",
       "      <th>369265</th>\n",
       "      <td>brain meant processing million tweet post vide...</td>\n",
       "      <td>0.0</td>\n",
       "      <td>chatgpt biggest smartest brain world right now...</td>\n",
       "      <td>negativ</td>\n",
       "      <td>2022-12-05 17:11:10+00:00</td>\n",
       "    </tr>\n",
       "    <tr>\n",
       "      <th>369266</th>\n",
       "      <td>blockchain enthusiast philanthropist slave jav...</td>\n",
       "      <td>0.0</td>\n",
       "      <td>levelsso happy chatgpt team com revolutionary ...</td>\n",
       "      <td>positiv</td>\n",
       "      <td>2022-12-05 17:10:31+00:00</td>\n",
       "    </tr>\n",
       "    <tr>\n",
       "      <th>369267</th>\n",
       "      <td>mathematician developer amazon previously geob...</td>\n",
       "      <td>0.0</td>\n",
       "      <td>russel chatgpt it funny take long time answer ...</td>\n",
       "      <td>neutral</td>\n",
       "      <td>2022-12-05 17:09:04+00:00</td>\n",
       "    </tr>\n",
       "    <tr>\n",
       "      <th>369268</th>\n",
       "      <td>passionate nature software developer profession</td>\n",
       "      <td>0.0</td>\n",
       "      <td>wondering difference jasper chatgpt gpt chatgp...</td>\n",
       "      <td>positiv</td>\n",
       "      <td>2022-12-05 17:08:44+00:00</td>\n",
       "    </tr>\n",
       "    <tr>\n",
       "      <th>369269</th>\n",
       "      <td>postdoc gipplab unigoettingen phd unikonstanz ...</td>\n",
       "      <td>0.0</td>\n",
       "      <td>chatgpt similar llm pose challenge academic in...</td>\n",
       "      <td>positiv</td>\n",
       "      <td>2022-12-05 17:08:20+00:00</td>\n",
       "    </tr>\n",
       "  </tbody>\n",
       "</table>\n",
       "<p>369270 rows × 5 columns</p>\n",
       "</div>"
      ],
      "text/plain": [
       "                                         user_description   SC  \\\n",
       "0       building draftmateai developer author chatgpt ...  0.0   \n",
       "1       nomadic marketing vigilante graphic web design...  0.0   \n",
       "2       leading translation management platform locali...  0.0   \n",
       "3       engineering leader coach mentor building remot...  0.0   \n",
       "4       stop learning research develop uild future eyo...  0.0   \n",
       "...                                                   ...  ...   \n",
       "369265  brain meant processing million tweet post vide...  0.0   \n",
       "369266  blockchain enthusiast philanthropist slave jav...  0.0   \n",
       "369267  mathematician developer amazon previously geob...  0.0   \n",
       "369268    passionate nature software developer profession  0.0   \n",
       "369269  postdoc gipplab unigoettingen phd unikonstanz ...  0.0   \n",
       "\n",
       "                                                   tweets    label  \\\n",
       "0       happy share draftmateai support day free trial...  positiv   \n",
       "1       integrate chatgpt marketo smart campaign disco...  positiv   \n",
       "2       pleased announce new patentpending technology ...  positiv   \n",
       "3       starting tire scolded chatgpt slight perceived...  neutral   \n",
       "4       spartajustice it notable wikipedia entry john ...  positiv   \n",
       "...                                                   ...      ...   \n",
       "369265  chatgpt biggest smartest brain world right now...  negativ   \n",
       "369266  levelsso happy chatgpt team com revolutionary ...  positiv   \n",
       "369267  russel chatgpt it funny take long time answer ...  neutral   \n",
       "369268  wondering difference jasper chatgpt gpt chatgp...  positiv   \n",
       "369269  chatgpt similar llm pose challenge academic in...  positiv   \n",
       "\n",
       "                             date  \n",
       "0       2023-04-26 13:02:16+00:00  \n",
       "1       2023-04-26 13:02:06+00:00  \n",
       "2       2023-04-26 13:02:05+00:00  \n",
       "3       2023-04-26 13:02:00+00:00  \n",
       "4       2023-04-26 13:01:52+00:00  \n",
       "...                           ...  \n",
       "369265  2022-12-05 17:11:10+00:00  \n",
       "369266  2022-12-05 17:10:31+00:00  \n",
       "369267  2022-12-05 17:09:04+00:00  \n",
       "369268  2022-12-05 17:08:44+00:00  \n",
       "369269  2022-12-05 17:08:20+00:00  \n",
       "\n",
       "[369270 rows x 5 columns]"
      ]
     },
     "execution_count": 96,
     "metadata": {},
     "output_type": "execute_result"
    }
   ],
   "source": [
    "result"
   ]
  },
  {
   "cell_type": "code",
   "execution_count": 98,
   "id": "1787f6c5",
   "metadata": {},
   "outputs": [
    {
     "data": {
      "text/plain": [
       "0.0    362603\n",
       "1.0      6667\n",
       "Name: SC, dtype: int64"
      ]
     },
     "execution_count": 98,
     "metadata": {},
     "output_type": "execute_result"
    }
   ],
   "source": [
    "result.SC.value_counts() "
   ]
  },
  {
   "cell_type": "code",
   "execution_count": 100,
   "id": "5463aa09",
   "metadata": {},
   "outputs": [],
   "source": [
    "result.to_csv('datasets/sentiment_chatgpt_sc.csv')"
   ]
  },
  {
   "cell_type": "code",
   "execution_count": 101,
   "id": "4dcb4400",
   "metadata": {},
   "outputs": [],
   "source": [
    "scientists = result[result.SC == 1]"
   ]
  },
  {
   "cell_type": "code",
   "execution_count": 102,
   "id": "e0065e75",
   "metadata": {},
   "outputs": [
    {
     "data": {
      "text/plain": [
       "6667"
      ]
     },
     "execution_count": 102,
     "metadata": {},
     "output_type": "execute_result"
    }
   ],
   "source": [
    "len(scientists)"
   ]
  },
  {
   "cell_type": "code",
   "execution_count": 103,
   "id": "5d865e79",
   "metadata": {},
   "outputs": [
    {
     "data": {
      "text/html": [
       "<div>\n",
       "<style scoped>\n",
       "    .dataframe tbody tr th:only-of-type {\n",
       "        vertical-align: middle;\n",
       "    }\n",
       "\n",
       "    .dataframe tbody tr th {\n",
       "        vertical-align: top;\n",
       "    }\n",
       "\n",
       "    .dataframe thead th {\n",
       "        text-align: right;\n",
       "    }\n",
       "</style>\n",
       "<table border=\"1\" class=\"dataframe\">\n",
       "  <thead>\n",
       "    <tr style=\"text-align: right;\">\n",
       "      <th></th>\n",
       "      <th>user_description</th>\n",
       "      <th>SC</th>\n",
       "      <th>tweets</th>\n",
       "      <th>label</th>\n",
       "      <th>date</th>\n",
       "    </tr>\n",
       "  </thead>\n",
       "  <tbody>\n",
       "    <tr>\n",
       "      <th>14</th>\n",
       "      <td>chatgpt powered free trading signal let grow m...</td>\n",
       "      <td>1.0</td>\n",
       "      <td>sell rsi bybit recommendation short ticker ios...</td>\n",
       "      <td>positiv</td>\n",
       "      <td>2023-04-26 13:00:16+00:00</td>\n",
       "    </tr>\n",
       "    <tr>\n",
       "      <th>22</th>\n",
       "      <td>chatgpt powered free trading signal let grow m...</td>\n",
       "      <td>1.0</td>\n",
       "      <td>sell rsi bybit recommendation short ticker ilv...</td>\n",
       "      <td>positiv</td>\n",
       "      <td>2023-04-26 12:59:29+00:00</td>\n",
       "    </tr>\n",
       "    <tr>\n",
       "      <th>40</th>\n",
       "      <td>chatgpt powered free trading signal let grow m...</td>\n",
       "      <td>1.0</td>\n",
       "      <td>sell rsi bybit recommendation short ticker flm...</td>\n",
       "      <td>positiv</td>\n",
       "      <td>2023-04-26 12:53:58+00:00</td>\n",
       "    </tr>\n",
       "    <tr>\n",
       "      <th>41</th>\n",
       "      <td>chatgpt powered free trading signal let grow m...</td>\n",
       "      <td>1.0</td>\n",
       "      <td>sell rsi bybit recommendation short ticker fil...</td>\n",
       "      <td>neutral</td>\n",
       "      <td>2023-04-26 12:53:25+00:00</td>\n",
       "    </tr>\n",
       "    <tr>\n",
       "      <th>54</th>\n",
       "      <td>chatgpt powered free trading signal let grow m...</td>\n",
       "      <td>1.0</td>\n",
       "      <td>sell rsi bybit recommendation short ticker eth...</td>\n",
       "      <td>positiv</td>\n",
       "      <td>2023-04-26 12:52:37+00:00</td>\n",
       "    </tr>\n",
       "    <tr>\n",
       "      <th>...</th>\n",
       "      <td>...</td>\n",
       "      <td>...</td>\n",
       "      <td>...</td>\n",
       "      <td>...</td>\n",
       "      <td>...</td>\n",
       "    </tr>\n",
       "    <tr>\n",
       "      <th>367973</th>\n",
       "      <td>attract complication easily distracted sing so...</td>\n",
       "      <td>1.0</td>\n",
       "      <td>chatgpt thought dalle too favourite</td>\n",
       "      <td>negativ</td>\n",
       "      <td>2022-12-05 21:32:20+00:00</td>\n",
       "    </tr>\n",
       "    <tr>\n",
       "      <th>368229</th>\n",
       "      <td>hate speech outlet out moving arisinfosecexchange</td>\n",
       "      <td>1.0</td>\n",
       "      <td>chatgpt big brother share wisdom experience pr...</td>\n",
       "      <td>positiv</td>\n",
       "      <td>2022-12-05 20:47:28+00:00</td>\n",
       "    </tr>\n",
       "    <tr>\n",
       "      <th>368478</th>\n",
       "      <td>ligthen it joke</td>\n",
       "      <td>1.0</td>\n",
       "      <td>shut down immediately thing advancement destro...</td>\n",
       "      <td>positiv</td>\n",
       "      <td>2022-12-05 20:02:15+00:00</td>\n",
       "    </tr>\n",
       "    <tr>\n",
       "      <th>369022</th>\n",
       "      <td>hacker collective fighting techenabled abuse n...</td>\n",
       "      <td>1.0</td>\n",
       "      <td>cool screenshots chatgpt racist writing vulner...</td>\n",
       "      <td>negativ</td>\n",
       "      <td>2022-12-05 18:12:28+00:00</td>\n",
       "    </tr>\n",
       "    <tr>\n",
       "      <th>369044</th>\n",
       "      <td>greatest greater fool mattsbytesfosstodonorg</td>\n",
       "      <td>1.0</td>\n",
       "      <td>milton friedman lot answer economics chatgpt o...</td>\n",
       "      <td>negativ</td>\n",
       "      <td>2022-12-05 18:06:32+00:00</td>\n",
       "    </tr>\n",
       "  </tbody>\n",
       "</table>\n",
       "<p>6667 rows × 5 columns</p>\n",
       "</div>"
      ],
      "text/plain": [
       "                                         user_description   SC  \\\n",
       "14      chatgpt powered free trading signal let grow m...  1.0   \n",
       "22      chatgpt powered free trading signal let grow m...  1.0   \n",
       "40      chatgpt powered free trading signal let grow m...  1.0   \n",
       "41      chatgpt powered free trading signal let grow m...  1.0   \n",
       "54      chatgpt powered free trading signal let grow m...  1.0   \n",
       "...                                                   ...  ...   \n",
       "367973  attract complication easily distracted sing so...  1.0   \n",
       "368229  hate speech outlet out moving arisinfosecexchange  1.0   \n",
       "368478                                    ligthen it joke  1.0   \n",
       "369022  hacker collective fighting techenabled abuse n...  1.0   \n",
       "369044       greatest greater fool mattsbytesfosstodonorg  1.0   \n",
       "\n",
       "                                                   tweets    label  \\\n",
       "14      sell rsi bybit recommendation short ticker ios...  positiv   \n",
       "22      sell rsi bybit recommendation short ticker ilv...  positiv   \n",
       "40      sell rsi bybit recommendation short ticker flm...  positiv   \n",
       "41      sell rsi bybit recommendation short ticker fil...  neutral   \n",
       "54      sell rsi bybit recommendation short ticker eth...  positiv   \n",
       "...                                                   ...      ...   \n",
       "367973                chatgpt thought dalle too favourite  negativ   \n",
       "368229  chatgpt big brother share wisdom experience pr...  positiv   \n",
       "368478  shut down immediately thing advancement destro...  positiv   \n",
       "369022  cool screenshots chatgpt racist writing vulner...  negativ   \n",
       "369044  milton friedman lot answer economics chatgpt o...  negativ   \n",
       "\n",
       "                             date  \n",
       "14      2023-04-26 13:00:16+00:00  \n",
       "22      2023-04-26 12:59:29+00:00  \n",
       "40      2023-04-26 12:53:58+00:00  \n",
       "41      2023-04-26 12:53:25+00:00  \n",
       "54      2023-04-26 12:52:37+00:00  \n",
       "...                           ...  \n",
       "367973  2022-12-05 21:32:20+00:00  \n",
       "368229  2022-12-05 20:47:28+00:00  \n",
       "368478  2022-12-05 20:02:15+00:00  \n",
       "369022  2022-12-05 18:12:28+00:00  \n",
       "369044  2022-12-05 18:06:32+00:00  \n",
       "\n",
       "[6667 rows x 5 columns]"
      ]
     },
     "execution_count": 103,
     "metadata": {},
     "output_type": "execute_result"
    }
   ],
   "source": [
    "scientists"
   ]
  },
  {
   "cell_type": "code",
   "execution_count": 104,
   "id": "4fa77036",
   "metadata": {},
   "outputs": [],
   "source": [
    "scientists = scientists.drop('SC', axis=1)"
   ]
  },
  {
   "cell_type": "code",
   "execution_count": 105,
   "id": "45107bb0",
   "metadata": {},
   "outputs": [
    {
     "data": {
      "text/html": [
       "<div>\n",
       "<style scoped>\n",
       "    .dataframe tbody tr th:only-of-type {\n",
       "        vertical-align: middle;\n",
       "    }\n",
       "\n",
       "    .dataframe tbody tr th {\n",
       "        vertical-align: top;\n",
       "    }\n",
       "\n",
       "    .dataframe thead th {\n",
       "        text-align: right;\n",
       "    }\n",
       "</style>\n",
       "<table border=\"1\" class=\"dataframe\">\n",
       "  <thead>\n",
       "    <tr style=\"text-align: right;\">\n",
       "      <th></th>\n",
       "      <th>user_description</th>\n",
       "      <th>tweets</th>\n",
       "      <th>label</th>\n",
       "      <th>date</th>\n",
       "    </tr>\n",
       "  </thead>\n",
       "  <tbody>\n",
       "    <tr>\n",
       "      <th>14</th>\n",
       "      <td>chatgpt powered free trading signal let grow m...</td>\n",
       "      <td>sell rsi bybit recommendation short ticker ios...</td>\n",
       "      <td>positiv</td>\n",
       "      <td>2023-04-26 13:00:16+00:00</td>\n",
       "    </tr>\n",
       "    <tr>\n",
       "      <th>22</th>\n",
       "      <td>chatgpt powered free trading signal let grow m...</td>\n",
       "      <td>sell rsi bybit recommendation short ticker ilv...</td>\n",
       "      <td>positiv</td>\n",
       "      <td>2023-04-26 12:59:29+00:00</td>\n",
       "    </tr>\n",
       "    <tr>\n",
       "      <th>40</th>\n",
       "      <td>chatgpt powered free trading signal let grow m...</td>\n",
       "      <td>sell rsi bybit recommendation short ticker flm...</td>\n",
       "      <td>positiv</td>\n",
       "      <td>2023-04-26 12:53:58+00:00</td>\n",
       "    </tr>\n",
       "    <tr>\n",
       "      <th>41</th>\n",
       "      <td>chatgpt powered free trading signal let grow m...</td>\n",
       "      <td>sell rsi bybit recommendation short ticker fil...</td>\n",
       "      <td>neutral</td>\n",
       "      <td>2023-04-26 12:53:25+00:00</td>\n",
       "    </tr>\n",
       "    <tr>\n",
       "      <th>54</th>\n",
       "      <td>chatgpt powered free trading signal let grow m...</td>\n",
       "      <td>sell rsi bybit recommendation short ticker eth...</td>\n",
       "      <td>positiv</td>\n",
       "      <td>2023-04-26 12:52:37+00:00</td>\n",
       "    </tr>\n",
       "    <tr>\n",
       "      <th>...</th>\n",
       "      <td>...</td>\n",
       "      <td>...</td>\n",
       "      <td>...</td>\n",
       "      <td>...</td>\n",
       "    </tr>\n",
       "    <tr>\n",
       "      <th>367973</th>\n",
       "      <td>attract complication easily distracted sing so...</td>\n",
       "      <td>chatgpt thought dalle too favourite</td>\n",
       "      <td>negativ</td>\n",
       "      <td>2022-12-05 21:32:20+00:00</td>\n",
       "    </tr>\n",
       "    <tr>\n",
       "      <th>368229</th>\n",
       "      <td>hate speech outlet out moving arisinfosecexchange</td>\n",
       "      <td>chatgpt big brother share wisdom experience pr...</td>\n",
       "      <td>positiv</td>\n",
       "      <td>2022-12-05 20:47:28+00:00</td>\n",
       "    </tr>\n",
       "    <tr>\n",
       "      <th>368478</th>\n",
       "      <td>ligthen it joke</td>\n",
       "      <td>shut down immediately thing advancement destro...</td>\n",
       "      <td>positiv</td>\n",
       "      <td>2022-12-05 20:02:15+00:00</td>\n",
       "    </tr>\n",
       "    <tr>\n",
       "      <th>369022</th>\n",
       "      <td>hacker collective fighting techenabled abuse n...</td>\n",
       "      <td>cool screenshots chatgpt racist writing vulner...</td>\n",
       "      <td>negativ</td>\n",
       "      <td>2022-12-05 18:12:28+00:00</td>\n",
       "    </tr>\n",
       "    <tr>\n",
       "      <th>369044</th>\n",
       "      <td>greatest greater fool mattsbytesfosstodonorg</td>\n",
       "      <td>milton friedman lot answer economics chatgpt o...</td>\n",
       "      <td>negativ</td>\n",
       "      <td>2022-12-05 18:06:32+00:00</td>\n",
       "    </tr>\n",
       "  </tbody>\n",
       "</table>\n",
       "<p>6667 rows × 4 columns</p>\n",
       "</div>"
      ],
      "text/plain": [
       "                                         user_description  \\\n",
       "14      chatgpt powered free trading signal let grow m...   \n",
       "22      chatgpt powered free trading signal let grow m...   \n",
       "40      chatgpt powered free trading signal let grow m...   \n",
       "41      chatgpt powered free trading signal let grow m...   \n",
       "54      chatgpt powered free trading signal let grow m...   \n",
       "...                                                   ...   \n",
       "367973  attract complication easily distracted sing so...   \n",
       "368229  hate speech outlet out moving arisinfosecexchange   \n",
       "368478                                    ligthen it joke   \n",
       "369022  hacker collective fighting techenabled abuse n...   \n",
       "369044       greatest greater fool mattsbytesfosstodonorg   \n",
       "\n",
       "                                                   tweets    label  \\\n",
       "14      sell rsi bybit recommendation short ticker ios...  positiv   \n",
       "22      sell rsi bybit recommendation short ticker ilv...  positiv   \n",
       "40      sell rsi bybit recommendation short ticker flm...  positiv   \n",
       "41      sell rsi bybit recommendation short ticker fil...  neutral   \n",
       "54      sell rsi bybit recommendation short ticker eth...  positiv   \n",
       "...                                                   ...      ...   \n",
       "367973                chatgpt thought dalle too favourite  negativ   \n",
       "368229  chatgpt big brother share wisdom experience pr...  positiv   \n",
       "368478  shut down immediately thing advancement destro...  positiv   \n",
       "369022  cool screenshots chatgpt racist writing vulner...  negativ   \n",
       "369044  milton friedman lot answer economics chatgpt o...  negativ   \n",
       "\n",
       "                             date  \n",
       "14      2023-04-26 13:00:16+00:00  \n",
       "22      2023-04-26 12:59:29+00:00  \n",
       "40      2023-04-26 12:53:58+00:00  \n",
       "41      2023-04-26 12:53:25+00:00  \n",
       "54      2023-04-26 12:52:37+00:00  \n",
       "...                           ...  \n",
       "367973  2022-12-05 21:32:20+00:00  \n",
       "368229  2022-12-05 20:47:28+00:00  \n",
       "368478  2022-12-05 20:02:15+00:00  \n",
       "369022  2022-12-05 18:12:28+00:00  \n",
       "369044  2022-12-05 18:06:32+00:00  \n",
       "\n",
       "[6667 rows x 4 columns]"
      ]
     },
     "execution_count": 105,
     "metadata": {},
     "output_type": "execute_result"
    }
   ],
   "source": [
    "scientists"
   ]
  },
  {
   "cell_type": "code",
   "execution_count": 106,
   "id": "568c35e3",
   "metadata": {},
   "outputs": [],
   "source": [
    "scientists.to_csv('datasets/sentiment_scientists.csv')"
   ]
  },
  {
   "cell_type": "code",
   "execution_count": 2,
   "id": "d6e75516",
   "metadata": {},
   "outputs": [],
   "source": [
    "import pandas as pd\n",
    "df = pd.read_csv('datasets/sentiment_scientists.csv', usecols=['user_description','tweets','label', 'date'])"
   ]
  },
  {
   "cell_type": "code",
   "execution_count": 3,
   "id": "c1576476",
   "metadata": {},
   "outputs": [
    {
     "data": {
      "text/html": [
       "<div>\n",
       "<style scoped>\n",
       "    .dataframe tbody tr th:only-of-type {\n",
       "        vertical-align: middle;\n",
       "    }\n",
       "\n",
       "    .dataframe tbody tr th {\n",
       "        vertical-align: top;\n",
       "    }\n",
       "\n",
       "    .dataframe thead th {\n",
       "        text-align: right;\n",
       "    }\n",
       "</style>\n",
       "<table border=\"1\" class=\"dataframe\">\n",
       "  <thead>\n",
       "    <tr style=\"text-align: right;\">\n",
       "      <th></th>\n",
       "      <th>user_description</th>\n",
       "      <th>tweets</th>\n",
       "      <th>label</th>\n",
       "      <th>date</th>\n",
       "    </tr>\n",
       "  </thead>\n",
       "  <tbody>\n",
       "    <tr>\n",
       "      <th>0</th>\n",
       "      <td>chatgpt powered free trading signal let grow m...</td>\n",
       "      <td>sell rsi bybit recommendation short ticker ios...</td>\n",
       "      <td>positiv</td>\n",
       "      <td>2023-04-26 13:00:16+00:00</td>\n",
       "    </tr>\n",
       "    <tr>\n",
       "      <th>1</th>\n",
       "      <td>chatgpt powered free trading signal let grow m...</td>\n",
       "      <td>sell rsi bybit recommendation short ticker ilv...</td>\n",
       "      <td>positiv</td>\n",
       "      <td>2023-04-26 12:59:29+00:00</td>\n",
       "    </tr>\n",
       "    <tr>\n",
       "      <th>2</th>\n",
       "      <td>chatgpt powered free trading signal let grow m...</td>\n",
       "      <td>sell rsi bybit recommendation short ticker flm...</td>\n",
       "      <td>positiv</td>\n",
       "      <td>2023-04-26 12:53:58+00:00</td>\n",
       "    </tr>\n",
       "    <tr>\n",
       "      <th>3</th>\n",
       "      <td>chatgpt powered free trading signal let grow m...</td>\n",
       "      <td>sell rsi bybit recommendation short ticker fil...</td>\n",
       "      <td>neutral</td>\n",
       "      <td>2023-04-26 12:53:25+00:00</td>\n",
       "    </tr>\n",
       "    <tr>\n",
       "      <th>4</th>\n",
       "      <td>chatgpt powered free trading signal let grow m...</td>\n",
       "      <td>sell rsi bybit recommendation short ticker eth...</td>\n",
       "      <td>positiv</td>\n",
       "      <td>2023-04-26 12:52:37+00:00</td>\n",
       "    </tr>\n",
       "    <tr>\n",
       "      <th>...</th>\n",
       "      <td>...</td>\n",
       "      <td>...</td>\n",
       "      <td>...</td>\n",
       "      <td>...</td>\n",
       "    </tr>\n",
       "    <tr>\n",
       "      <th>6662</th>\n",
       "      <td>attract complication easily distracted sing so...</td>\n",
       "      <td>chatgpt thought dalle too favourite</td>\n",
       "      <td>negativ</td>\n",
       "      <td>2022-12-05 21:32:20+00:00</td>\n",
       "    </tr>\n",
       "    <tr>\n",
       "      <th>6663</th>\n",
       "      <td>hate speech outlet out moving arisinfosecexchange</td>\n",
       "      <td>chatgpt big brother share wisdom experience pr...</td>\n",
       "      <td>positiv</td>\n",
       "      <td>2022-12-05 20:47:28+00:00</td>\n",
       "    </tr>\n",
       "    <tr>\n",
       "      <th>6664</th>\n",
       "      <td>ligthen it joke</td>\n",
       "      <td>shut down immediately thing advancement destro...</td>\n",
       "      <td>positiv</td>\n",
       "      <td>2022-12-05 20:02:15+00:00</td>\n",
       "    </tr>\n",
       "    <tr>\n",
       "      <th>6665</th>\n",
       "      <td>hacker collective fighting techenabled abuse n...</td>\n",
       "      <td>cool screenshots chatgpt racist writing vulner...</td>\n",
       "      <td>negativ</td>\n",
       "      <td>2022-12-05 18:12:28+00:00</td>\n",
       "    </tr>\n",
       "    <tr>\n",
       "      <th>6666</th>\n",
       "      <td>greatest greater fool mattsbytesfosstodonorg</td>\n",
       "      <td>milton friedman lot answer economics chatgpt o...</td>\n",
       "      <td>negativ</td>\n",
       "      <td>2022-12-05 18:06:32+00:00</td>\n",
       "    </tr>\n",
       "  </tbody>\n",
       "</table>\n",
       "<p>6667 rows × 4 columns</p>\n",
       "</div>"
      ],
      "text/plain": [
       "                                       user_description  \\\n",
       "0     chatgpt powered free trading signal let grow m...   \n",
       "1     chatgpt powered free trading signal let grow m...   \n",
       "2     chatgpt powered free trading signal let grow m...   \n",
       "3     chatgpt powered free trading signal let grow m...   \n",
       "4     chatgpt powered free trading signal let grow m...   \n",
       "...                                                 ...   \n",
       "6662  attract complication easily distracted sing so...   \n",
       "6663  hate speech outlet out moving arisinfosecexchange   \n",
       "6664                                    ligthen it joke   \n",
       "6665  hacker collective fighting techenabled abuse n...   \n",
       "6666       greatest greater fool mattsbytesfosstodonorg   \n",
       "\n",
       "                                                 tweets    label  \\\n",
       "0     sell rsi bybit recommendation short ticker ios...  positiv   \n",
       "1     sell rsi bybit recommendation short ticker ilv...  positiv   \n",
       "2     sell rsi bybit recommendation short ticker flm...  positiv   \n",
       "3     sell rsi bybit recommendation short ticker fil...  neutral   \n",
       "4     sell rsi bybit recommendation short ticker eth...  positiv   \n",
       "...                                                 ...      ...   \n",
       "6662                chatgpt thought dalle too favourite  negativ   \n",
       "6663  chatgpt big brother share wisdom experience pr...  positiv   \n",
       "6664  shut down immediately thing advancement destro...  positiv   \n",
       "6665  cool screenshots chatgpt racist writing vulner...  negativ   \n",
       "6666  milton friedman lot answer economics chatgpt o...  negativ   \n",
       "\n",
       "                           date  \n",
       "0     2023-04-26 13:00:16+00:00  \n",
       "1     2023-04-26 12:59:29+00:00  \n",
       "2     2023-04-26 12:53:58+00:00  \n",
       "3     2023-04-26 12:53:25+00:00  \n",
       "4     2023-04-26 12:52:37+00:00  \n",
       "...                         ...  \n",
       "6662  2022-12-05 21:32:20+00:00  \n",
       "6663  2022-12-05 20:47:28+00:00  \n",
       "6664  2022-12-05 20:02:15+00:00  \n",
       "6665  2022-12-05 18:12:28+00:00  \n",
       "6666  2022-12-05 18:06:32+00:00  \n",
       "\n",
       "[6667 rows x 4 columns]"
      ]
     },
     "execution_count": 3,
     "metadata": {},
     "output_type": "execute_result"
    }
   ],
   "source": [
    "df"
   ]
  },
  {
   "cell_type": "code",
   "execution_count": 8,
   "id": "3bf6cbbc",
   "metadata": {},
   "outputs": [],
   "source": [
    "duplicated_rows = df.duplicated()"
   ]
  },
  {
   "cell_type": "markdown",
   "id": "8ca49735",
   "metadata": {},
   "source": [
    "## Classification tweets into scientists "
   ]
  },
  {
   "cell_type": "code",
   "execution_count": 5,
   "id": "dc9b641d",
   "metadata": {},
   "outputs": [],
   "source": [
    "# loading the dataset \n",
    "df = pd.read_csv('datasets/sentiment_chatgpt.csv', usecols=['user_name', 'user_description','tweets','label', 'date'])"
   ]
  },
  {
   "cell_type": "code",
   "execution_count": 6,
   "id": "df4b7bc4",
   "metadata": {},
   "outputs": [
    {
     "data": {
      "text/plain": [
       "357648"
      ]
     },
     "execution_count": 6,
     "metadata": {},
     "output_type": "execute_result"
    }
   ],
   "source": [
    "len(df)"
   ]
  },
  {
   "cell_type": "code",
   "execution_count": 9,
   "id": "cb57a330",
   "metadata": {},
   "outputs": [
    {
     "data": {
      "text/plain": [
       "user_name           0\n",
       "user_description    0\n",
       "tweets              0\n",
       "label               0\n",
       "date                0\n",
       "dtype: int64"
      ]
     },
     "execution_count": 9,
     "metadata": {},
     "output_type": "execute_result"
    }
   ],
   "source": [
    "df.isnull().values.any()\n",
    "df.isnull().sum()"
   ]
  },
  {
   "cell_type": "code",
   "execution_count": 74,
   "id": "50a45094",
   "metadata": {},
   "outputs": [],
   "source": [
    "name = df.user_name"
   ]
  },
  {
   "cell_type": "code",
   "execution_count": 75,
   "id": "903b8e74",
   "metadata": {},
   "outputs": [],
   "source": [
    "descr = df.user_description"
   ]
  },
  {
   "cell_type": "code",
   "execution_count": 76,
   "id": "b45340d5",
   "metadata": {},
   "outputs": [],
   "source": [
    "word_list = ['phd', 'researcher']"
   ]
  },
  {
   "cell_type": "code",
   "execution_count": 77,
   "id": "0d7012f8",
   "metadata": {},
   "outputs": [],
   "source": [
    "scientist = (name.str.contains('|'.join(word_list), case=False))"
   ]
  },
  {
   "cell_type": "code",
   "execution_count": 78,
   "id": "7329fbc5",
   "metadata": {},
   "outputs": [],
   "source": [
    "result = df[scientist]"
   ]
  },
  {
   "cell_type": "code",
   "execution_count": 79,
   "id": "9db69b03",
   "metadata": {},
   "outputs": [
    {
     "data": {
      "text/plain": [
       "2403"
      ]
     },
     "execution_count": 79,
     "metadata": {},
     "output_type": "execute_result"
    }
   ],
   "source": [
    "len(result)"
   ]
  },
  {
   "cell_type": "code",
   "execution_count": 80,
   "id": "b1aa9249",
   "metadata": {},
   "outputs": [
    {
     "data": {
      "text/html": [
       "<div>\n",
       "<style scoped>\n",
       "    .dataframe tbody tr th:only-of-type {\n",
       "        vertical-align: middle;\n",
       "    }\n",
       "\n",
       "    .dataframe tbody tr th {\n",
       "        vertical-align: top;\n",
       "    }\n",
       "\n",
       "    .dataframe thead th {\n",
       "        text-align: right;\n",
       "    }\n",
       "</style>\n",
       "<table border=\"1\" class=\"dataframe\">\n",
       "  <thead>\n",
       "    <tr style=\"text-align: right;\">\n",
       "      <th></th>\n",
       "      <th>user_name</th>\n",
       "      <th>user_description</th>\n",
       "      <th>tweets</th>\n",
       "      <th>label</th>\n",
       "      <th>date</th>\n",
       "    </tr>\n",
       "  </thead>\n",
       "  <tbody>\n",
       "    <tr>\n",
       "      <th>248</th>\n",
       "      <td>everyblackresearcher</td>\n",
       "      <td>use technology support researcher provide glob...</td>\n",
       "      <td>chatgpt basic use business date est est regist...</td>\n",
       "      <td>neutral</td>\n",
       "      <td>2023-04-26 12:01:24+00:00</td>\n",
       "    </tr>\n",
       "    <tr>\n",
       "      <th>328</th>\n",
       "      <td>emma scott phd</td>\n",
       "      <td>phd plant biologist woman science enterpenuere...</td>\n",
       "      <td>chatgpt gamechanging language model us power g...</td>\n",
       "      <td>negativ</td>\n",
       "      <td>2023-04-26 11:44:40+00:00</td>\n",
       "    </tr>\n",
       "    <tr>\n",
       "      <th>380</th>\n",
       "      <td>zeynep engin phd</td>\n",
       "      <td>founding director dataforpolicy editorinchief ...</td>\n",
       "      <td>hugely enjoyed delivering guest lecture hkust ...</td>\n",
       "      <td>neutral</td>\n",
       "      <td>2023-04-26 11:26:11+00:00</td>\n",
       "    </tr>\n",
       "    <tr>\n",
       "      <th>488</th>\n",
       "      <td>wesley fryer phd wfryermastodoncloud</td>\n",
       "      <td>love empowering creatively share voice medium ...</td>\n",
       "      <td>morning professional development video require...</td>\n",
       "      <td>positiv</td>\n",
       "      <td>2023-04-26 10:50:26+00:00</td>\n",
       "    </tr>\n",
       "    <tr>\n",
       "      <th>508</th>\n",
       "      <td>bertrand mocquet phd</td>\n",
       "      <td>expert num amuecom chercheur sic lelabmica ubm...</td>\n",
       "      <td>chatgpt artificial intelligence higher educati...</td>\n",
       "      <td>neutral</td>\n",
       "      <td>2023-04-26 10:45:13+00:00</td>\n",
       "    </tr>\n",
       "    <tr>\n",
       "      <th>...</th>\n",
       "      <td>...</td>\n",
       "      <td>...</td>\n",
       "      <td>...</td>\n",
       "      <td>...</td>\n",
       "      <td>...</td>\n",
       "    </tr>\n",
       "    <tr>\n",
       "      <th>356593</th>\n",
       "      <td>liesbeth tip phd liesbethtipfediscienceorg</td>\n",
       "      <td>clinical psychologist phd social anxiety socia...</td>\n",
       "      <td>chatgpt question cbt</td>\n",
       "      <td>neutral</td>\n",
       "      <td>2022-12-05 20:52:47+00:00</td>\n",
       "    </tr>\n",
       "    <tr>\n",
       "      <th>356607</th>\n",
       "      <td>liesbeth tip phd liesbethtipfediscienceorg</td>\n",
       "      <td>clinical psychologist phd social anxiety socia...</td>\n",
       "      <td>trying chatgpt wondering us clinical psycholog...</td>\n",
       "      <td>neutral</td>\n",
       "      <td>2022-12-05 20:49:57+00:00</td>\n",
       "    </tr>\n",
       "    <tr>\n",
       "      <th>356807</th>\n",
       "      <td>zachary zenko phd facsm</td>\n",
       "      <td>assistant professor kinesiology csu bakersfiel...</td>\n",
       "      <td>asked chatgpt design exercise program people c...</td>\n",
       "      <td>neutral</td>\n",
       "      <td>2022-12-05 20:14:04+00:00</td>\n",
       "    </tr>\n",
       "    <tr>\n",
       "      <th>357174</th>\n",
       "      <td>justyna hampel phd</td>\n",
       "      <td>postdoctoral research scientist stockholm univ...</td>\n",
       "      <td>doesn enjoy nice little poem cycle chatgpt nit...</td>\n",
       "      <td>positiv</td>\n",
       "      <td>2022-12-05 19:01:33+00:00</td>\n",
       "    </tr>\n",
       "    <tr>\n",
       "      <th>357569</th>\n",
       "      <td>punongbayan phd</td>\n",
       "      <td>filipino economist phd econ assistant prof ups...</td>\n",
       "      <td>cautious like maharlika fund chatgpt</td>\n",
       "      <td>neutral</td>\n",
       "      <td>2022-12-05 17:28:33+00:00</td>\n",
       "    </tr>\n",
       "  </tbody>\n",
       "</table>\n",
       "<p>2403 rows × 5 columns</p>\n",
       "</div>"
      ],
      "text/plain": [
       "                                         user_name  \\\n",
       "248                           everyblackresearcher   \n",
       "328                                 emma scott phd   \n",
       "380                               zeynep engin phd   \n",
       "488           wesley fryer phd wfryermastodoncloud   \n",
       "508                           bertrand mocquet phd   \n",
       "...                                            ...   \n",
       "356593  liesbeth tip phd liesbethtipfediscienceorg   \n",
       "356607  liesbeth tip phd liesbethtipfediscienceorg   \n",
       "356807                     zachary zenko phd facsm   \n",
       "357174                          justyna hampel phd   \n",
       "357569                             punongbayan phd   \n",
       "\n",
       "                                         user_description  \\\n",
       "248     use technology support researcher provide glob...   \n",
       "328     phd plant biologist woman science enterpenuere...   \n",
       "380     founding director dataforpolicy editorinchief ...   \n",
       "488     love empowering creatively share voice medium ...   \n",
       "508     expert num amuecom chercheur sic lelabmica ubm...   \n",
       "...                                                   ...   \n",
       "356593  clinical psychologist phd social anxiety socia...   \n",
       "356607  clinical psychologist phd social anxiety socia...   \n",
       "356807  assistant professor kinesiology csu bakersfiel...   \n",
       "357174  postdoctoral research scientist stockholm univ...   \n",
       "357569  filipino economist phd econ assistant prof ups...   \n",
       "\n",
       "                                                   tweets    label  \\\n",
       "248     chatgpt basic use business date est est regist...  neutral   \n",
       "328     chatgpt gamechanging language model us power g...  negativ   \n",
       "380     hugely enjoyed delivering guest lecture hkust ...  neutral   \n",
       "488     morning professional development video require...  positiv   \n",
       "508     chatgpt artificial intelligence higher educati...  neutral   \n",
       "...                                                   ...      ...   \n",
       "356593                               chatgpt question cbt  neutral   \n",
       "356607  trying chatgpt wondering us clinical psycholog...  neutral   \n",
       "356807  asked chatgpt design exercise program people c...  neutral   \n",
       "357174  doesn enjoy nice little poem cycle chatgpt nit...  positiv   \n",
       "357569               cautious like maharlika fund chatgpt  neutral   \n",
       "\n",
       "                             date  \n",
       "248     2023-04-26 12:01:24+00:00  \n",
       "328     2023-04-26 11:44:40+00:00  \n",
       "380     2023-04-26 11:26:11+00:00  \n",
       "488     2023-04-26 10:50:26+00:00  \n",
       "508     2023-04-26 10:45:13+00:00  \n",
       "...                           ...  \n",
       "356593  2022-12-05 20:52:47+00:00  \n",
       "356607  2022-12-05 20:49:57+00:00  \n",
       "356807  2022-12-05 20:14:04+00:00  \n",
       "357174  2022-12-05 19:01:33+00:00  \n",
       "357569  2022-12-05 17:28:33+00:00  \n",
       "\n",
       "[2403 rows x 5 columns]"
      ]
     },
     "execution_count": 80,
     "metadata": {},
     "output_type": "execute_result"
    }
   ],
   "source": [
    "result"
   ]
  },
  {
   "cell_type": "code",
   "execution_count": 81,
   "id": "336d9349",
   "metadata": {},
   "outputs": [],
   "source": [
    "result.to_csv(\"datasets/sentiment_scientists.csv\")"
   ]
  },
  {
   "cell_type": "code",
   "execution_count": 82,
   "id": "5b2127b7",
   "metadata": {},
   "outputs": [],
   "source": [
    "user = result.drop_duplicates(subset=['user_name'])"
   ]
  },
  {
   "cell_type": "code",
   "execution_count": 83,
   "id": "928608ec",
   "metadata": {},
   "outputs": [
    {
     "data": {
      "text/html": [
       "<div>\n",
       "<style scoped>\n",
       "    .dataframe tbody tr th:only-of-type {\n",
       "        vertical-align: middle;\n",
       "    }\n",
       "\n",
       "    .dataframe tbody tr th {\n",
       "        vertical-align: top;\n",
       "    }\n",
       "\n",
       "    .dataframe thead th {\n",
       "        text-align: right;\n",
       "    }\n",
       "</style>\n",
       "<table border=\"1\" class=\"dataframe\">\n",
       "  <thead>\n",
       "    <tr style=\"text-align: right;\">\n",
       "      <th></th>\n",
       "      <th>user_name</th>\n",
       "      <th>user_description</th>\n",
       "      <th>tweets</th>\n",
       "      <th>label</th>\n",
       "      <th>date</th>\n",
       "    </tr>\n",
       "  </thead>\n",
       "  <tbody>\n",
       "    <tr>\n",
       "      <th>248</th>\n",
       "      <td>everyblackresearcher</td>\n",
       "      <td>use technology support researcher provide glob...</td>\n",
       "      <td>chatgpt basic use business date est est regist...</td>\n",
       "      <td>neutral</td>\n",
       "      <td>2023-04-26 12:01:24+00:00</td>\n",
       "    </tr>\n",
       "    <tr>\n",
       "      <th>328</th>\n",
       "      <td>emma scott phd</td>\n",
       "      <td>phd plant biologist woman science enterpenuere...</td>\n",
       "      <td>chatgpt gamechanging language model us power g...</td>\n",
       "      <td>negativ</td>\n",
       "      <td>2023-04-26 11:44:40+00:00</td>\n",
       "    </tr>\n",
       "    <tr>\n",
       "      <th>380</th>\n",
       "      <td>zeynep engin phd</td>\n",
       "      <td>founding director dataforpolicy editorinchief ...</td>\n",
       "      <td>hugely enjoyed delivering guest lecture hkust ...</td>\n",
       "      <td>neutral</td>\n",
       "      <td>2023-04-26 11:26:11+00:00</td>\n",
       "    </tr>\n",
       "    <tr>\n",
       "      <th>488</th>\n",
       "      <td>wesley fryer phd wfryermastodoncloud</td>\n",
       "      <td>love empowering creatively share voice medium ...</td>\n",
       "      <td>morning professional development video require...</td>\n",
       "      <td>positiv</td>\n",
       "      <td>2023-04-26 10:50:26+00:00</td>\n",
       "    </tr>\n",
       "    <tr>\n",
       "      <th>508</th>\n",
       "      <td>bertrand mocquet phd</td>\n",
       "      <td>expert num amuecom chercheur sic lelabmica ubm...</td>\n",
       "      <td>chatgpt artificial intelligence higher educati...</td>\n",
       "      <td>neutral</td>\n",
       "      <td>2023-04-26 10:45:13+00:00</td>\n",
       "    </tr>\n",
       "    <tr>\n",
       "      <th>...</th>\n",
       "      <td>...</td>\n",
       "      <td>...</td>\n",
       "      <td>...</td>\n",
       "      <td>...</td>\n",
       "      <td>...</td>\n",
       "    </tr>\n",
       "    <tr>\n",
       "      <th>355986</th>\n",
       "      <td>phd hire</td>\n",
       "      <td>scientist giving free career advice hope acade...</td>\n",
       "      <td>academia ready chatgpt student writing paper t...</td>\n",
       "      <td>positiv</td>\n",
       "      <td>2022-12-05 22:51:26+00:00</td>\n",
       "    </tr>\n",
       "    <tr>\n",
       "      <th>356449</th>\n",
       "      <td>sam impey phd</td>\n",
       "      <td>cofounder hexislive adjunct lecturer edith cow...</td>\n",
       "      <td>asked chatgpt common question think chat athle...</td>\n",
       "      <td>positiv</td>\n",
       "      <td>2022-12-05 21:20:43+00:00</td>\n",
       "    </tr>\n",
       "    <tr>\n",
       "      <th>356574</th>\n",
       "      <td>liesbeth tip phd liesbethtipfediscienceorg</td>\n",
       "      <td>clinical psychologist phd social anxiety socia...</td>\n",
       "      <td>chatgpt bit argumentative best animal world ca...</td>\n",
       "      <td>neutral</td>\n",
       "      <td>2022-12-05 20:55:59+00:00</td>\n",
       "    </tr>\n",
       "    <tr>\n",
       "      <th>356807</th>\n",
       "      <td>zachary zenko phd facsm</td>\n",
       "      <td>assistant professor kinesiology csu bakersfiel...</td>\n",
       "      <td>asked chatgpt design exercise program people c...</td>\n",
       "      <td>neutral</td>\n",
       "      <td>2022-12-05 20:14:04+00:00</td>\n",
       "    </tr>\n",
       "    <tr>\n",
       "      <th>357174</th>\n",
       "      <td>justyna hampel phd</td>\n",
       "      <td>postdoctoral research scientist stockholm univ...</td>\n",
       "      <td>doesn enjoy nice little poem cycle chatgpt nit...</td>\n",
       "      <td>positiv</td>\n",
       "      <td>2022-12-05 19:01:33+00:00</td>\n",
       "    </tr>\n",
       "  </tbody>\n",
       "</table>\n",
       "<p>692 rows × 5 columns</p>\n",
       "</div>"
      ],
      "text/plain": [
       "                                         user_name  \\\n",
       "248                           everyblackresearcher   \n",
       "328                                 emma scott phd   \n",
       "380                               zeynep engin phd   \n",
       "488           wesley fryer phd wfryermastodoncloud   \n",
       "508                           bertrand mocquet phd   \n",
       "...                                            ...   \n",
       "355986                                    phd hire   \n",
       "356449                               sam impey phd   \n",
       "356574  liesbeth tip phd liesbethtipfediscienceorg   \n",
       "356807                     zachary zenko phd facsm   \n",
       "357174                          justyna hampel phd   \n",
       "\n",
       "                                         user_description  \\\n",
       "248     use technology support researcher provide glob...   \n",
       "328     phd plant biologist woman science enterpenuere...   \n",
       "380     founding director dataforpolicy editorinchief ...   \n",
       "488     love empowering creatively share voice medium ...   \n",
       "508     expert num amuecom chercheur sic lelabmica ubm...   \n",
       "...                                                   ...   \n",
       "355986  scientist giving free career advice hope acade...   \n",
       "356449  cofounder hexislive adjunct lecturer edith cow...   \n",
       "356574  clinical psychologist phd social anxiety socia...   \n",
       "356807  assistant professor kinesiology csu bakersfiel...   \n",
       "357174  postdoctoral research scientist stockholm univ...   \n",
       "\n",
       "                                                   tweets    label  \\\n",
       "248     chatgpt basic use business date est est regist...  neutral   \n",
       "328     chatgpt gamechanging language model us power g...  negativ   \n",
       "380     hugely enjoyed delivering guest lecture hkust ...  neutral   \n",
       "488     morning professional development video require...  positiv   \n",
       "508     chatgpt artificial intelligence higher educati...  neutral   \n",
       "...                                                   ...      ...   \n",
       "355986  academia ready chatgpt student writing paper t...  positiv   \n",
       "356449  asked chatgpt common question think chat athle...  positiv   \n",
       "356574  chatgpt bit argumentative best animal world ca...  neutral   \n",
       "356807  asked chatgpt design exercise program people c...  neutral   \n",
       "357174  doesn enjoy nice little poem cycle chatgpt nit...  positiv   \n",
       "\n",
       "                             date  \n",
       "248     2023-04-26 12:01:24+00:00  \n",
       "328     2023-04-26 11:44:40+00:00  \n",
       "380     2023-04-26 11:26:11+00:00  \n",
       "488     2023-04-26 10:50:26+00:00  \n",
       "508     2023-04-26 10:45:13+00:00  \n",
       "...                           ...  \n",
       "355986  2022-12-05 22:51:26+00:00  \n",
       "356449  2022-12-05 21:20:43+00:00  \n",
       "356574  2022-12-05 20:55:59+00:00  \n",
       "356807  2022-12-05 20:14:04+00:00  \n",
       "357174  2022-12-05 19:01:33+00:00  \n",
       "\n",
       "[692 rows x 5 columns]"
      ]
     },
     "execution_count": 83,
     "metadata": {},
     "output_type": "execute_result"
    }
   ],
   "source": [
    "user"
   ]
  },
  {
   "cell_type": "code",
   "execution_count": 87,
   "id": "e050d62d",
   "metadata": {},
   "outputs": [
    {
     "data": {
      "text/plain": [
       "692"
      ]
     },
     "execution_count": 87,
     "metadata": {},
     "output_type": "execute_result"
    }
   ],
   "source": [
    "len(user) # We have approximately 692 scientists (postdoctoral, professor and PhDs in every fields)"
   ]
  },
  {
   "cell_type": "code",
   "execution_count": 86,
   "id": "728e6ab2",
   "metadata": {},
   "outputs": [
    {
     "data": {
      "text/plain": [
       "positiv    887\n",
       "negativ    760\n",
       "neutral    756\n",
       "Name: label, dtype: int64"
      ]
     },
     "execution_count": 86,
     "metadata": {},
     "output_type": "execute_result"
    }
   ],
   "source": [
    "result.label.value_counts()"
   ]
  },
  {
   "cell_type": "markdown",
   "id": "09a60262",
   "metadata": {},
   "source": [
    "## Analysis and visualizations"
   ]
  },
  {
   "cell_type": "code",
   "execution_count": 88,
   "id": "99c9d52d",
   "metadata": {},
   "outputs": [
    {
     "data": {
      "text/plain": [
       "user_name           0\n",
       "user_description    0\n",
       "tweets              0\n",
       "label               0\n",
       "date                0\n",
       "dtype: int64"
      ]
     },
     "execution_count": 88,
     "metadata": {},
     "output_type": "execute_result"
    }
   ],
   "source": [
    "result.isnull().values.any()\n",
    "result.isnull().sum()"
   ]
  },
  {
   "cell_type": "code",
   "execution_count": 89,
   "id": "8cd56992",
   "metadata": {},
   "outputs": [],
   "source": [
    "df_sorted = result.sort_values(by='date')"
   ]
  },
  {
   "cell_type": "code",
   "execution_count": 90,
   "id": "5f2fe27a",
   "metadata": {},
   "outputs": [
    {
     "data": {
      "text/html": [
       "<div>\n",
       "<style scoped>\n",
       "    .dataframe tbody tr th:only-of-type {\n",
       "        vertical-align: middle;\n",
       "    }\n",
       "\n",
       "    .dataframe tbody tr th {\n",
       "        vertical-align: top;\n",
       "    }\n",
       "\n",
       "    .dataframe thead th {\n",
       "        text-align: right;\n",
       "    }\n",
       "</style>\n",
       "<table border=\"1\" class=\"dataframe\">\n",
       "  <thead>\n",
       "    <tr style=\"text-align: right;\">\n",
       "      <th></th>\n",
       "      <th>user_name</th>\n",
       "      <th>user_description</th>\n",
       "      <th>tweets</th>\n",
       "      <th>label</th>\n",
       "      <th>date</th>\n",
       "    </tr>\n",
       "  </thead>\n",
       "  <tbody>\n",
       "    <tr>\n",
       "      <th>357569</th>\n",
       "      <td>punongbayan phd</td>\n",
       "      <td>filipino economist phd econ assistant prof ups...</td>\n",
       "      <td>cautious like maharlika fund chatgpt</td>\n",
       "      <td>neutral</td>\n",
       "      <td>2022-12-05 17:28:33+00:00</td>\n",
       "    </tr>\n",
       "    <tr>\n",
       "      <th>357174</th>\n",
       "      <td>justyna hampel phd</td>\n",
       "      <td>postdoctoral research scientist stockholm univ...</td>\n",
       "      <td>doesn enjoy nice little poem cycle chatgpt nit...</td>\n",
       "      <td>positiv</td>\n",
       "      <td>2022-12-05 19:01:33+00:00</td>\n",
       "    </tr>\n",
       "    <tr>\n",
       "      <th>356807</th>\n",
       "      <td>zachary zenko phd facsm</td>\n",
       "      <td>assistant professor kinesiology csu bakersfiel...</td>\n",
       "      <td>asked chatgpt design exercise program people c...</td>\n",
       "      <td>neutral</td>\n",
       "      <td>2022-12-05 20:14:04+00:00</td>\n",
       "    </tr>\n",
       "    <tr>\n",
       "      <th>356607</th>\n",
       "      <td>liesbeth tip phd liesbethtipfediscienceorg</td>\n",
       "      <td>clinical psychologist phd social anxiety socia...</td>\n",
       "      <td>trying chatgpt wondering us clinical psycholog...</td>\n",
       "      <td>neutral</td>\n",
       "      <td>2022-12-05 20:49:57+00:00</td>\n",
       "    </tr>\n",
       "    <tr>\n",
       "      <th>356593</th>\n",
       "      <td>liesbeth tip phd liesbethtipfediscienceorg</td>\n",
       "      <td>clinical psychologist phd social anxiety socia...</td>\n",
       "      <td>chatgpt question cbt</td>\n",
       "      <td>neutral</td>\n",
       "      <td>2022-12-05 20:52:47+00:00</td>\n",
       "    </tr>\n",
       "    <tr>\n",
       "      <th>...</th>\n",
       "      <td>...</td>\n",
       "      <td>...</td>\n",
       "      <td>...</td>\n",
       "      <td>...</td>\n",
       "      <td>...</td>\n",
       "    </tr>\n",
       "    <tr>\n",
       "      <th>508</th>\n",
       "      <td>bertrand mocquet phd</td>\n",
       "      <td>expert num amuecom chercheur sic lelabmica ubm...</td>\n",
       "      <td>chatgpt artificial intelligence higher educati...</td>\n",
       "      <td>neutral</td>\n",
       "      <td>2023-04-26 10:45:13+00:00</td>\n",
       "    </tr>\n",
       "    <tr>\n",
       "      <th>488</th>\n",
       "      <td>wesley fryer phd wfryermastodoncloud</td>\n",
       "      <td>love empowering creatively share voice medium ...</td>\n",
       "      <td>morning professional development video require...</td>\n",
       "      <td>positiv</td>\n",
       "      <td>2023-04-26 10:50:26+00:00</td>\n",
       "    </tr>\n",
       "    <tr>\n",
       "      <th>380</th>\n",
       "      <td>zeynep engin phd</td>\n",
       "      <td>founding director dataforpolicy editorinchief ...</td>\n",
       "      <td>hugely enjoyed delivering guest lecture hkust ...</td>\n",
       "      <td>neutral</td>\n",
       "      <td>2023-04-26 11:26:11+00:00</td>\n",
       "    </tr>\n",
       "    <tr>\n",
       "      <th>328</th>\n",
       "      <td>emma scott phd</td>\n",
       "      <td>phd plant biologist woman science enterpenuere...</td>\n",
       "      <td>chatgpt gamechanging language model us power g...</td>\n",
       "      <td>negativ</td>\n",
       "      <td>2023-04-26 11:44:40+00:00</td>\n",
       "    </tr>\n",
       "    <tr>\n",
       "      <th>248</th>\n",
       "      <td>everyblackresearcher</td>\n",
       "      <td>use technology support researcher provide glob...</td>\n",
       "      <td>chatgpt basic use business date est est regist...</td>\n",
       "      <td>neutral</td>\n",
       "      <td>2023-04-26 12:01:24+00:00</td>\n",
       "    </tr>\n",
       "  </tbody>\n",
       "</table>\n",
       "<p>2403 rows × 5 columns</p>\n",
       "</div>"
      ],
      "text/plain": [
       "                                         user_name  \\\n",
       "357569                             punongbayan phd   \n",
       "357174                          justyna hampel phd   \n",
       "356807                     zachary zenko phd facsm   \n",
       "356607  liesbeth tip phd liesbethtipfediscienceorg   \n",
       "356593  liesbeth tip phd liesbethtipfediscienceorg   \n",
       "...                                            ...   \n",
       "508                           bertrand mocquet phd   \n",
       "488           wesley fryer phd wfryermastodoncloud   \n",
       "380                               zeynep engin phd   \n",
       "328                                 emma scott phd   \n",
       "248                           everyblackresearcher   \n",
       "\n",
       "                                         user_description  \\\n",
       "357569  filipino economist phd econ assistant prof ups...   \n",
       "357174  postdoctoral research scientist stockholm univ...   \n",
       "356807  assistant professor kinesiology csu bakersfiel...   \n",
       "356607  clinical psychologist phd social anxiety socia...   \n",
       "356593  clinical psychologist phd social anxiety socia...   \n",
       "...                                                   ...   \n",
       "508     expert num amuecom chercheur sic lelabmica ubm...   \n",
       "488     love empowering creatively share voice medium ...   \n",
       "380     founding director dataforpolicy editorinchief ...   \n",
       "328     phd plant biologist woman science enterpenuere...   \n",
       "248     use technology support researcher provide glob...   \n",
       "\n",
       "                                                   tweets    label  \\\n",
       "357569               cautious like maharlika fund chatgpt  neutral   \n",
       "357174  doesn enjoy nice little poem cycle chatgpt nit...  positiv   \n",
       "356807  asked chatgpt design exercise program people c...  neutral   \n",
       "356607  trying chatgpt wondering us clinical psycholog...  neutral   \n",
       "356593                               chatgpt question cbt  neutral   \n",
       "...                                                   ...      ...   \n",
       "508     chatgpt artificial intelligence higher educati...  neutral   \n",
       "488     morning professional development video require...  positiv   \n",
       "380     hugely enjoyed delivering guest lecture hkust ...  neutral   \n",
       "328     chatgpt gamechanging language model us power g...  negativ   \n",
       "248     chatgpt basic use business date est est regist...  neutral   \n",
       "\n",
       "                             date  \n",
       "357569  2022-12-05 17:28:33+00:00  \n",
       "357174  2022-12-05 19:01:33+00:00  \n",
       "356807  2022-12-05 20:14:04+00:00  \n",
       "356607  2022-12-05 20:49:57+00:00  \n",
       "356593  2022-12-05 20:52:47+00:00  \n",
       "...                           ...  \n",
       "508     2023-04-26 10:45:13+00:00  \n",
       "488     2023-04-26 10:50:26+00:00  \n",
       "380     2023-04-26 11:26:11+00:00  \n",
       "328     2023-04-26 11:44:40+00:00  \n",
       "248     2023-04-26 12:01:24+00:00  \n",
       "\n",
       "[2403 rows x 5 columns]"
      ]
     },
     "execution_count": 90,
     "metadata": {},
     "output_type": "execute_result"
    }
   ],
   "source": [
    "df_sorted"
   ]
  },
  {
   "cell_type": "code",
   "execution_count": 95,
   "id": "aaacf656",
   "metadata": {},
   "outputs": [],
   "source": [
    "# from december to april \n",
    "# december \n",
    "# january \n",
    "# february \n",
    "# march \n",
    "# april \n",
    "df_sorted.date = pd.to_datetime(df_sorted.date)"
   ]
  },
  {
   "cell_type": "code",
   "execution_count": 96,
   "id": "37c189b9",
   "metadata": {},
   "outputs": [],
   "source": [
    "dec = df_sorted[df_sorted.date.dt.month == 12]"
   ]
  },
  {
   "cell_type": "code",
   "execution_count": 97,
   "id": "27815123",
   "metadata": {},
   "outputs": [
    {
     "data": {
      "text/html": [
       "<div>\n",
       "<style scoped>\n",
       "    .dataframe tbody tr th:only-of-type {\n",
       "        vertical-align: middle;\n",
       "    }\n",
       "\n",
       "    .dataframe tbody tr th {\n",
       "        vertical-align: top;\n",
       "    }\n",
       "\n",
       "    .dataframe thead th {\n",
       "        text-align: right;\n",
       "    }\n",
       "</style>\n",
       "<table border=\"1\" class=\"dataframe\">\n",
       "  <thead>\n",
       "    <tr style=\"text-align: right;\">\n",
       "      <th></th>\n",
       "      <th>user_name</th>\n",
       "      <th>user_description</th>\n",
       "      <th>tweets</th>\n",
       "      <th>label</th>\n",
       "      <th>date</th>\n",
       "    </tr>\n",
       "  </thead>\n",
       "  <tbody>\n",
       "    <tr>\n",
       "      <th>357569</th>\n",
       "      <td>punongbayan phd</td>\n",
       "      <td>filipino economist phd econ assistant prof ups...</td>\n",
       "      <td>cautious like maharlika fund chatgpt</td>\n",
       "      <td>neutral</td>\n",
       "      <td>2022-12-05 17:28:33+00:00</td>\n",
       "    </tr>\n",
       "    <tr>\n",
       "      <th>357174</th>\n",
       "      <td>justyna hampel phd</td>\n",
       "      <td>postdoctoral research scientist stockholm univ...</td>\n",
       "      <td>doesn enjoy nice little poem cycle chatgpt nit...</td>\n",
       "      <td>positiv</td>\n",
       "      <td>2022-12-05 19:01:33+00:00</td>\n",
       "    </tr>\n",
       "    <tr>\n",
       "      <th>356807</th>\n",
       "      <td>zachary zenko phd facsm</td>\n",
       "      <td>assistant professor kinesiology csu bakersfiel...</td>\n",
       "      <td>asked chatgpt design exercise program people c...</td>\n",
       "      <td>neutral</td>\n",
       "      <td>2022-12-05 20:14:04+00:00</td>\n",
       "    </tr>\n",
       "    <tr>\n",
       "      <th>356607</th>\n",
       "      <td>liesbeth tip phd liesbethtipfediscienceorg</td>\n",
       "      <td>clinical psychologist phd social anxiety socia...</td>\n",
       "      <td>trying chatgpt wondering us clinical psycholog...</td>\n",
       "      <td>neutral</td>\n",
       "      <td>2022-12-05 20:49:57+00:00</td>\n",
       "    </tr>\n",
       "    <tr>\n",
       "      <th>356593</th>\n",
       "      <td>liesbeth tip phd liesbethtipfediscienceorg</td>\n",
       "      <td>clinical psychologist phd social anxiety socia...</td>\n",
       "      <td>chatgpt question cbt</td>\n",
       "      <td>neutral</td>\n",
       "      <td>2022-12-05 20:52:47+00:00</td>\n",
       "    </tr>\n",
       "    <tr>\n",
       "      <th>...</th>\n",
       "      <td>...</td>\n",
       "      <td>...</td>\n",
       "      <td>...</td>\n",
       "      <td>...</td>\n",
       "      <td>...</td>\n",
       "    </tr>\n",
       "    <tr>\n",
       "      <th>305688</th>\n",
       "      <td>brent anders phd</td>\n",
       "      <td>director aua author instructor focusing higher...</td>\n",
       "      <td>donaldclark anthonycclemons anthropomorphism i...</td>\n",
       "      <td>positiv</td>\n",
       "      <td>2022-12-31 16:16:18+00:00</td>\n",
       "    </tr>\n",
       "    <tr>\n",
       "      <th>305678</th>\n",
       "      <td>bryce murray phd</td>\n",
       "      <td>scientist story</td>\n",
       "      <td>true power chatgpt language model relies promp...</td>\n",
       "      <td>negativ</td>\n",
       "      <td>2022-12-31 16:29:52+00:00</td>\n",
       "    </tr>\n",
       "    <tr>\n",
       "      <th>305671</th>\n",
       "      <td>brent anders phd</td>\n",
       "      <td>director aua author instructor focusing higher...</td>\n",
       "      <td>donaldclark anthonycclemons difference accessi...</td>\n",
       "      <td>neutral</td>\n",
       "      <td>2022-12-31 16:38:17+00:00</td>\n",
       "    </tr>\n",
       "    <tr>\n",
       "      <th>305657</th>\n",
       "      <td>brent anders phd</td>\n",
       "      <td>director aua author instructor focusing higher...</td>\n",
       "      <td>anthonycclemons great hope info added stick op...</td>\n",
       "      <td>positiv</td>\n",
       "      <td>2022-12-31 16:51:33+00:00</td>\n",
       "    </tr>\n",
       "    <tr>\n",
       "      <th>305614</th>\n",
       "      <td>julius wesche phd scicomm energy</td>\n",
       "      <td>energy transition researcher ntnu scicomm cons...</td>\n",
       "      <td>use chatgpt future content creation everyone s...</td>\n",
       "      <td>positiv</td>\n",
       "      <td>2022-12-31 17:23:04+00:00</td>\n",
       "    </tr>\n",
       "  </tbody>\n",
       "</table>\n",
       "<p>288 rows × 5 columns</p>\n",
       "</div>"
      ],
      "text/plain": [
       "                                         user_name  \\\n",
       "357569                             punongbayan phd   \n",
       "357174                          justyna hampel phd   \n",
       "356807                     zachary zenko phd facsm   \n",
       "356607  liesbeth tip phd liesbethtipfediscienceorg   \n",
       "356593  liesbeth tip phd liesbethtipfediscienceorg   \n",
       "...                                            ...   \n",
       "305688                            brent anders phd   \n",
       "305678                            bryce murray phd   \n",
       "305671                            brent anders phd   \n",
       "305657                            brent anders phd   \n",
       "305614            julius wesche phd scicomm energy   \n",
       "\n",
       "                                         user_description  \\\n",
       "357569  filipino economist phd econ assistant prof ups...   \n",
       "357174  postdoctoral research scientist stockholm univ...   \n",
       "356807  assistant professor kinesiology csu bakersfiel...   \n",
       "356607  clinical psychologist phd social anxiety socia...   \n",
       "356593  clinical psychologist phd social anxiety socia...   \n",
       "...                                                   ...   \n",
       "305688  director aua author instructor focusing higher...   \n",
       "305678                                    scientist story   \n",
       "305671  director aua author instructor focusing higher...   \n",
       "305657  director aua author instructor focusing higher...   \n",
       "305614  energy transition researcher ntnu scicomm cons...   \n",
       "\n",
       "                                                   tweets    label  \\\n",
       "357569               cautious like maharlika fund chatgpt  neutral   \n",
       "357174  doesn enjoy nice little poem cycle chatgpt nit...  positiv   \n",
       "356807  asked chatgpt design exercise program people c...  neutral   \n",
       "356607  trying chatgpt wondering us clinical psycholog...  neutral   \n",
       "356593                               chatgpt question cbt  neutral   \n",
       "...                                                   ...      ...   \n",
       "305688  donaldclark anthonycclemons anthropomorphism i...  positiv   \n",
       "305678  true power chatgpt language model relies promp...  negativ   \n",
       "305671  donaldclark anthonycclemons difference accessi...  neutral   \n",
       "305657  anthonycclemons great hope info added stick op...  positiv   \n",
       "305614  use chatgpt future content creation everyone s...  positiv   \n",
       "\n",
       "                            date  \n",
       "357569 2022-12-05 17:28:33+00:00  \n",
       "357174 2022-12-05 19:01:33+00:00  \n",
       "356807 2022-12-05 20:14:04+00:00  \n",
       "356607 2022-12-05 20:49:57+00:00  \n",
       "356593 2022-12-05 20:52:47+00:00  \n",
       "...                          ...  \n",
       "305688 2022-12-31 16:16:18+00:00  \n",
       "305678 2022-12-31 16:29:52+00:00  \n",
       "305671 2022-12-31 16:38:17+00:00  \n",
       "305657 2022-12-31 16:51:33+00:00  \n",
       "305614 2022-12-31 17:23:04+00:00  \n",
       "\n",
       "[288 rows x 5 columns]"
      ]
     },
     "execution_count": 97,
     "metadata": {},
     "output_type": "execute_result"
    }
   ],
   "source": [
    "dec"
   ]
  },
  {
   "cell_type": "code",
   "execution_count": 98,
   "id": "29c28da9",
   "metadata": {},
   "outputs": [],
   "source": [
    "jan = df_sorted[df_sorted.date.dt.month == 1]"
   ]
  },
  {
   "cell_type": "code",
   "execution_count": 99,
   "id": "f207911d",
   "metadata": {},
   "outputs": [
    {
     "data": {
      "text/html": [
       "<div>\n",
       "<style scoped>\n",
       "    .dataframe tbody tr th:only-of-type {\n",
       "        vertical-align: middle;\n",
       "    }\n",
       "\n",
       "    .dataframe tbody tr th {\n",
       "        vertical-align: top;\n",
       "    }\n",
       "\n",
       "    .dataframe thead th {\n",
       "        text-align: right;\n",
       "    }\n",
       "</style>\n",
       "<table border=\"1\" class=\"dataframe\">\n",
       "  <thead>\n",
       "    <tr style=\"text-align: right;\">\n",
       "      <th></th>\n",
       "      <th>user_name</th>\n",
       "      <th>user_description</th>\n",
       "      <th>tweets</th>\n",
       "      <th>label</th>\n",
       "      <th>date</th>\n",
       "    </tr>\n",
       "  </thead>\n",
       "  <tbody>\n",
       "    <tr>\n",
       "      <th>305130</th>\n",
       "      <td>ryan louie phd</td>\n",
       "      <td>psychiatrist wapermanente patientcare psyberse...</td>\n",
       "      <td>whats best way achieve newyearsresolutions cha...</td>\n",
       "      <td>positiv</td>\n",
       "      <td>2023-01-01 06:40:33+00:00</td>\n",
       "    </tr>\n",
       "    <tr>\n",
       "      <th>305100</th>\n",
       "      <td>brent anders phd</td>\n",
       "      <td>director aua author instructor focusing higher...</td>\n",
       "      <td>interesting chatgpt article dealing european u...</td>\n",
       "      <td>positiv</td>\n",
       "      <td>2023-01-01 07:39:11+00:00</td>\n",
       "    </tr>\n",
       "    <tr>\n",
       "      <th>305096</th>\n",
       "      <td>brent anders phd</td>\n",
       "      <td>director aua author instructor focusing higher...</td>\n",
       "      <td>peterdiamandis yes especially true education n...</td>\n",
       "      <td>positiv</td>\n",
       "      <td>2023-01-01 07:44:58+00:00</td>\n",
       "    </tr>\n",
       "    <tr>\n",
       "      <th>305051</th>\n",
       "      <td>brent anders phd</td>\n",
       "      <td>director aua author instructor focusing higher...</td>\n",
       "      <td>drlancaster perplexityai great post thomas tha...</td>\n",
       "      <td>positiv</td>\n",
       "      <td>2023-01-01 09:00:17+00:00</td>\n",
       "    </tr>\n",
       "    <tr>\n",
       "      <th>304987</th>\n",
       "      <td>brent anders phd</td>\n",
       "      <td>director aua author instructor focusing higher...</td>\n",
       "      <td>risangbaskara peterdiamandis risang yes share ...</td>\n",
       "      <td>negativ</td>\n",
       "      <td>2023-01-01 11:33:18+00:00</td>\n",
       "    </tr>\n",
       "    <tr>\n",
       "      <th>...</th>\n",
       "      <td>...</td>\n",
       "      <td>...</td>\n",
       "      <td>...</td>\n",
       "      <td>...</td>\n",
       "      <td>...</td>\n",
       "    </tr>\n",
       "    <tr>\n",
       "      <th>267922</th>\n",
       "      <td>carlos ospino phd</td>\n",
       "      <td>economics data science mlai poverty equity ski...</td>\n",
       "      <td>tradecosts seen blatant error chatgpt make sur...</td>\n",
       "      <td>positiv</td>\n",
       "      <td>2023-01-31 22:29:24+00:00</td>\n",
       "    </tr>\n",
       "    <tr>\n",
       "      <th>267917</th>\n",
       "      <td>macq phd</td>\n",
       "      <td>bitcoin demoracy democratic world</td>\n",
       "      <td>playing chatgpt sure here list european countr...</td>\n",
       "      <td>positiv</td>\n",
       "      <td>2023-01-31 22:30:05+00:00</td>\n",
       "    </tr>\n",
       "    <tr>\n",
       "      <th>267897</th>\n",
       "      <td>carlos ospino phd</td>\n",
       "      <td>economics data science mlai poverty equity ski...</td>\n",
       "      <td>tradecosts talking grammarly chatgpt</td>\n",
       "      <td>neutral</td>\n",
       "      <td>2023-01-31 22:35:33+00:00</td>\n",
       "    </tr>\n",
       "    <tr>\n",
       "      <th>267892</th>\n",
       "      <td>april khademi phd peng</td>\n",
       "      <td>associate prof bme torontomet image analysis m...</td>\n",
       "      <td>openais response chatgpt plagiarism concern ne...</td>\n",
       "      <td>negativ</td>\n",
       "      <td>2023-01-31 22:37:38+00:00</td>\n",
       "    </tr>\n",
       "    <tr>\n",
       "      <th>267756</th>\n",
       "      <td>cherry phd wear mask please</td>\n",
       "      <td>learns work life repeat edtech enthusiast elti...</td>\n",
       "      <td>eltindia university teacher opinion matter par...</td>\n",
       "      <td>positiv</td>\n",
       "      <td>2023-01-31 23:29:39+00:00</td>\n",
       "    </tr>\n",
       "  </tbody>\n",
       "</table>\n",
       "<p>379 rows × 5 columns</p>\n",
       "</div>"
      ],
      "text/plain": [
       "                          user_name  \\\n",
       "305130               ryan louie phd   \n",
       "305100             brent anders phd   \n",
       "305096             brent anders phd   \n",
       "305051             brent anders phd   \n",
       "304987             brent anders phd   \n",
       "...                             ...   \n",
       "267922            carlos ospino phd   \n",
       "267917                     macq phd   \n",
       "267897            carlos ospino phd   \n",
       "267892       april khademi phd peng   \n",
       "267756  cherry phd wear mask please   \n",
       "\n",
       "                                         user_description  \\\n",
       "305130  psychiatrist wapermanente patientcare psyberse...   \n",
       "305100  director aua author instructor focusing higher...   \n",
       "305096  director aua author instructor focusing higher...   \n",
       "305051  director aua author instructor focusing higher...   \n",
       "304987  director aua author instructor focusing higher...   \n",
       "...                                                   ...   \n",
       "267922  economics data science mlai poverty equity ski...   \n",
       "267917                  bitcoin demoracy democratic world   \n",
       "267897  economics data science mlai poverty equity ski...   \n",
       "267892  associate prof bme torontomet image analysis m...   \n",
       "267756  learns work life repeat edtech enthusiast elti...   \n",
       "\n",
       "                                                   tweets    label  \\\n",
       "305130  whats best way achieve newyearsresolutions cha...  positiv   \n",
       "305100  interesting chatgpt article dealing european u...  positiv   \n",
       "305096  peterdiamandis yes especially true education n...  positiv   \n",
       "305051  drlancaster perplexityai great post thomas tha...  positiv   \n",
       "304987  risangbaskara peterdiamandis risang yes share ...  negativ   \n",
       "...                                                   ...      ...   \n",
       "267922  tradecosts seen blatant error chatgpt make sur...  positiv   \n",
       "267917  playing chatgpt sure here list european countr...  positiv   \n",
       "267897               tradecosts talking grammarly chatgpt  neutral   \n",
       "267892  openais response chatgpt plagiarism concern ne...  negativ   \n",
       "267756  eltindia university teacher opinion matter par...  positiv   \n",
       "\n",
       "                            date  \n",
       "305130 2023-01-01 06:40:33+00:00  \n",
       "305100 2023-01-01 07:39:11+00:00  \n",
       "305096 2023-01-01 07:44:58+00:00  \n",
       "305051 2023-01-01 09:00:17+00:00  \n",
       "304987 2023-01-01 11:33:18+00:00  \n",
       "...                          ...  \n",
       "267922 2023-01-31 22:29:24+00:00  \n",
       "267917 2023-01-31 22:30:05+00:00  \n",
       "267897 2023-01-31 22:35:33+00:00  \n",
       "267892 2023-01-31 22:37:38+00:00  \n",
       "267756 2023-01-31 23:29:39+00:00  \n",
       "\n",
       "[379 rows x 5 columns]"
      ]
     },
     "execution_count": 99,
     "metadata": {},
     "output_type": "execute_result"
    }
   ],
   "source": [
    "jan"
   ]
  },
  {
   "cell_type": "code",
   "execution_count": 100,
   "id": "ad0f5a3f",
   "metadata": {},
   "outputs": [],
   "source": [
    "feb = df_sorted[df_sorted.date.dt.month == 2]"
   ]
  },
  {
   "cell_type": "code",
   "execution_count": 101,
   "id": "b45bebe7",
   "metadata": {},
   "outputs": [
    {
     "data": {
      "text/html": [
       "<div>\n",
       "<style scoped>\n",
       "    .dataframe tbody tr th:only-of-type {\n",
       "        vertical-align: middle;\n",
       "    }\n",
       "\n",
       "    .dataframe tbody tr th {\n",
       "        vertical-align: top;\n",
       "    }\n",
       "\n",
       "    .dataframe thead th {\n",
       "        text-align: right;\n",
       "    }\n",
       "</style>\n",
       "<table border=\"1\" class=\"dataframe\">\n",
       "  <thead>\n",
       "    <tr style=\"text-align: right;\">\n",
       "      <th></th>\n",
       "      <th>user_name</th>\n",
       "      <th>user_description</th>\n",
       "      <th>tweets</th>\n",
       "      <th>label</th>\n",
       "      <th>date</th>\n",
       "    </tr>\n",
       "  </thead>\n",
       "  <tbody>\n",
       "    <tr>\n",
       "      <th>267583</th>\n",
       "      <td>medlir mema phd</td>\n",
       "      <td>saishopkins gwu phd cohost onairpodcast age tw...</td>\n",
       "      <td>keep going chatgpt openai</td>\n",
       "      <td>negativ</td>\n",
       "      <td>2023-02-01 00:48:57+00:00</td>\n",
       "    </tr>\n",
       "    <tr>\n",
       "      <th>267546</th>\n",
       "      <td>sebastian purcell phd</td>\n",
       "      <td>ceo cio capital management academic turned hed...</td>\n",
       "      <td>coder chatgpt order magnitude better google se...</td>\n",
       "      <td>negativ</td>\n",
       "      <td>2023-02-01 01:04:25+00:00</td>\n",
       "    </tr>\n",
       "    <tr>\n",
       "      <th>267384</th>\n",
       "      <td>khandis blake phd</td>\n",
       "      <td>evolutionary social psychologist university me...</td>\n",
       "      <td>chatgpt try answer short undergraduate essay q...</td>\n",
       "      <td>positiv</td>\n",
       "      <td>2023-02-01 02:22:10+00:00</td>\n",
       "    </tr>\n",
       "    <tr>\n",
       "      <th>267216</th>\n",
       "      <td>brent anders phd</td>\n",
       "      <td>director aua author instructor focusing higher...</td>\n",
       "      <td>lmhgslphd remikalir good point especially time...</td>\n",
       "      <td>positiv</td>\n",
       "      <td>2023-02-01 03:39:45+00:00</td>\n",
       "    </tr>\n",
       "    <tr>\n",
       "      <th>267147</th>\n",
       "      <td>tim boileau phd</td>\n",
       "      <td>new medium learning parttime faculty wayne sta...</td>\n",
       "      <td>story academydanielle workflow creating edpuzz...</td>\n",
       "      <td>negativ</td>\n",
       "      <td>2023-02-01 04:03:56+00:00</td>\n",
       "    </tr>\n",
       "    <tr>\n",
       "      <th>...</th>\n",
       "      <td>...</td>\n",
       "      <td>...</td>\n",
       "      <td>...</td>\n",
       "      <td>...</td>\n",
       "      <td>...</td>\n",
       "    </tr>\n",
       "    <tr>\n",
       "      <th>158192</th>\n",
       "      <td>carlos ospino phd</td>\n",
       "      <td>economics data science mlai poverty equity ski...</td>\n",
       "      <td>econtwitter lowcost openaccess api extract ski...</td>\n",
       "      <td>positiv</td>\n",
       "      <td>2023-02-28 21:15:18+00:00</td>\n",
       "    </tr>\n",
       "    <tr>\n",
       "      <th>158143</th>\n",
       "      <td>cecilia flocco phd</td>\n",
       "      <td>cleantech bioresources culturalheritage scidip...</td>\n",
       "      <td>chatgpt data privacy nightmare gdpr copyright nlp</td>\n",
       "      <td>positiv</td>\n",
       "      <td>2023-02-28 21:32:38+00:00</td>\n",
       "    </tr>\n",
       "    <tr>\n",
       "      <th>158005</th>\n",
       "      <td>fernando machuca phd</td>\n",
       "      <td>phd science france goal enhance world reduce p...</td>\n",
       "      <td>large scale hyperpersonalization automatically...</td>\n",
       "      <td>positiv</td>\n",
       "      <td>2023-02-28 22:21:24+00:00</td>\n",
       "    </tr>\n",
       "    <tr>\n",
       "      <th>157850</th>\n",
       "      <td>thepotlabphd</td>\n",
       "      <td>firstgen scientist thepotlab biochemmolecularc...</td>\n",
       "      <td>asked chatgpt new resume postdoc mit hopkins d...</td>\n",
       "      <td>negativ</td>\n",
       "      <td>2023-02-28 23:15:31+00:00</td>\n",
       "    </tr>\n",
       "    <tr>\n",
       "      <th>157805</th>\n",
       "      <td>smith lever phd</td>\n",
       "      <td>official account favorite extension deandirect...</td>\n",
       "      <td>thinking reduce payroll having chatgpt generat...</td>\n",
       "      <td>neutral</td>\n",
       "      <td>2023-02-28 23:35:33+00:00</td>\n",
       "    </tr>\n",
       "  </tbody>\n",
       "</table>\n",
       "<p>627 rows × 5 columns</p>\n",
       "</div>"
      ],
      "text/plain": [
       "                    user_name  \\\n",
       "267583        medlir mema phd   \n",
       "267546  sebastian purcell phd   \n",
       "267384      khandis blake phd   \n",
       "267216       brent anders phd   \n",
       "267147        tim boileau phd   \n",
       "...                       ...   \n",
       "158192      carlos ospino phd   \n",
       "158143     cecilia flocco phd   \n",
       "158005   fernando machuca phd   \n",
       "157850           thepotlabphd   \n",
       "157805        smith lever phd   \n",
       "\n",
       "                                         user_description  \\\n",
       "267583  saishopkins gwu phd cohost onairpodcast age tw...   \n",
       "267546  ceo cio capital management academic turned hed...   \n",
       "267384  evolutionary social psychologist university me...   \n",
       "267216  director aua author instructor focusing higher...   \n",
       "267147  new medium learning parttime faculty wayne sta...   \n",
       "...                                                   ...   \n",
       "158192  economics data science mlai poverty equity ski...   \n",
       "158143  cleantech bioresources culturalheritage scidip...   \n",
       "158005  phd science france goal enhance world reduce p...   \n",
       "157850  firstgen scientist thepotlab biochemmolecularc...   \n",
       "157805  official account favorite extension deandirect...   \n",
       "\n",
       "                                                   tweets    label  \\\n",
       "267583                          keep going chatgpt openai  negativ   \n",
       "267546  coder chatgpt order magnitude better google se...  negativ   \n",
       "267384  chatgpt try answer short undergraduate essay q...  positiv   \n",
       "267216  lmhgslphd remikalir good point especially time...  positiv   \n",
       "267147  story academydanielle workflow creating edpuzz...  negativ   \n",
       "...                                                   ...      ...   \n",
       "158192  econtwitter lowcost openaccess api extract ski...  positiv   \n",
       "158143  chatgpt data privacy nightmare gdpr copyright nlp  positiv   \n",
       "158005  large scale hyperpersonalization automatically...  positiv   \n",
       "157850  asked chatgpt new resume postdoc mit hopkins d...  negativ   \n",
       "157805  thinking reduce payroll having chatgpt generat...  neutral   \n",
       "\n",
       "                            date  \n",
       "267583 2023-02-01 00:48:57+00:00  \n",
       "267546 2023-02-01 01:04:25+00:00  \n",
       "267384 2023-02-01 02:22:10+00:00  \n",
       "267216 2023-02-01 03:39:45+00:00  \n",
       "267147 2023-02-01 04:03:56+00:00  \n",
       "...                          ...  \n",
       "158192 2023-02-28 21:15:18+00:00  \n",
       "158143 2023-02-28 21:32:38+00:00  \n",
       "158005 2023-02-28 22:21:24+00:00  \n",
       "157850 2023-02-28 23:15:31+00:00  \n",
       "157805 2023-02-28 23:35:33+00:00  \n",
       "\n",
       "[627 rows x 5 columns]"
      ]
     },
     "execution_count": 101,
     "metadata": {},
     "output_type": "execute_result"
    }
   ],
   "source": [
    "feb"
   ]
  },
  {
   "cell_type": "code",
   "execution_count": 102,
   "id": "c2dda01c",
   "metadata": {},
   "outputs": [],
   "source": [
    "march = df_sorted[df_sorted.date.dt.month == 3]"
   ]
  },
  {
   "cell_type": "code",
   "execution_count": 103,
   "id": "a6ab7672",
   "metadata": {},
   "outputs": [
    {
     "data": {
      "text/html": [
       "<div>\n",
       "<style scoped>\n",
       "    .dataframe tbody tr th:only-of-type {\n",
       "        vertical-align: middle;\n",
       "    }\n",
       "\n",
       "    .dataframe tbody tr th {\n",
       "        vertical-align: top;\n",
       "    }\n",
       "\n",
       "    .dataframe thead th {\n",
       "        text-align: right;\n",
       "    }\n",
       "</style>\n",
       "<table border=\"1\" class=\"dataframe\">\n",
       "  <thead>\n",
       "    <tr style=\"text-align: right;\">\n",
       "      <th></th>\n",
       "      <th>user_name</th>\n",
       "      <th>user_description</th>\n",
       "      <th>tweets</th>\n",
       "      <th>label</th>\n",
       "      <th>date</th>\n",
       "    </tr>\n",
       "  </thead>\n",
       "  <tbody>\n",
       "    <tr>\n",
       "      <th>157355</th>\n",
       "      <td>jarryd willis phd</td>\n",
       "      <td>san diego professor social psychologist adviso...</td>\n",
       "      <td>change referencecitation format submitting apa...</td>\n",
       "      <td>neutral</td>\n",
       "      <td>2023-03-01 02:56:36+00:00</td>\n",
       "    </tr>\n",
       "    <tr>\n",
       "      <th>157034</th>\n",
       "      <td>fredrick oduori phd</td>\n",
       "      <td>passionate tourism market digitaleconomy busin...</td>\n",
       "      <td>new miniindustry mushroomed defied broader slu...</td>\n",
       "      <td>positiv</td>\n",
       "      <td>2023-03-01 05:41:44+00:00</td>\n",
       "    </tr>\n",
       "    <tr>\n",
       "      <th>156520</th>\n",
       "      <td>brent anders phd</td>\n",
       "      <td>director aua author instructor focusing higher...</td>\n",
       "      <td>great article talk chatgpt people know about</td>\n",
       "      <td>neutral</td>\n",
       "      <td>2023-03-01 09:30:05+00:00</td>\n",
       "    </tr>\n",
       "    <tr>\n",
       "      <th>156504</th>\n",
       "      <td>brent anders phd</td>\n",
       "      <td>director aua author instructor focusing higher...</td>\n",
       "      <td>opinion article wrote pattern journal got publ...</td>\n",
       "      <td>neutral</td>\n",
       "      <td>2023-03-01 09:35:27+00:00</td>\n",
       "    </tr>\n",
       "    <tr>\n",
       "      <th>156370</th>\n",
       "      <td>brent anders phd</td>\n",
       "      <td>director aua author instructor focusing higher...</td>\n",
       "      <td>interesting insight adoption utilization chatg...</td>\n",
       "      <td>negativ</td>\n",
       "      <td>2023-03-01 10:31:43+00:00</td>\n",
       "    </tr>\n",
       "    <tr>\n",
       "      <th>...</th>\n",
       "      <td>...</td>\n",
       "      <td>...</td>\n",
       "      <td>...</td>\n",
       "      <td>...</td>\n",
       "      <td>...</td>\n",
       "    </tr>\n",
       "    <tr>\n",
       "      <th>94335</th>\n",
       "      <td>katharine jewitt consultantresearcherlecturer</td>\n",
       "      <td>digital educationwellbeing degreesphd invrvali...</td>\n",
       "      <td>delighted written editorial uksg enews discuss...</td>\n",
       "      <td>negativ</td>\n",
       "      <td>2023-03-31 13:05:48+00:00</td>\n",
       "    </tr>\n",
       "    <tr>\n",
       "      <th>93953</th>\n",
       "      <td>jessica pab phd</td>\n",
       "      <td>can anymore got mastodon profile ready</td>\n",
       "      <td>chatgpt know need protecttranskids tdov</td>\n",
       "      <td>negativ</td>\n",
       "      <td>2023-03-31 13:41:26+00:00</td>\n",
       "    </tr>\n",
       "    <tr>\n",
       "      <th>92602</th>\n",
       "      <td>asress adimi gikay phd</td>\n",
       "      <td>senior lecturer brunel university london law p...</td>\n",
       "      <td>chatgpt open ai quick restrict chatgpt access ...</td>\n",
       "      <td>positiv</td>\n",
       "      <td>2023-03-31 21:17:14+00:00</td>\n",
       "    </tr>\n",
       "    <tr>\n",
       "      <th>92447</th>\n",
       "      <td>antonella radicchi phd</td>\n",
       "      <td>architecturbanist researcher urban planningsus...</td>\n",
       "      <td>chatgpt banned italy privacy concern openai un...</td>\n",
       "      <td>positiv</td>\n",
       "      <td>2023-03-31 21:32:33+00:00</td>\n",
       "    </tr>\n",
       "    <tr>\n",
       "      <th>91835</th>\n",
       "      <td>alison jane martingano phd</td>\n",
       "      <td>social psychologist assistant professor uwgb b...</td>\n",
       "      <td>experience chatgpt help write recommendation l...</td>\n",
       "      <td>neutral</td>\n",
       "      <td>2023-03-31 22:38:37+00:00</td>\n",
       "    </tr>\n",
       "  </tbody>\n",
       "</table>\n",
       "<p>354 rows × 5 columns</p>\n",
       "</div>"
      ],
      "text/plain": [
       "                                            user_name  \\\n",
       "157355                              jarryd willis phd   \n",
       "157034                            fredrick oduori phd   \n",
       "156520                               brent anders phd   \n",
       "156504                               brent anders phd   \n",
       "156370                               brent anders phd   \n",
       "...                                               ...   \n",
       "94335   katharine jewitt consultantresearcherlecturer   \n",
       "93953                                 jessica pab phd   \n",
       "92602                          asress adimi gikay phd   \n",
       "92447                          antonella radicchi phd   \n",
       "91835                      alison jane martingano phd   \n",
       "\n",
       "                                         user_description  \\\n",
       "157355  san diego professor social psychologist adviso...   \n",
       "157034  passionate tourism market digitaleconomy busin...   \n",
       "156520  director aua author instructor focusing higher...   \n",
       "156504  director aua author instructor focusing higher...   \n",
       "156370  director aua author instructor focusing higher...   \n",
       "...                                                   ...   \n",
       "94335   digital educationwellbeing degreesphd invrvali...   \n",
       "93953              can anymore got mastodon profile ready   \n",
       "92602   senior lecturer brunel university london law p...   \n",
       "92447   architecturbanist researcher urban planningsus...   \n",
       "91835   social psychologist assistant professor uwgb b...   \n",
       "\n",
       "                                                   tweets    label  \\\n",
       "157355  change referencecitation format submitting apa...  neutral   \n",
       "157034  new miniindustry mushroomed defied broader slu...  positiv   \n",
       "156520       great article talk chatgpt people know about  neutral   \n",
       "156504  opinion article wrote pattern journal got publ...  neutral   \n",
       "156370  interesting insight adoption utilization chatg...  negativ   \n",
       "...                                                   ...      ...   \n",
       "94335   delighted written editorial uksg enews discuss...  negativ   \n",
       "93953             chatgpt know need protecttranskids tdov  negativ   \n",
       "92602   chatgpt open ai quick restrict chatgpt access ...  positiv   \n",
       "92447   chatgpt banned italy privacy concern openai un...  positiv   \n",
       "91835   experience chatgpt help write recommendation l...  neutral   \n",
       "\n",
       "                            date  \n",
       "157355 2023-03-01 02:56:36+00:00  \n",
       "157034 2023-03-01 05:41:44+00:00  \n",
       "156520 2023-03-01 09:30:05+00:00  \n",
       "156504 2023-03-01 09:35:27+00:00  \n",
       "156370 2023-03-01 10:31:43+00:00  \n",
       "...                          ...  \n",
       "94335  2023-03-31 13:05:48+00:00  \n",
       "93953  2023-03-31 13:41:26+00:00  \n",
       "92602  2023-03-31 21:17:14+00:00  \n",
       "92447  2023-03-31 21:32:33+00:00  \n",
       "91835  2023-03-31 22:38:37+00:00  \n",
       "\n",
       "[354 rows x 5 columns]"
      ]
     },
     "execution_count": 103,
     "metadata": {},
     "output_type": "execute_result"
    }
   ],
   "source": [
    "march"
   ]
  },
  {
   "cell_type": "code",
   "execution_count": 105,
   "id": "7eb79bd7",
   "metadata": {},
   "outputs": [],
   "source": [
    "april = df_sorted[df_sorted.date.dt.month == 4]"
   ]
  },
  {
   "cell_type": "code",
   "execution_count": 106,
   "id": "a1017f30",
   "metadata": {},
   "outputs": [
    {
     "data": {
      "text/html": [
       "<div>\n",
       "<style scoped>\n",
       "    .dataframe tbody tr th:only-of-type {\n",
       "        vertical-align: middle;\n",
       "    }\n",
       "\n",
       "    .dataframe tbody tr th {\n",
       "        vertical-align: top;\n",
       "    }\n",
       "\n",
       "    .dataframe thead th {\n",
       "        text-align: right;\n",
       "    }\n",
       "</style>\n",
       "<table border=\"1\" class=\"dataframe\">\n",
       "  <thead>\n",
       "    <tr style=\"text-align: right;\">\n",
       "      <th></th>\n",
       "      <th>user_name</th>\n",
       "      <th>user_description</th>\n",
       "      <th>tweets</th>\n",
       "      <th>label</th>\n",
       "      <th>date</th>\n",
       "    </tr>\n",
       "  </thead>\n",
       "  <tbody>\n",
       "    <tr>\n",
       "      <th>89669</th>\n",
       "      <td>darin eich phd</td>\n",
       "      <td>innovation author speaker design thinking faci...</td>\n",
       "      <td>example chatgpt help generate idea story sugge...</td>\n",
       "      <td>negativ</td>\n",
       "      <td>2023-04-01 03:05:33+00:00</td>\n",
       "    </tr>\n",
       "    <tr>\n",
       "      <th>89414</th>\n",
       "      <td>steven hussey phd</td>\n",
       "      <td>biologist biotechnologist necessity follow drs...</td>\n",
       "      <td>asked chatgpt question main gene worked phd pl...</td>\n",
       "      <td>neutral</td>\n",
       "      <td>2023-04-01 03:47:39+00:00</td>\n",
       "    </tr>\n",
       "    <tr>\n",
       "      <th>89105</th>\n",
       "      <td>bianca frogner phd</td>\n",
       "      <td>professor uwfm adjunct professor uwdepthspop d...</td>\n",
       "      <td>chatgpt today good job yeah it scary good let ...</td>\n",
       "      <td>positiv</td>\n",
       "      <td>2023-04-01 06:18:07+00:00</td>\n",
       "    </tr>\n",
       "    <tr>\n",
       "      <th>88999</th>\n",
       "      <td>pietro speroni fenizio phd english account</td>\n",
       "      <td>mathematician edem consultant vision leaderles...</td>\n",
       "      <td>day chatgpt feel like kid government stepped s...</td>\n",
       "      <td>positiv</td>\n",
       "      <td>2023-04-01 06:52:39+00:00</td>\n",
       "    </tr>\n",
       "    <tr>\n",
       "      <th>88951</th>\n",
       "      <td>eleonora benecchi phd</td>\n",
       "      <td>rocking positive attitude digital culture fand...</td>\n",
       "      <td>garanteprivacy blocked chatgpt italy shocked w...</td>\n",
       "      <td>positiv</td>\n",
       "      <td>2023-04-01 07:11:17+00:00</td>\n",
       "    </tr>\n",
       "    <tr>\n",
       "      <th>...</th>\n",
       "      <td>...</td>\n",
       "      <td>...</td>\n",
       "      <td>...</td>\n",
       "      <td>...</td>\n",
       "      <td>...</td>\n",
       "    </tr>\n",
       "    <tr>\n",
       "      <th>508</th>\n",
       "      <td>bertrand mocquet phd</td>\n",
       "      <td>expert num amuecom chercheur sic lelabmica ubm...</td>\n",
       "      <td>chatgpt artificial intelligence higher educati...</td>\n",
       "      <td>neutral</td>\n",
       "      <td>2023-04-26 10:45:13+00:00</td>\n",
       "    </tr>\n",
       "    <tr>\n",
       "      <th>488</th>\n",
       "      <td>wesley fryer phd wfryermastodoncloud</td>\n",
       "      <td>love empowering creatively share voice medium ...</td>\n",
       "      <td>morning professional development video require...</td>\n",
       "      <td>positiv</td>\n",
       "      <td>2023-04-26 10:50:26+00:00</td>\n",
       "    </tr>\n",
       "    <tr>\n",
       "      <th>380</th>\n",
       "      <td>zeynep engin phd</td>\n",
       "      <td>founding director dataforpolicy editorinchief ...</td>\n",
       "      <td>hugely enjoyed delivering guest lecture hkust ...</td>\n",
       "      <td>neutral</td>\n",
       "      <td>2023-04-26 11:26:11+00:00</td>\n",
       "    </tr>\n",
       "    <tr>\n",
       "      <th>328</th>\n",
       "      <td>emma scott phd</td>\n",
       "      <td>phd plant biologist woman science enterpenuere...</td>\n",
       "      <td>chatgpt gamechanging language model us power g...</td>\n",
       "      <td>negativ</td>\n",
       "      <td>2023-04-26 11:44:40+00:00</td>\n",
       "    </tr>\n",
       "    <tr>\n",
       "      <th>248</th>\n",
       "      <td>everyblackresearcher</td>\n",
       "      <td>use technology support researcher provide glob...</td>\n",
       "      <td>chatgpt basic use business date est est regist...</td>\n",
       "      <td>neutral</td>\n",
       "      <td>2023-04-26 12:01:24+00:00</td>\n",
       "    </tr>\n",
       "  </tbody>\n",
       "</table>\n",
       "<p>755 rows × 5 columns</p>\n",
       "</div>"
      ],
      "text/plain": [
       "                                        user_name  \\\n",
       "89669                              darin eich phd   \n",
       "89414                           steven hussey phd   \n",
       "89105                          bianca frogner phd   \n",
       "88999  pietro speroni fenizio phd english account   \n",
       "88951                       eleonora benecchi phd   \n",
       "...                                           ...   \n",
       "508                          bertrand mocquet phd   \n",
       "488          wesley fryer phd wfryermastodoncloud   \n",
       "380                              zeynep engin phd   \n",
       "328                                emma scott phd   \n",
       "248                          everyblackresearcher   \n",
       "\n",
       "                                        user_description  \\\n",
       "89669  innovation author speaker design thinking faci...   \n",
       "89414  biologist biotechnologist necessity follow drs...   \n",
       "89105  professor uwfm adjunct professor uwdepthspop d...   \n",
       "88999  mathematician edem consultant vision leaderles...   \n",
       "88951  rocking positive attitude digital culture fand...   \n",
       "...                                                  ...   \n",
       "508    expert num amuecom chercheur sic lelabmica ubm...   \n",
       "488    love empowering creatively share voice medium ...   \n",
       "380    founding director dataforpolicy editorinchief ...   \n",
       "328    phd plant biologist woman science enterpenuere...   \n",
       "248    use technology support researcher provide glob...   \n",
       "\n",
       "                                                  tweets    label  \\\n",
       "89669  example chatgpt help generate idea story sugge...  negativ   \n",
       "89414  asked chatgpt question main gene worked phd pl...  neutral   \n",
       "89105  chatgpt today good job yeah it scary good let ...  positiv   \n",
       "88999  day chatgpt feel like kid government stepped s...  positiv   \n",
       "88951  garanteprivacy blocked chatgpt italy shocked w...  positiv   \n",
       "...                                                  ...      ...   \n",
       "508    chatgpt artificial intelligence higher educati...  neutral   \n",
       "488    morning professional development video require...  positiv   \n",
       "380    hugely enjoyed delivering guest lecture hkust ...  neutral   \n",
       "328    chatgpt gamechanging language model us power g...  negativ   \n",
       "248    chatgpt basic use business date est est regist...  neutral   \n",
       "\n",
       "                           date  \n",
       "89669 2023-04-01 03:05:33+00:00  \n",
       "89414 2023-04-01 03:47:39+00:00  \n",
       "89105 2023-04-01 06:18:07+00:00  \n",
       "88999 2023-04-01 06:52:39+00:00  \n",
       "88951 2023-04-01 07:11:17+00:00  \n",
       "...                         ...  \n",
       "508   2023-04-26 10:45:13+00:00  \n",
       "488   2023-04-26 10:50:26+00:00  \n",
       "380   2023-04-26 11:26:11+00:00  \n",
       "328   2023-04-26 11:44:40+00:00  \n",
       "248   2023-04-26 12:01:24+00:00  \n",
       "\n",
       "[755 rows x 5 columns]"
      ]
     },
     "execution_count": 106,
     "metadata": {},
     "output_type": "execute_result"
    }
   ],
   "source": [
    "april"
   ]
  },
  {
   "cell_type": "code",
   "execution_count": 107,
   "id": "b9b166db",
   "metadata": {},
   "outputs": [
    {
     "data": {
      "text/plain": [
       "positiv    105\n",
       "negativ     93\n",
       "neutral     90\n",
       "Name: label, dtype: int64"
      ]
     },
     "execution_count": 107,
     "metadata": {},
     "output_type": "execute_result"
    }
   ],
   "source": [
    "dec.label.value_counts()"
   ]
  },
  {
   "cell_type": "code",
   "execution_count": 108,
   "id": "c0b58bf0",
   "metadata": {},
   "outputs": [
    {
     "data": {
      "text/plain": [
       "positiv    165\n",
       "negativ    111\n",
       "neutral    103\n",
       "Name: label, dtype: int64"
      ]
     },
     "execution_count": 108,
     "metadata": {},
     "output_type": "execute_result"
    }
   ],
   "source": [
    "jan.label.value_counts()"
   ]
  },
  {
   "cell_type": "code",
   "execution_count": 109,
   "id": "3cdbec8b",
   "metadata": {},
   "outputs": [
    {
     "data": {
      "text/plain": [
       "positiv    227\n",
       "neutral    216\n",
       "negativ    184\n",
       "Name: label, dtype: int64"
      ]
     },
     "execution_count": 109,
     "metadata": {},
     "output_type": "execute_result"
    }
   ],
   "source": [
    "feb.label.value_counts()"
   ]
  },
  {
   "cell_type": "code",
   "execution_count": 110,
   "id": "419555b5",
   "metadata": {},
   "outputs": [
    {
     "data": {
      "text/plain": [
       "positiv    127\n",
       "neutral    117\n",
       "negativ    110\n",
       "Name: label, dtype: int64"
      ]
     },
     "execution_count": 110,
     "metadata": {},
     "output_type": "execute_result"
    }
   ],
   "source": [
    "march.label.value_counts()"
   ]
  },
  {
   "cell_type": "code",
   "execution_count": 111,
   "id": "1ec27df1",
   "metadata": {},
   "outputs": [
    {
     "data": {
      "text/plain": [
       "positiv    263\n",
       "negativ    262\n",
       "neutral    230\n",
       "Name: label, dtype: int64"
      ]
     },
     "execution_count": 111,
     "metadata": {},
     "output_type": "execute_result"
    }
   ],
   "source": [
    "april.label.value_counts()"
   ]
  },
  {
   "cell_type": "code",
   "execution_count": 127,
   "id": "83139781",
   "metadata": {},
   "outputs": [
    {
     "data": {
      "image/png": "[encoded data removed]",
      "text/plain": [
       "<Figure size 640x480 with 1 Axes>"
      ]
     },
     "metadata": {},
     "output_type": "display_data"
    }
   ],
   "source": [
    "import numpy as np\n",
    "import matplotlib.pyplot as plt\n",
    "\n",
    "data = [[90, 103, 216, 117, 230], #neutral\n",
    "[105, 165, 227, 127, 263], #positiv\n",
    "[93, 111, 184, 110, 262]] #negativ\n",
    "X = np.arange(5)\n",
    "fig = plt.figure()\n",
    "ax = fig.add_axes([0,0,1,1])\n",
    "ax.bar(X - 0.25, data[0], color = 'orange', width = 0.25)\n",
    "ax.bar(X , data[1], color = 'b', width = 0.25)\n",
    "ax.bar(X + 0.25, data[2], color = 'r', width = 0.25)\n",
    "ax.set_ylabel('Numbe of tweets')\n",
    "ax.set_title('Sentiment analysis of scientist users')\n",
    "ax.set_xticks(X, ('Dec 22', 'Jan 23', 'Feb 23', 'Mar 23', 'Apr 23'))\n",
    "ax.set_yticks(np.arange(0, 260, 10))\n",
    "ax.legend(labels=['Neutral', 'Positiv', 'Negativ'])\n",
    "plt.show()"
   ]
  },
  {
   "cell_type": "code",
   "execution_count": 123,
   "id": "6199c397",
   "metadata": {},
   "outputs": [
    {
     "data": {
      "image/png": "[encoded data removed]",
      "text/plain": [
       "<Figure size 640x480 with 1 Axes>"
      ]
     },
     "metadata": {},
     "output_type": "display_data"
    }
   ],
   "source": [
    "labels = ['neutral', 'positive', 'negative']\n",
    "sizes = [data[0][0], data[1][0], data[2][0]]\n",
    "colors = ['orange', 'blue', 'red']\n",
    "\n",
    "plt.pie(sizes, labels=labels, colors=colors, autopct='%1.1f%%', shadow=True, startangle=140)    \n",
    "plt.axis('equal')\n",
    "plt.title('Percentage of sentiment distribution in December')\n",
    "plt.show()"
   ]
  },
  {
   "cell_type": "code",
   "execution_count": 124,
   "id": "bcf4dcec",
   "metadata": {},
   "outputs": [
    {
     "data": {
      "image/png": "[encoded data removed]",
      "text/plain": [
       "<Figure size 640x480 with 1 Axes>"
      ]
     },
     "metadata": {},
     "output_type": "display_data"
    }
   ],
   "source": [
    "labels = ['neutral', 'positive', 'negative']\n",
    "sizes = [data[0][1], data[1][1], data[2][1]]\n",
    "colors = ['orange', 'blue', 'red']\n",
    "\n",
    "plt.pie(sizes, labels=labels, colors=colors, autopct='%1.1f%%', shadow=True, startangle=140)    \n",
    "plt.axis('equal')\n",
    "plt.title('Percentage of sentiment distribution in January')\n",
    "plt.show()"
   ]
  },
  {
   "cell_type": "code",
   "execution_count": 125,
   "id": "edaf3778",
   "metadata": {},
   "outputs": [
    {
     "data": {
      "image/png": "[encoded data removed]",
      "text/plain": [
       "<Figure size 640x480 with 1 Axes>"
      ]
     },
     "metadata": {},
     "output_type": "display_data"
    }
   ],
   "source": [
    "labels = ['neutral', 'positive', 'negative']\n",
    "sizes = [data[0][2], data[1][2], data[2][2]]\n",
    "colors = ['orange', 'blue', 'red']\n",
    "\n",
    "plt.pie(sizes, labels=labels, colors=colors, autopct='%1.1f%%', shadow=True, startangle=140)    \n",
    "plt.axis('equal')\n",
    "plt.title('Percentage of sentiment distribution in February')\n",
    "plt.show()"
   ]
  },
  {
   "cell_type": "code",
   "execution_count": 128,
   "id": "d8de639f",
   "metadata": {},
   "outputs": [
    {
     "data": {
      "image/png": "[encoded data removed]",
      "text/plain": [
       "<Figure size 640x480 with 1 Axes>"
      ]
     },
     "metadata": {},
     "output_type": "display_data"
    }
   ],
   "source": [
    "labels = ['neutral', 'positive', 'negative']\n",
    "sizes = [data[0][3], data[1][3], data[2][3]]\n",
    "colors = ['orange', 'blue', 'red']\n",
    "\n",
    "plt.pie(sizes, labels=labels, colors=colors, autopct='%1.1f%%', shadow=True, startangle=140)    \n",
    "plt.axis('equal')\n",
    "plt.title('Percentage of sentiment distribution in March')\n",
    "plt.show()"
   ]
  },
  {
   "cell_type": "code",
   "execution_count": 130,
   "id": "04d1f130",
   "metadata": {},
   "outputs": [
    {
     "data": {
      "image/png": "[encoded data removed]",
      "text/plain": [
       "<Figure size 640x480 with 1 Axes>"
      ]
     },
     "metadata": {},
     "output_type": "display_data"
    }
   ],
   "source": [
    "labels = ['neutral', 'positive', 'negative']\n",
    "sizes = [data[0][4], data[1][4], data[2][4]]\n",
    "colors = ['orange', 'blue', 'red']\n",
    "\n",
    "plt.pie(sizes, labels=labels, colors=colors, autopct='%1.1f%%', shadow=True, startangle=140)    \n",
    "plt.axis('equal')\n",
    "plt.title('Percentage of sentiment distribution in April')\n",
    "plt.show()"
   ]
  },
  {
   "cell_type": "code",
   "execution_count": 171,
   "id": "b10e97d2",
   "metadata": {},
   "outputs": [
    {
     "name": "stderr",
     "output_type": "stream",
     "text": [
      "[nltk_data] Downloading package stopwords to C:\\Users\\Ajkuna\n",
      "[nltk_data]     Seipi\\AppData\\Roaming\\nltk_data...\n",
      "[nltk_data]   Package stopwords is already up-to-date!\n"
     ]
    },
    {
     "data": {
      "text/plain": [
       "True"
      ]
     },
     "execution_count": 171,
     "metadata": {},
     "output_type": "execute_result"
    }
   ],
   "source": [
    "import nltk\n",
    "from nltk.corpus import stopwords\n",
    "import re\n",
    "import networkx\n",
    "\n",
    "nltk.download('stopwords')"
   ]
  },
  {
   "cell_type": "code",
   "execution_count": 176,
   "id": "48ebf229",
   "metadata": {},
   "outputs": [],
   "source": [
    "# positiv tweets\n",
    "# negativ tweets\n",
    "positiv = result[result.label == 'positiv']\n",
    "negativ = result[result.label == 'negativ']"
   ]
  },
  {
   "cell_type": "code",
   "execution_count": 177,
   "id": "f85ff8f1",
   "metadata": {},
   "outputs": [
    {
     "data": {
      "text/plain": [
       "[['chatgpt',\n",
       "  'gamechanging',\n",
       "  'language',\n",
       "  'model',\n",
       "  'us',\n",
       "  'power',\n",
       "  'gpt',\n",
       "  'provide',\n",
       "  'insightful',\n",
       "  'engaging',\n",
       "  'response',\n",
       "  'question',\n",
       "  'youre',\n",
       "  'looking',\n",
       "  'information',\n",
       "  'advice',\n",
       "  'friendly',\n",
       "  'conversation',\n",
       "  'chatgpt',\n",
       "  'got',\n",
       "  'covered',\n",
       "  'chatgpt'],\n",
       " ['signed',\n",
       "  'chatgpt',\n",
       "  'course',\n",
       "  'udemy',\n",
       "  'it',\n",
       "  'important',\n",
       "  'excel',\n",
       "  'proactively',\n",
       "  'learning',\n",
       "  'contributes',\n",
       "  'that',\n",
       "  'learning',\n",
       "  'learninganddevelopment',\n",
       "  'artificialintelligence',\n",
       "  'aichatbot',\n",
       "  'aichatgpt',\n",
       "  'chatgpt',\n",
       "  'technicalwriter']]"
      ]
     },
     "execution_count": 177,
     "metadata": {},
     "output_type": "execute_result"
    }
   ],
   "source": [
    "# Create a list of lists containing lowercase words for each tweet\n",
    "words_in_tweet = [tweet.lower().split() for tweet in negativ.tweets]\n",
    "words_in_tweet[:2]"
   ]
  },
  {
   "cell_type": "code",
   "execution_count": 178,
   "id": "6d8fd5ee",
   "metadata": {},
   "outputs": [
    {
     "data": {
      "text/plain": [
       "[('chatgpt', 883),\n",
       " ('gpt', 284),\n",
       " ('openai', 230),\n",
       " ('google', 157),\n",
       " ('artificialintelligence', 143),\n",
       " ('microsoft', 139),\n",
       " ('autogpt', 134),\n",
       " ('generativeai', 128),\n",
       " ('new', 69),\n",
       " ('use', 60),\n",
       " ('amp', 51),\n",
       " ('model', 37),\n",
       " ('autonomous', 35),\n",
       " ('great', 35),\n",
       " ('student', 34)]"
      ]
     },
     "execution_count": 178,
     "metadata": {},
     "output_type": "execute_result"
    }
   ],
   "source": [
    "import os\n",
    "import pandas as pd\n",
    "import matplotlib.pyplot as plt\n",
    "import seaborn as sns\n",
    "import itertools\n",
    "import collections\n",
    "\n",
    "# List of all words across tweets\n",
    "all_words_no_urls = list(itertools.chain(*words_in_tweet))\n",
    "\n",
    "# Create counter\n",
    "counts_no_urls = collections.Counter(all_words_no_urls)\n",
    "\n",
    "counts_no_urls.most_common(15)"
   ]
  },
  {
   "cell_type": "code",
   "execution_count": 168,
   "id": "992acd79",
   "metadata": {},
   "outputs": [],
   "source": [
    "clean_tweets_no_urls = pd.DataFrame(counts_no_urls.most_common(15),\n",
    "                             columns=['words', 'count'])"
   ]
  },
  {
   "cell_type": "code",
   "execution_count": 179,
   "id": "31100a66",
   "metadata": {},
   "outputs": [
    {
     "data": {
      "image/png": "[encoded data removed]",
      "text/plain": [
       "<Figure size 800x800 with 1 Axes>"
      ]
     },
     "metadata": {},
     "output_type": "display_data"
    }
   ],
   "source": [
    "fig, ax = plt.subplots(figsize=(8, 8))\n",
    "\n",
    "# Plot horizontal bar graph\n",
    "clean_tweets_no_urls.sort_values(by='count').plot.barh(x='words',\n",
    "                      y='count',\n",
    "                      ax=ax,\n",
    "                      color=\"purple\")\n",
    "\n",
    "ax.set_title(\"Common Words Found in negativ Tweets\")\n",
    "\n",
    "plt.show()"
   ]
  },
  {
   "cell_type": "code",
   "execution_count": 180,
   "id": "2313ca7c",
   "metadata": {},
   "outputs": [
    {
     "data": {
      "text/plain": [
       "[['morning',\n",
       "  'professional',\n",
       "  'development',\n",
       "  'video',\n",
       "  'required',\n",
       "  'teaching',\n",
       "  'new',\n",
       "  'world',\n",
       "  'ethan',\n",
       "  'mollick',\n",
       "  'asugsv',\n",
       "  'edtechsr',\n",
       "  'edtech',\n",
       "  'chatgpt',\n",
       "  'singularity'],\n",
       " ['know',\n",
       "  'chatgpt',\n",
       "  'actually',\n",
       "  'innovative',\n",
       "  'work',\n",
       "  'then',\n",
       "  'it',\n",
       "  'openai',\n",
       "  'got',\n",
       "  'crucial',\n",
       "  'thing',\n",
       "  'right',\n",
       "  'datascience',\n",
       "  'dnn',\n",
       "  'genai',\n",
       "  'chatgpt',\n",
       "  'llm',\n",
       "  'verbosity']]"
      ]
     },
     "execution_count": 180,
     "metadata": {},
     "output_type": "execute_result"
    }
   ],
   "source": [
    "# Create a list of lists containing lowercase words for each tweet\n",
    "words_in_tweet = [tweet.lower().split() for tweet in positiv.tweets]\n",
    "words_in_tweet[:2]"
   ]
  },
  {
   "cell_type": "code",
   "execution_count": 181,
   "id": "744c659f",
   "metadata": {},
   "outputs": [
    {
     "data": {
      "text/plain": [
       "[('chatgpt', 1047),\n",
       " ('openai', 200),\n",
       " ('gpt', 176),\n",
       " ('amp', 164),\n",
       " ('google', 144),\n",
       " ('artificialintelligence', 137),\n",
       " ('like', 135),\n",
       " ('microsoft', 131),\n",
       " ('generativeai', 118),\n",
       " ('use', 114),\n",
       " ('student', 91),\n",
       " ('tool', 89),\n",
       " ('new', 86),\n",
       " ('writing', 74),\n",
       " ('way', 66)]"
      ]
     },
     "execution_count": 181,
     "metadata": {},
     "output_type": "execute_result"
    }
   ],
   "source": [
    "# List of all words across tweets\n",
    "all_words_no_urls = list(itertools.chain(*words_in_tweet))\n",
    "\n",
    "# Create counter\n",
    "counts_no_urls = collections.Counter(all_words_no_urls)\n",
    "\n",
    "counts_no_urls.most_common(15)"
   ]
  },
  {
   "cell_type": "code",
   "execution_count": 182,
   "id": "fd013cfd",
   "metadata": {},
   "outputs": [],
   "source": [
    "clean_tweets_no_urls = pd.DataFrame(counts_no_urls.most_common(15),\n",
    "                             columns=['words', 'count'])"
   ]
  },
  {
   "cell_type": "code",
   "execution_count": 183,
   "id": "d8442598",
   "metadata": {},
   "outputs": [
    {
     "data": {
      "image/png": "[encoded data removed]",
      "text/plain": [
       "<Figure size 800x800 with 1 Axes>"
      ]
     },
     "metadata": {},
     "output_type": "display_data"
    }
   ],
   "source": [
    "fig, ax = plt.subplots(figsize=(8, 8))\n",
    "\n",
    "# Plot horizontal bar graph\n",
    "clean_tweets_no_urls.sort_values(by='count').plot.barh(x='words',\n",
    "                      y='count',\n",
    "                      ax=ax,\n",
    "                      color=\"purple\")\n",
    "\n",
    "ax.set_title(\"Common Words Found in positv Tweets\")\n",
    "\n",
    "plt.show()"
   ]
  },
  {
   "cell_type": "code",
   "execution_count": null,
   "id": "3b237172",
   "metadata": {},
   "outputs": [],
   "source": []
  }
 ],
 "metadata": {
  "kernelspec": {
   "display_name": "Python 3 (ipykernel)",
   "language": "python",
   "name": "python3"
  },
  "language_info": {
   "codemirror_mode": {
    "name": "ipython",
    "version": 3
   },
   "file_extension": ".py",
   "mimetype": "text/x-python",
   "name": "python",
   "nbconvert_exporter": "python",
   "pygments_lexer": "ipython3",
   "version": "3.9.13"
  }
 },
 "nbformat": 4,
 "nbformat_minor": 5
}
