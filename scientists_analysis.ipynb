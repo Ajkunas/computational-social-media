{
 "cells": [
  {
   "cell_type": "code",
   "execution_count": 2,
   "id": "e08eff1f",
   "metadata": {},
   "outputs": [],
   "source": [
    "import re\n",
    "import numpy as np\n",
    "import pandas as pd\n",
    "\n",
    "# remove english stopwords with the help of the gensim library \n",
    "from gensim.parsing.preprocessing import remove_stopwords\n",
    "\n",
    "import string\n",
    "\n",
    "from nltk.stem.porter import PorterStemmer\n",
    "from nltk.stem import WordNetLemmatizer"
   ]
  },
  {
   "cell_type": "code",
   "execution_count": 3,
   "id": "8db5af09",
   "metadata": {},
   "outputs": [],
   "source": [
    "english_punctuations = string.punctuation\n",
    "punctuations_list = english_punctuations\n",
    "\n",
    "def cleaning_punctuations(text):\n",
    "    translator = str.maketrans('', '', punctuations_list)\n",
    "    return text.translate(translator)\n",
    "\n",
    "\n",
    "# cleaning and removing URLs\n",
    "def cleaning_URLs(data):\n",
    "    return re.sub('((www.[^s]+)|(https?://[^s]+))',' ',data)\n",
    "\n",
    "def remove_hyperlink(word):\n",
    "    return re.sub(r\"http\\S+\", \"\", word)\n",
    "\n",
    "# cleaning and removing mentions \n",
    "def remove_mentions(word):\n",
    "    return re.sub(r\"@\\S+\", \"\", word)\n",
    "\n",
    "# removing emojis \n",
    "emoji_pattern = re.compile(\"[\"\n",
    "        u\"\\U0001F600-\\U0001F64F\"  # emoticons\n",
    "        u\"\\U0001F300-\\U0001F5FF\"  # symbols & pictographs\n",
    "        u\"\\U0001F680-\\U0001F6FF\"  # transport & map symbols\n",
    "        u\"\\U0001F1E0-\\U0001F1FF\"  # flags (iOS)\n",
    "                           \"]+\", flags=re.UNICODE)\n",
    "\n",
    "# cleaning and removing repeating characters\n",
    "def cleaning_repeating_char(text):\n",
    "    return re.sub(r'(.)1+', r'1', text)\n",
    "\n",
    "stemmer = PorterStemmer()\n",
    "\n",
    "def stem_words(text):\n",
    "    return \" \".join([stemmer.stem(word) for word in text])\n",
    "\n",
    "lemmatizer = WordNetLemmatizer()\n",
    "\n",
    "def lematize_words(text):\n",
    "    return \" \".join([lemmatizer.lemmatize(word) for word in text])"
   ]
  },
  {
   "cell_type": "code",
   "execution_count": 59,
   "id": "dbad9615",
   "metadata": {},
   "outputs": [],
   "source": [
    "def preprocessing(df):\n",
    "    # cleaning and removing URLs\n",
    "    df = df.apply(lambda x: cleaning_URLs(x))\n",
    "    df = df.apply(lambda x: remove_hyperlink(x))\n",
    "    print(\"Cleaned and removed the URLs and hyperlinks.\")\n",
    "    \n",
    "    # cleaning and removing mentions \n",
    "    df = df.apply(lambda x: remove_mentions(x))\n",
    "    print(\"Cleaned and removed the mentions.\")\n",
    "    \n",
    "    # write new csv file containing the preprocessed dataset\n",
    "    return df"
   ]
  },
  {
   "cell_type": "code",
   "execution_count": 28,
   "id": "040cb593",
   "metadata": {},
   "outputs": [],
   "source": [
    "# loading the dataset \n",
    "df = pd.read_csv('datasets/sentiment_chatgpt.csv', usecols=['user_name','user_description',\"clean_tweets\", \"tweets\",'label', 'date'])"
   ]
  },
  {
   "cell_type": "code",
   "execution_count": 29,
   "id": "e12c7e4c",
   "metadata": {},
   "outputs": [
    {
     "data": {
      "text/html": [
       "<div>\n",
       "<style scoped>\n",
       "    .dataframe tbody tr th:only-of-type {\n",
       "        vertical-align: middle;\n",
       "    }\n",
       "\n",
       "    .dataframe tbody tr th {\n",
       "        vertical-align: top;\n",
       "    }\n",
       "\n",
       "    .dataframe thead th {\n",
       "        text-align: right;\n",
       "    }\n",
       "</style>\n",
       "<table border=\"1\" class=\"dataframe\">\n",
       "  <thead>\n",
       "    <tr style=\"text-align: right;\">\n",
       "      <th></th>\n",
       "      <th>user_name</th>\n",
       "      <th>user_description</th>\n",
       "      <th>tweets</th>\n",
       "      <th>clean_tweets</th>\n",
       "      <th>label</th>\n",
       "      <th>date</th>\n",
       "    </tr>\n",
       "  </thead>\n",
       "  <tbody>\n",
       "    <tr>\n",
       "      <th>0</th>\n",
       "      <td>bilal haidar</td>\n",
       "      <td>building draftmateai developer author chatgpt ...</td>\n",
       "      <td>I'm happy to share with you that @draftmateai ...</td>\n",
       "      <td>happy share draftmateai support day free trial...</td>\n",
       "      <td>positiv</td>\n",
       "      <td>2023-04-26 13:02:16+00:00</td>\n",
       "    </tr>\n",
       "    <tr>\n",
       "      <th>1</th>\n",
       "      <td>josh arrington</td>\n",
       "      <td>nomadic marketing vigilante graphic web design...</td>\n",
       "      <td>🤖 - Integrate ChatGPT into your Marketo Smart ...</td>\n",
       "      <td>integrate chatgpt marketo smart campaign disco...</td>\n",
       "      <td>positiv</td>\n",
       "      <td>2023-04-26 13:02:06+00:00</td>\n",
       "    </tr>\n",
       "    <tr>\n",
       "      <th>2</th>\n",
       "      <td>smartling</td>\n",
       "      <td>leading translation management platform locali...</td>\n",
       "      <td>We’re pleased to announce new patent-pending t...</td>\n",
       "      <td>pleased announce new patentpending technology ...</td>\n",
       "      <td>neutral</td>\n",
       "      <td>2023-04-26 13:02:05+00:00</td>\n",
       "    </tr>\n",
       "    <tr>\n",
       "      <th>3</th>\n",
       "      <td>richard</td>\n",
       "      <td>engineering leader coach mentor building remot...</td>\n",
       "      <td>Starting to tire of being scolded by ChatGPT f...</td>\n",
       "      <td>starting tire scolded chatgpt slight perceived...</td>\n",
       "      <td>neutral</td>\n",
       "      <td>2023-04-26 13:02:00+00:00</td>\n",
       "    </tr>\n",
       "    <tr>\n",
       "      <th>4</th>\n",
       "      <td>lockroca</td>\n",
       "      <td>stop learning research develop uild future eyo...</td>\n",
       "      <td>@SpartaJustice It's notable that wikipedia ent...</td>\n",
       "      <td>spartajustice it notable wikipedia entry john ...</td>\n",
       "      <td>positiv</td>\n",
       "      <td>2023-04-26 13:01:52+00:00</td>\n",
       "    </tr>\n",
       "    <tr>\n",
       "      <th>...</th>\n",
       "      <td>...</td>\n",
       "      <td>...</td>\n",
       "      <td>...</td>\n",
       "      <td>...</td>\n",
       "      <td>...</td>\n",
       "      <td>...</td>\n",
       "    </tr>\n",
       "    <tr>\n",
       "      <th>357643</th>\n",
       "      <td>nenu</td>\n",
       "      <td>brain meant processing million tweet post vide...</td>\n",
       "      <td>ChatGPT is the biggest, smartest brain 🧠 in th...</td>\n",
       "      <td>chatgpt biggest smartest brain world right now...</td>\n",
       "      <td>neutral</td>\n",
       "      <td>2022-12-05 17:11:10+00:00</td>\n",
       "    </tr>\n",
       "    <tr>\n",
       "      <th>357644</th>\n",
       "      <td>iamtmoyo</td>\n",
       "      <td>blockchain enthusiast philanthropist slave jav...</td>\n",
       "      <td>Levels🙏🙏🙏,so happy for the chatGPT team for co...</td>\n",
       "      <td>levelsso happy chatgpt team com revolutionary ...</td>\n",
       "      <td>neutral</td>\n",
       "      <td>2022-12-05 17:10:31+00:00</td>\n",
       "    </tr>\n",
       "    <tr>\n",
       "      <th>357645</th>\n",
       "      <td>gabriel furstenheim</td>\n",
       "      <td>mathematician developer amazon previously geob...</td>\n",
       "      <td>Russel vs ChatGPT. It's also funny that it tak...</td>\n",
       "      <td>russel chatgpt it funny take long time answer ...</td>\n",
       "      <td>negativ</td>\n",
       "      <td>2022-12-05 17:09:04+00:00</td>\n",
       "    </tr>\n",
       "    <tr>\n",
       "      <th>357646</th>\n",
       "      <td>devang</td>\n",
       "      <td>passionate nature software developer profession</td>\n",
       "      <td>Was just wondering is there any difference bet...</td>\n",
       "      <td>wondering difference jasper chatgpt gpt chatgp...</td>\n",
       "      <td>negativ</td>\n",
       "      <td>2022-12-05 17:08:44+00:00</td>\n",
       "    </tr>\n",
       "    <tr>\n",
       "      <th>357647</th>\n",
       "      <td>norman meuschke</td>\n",
       "      <td>postdoc gipplab unigoettingen phd unikonstanz ...</td>\n",
       "      <td>#ChatGPT and similar #LLM pose a challenge to ...</td>\n",
       "      <td>chatgpt similar llm pose challenge academic in...</td>\n",
       "      <td>neutral</td>\n",
       "      <td>2022-12-05 17:08:20+00:00</td>\n",
       "    </tr>\n",
       "  </tbody>\n",
       "</table>\n",
       "<p>357648 rows × 6 columns</p>\n",
       "</div>"
      ],
      "text/plain": [
       "                  user_name  \\\n",
       "0              bilal haidar   \n",
       "1            josh arrington   \n",
       "2                 smartling   \n",
       "3                   richard   \n",
       "4                  lockroca   \n",
       "...                     ...   \n",
       "357643                 nenu   \n",
       "357644             iamtmoyo   \n",
       "357645  gabriel furstenheim   \n",
       "357646               devang   \n",
       "357647      norman meuschke   \n",
       "\n",
       "                                         user_description  \\\n",
       "0       building draftmateai developer author chatgpt ...   \n",
       "1       nomadic marketing vigilante graphic web design...   \n",
       "2       leading translation management platform locali...   \n",
       "3       engineering leader coach mentor building remot...   \n",
       "4       stop learning research develop uild future eyo...   \n",
       "...                                                   ...   \n",
       "357643  brain meant processing million tweet post vide...   \n",
       "357644  blockchain enthusiast philanthropist slave jav...   \n",
       "357645  mathematician developer amazon previously geob...   \n",
       "357646    passionate nature software developer profession   \n",
       "357647  postdoc gipplab unigoettingen phd unikonstanz ...   \n",
       "\n",
       "                                                   tweets  \\\n",
       "0       I'm happy to share with you that @draftmateai ...   \n",
       "1       🤖 - Integrate ChatGPT into your Marketo Smart ...   \n",
       "2       We’re pleased to announce new patent-pending t...   \n",
       "3       Starting to tire of being scolded by ChatGPT f...   \n",
       "4       @SpartaJustice It's notable that wikipedia ent...   \n",
       "...                                                   ...   \n",
       "357643  ChatGPT is the biggest, smartest brain 🧠 in th...   \n",
       "357644  Levels🙏🙏🙏,so happy for the chatGPT team for co...   \n",
       "357645  Russel vs ChatGPT. It's also funny that it tak...   \n",
       "357646  Was just wondering is there any difference bet...   \n",
       "357647  #ChatGPT and similar #LLM pose a challenge to ...   \n",
       "\n",
       "                                             clean_tweets    label  \\\n",
       "0       happy share draftmateai support day free trial...  positiv   \n",
       "1       integrate chatgpt marketo smart campaign disco...  positiv   \n",
       "2       pleased announce new patentpending technology ...  neutral   \n",
       "3       starting tire scolded chatgpt slight perceived...  neutral   \n",
       "4       spartajustice it notable wikipedia entry john ...  positiv   \n",
       "...                                                   ...      ...   \n",
       "357643  chatgpt biggest smartest brain world right now...  neutral   \n",
       "357644  levelsso happy chatgpt team com revolutionary ...  neutral   \n",
       "357645  russel chatgpt it funny take long time answer ...  negativ   \n",
       "357646  wondering difference jasper chatgpt gpt chatgp...  negativ   \n",
       "357647  chatgpt similar llm pose challenge academic in...  neutral   \n",
       "\n",
       "                             date  \n",
       "0       2023-04-26 13:02:16+00:00  \n",
       "1       2023-04-26 13:02:06+00:00  \n",
       "2       2023-04-26 13:02:05+00:00  \n",
       "3       2023-04-26 13:02:00+00:00  \n",
       "4       2023-04-26 13:01:52+00:00  \n",
       "...                           ...  \n",
       "357643  2022-12-05 17:11:10+00:00  \n",
       "357644  2022-12-05 17:10:31+00:00  \n",
       "357645  2022-12-05 17:09:04+00:00  \n",
       "357646  2022-12-05 17:08:44+00:00  \n",
       "357647  2022-12-05 17:08:20+00:00  \n",
       "\n",
       "[357648 rows x 6 columns]"
      ]
     },
     "execution_count": 29,
     "metadata": {},
     "output_type": "execute_result"
    }
   ],
   "source": [
    "df"
   ]
  },
  {
   "cell_type": "markdown",
   "id": "8ca49735",
   "metadata": {},
   "source": [
    "## Classification tweets into scientists "
   ]
  },
  {
   "cell_type": "code",
   "execution_count": 30,
   "id": "df4b7bc4",
   "metadata": {},
   "outputs": [
    {
     "data": {
      "text/plain": [
       "357648"
      ]
     },
     "execution_count": 30,
     "metadata": {},
     "output_type": "execute_result"
    }
   ],
   "source": [
    "len(df)"
   ]
  },
  {
   "cell_type": "code",
   "execution_count": 31,
   "id": "cb57a330",
   "metadata": {},
   "outputs": [
    {
     "data": {
      "text/plain": [
       "user_name           0\n",
       "user_description    0\n",
       "tweets              0\n",
       "clean_tweets        0\n",
       "label               0\n",
       "date                0\n",
       "dtype: int64"
      ]
     },
     "execution_count": 31,
     "metadata": {},
     "output_type": "execute_result"
    }
   ],
   "source": [
    "df.isnull().values.any()\n",
    "df.isnull().sum()"
   ]
  },
  {
   "cell_type": "code",
   "execution_count": 32,
   "id": "50a45094",
   "metadata": {},
   "outputs": [],
   "source": [
    "name = df.user_name"
   ]
  },
  {
   "cell_type": "code",
   "execution_count": 33,
   "id": "903b8e74",
   "metadata": {},
   "outputs": [],
   "source": [
    "descr = df.user_description"
   ]
  },
  {
   "cell_type": "code",
   "execution_count": 34,
   "id": "cfcb3a67",
   "metadata": {},
   "outputs": [],
   "source": [
    "descr_list = ['scientist']"
   ]
  },
  {
   "cell_type": "code",
   "execution_count": 35,
   "id": "b45340d5",
   "metadata": {},
   "outputs": [],
   "source": [
    "word_list = ['phd']"
   ]
  },
  {
   "cell_type": "code",
   "execution_count": 36,
   "id": "0d7012f8",
   "metadata": {},
   "outputs": [],
   "source": [
    "scientist = (name.str.contains('|'.join(word_list), case=False)) & (descr.str.contains('|'.join(descr_list), case=False))"
   ]
  },
  {
   "cell_type": "code",
   "execution_count": 37,
   "id": "58461989",
   "metadata": {},
   "outputs": [],
   "source": [
    "#scientist = (name.str.contains('|'.join(word_list), case=False))"
   ]
  },
  {
   "cell_type": "code",
   "execution_count": 38,
   "id": "7329fbc5",
   "metadata": {},
   "outputs": [],
   "source": [
    "result = df[scientist]"
   ]
  },
  {
   "cell_type": "code",
   "execution_count": 39,
   "id": "c9fbcc21",
   "metadata": {},
   "outputs": [
    {
     "data": {
      "text/html": [
       "<div>\n",
       "<style scoped>\n",
       "    .dataframe tbody tr th:only-of-type {\n",
       "        vertical-align: middle;\n",
       "    }\n",
       "\n",
       "    .dataframe tbody tr th {\n",
       "        vertical-align: top;\n",
       "    }\n",
       "\n",
       "    .dataframe thead th {\n",
       "        text-align: right;\n",
       "    }\n",
       "</style>\n",
       "<table border=\"1\" class=\"dataframe\">\n",
       "  <thead>\n",
       "    <tr style=\"text-align: right;\">\n",
       "      <th></th>\n",
       "      <th>user_name</th>\n",
       "      <th>user_description</th>\n",
       "      <th>tweets</th>\n",
       "      <th>clean_tweets</th>\n",
       "      <th>label</th>\n",
       "      <th>date</th>\n",
       "    </tr>\n",
       "  </thead>\n",
       "  <tbody>\n",
       "    <tr>\n",
       "      <th>666</th>\n",
       "      <td>michael phd</td>\n",
       "      <td>chief strategist pro senior research fellow da...</td>\n",
       "      <td>Did you know that ChatGPT is actually NOT so i...</td>\n",
       "      <td>know chatgpt actually innovative work then it ...</td>\n",
       "      <td>positiv</td>\n",
       "      <td>2023-04-26 09:42:01+00:00</td>\n",
       "    </tr>\n",
       "    <tr>\n",
       "      <th>2068</th>\n",
       "      <td>jason moore phd</td>\n",
       "      <td>chair department computational biomedicine ced...</td>\n",
       "      <td>‘As an AI language model’: the phrase that sho...</td>\n",
       "      <td>language model phrase show polluting web chatgpt</td>\n",
       "      <td>negativ</td>\n",
       "      <td>2023-04-25 22:25:37+00:00</td>\n",
       "    </tr>\n",
       "    <tr>\n",
       "      <th>2610</th>\n",
       "      <td>michael phd</td>\n",
       "      <td>chief strategist pro senior research fellow da...</td>\n",
       "      <td>Did you know that ChatGPT is actually NOT so i...</td>\n",
       "      <td>know chatgpt actually innovative work then it ...</td>\n",
       "      <td>positiv</td>\n",
       "      <td>2023-04-25 19:42:00+00:00</td>\n",
       "    </tr>\n",
       "    <tr>\n",
       "      <th>2825</th>\n",
       "      <td>jennifer kwan phd</td>\n",
       "      <td>physician scientist cardiologist yale working ...</td>\n",
       "      <td>@bchesky @airbnb discusses navigating pandemic...</td>\n",
       "      <td>bchesky airbnb discus navigating pandemic deci...</td>\n",
       "      <td>neutral</td>\n",
       "      <td>2023-04-25 18:31:36+00:00</td>\n",
       "    </tr>\n",
       "    <tr>\n",
       "      <th>5074</th>\n",
       "      <td>michael phd</td>\n",
       "      <td>chief strategist pro senior research fellow da...</td>\n",
       "      <td>Did you know that ChatGPT is actually NOT so i...</td>\n",
       "      <td>know chatgpt actually innovative work then it ...</td>\n",
       "      <td>positiv</td>\n",
       "      <td>2023-04-25 05:42:01+00:00</td>\n",
       "    </tr>\n",
       "    <tr>\n",
       "      <th>...</th>\n",
       "      <td>...</td>\n",
       "      <td>...</td>\n",
       "      <td>...</td>\n",
       "      <td>...</td>\n",
       "      <td>...</td>\n",
       "      <td>...</td>\n",
       "    </tr>\n",
       "    <tr>\n",
       "      <th>353955</th>\n",
       "      <td>tommaso urli phd</td>\n",
       "      <td>optimisation scientist migrant programmer lear...</td>\n",
       "      <td>@diegobetto Brought to you by #ChatGPT</td>\n",
       "      <td>diegobetto brought chatgpt</td>\n",
       "      <td>negativ</td>\n",
       "      <td>2022-12-06 07:49:52+00:00</td>\n",
       "    </tr>\n",
       "    <tr>\n",
       "      <th>355764</th>\n",
       "      <td>matt tenan phd atc</td>\n",
       "      <td>physiologist data scientist program director h...</td>\n",
       "      <td>Nope #ChatGPT has drank all the Kool-aid. Go h...</td>\n",
       "      <td>nope chatgpt drank koolaid home chatbot youre ...</td>\n",
       "      <td>negativ</td>\n",
       "      <td>2022-12-05 23:41:09+00:00</td>\n",
       "    </tr>\n",
       "    <tr>\n",
       "      <th>355841</th>\n",
       "      <td>matt tenan phd atc</td>\n",
       "      <td>physiologist data scientist program director h...</td>\n",
       "      <td>Show me the citations #ChatGPT! https://t.co/8...</td>\n",
       "      <td>citation chatgpt</td>\n",
       "      <td>negativ</td>\n",
       "      <td>2022-12-05 23:25:05+00:00</td>\n",
       "    </tr>\n",
       "    <tr>\n",
       "      <th>355986</th>\n",
       "      <td>phd hire</td>\n",
       "      <td>scientist giving free career advice hope acade...</td>\n",
       "      <td>Is academia ready for #ChatGPT? Are students w...</td>\n",
       "      <td>academia ready chatgpt student writing paper t...</td>\n",
       "      <td>positiv</td>\n",
       "      <td>2022-12-05 22:51:26+00:00</td>\n",
       "    </tr>\n",
       "    <tr>\n",
       "      <th>357174</th>\n",
       "      <td>justyna hampel phd</td>\n",
       "      <td>postdoctoral research scientist stockholm univ...</td>\n",
       "      <td>Who doesn’t enjoy a nice little poem about the...</td>\n",
       "      <td>doesn enjoy nice little poem cycle chatgpt nit...</td>\n",
       "      <td>positiv</td>\n",
       "      <td>2022-12-05 19:01:33+00:00</td>\n",
       "    </tr>\n",
       "  </tbody>\n",
       "</table>\n",
       "<p>175 rows × 6 columns</p>\n",
       "</div>"
      ],
      "text/plain": [
       "                 user_name                                   user_description  \\\n",
       "666            michael phd  chief strategist pro senior research fellow da...   \n",
       "2068       jason moore phd  chair department computational biomedicine ced...   \n",
       "2610           michael phd  chief strategist pro senior research fellow da...   \n",
       "2825     jennifer kwan phd  physician scientist cardiologist yale working ...   \n",
       "5074           michael phd  chief strategist pro senior research fellow da...   \n",
       "...                    ...                                                ...   \n",
       "353955    tommaso urli phd  optimisation scientist migrant programmer lear...   \n",
       "355764  matt tenan phd atc  physiologist data scientist program director h...   \n",
       "355841  matt tenan phd atc  physiologist data scientist program director h...   \n",
       "355986            phd hire  scientist giving free career advice hope acade...   \n",
       "357174  justyna hampel phd  postdoctoral research scientist stockholm univ...   \n",
       "\n",
       "                                                   tweets  \\\n",
       "666     Did you know that ChatGPT is actually NOT so i...   \n",
       "2068    ‘As an AI language model’: the phrase that sho...   \n",
       "2610    Did you know that ChatGPT is actually NOT so i...   \n",
       "2825    @bchesky @airbnb discusses navigating pandemic...   \n",
       "5074    Did you know that ChatGPT is actually NOT so i...   \n",
       "...                                                   ...   \n",
       "353955             @diegobetto Brought to you by #ChatGPT   \n",
       "355764  Nope #ChatGPT has drank all the Kool-aid. Go h...   \n",
       "355841  Show me the citations #ChatGPT! https://t.co/8...   \n",
       "355986  Is academia ready for #ChatGPT? Are students w...   \n",
       "357174  Who doesn’t enjoy a nice little poem about the...   \n",
       "\n",
       "                                             clean_tweets    label  \\\n",
       "666     know chatgpt actually innovative work then it ...  positiv   \n",
       "2068     language model phrase show polluting web chatgpt  negativ   \n",
       "2610    know chatgpt actually innovative work then it ...  positiv   \n",
       "2825    bchesky airbnb discus navigating pandemic deci...  neutral   \n",
       "5074    know chatgpt actually innovative work then it ...  positiv   \n",
       "...                                                   ...      ...   \n",
       "353955                         diegobetto brought chatgpt  negativ   \n",
       "355764  nope chatgpt drank koolaid home chatbot youre ...  negativ   \n",
       "355841                                   citation chatgpt  negativ   \n",
       "355986  academia ready chatgpt student writing paper t...  positiv   \n",
       "357174  doesn enjoy nice little poem cycle chatgpt nit...  positiv   \n",
       "\n",
       "                             date  \n",
       "666     2023-04-26 09:42:01+00:00  \n",
       "2068    2023-04-25 22:25:37+00:00  \n",
       "2610    2023-04-25 19:42:00+00:00  \n",
       "2825    2023-04-25 18:31:36+00:00  \n",
       "5074    2023-04-25 05:42:01+00:00  \n",
       "...                           ...  \n",
       "353955  2022-12-06 07:49:52+00:00  \n",
       "355764  2022-12-05 23:41:09+00:00  \n",
       "355841  2022-12-05 23:25:05+00:00  \n",
       "355986  2022-12-05 22:51:26+00:00  \n",
       "357174  2022-12-05 19:01:33+00:00  \n",
       "\n",
       "[175 rows x 6 columns]"
      ]
     },
     "execution_count": 39,
     "metadata": {},
     "output_type": "execute_result"
    }
   ],
   "source": [
    "result"
   ]
  },
  {
   "cell_type": "code",
   "execution_count": 40,
   "id": "9db69b03",
   "metadata": {},
   "outputs": [
    {
     "data": {
      "text/plain": [
       "175"
      ]
     },
     "execution_count": 40,
     "metadata": {},
     "output_type": "execute_result"
    }
   ],
   "source": [
    "len(result)"
   ]
  },
  {
   "cell_type": "markdown",
   "id": "625a7f34",
   "metadata": {},
   "source": [
    "## Sentiment analysis "
   ]
  },
  {
   "cell_type": "code",
   "execution_count": 17,
   "id": "883405d4",
   "metadata": {},
   "outputs": [
    {
     "name": "stdout",
     "output_type": "stream",
     "text": [
      "Requirement already satisfied: transformers in c:\\users\\ajkuna seipi\\anaconda3\\lib\\site-packages (4.29.2)\n",
      "Requirement already satisfied: packaging>=20.0 in c:\\users\\ajkuna seipi\\anaconda3\\lib\\site-packages (from transformers) (21.3)\n",
      "Requirement already satisfied: pyyaml>=5.1 in c:\\users\\ajkuna seipi\\anaconda3\\lib\\site-packages (from transformers) (6.0)\n",
      "Requirement already satisfied: numpy>=1.17 in c:\\users\\ajkuna seipi\\anaconda3\\lib\\site-packages (from transformers) (1.21.5)\n",
      "Requirement already satisfied: tokenizers!=0.11.3,<0.14,>=0.11.1 in c:\\users\\ajkuna seipi\\anaconda3\\lib\\site-packages (from transformers) (0.13.3)\n",
      "Requirement already satisfied: filelock in c:\\users\\ajkuna seipi\\anaconda3\\lib\\site-packages (from transformers) (3.6.0)\n",
      "Requirement already satisfied: tqdm>=4.27 in c:\\users\\ajkuna seipi\\anaconda3\\lib\\site-packages (from transformers) (4.64.1)\n",
      "Requirement already satisfied: huggingface-hub<1.0,>=0.14.1 in c:\\users\\ajkuna seipi\\anaconda3\\lib\\site-packages (from transformers) (0.14.1)\n",
      "Requirement already satisfied: regex!=2019.12.17 in c:\\users\\ajkuna seipi\\anaconda3\\lib\\site-packages (from transformers) (2022.7.9)\n",
      "Requirement already satisfied: requests in c:\\users\\ajkuna seipi\\anaconda3\\lib\\site-packages (from transformers) (2.28.1)\n",
      "Requirement already satisfied: typing-extensions>=3.7.4.3 in c:\\users\\ajkuna seipi\\anaconda3\\lib\\site-packages (from huggingface-hub<1.0,>=0.14.1->transformers) (4.3.0)\n",
      "Requirement already satisfied: fsspec in c:\\users\\ajkuna seipi\\anaconda3\\lib\\site-packages (from huggingface-hub<1.0,>=0.14.1->transformers) (2022.7.1)\n",
      "Requirement already satisfied: pyparsing!=3.0.5,>=2.0.2 in c:\\users\\ajkuna seipi\\anaconda3\\lib\\site-packages (from packaging>=20.0->transformers) (3.0.9)\n",
      "Requirement already satisfied: colorama in c:\\users\\ajkuna seipi\\anaconda3\\lib\\site-packages (from tqdm>=4.27->transformers) (0.4.5)\n",
      "Requirement already satisfied: urllib3<1.27,>=1.21.1 in c:\\users\\ajkuna seipi\\anaconda3\\lib\\site-packages (from requests->transformers) (1.26.11)\n",
      "Requirement already satisfied: idna<4,>=2.5 in c:\\users\\ajkuna seipi\\anaconda3\\lib\\site-packages (from requests->transformers) (3.3)\n",
      "Requirement already satisfied: certifi>=2017.4.17 in c:\\users\\ajkuna seipi\\anaconda3\\lib\\site-packages (from requests->transformers) (2022.9.24)\n",
      "Requirement already satisfied: charset-normalizer<3,>=2 in c:\\users\\ajkuna seipi\\anaconda3\\lib\\site-packages (from requests->transformers) (2.0.4)\n"
     ]
    }
   ],
   "source": [
    "!pip install transformers"
   ]
  },
  {
   "cell_type": "code",
   "execution_count": 19,
   "id": "92de1750",
   "metadata": {},
   "outputs": [
    {
     "name": "stdout",
     "output_type": "stream",
     "text": [
      "Requirement already satisfied: sentencepiece in c:\\users\\ajkuna seipi\\anaconda3\\lib\\site-packages (0.1.99)\n"
     ]
    }
   ],
   "source": [
    "!pip install sentencepiece"
   ]
  },
  {
   "cell_type": "code",
   "execution_count": 20,
   "id": "57560f8f",
   "metadata": {},
   "outputs": [
    {
     "data": {
      "application/vnd.jupyter.widget-view+json": {
       "model_id": "1689f8bb725b4d8da5de66a3afdb00c0",
       "version_major": 2,
       "version_minor": 0
      },
      "text/plain": [
       "Downloading (…)lve/main/config.json:   0%|          | 0.00/841 [00:00<?, ?B/s]"
      ]
     },
     "metadata": {},
     "output_type": "display_data"
    },
    {
     "name": "stderr",
     "output_type": "stream",
     "text": [
      "C:\\Users\\Ajkuna Seipi\\anaconda3\\lib\\site-packages\\huggingface_hub\\file_download.py:133: UserWarning: `huggingface_hub` cache-system uses symlinks by default to efficiently store duplicated files but your machine does not support them in C:\\Users\\Ajkuna Seipi\\.cache\\huggingface\\hub. Caching files will still work but in a degraded version that might require more space on your disk. This warning can be disabled by setting the `HF_HUB_DISABLE_SYMLINKS_WARNING` environment variable. For more details, see https://huggingface.co/docs/huggingface_hub/how-to-cache#limitations.\n",
      "To support symlinks on Windows, you either need to activate Developer Mode or to run Python as an administrator. In order to see activate developer mode, see this article: https://docs.microsoft.com/en-us/windows/apps/get-started/enable-your-device-for-development\n",
      "  warnings.warn(message)\n"
     ]
    },
    {
     "data": {
      "application/vnd.jupyter.widget-view+json": {
       "model_id": "94f3f3b1a7d7429aadd640baa9185017",
       "version_major": 2,
       "version_minor": 0
      },
      "text/plain": [
       "Downloading (…)tencepiece.bpe.model:   0%|          | 0.00/5.07M [00:00<?, ?B/s]"
      ]
     },
     "metadata": {},
     "output_type": "display_data"
    },
    {
     "data": {
      "application/vnd.jupyter.widget-view+json": {
       "model_id": "2026c6bf0b7242ddb8da7031d38a4e9b",
       "version_major": 2,
       "version_minor": 0
      },
      "text/plain": [
       "Downloading (…)cial_tokens_map.json:   0%|          | 0.00/150 [00:00<?, ?B/s]"
      ]
     },
     "metadata": {},
     "output_type": "display_data"
    },
    {
     "data": {
      "application/vnd.jupyter.widget-view+json": {
       "model_id": "c3c68aebc83a4605b36504dacda4ea50",
       "version_major": 2,
       "version_minor": 0
      },
      "text/plain": [
       "Downloading pytorch_model.bin:   0%|          | 0.00/1.11G [00:00<?, ?B/s]"
      ]
     },
     "metadata": {},
     "output_type": "display_data"
    }
   ],
   "source": [
    "from transformers import AutoModelForSequenceClassification\n",
    "from transformers import AutoTokenizer, AutoConfig\n",
    "import numpy as np\n",
    "from scipy.special import softmax\n",
    "\n",
    "# Preprocess text (username and link placeholders)\n",
    "def preprocess(text):\n",
    "    new_text = []\n",
    "    for t in text.split(\" \"):\n",
    "        t = '@user' if t.startswith('@') and len(t) > 1 else t\n",
    "        t = 'http' if t.startswith('http') else t\n",
    "        new_text.append(t)\n",
    "    return \" \".join(new_text)\n",
    "\n",
    "MODEL = \"cardiffnlp/twitter-xlm-roberta-base-sentiment\"\n",
    "\n",
    "tokenizer = AutoTokenizer.from_pretrained(MODEL)\n",
    "config = AutoConfig.from_pretrained(MODEL)\n",
    "\n",
    "model = AutoModelForSequenceClassification.from_pretrained(MODEL)"
   ]
  },
  {
   "cell_type": "code",
   "execution_count": 41,
   "id": "faedfd60",
   "metadata": {},
   "outputs": [
    {
     "name": "stderr",
     "output_type": "stream",
     "text": [
      "C:\\Users\\Ajkuna Seipi\\AppData\\Local\\Temp\\ipykernel_15204\\4066806318.py:21: SettingWithCopyWarning: \n",
      "A value is trying to be set on a copy of a slice from a DataFrame.\n",
      "Try using .loc[row_indexer,col_indexer] = value instead\n",
      "\n",
      "See the caveats in the documentation: https://pandas.pydata.org/pandas-docs/stable/user_guide/indexing.html#returning-a-view-versus-a-copy\n",
      "  result.label = pred\n"
     ]
    }
   ],
   "source": [
    "sentences = list(result.tweets)\n",
    "\n",
    "pred = []\n",
    "# Perform sentiment analysis for each sentence\n",
    "for i, text in enumerate(sentences):\n",
    "    text = preprocess(text)\n",
    "    encoded_input = tokenizer(text, return_tensors='pt')\n",
    "    output = model(**encoded_input)\n",
    "    scores = output.logits.detach().numpy()\n",
    "    scores = softmax(scores)\n",
    "\n",
    "    # Get label with highest score\n",
    "    highest_score_label = config.id2label[np.argmax(scores)]\n",
    "\n",
    "    # Print the label with highest score\n",
    "    #print(f\"Sentence {i+1}: {text}\")\n",
    "    #print(f\"Highest score label: {highest_score_label}\")\n",
    "    #print()\n",
    "    pred.append(highest_score_label)\n",
    "\n",
    "result.label = pred\n",
    "result.to_csv('datasets/sentiment_scientist.csv')"
   ]
  },
  {
   "cell_type": "code",
   "execution_count": 42,
   "id": "5b2127b7",
   "metadata": {},
   "outputs": [],
   "source": [
    "user = result.drop_duplicates(subset=['user_name'])"
   ]
  },
  {
   "cell_type": "code",
   "execution_count": 43,
   "id": "e050d62d",
   "metadata": {},
   "outputs": [
    {
     "data": {
      "text/plain": [
       "77"
      ]
     },
     "execution_count": 43,
     "metadata": {},
     "output_type": "execute_result"
    }
   ],
   "source": [
    "len(user) # We have approximately 692 scientists (postdoctoral, professor and PhDs in every fields)"
   ]
  },
  {
   "cell_type": "code",
   "execution_count": 44,
   "id": "728e6ab2",
   "metadata": {},
   "outputs": [
    {
     "data": {
      "text/plain": [
       "neutral     89\n",
       "positive    54\n",
       "negative    32\n",
       "Name: label, dtype: int64"
      ]
     },
     "execution_count": 44,
     "metadata": {},
     "output_type": "execute_result"
    }
   ],
   "source": [
    "result.label.value_counts()"
   ]
  },
  {
   "cell_type": "code",
   "execution_count": 45,
   "id": "21845f48",
   "metadata": {},
   "outputs": [
    {
     "data": {
      "text/html": [
       "<div>\n",
       "<style scoped>\n",
       "    .dataframe tbody tr th:only-of-type {\n",
       "        vertical-align: middle;\n",
       "    }\n",
       "\n",
       "    .dataframe tbody tr th {\n",
       "        vertical-align: top;\n",
       "    }\n",
       "\n",
       "    .dataframe thead th {\n",
       "        text-align: right;\n",
       "    }\n",
       "</style>\n",
       "<table border=\"1\" class=\"dataframe\">\n",
       "  <thead>\n",
       "    <tr style=\"text-align: right;\">\n",
       "      <th></th>\n",
       "      <th>user_name</th>\n",
       "      <th>user_description</th>\n",
       "      <th>tweets</th>\n",
       "      <th>clean_tweets</th>\n",
       "      <th>label</th>\n",
       "      <th>date</th>\n",
       "    </tr>\n",
       "  </thead>\n",
       "  <tbody>\n",
       "    <tr>\n",
       "      <th>666</th>\n",
       "      <td>michael phd</td>\n",
       "      <td>chief strategist pro senior research fellow da...</td>\n",
       "      <td>Did you know that ChatGPT is actually NOT so i...</td>\n",
       "      <td>know chatgpt actually innovative work then it ...</td>\n",
       "      <td>negative</td>\n",
       "      <td>2023-04-26 09:42:01+00:00</td>\n",
       "    </tr>\n",
       "    <tr>\n",
       "      <th>2068</th>\n",
       "      <td>jason moore phd</td>\n",
       "      <td>chair department computational biomedicine ced...</td>\n",
       "      <td>‘As an AI language model’: the phrase that sho...</td>\n",
       "      <td>language model phrase show polluting web chatgpt</td>\n",
       "      <td>neutral</td>\n",
       "      <td>2023-04-25 22:25:37+00:00</td>\n",
       "    </tr>\n",
       "    <tr>\n",
       "      <th>2610</th>\n",
       "      <td>michael phd</td>\n",
       "      <td>chief strategist pro senior research fellow da...</td>\n",
       "      <td>Did you know that ChatGPT is actually NOT so i...</td>\n",
       "      <td>know chatgpt actually innovative work then it ...</td>\n",
       "      <td>negative</td>\n",
       "      <td>2023-04-25 19:42:00+00:00</td>\n",
       "    </tr>\n",
       "    <tr>\n",
       "      <th>2825</th>\n",
       "      <td>jennifer kwan phd</td>\n",
       "      <td>physician scientist cardiologist yale working ...</td>\n",
       "      <td>@bchesky @airbnb discusses navigating pandemic...</td>\n",
       "      <td>bchesky airbnb discus navigating pandemic deci...</td>\n",
       "      <td>neutral</td>\n",
       "      <td>2023-04-25 18:31:36+00:00</td>\n",
       "    </tr>\n",
       "    <tr>\n",
       "      <th>5074</th>\n",
       "      <td>michael phd</td>\n",
       "      <td>chief strategist pro senior research fellow da...</td>\n",
       "      <td>Did you know that ChatGPT is actually NOT so i...</td>\n",
       "      <td>know chatgpt actually innovative work then it ...</td>\n",
       "      <td>negative</td>\n",
       "      <td>2023-04-25 05:42:01+00:00</td>\n",
       "    </tr>\n",
       "    <tr>\n",
       "      <th>...</th>\n",
       "      <td>...</td>\n",
       "      <td>...</td>\n",
       "      <td>...</td>\n",
       "      <td>...</td>\n",
       "      <td>...</td>\n",
       "      <td>...</td>\n",
       "    </tr>\n",
       "    <tr>\n",
       "      <th>353955</th>\n",
       "      <td>tommaso urli phd</td>\n",
       "      <td>optimisation scientist migrant programmer lear...</td>\n",
       "      <td>@diegobetto Brought to you by #ChatGPT</td>\n",
       "      <td>diegobetto brought chatgpt</td>\n",
       "      <td>neutral</td>\n",
       "      <td>2022-12-06 07:49:52+00:00</td>\n",
       "    </tr>\n",
       "    <tr>\n",
       "      <th>355764</th>\n",
       "      <td>matt tenan phd atc</td>\n",
       "      <td>physiologist data scientist program director h...</td>\n",
       "      <td>Nope #ChatGPT has drank all the Kool-aid. Go h...</td>\n",
       "      <td>nope chatgpt drank koolaid home chatbot youre ...</td>\n",
       "      <td>negative</td>\n",
       "      <td>2022-12-05 23:41:09+00:00</td>\n",
       "    </tr>\n",
       "    <tr>\n",
       "      <th>355841</th>\n",
       "      <td>matt tenan phd atc</td>\n",
       "      <td>physiologist data scientist program director h...</td>\n",
       "      <td>Show me the citations #ChatGPT! https://t.co/8...</td>\n",
       "      <td>citation chatgpt</td>\n",
       "      <td>neutral</td>\n",
       "      <td>2022-12-05 23:25:05+00:00</td>\n",
       "    </tr>\n",
       "    <tr>\n",
       "      <th>355986</th>\n",
       "      <td>phd hire</td>\n",
       "      <td>scientist giving free career advice hope acade...</td>\n",
       "      <td>Is academia ready for #ChatGPT? Are students w...</td>\n",
       "      <td>academia ready chatgpt student writing paper t...</td>\n",
       "      <td>positive</td>\n",
       "      <td>2022-12-05 22:51:26+00:00</td>\n",
       "    </tr>\n",
       "    <tr>\n",
       "      <th>357174</th>\n",
       "      <td>justyna hampel phd</td>\n",
       "      <td>postdoctoral research scientist stockholm univ...</td>\n",
       "      <td>Who doesn’t enjoy a nice little poem about the...</td>\n",
       "      <td>doesn enjoy nice little poem cycle chatgpt nit...</td>\n",
       "      <td>neutral</td>\n",
       "      <td>2022-12-05 19:01:33+00:00</td>\n",
       "    </tr>\n",
       "  </tbody>\n",
       "</table>\n",
       "<p>175 rows × 6 columns</p>\n",
       "</div>"
      ],
      "text/plain": [
       "                 user_name                                   user_description  \\\n",
       "666            michael phd  chief strategist pro senior research fellow da...   \n",
       "2068       jason moore phd  chair department computational biomedicine ced...   \n",
       "2610           michael phd  chief strategist pro senior research fellow da...   \n",
       "2825     jennifer kwan phd  physician scientist cardiologist yale working ...   \n",
       "5074           michael phd  chief strategist pro senior research fellow da...   \n",
       "...                    ...                                                ...   \n",
       "353955    tommaso urli phd  optimisation scientist migrant programmer lear...   \n",
       "355764  matt tenan phd atc  physiologist data scientist program director h...   \n",
       "355841  matt tenan phd atc  physiologist data scientist program director h...   \n",
       "355986            phd hire  scientist giving free career advice hope acade...   \n",
       "357174  justyna hampel phd  postdoctoral research scientist stockholm univ...   \n",
       "\n",
       "                                                   tweets  \\\n",
       "666     Did you know that ChatGPT is actually NOT so i...   \n",
       "2068    ‘As an AI language model’: the phrase that sho...   \n",
       "2610    Did you know that ChatGPT is actually NOT so i...   \n",
       "2825    @bchesky @airbnb discusses navigating pandemic...   \n",
       "5074    Did you know that ChatGPT is actually NOT so i...   \n",
       "...                                                   ...   \n",
       "353955             @diegobetto Brought to you by #ChatGPT   \n",
       "355764  Nope #ChatGPT has drank all the Kool-aid. Go h...   \n",
       "355841  Show me the citations #ChatGPT! https://t.co/8...   \n",
       "355986  Is academia ready for #ChatGPT? Are students w...   \n",
       "357174  Who doesn’t enjoy a nice little poem about the...   \n",
       "\n",
       "                                             clean_tweets     label  \\\n",
       "666     know chatgpt actually innovative work then it ...  negative   \n",
       "2068     language model phrase show polluting web chatgpt   neutral   \n",
       "2610    know chatgpt actually innovative work then it ...  negative   \n",
       "2825    bchesky airbnb discus navigating pandemic deci...   neutral   \n",
       "5074    know chatgpt actually innovative work then it ...  negative   \n",
       "...                                                   ...       ...   \n",
       "353955                         diegobetto brought chatgpt   neutral   \n",
       "355764  nope chatgpt drank koolaid home chatbot youre ...  negative   \n",
       "355841                                   citation chatgpt   neutral   \n",
       "355986  academia ready chatgpt student writing paper t...  positive   \n",
       "357174  doesn enjoy nice little poem cycle chatgpt nit...   neutral   \n",
       "\n",
       "                             date  \n",
       "666     2023-04-26 09:42:01+00:00  \n",
       "2068    2023-04-25 22:25:37+00:00  \n",
       "2610    2023-04-25 19:42:00+00:00  \n",
       "2825    2023-04-25 18:31:36+00:00  \n",
       "5074    2023-04-25 05:42:01+00:00  \n",
       "...                           ...  \n",
       "353955  2022-12-06 07:49:52+00:00  \n",
       "355764  2022-12-05 23:41:09+00:00  \n",
       "355841  2022-12-05 23:25:05+00:00  \n",
       "355986  2022-12-05 22:51:26+00:00  \n",
       "357174  2022-12-05 19:01:33+00:00  \n",
       "\n",
       "[175 rows x 6 columns]"
      ]
     },
     "execution_count": 45,
     "metadata": {},
     "output_type": "execute_result"
    }
   ],
   "source": [
    "result"
   ]
  },
  {
   "cell_type": "code",
   "execution_count": 48,
   "id": "70d4aa86",
   "metadata": {},
   "outputs": [],
   "source": [
    "positive = result[result.label == 'positive']\n",
    "negative = result[result.label == 'negative']"
   ]
  },
  {
   "cell_type": "markdown",
   "id": "3ad1552a",
   "metadata": {},
   "source": [
    "## Topic modeling"
   ]
  },
  {
   "cell_type": "code",
   "execution_count": 46,
   "id": "b2971dc9",
   "metadata": {},
   "outputs": [],
   "source": [
    "from transformers import AutoModelForSequenceClassification, TFAutoModelForSequenceClassification\n",
    "from transformers import AutoTokenizer\n",
    "import numpy as np\n",
    "from scipy.special import expit\n",
    "\n",
    "    \n",
    "MODEL = f\"cardiffnlp/tweet-topic-21-multi\"\n",
    "tokenizer = AutoTokenizer.from_pretrained(MODEL)\n",
    "\n",
    "# PT\n",
    "model = AutoModelForSequenceClassification.from_pretrained(MODEL)\n",
    "class_mapping = model.config.id2label"
   ]
  },
  {
   "cell_type": "code",
   "execution_count": 49,
   "id": "9ab90d68",
   "metadata": {},
   "outputs": [],
   "source": [
    "# topic modelling \n",
    "\n",
    "def get_topic(text): \n",
    "    tokenized_inputs = []\n",
    "    for sentence in text:\n",
    "        tokens = tokenizer(sentence, return_tensors='pt')\n",
    "        tokenized_inputs.append(tokens)\n",
    "        \n",
    "    predictions = []\n",
    "    for tokens in tokenized_inputs:\n",
    "        output = model(**tokens)\n",
    "        scores = output.logits[0].detach().numpy()\n",
    "        scores = expit(scores)\n",
    "        sentence_predictions = (scores >= 0.5) * 1\n",
    "        predictions.append(sentence_predictions)\n",
    "        \n",
    "    classes = []\n",
    "    for sentence_predictions in predictions:\n",
    "        for i in range(len(sentence_predictions)):\n",
    "            if sentence_predictions[i]:\n",
    "                classes.append(class_mapping[i])\n",
    "                \n",
    "    return classes"
   ]
  },
  {
   "cell_type": "markdown",
   "id": "f33fb4b5",
   "metadata": {},
   "source": [
    "### In general"
   ]
  },
  {
   "cell_type": "code",
   "execution_count": 50,
   "id": "4c871411",
   "metadata": {},
   "outputs": [
    {
     "name": "stdout",
     "output_type": "stream",
     "text": [
      "tweets topic modelling : \n",
      "Class: science_&_technology, Count: 78\n",
      "Class: business_&_entrepreneurs, Count: 8\n",
      "Class: news_&_social_concern, Count: 31\n",
      "Class: food_&_dining, Count: 3\n",
      "Class: travel_&_adventure, Count: 10\n",
      "Class: fitness_&_health, Count: 11\n",
      "Class: diaries_&_daily_life, Count: 11\n",
      "Class: learning_&_educational, Count: 34\n",
      "Class: youth_&_student_life, Count: 7\n",
      "Class: film_tv_&_video, Count: 4\n",
      "Class: family, Count: 2\n",
      "Class: relationships, Count: 1\n",
      "Class: arts_&_culture, Count: 4\n",
      "Class: celebrity_&_pop_culture, Count: 1\n",
      "Class: other_hobbies, Count: 1\n",
      "Class: sports, Count: 1\n"
     ]
    }
   ],
   "source": [
    "from collections import Counter\n",
    "\n",
    "# topic modelling for positive tweets\n",
    "print(\"tweets topic modelling : \")\n",
    "tweets = list(result.tweets)\n",
    "classes = get_topic(tweets)\n",
    "\n",
    "string_counts = Counter(classes)\n",
    "\n",
    "map_result = {}\n",
    "for string, count in string_counts.items():\n",
    "    map_result[string] = count\n",
    "    print(f\"Class: {string}, Count: {count}\")\n",
    "\n",
    "map_result = sorted(map_result.items(), key=lambda x: x[1])"
   ]
  },
  {
   "cell_type": "code",
   "execution_count": 51,
   "id": "4ca70e1a",
   "metadata": {},
   "outputs": [
    {
     "data": {
      "text/plain": [
       "[('relationships', 1),\n",
       " ('celebrity_&_pop_culture', 1),\n",
       " ('other_hobbies', 1),\n",
       " ('sports', 1),\n",
       " ('family', 2),\n",
       " ('food_&_dining', 3),\n",
       " ('film_tv_&_video', 4),\n",
       " ('arts_&_culture', 4),\n",
       " ('youth_&_student_life', 7),\n",
       " ('business_&_entrepreneurs', 8),\n",
       " ('travel_&_adventure', 10),\n",
       " ('fitness_&_health', 11),\n",
       " ('diaries_&_daily_life', 11),\n",
       " ('news_&_social_concern', 31),\n",
       " ('learning_&_educational', 34),\n",
       " ('science_&_technology', 78)]"
      ]
     },
     "execution_count": 51,
     "metadata": {},
     "output_type": "execute_result"
    }
   ],
   "source": [
    "map_result"
   ]
  },
  {
   "cell_type": "markdown",
   "id": "778aec4d",
   "metadata": {},
   "source": [
    "### Positive tweets"
   ]
  },
  {
   "cell_type": "code",
   "execution_count": 52,
   "id": "4560fb88",
   "metadata": {},
   "outputs": [
    {
     "name": "stdout",
     "output_type": "stream",
     "text": [
      "tweets topic modelling : \n",
      "Class: science_&_technology, Count: 22\n",
      "Class: fitness_&_health, Count: 5\n",
      "Class: learning_&_educational, Count: 13\n",
      "Class: diaries_&_daily_life, Count: 4\n",
      "Class: youth_&_student_life, Count: 3\n",
      "Class: news_&_social_concern, Count: 7\n",
      "Class: film_tv_&_video, Count: 1\n",
      "Class: arts_&_culture, Count: 1\n",
      "Class: business_&_entrepreneurs, Count: 1\n"
     ]
    }
   ],
   "source": [
    "from collections import Counter\n",
    "\n",
    "# topic modelling for positive tweets\n",
    "print(\"tweets topic modelling : \")\n",
    "tweets = list(positive.tweets)\n",
    "classes = get_topic(tweets)\n",
    "\n",
    "string_counts = Counter(classes)\n",
    "\n",
    "map_pos = {}\n",
    "for string, count in string_counts.items():\n",
    "    map_pos[string] = count\n",
    "    print(f\"Class: {string}, Count: {count}\")\n",
    "\n",
    "map_pos = sorted(map_pos.items(), key=lambda x: x[1])"
   ]
  },
  {
   "cell_type": "code",
   "execution_count": 53,
   "id": "8e208765",
   "metadata": {},
   "outputs": [
    {
     "data": {
      "text/plain": [
       "[('film_tv_&_video', 1),\n",
       " ('arts_&_culture', 1),\n",
       " ('business_&_entrepreneurs', 1),\n",
       " ('youth_&_student_life', 3),\n",
       " ('diaries_&_daily_life', 4),\n",
       " ('fitness_&_health', 5),\n",
       " ('news_&_social_concern', 7),\n",
       " ('learning_&_educational', 13),\n",
       " ('science_&_technology', 22)]"
      ]
     },
     "execution_count": 53,
     "metadata": {},
     "output_type": "execute_result"
    }
   ],
   "source": [
    "map_pos"
   ]
  },
  {
   "cell_type": "markdown",
   "id": "fbb332e5",
   "metadata": {},
   "source": [
    "### Negative tweets"
   ]
  },
  {
   "cell_type": "code",
   "execution_count": 55,
   "id": "2fe9222e",
   "metadata": {},
   "outputs": [
    {
     "name": "stdout",
     "output_type": "stream",
     "text": [
      "tweets topic modelling : \n",
      "Class: science_&_technology, Count: 18\n",
      "Class: learning_&_educational, Count: 4\n",
      "Class: news_&_social_concern, Count: 8\n",
      "Class: fitness_&_health, Count: 2\n",
      "Class: diaries_&_daily_life, Count: 1\n",
      "Class: other_hobbies, Count: 1\n"
     ]
    }
   ],
   "source": [
    "from collections import Counter\n",
    "\n",
    "# topic modelling for positive tweets\n",
    "print(\"tweets topic modelling : \")\n",
    "tweets = list(negative.tweets)\n",
    "classes = get_topic(tweets)\n",
    "\n",
    "string_counts = Counter(classes)\n",
    "\n",
    "map_neg = {}\n",
    "for string, count in string_counts.items():\n",
    "    map_neg[string] = count\n",
    "    print(f\"Class: {string}, Count: {count}\")\n",
    "\n",
    "map_neg = sorted(map_neg.items(), key=lambda x: x[1])"
   ]
  },
  {
   "cell_type": "code",
   "execution_count": 56,
   "id": "6cf4c870",
   "metadata": {},
   "outputs": [
    {
     "data": {
      "text/plain": [
       "[('diaries_&_daily_life', 1),\n",
       " ('other_hobbies', 1),\n",
       " ('fitness_&_health', 2),\n",
       " ('learning_&_educational', 4),\n",
       " ('news_&_social_concern', 8),\n",
       " ('science_&_technology', 18)]"
      ]
     },
     "execution_count": 56,
     "metadata": {},
     "output_type": "execute_result"
    }
   ],
   "source": [
    "map_neg"
   ]
  },
  {
   "cell_type": "markdown",
   "id": "9abef134",
   "metadata": {},
   "source": [
    "## Emotions analysis "
   ]
  },
  {
   "cell_type": "code",
   "execution_count": 57,
   "id": "14270314",
   "metadata": {},
   "outputs": [
    {
     "name": "stderr",
     "output_type": "stream",
     "text": [
      "All model checkpoint layers were used when initializing TFRobertaForSequenceClassification.\n",
      "\n",
      "All the layers of TFRobertaForSequenceClassification were initialized from the model checkpoint at arpanghoshal/EmoRoBERTa.\n",
      "If your task is similar to the task the model of the checkpoint was trained on, you can already use TFRobertaForSequenceClassification for predictions without further training.\n",
      "All model checkpoint layers were used when initializing TFRobertaForSequenceClassification.\n",
      "\n",
      "All the layers of TFRobertaForSequenceClassification were initialized from the model checkpoint at arpanghoshal/EmoRoBERTa.\n",
      "If your task is similar to the task the model of the checkpoint was trained on, you can already use TFRobertaForSequenceClassification for predictions without further training.\n"
     ]
    }
   ],
   "source": [
    "from transformers import RobertaTokenizerFast, TFRobertaForSequenceClassification, pipeline\n",
    "\n",
    "tokenizer = RobertaTokenizerFast.from_pretrained(\"arpanghoshal/EmoRoBERTa\")\n",
    "model = TFRobertaForSequenceClassification.from_pretrained(\"arpanghoshal/EmoRoBERTa\")\n",
    "\n",
    "emotion = pipeline('sentiment-analysis', \n",
    "                    model='arpanghoshal/EmoRoBERTa')"
   ]
  },
  {
   "cell_type": "markdown",
   "id": "29be58aa",
   "metadata": {},
   "source": [
    "## In general "
   ]
  },
  {
   "cell_type": "code",
   "execution_count": 60,
   "id": "078654bd",
   "metadata": {},
   "outputs": [
    {
     "name": "stdout",
     "output_type": "stream",
     "text": [
      "Cleaned and removed the URLs and hyperlinks.\n",
      "Cleaned and removed the mentions.\n"
     ]
    }
   ],
   "source": [
    "tweets = preprocessing(result.tweets)"
   ]
  },
  {
   "cell_type": "code",
   "execution_count": 61,
   "id": "fed25dec",
   "metadata": {},
   "outputs": [],
   "source": [
    "emotions = []\n",
    "for sentence in list(tweets):\n",
    "    emotion_labels = emotion(sentence)\n",
    "    emotions.append(emotion_labels[0]['label'])"
   ]
  },
  {
   "cell_type": "code",
   "execution_count": 62,
   "id": "92ab9379",
   "metadata": {},
   "outputs": [
    {
     "name": "stdout",
     "output_type": "stream",
     "text": [
      "Class: neutral, Count: 63\n",
      "Class: approval, Count: 25\n",
      "Class: admiration, Count: 20\n",
      "Class: realization, Count: 12\n",
      "Class: surprise, Count: 9\n",
      "Class: curiosity, Count: 18\n",
      "Class: disapproval, Count: 2\n",
      "Class: confusion, Count: 7\n",
      "Class: excitement, Count: 3\n",
      "Class: fear, Count: 4\n",
      "Class: amusement, Count: 3\n",
      "Class: joy, Count: 2\n",
      "Class: sadness, Count: 1\n",
      "Class: caring, Count: 1\n",
      "Class: gratitude, Count: 1\n",
      "Class: optimism, Count: 2\n",
      "Class: pride, Count: 1\n",
      "Class: disappointment, Count: 1\n"
     ]
    }
   ],
   "source": [
    "from collections import Counter\n",
    "\n",
    "emotions_counts = Counter(emotions)\n",
    "\n",
    "map_emo = {}\n",
    "for string, count in emotions_counts.items():\n",
    "    map_emo[string] = count\n",
    "    print(f\"Class: {string}, Count: {count}\")\n",
    "\n",
    "sorted_map = sorted(map_emo.items(), key=lambda x: x[1])"
   ]
  },
  {
   "cell_type": "code",
   "execution_count": 63,
   "id": "1d3aae1a",
   "metadata": {},
   "outputs": [
    {
     "data": {
      "text/plain": [
       "[('sadness', 1),\n",
       " ('caring', 1),\n",
       " ('gratitude', 1),\n",
       " ('pride', 1),\n",
       " ('disappointment', 1),\n",
       " ('disapproval', 2),\n",
       " ('joy', 2),\n",
       " ('optimism', 2),\n",
       " ('excitement', 3),\n",
       " ('amusement', 3),\n",
       " ('fear', 4),\n",
       " ('confusion', 7),\n",
       " ('surprise', 9),\n",
       " ('realization', 12),\n",
       " ('curiosity', 18),\n",
       " ('admiration', 20),\n",
       " ('approval', 25),\n",
       " ('neutral', 63)]"
      ]
     },
     "execution_count": 63,
     "metadata": {},
     "output_type": "execute_result"
    }
   ],
   "source": [
    "sorted_map"
   ]
  },
  {
   "cell_type": "markdown",
   "id": "234184a3",
   "metadata": {},
   "source": [
    "### Positive "
   ]
  },
  {
   "cell_type": "code",
   "execution_count": 64,
   "id": "5562f2c8",
   "metadata": {},
   "outputs": [
    {
     "name": "stdout",
     "output_type": "stream",
     "text": [
      "Cleaned and removed the URLs and hyperlinks.\n",
      "Cleaned and removed the mentions.\n"
     ]
    }
   ],
   "source": [
    "tweets = preprocessing(positive.tweets)"
   ]
  },
  {
   "cell_type": "code",
   "execution_count": 65,
   "id": "39407783",
   "metadata": {},
   "outputs": [],
   "source": [
    "emotions = []\n",
    "for sentence in list(tweets):\n",
    "    emotion_labels = emotion(sentence)\n",
    "    emotions.append(emotion_labels[0]['label'])"
   ]
  },
  {
   "cell_type": "code",
   "execution_count": 66,
   "id": "aeab4f8d",
   "metadata": {},
   "outputs": [
    {
     "name": "stdout",
     "output_type": "stream",
     "text": [
      "Class: admiration, Count: 19\n",
      "Class: realization, Count: 3\n",
      "Class: approval, Count: 11\n",
      "Class: neutral, Count: 4\n",
      "Class: excitement, Count: 2\n",
      "Class: curiosity, Count: 3\n",
      "Class: amusement, Count: 3\n",
      "Class: joy, Count: 2\n",
      "Class: caring, Count: 1\n",
      "Class: gratitude, Count: 1\n",
      "Class: optimism, Count: 2\n",
      "Class: surprise, Count: 2\n",
      "Class: pride, Count: 1\n"
     ]
    }
   ],
   "source": [
    "from collections import Counter\n",
    "\n",
    "emotions_counts = Counter(emotions)\n",
    "\n",
    "map_emopos = {}\n",
    "for string, count in emotions_counts.items():\n",
    "    map_emopos[string] = count\n",
    "    print(f\"Class: {string}, Count: {count}\")\n",
    "\n",
    "sorted_mappos = sorted(map_emopos.items(), key=lambda x: x[1])"
   ]
  },
  {
   "cell_type": "code",
   "execution_count": 67,
   "id": "a768bb08",
   "metadata": {},
   "outputs": [
    {
     "data": {
      "text/plain": [
       "[('caring', 1),\n",
       " ('gratitude', 1),\n",
       " ('pride', 1),\n",
       " ('excitement', 2),\n",
       " ('joy', 2),\n",
       " ('optimism', 2),\n",
       " ('surprise', 2),\n",
       " ('realization', 3),\n",
       " ('curiosity', 3),\n",
       " ('amusement', 3),\n",
       " ('neutral', 4),\n",
       " ('approval', 11),\n",
       " ('admiration', 19)]"
      ]
     },
     "execution_count": 67,
     "metadata": {},
     "output_type": "execute_result"
    }
   ],
   "source": [
    "sorted_mappos"
   ]
  },
  {
   "cell_type": "markdown",
   "id": "76b09caa",
   "metadata": {},
   "source": [
    "### Negative "
   ]
  },
  {
   "cell_type": "code",
   "execution_count": 68,
   "id": "19ed8651",
   "metadata": {},
   "outputs": [
    {
     "name": "stdout",
     "output_type": "stream",
     "text": [
      "Cleaned and removed the URLs and hyperlinks.\n",
      "Cleaned and removed the mentions.\n"
     ]
    }
   ],
   "source": [
    "tweets = preprocessing(negative.tweets)"
   ]
  },
  {
   "cell_type": "code",
   "execution_count": 69,
   "id": "1235b9a0",
   "metadata": {},
   "outputs": [],
   "source": [
    "emotions = []\n",
    "for sentence in list(tweets):\n",
    "    emotion_labels = emotion(sentence)\n",
    "    emotions.append(emotion_labels[0]['label'])"
   ]
  },
  {
   "cell_type": "code",
   "execution_count": 70,
   "id": "1854e2e3",
   "metadata": {},
   "outputs": [
    {
     "name": "stdout",
     "output_type": "stream",
     "text": [
      "Class: neutral, Count: 11\n",
      "Class: surprise, Count: 3\n",
      "Class: realization, Count: 5\n",
      "Class: confusion, Count: 3\n",
      "Class: fear, Count: 4\n",
      "Class: admiration, Count: 1\n",
      "Class: sadness, Count: 1\n",
      "Class: approval, Count: 2\n",
      "Class: curiosity, Count: 1\n",
      "Class: disappointment, Count: 1\n"
     ]
    }
   ],
   "source": [
    "from collections import Counter\n",
    "\n",
    "emotions_counts = Counter(emotions)\n",
    "\n",
    "map_emoneg = {}\n",
    "for string, count in emotions_counts.items():\n",
    "    map_emoneg[string] = count\n",
    "    print(f\"Class: {string}, Count: {count}\")\n",
    "\n",
    "sorted_mapneg = sorted(map_emoneg.items(), key=lambda x: x[1])"
   ]
  },
  {
   "cell_type": "code",
   "execution_count": 71,
   "id": "9c8ce084",
   "metadata": {},
   "outputs": [
    {
     "data": {
      "text/plain": [
       "[('admiration', 1),\n",
       " ('sadness', 1),\n",
       " ('curiosity', 1),\n",
       " ('disappointment', 1),\n",
       " ('approval', 2),\n",
       " ('surprise', 3),\n",
       " ('confusion', 3),\n",
       " ('fear', 4),\n",
       " ('realization', 5),\n",
       " ('neutral', 11)]"
      ]
     },
     "execution_count": 71,
     "metadata": {},
     "output_type": "execute_result"
    }
   ],
   "source": [
    "sorted_mapneg"
   ]
  },
  {
   "cell_type": "markdown",
   "id": "09a60262",
   "metadata": {},
   "source": [
    "## Visualizations"
   ]
  },
  {
   "cell_type": "markdown",
   "id": "2eb90ebd",
   "metadata": {},
   "source": [
    "### Sentiment analysis "
   ]
  },
  {
   "cell_type": "code",
   "execution_count": 72,
   "id": "99c9d52d",
   "metadata": {},
   "outputs": [
    {
     "data": {
      "text/plain": [
       "user_name           0\n",
       "user_description    0\n",
       "tweets              0\n",
       "clean_tweets        0\n",
       "label               0\n",
       "date                0\n",
       "dtype: int64"
      ]
     },
     "execution_count": 72,
     "metadata": {},
     "output_type": "execute_result"
    }
   ],
   "source": [
    "result.isnull().values.any()\n",
    "result.isnull().sum()"
   ]
  },
  {
   "cell_type": "code",
   "execution_count": 86,
   "id": "7863d32e",
   "metadata": {},
   "outputs": [
    {
     "data": {
      "text/plain": [
       "neutral     89\n",
       "positive    54\n",
       "negative    32\n",
       "Name: label, dtype: int64"
      ]
     },
     "execution_count": 86,
     "metadata": {},
     "output_type": "execute_result"
    }
   ],
   "source": [
    "result.label.value_counts()"
   ]
  },
  {
   "cell_type": "code",
   "execution_count": 73,
   "id": "8cd56992",
   "metadata": {},
   "outputs": [],
   "source": [
    "df_sorted = result.sort_values(by='date')"
   ]
  },
  {
   "cell_type": "code",
   "execution_count": 74,
   "id": "aaacf656",
   "metadata": {},
   "outputs": [],
   "source": [
    "# from december to april\n",
    "df_sorted.date = pd.to_datetime(df_sorted.date)"
   ]
  },
  {
   "cell_type": "code",
   "execution_count": 75,
   "id": "37c189b9",
   "metadata": {},
   "outputs": [],
   "source": [
    "dec = df_sorted[df_sorted.date.dt.month == 12]"
   ]
  },
  {
   "cell_type": "code",
   "execution_count": 76,
   "id": "29c28da9",
   "metadata": {},
   "outputs": [],
   "source": [
    "jan = df_sorted[df_sorted.date.dt.month == 1]"
   ]
  },
  {
   "cell_type": "code",
   "execution_count": 77,
   "id": "ad0f5a3f",
   "metadata": {},
   "outputs": [],
   "source": [
    "feb = df_sorted[df_sorted.date.dt.month == 2]"
   ]
  },
  {
   "cell_type": "code",
   "execution_count": 78,
   "id": "c2dda01c",
   "metadata": {},
   "outputs": [],
   "source": [
    "march = df_sorted[df_sorted.date.dt.month == 3]"
   ]
  },
  {
   "cell_type": "code",
   "execution_count": 79,
   "id": "7eb79bd7",
   "metadata": {},
   "outputs": [],
   "source": [
    "april = df_sorted[df_sorted.date.dt.month == 4]"
   ]
  },
  {
   "cell_type": "code",
   "execution_count": 80,
   "id": "b9b166db",
   "metadata": {},
   "outputs": [
    {
     "data": {
      "text/plain": [
       "neutral     11\n",
       "positive     7\n",
       "negative     5\n",
       "Name: label, dtype: int64"
      ]
     },
     "execution_count": 80,
     "metadata": {},
     "output_type": "execute_result"
    }
   ],
   "source": [
    "dec.label.value_counts()"
   ]
  },
  {
   "cell_type": "code",
   "execution_count": 81,
   "id": "c0b58bf0",
   "metadata": {},
   "outputs": [
    {
     "data": {
      "text/plain": [
       "positive    17\n",
       "neutral     11\n",
       "negative     3\n",
       "Name: label, dtype: int64"
      ]
     },
     "execution_count": 81,
     "metadata": {},
     "output_type": "execute_result"
    }
   ],
   "source": [
    "jan.label.value_counts()"
   ]
  },
  {
   "cell_type": "code",
   "execution_count": 82,
   "id": "3cdbec8b",
   "metadata": {},
   "outputs": [
    {
     "data": {
      "text/plain": [
       "neutral     21\n",
       "positive    14\n",
       "negative     8\n",
       "Name: label, dtype: int64"
      ]
     },
     "execution_count": 82,
     "metadata": {},
     "output_type": "execute_result"
    }
   ],
   "source": [
    "feb.label.value_counts()"
   ]
  },
  {
   "cell_type": "code",
   "execution_count": 83,
   "id": "419555b5",
   "metadata": {},
   "outputs": [
    {
     "data": {
      "text/plain": [
       "neutral     14\n",
       "positive     7\n",
       "negative     4\n",
       "Name: label, dtype: int64"
      ]
     },
     "execution_count": 83,
     "metadata": {},
     "output_type": "execute_result"
    }
   ],
   "source": [
    "march.label.value_counts()"
   ]
  },
  {
   "cell_type": "code",
   "execution_count": 84,
   "id": "1ec27df1",
   "metadata": {},
   "outputs": [
    {
     "data": {
      "text/plain": [
       "neutral     32\n",
       "negative    12\n",
       "positive     9\n",
       "Name: label, dtype: int64"
      ]
     },
     "execution_count": 84,
     "metadata": {},
     "output_type": "execute_result"
    }
   ],
   "source": [
    "april.label.value_counts()"
   ]
  },
  {
   "cell_type": "code",
   "execution_count": 92,
   "id": "83139781",
   "metadata": {},
   "outputs": [
    {
     "data": {
      "image/png": "[encoded data removed]",
      "text/plain": [
       "<Figure size 640x480 with 1 Axes>"
      ]
     },
     "metadata": {},
     "output_type": "display_data"
    }
   ],
   "source": [
    "import numpy as np\n",
    "import matplotlib.pyplot as plt\n",
    "\n",
    "data = [[11,11, 21, 14, 32], #neutral\n",
    "[7, 17, 14, 7, 9], #positiv\n",
    "[5, 3, 8, 4, 12]] #negativ\n",
    "X = np.arange(5)\n",
    "fig = plt.figure()\n",
    "ax = fig.add_axes([0,0,1,1])\n",
    "ax.bar(X - 0.25, data[0], color = 'lightblue', width = 0.25)\n",
    "ax.bar(X , data[1], color = 'g', width = 0.25)\n",
    "ax.bar(X + 0.25, data[2], color = 'r', width = 0.25)\n",
    "ax.set_ylabel('Numbe of tweets')\n",
    "ax.set_title('Sentiment analysis of scientist users')\n",
    "ax.set_xticks(X, ('Dec 22', 'Jan 23', 'Feb 23', 'Mar 23', 'Apr 23'))\n",
    "ax.set_yticks(np.arange(0, 28, 2))\n",
    "ax.legend(labels=['Neutral', 'Positive', 'Negative'])\n",
    "plt.show()"
   ]
  },
  {
   "cell_type": "code",
   "execution_count": 87,
   "id": "6199c397",
   "metadata": {},
   "outputs": [
    {
     "data": {
      "image/png": "[encoded data removed]",
      "text/plain": [
       "<Figure size 640x480 with 1 Axes>"
      ]
     },
     "metadata": {},
     "output_type": "display_data"
    }
   ],
   "source": [
    "labels = ['neutral', 'positive', 'negative']\n",
    "sizes = [89, 54, 32]\n",
    "colors = ['lightblue', 'green', 'red']\n",
    "\n",
    "plt.pie(sizes, labels=labels, colors=colors, autopct='%1.1f%%', shadow=True, startangle=140)    \n",
    "plt.axis('equal')\n",
    "plt.title('Percentage of sentiment distribution overall')\n",
    "plt.show()"
   ]
  },
  {
   "cell_type": "markdown",
   "id": "d3380d60",
   "metadata": {},
   "source": [
    "### Topic extraction"
   ]
  },
  {
   "cell_type": "code",
   "execution_count": 88,
   "id": "31100a66",
   "metadata": {},
   "outputs": [
    {
     "data": {
      "image/png": "[encoded data removed]",
      "text/plain": [
       "<Figure size 800x800 with 1 Axes>"
      ]
     },
     "metadata": {},
     "output_type": "display_data"
    }
   ],
   "source": [
    "mappos = [('film_tv_&_video', 1),\n",
    " ('arts_&_culture', 1),\n",
    " ('business_&_entrepreneurs', 1),\n",
    " ('youth_&_student_life', 3),\n",
    " ('diaries_&_daily_life', 4),\n",
    " ('fitness_&_health', 5),\n",
    " ('news_&_social_concern', 7),\n",
    " ('learning_&_educational', 13),\n",
    " ('science_&_technology', 22)]\n",
    "\n",
    "pos = pd.DataFrame(mappos, columns=['topics', 'count'])\n",
    "\n",
    "fig, ax = plt.subplots(figsize=(8, 8))\n",
    "\n",
    "# Plot horizontal bar graph\n",
    "pos.sort_values(by='count').plot.barh(x='topics',\n",
    "                      y='count',\n",
    "                      ax=ax,\n",
    "                      color=\"green\")\n",
    "\n",
    "ax.set_title(\"Topics Found in positive Tweets\")\n",
    "\n",
    "plt.show()"
   ]
  },
  {
   "cell_type": "code",
   "execution_count": 89,
   "id": "ab6bbb83",
   "metadata": {},
   "outputs": [
    {
     "data": {
      "image/png": "[encoded data removed]",
      "text/plain": [
       "<Figure size 800x800 with 1 Axes>"
      ]
     },
     "metadata": {},
     "output_type": "display_data"
    }
   ],
   "source": [
    "mapneg = [('diaries_&_daily_life', 1),\n",
    " ('other_hobbies', 1),\n",
    " ('fitness_&_health', 2),\n",
    " ('learning_&_educational', 4),\n",
    " ('news_&_social_concern', 8),\n",
    " ('science_&_technology', 18)]\n",
    "\n",
    "neg = pd.DataFrame(mapneg, columns=['topics', 'count'])\n",
    "\n",
    "fig, ax = plt.subplots(figsize=(8, 8))\n",
    "\n",
    "# Plot horizontal bar graph\n",
    "neg.sort_values(by='count').plot.barh(x='topics',\n",
    "                      y='count',\n",
    "                      ax=ax,\n",
    "                      color=\"red\")\n",
    "\n",
    "ax.set_title(\"Topics Found in negative Tweets\")\n",
    "\n",
    "plt.show()"
   ]
  },
  {
   "cell_type": "markdown",
   "id": "71d71486",
   "metadata": {},
   "source": [
    "### Emotions"
   ]
  },
  {
   "cell_type": "code",
   "execution_count": 90,
   "id": "8f8043a7",
   "metadata": {},
   "outputs": [
    {
     "data": {
      "image/png": "[encoded data removed]",
      "text/plain": [
       "<Figure size 800x800 with 1 Axes>"
      ]
     },
     "metadata": {},
     "output_type": "display_data"
    }
   ],
   "source": [
    "mappos = [('caring', 1),\n",
    " ('gratitude', 1),\n",
    " ('pride', 1),\n",
    " ('excitement', 2),\n",
    " ('joy', 2),\n",
    " ('optimism', 2),\n",
    " ('surprise', 2),\n",
    " ('realization', 3),\n",
    " ('curiosity', 3),\n",
    " ('amusement', 3),\n",
    " ('neutral', 4),\n",
    " ('approval', 11),\n",
    " ('admiration', 19)]\n",
    "\n",
    "pos = pd.DataFrame(mappos, columns=['emotions', 'count'])\n",
    "\n",
    "fig, ax = plt.subplots(figsize=(8, 8))\n",
    "\n",
    "# Plot horizontal bar graph\n",
    "pos.sort_values(by='count').plot.barh(x='emotions',\n",
    "                      y='count',\n",
    "                      ax=ax,\n",
    "                      color=\"green\")\n",
    "\n",
    "ax.set_title(\"Emotions Found in positive Tweets\")\n",
    "\n",
    "plt.show()"
   ]
  },
  {
   "cell_type": "markdown",
   "id": "4bfd52c8",
   "metadata": {},
   "source": [
    "### Negative"
   ]
  },
  {
   "cell_type": "code",
   "execution_count": 91,
   "id": "d014b5c0",
   "metadata": {},
   "outputs": [
    {
     "data": {
      "image/png": "[encoded data removed]",
      "text/plain": [
       "<Figure size 800x800 with 1 Axes>"
      ]
     },
     "metadata": {},
     "output_type": "display_data"
    }
   ],
   "source": [
    "mapneg = [('admiration', 1),\n",
    " ('sadness', 1),\n",
    " ('curiosity', 1),\n",
    " ('disappointment', 1),\n",
    " ('approval', 2),\n",
    " ('surprise', 3),\n",
    " ('confusion', 3),\n",
    " ('fear', 4),\n",
    " ('realization', 5),\n",
    " ('neutral', 11)]\n",
    "\n",
    "neg = pd.DataFrame(mapneg, columns=['emotions', 'count'])\n",
    "\n",
    "fig, ax = plt.subplots(figsize=(8, 8))\n",
    "\n",
    "# Plot horizontal bar graph\n",
    "neg.sort_values(by='count').plot.barh(x='emotions',\n",
    "                      y='count',\n",
    "                      ax=ax,\n",
    "                      color=\"red\")\n",
    "\n",
    "ax.set_title(\"Emotions Found in negative Tweets\")\n",
    "\n",
    "plt.show()"
   ]
  },
  {
   "cell_type": "code",
   "execution_count": null,
   "id": "a7aeeeb4",
   "metadata": {},
   "outputs": [],
   "source": []
  }
 ],
 "metadata": {
  "kernelspec": {
   "display_name": "Python 3 (ipykernel)",
   "language": "python",
   "name": "python3"
  },
  "language_info": {
   "codemirror_mode": {
    "name": "ipython",
    "version": 3
   },
   "file_extension": ".py",
   "mimetype": "text/x-python",
   "name": "python",
   "nbconvert_exporter": "python",
   "pygments_lexer": "ipython3",
   "version": "3.9.13"
  }
 },
 "nbformat": 4,
 "nbformat_minor": 5
}
