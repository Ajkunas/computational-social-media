{
 "cells": [
  {
   "cell_type": "code",
   "execution_count": 1,
   "id": "e08eff1f",
   "metadata": {},
   "outputs": [],
   "source": [
    "import re\n",
    "import numpy as np\n",
    "import pandas as pd\n",
    "\n",
    "# remove english stopwords with the help of the gensim library \n",
    "from gensim.parsing.preprocessing import remove_stopwords\n",
    "\n",
    "import string\n",
    "\n",
    "from nltk.stem.porter import PorterStemmer\n",
    "from nltk.stem import WordNetLemmatizer"
   ]
  },
  {
   "cell_type": "code",
   "execution_count": 2,
   "id": "8db5af09",
   "metadata": {},
   "outputs": [],
   "source": [
    "english_punctuations = string.punctuation\n",
    "punctuations_list = english_punctuations\n",
    "\n",
    "def cleaning_punctuations(text):\n",
    "    translator = str.maketrans('', '', punctuations_list)\n",
    "    return text.translate(translator)\n",
    "\n",
    "\n",
    "# cleaning and removing URLs\n",
    "def cleaning_URLs(data):\n",
    "    return re.sub('((www.[^s]+)|(https?://[^s]+))',' ',data)\n",
    "\n",
    "def remove_hyperlink(word):\n",
    "    return re.sub(r\"http\\S+\", \"\", word)\n",
    "\n",
    "# cleaning and removing mentions \n",
    "def remove_mentions(word):\n",
    "    return re.sub(r\"@\\S+\", \"\", word)\n",
    "\n",
    "# removing emojis \n",
    "emoji_pattern = re.compile(\"[\"\n",
    "        u\"\\U0001F600-\\U0001F64F\"  # emoticons\n",
    "        u\"\\U0001F300-\\U0001F5FF\"  # symbols & pictographs\n",
    "        u\"\\U0001F680-\\U0001F6FF\"  # transport & map symbols\n",
    "        u\"\\U0001F1E0-\\U0001F1FF\"  # flags (iOS)\n",
    "                           \"]+\", flags=re.UNICODE)\n",
    "\n",
    "# cleaning and removing repeating characters\n",
    "def cleaning_repeating_char(text):\n",
    "    return re.sub(r'(.)1+', r'1', text)\n",
    "\n",
    "stemmer = PorterStemmer()\n",
    "\n",
    "def stem_words(text):\n",
    "    return \" \".join([stemmer.stem(word) for word in text])\n",
    "\n",
    "lemmatizer = WordNetLemmatizer()\n",
    "\n",
    "def lematize_words(text):\n",
    "    return \" \".join([lemmatizer.lemmatize(word) for word in text])"
   ]
  },
  {
   "cell_type": "code",
   "execution_count": 3,
   "id": "dbad9615",
   "metadata": {},
   "outputs": [],
   "source": [
    "def preprocessing(df):\n",
    "    # lower cases \n",
    "    df = df.str.lower()\n",
    "    print(\"Text of tweets transformed to lower cases.\")\n",
    "    \n",
    "    # remove english stopwords with the help of the gensim library \n",
    "    df = df.apply(lambda text: remove_stopwords(text))\n",
    "    print(\"Removed stopwords from the text of tweets.\")\n",
    "    \n",
    "    #cleaning and removing punctuation\n",
    "    df = df.apply(lambda x: cleaning_punctuations(x))\n",
    "    print(\"Cleaned and removed the punctuations.\")\n",
    "    \n",
    "    # cleaning and removing URLs\n",
    "    df = df.apply(lambda x: cleaning_URLs(x))\n",
    "    df = df.apply(lambda x: remove_hyperlink(x))\n",
    "    print(\"Cleaned and removed the URLs and hyperlinks.\")\n",
    "    \n",
    "    # cleaning and removing mentions \n",
    "    df = df.apply(lambda x: remove_mentions(x))\n",
    "    print(\"Cleaned and removed the mentions.\")\n",
    "    \n",
    "    # removing emojis \n",
    "    df = df.apply(lambda x: emoji_pattern.sub(r'', x))\n",
    "    print(\"Removed the emojis.\")\n",
    "    \n",
    "    # remove numbers \n",
    "    df = df.apply(lambda x: re.sub(\"[^a-zA-Z]\", \" \", x))\n",
    "    print(\"Removed the numbers.\")\n",
    "    \n",
    "    # Text normalization : tokenize the tweets \n",
    "    # split tweets of text into tokens (individual words of terms)\n",
    "    tokenize_tweets = df.apply(lambda x: x.split())\n",
    "    print(\"Tokenized the text.\")\n",
    "    \n",
    "    # Normalization: use of PorterStemmer()\n",
    "    tokenize_tweets = tokenize_tweets.apply(lambda text: lematize_words(text))\n",
    "    print(\"Normalized the text.\")\n",
    "    \n",
    "    # write new csv file containing the preprocessed dataset\n",
    "    return tokenize_tweets"
   ]
  },
  {
   "cell_type": "code",
   "execution_count": 40,
   "id": "040cb593",
   "metadata": {},
   "outputs": [],
   "source": [
    "# loading the dataset \n",
    "df = pd.read_csv('datasets/sample_user_descr.csv', usecols=['user_name','user_description','label'])"
   ]
  },
  {
   "cell_type": "code",
   "execution_count": 41,
   "id": "e12c7e4c",
   "metadata": {},
   "outputs": [
    {
     "data": {
      "text/html": [
       "<div>\n",
       "<style scoped>\n",
       "    .dataframe tbody tr th:only-of-type {\n",
       "        vertical-align: middle;\n",
       "    }\n",
       "\n",
       "    .dataframe tbody tr th {\n",
       "        vertical-align: top;\n",
       "    }\n",
       "\n",
       "    .dataframe thead th {\n",
       "        text-align: right;\n",
       "    }\n",
       "</style>\n",
       "<table border=\"1\" class=\"dataframe\">\n",
       "  <thead>\n",
       "    <tr style=\"text-align: right;\">\n",
       "      <th></th>\n",
       "      <th>user_name</th>\n",
       "      <th>user_description</th>\n",
       "      <th>label</th>\n",
       "    </tr>\n",
       "  </thead>\n",
       "  <tbody>\n",
       "    <tr>\n",
       "      <th>0</th>\n",
       "      <td>Speak</td>\n",
       "      <td>Join 20,000+ researchers and marketers using S...</td>\n",
       "      <td>0.0</td>\n",
       "    </tr>\n",
       "    <tr>\n",
       "      <th>1</th>\n",
       "      <td>CanGPT</td>\n",
       "      <td>I tweet about #AI #ChatGPT #Web3 🚀🚀</td>\n",
       "      <td>0.0</td>\n",
       "    </tr>\n",
       "    <tr>\n",
       "      <th>2</th>\n",
       "      <td>Best MidJourneyAI Generated Art🤖🎨</td>\n",
       "      <td>follow my twitter account if you like the cont...</td>\n",
       "      <td>0.0</td>\n",
       "    </tr>\n",
       "    <tr>\n",
       "      <th>3</th>\n",
       "      <td>NikPeachey</td>\n",
       "      <td>Co-founder https://t.co/6o0xPcZuc4. Award-Winn...</td>\n",
       "      <td>0.0</td>\n",
       "    </tr>\n",
       "    <tr>\n",
       "      <th>4</th>\n",
       "      <td>Webrpoint</td>\n",
       "      <td>We provide the solutions on Web Technology by ...</td>\n",
       "      <td>0.0</td>\n",
       "    </tr>\n",
       "    <tr>\n",
       "      <th>...</th>\n",
       "      <td>...</td>\n",
       "      <td>...</td>\n",
       "      <td>...</td>\n",
       "    </tr>\n",
       "    <tr>\n",
       "      <th>195</th>\n",
       "      <td>Dennis Kirwan</td>\n",
       "      <td>Ever since I can remember, my curious mind has...</td>\n",
       "      <td>0.0</td>\n",
       "    </tr>\n",
       "    <tr>\n",
       "      <th>196</th>\n",
       "      <td>Kamran (Shuja Kami)</td>\n",
       "      <td>An #SMM and an affiliate marketing guy. #Blogg...</td>\n",
       "      <td>0.0</td>\n",
       "    </tr>\n",
       "    <tr>\n",
       "      <th>197</th>\n",
       "      <td>Hady Ghandour</td>\n",
       "      <td>Experienced Telecom/ICT professional, @AUBalum...</td>\n",
       "      <td>0.0</td>\n",
       "    </tr>\n",
       "    <tr>\n",
       "      <th>198</th>\n",
       "      <td>឵</td>\n",
       "      <td>𝑰 𝒉𝒂𝒗𝒆 𝒏𝒐𝒕𝒉𝒊𝒏𝒈 𝒕𝒐 𝒅𝒆𝒄𝒍𝒂𝒓𝒆. \\nhttps://t.co/RBEW...</td>\n",
       "      <td>0.0</td>\n",
       "    </tr>\n",
       "    <tr>\n",
       "      <th>199</th>\n",
       "      <td>BOBJERYSARAGIH</td>\n",
       "      <td>Infuencer crypto project AventCoin</td>\n",
       "      <td>0.0</td>\n",
       "    </tr>\n",
       "  </tbody>\n",
       "</table>\n",
       "<p>200 rows × 3 columns</p>\n",
       "</div>"
      ],
      "text/plain": [
       "                             user_name  \\\n",
       "0                                Speak   \n",
       "1                               CanGPT   \n",
       "2    Best MidJourneyAI Generated Art🤖🎨   \n",
       "3                           NikPeachey   \n",
       "4                            Webrpoint   \n",
       "..                                 ...   \n",
       "195                      Dennis Kirwan   \n",
       "196                Kamran (Shuja Kami)   \n",
       "197                      Hady Ghandour   \n",
       "198                                  ឵   \n",
       "199                     BOBJERYSARAGIH   \n",
       "\n",
       "                                      user_description  label  \n",
       "0    Join 20,000+ researchers and marketers using S...    0.0  \n",
       "1                  I tweet about #AI #ChatGPT #Web3 🚀🚀    0.0  \n",
       "2    follow my twitter account if you like the cont...    0.0  \n",
       "3    Co-founder https://t.co/6o0xPcZuc4. Award-Winn...    0.0  \n",
       "4    We provide the solutions on Web Technology by ...    0.0  \n",
       "..                                                 ...    ...  \n",
       "195  Ever since I can remember, my curious mind has...    0.0  \n",
       "196  An #SMM and an affiliate marketing guy. #Blogg...    0.0  \n",
       "197  Experienced Telecom/ICT professional, @AUBalum...    0.0  \n",
       "198  𝑰 𝒉𝒂𝒗𝒆 𝒏𝒐𝒕𝒉𝒊𝒏𝒈 𝒕𝒐 𝒅𝒆𝒄𝒍𝒂𝒓𝒆. \\nhttps://t.co/RBEW...    0.0  \n",
       "199                 Infuencer crypto project AventCoin    0.0  \n",
       "\n",
       "[200 rows x 3 columns]"
      ]
     },
     "execution_count": 41,
     "metadata": {},
     "output_type": "execute_result"
    }
   ],
   "source": [
    "df"
   ]
  },
  {
   "cell_type": "markdown",
   "id": "ea1827a9",
   "metadata": {},
   "source": [
    "## Dataset preprocessing"
   ]
  },
  {
   "cell_type": "code",
   "execution_count": 42,
   "id": "b035b2fe",
   "metadata": {},
   "outputs": [
    {
     "data": {
      "text/plain": [
       "0.0    177\n",
       "1.0     18\n",
       "Name: label, dtype: int64"
      ]
     },
     "execution_count": 42,
     "metadata": {},
     "output_type": "execute_result"
    }
   ],
   "source": [
    "# SCIENTIST/RESEARCHER/ENGINEER : 1\n",
    "# NOT SCIENTIST : 0\n",
    "\n",
    "df.label.value_counts() "
   ]
  },
  {
   "cell_type": "code",
   "execution_count": 43,
   "id": "868adfc3",
   "metadata": {},
   "outputs": [
    {
     "data": {
      "text/plain": [
       "user_name           0\n",
       "user_description    0\n",
       "label               5\n",
       "dtype: int64"
      ]
     },
     "execution_count": 43,
     "metadata": {},
     "output_type": "execute_result"
    }
   ],
   "source": [
    "df.isnull().values.any()\n",
    "df.isnull().sum()"
   ]
  },
  {
   "cell_type": "code",
   "execution_count": 44,
   "id": "ce978ec3",
   "metadata": {},
   "outputs": [],
   "source": [
    "df = df.dropna()"
   ]
  },
  {
   "cell_type": "markdown",
   "id": "40fdd423",
   "metadata": {},
   "source": [
    "## Balancing data "
   ]
  },
  {
   "cell_type": "markdown",
   "id": "daafb224",
   "metadata": {},
   "source": [
    "In our case, we have relatively very few datas labeled with 1 than those labeled with 0. We decide to upsample the minority class for a better training."
   ]
  },
  {
   "cell_type": "code",
   "execution_count": 45,
   "id": "4a773b41",
   "metadata": {},
   "outputs": [],
   "source": [
    "from sklearn.utils import resample\n",
    "\n",
    "# Separate majority and minority classes\n",
    "majority_class = df[df.label == 0]\n",
    "minority_class = df[df.label == 1]\n",
    "\n",
    "# Upsample the minority class\n",
    "upsampled_minority = resample(minority_class, replace=True, n_samples=len(majority_class))\n",
    "\n",
    "# Combine the upsampled minority class with the majority class\n",
    "balanced_data = pd.concat([majority_class, upsampled_minority])\n",
    "\n",
    "# Shuffle the data\n",
    "balanced_data = balanced_data.sample(frac=1, random_state=42)"
   ]
  },
  {
   "cell_type": "code",
   "execution_count": 46,
   "id": "76c5753d",
   "metadata": {},
   "outputs": [
    {
     "data": {
      "text/html": [
       "<div>\n",
       "<style scoped>\n",
       "    .dataframe tbody tr th:only-of-type {\n",
       "        vertical-align: middle;\n",
       "    }\n",
       "\n",
       "    .dataframe tbody tr th {\n",
       "        vertical-align: top;\n",
       "    }\n",
       "\n",
       "    .dataframe thead th {\n",
       "        text-align: right;\n",
       "    }\n",
       "</style>\n",
       "<table border=\"1\" class=\"dataframe\">\n",
       "  <thead>\n",
       "    <tr style=\"text-align: right;\">\n",
       "      <th></th>\n",
       "      <th>user_name</th>\n",
       "      <th>user_description</th>\n",
       "      <th>label</th>\n",
       "    </tr>\n",
       "  </thead>\n",
       "  <tbody>\n",
       "    <tr>\n",
       "      <th>155</th>\n",
       "      <td>Melvin</td>\n",
       "      <td>Works as Machine Learning Engineer. Solopreneu...</td>\n",
       "      <td>1.0</td>\n",
       "    </tr>\n",
       "    <tr>\n",
       "      <th>45</th>\n",
       "      <td>Aaron Junker</td>\n",
       "      <td>Mastodon: @AaronJunker@phpc.social</td>\n",
       "      <td>0.0</td>\n",
       "    </tr>\n",
       "    <tr>\n",
       "      <th>135</th>\n",
       "      <td>Yuriy Yuzifovich</td>\n",
       "      <td>Technology enthusiast. Ex-Nominum, Ex-@Akamai....</td>\n",
       "      <td>1.0</td>\n",
       "    </tr>\n",
       "    <tr>\n",
       "      <th>103</th>\n",
       "      <td>Aakash Chowkase</td>\n",
       "      <td>Post-doc @UCBerkeley @GreaterGoodSC. PhD in Ed...</td>\n",
       "      <td>1.0</td>\n",
       "    </tr>\n",
       "    <tr>\n",
       "      <th>62</th>\n",
       "      <td>Aimie Sibson</td>\n",
       "      <td>Co-founder &amp; CEO Hero</td>\n",
       "      <td>0.0</td>\n",
       "    </tr>\n",
       "    <tr>\n",
       "      <th>...</th>\n",
       "      <td>...</td>\n",
       "      <td>...</td>\n",
       "      <td>...</td>\n",
       "    </tr>\n",
       "    <tr>\n",
       "      <th>80</th>\n",
       "      <td>pipik_roman</td>\n",
       "      <td>Software Dev. at https://t.co/Iw3EvbMYdl, husb...</td>\n",
       "      <td>0.0</td>\n",
       "    </tr>\n",
       "    <tr>\n",
       "      <th>119</th>\n",
       "      <td>Wes 🇨🇦✌️🇺🇦</td>\n",
       "      <td>I'm an IT manager in my early 40's. To be hone...</td>\n",
       "      <td>0.0</td>\n",
       "    </tr>\n",
       "    <tr>\n",
       "      <th>116</th>\n",
       "      <td>Natarajan Ganesan, PhD</td>\n",
       "      <td>Scientist, Entrepreneur, Educator. Tweets are ...</td>\n",
       "      <td>1.0</td>\n",
       "    </tr>\n",
       "    <tr>\n",
       "      <th>55</th>\n",
       "      <td>Lon Baker</td>\n",
       "      <td>Multi-talented entrepreneur, engineer, content...</td>\n",
       "      <td>1.0</td>\n",
       "    </tr>\n",
       "    <tr>\n",
       "      <th>114</th>\n",
       "      <td>Rampage</td>\n",
       "      <td>Investing in @rockaway_x, ex-ITSec software en...</td>\n",
       "      <td>0.0</td>\n",
       "    </tr>\n",
       "  </tbody>\n",
       "</table>\n",
       "<p>354 rows × 3 columns</p>\n",
       "</div>"
      ],
      "text/plain": [
       "                  user_name  \\\n",
       "155                  Melvin   \n",
       "45             Aaron Junker   \n",
       "135        Yuriy Yuzifovich   \n",
       "103         Aakash Chowkase   \n",
       "62             Aimie Sibson   \n",
       "..                      ...   \n",
       "80              pipik_roman   \n",
       "119              Wes 🇨🇦✌️🇺🇦   \n",
       "116  Natarajan Ganesan, PhD   \n",
       "55                Lon Baker   \n",
       "114                 Rampage   \n",
       "\n",
       "                                      user_description  label  \n",
       "155  Works as Machine Learning Engineer. Solopreneu...    1.0  \n",
       "45                  Mastodon: @AaronJunker@phpc.social    0.0  \n",
       "135  Technology enthusiast. Ex-Nominum, Ex-@Akamai....    1.0  \n",
       "103  Post-doc @UCBerkeley @GreaterGoodSC. PhD in Ed...    1.0  \n",
       "62                               Co-founder & CEO Hero    0.0  \n",
       "..                                                 ...    ...  \n",
       "80   Software Dev. at https://t.co/Iw3EvbMYdl, husb...    0.0  \n",
       "119  I'm an IT manager in my early 40's. To be hone...    0.0  \n",
       "116  Scientist, Entrepreneur, Educator. Tweets are ...    1.0  \n",
       "55   Multi-talented entrepreneur, engineer, content...    1.0  \n",
       "114  Investing in @rockaway_x, ex-ITSec software en...    0.0  \n",
       "\n",
       "[354 rows x 3 columns]"
      ]
     },
     "execution_count": 46,
     "metadata": {},
     "output_type": "execute_result"
    }
   ],
   "source": [
    "balanced_data"
   ]
  },
  {
   "cell_type": "code",
   "execution_count": 47,
   "id": "b337a21c",
   "metadata": {},
   "outputs": [],
   "source": [
    "df = balanced_data"
   ]
  },
  {
   "cell_type": "code",
   "execution_count": 48,
   "id": "974328ce",
   "metadata": {},
   "outputs": [
    {
     "data": {
      "text/plain": [
       "user_name           0\n",
       "user_description    0\n",
       "label               0\n",
       "dtype: int64"
      ]
     },
     "execution_count": 48,
     "metadata": {},
     "output_type": "execute_result"
    }
   ],
   "source": [
    "df.isnull().values.any()\n",
    "df.isnull().sum()"
   ]
  },
  {
   "cell_type": "code",
   "execution_count": 49,
   "id": "aeb040a6",
   "metadata": {},
   "outputs": [
    {
     "data": {
      "text/plain": [
       "155    1.0\n",
       "45     0.0\n",
       "135    1.0\n",
       "103    1.0\n",
       "62     0.0\n",
       "      ... \n",
       "80     0.0\n",
       "119    0.0\n",
       "116    1.0\n",
       "55     1.0\n",
       "114    0.0\n",
       "Name: label, Length: 354, dtype: float64"
      ]
     },
     "execution_count": 49,
     "metadata": {},
     "output_type": "execute_result"
    }
   ],
   "source": [
    "df.label"
   ]
  },
  {
   "cell_type": "code",
   "execution_count": 50,
   "id": "631d847c",
   "metadata": {},
   "outputs": [],
   "source": [
    "temp = df.user_description"
   ]
  },
  {
   "cell_type": "code",
   "execution_count": 51,
   "id": "bb9c0620",
   "metadata": {},
   "outputs": [
    {
     "data": {
      "text/plain": [
       "155    Works as Machine Learning Engineer. Solopreneu...\n",
       "45                    Mastodon: @AaronJunker@phpc.social\n",
       "135    Technology enthusiast. Ex-Nominum, Ex-@Akamai....\n",
       "103    Post-doc @UCBerkeley @GreaterGoodSC. PhD in Ed...\n",
       "62                                 Co-founder & CEO Hero\n",
       "                             ...                        \n",
       "80     Software Dev. at https://t.co/Iw3EvbMYdl, husb...\n",
       "119    I'm an IT manager in my early 40's. To be hone...\n",
       "116    Scientist, Entrepreneur, Educator. Tweets are ...\n",
       "55     Multi-talented entrepreneur, engineer, content...\n",
       "114    Investing in @rockaway_x, ex-ITSec software en...\n",
       "Name: user_description, Length: 354, dtype: object"
      ]
     },
     "execution_count": 51,
     "metadata": {},
     "output_type": "execute_result"
    }
   ],
   "source": [
    "temp"
   ]
  },
  {
   "cell_type": "code",
   "execution_count": 52,
   "id": "cc7f1c42",
   "metadata": {},
   "outputs": [
    {
     "data": {
      "text/plain": [
       "0"
      ]
     },
     "execution_count": 52,
     "metadata": {},
     "output_type": "execute_result"
    }
   ],
   "source": [
    "# check if there is any NaN value\n",
    "temp.isnull().values.any()\n",
    "temp.isnull().sum()"
   ]
  },
  {
   "cell_type": "code",
   "execution_count": 53,
   "id": "4cf5df1b",
   "metadata": {},
   "outputs": [
    {
     "name": "stdout",
     "output_type": "stream",
     "text": [
      "Text of tweets transformed to lower cases.\n",
      "Removed stopwords from the text of tweets.\n",
      "Cleaned and removed the punctuations.\n",
      "Cleaned and removed the URLs and hyperlinks.\n",
      "Cleaned and removed the mentions.\n",
      "Removed the emojis.\n",
      "Removed the numbers.\n",
      "Tokenized the text.\n",
      "Normalized the text.\n"
     ]
    }
   ],
   "source": [
    "descr = preprocessing(temp)"
   ]
  },
  {
   "cell_type": "code",
   "execution_count": 54,
   "id": "154a49e8",
   "metadata": {},
   "outputs": [
    {
     "data": {
      "text/plain": [
       "155    work machine learning engineer solopreneur eve...\n",
       "45                        mastodon aaronjunkerphpcsocial\n",
       "135    technology enthusiast exnominum exakamai proud...\n",
       "103    postdoc ucberkeley greatergoodsc phd education...\n",
       "62                                    cofounder ceo hero\n",
       "                             ...                        \n",
       "80     software dev husband father catholic christian...\n",
       "119    im manager early s honest gotten crypto sooner...\n",
       "116    scientist entrepreneur educator tweet fleeting...\n",
       "55     multitalented entrepreneur engineer content cr...\n",
       "114    investing rockawayx exitsec software engineer ...\n",
       "Name: user_description, Length: 354, dtype: object"
      ]
     },
     "execution_count": 54,
     "metadata": {},
     "output_type": "execute_result"
    }
   ],
   "source": [
    "descr"
   ]
  },
  {
   "cell_type": "markdown",
   "id": "2b218404",
   "metadata": {},
   "source": [
    "## Model training"
   ]
  },
  {
   "cell_type": "markdown",
   "id": "2f30e4ce",
   "metadata": {},
   "source": [
    "Apply Logistic Regression with W2V embedding (see paper for gender classification based on tweet text https://www.researchgate.net/publication/344003069_Gender_Classification_using_Twitter_Text_Data) "
   ]
  },
  {
   "cell_type": "code",
   "execution_count": 55,
   "id": "bfb9390d",
   "metadata": {},
   "outputs": [
    {
     "data": {
      "text/plain": [
       "(46646, 78000)"
      ]
     },
     "execution_count": 55,
     "metadata": {},
     "output_type": "execute_result"
    }
   ],
   "source": [
    "import gensim\n",
    "\n",
    "# Word2Vec features: \n",
    "tokenize_tweet = descr.apply(lambda x: x.split())\n",
    "\n",
    "model_W2V = gensim.models.Word2Vec(tokenize_tweet, \n",
    "                                   vector_size = 200, # No. of features\n",
    "                                   window =  5, # default window\n",
    "                                   min_count = 2, \n",
    "                                   sg = 1, # 1 for skip-gram model\n",
    "                                   hs = 0,\n",
    "                                   negative = 10, # for negative sampling\n",
    "                                   workers = 2,  # No. of cores\n",
    "                                   seed = 34 )\n",
    "\n",
    "model_W2V.train(tokenize_tweet, total_examples= len(descr), epochs=20)"
   ]
  },
  {
   "cell_type": "code",
   "execution_count": 66,
   "id": "a2463be6",
   "metadata": {},
   "outputs": [
    {
     "name": "stdout",
     "output_type": "stream",
     "text": [
      "number of words that occured minimum 5 times  421\n",
      "sample words  ['ai', 'engineer', 'learning', 'data', 'machine', 'tweet', 'opinion', 'leading', 'science', 'leader', 'scientist', 'passionate', 'educator', 'research', 'entrepreneur', 'system', 'technology', 'innovation', 'prompt', 'work', 'phd', 'microsoft', 'solopreneur', 'investment', 'evening', 'weekend', 'revolution', 'llm', 'education', 'development', 'teacher', 'gpt', 'enthusiast', 'chatgpt', 'tech', 'advocate', 'world', 'content', 'news', 'llmops', 'lead', 'mlops', 'product', 'researcher', 'follow', 'alum', 'help', 'supportjpf', 'agent', 'proud']\n"
     ]
    }
   ],
   "source": [
    "w2v_words = list(model_W2V.wv.index_to_key)\n",
    "print(\"number of words that occured minimum 5 times \",len(w2v_words))\n",
    "print(\"sample words \", w2v_words[0:50])"
   ]
  },
  {
   "cell_type": "code",
   "execution_count": 67,
   "id": "f58c2db6",
   "metadata": {},
   "outputs": [
    {
     "name": "stderr",
     "output_type": "stream",
     "text": [
      "100%|██████████████████████████████████████████████████████████████████████████████| 354/354 [00:00<00:00, 4938.61it/s]"
     ]
    },
    {
     "name": "stdout",
     "output_type": "stream",
     "text": [
      "354\n",
      "200\n"
     ]
    },
    {
     "name": "stderr",
     "output_type": "stream",
     "text": [
      "\n"
     ]
    }
   ],
   "source": [
    "from tqdm import tqdm\n",
    "\n",
    "vector = []\n",
    "for sent in tqdm(tokenize_tweet):\n",
    "    sent_vec = np.zeros(200)\n",
    "    count = 0\n",
    "    for word in sent: \n",
    "        if word in w2v_words:\n",
    "            vec = model_W2V.wv[word]\n",
    "            sent_vec += vec \n",
    "            count += 1\n",
    "    if count != 0:\n",
    "        sent_vec /= count #normalize\n",
    "    vector.append(sent_vec)\n",
    "    \n",
    "print(len(vector))\n",
    "print(len(vector[0]))"
   ]
  },
  {
   "cell_type": "code",
   "execution_count": 68,
   "id": "3f88788c",
   "metadata": {},
   "outputs": [],
   "source": [
    "# Split the train and test datasets\n",
    "from sklearn.model_selection import train_test_split\n",
    "from sklearn.metrics import f1_score\n",
    "\n",
    "x_train_w2v, x_test_w2v, y_train_w2v, y_test_w2v = train_test_split(vector, df.label, test_size=0.3) "
   ]
  },
  {
   "cell_type": "code",
   "execution_count": 69,
   "id": "43fa0b15",
   "metadata": {},
   "outputs": [
    {
     "data": {
      "text/plain": [
       "0"
      ]
     },
     "execution_count": 69,
     "metadata": {},
     "output_type": "execute_result"
    }
   ],
   "source": [
    "# check if there is any NaN value\n",
    "\n",
    "y_train_w2v.isnull().values.any()\n",
    "y_train_w2v.isnull().sum()"
   ]
  },
  {
   "cell_type": "code",
   "execution_count": 70,
   "id": "02e390d6",
   "metadata": {},
   "outputs": [
    {
     "name": "stdout",
     "output_type": "stream",
     "text": [
      "{'C': [0.01, 0.1, 0.5, 1.0, 5.0, 10.0], 'warm_start': [True, False]}\n"
     ]
    }
   ],
   "source": [
    "#parameters in Logistic Regression\n",
    "param_grid_lr = {'C': [0.01, 0.1, 0.5, 1.0, 5.0, 10.0],\n",
    "                'warm_start':[True, False]}\n",
    "print(param_grid_lr)"
   ]
  },
  {
   "cell_type": "code",
   "execution_count": 71,
   "id": "c4db5ee4",
   "metadata": {},
   "outputs": [
    {
     "name": "stdout",
     "output_type": "stream",
     "text": [
      "Fitting 10 folds for each of 10 candidates, totalling 100 fits\n"
     ]
    },
    {
     "data": {
      "text/plain": [
       "{'warm_start': True, 'C': 10.0}"
      ]
     },
     "execution_count": 71,
     "metadata": {},
     "output_type": "execute_result"
    }
   ],
   "source": [
    "#best parameters for LR\n",
    "from sklearn.linear_model import LogisticRegression\n",
    "from sklearn.model_selection import RandomizedSearchCV\n",
    "\n",
    "model_lr = LogisticRegression()\n",
    "\n",
    "LR_RandomGrid = RandomizedSearchCV(estimator = model_lr, param_distributions = param_grid_lr, cv = 10, verbose=2, n_jobs = 4)\n",
    "LR_RandomGrid.fit(x_train_w2v, y_train_w2v)\n",
    "LR_RandomGrid.best_params_"
   ]
  },
  {
   "cell_type": "code",
   "execution_count": 72,
   "id": "272c56ca",
   "metadata": {},
   "outputs": [
    {
     "name": "stdout",
     "output_type": "stream",
     "text": [
      "              precision    recall  f1-score   support\n",
      "\n",
      "         0.0       1.00      0.97      0.98        60\n",
      "         1.0       0.96      1.00      0.98        47\n",
      "\n",
      "    accuracy                           0.98       107\n",
      "   macro avg       0.98      0.98      0.98       107\n",
      "weighted avg       0.98      0.98      0.98       107\n",
      "\n"
     ]
    }
   ],
   "source": [
    "from sklearn.metrics import classification_report \n",
    "\n",
    "model_lr = LogisticRegression(C=10.0, warm_start=True, max_iter=100, multi_class='auto')\n",
    "model_lr = model_lr.fit(x_train_w2v, y_train_w2v)\n",
    "prediction_lr = model_lr.predict(x_test_w2v)\n",
    "\n",
    "print(classification_report(y_test_w2v, prediction_lr))"
   ]
  },
  {
   "cell_type": "code",
   "execution_count": 81,
   "id": "3e4889d4",
   "metadata": {},
   "outputs": [
    {
     "data": {
      "text/plain": [
       "array([1., 1., 1., 0., 1., 0., 0., 0., 1., 0., 0., 1., 0., 0., 0., 0., 1.,\n",
       "       0., 1., 0., 0., 1., 0., 1., 1., 1., 0., 1., 0., 1., 0., 1., 0., 1.,\n",
       "       0., 0., 0., 0., 0., 1., 0., 0., 0., 1., 1., 1., 0., 1., 0., 1., 1.,\n",
       "       0., 1., 1., 1., 0., 0., 0., 1., 1., 1., 0., 1., 0., 1., 1., 1., 1.,\n",
       "       0., 0., 1., 1., 1., 0., 0., 0., 0., 1., 0., 0., 1., 1., 0., 0., 0.,\n",
       "       1., 0., 0., 1., 0., 1., 0., 0., 1., 1., 1., 0., 0., 0., 0., 0., 1.,\n",
       "       0., 0., 1., 1., 0.])"
      ]
     },
     "execution_count": 81,
     "metadata": {},
     "output_type": "execute_result"
    }
   ],
   "source": [
    "prediction_lr"
   ]
  },
  {
   "cell_type": "markdown",
   "id": "0bfe4e52",
   "metadata": {},
   "source": [
    "## Classification of dataset"
   ]
  },
  {
   "cell_type": "code",
   "execution_count": 84,
   "id": "a421e9d5",
   "metadata": {},
   "outputs": [],
   "source": [
    "# loading the dataset \n",
    "df = pd.read_csv('datasets/sentiment_chatgpt.csv', usecols=['user_name', 'user_description','tweets','label', 'date'])"
   ]
  },
  {
   "cell_type": "code",
   "execution_count": 85,
   "id": "fdf83ebf",
   "metadata": {},
   "outputs": [
    {
     "data": {
      "text/html": [
       "<div>\n",
       "<style scoped>\n",
       "    .dataframe tbody tr th:only-of-type {\n",
       "        vertical-align: middle;\n",
       "    }\n",
       "\n",
       "    .dataframe tbody tr th {\n",
       "        vertical-align: top;\n",
       "    }\n",
       "\n",
       "    .dataframe thead th {\n",
       "        text-align: right;\n",
       "    }\n",
       "</style>\n",
       "<table border=\"1\" class=\"dataframe\">\n",
       "  <thead>\n",
       "    <tr style=\"text-align: right;\">\n",
       "      <th></th>\n",
       "      <th>user_description</th>\n",
       "      <th>tweets</th>\n",
       "      <th>label</th>\n",
       "      <th>date</th>\n",
       "    </tr>\n",
       "  </thead>\n",
       "  <tbody>\n",
       "    <tr>\n",
       "      <th>0</th>\n",
       "      <td>building draftmateai developer author chatgpt ...</td>\n",
       "      <td>happy share draftmateai support day free trial...</td>\n",
       "      <td>positiv</td>\n",
       "      <td>2023-04-26 13:02:16+00:00</td>\n",
       "    </tr>\n",
       "    <tr>\n",
       "      <th>1</th>\n",
       "      <td>nomadic marketing vigilante graphic web design...</td>\n",
       "      <td>integrate chatgpt marketo smart campaign disco...</td>\n",
       "      <td>positiv</td>\n",
       "      <td>2023-04-26 13:02:06+00:00</td>\n",
       "    </tr>\n",
       "    <tr>\n",
       "      <th>2</th>\n",
       "      <td>leading translation management platform locali...</td>\n",
       "      <td>pleased announce new patentpending technology ...</td>\n",
       "      <td>positiv</td>\n",
       "      <td>2023-04-26 13:02:05+00:00</td>\n",
       "    </tr>\n",
       "    <tr>\n",
       "      <th>3</th>\n",
       "      <td>engineering leader coach mentor building remot...</td>\n",
       "      <td>starting tire scolded chatgpt slight perceived...</td>\n",
       "      <td>neutral</td>\n",
       "      <td>2023-04-26 13:02:00+00:00</td>\n",
       "    </tr>\n",
       "    <tr>\n",
       "      <th>4</th>\n",
       "      <td>stop learning research develop uild future eyo...</td>\n",
       "      <td>spartajustice it notable wikipedia entry john ...</td>\n",
       "      <td>positiv</td>\n",
       "      <td>2023-04-26 13:01:52+00:00</td>\n",
       "    </tr>\n",
       "    <tr>\n",
       "      <th>...</th>\n",
       "      <td>...</td>\n",
       "      <td>...</td>\n",
       "      <td>...</td>\n",
       "      <td>...</td>\n",
       "    </tr>\n",
       "    <tr>\n",
       "      <th>369265</th>\n",
       "      <td>brain meant processing million tweet post vide...</td>\n",
       "      <td>chatgpt biggest smartest brain world right now...</td>\n",
       "      <td>negativ</td>\n",
       "      <td>2022-12-05 17:11:10+00:00</td>\n",
       "    </tr>\n",
       "    <tr>\n",
       "      <th>369266</th>\n",
       "      <td>blockchain enthusiast philanthropist slave jav...</td>\n",
       "      <td>levelsso happy chatgpt team com revolutionary ...</td>\n",
       "      <td>positiv</td>\n",
       "      <td>2022-12-05 17:10:31+00:00</td>\n",
       "    </tr>\n",
       "    <tr>\n",
       "      <th>369267</th>\n",
       "      <td>mathematician developer amazon previously geob...</td>\n",
       "      <td>russel chatgpt it funny take long time answer ...</td>\n",
       "      <td>neutral</td>\n",
       "      <td>2022-12-05 17:09:04+00:00</td>\n",
       "    </tr>\n",
       "    <tr>\n",
       "      <th>369268</th>\n",
       "      <td>passionate nature software developer profession</td>\n",
       "      <td>wondering difference jasper chatgpt gpt chatgp...</td>\n",
       "      <td>positiv</td>\n",
       "      <td>2022-12-05 17:08:44+00:00</td>\n",
       "    </tr>\n",
       "    <tr>\n",
       "      <th>369269</th>\n",
       "      <td>postdoc gipplab unigoettingen phd unikonstanz ...</td>\n",
       "      <td>chatgpt similar llm pose challenge academic in...</td>\n",
       "      <td>positiv</td>\n",
       "      <td>2022-12-05 17:08:20+00:00</td>\n",
       "    </tr>\n",
       "  </tbody>\n",
       "</table>\n",
       "<p>369270 rows × 4 columns</p>\n",
       "</div>"
      ],
      "text/plain": [
       "                                         user_description  \\\n",
       "0       building draftmateai developer author chatgpt ...   \n",
       "1       nomadic marketing vigilante graphic web design...   \n",
       "2       leading translation management platform locali...   \n",
       "3       engineering leader coach mentor building remot...   \n",
       "4       stop learning research develop uild future eyo...   \n",
       "...                                                   ...   \n",
       "369265  brain meant processing million tweet post vide...   \n",
       "369266  blockchain enthusiast philanthropist slave jav...   \n",
       "369267  mathematician developer amazon previously geob...   \n",
       "369268    passionate nature software developer profession   \n",
       "369269  postdoc gipplab unigoettingen phd unikonstanz ...   \n",
       "\n",
       "                                                   tweets    label  \\\n",
       "0       happy share draftmateai support day free trial...  positiv   \n",
       "1       integrate chatgpt marketo smart campaign disco...  positiv   \n",
       "2       pleased announce new patentpending technology ...  positiv   \n",
       "3       starting tire scolded chatgpt slight perceived...  neutral   \n",
       "4       spartajustice it notable wikipedia entry john ...  positiv   \n",
       "...                                                   ...      ...   \n",
       "369265  chatgpt biggest smartest brain world right now...  negativ   \n",
       "369266  levelsso happy chatgpt team com revolutionary ...  positiv   \n",
       "369267  russel chatgpt it funny take long time answer ...  neutral   \n",
       "369268  wondering difference jasper chatgpt gpt chatgp...  positiv   \n",
       "369269  chatgpt similar llm pose challenge academic in...  positiv   \n",
       "\n",
       "                             date  \n",
       "0       2023-04-26 13:02:16+00:00  \n",
       "1       2023-04-26 13:02:06+00:00  \n",
       "2       2023-04-26 13:02:05+00:00  \n",
       "3       2023-04-26 13:02:00+00:00  \n",
       "4       2023-04-26 13:01:52+00:00  \n",
       "...                           ...  \n",
       "369265  2022-12-05 17:11:10+00:00  \n",
       "369266  2022-12-05 17:10:31+00:00  \n",
       "369267  2022-12-05 17:09:04+00:00  \n",
       "369268  2022-12-05 17:08:44+00:00  \n",
       "369269  2022-12-05 17:08:20+00:00  \n",
       "\n",
       "[369270 rows x 4 columns]"
      ]
     },
     "execution_count": 85,
     "metadata": {},
     "output_type": "execute_result"
    }
   ],
   "source": [
    "df"
   ]
  },
  {
   "cell_type": "code",
   "execution_count": 86,
   "id": "146b1eb4",
   "metadata": {},
   "outputs": [],
   "source": [
    "descr = df.user_description"
   ]
  },
  {
   "cell_type": "code",
   "execution_count": 87,
   "id": "f2d81a43",
   "metadata": {},
   "outputs": [
    {
     "data": {
      "text/plain": [
       "0         building draftmateai developer author chatgpt ...\n",
       "1         nomadic marketing vigilante graphic web design...\n",
       "2         leading translation management platform locali...\n",
       "3         engineering leader coach mentor building remot...\n",
       "4         stop learning research develop uild future eyo...\n",
       "                                ...                        \n",
       "369265    brain meant processing million tweet post vide...\n",
       "369266    blockchain enthusiast philanthropist slave jav...\n",
       "369267    mathematician developer amazon previously geob...\n",
       "369268      passionate nature software developer profession\n",
       "369269    postdoc gipplab unigoettingen phd unikonstanz ...\n",
       "Name: user_description, Length: 369270, dtype: object"
      ]
     },
     "execution_count": 87,
     "metadata": {},
     "output_type": "execute_result"
    }
   ],
   "source": [
    "descr"
   ]
  },
  {
   "cell_type": "code",
   "execution_count": 88,
   "id": "0dd431ee",
   "metadata": {},
   "outputs": [
    {
     "data": {
      "text/plain": [
       "0"
      ]
     },
     "execution_count": 88,
     "metadata": {},
     "output_type": "execute_result"
    }
   ],
   "source": [
    "# check if there is any NaN value\n",
    "descr.isnull().values.any()\n",
    "descr.isnull().sum()"
   ]
  },
  {
   "cell_type": "code",
   "execution_count": 89,
   "id": "adcb1381",
   "metadata": {},
   "outputs": [
    {
     "data": {
      "text/plain": [
       "(23691661, 72575240)"
      ]
     },
     "execution_count": 89,
     "metadata": {},
     "output_type": "execute_result"
    }
   ],
   "source": [
    "# Word2Vec features: \n",
    "tokenize_tweet = descr.apply(lambda x: x.split())\n",
    "\n",
    "model_W2V.train(tokenize_tweet, total_examples= len(descr), epochs=20)"
   ]
  },
  {
   "cell_type": "code",
   "execution_count": 90,
   "id": "3162b80d",
   "metadata": {},
   "outputs": [
    {
     "name": "stdout",
     "output_type": "stream",
     "text": [
      "number of words that occured minimum 5 times  421\n",
      "sample words  ['ai', 'engineer', 'learning', 'data', 'machine', 'tweet', 'opinion', 'leading', 'science', 'leader', 'scientist', 'passionate', 'educator', 'research', 'entrepreneur', 'system', 'technology', 'innovation', 'prompt', 'work', 'phd', 'microsoft', 'solopreneur', 'investment', 'evening', 'weekend', 'revolution', 'llm', 'education', 'development', 'teacher', 'gpt', 'enthusiast', 'chatgpt', 'tech', 'advocate', 'world', 'content', 'news', 'llmops', 'lead', 'mlops', 'product', 'researcher', 'follow', 'alum', 'help', 'supportjpf', 'agent', 'proud']\n"
     ]
    }
   ],
   "source": [
    "w2v_words = list(model_W2V.wv.index_to_key)\n",
    "print(\"number of words that occured minimum 5 times \",len(w2v_words))\n",
    "print(\"sample words \", w2v_words[0:50])"
   ]
  },
  {
   "cell_type": "code",
   "execution_count": 91,
   "id": "6c8a0c1e",
   "metadata": {},
   "outputs": [
    {
     "name": "stderr",
     "output_type": "stream",
     "text": [
      "100%|████████████████████████████████████████████████████████████████████████| 369270/369270 [01:17<00:00, 4781.97it/s]"
     ]
    },
    {
     "name": "stdout",
     "output_type": "stream",
     "text": [
      "369270\n",
      "200\n"
     ]
    },
    {
     "name": "stderr",
     "output_type": "stream",
     "text": [
      "\n"
     ]
    }
   ],
   "source": [
    "vector = []\n",
    "for sent in tqdm(tokenize_tweet):\n",
    "    sent_vec = np.zeros(200)\n",
    "    count = 0\n",
    "    for word in sent: \n",
    "        if word in w2v_words:\n",
    "            vec = model_W2V.wv[word]\n",
    "            sent_vec += vec \n",
    "            count += 1\n",
    "    if count != 0:\n",
    "        sent_vec /= count #normalize\n",
    "    vector.append(sent_vec)\n",
    "    \n",
    "print(len(vector))\n",
    "print(len(vector[0]))"
   ]
  },
  {
   "cell_type": "code",
   "execution_count": 92,
   "id": "617225ef",
   "metadata": {},
   "outputs": [],
   "source": [
    "prediction_sc = model_lr.predict(vector)"
   ]
  },
  {
   "cell_type": "code",
   "execution_count": 93,
   "id": "83565bee",
   "metadata": {},
   "outputs": [
    {
     "data": {
      "text/plain": [
       "array([0., 0., 0., ..., 0., 0., 0.])"
      ]
     },
     "execution_count": 93,
     "metadata": {},
     "output_type": "execute_result"
    }
   ],
   "source": [
    "prediction_sc"
   ]
  },
  {
   "cell_type": "code",
   "execution_count": 94,
   "id": "0d1cebc3",
   "metadata": {},
   "outputs": [],
   "source": [
    "dataframe = {'user_description': df.user_description.values, 'SC': prediction_sc, 'tweets': df.tweets.values, 'label': df.label.values, 'date': df.date.values}"
   ]
  },
  {
   "cell_type": "code",
   "execution_count": 95,
   "id": "fa129e16",
   "metadata": {},
   "outputs": [],
   "source": [
    "result = pd.DataFrame(dataframe)"
   ]
  },
  {
   "cell_type": "code",
   "execution_count": 96,
   "id": "826c5994",
   "metadata": {},
   "outputs": [
    {
     "data": {
      "text/html": [
       "<div>\n",
       "<style scoped>\n",
       "    .dataframe tbody tr th:only-of-type {\n",
       "        vertical-align: middle;\n",
       "    }\n",
       "\n",
       "    .dataframe tbody tr th {\n",
       "        vertical-align: top;\n",
       "    }\n",
       "\n",
       "    .dataframe thead th {\n",
       "        text-align: right;\n",
       "    }\n",
       "</style>\n",
       "<table border=\"1\" class=\"dataframe\">\n",
       "  <thead>\n",
       "    <tr style=\"text-align: right;\">\n",
       "      <th></th>\n",
       "      <th>user_description</th>\n",
       "      <th>SC</th>\n",
       "      <th>tweets</th>\n",
       "      <th>label</th>\n",
       "      <th>date</th>\n",
       "    </tr>\n",
       "  </thead>\n",
       "  <tbody>\n",
       "    <tr>\n",
       "      <th>0</th>\n",
       "      <td>building draftmateai developer author chatgpt ...</td>\n",
       "      <td>0.0</td>\n",
       "      <td>happy share draftmateai support day free trial...</td>\n",
       "      <td>positiv</td>\n",
       "      <td>2023-04-26 13:02:16+00:00</td>\n",
       "    </tr>\n",
       "    <tr>\n",
       "      <th>1</th>\n",
       "      <td>nomadic marketing vigilante graphic web design...</td>\n",
       "      <td>0.0</td>\n",
       "      <td>integrate chatgpt marketo smart campaign disco...</td>\n",
       "      <td>positiv</td>\n",
       "      <td>2023-04-26 13:02:06+00:00</td>\n",
       "    </tr>\n",
       "    <tr>\n",
       "      <th>2</th>\n",
       "      <td>leading translation management platform locali...</td>\n",
       "      <td>0.0</td>\n",
       "      <td>pleased announce new patentpending technology ...</td>\n",
       "      <td>positiv</td>\n",
       "      <td>2023-04-26 13:02:05+00:00</td>\n",
       "    </tr>\n",
       "    <tr>\n",
       "      <th>3</th>\n",
       "      <td>engineering leader coach mentor building remot...</td>\n",
       "      <td>0.0</td>\n",
       "      <td>starting tire scolded chatgpt slight perceived...</td>\n",
       "      <td>neutral</td>\n",
       "      <td>2023-04-26 13:02:00+00:00</td>\n",
       "    </tr>\n",
       "    <tr>\n",
       "      <th>4</th>\n",
       "      <td>stop learning research develop uild future eyo...</td>\n",
       "      <td>0.0</td>\n",
       "      <td>spartajustice it notable wikipedia entry john ...</td>\n",
       "      <td>positiv</td>\n",
       "      <td>2023-04-26 13:01:52+00:00</td>\n",
       "    </tr>\n",
       "    <tr>\n",
       "      <th>...</th>\n",
       "      <td>...</td>\n",
       "      <td>...</td>\n",
       "      <td>...</td>\n",
       "      <td>...</td>\n",
       "      <td>...</td>\n",
       "    </tr>\n",
       "    <tr>\n",
       "      <th>369265</th>\n",
       "      <td>brain meant processing million tweet post vide...</td>\n",
       "      <td>0.0</td>\n",
       "      <td>chatgpt biggest smartest brain world right now...</td>\n",
       "      <td>negativ</td>\n",
       "      <td>2022-12-05 17:11:10+00:00</td>\n",
       "    </tr>\n",
       "    <tr>\n",
       "      <th>369266</th>\n",
       "      <td>blockchain enthusiast philanthropist slave jav...</td>\n",
       "      <td>0.0</td>\n",
       "      <td>levelsso happy chatgpt team com revolutionary ...</td>\n",
       "      <td>positiv</td>\n",
       "      <td>2022-12-05 17:10:31+00:00</td>\n",
       "    </tr>\n",
       "    <tr>\n",
       "      <th>369267</th>\n",
       "      <td>mathematician developer amazon previously geob...</td>\n",
       "      <td>0.0</td>\n",
       "      <td>russel chatgpt it funny take long time answer ...</td>\n",
       "      <td>neutral</td>\n",
       "      <td>2022-12-05 17:09:04+00:00</td>\n",
       "    </tr>\n",
       "    <tr>\n",
       "      <th>369268</th>\n",
       "      <td>passionate nature software developer profession</td>\n",
       "      <td>0.0</td>\n",
       "      <td>wondering difference jasper chatgpt gpt chatgp...</td>\n",
       "      <td>positiv</td>\n",
       "      <td>2022-12-05 17:08:44+00:00</td>\n",
       "    </tr>\n",
       "    <tr>\n",
       "      <th>369269</th>\n",
       "      <td>postdoc gipplab unigoettingen phd unikonstanz ...</td>\n",
       "      <td>0.0</td>\n",
       "      <td>chatgpt similar llm pose challenge academic in...</td>\n",
       "      <td>positiv</td>\n",
       "      <td>2022-12-05 17:08:20+00:00</td>\n",
       "    </tr>\n",
       "  </tbody>\n",
       "</table>\n",
       "<p>369270 rows × 5 columns</p>\n",
       "</div>"
      ],
      "text/plain": [
       "                                         user_description   SC  \\\n",
       "0       building draftmateai developer author chatgpt ...  0.0   \n",
       "1       nomadic marketing vigilante graphic web design...  0.0   \n",
       "2       leading translation management platform locali...  0.0   \n",
       "3       engineering leader coach mentor building remot...  0.0   \n",
       "4       stop learning research develop uild future eyo...  0.0   \n",
       "...                                                   ...  ...   \n",
       "369265  brain meant processing million tweet post vide...  0.0   \n",
       "369266  blockchain enthusiast philanthropist slave jav...  0.0   \n",
       "369267  mathematician developer amazon previously geob...  0.0   \n",
       "369268    passionate nature software developer profession  0.0   \n",
       "369269  postdoc gipplab unigoettingen phd unikonstanz ...  0.0   \n",
       "\n",
       "                                                   tweets    label  \\\n",
       "0       happy share draftmateai support day free trial...  positiv   \n",
       "1       integrate chatgpt marketo smart campaign disco...  positiv   \n",
       "2       pleased announce new patentpending technology ...  positiv   \n",
       "3       starting tire scolded chatgpt slight perceived...  neutral   \n",
       "4       spartajustice it notable wikipedia entry john ...  positiv   \n",
       "...                                                   ...      ...   \n",
       "369265  chatgpt biggest smartest brain world right now...  negativ   \n",
       "369266  levelsso happy chatgpt team com revolutionary ...  positiv   \n",
       "369267  russel chatgpt it funny take long time answer ...  neutral   \n",
       "369268  wondering difference jasper chatgpt gpt chatgp...  positiv   \n",
       "369269  chatgpt similar llm pose challenge academic in...  positiv   \n",
       "\n",
       "                             date  \n",
       "0       2023-04-26 13:02:16+00:00  \n",
       "1       2023-04-26 13:02:06+00:00  \n",
       "2       2023-04-26 13:02:05+00:00  \n",
       "3       2023-04-26 13:02:00+00:00  \n",
       "4       2023-04-26 13:01:52+00:00  \n",
       "...                           ...  \n",
       "369265  2022-12-05 17:11:10+00:00  \n",
       "369266  2022-12-05 17:10:31+00:00  \n",
       "369267  2022-12-05 17:09:04+00:00  \n",
       "369268  2022-12-05 17:08:44+00:00  \n",
       "369269  2022-12-05 17:08:20+00:00  \n",
       "\n",
       "[369270 rows x 5 columns]"
      ]
     },
     "execution_count": 96,
     "metadata": {},
     "output_type": "execute_result"
    }
   ],
   "source": [
    "result"
   ]
  },
  {
   "cell_type": "code",
   "execution_count": 98,
   "id": "1787f6c5",
   "metadata": {},
   "outputs": [
    {
     "data": {
      "text/plain": [
       "0.0    362603\n",
       "1.0      6667\n",
       "Name: SC, dtype: int64"
      ]
     },
     "execution_count": 98,
     "metadata": {},
     "output_type": "execute_result"
    }
   ],
   "source": [
    "result.SC.value_counts() "
   ]
  },
  {
   "cell_type": "code",
   "execution_count": 100,
   "id": "5463aa09",
   "metadata": {},
   "outputs": [],
   "source": [
    "result.to_csv('datasets/sentiment_chatgpt_sc.csv')"
   ]
  },
  {
   "cell_type": "code",
   "execution_count": 101,
   "id": "4dcb4400",
   "metadata": {},
   "outputs": [],
   "source": [
    "scientists = result[result.SC == 1]"
   ]
  },
  {
   "cell_type": "code",
   "execution_count": 102,
   "id": "e0065e75",
   "metadata": {},
   "outputs": [
    {
     "data": {
      "text/plain": [
       "6667"
      ]
     },
     "execution_count": 102,
     "metadata": {},
     "output_type": "execute_result"
    }
   ],
   "source": [
    "len(scientists)"
   ]
  },
  {
   "cell_type": "code",
   "execution_count": 103,
   "id": "5d865e79",
   "metadata": {},
   "outputs": [
    {
     "data": {
      "text/html": [
       "<div>\n",
       "<style scoped>\n",
       "    .dataframe tbody tr th:only-of-type {\n",
       "        vertical-align: middle;\n",
       "    }\n",
       "\n",
       "    .dataframe tbody tr th {\n",
       "        vertical-align: top;\n",
       "    }\n",
       "\n",
       "    .dataframe thead th {\n",
       "        text-align: right;\n",
       "    }\n",
       "</style>\n",
       "<table border=\"1\" class=\"dataframe\">\n",
       "  <thead>\n",
       "    <tr style=\"text-align: right;\">\n",
       "      <th></th>\n",
       "      <th>user_description</th>\n",
       "      <th>SC</th>\n",
       "      <th>tweets</th>\n",
       "      <th>label</th>\n",
       "      <th>date</th>\n",
       "    </tr>\n",
       "  </thead>\n",
       "  <tbody>\n",
       "    <tr>\n",
       "      <th>14</th>\n",
       "      <td>chatgpt powered free trading signal let grow m...</td>\n",
       "      <td>1.0</td>\n",
       "      <td>sell rsi bybit recommendation short ticker ios...</td>\n",
       "      <td>positiv</td>\n",
       "      <td>2023-04-26 13:00:16+00:00</td>\n",
       "    </tr>\n",
       "    <tr>\n",
       "      <th>22</th>\n",
       "      <td>chatgpt powered free trading signal let grow m...</td>\n",
       "      <td>1.0</td>\n",
       "      <td>sell rsi bybit recommendation short ticker ilv...</td>\n",
       "      <td>positiv</td>\n",
       "      <td>2023-04-26 12:59:29+00:00</td>\n",
       "    </tr>\n",
       "    <tr>\n",
       "      <th>40</th>\n",
       "      <td>chatgpt powered free trading signal let grow m...</td>\n",
       "      <td>1.0</td>\n",
       "      <td>sell rsi bybit recommendation short ticker flm...</td>\n",
       "      <td>positiv</td>\n",
       "      <td>2023-04-26 12:53:58+00:00</td>\n",
       "    </tr>\n",
       "    <tr>\n",
       "      <th>41</th>\n",
       "      <td>chatgpt powered free trading signal let grow m...</td>\n",
       "      <td>1.0</td>\n",
       "      <td>sell rsi bybit recommendation short ticker fil...</td>\n",
       "      <td>neutral</td>\n",
       "      <td>2023-04-26 12:53:25+00:00</td>\n",
       "    </tr>\n",
       "    <tr>\n",
       "      <th>54</th>\n",
       "      <td>chatgpt powered free trading signal let grow m...</td>\n",
       "      <td>1.0</td>\n",
       "      <td>sell rsi bybit recommendation short ticker eth...</td>\n",
       "      <td>positiv</td>\n",
       "      <td>2023-04-26 12:52:37+00:00</td>\n",
       "    </tr>\n",
       "    <tr>\n",
       "      <th>...</th>\n",
       "      <td>...</td>\n",
       "      <td>...</td>\n",
       "      <td>...</td>\n",
       "      <td>...</td>\n",
       "      <td>...</td>\n",
       "    </tr>\n",
       "    <tr>\n",
       "      <th>367973</th>\n",
       "      <td>attract complication easily distracted sing so...</td>\n",
       "      <td>1.0</td>\n",
       "      <td>chatgpt thought dalle too favourite</td>\n",
       "      <td>negativ</td>\n",
       "      <td>2022-12-05 21:32:20+00:00</td>\n",
       "    </tr>\n",
       "    <tr>\n",
       "      <th>368229</th>\n",
       "      <td>hate speech outlet out moving arisinfosecexchange</td>\n",
       "      <td>1.0</td>\n",
       "      <td>chatgpt big brother share wisdom experience pr...</td>\n",
       "      <td>positiv</td>\n",
       "      <td>2022-12-05 20:47:28+00:00</td>\n",
       "    </tr>\n",
       "    <tr>\n",
       "      <th>368478</th>\n",
       "      <td>ligthen it joke</td>\n",
       "      <td>1.0</td>\n",
       "      <td>shut down immediately thing advancement destro...</td>\n",
       "      <td>positiv</td>\n",
       "      <td>2022-12-05 20:02:15+00:00</td>\n",
       "    </tr>\n",
       "    <tr>\n",
       "      <th>369022</th>\n",
       "      <td>hacker collective fighting techenabled abuse n...</td>\n",
       "      <td>1.0</td>\n",
       "      <td>cool screenshots chatgpt racist writing vulner...</td>\n",
       "      <td>negativ</td>\n",
       "      <td>2022-12-05 18:12:28+00:00</td>\n",
       "    </tr>\n",
       "    <tr>\n",
       "      <th>369044</th>\n",
       "      <td>greatest greater fool mattsbytesfosstodonorg</td>\n",
       "      <td>1.0</td>\n",
       "      <td>milton friedman lot answer economics chatgpt o...</td>\n",
       "      <td>negativ</td>\n",
       "      <td>2022-12-05 18:06:32+00:00</td>\n",
       "    </tr>\n",
       "  </tbody>\n",
       "</table>\n",
       "<p>6667 rows × 5 columns</p>\n",
       "</div>"
      ],
      "text/plain": [
       "                                         user_description   SC  \\\n",
       "14      chatgpt powered free trading signal let grow m...  1.0   \n",
       "22      chatgpt powered free trading signal let grow m...  1.0   \n",
       "40      chatgpt powered free trading signal let grow m...  1.0   \n",
       "41      chatgpt powered free trading signal let grow m...  1.0   \n",
       "54      chatgpt powered free trading signal let grow m...  1.0   \n",
       "...                                                   ...  ...   \n",
       "367973  attract complication easily distracted sing so...  1.0   \n",
       "368229  hate speech outlet out moving arisinfosecexchange  1.0   \n",
       "368478                                    ligthen it joke  1.0   \n",
       "369022  hacker collective fighting techenabled abuse n...  1.0   \n",
       "369044       greatest greater fool mattsbytesfosstodonorg  1.0   \n",
       "\n",
       "                                                   tweets    label  \\\n",
       "14      sell rsi bybit recommendation short ticker ios...  positiv   \n",
       "22      sell rsi bybit recommendation short ticker ilv...  positiv   \n",
       "40      sell rsi bybit recommendation short ticker flm...  positiv   \n",
       "41      sell rsi bybit recommendation short ticker fil...  neutral   \n",
       "54      sell rsi bybit recommendation short ticker eth...  positiv   \n",
       "...                                                   ...      ...   \n",
       "367973                chatgpt thought dalle too favourite  negativ   \n",
       "368229  chatgpt big brother share wisdom experience pr...  positiv   \n",
       "368478  shut down immediately thing advancement destro...  positiv   \n",
       "369022  cool screenshots chatgpt racist writing vulner...  negativ   \n",
       "369044  milton friedman lot answer economics chatgpt o...  negativ   \n",
       "\n",
       "                             date  \n",
       "14      2023-04-26 13:00:16+00:00  \n",
       "22      2023-04-26 12:59:29+00:00  \n",
       "40      2023-04-26 12:53:58+00:00  \n",
       "41      2023-04-26 12:53:25+00:00  \n",
       "54      2023-04-26 12:52:37+00:00  \n",
       "...                           ...  \n",
       "367973  2022-12-05 21:32:20+00:00  \n",
       "368229  2022-12-05 20:47:28+00:00  \n",
       "368478  2022-12-05 20:02:15+00:00  \n",
       "369022  2022-12-05 18:12:28+00:00  \n",
       "369044  2022-12-05 18:06:32+00:00  \n",
       "\n",
       "[6667 rows x 5 columns]"
      ]
     },
     "execution_count": 103,
     "metadata": {},
     "output_type": "execute_result"
    }
   ],
   "source": [
    "scientists"
   ]
  },
  {
   "cell_type": "code",
   "execution_count": 104,
   "id": "4fa77036",
   "metadata": {},
   "outputs": [],
   "source": [
    "scientists = scientists.drop('SC', axis=1)"
   ]
  },
  {
   "cell_type": "code",
   "execution_count": 105,
   "id": "45107bb0",
   "metadata": {},
   "outputs": [
    {
     "data": {
      "text/html": [
       "<div>\n",
       "<style scoped>\n",
       "    .dataframe tbody tr th:only-of-type {\n",
       "        vertical-align: middle;\n",
       "    }\n",
       "\n",
       "    .dataframe tbody tr th {\n",
       "        vertical-align: top;\n",
       "    }\n",
       "\n",
       "    .dataframe thead th {\n",
       "        text-align: right;\n",
       "    }\n",
       "</style>\n",
       "<table border=\"1\" class=\"dataframe\">\n",
       "  <thead>\n",
       "    <tr style=\"text-align: right;\">\n",
       "      <th></th>\n",
       "      <th>user_description</th>\n",
       "      <th>tweets</th>\n",
       "      <th>label</th>\n",
       "      <th>date</th>\n",
       "    </tr>\n",
       "  </thead>\n",
       "  <tbody>\n",
       "    <tr>\n",
       "      <th>14</th>\n",
       "      <td>chatgpt powered free trading signal let grow m...</td>\n",
       "      <td>sell rsi bybit recommendation short ticker ios...</td>\n",
       "      <td>positiv</td>\n",
       "      <td>2023-04-26 13:00:16+00:00</td>\n",
       "    </tr>\n",
       "    <tr>\n",
       "      <th>22</th>\n",
       "      <td>chatgpt powered free trading signal let grow m...</td>\n",
       "      <td>sell rsi bybit recommendation short ticker ilv...</td>\n",
       "      <td>positiv</td>\n",
       "      <td>2023-04-26 12:59:29+00:00</td>\n",
       "    </tr>\n",
       "    <tr>\n",
       "      <th>40</th>\n",
       "      <td>chatgpt powered free trading signal let grow m...</td>\n",
       "      <td>sell rsi bybit recommendation short ticker flm...</td>\n",
       "      <td>positiv</td>\n",
       "      <td>2023-04-26 12:53:58+00:00</td>\n",
       "    </tr>\n",
       "    <tr>\n",
       "      <th>41</th>\n",
       "      <td>chatgpt powered free trading signal let grow m...</td>\n",
       "      <td>sell rsi bybit recommendation short ticker fil...</td>\n",
       "      <td>neutral</td>\n",
       "      <td>2023-04-26 12:53:25+00:00</td>\n",
       "    </tr>\n",
       "    <tr>\n",
       "      <th>54</th>\n",
       "      <td>chatgpt powered free trading signal let grow m...</td>\n",
       "      <td>sell rsi bybit recommendation short ticker eth...</td>\n",
       "      <td>positiv</td>\n",
       "      <td>2023-04-26 12:52:37+00:00</td>\n",
       "    </tr>\n",
       "    <tr>\n",
       "      <th>...</th>\n",
       "      <td>...</td>\n",
       "      <td>...</td>\n",
       "      <td>...</td>\n",
       "      <td>...</td>\n",
       "    </tr>\n",
       "    <tr>\n",
       "      <th>367973</th>\n",
       "      <td>attract complication easily distracted sing so...</td>\n",
       "      <td>chatgpt thought dalle too favourite</td>\n",
       "      <td>negativ</td>\n",
       "      <td>2022-12-05 21:32:20+00:00</td>\n",
       "    </tr>\n",
       "    <tr>\n",
       "      <th>368229</th>\n",
       "      <td>hate speech outlet out moving arisinfosecexchange</td>\n",
       "      <td>chatgpt big brother share wisdom experience pr...</td>\n",
       "      <td>positiv</td>\n",
       "      <td>2022-12-05 20:47:28+00:00</td>\n",
       "    </tr>\n",
       "    <tr>\n",
       "      <th>368478</th>\n",
       "      <td>ligthen it joke</td>\n",
       "      <td>shut down immediately thing advancement destro...</td>\n",
       "      <td>positiv</td>\n",
       "      <td>2022-12-05 20:02:15+00:00</td>\n",
       "    </tr>\n",
       "    <tr>\n",
       "      <th>369022</th>\n",
       "      <td>hacker collective fighting techenabled abuse n...</td>\n",
       "      <td>cool screenshots chatgpt racist writing vulner...</td>\n",
       "      <td>negativ</td>\n",
       "      <td>2022-12-05 18:12:28+00:00</td>\n",
       "    </tr>\n",
       "    <tr>\n",
       "      <th>369044</th>\n",
       "      <td>greatest greater fool mattsbytesfosstodonorg</td>\n",
       "      <td>milton friedman lot answer economics chatgpt o...</td>\n",
       "      <td>negativ</td>\n",
       "      <td>2022-12-05 18:06:32+00:00</td>\n",
       "    </tr>\n",
       "  </tbody>\n",
       "</table>\n",
       "<p>6667 rows × 4 columns</p>\n",
       "</div>"
      ],
      "text/plain": [
       "                                         user_description  \\\n",
       "14      chatgpt powered free trading signal let grow m...   \n",
       "22      chatgpt powered free trading signal let grow m...   \n",
       "40      chatgpt powered free trading signal let grow m...   \n",
       "41      chatgpt powered free trading signal let grow m...   \n",
       "54      chatgpt powered free trading signal let grow m...   \n",
       "...                                                   ...   \n",
       "367973  attract complication easily distracted sing so...   \n",
       "368229  hate speech outlet out moving arisinfosecexchange   \n",
       "368478                                    ligthen it joke   \n",
       "369022  hacker collective fighting techenabled abuse n...   \n",
       "369044       greatest greater fool mattsbytesfosstodonorg   \n",
       "\n",
       "                                                   tweets    label  \\\n",
       "14      sell rsi bybit recommendation short ticker ios...  positiv   \n",
       "22      sell rsi bybit recommendation short ticker ilv...  positiv   \n",
       "40      sell rsi bybit recommendation short ticker flm...  positiv   \n",
       "41      sell rsi bybit recommendation short ticker fil...  neutral   \n",
       "54      sell rsi bybit recommendation short ticker eth...  positiv   \n",
       "...                                                   ...      ...   \n",
       "367973                chatgpt thought dalle too favourite  negativ   \n",
       "368229  chatgpt big brother share wisdom experience pr...  positiv   \n",
       "368478  shut down immediately thing advancement destro...  positiv   \n",
       "369022  cool screenshots chatgpt racist writing vulner...  negativ   \n",
       "369044  milton friedman lot answer economics chatgpt o...  negativ   \n",
       "\n",
       "                             date  \n",
       "14      2023-04-26 13:00:16+00:00  \n",
       "22      2023-04-26 12:59:29+00:00  \n",
       "40      2023-04-26 12:53:58+00:00  \n",
       "41      2023-04-26 12:53:25+00:00  \n",
       "54      2023-04-26 12:52:37+00:00  \n",
       "...                           ...  \n",
       "367973  2022-12-05 21:32:20+00:00  \n",
       "368229  2022-12-05 20:47:28+00:00  \n",
       "368478  2022-12-05 20:02:15+00:00  \n",
       "369022  2022-12-05 18:12:28+00:00  \n",
       "369044  2022-12-05 18:06:32+00:00  \n",
       "\n",
       "[6667 rows x 4 columns]"
      ]
     },
     "execution_count": 105,
     "metadata": {},
     "output_type": "execute_result"
    }
   ],
   "source": [
    "scientists"
   ]
  },
  {
   "cell_type": "code",
   "execution_count": 106,
   "id": "568c35e3",
   "metadata": {},
   "outputs": [],
   "source": [
    "scientists.to_csv('datasets/sentiment_scientists.csv')"
   ]
  },
  {
   "cell_type": "code",
   "execution_count": 2,
   "id": "d6e75516",
   "metadata": {},
   "outputs": [],
   "source": [
    "import pandas as pd\n",
    "df = pd.read_csv('datasets/sentiment_scientists.csv', usecols=['user_description','tweets','label', 'date'])"
   ]
  },
  {
   "cell_type": "code",
   "execution_count": 3,
   "id": "c1576476",
   "metadata": {},
   "outputs": [
    {
     "data": {
      "text/html": [
       "<div>\n",
       "<style scoped>\n",
       "    .dataframe tbody tr th:only-of-type {\n",
       "        vertical-align: middle;\n",
       "    }\n",
       "\n",
       "    .dataframe tbody tr th {\n",
       "        vertical-align: top;\n",
       "    }\n",
       "\n",
       "    .dataframe thead th {\n",
       "        text-align: right;\n",
       "    }\n",
       "</style>\n",
       "<table border=\"1\" class=\"dataframe\">\n",
       "  <thead>\n",
       "    <tr style=\"text-align: right;\">\n",
       "      <th></th>\n",
       "      <th>user_description</th>\n",
       "      <th>tweets</th>\n",
       "      <th>label</th>\n",
       "      <th>date</th>\n",
       "    </tr>\n",
       "  </thead>\n",
       "  <tbody>\n",
       "    <tr>\n",
       "      <th>0</th>\n",
       "      <td>chatgpt powered free trading signal let grow m...</td>\n",
       "      <td>sell rsi bybit recommendation short ticker ios...</td>\n",
       "      <td>positiv</td>\n",
       "      <td>2023-04-26 13:00:16+00:00</td>\n",
       "    </tr>\n",
       "    <tr>\n",
       "      <th>1</th>\n",
       "      <td>chatgpt powered free trading signal let grow m...</td>\n",
       "      <td>sell rsi bybit recommendation short ticker ilv...</td>\n",
       "      <td>positiv</td>\n",
       "      <td>2023-04-26 12:59:29+00:00</td>\n",
       "    </tr>\n",
       "    <tr>\n",
       "      <th>2</th>\n",
       "      <td>chatgpt powered free trading signal let grow m...</td>\n",
       "      <td>sell rsi bybit recommendation short ticker flm...</td>\n",
       "      <td>positiv</td>\n",
       "      <td>2023-04-26 12:53:58+00:00</td>\n",
       "    </tr>\n",
       "    <tr>\n",
       "      <th>3</th>\n",
       "      <td>chatgpt powered free trading signal let grow m...</td>\n",
       "      <td>sell rsi bybit recommendation short ticker fil...</td>\n",
       "      <td>neutral</td>\n",
       "      <td>2023-04-26 12:53:25+00:00</td>\n",
       "    </tr>\n",
       "    <tr>\n",
       "      <th>4</th>\n",
       "      <td>chatgpt powered free trading signal let grow m...</td>\n",
       "      <td>sell rsi bybit recommendation short ticker eth...</td>\n",
       "      <td>positiv</td>\n",
       "      <td>2023-04-26 12:52:37+00:00</td>\n",
       "    </tr>\n",
       "    <tr>\n",
       "      <th>...</th>\n",
       "      <td>...</td>\n",
       "      <td>...</td>\n",
       "      <td>...</td>\n",
       "      <td>...</td>\n",
       "    </tr>\n",
       "    <tr>\n",
       "      <th>6662</th>\n",
       "      <td>attract complication easily distracted sing so...</td>\n",
       "      <td>chatgpt thought dalle too favourite</td>\n",
       "      <td>negativ</td>\n",
       "      <td>2022-12-05 21:32:20+00:00</td>\n",
       "    </tr>\n",
       "    <tr>\n",
       "      <th>6663</th>\n",
       "      <td>hate speech outlet out moving arisinfosecexchange</td>\n",
       "      <td>chatgpt big brother share wisdom experience pr...</td>\n",
       "      <td>positiv</td>\n",
       "      <td>2022-12-05 20:47:28+00:00</td>\n",
       "    </tr>\n",
       "    <tr>\n",
       "      <th>6664</th>\n",
       "      <td>ligthen it joke</td>\n",
       "      <td>shut down immediately thing advancement destro...</td>\n",
       "      <td>positiv</td>\n",
       "      <td>2022-12-05 20:02:15+00:00</td>\n",
       "    </tr>\n",
       "    <tr>\n",
       "      <th>6665</th>\n",
       "      <td>hacker collective fighting techenabled abuse n...</td>\n",
       "      <td>cool screenshots chatgpt racist writing vulner...</td>\n",
       "      <td>negativ</td>\n",
       "      <td>2022-12-05 18:12:28+00:00</td>\n",
       "    </tr>\n",
       "    <tr>\n",
       "      <th>6666</th>\n",
       "      <td>greatest greater fool mattsbytesfosstodonorg</td>\n",
       "      <td>milton friedman lot answer economics chatgpt o...</td>\n",
       "      <td>negativ</td>\n",
       "      <td>2022-12-05 18:06:32+00:00</td>\n",
       "    </tr>\n",
       "  </tbody>\n",
       "</table>\n",
       "<p>6667 rows × 4 columns</p>\n",
       "</div>"
      ],
      "text/plain": [
       "                                       user_description  \\\n",
       "0     chatgpt powered free trading signal let grow m...   \n",
       "1     chatgpt powered free trading signal let grow m...   \n",
       "2     chatgpt powered free trading signal let grow m...   \n",
       "3     chatgpt powered free trading signal let grow m...   \n",
       "4     chatgpt powered free trading signal let grow m...   \n",
       "...                                                 ...   \n",
       "6662  attract complication easily distracted sing so...   \n",
       "6663  hate speech outlet out moving arisinfosecexchange   \n",
       "6664                                    ligthen it joke   \n",
       "6665  hacker collective fighting techenabled abuse n...   \n",
       "6666       greatest greater fool mattsbytesfosstodonorg   \n",
       "\n",
       "                                                 tweets    label  \\\n",
       "0     sell rsi bybit recommendation short ticker ios...  positiv   \n",
       "1     sell rsi bybit recommendation short ticker ilv...  positiv   \n",
       "2     sell rsi bybit recommendation short ticker flm...  positiv   \n",
       "3     sell rsi bybit recommendation short ticker fil...  neutral   \n",
       "4     sell rsi bybit recommendation short ticker eth...  positiv   \n",
       "...                                                 ...      ...   \n",
       "6662                chatgpt thought dalle too favourite  negativ   \n",
       "6663  chatgpt big brother share wisdom experience pr...  positiv   \n",
       "6664  shut down immediately thing advancement destro...  positiv   \n",
       "6665  cool screenshots chatgpt racist writing vulner...  negativ   \n",
       "6666  milton friedman lot answer economics chatgpt o...  negativ   \n",
       "\n",
       "                           date  \n",
       "0     2023-04-26 13:00:16+00:00  \n",
       "1     2023-04-26 12:59:29+00:00  \n",
       "2     2023-04-26 12:53:58+00:00  \n",
       "3     2023-04-26 12:53:25+00:00  \n",
       "4     2023-04-26 12:52:37+00:00  \n",
       "...                         ...  \n",
       "6662  2022-12-05 21:32:20+00:00  \n",
       "6663  2022-12-05 20:47:28+00:00  \n",
       "6664  2022-12-05 20:02:15+00:00  \n",
       "6665  2022-12-05 18:12:28+00:00  \n",
       "6666  2022-12-05 18:06:32+00:00  \n",
       "\n",
       "[6667 rows x 4 columns]"
      ]
     },
     "execution_count": 3,
     "metadata": {},
     "output_type": "execute_result"
    }
   ],
   "source": [
    "df"
   ]
  },
  {
   "cell_type": "code",
   "execution_count": 8,
   "id": "3bf6cbbc",
   "metadata": {},
   "outputs": [],
   "source": [
    "duplicated_rows = df.duplicated()"
   ]
  },
  {
   "cell_type": "markdown",
   "id": "8ca49735",
   "metadata": {},
   "source": [
    "## Classification tweets into scientists "
   ]
  },
  {
   "cell_type": "code",
   "execution_count": 1,
   "id": "dc9b641d",
   "metadata": {},
   "outputs": [],
   "source": [
    "# loading the dataset \n",
    "import pandas as pd \n",
    "\n",
    "df = pd.read_csv('datasets/sentiment_chatgpt.csv', usecols=['user_name', 'user_description','tweets','label', 'date'])"
   ]
  },
  {
   "cell_type": "code",
   "execution_count": 2,
   "id": "df4b7bc4",
   "metadata": {},
   "outputs": [
    {
     "data": {
      "text/plain": [
       "357648"
      ]
     },
     "execution_count": 2,
     "metadata": {},
     "output_type": "execute_result"
    }
   ],
   "source": [
    "len(df)"
   ]
  },
  {
   "cell_type": "code",
   "execution_count": 3,
   "id": "cb57a330",
   "metadata": {},
   "outputs": [
    {
     "data": {
      "text/plain": [
       "user_name           0\n",
       "user_description    0\n",
       "tweets              0\n",
       "label               0\n",
       "date                0\n",
       "dtype: int64"
      ]
     },
     "execution_count": 3,
     "metadata": {},
     "output_type": "execute_result"
    }
   ],
   "source": [
    "df.isnull().values.any()\n",
    "df.isnull().sum()"
   ]
  },
  {
   "cell_type": "code",
   "execution_count": 4,
   "id": "50a45094",
   "metadata": {},
   "outputs": [],
   "source": [
    "name = df.user_name"
   ]
  },
  {
   "cell_type": "code",
   "execution_count": 5,
   "id": "903b8e74",
   "metadata": {},
   "outputs": [],
   "source": [
    "descr = df.user_description"
   ]
  },
  {
   "cell_type": "code",
   "execution_count": 15,
   "id": "cfcb3a67",
   "metadata": {},
   "outputs": [],
   "source": [
    "descr_list = ['scientist']"
   ]
  },
  {
   "cell_type": "code",
   "execution_count": 6,
   "id": "b45340d5",
   "metadata": {},
   "outputs": [],
   "source": [
    "word_list = ['phd']"
   ]
  },
  {
   "cell_type": "code",
   "execution_count": 17,
   "id": "0d7012f8",
   "metadata": {},
   "outputs": [],
   "source": [
    "scientist = (name.str.contains('|'.join(word_list), case=False)) & (descr.str.contains('|'.join(descr_list), case=False))"
   ]
  },
  {
   "cell_type": "code",
   "execution_count": 7,
   "id": "58461989",
   "metadata": {},
   "outputs": [],
   "source": [
    "scientist = (name.str.contains('|'.join(word_list), case=False))"
   ]
  },
  {
   "cell_type": "code",
   "execution_count": 8,
   "id": "7329fbc5",
   "metadata": {},
   "outputs": [],
   "source": [
    "result = df[scientist]"
   ]
  },
  {
   "cell_type": "code",
   "execution_count": 9,
   "id": "9db69b03",
   "metadata": {},
   "outputs": [
    {
     "data": {
      "text/plain": [
       "2366"
      ]
     },
     "execution_count": 9,
     "metadata": {},
     "output_type": "execute_result"
    }
   ],
   "source": [
    "len(result)"
   ]
  },
  {
   "cell_type": "code",
   "execution_count": 25,
   "id": "336d9349",
   "metadata": {},
   "outputs": [],
   "source": [
    "result.to_csv(\"datasets/sentiment_scientists2.csv\")"
   ]
  },
  {
   "cell_type": "code",
   "execution_count": 11,
   "id": "5b2127b7",
   "metadata": {},
   "outputs": [],
   "source": [
    "user = result.drop_duplicates(subset=['user_name'])"
   ]
  },
  {
   "cell_type": "code",
   "execution_count": 13,
   "id": "e050d62d",
   "metadata": {},
   "outputs": [
    {
     "data": {
      "text/plain": [
       "677"
      ]
     },
     "execution_count": 13,
     "metadata": {},
     "output_type": "execute_result"
    }
   ],
   "source": [
    "len(user) # We have approximately 692 scientists (postdoctoral, professor and PhDs in every fields)"
   ]
  },
  {
   "cell_type": "code",
   "execution_count": 14,
   "id": "728e6ab2",
   "metadata": {},
   "outputs": [
    {
     "data": {
      "text/plain": [
       "positiv    871\n",
       "negativ    752\n",
       "neutral    743\n",
       "Name: label, dtype: int64"
      ]
     },
     "execution_count": 14,
     "metadata": {},
     "output_type": "execute_result"
    }
   ],
   "source": [
    "result.label.value_counts()"
   ]
  },
  {
   "cell_type": "markdown",
   "id": "09a60262",
   "metadata": {},
   "source": [
    "## Analysis and visualizations"
   ]
  },
  {
   "cell_type": "code",
   "execution_count": 15,
   "id": "99c9d52d",
   "metadata": {},
   "outputs": [
    {
     "data": {
      "text/plain": [
       "user_name           0\n",
       "user_description    0\n",
       "tweets              0\n",
       "label               0\n",
       "date                0\n",
       "dtype: int64"
      ]
     },
     "execution_count": 15,
     "metadata": {},
     "output_type": "execute_result"
    }
   ],
   "source": [
    "result.isnull().values.any()\n",
    "result.isnull().sum()"
   ]
  },
  {
   "cell_type": "code",
   "execution_count": 16,
   "id": "8cd56992",
   "metadata": {},
   "outputs": [],
   "source": [
    "df_sorted = result.sort_values(by='date')"
   ]
  },
  {
   "cell_type": "code",
   "execution_count": 18,
   "id": "aaacf656",
   "metadata": {},
   "outputs": [],
   "source": [
    "# from december to april \n",
    "# december \n",
    "# january \n",
    "# february \n",
    "# march \n",
    "# april \n",
    "df_sorted.date = pd.to_datetime(df_sorted.date)"
   ]
  },
  {
   "cell_type": "code",
   "execution_count": 19,
   "id": "37c189b9",
   "metadata": {},
   "outputs": [],
   "source": [
    "dec = df_sorted[df_sorted.date.dt.month == 12]"
   ]
  },
  {
   "cell_type": "code",
   "execution_count": 21,
   "id": "29c28da9",
   "metadata": {},
   "outputs": [],
   "source": [
    "jan = df_sorted[df_sorted.date.dt.month == 1]"
   ]
  },
  {
   "cell_type": "code",
   "execution_count": 23,
   "id": "ad0f5a3f",
   "metadata": {},
   "outputs": [],
   "source": [
    "feb = df_sorted[df_sorted.date.dt.month == 2]"
   ]
  },
  {
   "cell_type": "code",
   "execution_count": 25,
   "id": "c2dda01c",
   "metadata": {},
   "outputs": [],
   "source": [
    "march = df_sorted[df_sorted.date.dt.month == 3]"
   ]
  },
  {
   "cell_type": "code",
   "execution_count": 27,
   "id": "7eb79bd7",
   "metadata": {},
   "outputs": [],
   "source": [
    "april = df_sorted[df_sorted.date.dt.month == 4]"
   ]
  },
  {
   "cell_type": "code",
   "execution_count": 29,
   "id": "b9b166db",
   "metadata": {},
   "outputs": [
    {
     "data": {
      "text/plain": [
       "positiv    101\n",
       "negativ     92\n",
       "neutral     87\n",
       "Name: label, dtype: int64"
      ]
     },
     "execution_count": 29,
     "metadata": {},
     "output_type": "execute_result"
    }
   ],
   "source": [
    "dec.label.value_counts()"
   ]
  },
  {
   "cell_type": "code",
   "execution_count": 30,
   "id": "c0b58bf0",
   "metadata": {},
   "outputs": [
    {
     "data": {
      "text/plain": [
       "positiv    163\n",
       "negativ    111\n",
       "neutral    103\n",
       "Name: label, dtype: int64"
      ]
     },
     "execution_count": 30,
     "metadata": {},
     "output_type": "execute_result"
    }
   ],
   "source": [
    "jan.label.value_counts()"
   ]
  },
  {
   "cell_type": "code",
   "execution_count": 31,
   "id": "3cdbec8b",
   "metadata": {},
   "outputs": [
    {
     "data": {
      "text/plain": [
       "positiv    224\n",
       "neutral    212\n",
       "negativ    179\n",
       "Name: label, dtype: int64"
      ]
     },
     "execution_count": 31,
     "metadata": {},
     "output_type": "execute_result"
    }
   ],
   "source": [
    "feb.label.value_counts()"
   ]
  },
  {
   "cell_type": "code",
   "execution_count": 32,
   "id": "419555b5",
   "metadata": {},
   "outputs": [
    {
     "data": {
      "text/plain": [
       "positiv    124\n",
       "neutral    116\n",
       "negativ    109\n",
       "Name: label, dtype: int64"
      ]
     },
     "execution_count": 32,
     "metadata": {},
     "output_type": "execute_result"
    }
   ],
   "source": [
    "march.label.value_counts()"
   ]
  },
  {
   "cell_type": "code",
   "execution_count": 33,
   "id": "1ec27df1",
   "metadata": {},
   "outputs": [
    {
     "data": {
      "text/plain": [
       "negativ    261\n",
       "positiv    259\n",
       "neutral    225\n",
       "Name: label, dtype: int64"
      ]
     },
     "execution_count": 33,
     "metadata": {},
     "output_type": "execute_result"
    }
   ],
   "source": [
    "april.label.value_counts()"
   ]
  },
  {
   "cell_type": "code",
   "execution_count": 35,
   "id": "83139781",
   "metadata": {},
   "outputs": [
    {
     "data": {
      "image/png": "[encoded data removed]",
      "text/plain": [
       "<Figure size 640x480 with 1 Axes>"
      ]
     },
     "metadata": {},
     "output_type": "display_data"
    }
   ],
   "source": [
    "import numpy as np\n",
    "import matplotlib.pyplot as plt\n",
    "\n",
    "data = [[90, 103, 216, 117, 230], #neutral\n",
    "[105, 165, 227, 127, 263], #positiv\n",
    "[93, 111, 184, 110, 262]] #negativ\n",
    "X = np.arange(5)\n",
    "fig = plt.figure()\n",
    "ax = fig.add_axes([0,0,1,1])\n",
    "ax.bar(X - 0.25, data[0], color = 'orange', width = 0.25)\n",
    "ax.bar(X , data[1], color = 'b', width = 0.25)\n",
    "ax.bar(X + 0.25, data[2], color = 'r', width = 0.25)\n",
    "ax.set_ylabel('Numbe of tweets')\n",
    "ax.set_title('Sentiment analysis of scientist users')\n",
    "ax.set_xticks(X, ('Dec 22', 'Jan 23', 'Feb 23', 'Mar 23', 'Apr 23'))\n",
    "ax.set_yticks(np.arange(0, 260, 50))\n",
    "ax.legend(labels=['Neutral', 'Positiv', 'Negativ'])\n",
    "plt.show()"
   ]
  },
  {
   "cell_type": "code",
   "execution_count": 123,
   "id": "6199c397",
   "metadata": {},
   "outputs": [
    {
     "data": {
      "image/png": "[encoded data removed]",
      "text/plain": [
       "<Figure size 640x480 with 1 Axes>"
      ]
     },
     "metadata": {},
     "output_type": "display_data"
    }
   ],
   "source": [
    "labels = ['neutral', 'positive', 'negative']\n",
    "sizes = [data[0][0], data[1][0], data[2][0]]\n",
    "colors = ['orange', 'blue', 'red']\n",
    "\n",
    "plt.pie(sizes, labels=labels, colors=colors, autopct='%1.1f%%', shadow=True, startangle=140)    \n",
    "plt.axis('equal')\n",
    "plt.title('Percentage of sentiment distribution in December')\n",
    "plt.show()"
   ]
  },
  {
   "cell_type": "code",
   "execution_count": 124,
   "id": "bcf4dcec",
   "metadata": {},
   "outputs": [
    {
     "data": {
      "image/png": "[encoded data removed]",
      "text/plain": [
       "<Figure size 640x480 with 1 Axes>"
      ]
     },
     "metadata": {},
     "output_type": "display_data"
    }
   ],
   "source": [
    "labels = ['neutral', 'positive', 'negative']\n",
    "sizes = [data[0][1], data[1][1], data[2][1]]\n",
    "colors = ['orange', 'blue', 'red']\n",
    "\n",
    "plt.pie(sizes, labels=labels, colors=colors, autopct='%1.1f%%', shadow=True, startangle=140)    \n",
    "plt.axis('equal')\n",
    "plt.title('Percentage of sentiment distribution in January')\n",
    "plt.show()"
   ]
  },
  {
   "cell_type": "code",
   "execution_count": 125,
   "id": "edaf3778",
   "metadata": {},
   "outputs": [
    {
     "data": {
      "image/png": "[encoded data removed]",
      "text/plain": [
       "<Figure size 640x480 with 1 Axes>"
      ]
     },
     "metadata": {},
     "output_type": "display_data"
    }
   ],
   "source": [
    "labels = ['neutral', 'positive', 'negative']\n",
    "sizes = [data[0][2], data[1][2], data[2][2]]\n",
    "colors = ['orange', 'blue', 'red']\n",
    "\n",
    "plt.pie(sizes, labels=labels, colors=colors, autopct='%1.1f%%', shadow=True, startangle=140)    \n",
    "plt.axis('equal')\n",
    "plt.title('Percentage of sentiment distribution in February')\n",
    "plt.show()"
   ]
  },
  {
   "cell_type": "code",
   "execution_count": 128,
   "id": "d8de639f",
   "metadata": {},
   "outputs": [
    {
     "data": {
      "image/png": "[encoded data removed]",
      "text/plain": [
       "<Figure size 640x480 with 1 Axes>"
      ]
     },
     "metadata": {},
     "output_type": "display_data"
    }
   ],
   "source": [
    "labels = ['neutral', 'positive', 'negative']\n",
    "sizes = [data[0][3], data[1][3], data[2][3]]\n",
    "colors = ['orange', 'blue', 'red']\n",
    "\n",
    "plt.pie(sizes, labels=labels, colors=colors, autopct='%1.1f%%', shadow=True, startangle=140)    \n",
    "plt.axis('equal')\n",
    "plt.title('Percentage of sentiment distribution in March')\n",
    "plt.show()"
   ]
  },
  {
   "cell_type": "code",
   "execution_count": 130,
   "id": "04d1f130",
   "metadata": {},
   "outputs": [
    {
     "data": {
      "image/png": "[encoded data removed]",
      "text/plain": [
       "<Figure size 640x480 with 1 Axes>"
      ]
     },
     "metadata": {},
     "output_type": "display_data"
    }
   ],
   "source": [
    "labels = ['neutral', 'positive', 'negative']\n",
    "sizes = [data[0][4], data[1][4], data[2][4]]\n",
    "colors = ['orange', 'blue', 'red']\n",
    "\n",
    "plt.pie(sizes, labels=labels, colors=colors, autopct='%1.1f%%', shadow=True, startangle=140)    \n",
    "plt.axis('equal')\n",
    "plt.title('Percentage of sentiment distribution in April')\n",
    "plt.show()"
   ]
  },
  {
   "cell_type": "code",
   "execution_count": 171,
   "id": "b10e97d2",
   "metadata": {},
   "outputs": [
    {
     "name": "stderr",
     "output_type": "stream",
     "text": [
      "[nltk_data] Downloading package stopwords to C:\\Users\\Ajkuna\n",
      "[nltk_data]     Seipi\\AppData\\Roaming\\nltk_data...\n",
      "[nltk_data]   Package stopwords is already up-to-date!\n"
     ]
    },
    {
     "data": {
      "text/plain": [
       "True"
      ]
     },
     "execution_count": 171,
     "metadata": {},
     "output_type": "execute_result"
    }
   ],
   "source": [
    "import nltk\n",
    "from nltk.corpus import stopwords\n",
    "import re\n",
    "import networkx\n",
    "\n",
    "nltk.download('stopwords')"
   ]
  },
  {
   "cell_type": "code",
   "execution_count": 176,
   "id": "48ebf229",
   "metadata": {},
   "outputs": [],
   "source": [
    "# positiv tweets\n",
    "# negativ tweets\n",
    "positiv = result[result.label == 'positiv']\n",
    "negativ = result[result.label == 'negativ']"
   ]
  },
  {
   "cell_type": "code",
   "execution_count": 177,
   "id": "f85ff8f1",
   "metadata": {},
   "outputs": [
    {
     "data": {
      "text/plain": [
       "[['chatgpt',\n",
       "  'gamechanging',\n",
       "  'language',\n",
       "  'model',\n",
       "  'us',\n",
       "  'power',\n",
       "  'gpt',\n",
       "  'provide',\n",
       "  'insightful',\n",
       "  'engaging',\n",
       "  'response',\n",
       "  'question',\n",
       "  'youre',\n",
       "  'looking',\n",
       "  'information',\n",
       "  'advice',\n",
       "  'friendly',\n",
       "  'conversation',\n",
       "  'chatgpt',\n",
       "  'got',\n",
       "  'covered',\n",
       "  'chatgpt'],\n",
       " ['signed',\n",
       "  'chatgpt',\n",
       "  'course',\n",
       "  'udemy',\n",
       "  'it',\n",
       "  'important',\n",
       "  'excel',\n",
       "  'proactively',\n",
       "  'learning',\n",
       "  'contributes',\n",
       "  'that',\n",
       "  'learning',\n",
       "  'learninganddevelopment',\n",
       "  'artificialintelligence',\n",
       "  'aichatbot',\n",
       "  'aichatgpt',\n",
       "  'chatgpt',\n",
       "  'technicalwriter']]"
      ]
     },
     "execution_count": 177,
     "metadata": {},
     "output_type": "execute_result"
    }
   ],
   "source": [
    "# Create a list of lists containing lowercase words for each tweet\n",
    "words_in_tweet = [tweet.lower().split() for tweet in negativ.tweets]\n",
    "words_in_tweet[:2]"
   ]
  },
  {
   "cell_type": "code",
   "execution_count": 178,
   "id": "6d8fd5ee",
   "metadata": {},
   "outputs": [
    {
     "data": {
      "text/plain": [
       "[('chatgpt', 883),\n",
       " ('gpt', 284),\n",
       " ('openai', 230),\n",
       " ('google', 157),\n",
       " ('artificialintelligence', 143),\n",
       " ('microsoft', 139),\n",
       " ('autogpt', 134),\n",
       " ('generativeai', 128),\n",
       " ('new', 69),\n",
       " ('use', 60),\n",
       " ('amp', 51),\n",
       " ('model', 37),\n",
       " ('autonomous', 35),\n",
       " ('great', 35),\n",
       " ('student', 34)]"
      ]
     },
     "execution_count": 178,
     "metadata": {},
     "output_type": "execute_result"
    }
   ],
   "source": [
    "import os\n",
    "import pandas as pd\n",
    "import matplotlib.pyplot as plt\n",
    "import seaborn as sns\n",
    "import itertools\n",
    "import collections\n",
    "\n",
    "# List of all words across tweets\n",
    "all_words_no_urls = list(itertools.chain(*words_in_tweet))\n",
    "\n",
    "# Create counter\n",
    "counts_no_urls = collections.Counter(all_words_no_urls)\n",
    "\n",
    "counts_no_urls.most_common(15)"
   ]
  },
  {
   "cell_type": "code",
   "execution_count": 168,
   "id": "992acd79",
   "metadata": {},
   "outputs": [],
   "source": [
    "clean_tweets_no_urls = pd.DataFrame(counts_no_urls.most_common(15),\n",
    "                             columns=['words', 'count'])"
   ]
  },
  {
   "cell_type": "code",
   "execution_count": 179,
   "id": "31100a66",
   "metadata": {},
   "outputs": [
    {
     "data": {
      "image/png": "[encoded data removed]",
      "text/plain": [
       "<Figure size 800x800 with 1 Axes>"
      ]
     },
     "metadata": {},
     "output_type": "display_data"
    }
   ],
   "source": [
    "fig, ax = plt.subplots(figsize=(8, 8))\n",
    "\n",
    "# Plot horizontal bar graph\n",
    "clean_tweets_no_urls.sort_values(by='count').plot.barh(x='words',\n",
    "                      y='count',\n",
    "                      ax=ax,\n",
    "                      color=\"purple\")\n",
    "\n",
    "ax.set_title(\"Common Words Found in negative Tweets\")\n",
    "\n",
    "plt.show()"
   ]
  },
  {
   "cell_type": "code",
   "execution_count": 180,
   "id": "2313ca7c",
   "metadata": {},
   "outputs": [
    {
     "data": {
      "text/plain": [
       "[['morning',\n",
       "  'professional',\n",
       "  'development',\n",
       "  'video',\n",
       "  'required',\n",
       "  'teaching',\n",
       "  'new',\n",
       "  'world',\n",
       "  'ethan',\n",
       "  'mollick',\n",
       "  'asugsv',\n",
       "  'edtechsr',\n",
       "  'edtech',\n",
       "  'chatgpt',\n",
       "  'singularity'],\n",
       " ['know',\n",
       "  'chatgpt',\n",
       "  'actually',\n",
       "  'innovative',\n",
       "  'work',\n",
       "  'then',\n",
       "  'it',\n",
       "  'openai',\n",
       "  'got',\n",
       "  'crucial',\n",
       "  'thing',\n",
       "  'right',\n",
       "  'datascience',\n",
       "  'dnn',\n",
       "  'genai',\n",
       "  'chatgpt',\n",
       "  'llm',\n",
       "  'verbosity']]"
      ]
     },
     "execution_count": 180,
     "metadata": {},
     "output_type": "execute_result"
    }
   ],
   "source": [
    "# Create a list of lists containing lowercase words for each tweet\n",
    "words_in_tweet = [tweet.lower().split() for tweet in positiv.tweets]\n",
    "words_in_tweet[:2]"
   ]
  },
  {
   "cell_type": "code",
   "execution_count": 181,
   "id": "744c659f",
   "metadata": {},
   "outputs": [
    {
     "data": {
      "text/plain": [
       "[('chatgpt', 1047),\n",
       " ('openai', 200),\n",
       " ('gpt', 176),\n",
       " ('amp', 164),\n",
       " ('google', 144),\n",
       " ('artificialintelligence', 137),\n",
       " ('like', 135),\n",
       " ('microsoft', 131),\n",
       " ('generativeai', 118),\n",
       " ('use', 114),\n",
       " ('student', 91),\n",
       " ('tool', 89),\n",
       " ('new', 86),\n",
       " ('writing', 74),\n",
       " ('way', 66)]"
      ]
     },
     "execution_count": 181,
     "metadata": {},
     "output_type": "execute_result"
    }
   ],
   "source": [
    "# List of all words across tweets\n",
    "all_words_no_urls = list(itertools.chain(*words_in_tweet))\n",
    "\n",
    "# Create counter\n",
    "counts_no_urls = collections.Counter(all_words_no_urls)\n",
    "\n",
    "counts_no_urls.most_common(15)"
   ]
  },
  {
   "cell_type": "code",
   "execution_count": 182,
   "id": "fd013cfd",
   "metadata": {},
   "outputs": [],
   "source": [
    "clean_tweets_no_urls = pd.DataFrame(counts_no_urls.most_common(15),\n",
    "                             columns=['words', 'count'])"
   ]
  },
  {
   "cell_type": "code",
   "execution_count": 183,
   "id": "d8442598",
   "metadata": {},
   "outputs": [
    {
     "data": {
      "image/png": "[encoded data removed]",
      "text/plain": [
       "<Figure size 800x800 with 1 Axes>"
      ]
     },
     "metadata": {},
     "output_type": "display_data"
    }
   ],
   "source": [
    "fig, ax = plt.subplots(figsize=(8, 8))\n",
    "\n",
    "# Plot horizontal bar graph\n",
    "clean_tweets_no_urls.sort_values(by='count').plot.barh(x='words',\n",
    "                      y='count',\n",
    "                      ax=ax,\n",
    "                      color=\"purple\")\n",
    "\n",
    "ax.set_title(\"Common Words Found in positive Tweets\")\n",
    "\n",
    "plt.show()"
   ]
  },
  {
   "cell_type": "markdown",
   "id": "eacb91ce",
   "metadata": {},
   "source": [
    "## Topic extraction"
   ]
  },
  {
   "cell_type": "code",
   "execution_count": 2,
   "id": "73172695",
   "metadata": {},
   "outputs": [
    {
     "name": "stdout",
     "output_type": "stream",
     "text": [
      "Collecting transformers\n",
      "  Downloading transformers-4.29.2-py3-none-any.whl (7.1 MB)\n",
      "     ---------------------------------------- 7.1/7.1 MB 1.9 MB/s eta 0:00:00\n",
      "Requirement already satisfied: tqdm>=4.27 in c:\\users\\ajkuna seipi\\anaconda3\\lib\\site-packages (from transformers) (4.64.1)\n",
      "Collecting huggingface-hub<1.0,>=0.14.1\n",
      "  Downloading huggingface_hub-0.14.1-py3-none-any.whl (224 kB)\n",
      "     -------------------------------------- 224.5/224.5 kB 1.7 MB/s eta 0:00:00\n",
      "Requirement already satisfied: regex!=2019.12.17 in c:\\users\\ajkuna seipi\\anaconda3\\lib\\site-packages (from transformers) (2022.7.9)\n",
      "Requirement already satisfied: pyyaml>=5.1 in c:\\users\\ajkuna seipi\\anaconda3\\lib\\site-packages (from transformers) (6.0)\n",
      "Requirement already satisfied: numpy>=1.17 in c:\\users\\ajkuna seipi\\anaconda3\\lib\\site-packages (from transformers) (1.21.5)\n",
      "Requirement already satisfied: requests in c:\\users\\ajkuna seipi\\anaconda3\\lib\\site-packages (from transformers) (2.28.1)\n",
      "Requirement already satisfied: filelock in c:\\users\\ajkuna seipi\\anaconda3\\lib\\site-packages (from transformers) (3.6.0)\n",
      "Collecting tokenizers!=0.11.3,<0.14,>=0.11.1\n",
      "  Downloading tokenizers-0.13.3-cp39-cp39-win_amd64.whl (3.5 MB)\n",
      "     ---------------------------------------- 3.5/3.5 MB 2.0 MB/s eta 0:00:00\n",
      "Requirement already satisfied: packaging>=20.0 in c:\\users\\ajkuna seipi\\anaconda3\\lib\\site-packages (from transformers) (21.3)\n",
      "Requirement already satisfied: fsspec in c:\\users\\ajkuna seipi\\anaconda3\\lib\\site-packages (from huggingface-hub<1.0,>=0.14.1->transformers) (2022.7.1)\n",
      "Requirement already satisfied: typing-extensions>=3.7.4.3 in c:\\users\\ajkuna seipi\\anaconda3\\lib\\site-packages (from huggingface-hub<1.0,>=0.14.1->transformers) (4.3.0)\n",
      "Requirement already satisfied: pyparsing!=3.0.5,>=2.0.2 in c:\\users\\ajkuna seipi\\anaconda3\\lib\\site-packages (from packaging>=20.0->transformers) (3.0.9)\n",
      "Requirement already satisfied: colorama in c:\\users\\ajkuna seipi\\anaconda3\\lib\\site-packages (from tqdm>=4.27->transformers) (0.4.5)\n",
      "Requirement already satisfied: idna<4,>=2.5 in c:\\users\\ajkuna seipi\\anaconda3\\lib\\site-packages (from requests->transformers) (3.3)\n",
      "Requirement already satisfied: urllib3<1.27,>=1.21.1 in c:\\users\\ajkuna seipi\\anaconda3\\lib\\site-packages (from requests->transformers) (1.26.11)\n",
      "Requirement already satisfied: charset-normalizer<3,>=2 in c:\\users\\ajkuna seipi\\anaconda3\\lib\\site-packages (from requests->transformers) (2.0.4)\n",
      "Requirement already satisfied: certifi>=2017.4.17 in c:\\users\\ajkuna seipi\\anaconda3\\lib\\site-packages (from requests->transformers) (2022.9.24)\n",
      "Installing collected packages: tokenizers, huggingface-hub, transformers\n",
      "Successfully installed huggingface-hub-0.14.1 tokenizers-0.13.3 transformers-4.29.2\n"
     ]
    }
   ],
   "source": [
    "!pip install transformers"
   ]
  },
  {
   "cell_type": "code",
   "execution_count": 3,
   "id": "3b237172",
   "metadata": {},
   "outputs": [
    {
     "data": {
      "application/vnd.jupyter.widget-view+json": {
       "model_id": "1dd1b7b16e6049738d02ffafd0621d10",
       "version_major": 2,
       "version_minor": 0
      },
      "text/plain": [
       "Downloading (…)okenizer_config.json:   0%|          | 0.00/1.30k [00:00<?, ?B/s]"
      ]
     },
     "metadata": {},
     "output_type": "display_data"
    },
    {
     "name": "stderr",
     "output_type": "stream",
     "text": [
      "C:\\Users\\Ajkuna Seipi\\anaconda3\\lib\\site-packages\\huggingface_hub\\file_download.py:133: UserWarning: `huggingface_hub` cache-system uses symlinks by default to efficiently store duplicated files but your machine does not support them in C:\\Users\\Ajkuna Seipi\\.cache\\huggingface\\hub. Caching files will still work but in a degraded version that might require more space on your disk. This warning can be disabled by setting the `HF_HUB_DISABLE_SYMLINKS_WARNING` environment variable. For more details, see https://huggingface.co/docs/huggingface_hub/how-to-cache#limitations.\n",
      "To support symlinks on Windows, you either need to activate Developer Mode or to run Python as an administrator. In order to see activate developer mode, see this article: https://docs.microsoft.com/en-us/windows/apps/get-started/enable-your-device-for-development\n",
      "  warnings.warn(message)\n"
     ]
    },
    {
     "data": {
      "application/vnd.jupyter.widget-view+json": {
       "model_id": "9914065624ee44a9844990a1634a9ef5",
       "version_major": 2,
       "version_minor": 0
      },
      "text/plain": [
       "Downloading (…)olve/main/vocab.json:   0%|          | 0.00/798k [00:00<?, ?B/s]"
      ]
     },
     "metadata": {},
     "output_type": "display_data"
    },
    {
     "data": {
      "application/vnd.jupyter.widget-view+json": {
       "model_id": "038cef83272f46df82d5abfcccd8c1bb",
       "version_major": 2,
       "version_minor": 0
      },
      "text/plain": [
       "Downloading (…)olve/main/merges.txt:   0%|          | 0.00/456k [00:00<?, ?B/s]"
      ]
     },
     "metadata": {},
     "output_type": "display_data"
    },
    {
     "data": {
      "application/vnd.jupyter.widget-view+json": {
       "model_id": "c3b966ed0fb54e4c9beacae3386ea37f",
       "version_major": 2,
       "version_minor": 0
      },
      "text/plain": [
       "Downloading (…)/main/tokenizer.json:   0%|          | 0.00/1.36M [00:00<?, ?B/s]"
      ]
     },
     "metadata": {},
     "output_type": "display_data"
    },
    {
     "data": {
      "application/vnd.jupyter.widget-view+json": {
       "model_id": "53ff83ef50264833a31dc24e0edb9bc4",
       "version_major": 2,
       "version_minor": 0
      },
      "text/plain": [
       "Downloading (…)cial_tokens_map.json:   0%|          | 0.00/239 [00:00<?, ?B/s]"
      ]
     },
     "metadata": {},
     "output_type": "display_data"
    },
    {
     "data": {
      "application/vnd.jupyter.widget-view+json": {
       "model_id": "7512685652924241a2802733ed8d4aa1",
       "version_major": 2,
       "version_minor": 0
      },
      "text/plain": [
       "Downloading (…)lve/main/config.json:   0%|          | 0.00/1.88k [00:00<?, ?B/s]"
      ]
     },
     "metadata": {},
     "output_type": "display_data"
    },
    {
     "data": {
      "application/vnd.jupyter.widget-view+json": {
       "model_id": "1a81ee49c1264e0480fb7019b26c1e4b",
       "version_major": 2,
       "version_minor": 0
      },
      "text/plain": [
       "Downloading pytorch_model.bin:   0%|          | 0.00/499M [00:00<?, ?B/s]"
      ]
     },
     "metadata": {},
     "output_type": "display_data"
    },
    {
     "name": "stdout",
     "output_type": "stream",
     "text": [
      "news_&_social_concern\n",
      "sports\n"
     ]
    }
   ],
   "source": [
    "from transformers import AutoModelForSequenceClassification, TFAutoModelForSequenceClassification\n",
    "from transformers import AutoTokenizer\n",
    "import numpy as np\n",
    "from scipy.special import expit\n",
    "\n",
    "    \n",
    "MODEL = f\"cardiffnlp/tweet-topic-21-multi\"\n",
    "tokenizer = AutoTokenizer.from_pretrained(MODEL)\n",
    "\n",
    "# PT\n",
    "model = AutoModelForSequenceClassification.from_pretrained(MODEL)\n",
    "class_mapping = model.config.id2label\n",
    "\n",
    "text = \"It is great to see athletes promoting awareness for climate change.\"\n",
    "tokens = tokenizer(text, return_tensors='pt')\n",
    "output = model(**tokens)\n",
    "\n",
    "scores = output[0][0].detach().numpy()\n",
    "scores = expit(scores)\n",
    "predictions = (scores >= 0.5) * 1\n",
    "\n",
    "\n",
    "# TF\n",
    "#tf_model = TFAutoModelForSequenceClassification.from_pretrained(MODEL)\n",
    "#class_mapping = tf_model.config.id2label\n",
    "#text = \"It is great to see athletes promoting awareness for climate change.\"\n",
    "#tokens = tokenizer(text, return_tensors='tf')\n",
    "#output = tf_model(**tokens)\n",
    "#scores = output[0][0]\n",
    "#scores = expit(scores)\n",
    "#predictions = (scores >= 0.5) * 1\n",
    "\n",
    "# Map to classes\n",
    "for i in range(len(predictions)):\n",
    "    if predictions[i]:\n",
    "        print(class_mapping[i])"
   ]
  },
  {
   "cell_type": "markdown",
   "id": "d704a2c5",
   "metadata": {},
   "source": [
    "## Emotions analysis"
   ]
  },
  {
   "cell_type": "code",
   "execution_count": 1,
   "id": "c338acd1",
   "metadata": {},
   "outputs": [],
   "source": [
    "import pandas as pd\n",
    "\n",
    "df = pd.read_csv('datasets/sentiment_scientists2.csv', usecols=['user_name', 'user_description','tweets','label', 'date'])"
   ]
  },
  {
   "cell_type": "code",
   "execution_count": 2,
   "id": "c0e22cc1",
   "metadata": {},
   "outputs": [
    {
     "data": {
      "text/html": [
       "<div>\n",
       "<style scoped>\n",
       "    .dataframe tbody tr th:only-of-type {\n",
       "        vertical-align: middle;\n",
       "    }\n",
       "\n",
       "    .dataframe tbody tr th {\n",
       "        vertical-align: top;\n",
       "    }\n",
       "\n",
       "    .dataframe thead th {\n",
       "        text-align: right;\n",
       "    }\n",
       "</style>\n",
       "<table border=\"1\" class=\"dataframe\">\n",
       "  <thead>\n",
       "    <tr style=\"text-align: right;\">\n",
       "      <th></th>\n",
       "      <th>user_name</th>\n",
       "      <th>user_description</th>\n",
       "      <th>tweets</th>\n",
       "      <th>label</th>\n",
       "      <th>date</th>\n",
       "    </tr>\n",
       "  </thead>\n",
       "  <tbody>\n",
       "    <tr>\n",
       "      <th>0</th>\n",
       "      <td>michael phd</td>\n",
       "      <td>chief strategist pro senior research fellow da...</td>\n",
       "      <td>know chatgpt actually innovative work then it ...</td>\n",
       "      <td>positiv</td>\n",
       "      <td>2023-04-26 09:42:01+00:00</td>\n",
       "    </tr>\n",
       "    <tr>\n",
       "      <th>1</th>\n",
       "      <td>jason moore phd</td>\n",
       "      <td>chair department computational biomedicine ced...</td>\n",
       "      <td>language model phrase show polluting web chatgpt</td>\n",
       "      <td>negativ</td>\n",
       "      <td>2023-04-25 22:25:37+00:00</td>\n",
       "    </tr>\n",
       "    <tr>\n",
       "      <th>2</th>\n",
       "      <td>michael phd</td>\n",
       "      <td>chief strategist pro senior research fellow da...</td>\n",
       "      <td>know chatgpt actually innovative work then it ...</td>\n",
       "      <td>positiv</td>\n",
       "      <td>2023-04-25 19:42:00+00:00</td>\n",
       "    </tr>\n",
       "    <tr>\n",
       "      <th>3</th>\n",
       "      <td>jennifer kwan phd</td>\n",
       "      <td>physician scientist cardiologist yale working ...</td>\n",
       "      <td>bchesky airbnb discus navigating pandemic deci...</td>\n",
       "      <td>neutral</td>\n",
       "      <td>2023-04-25 18:31:36+00:00</td>\n",
       "    </tr>\n",
       "    <tr>\n",
       "      <th>4</th>\n",
       "      <td>michael phd</td>\n",
       "      <td>chief strategist pro senior research fellow da...</td>\n",
       "      <td>know chatgpt actually innovative work then it ...</td>\n",
       "      <td>positiv</td>\n",
       "      <td>2023-04-25 05:42:01+00:00</td>\n",
       "    </tr>\n",
       "    <tr>\n",
       "      <th>...</th>\n",
       "      <td>...</td>\n",
       "      <td>...</td>\n",
       "      <td>...</td>\n",
       "      <td>...</td>\n",
       "      <td>...</td>\n",
       "    </tr>\n",
       "    <tr>\n",
       "      <th>170</th>\n",
       "      <td>tommaso urli phd</td>\n",
       "      <td>optimisation scientist migrant programmer lear...</td>\n",
       "      <td>diegobetto brought chatgpt</td>\n",
       "      <td>negativ</td>\n",
       "      <td>2022-12-06 07:49:52+00:00</td>\n",
       "    </tr>\n",
       "    <tr>\n",
       "      <th>171</th>\n",
       "      <td>matt tenan phd atc</td>\n",
       "      <td>physiologist data scientist program director h...</td>\n",
       "      <td>nope chatgpt drank koolaid home chatbot youre ...</td>\n",
       "      <td>negativ</td>\n",
       "      <td>2022-12-05 23:41:09+00:00</td>\n",
       "    </tr>\n",
       "    <tr>\n",
       "      <th>172</th>\n",
       "      <td>matt tenan phd atc</td>\n",
       "      <td>physiologist data scientist program director h...</td>\n",
       "      <td>citation chatgpt</td>\n",
       "      <td>negativ</td>\n",
       "      <td>2022-12-05 23:25:05+00:00</td>\n",
       "    </tr>\n",
       "    <tr>\n",
       "      <th>173</th>\n",
       "      <td>phd hire</td>\n",
       "      <td>scientist giving free career advice hope acade...</td>\n",
       "      <td>academia ready chatgpt student writing paper t...</td>\n",
       "      <td>positiv</td>\n",
       "      <td>2022-12-05 22:51:26+00:00</td>\n",
       "    </tr>\n",
       "    <tr>\n",
       "      <th>174</th>\n",
       "      <td>justyna hampel phd</td>\n",
       "      <td>postdoctoral research scientist stockholm univ...</td>\n",
       "      <td>doesn enjoy nice little poem cycle chatgpt nit...</td>\n",
       "      <td>positiv</td>\n",
       "      <td>2022-12-05 19:01:33+00:00</td>\n",
       "    </tr>\n",
       "  </tbody>\n",
       "</table>\n",
       "<p>175 rows × 5 columns</p>\n",
       "</div>"
      ],
      "text/plain": [
       "              user_name                                   user_description  \\\n",
       "0           michael phd  chief strategist pro senior research fellow da...   \n",
       "1       jason moore phd  chair department computational biomedicine ced...   \n",
       "2           michael phd  chief strategist pro senior research fellow da...   \n",
       "3     jennifer kwan phd  physician scientist cardiologist yale working ...   \n",
       "4           michael phd  chief strategist pro senior research fellow da...   \n",
       "..                  ...                                                ...   \n",
       "170    tommaso urli phd  optimisation scientist migrant programmer lear...   \n",
       "171  matt tenan phd atc  physiologist data scientist program director h...   \n",
       "172  matt tenan phd atc  physiologist data scientist program director h...   \n",
       "173            phd hire  scientist giving free career advice hope acade...   \n",
       "174  justyna hampel phd  postdoctoral research scientist stockholm univ...   \n",
       "\n",
       "                                                tweets    label  \\\n",
       "0    know chatgpt actually innovative work then it ...  positiv   \n",
       "1     language model phrase show polluting web chatgpt  negativ   \n",
       "2    know chatgpt actually innovative work then it ...  positiv   \n",
       "3    bchesky airbnb discus navigating pandemic deci...  neutral   \n",
       "4    know chatgpt actually innovative work then it ...  positiv   \n",
       "..                                                 ...      ...   \n",
       "170                         diegobetto brought chatgpt  negativ   \n",
       "171  nope chatgpt drank koolaid home chatbot youre ...  negativ   \n",
       "172                                   citation chatgpt  negativ   \n",
       "173  academia ready chatgpt student writing paper t...  positiv   \n",
       "174  doesn enjoy nice little poem cycle chatgpt nit...  positiv   \n",
       "\n",
       "                          date  \n",
       "0    2023-04-26 09:42:01+00:00  \n",
       "1    2023-04-25 22:25:37+00:00  \n",
       "2    2023-04-25 19:42:00+00:00  \n",
       "3    2023-04-25 18:31:36+00:00  \n",
       "4    2023-04-25 05:42:01+00:00  \n",
       "..                         ...  \n",
       "170  2022-12-06 07:49:52+00:00  \n",
       "171  2022-12-05 23:41:09+00:00  \n",
       "172  2022-12-05 23:25:05+00:00  \n",
       "173  2022-12-05 22:51:26+00:00  \n",
       "174  2022-12-05 19:01:33+00:00  \n",
       "\n",
       "[175 rows x 5 columns]"
      ]
     },
     "execution_count": 2,
     "metadata": {},
     "output_type": "execute_result"
    }
   ],
   "source": [
    "df"
   ]
  },
  {
   "cell_type": "code",
   "execution_count": 3,
   "id": "4e99d62f",
   "metadata": {},
   "outputs": [
    {
     "data": {
      "application/vnd.jupyter.widget-view+json": {
       "model_id": "674f75146997401eb4c3da913916a693",
       "version_major": 2,
       "version_minor": 0
      },
      "text/plain": [
       "Downloading (…)okenizer_config.json:   0%|          | 0.00/25.0 [00:00<?, ?B/s]"
      ]
     },
     "metadata": {},
     "output_type": "display_data"
    },
    {
     "name": "stderr",
     "output_type": "stream",
     "text": [
      "C:\\Users\\Ajkuna Seipi\\anaconda3\\lib\\site-packages\\huggingface_hub\\file_download.py:133: UserWarning: `huggingface_hub` cache-system uses symlinks by default to efficiently store duplicated files but your machine does not support them in C:\\Users\\Ajkuna Seipi\\.cache\\huggingface\\hub. Caching files will still work but in a degraded version that might require more space on your disk. This warning can be disabled by setting the `HF_HUB_DISABLE_SYMLINKS_WARNING` environment variable. For more details, see https://huggingface.co/docs/huggingface_hub/how-to-cache#limitations.\n",
      "To support symlinks on Windows, you either need to activate Developer Mode or to run Python as an administrator. In order to see activate developer mode, see this article: https://docs.microsoft.com/en-us/windows/apps/get-started/enable-your-device-for-development\n",
      "  warnings.warn(message)\n"
     ]
    },
    {
     "data": {
      "application/vnd.jupyter.widget-view+json": {
       "model_id": "33a85011987749a999ff489fb8736afc",
       "version_major": 2,
       "version_minor": 0
      },
      "text/plain": [
       "Downloading (…)olve/main/vocab.json:   0%|          | 0.00/798k [00:00<?, ?B/s]"
      ]
     },
     "metadata": {},
     "output_type": "display_data"
    },
    {
     "data": {
      "application/vnd.jupyter.widget-view+json": {
       "model_id": "716f02b1a0a345cdbc9de4676aec4a1a",
       "version_major": 2,
       "version_minor": 0
      },
      "text/plain": [
       "Downloading (…)olve/main/merges.txt:   0%|          | 0.00/456k [00:00<?, ?B/s]"
      ]
     },
     "metadata": {},
     "output_type": "display_data"
    },
    {
     "data": {
      "application/vnd.jupyter.widget-view+json": {
       "model_id": "994983e6b7b34ef8bbf74933adb579d4",
       "version_major": 2,
       "version_minor": 0
      },
      "text/plain": [
       "Downloading (…)cial_tokens_map.json:   0%|          | 0.00/239 [00:00<?, ?B/s]"
      ]
     },
     "metadata": {},
     "output_type": "display_data"
    },
    {
     "data": {
      "application/vnd.jupyter.widget-view+json": {
       "model_id": "6b32e374c34a4979ab70af8998a57529",
       "version_major": 2,
       "version_minor": 0
      },
      "text/plain": [
       "Downloading (…)lve/main/config.json:   0%|          | 0.00/1.72k [00:00<?, ?B/s]"
      ]
     },
     "metadata": {},
     "output_type": "display_data"
    },
    {
     "data": {
      "application/vnd.jupyter.widget-view+json": {
       "model_id": "6b3f0d6d00ca497d9a1db69bfd3c3fcf",
       "version_major": 2,
       "version_minor": 0
      },
      "text/plain": [
       "Downloading tf_model.h5:   0%|          | 0.00/501M [00:00<?, ?B/s]"
      ]
     },
     "metadata": {},
     "output_type": "display_data"
    },
    {
     "name": "stderr",
     "output_type": "stream",
     "text": [
      "All model checkpoint layers were used when initializing TFRobertaForSequenceClassification.\n",
      "\n",
      "All the layers of TFRobertaForSequenceClassification were initialized from the model checkpoint at arpanghoshal/EmoRoBERTa.\n",
      "If your task is similar to the task the model of the checkpoint was trained on, you can already use TFRobertaForSequenceClassification for predictions without further training.\n",
      "All model checkpoint layers were used when initializing TFRobertaForSequenceClassification.\n",
      "\n",
      "All the layers of TFRobertaForSequenceClassification were initialized from the model checkpoint at arpanghoshal/EmoRoBERTa.\n",
      "If your task is similar to the task the model of the checkpoint was trained on, you can already use TFRobertaForSequenceClassification for predictions without further training.\n"
     ]
    }
   ],
   "source": [
    "from transformers import RobertaTokenizerFast, TFRobertaForSequenceClassification, pipeline\n",
    "\n",
    "tokenizer = RobertaTokenizerFast.from_pretrained(\"arpanghoshal/EmoRoBERTa\")\n",
    "model = TFRobertaForSequenceClassification.from_pretrained(\"arpanghoshal/EmoRoBERTa\")\n",
    "\n",
    "emotion = pipeline('sentiment-analysis', \n",
    "                    model='arpanghoshal/EmoRoBERTa')"
   ]
  },
  {
   "cell_type": "code",
   "execution_count": 4,
   "id": "07e4e9b4",
   "metadata": {},
   "outputs": [],
   "source": [
    "text = list(df.tweets)"
   ]
  },
  {
   "cell_type": "code",
   "execution_count": 5,
   "id": "3d40505e",
   "metadata": {},
   "outputs": [
    {
     "name": "stdout",
     "output_type": "stream",
     "text": [
      "Sentence: know chatgpt actually innovative work then it openai got crucial thing right datascience dnn genai chatgpt llm verbosity, Emotions: [{'label': 'neutral', 'score': 0.8959972262382507}]\n",
      "None\n",
      "Sentence: language model phrase show polluting web chatgpt, Emotions: [{'label': 'neutral', 'score': 0.9265091419219971}]\n",
      "None\n",
      "Sentence: know chatgpt actually innovative work then it openai got crucial thing right datascience dnn genai chatgpt llm verbosity, Emotions: [{'label': 'neutral', 'score': 0.8959972262382507}]\n",
      "None\n",
      "Sentence: bchesky airbnb discus navigating pandemic decisive amp relying principle initially lost business pandemic outset chatgpt significance btn internet amp industrial revolution like putting nuclear power everyone hand, Emotions: [{'label': 'neutral', 'score': 0.9685759544372559}]\n",
      "None\n",
      "Sentence: know chatgpt actually innovative work then it openai got crucial thing right datascience dnn genai chatgpt llm verbosity, Emotions: [{'label': 'neutral', 'score': 0.8959972262382507}]\n",
      "None\n",
      "Sentence: know chatgpt actually innovative work then it openai got crucial thing right datascience dnn genai chatgpt llm verbosity, Emotions: [{'label': 'neutral', 'score': 0.8959972262382507}]\n",
      "None\n",
      "Sentence: know chatgpt actually innovative work then it openai got crucial thing right datascience dnn genai chatgpt llm verbosity, Emotions: [{'label': 'neutral', 'score': 0.8959972262382507}]\n",
      "None\n",
      "Sentence: chatgpt know local cuisine food chatgpt losangeles, Emotions: [{'label': 'neutral', 'score': 0.9956597685813904}]\n",
      "None\n",
      "Sentence: like meet person month join outperform pro denver dnn genai llm outperform prosai airline aviation travel chatgpt generativeai, Emotions: [{'label': 'neutral', 'score': 0.9949156045913696}]\n",
      "None\n",
      "Sentence: like meet person month join outperform pro denver dnn genai llm outperform prosai airline aviation travel chatgpt generativeai, Emotions: [{'label': 'neutral', 'score': 0.9949156045913696}]\n",
      "None\n",
      "Sentence: like meet person month join outperform pro denver dnn genai llm outperform prosai airline aviation travel chatgpt generativeai, Emotions: [{'label': 'neutral', 'score': 0.9949156045913696}]\n",
      "None\n",
      "Sentence: like meet person month join outperform pro denver dnn genai llm outperform prosai airline aviation travel chatgpt generativeai, Emotions: [{'label': 'neutral', 'score': 0.9949156045913696}]\n",
      "None\n",
      "Sentence: like meet person month join outperform pro denver dnn genai llm outperform prosai airline aviation travel chatgpt generativeai, Emotions: [{'label': 'neutral', 'score': 0.9949156045913696}]\n",
      "None\n",
      "Sentence: like meet person month join outperform pro denver dnn genai llm outperform prosai airline aviation travel chatgpt generativeai, Emotions: [{'label': 'neutral', 'score': 0.9949156045913696}]\n",
      "None\n",
      "Sentence: like meet person month join outperform pro denver dnn genai llm outperform prosai airline aviation travel chatgpt generativeai, Emotions: [{'label': 'neutral', 'score': 0.9949156045913696}]\n",
      "None\n",
      "Sentence: like meet person month join outperform pro denver dnn genai llm outperform prosai airline aviation travel chatgpt generativeai, Emotions: [{'label': 'neutral', 'score': 0.9949156045913696}]\n",
      "None\n",
      "Sentence: chatgpt like hiring junior developer intern autogpt team junior developersinterns entrepreneurmindset, Emotions: [{'label': 'neutral', 'score': 0.9954333901405334}]\n",
      "None\n",
      "Sentence: nice piece decade research chatgpt amp reminder science funding nsf amp nih important chatgpt llm gpt, Emotions: [{'label': 'admiration', 'score': 0.9684861898422241}]\n",
      "None\n",
      "Sentence: like meet person month join outperform pro denver dnn genai llm outperform prosai airline aviation travel chatgpt generativeai, Emotions: [{'label': 'neutral', 'score': 0.9949156045913696}]\n",
      "None\n",
      "Sentence: dbrugger jamesclear george orwell like warning era chatgpt, Emotions: [{'label': 'neutral', 'score': 0.9974952936172485}]\n",
      "None\n",
      "Sentence: tprstly tprstly sound like amazing demo possibility chatgpt plugins endless it exciting transform way interact technology looking forward seeing innovation space, Emotions: [{'label': 'excitement', 'score': 0.7727829217910767}]\n",
      "None\n",
      "Sentence: johnnosta potential significantly influence human understanding genius technology like gpt gpt chatgpt continue advance able perform task solve problem thought sole domain human genius can, Emotions: [{'label': 'neutral', 'score': 0.7807077765464783}]\n",
      "None\n",
      "Sentence: khuloodalmani khuloodalmani interesting topic continue advance it important remember it replacing human enhancing capability exciting time ahead chatgpt development machinelearning cloudcomputing robotics, Emotions: [{'label': 'realization', 'score': 0.8091407418251038}]\n",
      "None\n",
      "Sentence: cybernews cybernews it great chatgpt gaining recognition remarkable capability answering query potential cybersecurity truly impressive looking forward seeing advancement openai, Emotions: [{'label': 'admiration', 'score': 0.9947370886802673}]\n",
      "None\n",
      "Sentence: damn gpt going naming factor efa, Emotions: [{'label': 'neutral', 'score': 0.993366539478302}]\n",
      "None\n",
      "Sentence: chatgpt consumes staggering water chatgpt, Emotions: [{'label': 'neutral', 'score': 0.9953219294548035}]\n",
      "None\n",
      "Sentence: matchaman thank sharing exciting preview autogpt babyagi it great endless possibility nocode development amazing work look forward seeing yoheinakajima chatgpt, Emotions: [{'label': 'admiration', 'score': 0.676994264125824}]\n",
      "None\n",
      "Sentence: johnnosta johnnosta couldnt agree more it crucial consider cognitive burden physician medical student integrate new technology like gpt gpt let work solution benefit patient provider, Emotions: [{'label': 'disapproval', 'score': 0.8673208951950073}]\n",
      "None\n",
      "Sentence: exercise going explore soon thought word document chatgpt, Emotions: [{'label': 'neutral', 'score': 0.9658465385437012}]\n",
      "None\n",
      "Sentence: chatgpt account writing different recommendation letter academictwitter, Emotions: [{'label': 'neutral', 'score': 0.9972084164619446}]\n",
      "None\n",
      "Sentence: asked autonomous destroy humanity happened motherboard chatgpt artificialintelligence ethicalai web, Emotions: [{'label': 'neutral', 'score': 0.9967448711395264}]\n",
      "None\n",
      "Sentence: standard model particle physic free parameter gpt trillion gpt model information encoding jlprendki artificialintelligence chatgpt, Emotions: [{'label': 'neutral', 'score': 0.9973478317260742}]\n",
      "None\n",
      "Sentence: today related psa don bet chatgpt study show language ai irrational decision nextgov chatgpt todaysairelatedpsa, Emotions: [{'label': 'neutral', 'score': 0.9235349297523499}]\n",
      "None\n",
      "Sentence: access information remodelled dawn chatgpt, Emotions: [{'label': 'neutral', 'score': 0.9976481795310974}]\n",
      "None\n",
      "Sentence: chatgpt people think look like reality hype amp misinformation day, Emotions: [{'label': 'neutral', 'score': 0.9966546297073364}]\n",
      "None\n",
      "Sentence: well chatgpt know that, Emotions: [{'label': 'neutral', 'score': 0.38908714056015015}]\n",
      "None\n",
      "Sentence: large language model shrink smaller model trained data challenge dominance chatgpt gpt company llm chatgpt gpt artificialintelligence, Emotions: [{'label': 'neutral', 'score': 0.9958872199058533}]\n",
      "None\n",
      "Sentence: great list tool especially recommend try supernormal aipowered tool help create meeting note automatically seenapse allows generate hundred divergent creative idea chatgpt gpt gpt, Emotions: [{'label': 'admiration', 'score': 0.9381901025772095}]\n",
      "None\n",
      "Sentence: ceo openai forthcoming fear technology company developing it time pause cybersecurity futurist ethicalai openai chatgpt innovation, Emotions: [{'label': 'neutral', 'score': 0.9780138731002808}]\n",
      "None\n",
      "Sentence: gpt medical us already yes how good chatgpt gpt healthforall, Emotions: [{'label': 'admiration', 'score': 0.5969189405441284}]\n",
      "None\n",
      "Sentence: introducing codelingo aipowered programming language translator built shiny openai chatgpt goodbye coding language barrier try now coding programming rstats, Emotions: [{'label': 'neutral', 'score': 0.9945598244667053}]\n",
      "None\n",
      "Sentence: pentagon experiment ai like chatgpt don trust yet dod exai chief chatgpt generativeai dod cybersecurity aiethics idca international data center authority, Emotions: [{'label': 'disapproval', 'score': 0.6216778755187988}]\n",
      "None\n"
     ]
    },
    {
     "name": "stdout",
     "output_type": "stream",
     "text": [
      "Sentence: pentagon experiment ai like chatgpt don trust yet dod exai chief chatgpt generativeai dod cybersecurity aiethics, Emotions: [{'label': 'disapproval', 'score': 0.7608659267425537}]\n",
      "None\n",
      "Sentence: rajeevksingla atanas devkotahp hiteshc sivasai rupeshg chinascience drdoindia proffeynman chatgpt trusted factual information language model science model useful generating humanlike text, Emotions: [{'label': 'neutral', 'score': 0.9935321807861328}]\n",
      "None\n",
      "Sentence: from stanford ecosystem llm theomitsa artificialintelligence generativeai chatgpt betamoroney margaretsiegien khuloodalmani naullyn avrohomg amalmerzouk albertoemachado kanezadiane asokantelecom, Emotions: [{'label': 'neutral', 'score': 0.9911082983016968}]\n",
      "None\n",
      "Sentence: how uber predicts ride eta deeplearning sonumonika artificialintelligence generativeai chatgpt betamoroney margaretsiegien khuloodalmani naullyn avrohomg amalmerzouk albertoemachado kanezadiane asokantelecom anandnarang mvollmer, Emotions: [{'label': 'neutral', 'score': 0.9944114089012146}]\n",
      "None\n",
      "Sentence: how uber predicts ride eta deeplearning sonumonika artificialintelligence generativeai chatgpt betamoroney margaretsiegien khuloodalmani naullyn avrohomg amalmerzouk albertoemachado kanezadiane asokantelecom anandnarang mvollmer, Emotions: [{'label': 'neutral', 'score': 0.9944114089012146}]\n",
      "None\n",
      "Sentence: look like new dont google symptom dont chatgpt symptom, Emotions: [{'label': 'neutral', 'score': 0.831662654876709}]\n",
      "None\n",
      "Sentence: chatgpt suddenly got stuck started typing line again, Emotions: [{'label': 'neutral', 'score': 0.9665088653564453}]\n",
      "None\n",
      "Sentence: opinion matter time search engine dead google pivot late openai chatgpt artificialintelligence, Emotions: [{'label': 'neutral', 'score': 0.9977788329124451}]\n",
      "None\n",
      "Sentence: casualty resulting wide spread use likely innovation education agree paranoid openai chatgpt gpt autogpt, Emotions: [{'label': 'neutral', 'score': 0.9898120760917664}]\n",
      "None\n",
      "Sentence: casualty wide spread use likely innovation education agree paranoid openai chatgpt gpt autogpt, Emotions: [{'label': 'neutral', 'score': 0.9832029342651367}]\n",
      "None\n",
      "Sentence: catgpt world freaking talking million cat pet worldwide catgpt advanced chatgpt cat genetic similarity human cat brain million neuron amp structure similar human brain, Emotions: [{'label': 'neutral', 'score': 0.9865646362304688}]\n",
      "None\n",
      "Sentence: boy amazing work translating code python chatgpt, Emotions: [{'label': 'admiration', 'score': 0.9926082491874695}]\n",
      "None\n",
      "Sentence: want version chatgpt want generate video prompt chatgpt gpt gpt, Emotions: [{'label': 'neutral', 'score': 0.6906272172927856}]\n",
      "None\n",
      "Sentence: recent llm gpt trained historical investment data automateprovide scoring based metric for assessing startup decision making process objective transparent everyone startup chatgpt investmentnews, Emotions: [{'label': 'neutral', 'score': 0.9915163516998291}]\n",
      "None\n",
      "Sentence: chatgpt help patient mental heal issue let dive advanced language model gamechanger providing support mental health patient stay tuned chatgpt mentalhealthsupport, Emotions: [{'label': 'caring', 'score': 0.5398182272911072}]\n",
      "None\n",
      "Sentence: fahd it truly remarkable artificial intelligence revolutionizing government service like before excited impact saudi gov gpt efficiency user experience chatgpt gpt openai, Emotions: [{'label': 'excitement', 'score': 0.9695379137992859}]\n",
      "None\n",
      "Sentence: wow impressed chatgpt improve scientific writing screen writing draft clarity readability submitting review publication game changer researcher struggle diction vocabulary chatgpt, Emotions: [{'label': 'admiration', 'score': 0.9921916127204895}]\n",
      "None\n",
      "Sentence: finally decided surrender chatgpt writes way better code chatgpt, Emotions: [{'label': 'neutral', 'score': 0.9820600748062134}]\n",
      "None\n",
      "Sentence: bartender stared blankly monk leaned whispered dont worry he working theory drinktivity chatgpt aihumor, Emotions: [{'label': 'neutral', 'score': 0.9592136144638062}]\n",
      "None\n",
      "Sentence: chatgpt like friend answer everything instead opinion spews obscure trivia dad joke mean it like having personal game host prize money chatgpt aihumor, Emotions: [{'label': 'neutral', 'score': 0.9968084692955017}]\n",
      "None\n",
      "Sentence: bad response ill chatgpt, Emotions: [{'label': 'sadness', 'score': 0.7753210663795471}]\n",
      "None\n",
      "Sentence: successful public seminar yearlong running seminar series ketil len time gemini center iot ntnu unioslo sintef what effect machine learning profession chatgpt, Emotions: [{'label': 'neutral', 'score': 0.8057416081428528}]\n",
      "None\n",
      "Sentence: replace you person will come sharpen aiml literacy leverage well work manage team amp project effectively machinelearning datascience datascientist ssl genai chatgpt llm, Emotions: [{'label': 'neutral', 'score': 0.9955867528915405}]\n",
      "None\n",
      "Sentence: social medium platform additional time hand run account chatgpt, Emotions: [{'label': 'neutral', 'score': 0.9958756566047668}]\n",
      "None\n",
      "Sentence: chatgpt understand language space step agi understand visual space innovation help business read datascientist ssl deeplearning dnn genai chatgpt llm, Emotions: [{'label': 'neutral', 'score': 0.9948299527168274}]\n",
      "None\n",
      "Sentence: spy agency gchq dont feed llm sensitive corporate data including chatgpt saying opening world potential pain correctly managed gosh look like bot spilled plan staffer, Emotions: [{'label': 'neutral', 'score': 0.9944939017295837}]\n",
      "None\n",
      "Sentence: machine learning takeaway meta deepmind conference morocco part datascience datascientist ssl neuralnetwork deeplearning dnn genai chatgpt llm techinnov africa morocco pro prosai, Emotions: [{'label': 'neutral', 'score': 0.996502161026001}]\n",
      "None\n",
      "Sentence: ready meet chat gpt clone tidal wave bot way chatgpt llm chatbots, Emotions: [{'label': 'neutral', 'score': 0.994828999042511}]\n",
      "None\n",
      "Sentence: chatgpt airelated tool sound scary don concrete regulation place safeguard appropriately awe technology research well truly life changing writing script omg, Emotions: [{'label': 'surprise', 'score': 0.9632638096809387}]\n",
      "None\n",
      "Sentence: night asked chatgpt write poem mriguided high intensity focused ultrasound hifu essentialtremor style shakespeare amp wrote pretty spot dont think pennnsg pennmdforum essentialtremor fusfoundation insightec, Emotions: [{'label': 'neutral', 'score': 0.9933433532714844}]\n",
      "None\n",
      "Sentence: disruptive technology chatgpt trump all it scary very very, Emotions: [{'label': 'fear', 'score': 0.9846490025520325}]\n",
      "None\n",
      "Sentence: lesley stahl speaks brad smith president microsoft emerging industry artificial intelligence system people conversation with minute news chatgpt, Emotions: [{'label': 'neutral', 'score': 0.997338593006134}]\n",
      "None\n",
      "Sentence: hitenmadhani tried chatgpt prompt poem flooded car scientist, Emotions: [{'label': 'neutral', 'score': 0.9968495965003967}]\n",
      "None\n",
      "Sentence: explanation dip weekend google trend chatgpt, Emotions: [{'label': 'neutral', 'score': 0.9979743361473083}]\n",
      "None\n",
      "Sentence: openai open chatgpt floodgate dirtcheap api chatgpt released wed gpt turbo offered token word openai say cheaper previous gpt model this lossleader lock competitor, Emotions: [{'label': 'neutral', 'score': 0.9967100620269775}]\n",
      "None\n",
      "Sentence: anyscale bolster ray superscalable framework train chatgpt, Emotions: [{'label': 'neutral', 'score': 0.9969885945320129}]\n",
      "None\n",
      "Sentence: asked chatgpt new resume postdoc mit hopkins degree national award canada lol, Emotions: [{'label': 'amusement', 'score': 0.9796930551528931}]\n",
      "None\n",
      "Sentence: tandoori pizza dublin california reported shilpi dewan linkedin chatgpt desihumor desi indianstreetfood, Emotions: [{'label': 'neutral', 'score': 0.9929252862930298}]\n",
      "None\n",
      "Sentence: chatgpt ive seen advice best output write long amp detailed prompt thats great youre working space beginner tend use simple prompt response ask modification amp repeat needed you, Emotions: [{'label': 'admiration', 'score': 0.9919454455375671}]\n",
      "None\n",
      "Sentence: emilymbender kweintraub extremely alarming like chatgpt parroting pharma propaganda argue diet exercise best diabetes mgmt prevention also free associated adverse drug event, Emotions: [{'label': 'neutral', 'score': 0.486393004655838}]\n",
      "None\n"
     ]
    },
    {
     "name": "stdout",
     "output_type": "stream",
     "text": [
      "Sentence: chronic disease management influenced plethora pharma marketing it learning web chatgpt tell best treatment diabetes metformin diet exercise healthy behavior, Emotions: [{'label': 'neutral', 'score': 0.9978294968605042}]\n",
      "None\n",
      "Sentence: chatgpt reference suggestion article give citation totally awesome article exist internet happened twice article anybody getting this chatgpt making shit weve come troll, Emotions: [{'label': 'admiration', 'score': 0.9908876419067383}]\n",
      "None\n",
      "Sentence: great discussion declangmurphy renueapen wanderinggu guonc takehome hospital admin billers funders run task chatgpt probably mean task worth assigning, Emotions: [{'label': 'admiration', 'score': 0.8857916593551636}]\n",
      "None\n",
      "Sentence: promising chatgpt generativeai definitely aidtool ignored use caution adequate humanaugmentation key mantra military usage, Emotions: [{'label': 'neutral', 'score': 0.6374111175537109}]\n",
      "None\n",
      "Sentence: holy smoke discovered chatgpt, Emotions: [{'label': 'neutral', 'score': 0.989601194858551}]\n",
      "None\n",
      "Sentence: academictwitter ive confession ive chatgpt write recommendation student academia, Emotions: [{'label': 'neutral', 'score': 0.9980297684669495}]\n",
      "None\n",
      "Sentence: amazon warns employee share confidential information chatgpt seeing case answer closely match existing material inside company snippet text generated openais tool looked lot like company secret, Emotions: [{'label': 'neutral', 'score': 0.9962822794914246}]\n",
      "None\n",
      "Sentence: share chatgpt fun love course biased now, Emotions: [{'label': 'amusement', 'score': 0.37673741579055786}]\n",
      "None\n",
      "Sentence: surprised arent device software verbal exchange chatgpt setup like chatgpt chatbot, Emotions: [{'label': 'surprise', 'score': 0.9922487735748291}]\n",
      "None\n",
      "Sentence: leo celi chatgpt amp medicine it success demonstrates shortcoming train amp evaluate med student critical thinking requires appreciation ground truth medicine continually shift amp understanding amp shift, Emotions: [{'label': 'admiration', 'score': 0.7877733707427979}]\n",
      "None\n",
      "Sentence: bing gotten good search let chat feature allows segue chatstyle search research topic scientific chat helpful reference provided statement made guess it chatgpt thats mess, Emotions: [{'label': 'approval', 'score': 0.48068809509277344}]\n",
      "None\n",
      "Sentence: chatgpt future revolution need guardrail question existence line input, Emotions: [{'label': 'neutral', 'score': 0.9970046877861023}]\n",
      "None\n",
      "Sentence: researcher investigating mysterious ability largelanguagemodels llm chatgpt gpt lamda carry task havent specifically trained perform known incontext learning airesearch llm agi aiexplainability, Emotions: [{'label': 'neutral', 'score': 0.7930425405502319}]\n",
      "None\n",
      "Sentence: assessment chemistry knowledge large language model generate code chatgpt gpt chemistry, Emotions: [{'label': 'neutral', 'score': 0.9973690509796143}]\n",
      "None\n",
      "Sentence: unbelievable imagine scope misinformation chatgpt promote academia, Emotions: [{'label': 'surprise', 'score': 0.9787407517433167}]\n",
      "None\n",
      "Sentence: are deep neural network smarter second grader while chatgpt produce convincing reasoning ability answer incorrect, Emotions: [{'label': 'neutral', 'score': 0.7442340850830078}]\n",
      "None\n",
      "Sentence: phitosh yes sir asked reference chatgpt provided reference list title author amp journal name volume like topic got application try download article simply impossible anywhere, Emotions: [{'label': 'neutral', 'score': 0.9743068814277649}]\n",
      "None\n",
      "Sentence: tested chatgpt today amp amazed outcome then searched statistic amp reference provided app google cdc pubmed google scholar amp library system guess what statts amp publication app make data, Emotions: [{'label': 'surprise', 'score': 0.8321430683135986}]\n",
      "None\n",
      "Sentence: great discussion chatgpt doesnt deep intuition trained, Emotions: [{'label': 'admiration', 'score': 0.943608820438385}]\n",
      "None\n",
      "Sentence: google train chatgpt like system verified static content large enterprise, Emotions: [{'label': 'neutral', 'score': 0.9977816939353943}]\n",
      "None\n",
      "Sentence: youre excited finally got chatgpt overload, Emotions: [{'label': 'excitement', 'score': 0.9926364421844482}]\n",
      "None\n",
      "Sentence: playing chatgpt got wondering great filter making thats barely good enough, Emotions: [{'label': 'admiration', 'score': 0.9920127987861633}]\n",
      "None\n",
      "Sentence: microsoft announced bing incorporating chatgpt google rushed launch bot bard yesterday sadly unveiling appears flavour lead balloon, Emotions: [{'label': 'sadness', 'score': 0.7490119934082031}]\n",
      "None\n",
      "Sentence: hmm think dan soon popular twitter space guest chatgpt, Emotions: [{'label': 'neutral', 'score': 0.9972240924835205}]\n",
      "None\n",
      "Sentence: people chatgpt create workout plan fitness advice openai large language model impressively presented but don seriously, Emotions: [{'label': 'neutral', 'score': 0.9654619097709656}]\n",
      "None\n",
      "Sentence: google introduces bard new chatgpt rival google ceo sundar pichai described chatgpt rival bard experimental conversational service powered google language model dialog application lamda, Emotions: [{'label': 'neutral', 'score': 0.9963983297348022}]\n",
      "None\n",
      "Sentence: technology sleep bard google response chatgpt coming soon google bard chatgpt chatbots digitalhealthcare technology, Emotions: [{'label': 'neutral', 'score': 0.994478702545166}]\n",
      "None\n",
      "Sentence: conversation chatgpt impact society bland wishy washy noncommittal thought come mind, Emotions: [{'label': 'neutral', 'score': 0.993910551071167}]\n",
      "None\n",
      "Sentence: chatgpt subjective matter expert subject matter expert good generic fafa, Emotions: [{'label': 'neutral', 'score': 0.9928879141807556}]\n",
      "None\n",
      "Sentence: not chatgpt article nope this article share practical way chatgpt marketing nextlevel obvious definitely bookmark markwschaefer, Emotions: [{'label': 'disapproval', 'score': 0.7578489184379578}]\n",
      "None\n",
      "Sentence: link noahpinions post chatgpt write blog post asks important question lie fixed time, Emotions: [{'label': 'neutral', 'score': 0.9943367838859558}]\n",
      "None\n",
      "Sentence: interesting piece polinamarinovas newsletter the profile describing view writing loved excerpt rick rubins new book chatgpt, Emotions: [{'label': 'excitement', 'score': 0.6359045505523682}]\n",
      "None\n",
      "Sentence: impact application present student chatgpt iot dprinting, Emotions: [{'label': 'neutral', 'score': 0.997787356376648}]\n",
      "None\n",
      "Sentence: glass half mostly chatgpt chatgpt, Emotions: [{'label': 'neutral', 'score': 0.9968701004981995}]\n",
      "None\n",
      "Sentence: chatgpt copilot programmer who coming top coding chatgpt copilot, Emotions: [{'label': 'neutral', 'score': 0.9965227842330933}]\n",
      "None\n",
      "Sentence: chatgpt openai save hour day use hour else thats benefiting you chatgpt openaichatgpt, Emotions: [{'label': 'caring', 'score': 0.6279745101928711}]\n",
      "None\n",
      "Sentence: chatgpt grasp bengali, Emotions: [{'label': 'neutral', 'score': 0.9962432384490967}]\n",
      "None\n",
      "Sentence: townhallcom chatgpt extremely politically biased ask basic question president biden racist president trump racist which president presided lowest black american unemployment history climate change caused human activity scary, Emotions: [{'label': 'neutral', 'score': 0.6014499664306641}]\n",
      "None\n",
      "Sentence: ludvigsson ericbenchimol bmjlatest dovepress jamacurrent nejm thelancet good question maybe ask chatgpt, Emotions: [{'label': 'admiration', 'score': 0.5155410170555115}]\n",
      "None\n",
      "Sentence: case youre wondering chatgpt use use write paper nonhuman author implication integrity scientific publication medical knowledge jamacurrent jamanetwork, Emotions: [{'label': 'neutral', 'score': 0.9408626556396484}]\n",
      "None\n",
      "Sentence: glad were laying ground rule chatgpt tool support scientificwriting people language isnt english speak comprehend struggle writing coolscience, Emotions: [{'label': 'joy', 'score': 0.6327429413795471}]\n",
      "None\n",
      "Sentence: here good chatgpt prompted cancer center director north star brownucancer brownuniversity brownmedicine shionaco laurakalafarski bcarneiro drdonsdizon brownoncology drsgraff senduraimani rwsobol seanlawler sheldonlholder, Emotions: [{'label': 'neutral', 'score': 0.35475945472717285}]\n",
      "None\n",
      "Sentence: check nifty tool book name author ask specific question chapter like summary specific inspired chatgpt popular app rising, Emotions: [{'label': 'neutral', 'score': 0.9515457153320312}]\n",
      "None\n"
     ]
    },
    {
     "name": "stdout",
     "output_type": "stream",
     "text": [
      "Sentence: saw today chatgpt, Emotions: [{'label': 'neutral', 'score': 0.9902268648147583}]\n",
      "None\n",
      "Sentence: daughter asked chatgpt write song tumor metabolism style taylorswift hear beat now belong cancerresearch phdchat scicomm, Emotions: [{'label': 'neutral', 'score': 0.9971261620521545}]\n",
      "None\n",
      "Sentence: dralysonhanish funsies decided chatgpt recommend letter support biosketch personal statement impression structure good general unspecific, Emotions: [{'label': 'neutral', 'score': 0.8126861453056335}]\n",
      "None\n",
      "Sentence: chatgpt useful querying grant idea know good idea innovative chatgpt doesnt know give vague answer, Emotions: [{'label': 'gratitude', 'score': 0.6203365325927734}]\n",
      "None\n",
      "Sentence: chatgpt write grant proposal maybe start agree grant questionable all recipe book grant lead exactly what happening privilege amp lot what human innovate regurgitates, Emotions: [{'label': 'neutral', 'score': 0.9918094277381897}]\n",
      "None\n",
      "Sentence: asked chatgpt publish paper read sound bad, Emotions: [{'label': 'neutral', 'score': 0.3578075170516968}]\n",
      "None\n",
      "Sentence: getting impressed chatgpt ability assist prompted specific point make course additional compelling reason need world class brownucancer rhode island tednesi miaforrep thenci senloudipalma rispeaker, Emotions: [{'label': 'admiration', 'score': 0.9923228025436401}]\n",
      "None\n",
      "Sentence: actually pretty good chatgpt poem harsh nih grant review nihcsr thenci ncibogler drbenneel leonidasplatan nelimulrich teamoncology ramalingammd rndubois ashanitw pjbuckhaults kimrynrathmell drsgraff drdonsdizon dawsonstemcell seanlawler, Emotions: [{'label': 'admiration', 'score': 0.9827782511711121}]\n",
      "None\n",
      "Sentence: google search retrieve result paper exist bluffing reference chatgpt error, Emotions: [{'label': 'neutral', 'score': 0.9975256323814392}]\n",
      "None\n",
      "Sentence: carboplatin activation dna binding kinetic thermodynamic study wojtusiak wojtusiak chatgpt cited article journal inorganic biochemistry unable journal site pubmed, Emotions: [{'label': 'neutral', 'score': 0.9973401427268982}]\n",
      "None\n",
      "Sentence: chatgpt launched prototype public nov day million people comparison took netflix threeandahalf year people board primer chatgpt usatoday, Emotions: [{'label': 'neutral', 'score': 0.9947911500930786}]\n",
      "None\n",
      "Sentence: today chatgpt making wave guess who involved musk elonmusk himself man magic real innovation genius, Emotions: [{'label': 'admiration', 'score': 0.9918555021286011}]\n",
      "None\n",
      "Sentence: know chatgpt largest kind human history alan turing impressed it like predicted invention year ago beauty technology cease amaze turing innovation, Emotions: [{'label': 'admiration', 'score': 0.9845302104949951}]\n",
      "None\n",
      "Sentence: unlock writing potential chatgpt letter essay story book email proofreading language processing platform got covered plus it great tool research language learning languageprocessing, Emotions: [{'label': 'admiration', 'score': 0.8049636483192444}]\n",
      "None\n",
      "Sentence: forecast million job risk advancement technology like chatgpt youre role secretary office attendant grant writer manuscript reviewer editor office manager it time start exploring alternative, Emotions: [{'label': 'neutral', 'score': 0.970592200756073}]\n",
      "None\n",
      "Sentence: chatgpt prompt data science chatgpt datascience, Emotions: [{'label': 'neutral', 'score': 0.995233952999115}]\n",
      "None\n",
      "Sentence: thanks eldeirylab remembering birthday ashdoesresearch birthday came near canceled meeting november told joke chatgpt courtesy attilaseyhan, Emotions: [{'label': 'gratitude', 'score': 0.9728067517280579}]\n",
      "None\n",
      "Sentence: ground rule folk nature chatgpt research you prob want disclose method section author, Emotions: [{'label': 'neutral', 'score': 0.9945440292358398}]\n",
      "None\n",
      "Sentence: soon able cite friend chatgpt long author science, Emotions: [{'label': 'neutral', 'score': 0.9932250380516052}]\n",
      "None\n",
      "Sentence: asked chatgpt describe root cause health inequity united state think pretty impressed healthequity sdoh, Emotions: [{'label': 'admiration', 'score': 0.9779502749443054}]\n",
      "None\n",
      "Sentence: posted learn datascience team sport amp power collaboration latest blog domain expert data engineer discover key role successful datadriven project chatgpt datascientist, Emotions: [{'label': 'neutral', 'score': 0.9941828846931458}]\n",
      "None\n",
      "Sentence: compsci student built app detect chatgptgenerated text combat plagiarism princeton journalism student edwardtian built gptzero attempt detect body text humanwritten aiwritten, Emotions: [{'label': 'neutral', 'score': 0.9962533712387085}]\n",
      "None\n",
      "Sentence: flabbergasted chatgpt corrected minor comment error despite typo didnt fun fair code right regardless iforonewelcomeourrobotoverlords, Emotions: [{'label': 'surprise', 'score': 0.9943530559539795}]\n",
      "None\n",
      "Sentence: stearnslab embrace technology post teacher consider cheating chatgpt need embrace future it coming like not tool better, Emotions: [{'label': 'neutral', 'score': 0.9833554625511169}]\n",
      "None\n",
      "Sentence: microsofts bing searchengine soon return result humanlike response according information tech giant incorporate openai chatgpt bing hope help company catch maybe outshine google, Emotions: [{'label': 'neutral', 'score': 0.6406147480010986}]\n",
      "None\n",
      "Sentence: considering phd struggling suitable phd topic best luck research science advice phd education chatgpt, Emotions: [{'label': 'neutral', 'score': 0.9503774046897888}]\n",
      "None\n",
      "Sentence: ecology related though love come with figured connect chatgpt new video new year rstats chatgpt openai api datascience rstudio happynewyear, Emotions: [{'label': 'neutral', 'score': 0.9951648712158203}]\n",
      "None\n",
      "Sentence: true power chatgpt language model relies prompt provide provide meaningful input extract insight hold xai gpt, Emotions: [{'label': 'neutral', 'score': 0.9906331300735474}]\n",
      "None\n",
      "Sentence: interesting application chatgpt generate vector image monkey isnt good sure kind logic useful some, Emotions: [{'label': 'disapproval', 'score': 0.9853126406669617}]\n",
      "None\n",
      "Sentence: hilarious outcome bing dominates search incorporating chatgpt directly search page result chatgptopenaimicrosoft subscription fee cover increased cost heavy user dont wait google wont goof forever sama, Emotions: [{'label': 'amusement', 'score': 0.9860559701919556}]\n",
      "None\n",
      "Sentence: worked minor modification youre looking thing google stackoverflow youre wasting time chatgpt, Emotions: [{'label': 'annoyance', 'score': 0.7891393303871155}]\n",
      "None\n",
      "Sentence: unbelievable chatwithgpt mosttalked artificial intellegencebased tool chatgpt developed openai transform simple hypothesis timespace researcharticle format link, Emotions: [{'label': 'surprise', 'score': 0.9891771674156189}]\n",
      "None\n",
      "Sentence: tried chatgpt yet creating fab idea help going markwschaefer, Emotions: [{'label': 'neutral', 'score': 0.9784302711486816}]\n",
      "None\n",
      "Sentence: bashing chatgpt chatgpt, Emotions: [{'label': 'neutral', 'score': 0.990899920463562}]\n",
      "None\n",
      "Sentence: badarmian drcoops andreasroder urogeek daviesbj mrsprostate drspratticus renueapen asked chatgpt poll everyones answer, Emotions: [{'label': 'neutral', 'score': 0.9963693618774414}]\n",
      "None\n",
      "Sentence: spend week giving chatgpt million free data point subsequently train model more inevitably corporationsgovernmentssociopaths evil, Emotions: [{'label': 'neutral', 'score': 0.9881954193115234}]\n",
      "None\n",
      "Sentence: introducing new work companion chatgpt peer support goto person question today let write code damn wrote faster, Emotions: [{'label': 'neutral', 'score': 0.9953356385231018}]\n",
      "None\n",
      "Sentence: mattgonnerman chatgpt answer correct, Emotions: [{'label': 'neutral', 'score': 0.7864097356796265}]\n",
      "None\n",
      "Sentence: redundant pcnmartin something chatgpt openai openaichatgpt bioinformatics genomics epigenomics, Emotions: [{'label': 'neutral', 'score': 0.997936487197876}]\n",
      "None\n",
      "Sentence: impressed chatgpt neurosurgery interviewtips, Emotions: [{'label': 'disappointment', 'score': 0.6045695543289185}]\n",
      "None\n",
      "Sentence: anobelodisho canesdavid wanderinggu uretericbud daviesbj laurabukavinamd drtedritchie lponsky benpockros know chatgpt, Emotions: [{'label': 'neutral', 'score': 0.990359902381897}]\n",
      "None\n",
      "Sentence: woah chatgpt, Emotions: [{'label': 'neutral', 'score': 0.924943208694458}]\n",
      "None\n",
      "Sentence: okay nursetwitter think chatgpts nursing science ananursingworld amianiwg aniainformatics nursingoutlook aacnursing hillmanfdn futureofnursing, Emotions: [{'label': 'neutral', 'score': 0.9960101842880249}]\n",
      "None\n"
     ]
    },
    {
     "name": "stdout",
     "output_type": "stream",
     "text": [
      "Sentence: playing chatgpt amp introduced son excited wrote essay covalent bond amp created load code impressed cant access research paper yet cite reference tried thought, Emotions: [{'label': 'excitement', 'score': 0.9809139966964722}]\n",
      "None\n",
      "Sentence: zackzenko ive messed chatgpt lot finding regurgitate positive sounding word pulled web page twitter guess read fancy search engine returning result time, Emotions: [{'label': 'neutral', 'score': 0.9980359673500061}]\n",
      "None\n",
      "Sentence: diegobetto brought chatgpt, Emotions: [{'label': 'neutral', 'score': 0.9944667220115662}]\n",
      "None\n",
      "Sentence: nope chatgpt drank koolaid home chatbot youre drunk, Emotions: [{'label': 'amusement', 'score': 0.5360481142997742}]\n",
      "None\n",
      "Sentence: citation chatgpt, Emotions: [{'label': 'neutral', 'score': 0.8896413445472717}]\n",
      "None\n",
      "Sentence: academia ready chatgpt student writing paper this endless possibility new dilemma exciting time phdvoice academictwitter, Emotions: [{'label': 'excitement', 'score': 0.984341561794281}]\n",
      "None\n",
      "Sentence: doesn enjoy nice little poem cycle chatgpt nitrogen, Emotions: [{'label': 'joy', 'score': 0.9755870699882507}]\n",
      "None\n"
     ]
    }
   ],
   "source": [
    "emotions = []\n",
    "\n",
    "for sentence in text: \n",
    "    emotion_labels = emotion(sentence)\n",
    "    print(print(f\"Sentence: {sentence}, Emotions: {emotion_labels}\"))"
   ]
  },
  {
   "cell_type": "code",
   "execution_count": null,
   "id": "ab6bbb83",
   "metadata": {},
   "outputs": [],
   "source": []
  }
 ],
 "metadata": {
  "kernelspec": {
   "display_name": "Python 3 (ipykernel)",
   "language": "python",
   "name": "python3"
  },
  "language_info": {
   "codemirror_mode": {
    "name": "ipython",
    "version": 3
   },
   "file_extension": ".py",
   "mimetype": "text/x-python",
   "name": "python",
   "nbconvert_exporter": "python",
   "pygments_lexer": "ipython3",
   "version": "3.9.13"
  }
 },
 "nbformat": 4,
 "nbformat_minor": 5
}
