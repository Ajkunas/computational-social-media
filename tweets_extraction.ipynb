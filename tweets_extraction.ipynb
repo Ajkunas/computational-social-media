{
 "cells": [
  {
   "cell_type": "code",
   "execution_count": 1,
   "id": "230275f7",
   "metadata": {},
   "outputs": [],
   "source": [
    "from TwitterApi import *"
   ]
  },
  {
   "cell_type": "code",
   "execution_count": null,
   "id": "04099b8c",
   "metadata": {
    "scrolled": true
   },
   "outputs": [
    {
     "name": "stdout",
     "output_type": "stream",
     "text": [
      "{\"data\": [{\"id\": \"1648714651687854083\", \"value\": \"(chatGPT OR chatgpt) from:elonmusk -is:retweet\", \"tag\": \"chatgpt tweets\"}], \"meta\": {\"sent\": \"2023-04-19T15:48:58.612Z\", \"result_count\": 1}}\n",
      "{\"meta\": {\"sent\": \"2023-04-19T15:49:00.311Z\", \"summary\": {\"deleted\": 1, \"not_deleted\": 0}}}\n",
      "{\"data\": [{\"value\": \"(chatGPT OR AI OR ai OR chatgpt) from:elonmusk lang:en -is:retweet\", \"tag\": \"chatgpt tweets\", \"id\": \"1648715328313081860\"}], \"meta\": {\"sent\": \"2023-04-19T15:49:02.144Z\", \"summary\": {\"created\": 1, \"not_created\": 0, \"valid\": 1, \"invalid\": 0}}}\n",
      "200\n"
     ]
    }
   ],
   "source": [
    "main()"
   ]
  },
  {
   "cell_type": "code",
   "execution_count": null,
   "id": "2db51e49",
   "metadata": {},
   "outputs": [],
   "source": [
    "import pandas as pd "
   ]
  },
  {
   "cell_type": "code",
   "execution_count": null,
   "id": "0e5a7e7c",
   "metadata": {},
   "outputs": [],
   "source": [
    "df = pd.read_csv('response_test.csv', usecols=['id','text'])"
   ]
  },
  {
   "cell_type": "code",
   "execution_count": null,
   "id": "6229c811",
   "metadata": {},
   "outputs": [],
   "source": [
    "df.sample()"
   ]
  },
  {
   "cell_type": "code",
   "execution_count": null,
   "id": "19b46834",
   "metadata": {},
   "outputs": [],
   "source": [
    "df"
   ]
  },
  {
   "cell_type": "code",
   "execution_count": null,
   "id": "7f2362e3",
   "metadata": {},
   "outputs": [],
   "source": []
  }
 ],
 "metadata": {
  "kernelspec": {
   "display_name": "Python 3 (ipykernel)",
   "language": "python",
   "name": "python3"
  },
  "language_info": {
   "codemirror_mode": {
    "name": "ipython",
    "version": 3
   },
   "file_extension": ".py",
   "mimetype": "text/x-python",
   "name": "python",
   "nbconvert_exporter": "python",
   "pygments_lexer": "ipython3",
   "version": "3.9.13"
  }
 },
 "nbformat": 4,
 "nbformat_minor": 5
}
