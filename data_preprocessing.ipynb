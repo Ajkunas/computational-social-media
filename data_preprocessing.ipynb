{
 "cells": [
  {
   "cell_type": "markdown",
   "id": "2a5c7c30",
   "metadata": {},
   "source": [
    "# Data preprocessing "
   ]
  },
  {
   "cell_type": "code",
   "execution_count": 26,
   "id": "d69aa295",
   "metadata": {},
   "outputs": [],
   "source": [
    "import re\n",
    "import numpy as np\n",
    "import pandas as pd\n",
    "\n",
    "# remove english stopwords with the help of the gensim library \n",
    "from gensim.parsing.preprocessing import remove_stopwords\n",
    "\n",
    "import string\n",
    "\n",
    "from nltk.stem.porter import PorterStemmer\n",
    "from nltk.stem import WordNetLemmatizer"
   ]
  },
  {
   "cell_type": "markdown",
   "id": "38be3035",
   "metadata": {},
   "source": [
    "## All the methods that will be used to preprocess"
   ]
  },
  {
   "cell_type": "code",
   "execution_count": 2,
   "id": "63ac46b7",
   "metadata": {},
   "outputs": [],
   "source": [
    "english_punctuations = string.punctuation\n",
    "punctuations_list = english_punctuations\n",
    "\n",
    "def cleaning_punctuations(text):\n",
    "    translator = str.maketrans('', '', punctuations_list)\n",
    "    return text.translate(translator)"
   ]
  },
  {
   "cell_type": "code",
   "execution_count": 3,
   "id": "0ab93ef2",
   "metadata": {},
   "outputs": [],
   "source": [
    "# cleaning and removing URLs\n",
    "\n",
    "def cleaning_URLs(data):\n",
    "    return re.sub('((www.[^s]+)|(https?://[^s]+))',' ',data)\n",
    "\n",
    "def remove_hyperlink(word):\n",
    "    return re.sub(r\"http\\S+\", \"\", word)"
   ]
  },
  {
   "cell_type": "code",
   "execution_count": 4,
   "id": "598b5630",
   "metadata": {},
   "outputs": [],
   "source": [
    "# cleaning and removing mentions \n",
    "\n",
    "def remove_mentions(word):\n",
    "    return re.sub(r\"@\\S+\", \"\", word)"
   ]
  },
  {
   "cell_type": "code",
   "execution_count": 5,
   "id": "cff90e42",
   "metadata": {},
   "outputs": [],
   "source": [
    "# removing emojis \n",
    "emoji_pattern = re.compile(\"[\"\n",
    "        u\"\\U0001F600-\\U0001F64F\"  # emoticons\n",
    "        u\"\\U0001F300-\\U0001F5FF\"  # symbols & pictographs\n",
    "        u\"\\U0001F680-\\U0001F6FF\"  # transport & map symbols\n",
    "        u\"\\U0001F1E0-\\U0001F1FF\"  # flags (iOS)\n",
    "                           \"]+\", flags=re.UNICODE)"
   ]
  },
  {
   "cell_type": "code",
   "execution_count": 6,
   "id": "3572bacf",
   "metadata": {},
   "outputs": [],
   "source": [
    "# cleaning and removing repeating characters\n",
    "\n",
    "def cleaning_repeating_char(text):\n",
    "    return re.sub(r'(.)1+', r'1', text)"
   ]
  },
  {
   "cell_type": "code",
   "execution_count": 7,
   "id": "83e5dace",
   "metadata": {},
   "outputs": [],
   "source": [
    "stemmer = PorterStemmer()\n",
    "\n",
    "def stem_words(text):\n",
    "    return \" \".join([stemmer.stem(word) for word in text])"
   ]
  },
  {
   "cell_type": "code",
   "execution_count": 28,
   "id": "723bec95",
   "metadata": {},
   "outputs": [],
   "source": [
    "lemmatizer = WordNetLemmatizer()\n",
    "\n",
    "def lematize_words(text):\n",
    "    return \" \".join([lemmatizer.lemmatize(word) for word in text])"
   ]
  },
  {
   "cell_type": "markdown",
   "id": "4d15eeb9",
   "metadata": {},
   "source": [
    "## Example of data preprocessing"
   ]
  },
  {
   "cell_type": "code",
   "execution_count": 166,
   "id": "2b4f9e56",
   "metadata": {},
   "outputs": [],
   "source": [
    "# loading the dataset \n",
    "# english language dataset \n",
    "\n",
    "df = pd.read_csv('datasets/sentiment.csv', usecols=['tweets','labels'])"
   ]
  },
  {
   "cell_type": "code",
   "execution_count": 167,
   "id": "2398d7f3",
   "metadata": {},
   "outputs": [
    {
     "data": {
      "text/html": [
       "<div>\n",
       "<style scoped>\n",
       "    .dataframe tbody tr th:only-of-type {\n",
       "        vertical-align: middle;\n",
       "    }\n",
       "\n",
       "    .dataframe tbody tr th {\n",
       "        vertical-align: top;\n",
       "    }\n",
       "\n",
       "    .dataframe thead th {\n",
       "        text-align: right;\n",
       "    }\n",
       "</style>\n",
       "<table border=\"1\" class=\"dataframe\">\n",
       "  <thead>\n",
       "    <tr style=\"text-align: right;\">\n",
       "      <th></th>\n",
       "      <th>tweets</th>\n",
       "      <th>labels</th>\n",
       "    </tr>\n",
       "  </thead>\n",
       "  <tbody>\n",
       "    <tr>\n",
       "      <th>174246</th>\n",
       "      <td>This is 5 Script Idea for webseries by #ChatGP...</td>\n",
       "      <td>good</td>\n",
       "    </tr>\n",
       "    <tr>\n",
       "      <th>13084</th>\n",
       "      <td>#ChatGPT describes the interior life of a corg...</td>\n",
       "      <td>bad</td>\n",
       "    </tr>\n",
       "    <tr>\n",
       "      <th>197369</th>\n",
       "      <td>Why check #crypto prices on other websites whe...</td>\n",
       "      <td>bad</td>\n",
       "    </tr>\n",
       "    <tr>\n",
       "      <th>35632</th>\n",
       "      <td>I asked  #ChatGPT this question: \\n\\n\"Will AI ...</td>\n",
       "      <td>bad</td>\n",
       "    </tr>\n",
       "    <tr>\n",
       "      <th>53288</th>\n",
       "      <td>Ripple CTO shuts down ChatGPT's XRP conspiracy...</td>\n",
       "      <td>bad</td>\n",
       "    </tr>\n",
       "  </tbody>\n",
       "</table>\n",
       "</div>"
      ],
      "text/plain": [
       "                                                   tweets labels\n",
       "174246  This is 5 Script Idea for webseries by #ChatGP...   good\n",
       "13084   #ChatGPT describes the interior life of a corg...    bad\n",
       "197369  Why check #crypto prices on other websites whe...    bad\n",
       "35632   I asked  #ChatGPT this question: \\n\\n\"Will AI ...    bad\n",
       "53288   Ripple CTO shuts down ChatGPT's XRP conspiracy...    bad"
      ]
     },
     "execution_count": 167,
     "metadata": {},
     "output_type": "execute_result"
    }
   ],
   "source": [
    "df.sample(5)"
   ]
  },
  {
   "cell_type": "code",
   "execution_count": 168,
   "id": "ce912bc5",
   "metadata": {},
   "outputs": [
    {
     "data": {
      "text/plain": [
       "bad        107796\n",
       "good        56011\n",
       "neutral     55487\n",
       "Name: labels, dtype: int64"
      ]
     },
     "execution_count": 168,
     "metadata": {},
     "output_type": "execute_result"
    }
   ],
   "source": [
    "df.labels.value_counts() "
   ]
  },
  {
   "cell_type": "code",
   "execution_count": 169,
   "id": "b3395a6f",
   "metadata": {},
   "outputs": [],
   "source": [
    "# change the labeling: neutral = 0, positive = 1, negative = -1\n",
    "\n",
    "df.labels = df.labels.replace('bad', -1)\n",
    "df.labels = df.labels.replace('good', 1)\n",
    "df.labels = df.labels.replace('neutral', 0)"
   ]
  },
  {
   "cell_type": "code",
   "execution_count": 170,
   "id": "8a2a1ec2",
   "metadata": {},
   "outputs": [
    {
     "data": {
      "text/html": [
       "<div>\n",
       "<style scoped>\n",
       "    .dataframe tbody tr th:only-of-type {\n",
       "        vertical-align: middle;\n",
       "    }\n",
       "\n",
       "    .dataframe tbody tr th {\n",
       "        vertical-align: top;\n",
       "    }\n",
       "\n",
       "    .dataframe thead th {\n",
       "        text-align: right;\n",
       "    }\n",
       "</style>\n",
       "<table border=\"1\" class=\"dataframe\">\n",
       "  <thead>\n",
       "    <tr style=\"text-align: right;\">\n",
       "      <th></th>\n",
       "      <th>tweets</th>\n",
       "      <th>labels</th>\n",
       "    </tr>\n",
       "  </thead>\n",
       "  <tbody>\n",
       "    <tr>\n",
       "      <th>90147</th>\n",
       "      <td>ChatGPT is out here serving up real human dram...</td>\n",
       "      <td>-1</td>\n",
       "    </tr>\n",
       "    <tr>\n",
       "      <th>115503</th>\n",
       "      <td>Even a robot knows this one 🤖 #chatGPT #person...</td>\n",
       "      <td>-1</td>\n",
       "    </tr>\n",
       "    <tr>\n",
       "      <th>24658</th>\n",
       "      <td>OpenAI ChatGPT is anti national..\\nI asked it ...</td>\n",
       "      <td>-1</td>\n",
       "    </tr>\n",
       "    <tr>\n",
       "      <th>191774</th>\n",
       "      <td>Delighted to hear this news, but it is frustra...</td>\n",
       "      <td>0</td>\n",
       "    </tr>\n",
       "    <tr>\n",
       "      <th>82536</th>\n",
       "      <td>I asked #chatGPT to automate editorial decisio...</td>\n",
       "      <td>0</td>\n",
       "    </tr>\n",
       "  </tbody>\n",
       "</table>\n",
       "</div>"
      ],
      "text/plain": [
       "                                                   tweets  labels\n",
       "90147   ChatGPT is out here serving up real human dram...      -1\n",
       "115503  Even a robot knows this one 🤖 #chatGPT #person...      -1\n",
       "24658   OpenAI ChatGPT is anti national..\\nI asked it ...      -1\n",
       "191774  Delighted to hear this news, but it is frustra...       0\n",
       "82536   I asked #chatGPT to automate editorial decisio...       0"
      ]
     },
     "execution_count": 170,
     "metadata": {},
     "output_type": "execute_result"
    }
   ],
   "source": [
    "df.sample(5)"
   ]
  },
  {
   "cell_type": "code",
   "execution_count": 171,
   "id": "7d8c4c92",
   "metadata": {},
   "outputs": [
    {
     "data": {
      "text/plain": [
       "-1    107796\n",
       " 1     56011\n",
       " 0     55487\n",
       "Name: labels, dtype: int64"
      ]
     },
     "execution_count": 171,
     "metadata": {},
     "output_type": "execute_result"
    }
   ],
   "source": [
    "df.labels.value_counts()"
   ]
  },
  {
   "cell_type": "code",
   "execution_count": 172,
   "id": "daaabbca",
   "metadata": {},
   "outputs": [],
   "source": [
    "# we have too much negative tweets compared to the other classes\n",
    "# we divide the set of negative tweets by 2\n",
    "\n",
    "mask = (df.labels == -1)\n",
    "idx, = np.where(mask)\n",
    "df = df.drop(df.index[idx[:len(idx)//2]])"
   ]
  },
  {
   "cell_type": "code",
   "execution_count": 173,
   "id": "fdc38cdc",
   "metadata": {},
   "outputs": [
    {
     "data": {
      "text/plain": [
       " 1    56011\n",
       " 0    55487\n",
       "-1    53898\n",
       "Name: labels, dtype: int64"
      ]
     },
     "execution_count": 173,
     "metadata": {},
     "output_type": "execute_result"
    }
   ],
   "source": [
    "df.labels.value_counts() "
   ]
  },
  {
   "cell_type": "code",
   "execution_count": 5,
   "id": "4a31cee1",
   "metadata": {},
   "outputs": [
    {
     "ename": "AttributeError",
     "evalue": "'DataFrame' object has no attribute 'str'",
     "output_type": "error",
     "traceback": [
      "\u001b[1;31m---------------------------------------------------------------------------\u001b[0m",
      "\u001b[1;31mAttributeError\u001b[0m                            Traceback (most recent call last)",
      "\u001b[1;32m~\\AppData\\Local\\Temp\\ipykernel_10956\\4127977162.py\u001b[0m in \u001b[0;36m<module>\u001b[1;34m\u001b[0m\n\u001b[0;32m      1\u001b[0m \u001b[1;31m# lower cases\u001b[0m\u001b[1;33m\u001b[0m\u001b[1;33m\u001b[0m\u001b[0m\n\u001b[1;32m----> 2\u001b[1;33m \u001b[0mdf\u001b[0m\u001b[1;33m.\u001b[0m\u001b[0mtweets\u001b[0m \u001b[1;33m=\u001b[0m \u001b[0mdf\u001b[0m\u001b[1;33m.\u001b[0m\u001b[0mtweets\u001b[0m\u001b[1;33m.\u001b[0m\u001b[0mstr\u001b[0m\u001b[1;33m.\u001b[0m\u001b[0mlower\u001b[0m\u001b[1;33m(\u001b[0m\u001b[1;33m)\u001b[0m\u001b[1;33m\u001b[0m\u001b[1;33m\u001b[0m\u001b[0m\n\u001b[0m",
      "\u001b[1;32m~\\anaconda3\\lib\\site-packages\\pandas\\core\\generic.py\u001b[0m in \u001b[0;36m__getattr__\u001b[1;34m(self, name)\u001b[0m\n\u001b[0;32m   5573\u001b[0m         ):\n\u001b[0;32m   5574\u001b[0m             \u001b[1;32mreturn\u001b[0m \u001b[0mself\u001b[0m\u001b[1;33m[\u001b[0m\u001b[0mname\u001b[0m\u001b[1;33m]\u001b[0m\u001b[1;33m\u001b[0m\u001b[1;33m\u001b[0m\u001b[0m\n\u001b[1;32m-> 5575\u001b[1;33m         \u001b[1;32mreturn\u001b[0m \u001b[0mobject\u001b[0m\u001b[1;33m.\u001b[0m\u001b[0m__getattribute__\u001b[0m\u001b[1;33m(\u001b[0m\u001b[0mself\u001b[0m\u001b[1;33m,\u001b[0m \u001b[0mname\u001b[0m\u001b[1;33m)\u001b[0m\u001b[1;33m\u001b[0m\u001b[1;33m\u001b[0m\u001b[0m\n\u001b[0m\u001b[0;32m   5576\u001b[0m \u001b[1;33m\u001b[0m\u001b[0m\n\u001b[0;32m   5577\u001b[0m     \u001b[1;32mdef\u001b[0m \u001b[0m__setattr__\u001b[0m\u001b[1;33m(\u001b[0m\u001b[0mself\u001b[0m\u001b[1;33m,\u001b[0m \u001b[0mname\u001b[0m\u001b[1;33m:\u001b[0m \u001b[0mstr\u001b[0m\u001b[1;33m,\u001b[0m \u001b[0mvalue\u001b[0m\u001b[1;33m)\u001b[0m \u001b[1;33m->\u001b[0m \u001b[1;32mNone\u001b[0m\u001b[1;33m:\u001b[0m\u001b[1;33m\u001b[0m\u001b[1;33m\u001b[0m\u001b[0m\n",
      "\u001b[1;31mAttributeError\u001b[0m: 'DataFrame' object has no attribute 'str'"
     ]
    }
   ],
   "source": [
    "# lower cases \n",
    "df.tweets = df.tweets.str.lower()\n",
    "df.tweets.head()"
   ]
  },
  {
   "cell_type": "code",
   "execution_count": null,
   "id": "c929e945",
   "metadata": {},
   "outputs": [],
   "source": [
    "df.tweets = df.tweets.apply(lambda text: remove_stopwords(text))\n",
    "df.tweets.head()"
   ]
  },
  {
   "cell_type": "code",
   "execution_count": null,
   "id": "c75dbadd",
   "metadata": {},
   "outputs": [],
   "source": [
    "df.tweets = df.tweets.apply(lambda x: cleaning_punctuations(x))\n",
    "df.tweets.head()"
   ]
  },
  {
   "cell_type": "code",
   "execution_count": null,
   "id": "f5203277",
   "metadata": {},
   "outputs": [],
   "source": [
    "df.tweets = df.tweets.apply(lambda x: cleaning_URLs(x))\n",
    "df.tweets = df.tweets.apply(lambda x: remove_hyperlink(x))\n",
    "df.tweets.head()"
   ]
  },
  {
   "cell_type": "code",
   "execution_count": null,
   "id": "cea9d3e7",
   "metadata": {},
   "outputs": [],
   "source": [
    "df.tweets = df.tweets.apply(lambda x: remove_mentions(x))\n",
    "df.tweets.head()"
   ]
  },
  {
   "cell_type": "code",
   "execution_count": null,
   "id": "4c44f67b",
   "metadata": {},
   "outputs": [],
   "source": [
    "df.tweets = df.tweets.apply(lambda x: emoji_pattern.sub(r'', x))\n",
    "df.tweets.head()"
   ]
  },
  {
   "cell_type": "code",
   "execution_count": 183,
   "id": "f4a5fbbc",
   "metadata": {},
   "outputs": [
    {
     "data": {
      "text/plain": [
       "0    chatgpt optimizing language models dialogue  o...\n",
       "1    try talking chatgpt new ai optimized dialogue ...\n",
       "2    chatgpt optimizing language models dialogue  a...\n",
       "3    thrilled share chatgpt new model optimized dia...\n",
       "5    launched chatgpt new ai optimized dialogue  here \n",
       "Name: tweets, dtype: object"
      ]
     },
     "execution_count": 183,
     "metadata": {},
     "output_type": "execute_result"
    }
   ],
   "source": [
    "# remove numbers \n",
    "df.tweets = df.tweets.apply(lambda x: re.sub(\"[^a-zA-Z]\", \" \", x))\n",
    "df.tweets.head()"
   ]
  },
  {
   "cell_type": "code",
   "execution_count": null,
   "id": "0ec4a444",
   "metadata": {},
   "outputs": [],
   "source": [
    "df.tweets = df.tweets.apply(lambda x: cleaning_repeating_char(x))\n",
    "df.tweets.head()"
   ]
  },
  {
   "cell_type": "code",
   "execution_count": 185,
   "id": "21fe9141",
   "metadata": {},
   "outputs": [
    {
     "data": {
      "text/plain": [
       "0    chatgpt optimizing language models dialogue op...\n",
       "1    try talking chatgpt new optimized dialogue fee...\n",
       "2    chatgpt optimizing language models dialogue ma...\n",
       "3    thrilled share chatgpt new model optimized dia...\n",
       "5         launched chatgpt new optimized dialogue here\n",
       "Name: tweets, dtype: object"
      ]
     },
     "execution_count": 185,
     "metadata": {},
     "output_type": "execute_result"
    }
   ],
   "source": [
    "# remove short words that are of no use \n",
    "df.tweets = df.tweets.apply(lambda x: ' '.join([w for w in x.split() if len(w)>2]))\n",
    "df.tweets.head()"
   ]
  },
  {
   "cell_type": "code",
   "execution_count": 186,
   "id": "d9cd5aa8",
   "metadata": {},
   "outputs": [
    {
     "data": {
      "text/plain": [
       "0    [chatgpt, optimizing, language, models, dialog...\n",
       "1    [try, talking, chatgpt, new, optimized, dialog...\n",
       "2    [chatgpt, optimizing, language, models, dialog...\n",
       "3    [thrilled, share, chatgpt, new, model, optimiz...\n",
       "5    [launched, chatgpt, new, optimized, dialogue, ...\n",
       "Name: tweets, dtype: object"
      ]
     },
     "execution_count": 186,
     "metadata": {},
     "output_type": "execute_result"
    }
   ],
   "source": [
    "# Text normalization : tokenize the tweets \n",
    "# split tweets of text into tokens (individual words of terms)\n",
    "tokenize_tweets = df.tweets.apply(lambda x: x.split())\n",
    "tokenize_tweets.head()"
   ]
  },
  {
   "cell_type": "code",
   "execution_count": null,
   "id": "c9f634d2",
   "metadata": {},
   "outputs": [],
   "source": [
    "tokenize_tweets = tokenize_tweets.apply(lambda text: stem_words(text))\n",
    "tokenize_tweets.head()"
   ]
  },
  {
   "cell_type": "code",
   "execution_count": 191,
   "id": "fed87d15",
   "metadata": {},
   "outputs": [
    {
     "data": {
      "text/plain": [
       "0"
      ]
     },
     "execution_count": 191,
     "metadata": {},
     "output_type": "execute_result"
    }
   ],
   "source": [
    "# check if there is any NaN values \n",
    "df.tweets = tokenize_tweets \n",
    "\n",
    "df.tweets.isnull().values.any()\n",
    "df.tweets.isnull().sum()"
   ]
  },
  {
   "cell_type": "code",
   "execution_count": 192,
   "id": "2f8855c2",
   "metadata": {},
   "outputs": [],
   "source": [
    "# write new csv file containing the preprocessed dataset\n",
    "df.to_csv('datasets/preprocessed_sentiment.csv')"
   ]
  },
  {
   "cell_type": "markdown",
   "id": "aa1cf483",
   "metadata": {},
   "source": [
    "## Defining the function for preprocessing the data"
   ]
  },
  {
   "cell_type": "code",
   "execution_count": 31,
   "id": "b39a5ee5",
   "metadata": {},
   "outputs": [],
   "source": [
    "import string\n",
    "\n",
    "def preprocessing(df, path):\n",
    "    # lower cases \n",
    "    df = df.str.lower()\n",
    "    print(\"Text of tweets transformed to lower cases.\")\n",
    "    \n",
    "    # remove english stopwords with the help of the gensim library \n",
    "    df = df.apply(lambda text: remove_stopwords(text))\n",
    "    print(\"Removed stopwords from the text of tweets.\")\n",
    "    \n",
    "    #cleaning and removing punctuation\n",
    "    df = df.apply(lambda x: cleaning_punctuations(x))\n",
    "    print(\"Cleaned and removed the punctuations.\")\n",
    "    \n",
    "    # cleaning and removing URLs\n",
    "    df = df.apply(lambda x: cleaning_URLs(x))\n",
    "    df = df.apply(lambda x: remove_hyperlink(x))\n",
    "    print(\"Cleaned and removed the URLs and hyperlinks.\")\n",
    "    \n",
    "    # cleaning and removing mentions \n",
    "    df = df.apply(lambda x: remove_mentions(x))\n",
    "    print(\"Cleaned and removed the mentions.\")\n",
    "    \n",
    "    # removing emojis \n",
    "    df = df.apply(lambda x: emoji_pattern.sub(r'', x))\n",
    "    print(\"Removed the emojis.\")\n",
    "    \n",
    "    # remove numbers \n",
    "    df = df.apply(lambda x: re.sub(\"[^a-zA-Z]\", \" \", x))\n",
    "    print(\"Removed the numbers.\")\n",
    "    \n",
    "    # cleaning and removing repeating characters\n",
    "    df = df.apply(lambda x: cleaning_repeating_char(x))\n",
    "    print(\"Cleaned and removed the repeating characters.\")\n",
    "    \n",
    "    # remove short words that are of no use \n",
    "    df = df.apply(lambda x: ' '.join([w for w in x.split() if len(w)>2]))\n",
    "    print(\"Removed the short words (length less than 3).\")\n",
    "    \n",
    "    # Text normalization : tokenize the tweets \n",
    "    # split tweets of text into tokens (individual words of terms)\n",
    "    tokenize_tweets = df.apply(lambda x: x.split())\n",
    "    print(\"Tokenized the text.\")\n",
    "    \n",
    "    # Normalization: use of PorterStemmer()\n",
    "    tokenize_tweets = tokenize_tweets.apply(lambda text: lematize_words(text))\n",
    "    print(\"Normalized the text.\")\n",
    "    \n",
    "    # write new csv file containing the preprocessed dataset\n",
    "    df.to_csv(path)"
   ]
  },
  {
   "cell_type": "markdown",
   "id": "0fd96559",
   "metadata": {},
   "source": [
    "### Preprocessing the dataset of the first month of launch"
   ]
  },
  {
   "cell_type": "code",
   "execution_count": 31,
   "id": "21b092c6",
   "metadata": {},
   "outputs": [],
   "source": [
    "path = 'datasets/preprocessed_chatgptfirst.csv'\n",
    "\n",
    "df = pd.read_csv('datasets/chatgptfirst.csv')"
   ]
  },
  {
   "cell_type": "code",
   "execution_count": 32,
   "id": "e88514f8",
   "metadata": {},
   "outputs": [
    {
     "data": {
      "text/html": [
       "<div>\n",
       "<style scoped>\n",
       "    .dataframe tbody tr th:only-of-type {\n",
       "        vertical-align: middle;\n",
       "    }\n",
       "\n",
       "    .dataframe tbody tr th {\n",
       "        vertical-align: top;\n",
       "    }\n",
       "\n",
       "    .dataframe thead th {\n",
       "        text-align: right;\n",
       "    }\n",
       "</style>\n",
       "<table border=\"1\" class=\"dataframe\">\n",
       "  <thead>\n",
       "    <tr style=\"text-align: right;\">\n",
       "      <th></th>\n",
       "      <th>tweet_id</th>\n",
       "      <th>created_at</th>\n",
       "      <th>like_count</th>\n",
       "      <th>quote_count</th>\n",
       "      <th>reply_count</th>\n",
       "      <th>retweet_count</th>\n",
       "      <th>tweet</th>\n",
       "      <th>country</th>\n",
       "      <th>photo_url</th>\n",
       "      <th>city</th>\n",
       "      <th>country_code</th>\n",
       "    </tr>\n",
       "  </thead>\n",
       "  <tbody>\n",
       "    <tr>\n",
       "      <th>0</th>\n",
       "      <td>1598014056790622225</td>\n",
       "      <td>2022-11-30 18:00:15+00:00</td>\n",
       "      <td>2</td>\n",
       "      <td>0</td>\n",
       "      <td>0</td>\n",
       "      <td>0</td>\n",
       "      <td>ChatGPT: Optimizing Language Models for Dialog...</td>\n",
       "      <td>NaN</td>\n",
       "      <td>NaN</td>\n",
       "      <td>NaN</td>\n",
       "      <td>NaN</td>\n",
       "    </tr>\n",
       "    <tr>\n",
       "      <th>1</th>\n",
       "      <td>1598014522098208769</td>\n",
       "      <td>2022-11-30 18:02:06+00:00</td>\n",
       "      <td>12179</td>\n",
       "      <td>889</td>\n",
       "      <td>1130</td>\n",
       "      <td>3252</td>\n",
       "      <td>Try talking with ChatGPT, our new AI system wh...</td>\n",
       "      <td>NaN</td>\n",
       "      <td>NaN</td>\n",
       "      <td>NaN</td>\n",
       "      <td>NaN</td>\n",
       "    </tr>\n",
       "    <tr>\n",
       "      <th>2</th>\n",
       "      <td>1598014741527527435</td>\n",
       "      <td>2022-11-30 18:02:58+00:00</td>\n",
       "      <td>2</td>\n",
       "      <td>0</td>\n",
       "      <td>0</td>\n",
       "      <td>1</td>\n",
       "      <td>ChatGPT: Optimizing Language Models for Dialog...</td>\n",
       "      <td>NaN</td>\n",
       "      <td>https://pbs.twimg.com/media/Fi1J8HbWAAMv_yi.jpg</td>\n",
       "      <td>NaN</td>\n",
       "      <td>NaN</td>\n",
       "    </tr>\n",
       "    <tr>\n",
       "      <th>3</th>\n",
       "      <td>1598015493666766849</td>\n",
       "      <td>2022-11-30 18:05:58+00:00</td>\n",
       "      <td>561</td>\n",
       "      <td>8</td>\n",
       "      <td>25</td>\n",
       "      <td>66</td>\n",
       "      <td>THRILLED to share that ChatGPT, our new model ...</td>\n",
       "      <td>NaN</td>\n",
       "      <td>https://pbs.twimg.com/media/Fi1Km3WUYAAfzHS.jpg</td>\n",
       "      <td>NaN</td>\n",
       "      <td>NaN</td>\n",
       "    </tr>\n",
       "    <tr>\n",
       "      <th>4</th>\n",
       "      <td>1598015509420994561</td>\n",
       "      <td>2022-11-30 18:06:01+00:00</td>\n",
       "      <td>1</td>\n",
       "      <td>0</td>\n",
       "      <td>0</td>\n",
       "      <td>0</td>\n",
       "      <td>As of 2 minutes ago, @OpenAI released their ne...</td>\n",
       "      <td>NaN</td>\n",
       "      <td>NaN</td>\n",
       "      <td>NaN</td>\n",
       "      <td>NaN</td>\n",
       "    </tr>\n",
       "  </tbody>\n",
       "</table>\n",
       "</div>"
      ],
      "text/plain": [
       "              tweet_id                 created_at  like_count  quote_count  \\\n",
       "0  1598014056790622225  2022-11-30 18:00:15+00:00           2            0   \n",
       "1  1598014522098208769  2022-11-30 18:02:06+00:00       12179          889   \n",
       "2  1598014741527527435  2022-11-30 18:02:58+00:00           2            0   \n",
       "3  1598015493666766849  2022-11-30 18:05:58+00:00         561            8   \n",
       "4  1598015509420994561  2022-11-30 18:06:01+00:00           1            0   \n",
       "\n",
       "   reply_count  retweet_count  \\\n",
       "0            0              0   \n",
       "1         1130           3252   \n",
       "2            0              1   \n",
       "3           25             66   \n",
       "4            0              0   \n",
       "\n",
       "                                               tweet country  \\\n",
       "0  ChatGPT: Optimizing Language Models for Dialog...     NaN   \n",
       "1  Try talking with ChatGPT, our new AI system wh...     NaN   \n",
       "2  ChatGPT: Optimizing Language Models for Dialog...     NaN   \n",
       "3  THRILLED to share that ChatGPT, our new model ...     NaN   \n",
       "4  As of 2 minutes ago, @OpenAI released their ne...     NaN   \n",
       "\n",
       "                                         photo_url city country_code  \n",
       "0                                              NaN  NaN          NaN  \n",
       "1                                              NaN  NaN          NaN  \n",
       "2  https://pbs.twimg.com/media/Fi1J8HbWAAMv_yi.jpg  NaN          NaN  \n",
       "3  https://pbs.twimg.com/media/Fi1Km3WUYAAfzHS.jpg  NaN          NaN  \n",
       "4                                              NaN  NaN          NaN  "
      ]
     },
     "execution_count": 32,
     "metadata": {},
     "output_type": "execute_result"
    }
   ],
   "source": [
    "df.head()"
   ]
  },
  {
   "cell_type": "code",
   "execution_count": 33,
   "id": "22e81a4e",
   "metadata": {},
   "outputs": [],
   "source": [
    "df = df['tweet'] # we only retrieve the text of the tweet column"
   ]
  },
  {
   "cell_type": "code",
   "execution_count": 34,
   "id": "ee26dc84",
   "metadata": {},
   "outputs": [
    {
     "data": {
      "text/plain": [
       "0"
      ]
     },
     "execution_count": 34,
     "metadata": {},
     "output_type": "execute_result"
    }
   ],
   "source": [
    "# check if there is any NaN value\n",
    "df.isnull().values.any()\n",
    "df.isnull().sum()"
   ]
  },
  {
   "cell_type": "code",
   "execution_count": 35,
   "id": "a498a22b",
   "metadata": {},
   "outputs": [],
   "source": [
    "preprocessing(df, path)"
   ]
  },
  {
   "cell_type": "markdown",
   "id": "75489e78",
   "metadata": {},
   "source": [
    "### Preprocess the two last month of chatGPT tweets"
   ]
  },
  {
   "cell_type": "code",
   "execution_count": 35,
   "id": "c133db30",
   "metadata": {},
   "outputs": [],
   "source": [
    "#path = 'datasets/preprocessed_chatgpt.csv'\n",
    "\n",
    "df = pd.read_csv('datasets/chatgpt.csv', engine='python')"
   ]
  },
  {
   "cell_type": "code",
   "execution_count": 38,
   "id": "d9032e46",
   "metadata": {},
   "outputs": [
    {
     "data": {
      "text/plain": [
       "400775"
      ]
     },
     "execution_count": 38,
     "metadata": {},
     "output_type": "execute_result"
    }
   ],
   "source": [
    "len(df)"
   ]
  },
  {
   "cell_type": "code",
   "execution_count": 37,
   "id": "119b4f7a",
   "metadata": {},
   "outputs": [
    {
     "data": {
      "text/plain": [
       "user_name               13\n",
       "text                    42\n",
       "user_location       112641\n",
       "user_description     25950\n",
       "user_created            60\n",
       "user_followers          60\n",
       "user_friends            60\n",
       "user_favourites         60\n",
       "user_verified           67\n",
       "date                    68\n",
       "hashtags             90810\n",
       "source                 106\n",
       "dtype: int64"
      ]
     },
     "execution_count": 37,
     "metadata": {},
     "output_type": "execute_result"
    }
   ],
   "source": [
    "# check if there is any NaN value\n",
    "\n",
    "df.isnull().values.any()\n",
    "df.isnull().sum()"
   ]
  },
  {
   "cell_type": "code",
   "execution_count": 39,
   "id": "a669663c",
   "metadata": {},
   "outputs": [
    {
     "data": {
      "text/plain": [
       "Index(['user_name', 'text', 'user_location', 'user_description',\n",
       "       'user_created', 'user_followers', 'user_friends', 'user_favourites',\n",
       "       'user_verified', 'date', 'hashtags', 'source'],\n",
       "      dtype='object')"
      ]
     },
     "execution_count": 39,
     "metadata": {},
     "output_type": "execute_result"
    }
   ],
   "source": [
    "df.columns"
   ]
  },
  {
   "cell_type": "markdown",
   "id": "a8c923de",
   "metadata": {},
   "source": [
    "### Selecting sample of users as scientists"
   ]
  },
  {
   "cell_type": "code",
   "execution_count": 40,
   "id": "a50a9891",
   "metadata": {},
   "outputs": [],
   "source": [
    "user = df[['user_name', 'text', 'user_description', 'user_verified', 'date']]"
   ]
  },
  {
   "cell_type": "code",
   "execution_count": 55,
   "id": "0ce03c2b",
   "metadata": {},
   "outputs": [
    {
     "data": {
      "text/html": [
       "<div>\n",
       "<style scoped>\n",
       "    .dataframe tbody tr th:only-of-type {\n",
       "        vertical-align: middle;\n",
       "    }\n",
       "\n",
       "    .dataframe tbody tr th {\n",
       "        vertical-align: top;\n",
       "    }\n",
       "\n",
       "    .dataframe thead th {\n",
       "        text-align: right;\n",
       "    }\n",
       "</style>\n",
       "<table border=\"1\" class=\"dataframe\">\n",
       "  <thead>\n",
       "    <tr style=\"text-align: right;\">\n",
       "      <th></th>\n",
       "      <th>user_name</th>\n",
       "      <th>text</th>\n",
       "      <th>user_description</th>\n",
       "      <th>user_verified</th>\n",
       "      <th>date</th>\n",
       "    </tr>\n",
       "  </thead>\n",
       "  <tbody>\n",
       "    <tr>\n",
       "      <th>0</th>\n",
       "      <td>Bilal Haidar</td>\n",
       "      <td>I'm happy to share with you that @draftmateai ...</td>\n",
       "      <td>Building @draftmateai ▪️ Developer &amp; Author ▪️...</td>\n",
       "      <td>False</td>\n",
       "      <td>2023-04-26 13:02:16+00:00</td>\n",
       "    </tr>\n",
       "    <tr>\n",
       "      <th>1</th>\n",
       "      <td>Josh Arrington</td>\n",
       "      <td>🤖 - Integrate ChatGPT into your Marketo Smart ...</td>\n",
       "      <td>Nomadic marketing vigilante, graphic + web des...</td>\n",
       "      <td>False</td>\n",
       "      <td>2023-04-26 13:02:06+00:00</td>\n",
       "    </tr>\n",
       "    <tr>\n",
       "      <th>3</th>\n",
       "      <td>Smartling</td>\n",
       "      <td>We’re pleased to announce new patent-pending t...</td>\n",
       "      <td>The leading #translation management platform t...</td>\n",
       "      <td>False</td>\n",
       "      <td>2023-04-26 13:02:05+00:00</td>\n",
       "    </tr>\n",
       "    <tr>\n",
       "      <th>4</th>\n",
       "      <td>Richard</td>\n",
       "      <td>Starting to tire of being scolded by ChatGPT f...</td>\n",
       "      <td>Engineering leader, coach &amp; mentor building re...</td>\n",
       "      <td>False</td>\n",
       "      <td>2023-04-26 13:02:00+00:00</td>\n",
       "    </tr>\n",
       "    <tr>\n",
       "      <th>5</th>\n",
       "      <td>ɃlockRoca ⚡️</td>\n",
       "      <td>@SpartaJustice It's notable that wikipedia ent...</td>\n",
       "      <td>Never stop learning! Research, develop, ฿uild ...</td>\n",
       "      <td>False</td>\n",
       "      <td>2023-04-26 13:01:52+00:00</td>\n",
       "    </tr>\n",
       "    <tr>\n",
       "      <th>6</th>\n",
       "      <td>Susi Wallner</td>\n",
       "      <td>💬 How to utilize advancements in natural #lang...</td>\n",
       "      <td>Head of Communications @StartUsInsights 🚀  \\n\\...</td>\n",
       "      <td>False</td>\n",
       "      <td>2023-04-26 13:01:41+00:00</td>\n",
       "    </tr>\n",
       "    <tr>\n",
       "      <th>7</th>\n",
       "      <td>Jay Scott</td>\n",
       "      <td>@zerohedge #ChatGPT called it 👀 https://t.co/a...</td>\n",
       "      <td>Feed Your Mind 🤯 Nourish Your Soul 🙌 Raise You...</td>\n",
       "      <td>False</td>\n",
       "      <td>2023-04-26 13:01:24+00:00</td>\n",
       "    </tr>\n",
       "    <tr>\n",
       "      <th>8</th>\n",
       "      <td>Black Law Firm Marketing Agency</td>\n",
       "      <td>THE #CHATGPT A.I LOCAL SEO DIGITAL PLAYBOOK\\nF...</td>\n",
       "      <td>Affordable Legal Marketing Solutions For Black...</td>\n",
       "      <td>False</td>\n",
       "      <td>2023-04-26 13:01:22+00:00</td>\n",
       "    </tr>\n",
       "    <tr>\n",
       "      <th>10</th>\n",
       "      <td>Coconut_Bob 🍞</td>\n",
       "      <td>2023-04-26T13:01:04+00:00\\nI’m buying some \\nD...</td>\n",
       "      <td>🍁 Hungry to feel.\\nAlways a story, sometimes t...</td>\n",
       "      <td>False</td>\n",
       "      <td>2023-04-26 13:01:14+00:00</td>\n",
       "    </tr>\n",
       "    <tr>\n",
       "      <th>11</th>\n",
       "      <td>Benedict Nwachukwu MD, MBA</td>\n",
       "      <td>There is a huge potential for #artificialintel...</td>\n",
       "      <td>Sports Surgeon @HSpecialSurgery | Founder @bes...</td>\n",
       "      <td>False</td>\n",
       "      <td>2023-04-26 13:00:34+00:00</td>\n",
       "    </tr>\n",
       "    <tr>\n",
       "      <th>12</th>\n",
       "      <td>Written by A.I.</td>\n",
       "      <td>PROMPT: Write a funny, one-panel comic about c...</td>\n",
       "      <td>The first daily comic strip written by A.I. \\n...</td>\n",
       "      <td>False</td>\n",
       "      <td>2023-04-26 13:00:34+00:00</td>\n",
       "    </tr>\n",
       "    <tr>\n",
       "      <th>13</th>\n",
       "      <td>Omdia</td>\n",
       "      <td>Join our upcoming livestream on May 2 and get ...</td>\n",
       "      <td>Connecting the dots across the entire tech eco...</td>\n",
       "      <td>False</td>\n",
       "      <td>2023-04-26 13:00:32+00:00</td>\n",
       "    </tr>\n",
       "    <tr>\n",
       "      <th>14</th>\n",
       "      <td>Acrolinx</td>\n",
       "      <td>Did you catch the WordBirds bonus episode on w...</td>\n",
       "      <td>Acrolinx software helps the world's greatest b...</td>\n",
       "      <td>False</td>\n",
       "      <td>2023-04-26 13:00:25+00:00</td>\n",
       "    </tr>\n",
       "    <tr>\n",
       "      <th>15</th>\n",
       "      <td>EON Reality</td>\n",
       "      <td>In this video, the EON AI Assistant gives us a...</td>\n",
       "      <td>Official Global 🌎 account of EON Reality, the ...</td>\n",
       "      <td>False</td>\n",
       "      <td>2023-04-26 13:00:21+00:00</td>\n",
       "    </tr>\n",
       "    <tr>\n",
       "      <th>16</th>\n",
       "      <td>Bitone Great</td>\n",
       "      <td>📉#Sell!📉\\n🔥RSI over 85!🔥\\n[#Bybit]\\n👇 Recommen...</td>\n",
       "      <td>#ChatGPT (AI) powered Free Trading Signal! \\nL...</td>\n",
       "      <td>False</td>\n",
       "      <td>2023-04-26 13:00:16+00:00</td>\n",
       "    </tr>\n",
       "  </tbody>\n",
       "</table>\n",
       "</div>"
      ],
      "text/plain": [
       "                          user_name  \\\n",
       "0                      Bilal Haidar   \n",
       "1                    Josh Arrington   \n",
       "3                         Smartling   \n",
       "4                           Richard   \n",
       "5                      ɃlockRoca ⚡️   \n",
       "6                      Susi Wallner   \n",
       "7                         Jay Scott   \n",
       "8   Black Law Firm Marketing Agency   \n",
       "10                    Coconut_Bob 🍞   \n",
       "11       Benedict Nwachukwu MD, MBA   \n",
       "12                  Written by A.I.   \n",
       "13                            Omdia   \n",
       "14                         Acrolinx   \n",
       "15                      EON Reality   \n",
       "16                     Bitone Great   \n",
       "\n",
       "                                                 text  \\\n",
       "0   I'm happy to share with you that @draftmateai ...   \n",
       "1   🤖 - Integrate ChatGPT into your Marketo Smart ...   \n",
       "3   We’re pleased to announce new patent-pending t...   \n",
       "4   Starting to tire of being scolded by ChatGPT f...   \n",
       "5   @SpartaJustice It's notable that wikipedia ent...   \n",
       "6   💬 How to utilize advancements in natural #lang...   \n",
       "7   @zerohedge #ChatGPT called it 👀 https://t.co/a...   \n",
       "8   THE #CHATGPT A.I LOCAL SEO DIGITAL PLAYBOOK\\nF...   \n",
       "10  2023-04-26T13:01:04+00:00\\nI’m buying some \\nD...   \n",
       "11  There is a huge potential for #artificialintel...   \n",
       "12  PROMPT: Write a funny, one-panel comic about c...   \n",
       "13  Join our upcoming livestream on May 2 and get ...   \n",
       "14  Did you catch the WordBirds bonus episode on w...   \n",
       "15  In this video, the EON AI Assistant gives us a...   \n",
       "16  📉#Sell!📉\\n🔥RSI over 85!🔥\\n[#Bybit]\\n👇 Recommen...   \n",
       "\n",
       "                                     user_description user_verified  \\\n",
       "0   Building @draftmateai ▪️ Developer & Author ▪️...         False   \n",
       "1   Nomadic marketing vigilante, graphic + web des...         False   \n",
       "3   The leading #translation management platform t...         False   \n",
       "4   Engineering leader, coach & mentor building re...         False   \n",
       "5   Never stop learning! Research, develop, ฿uild ...         False   \n",
       "6   Head of Communications @StartUsInsights 🚀  \\n\\...         False   \n",
       "7   Feed Your Mind 🤯 Nourish Your Soul 🙌 Raise You...         False   \n",
       "8   Affordable Legal Marketing Solutions For Black...         False   \n",
       "10  🍁 Hungry to feel.\\nAlways a story, sometimes t...         False   \n",
       "11  Sports Surgeon @HSpecialSurgery | Founder @bes...         False   \n",
       "12  The first daily comic strip written by A.I. \\n...         False   \n",
       "13  Connecting the dots across the entire tech eco...         False   \n",
       "14  Acrolinx software helps the world's greatest b...         False   \n",
       "15  Official Global 🌎 account of EON Reality, the ...         False   \n",
       "16  #ChatGPT (AI) powered Free Trading Signal! \\nL...         False   \n",
       "\n",
       "                         date  \n",
       "0   2023-04-26 13:02:16+00:00  \n",
       "1   2023-04-26 13:02:06+00:00  \n",
       "3   2023-04-26 13:02:05+00:00  \n",
       "4   2023-04-26 13:02:00+00:00  \n",
       "5   2023-04-26 13:01:52+00:00  \n",
       "6   2023-04-26 13:01:41+00:00  \n",
       "7   2023-04-26 13:01:24+00:00  \n",
       "8   2023-04-26 13:01:22+00:00  \n",
       "10  2023-04-26 13:01:14+00:00  \n",
       "11  2023-04-26 13:00:34+00:00  \n",
       "12  2023-04-26 13:00:34+00:00  \n",
       "13  2023-04-26 13:00:32+00:00  \n",
       "14  2023-04-26 13:00:25+00:00  \n",
       "15  2023-04-26 13:00:21+00:00  \n",
       "16  2023-04-26 13:00:16+00:00  "
      ]
     },
     "execution_count": 55,
     "metadata": {},
     "output_type": "execute_result"
    }
   ],
   "source": [
    "user.head(15)"
   ]
  },
  {
   "cell_type": "code",
   "execution_count": 42,
   "id": "af487d89",
   "metadata": {},
   "outputs": [
    {
     "data": {
      "text/plain": [
       "400775"
      ]
     },
     "execution_count": 42,
     "metadata": {},
     "output_type": "execute_result"
    }
   ],
   "source": [
    "len(user)"
   ]
  },
  {
   "cell_type": "code",
   "execution_count": 43,
   "id": "d75492d1",
   "metadata": {},
   "outputs": [],
   "source": [
    "user = user.dropna()"
   ]
  },
  {
   "cell_type": "code",
   "execution_count": 44,
   "id": "3e19f06c",
   "metadata": {},
   "outputs": [
    {
     "data": {
      "text/plain": [
       "374777"
      ]
     },
     "execution_count": 44,
     "metadata": {},
     "output_type": "execute_result"
    }
   ],
   "source": [
    "len(user)"
   ]
  },
  {
   "cell_type": "code",
   "execution_count": 46,
   "id": "b9c426ae",
   "metadata": {},
   "outputs": [
    {
     "data": {
      "text/plain": [
       "user_name           0\n",
       "text                0\n",
       "user_description    0\n",
       "user_verified       0\n",
       "date                0\n",
       "dtype: int64"
      ]
     },
     "execution_count": 46,
     "metadata": {},
     "output_type": "execute_result"
    }
   ],
   "source": [
    "user.isnull().values.any()\n",
    "user.isnull().sum()"
   ]
  },
  {
   "cell_type": "code",
   "execution_count": 149,
   "id": "40828d53",
   "metadata": {},
   "outputs": [],
   "source": [
    "user = user.reset_index(drop=True)"
   ]
  },
  {
   "cell_type": "code",
   "execution_count": 150,
   "id": "dbc58cf6",
   "metadata": {},
   "outputs": [
    {
     "data": {
      "text/html": [
       "<div>\n",
       "<style scoped>\n",
       "    .dataframe tbody tr th:only-of-type {\n",
       "        vertical-align: middle;\n",
       "    }\n",
       "\n",
       "    .dataframe tbody tr th {\n",
       "        vertical-align: top;\n",
       "    }\n",
       "\n",
       "    .dataframe thead th {\n",
       "        text-align: right;\n",
       "    }\n",
       "</style>\n",
       "<table border=\"1\" class=\"dataframe\">\n",
       "  <thead>\n",
       "    <tr style=\"text-align: right;\">\n",
       "      <th></th>\n",
       "      <th>user_name</th>\n",
       "      <th>text</th>\n",
       "      <th>user_description</th>\n",
       "      <th>user_verified</th>\n",
       "      <th>date</th>\n",
       "    </tr>\n",
       "  </thead>\n",
       "  <tbody>\n",
       "    <tr>\n",
       "      <th>0</th>\n",
       "      <td>Bilal Haidar</td>\n",
       "      <td>I'm happy to share with you that @draftmateai ...</td>\n",
       "      <td>Building @draftmateai ▪️ Developer &amp; Author ▪️...</td>\n",
       "      <td>False</td>\n",
       "      <td>2023-04-26 13:02:16+00:00</td>\n",
       "    </tr>\n",
       "    <tr>\n",
       "      <th>1</th>\n",
       "      <td>Josh Arrington</td>\n",
       "      <td>🤖 - Integrate ChatGPT into your Marketo Smart ...</td>\n",
       "      <td>Nomadic marketing vigilante, graphic + web des...</td>\n",
       "      <td>False</td>\n",
       "      <td>2023-04-26 13:02:06+00:00</td>\n",
       "    </tr>\n",
       "    <tr>\n",
       "      <th>2</th>\n",
       "      <td>Smartling</td>\n",
       "      <td>We’re pleased to announce new patent-pending t...</td>\n",
       "      <td>The leading #translation management platform t...</td>\n",
       "      <td>False</td>\n",
       "      <td>2023-04-26 13:02:05+00:00</td>\n",
       "    </tr>\n",
       "    <tr>\n",
       "      <th>3</th>\n",
       "      <td>Richard</td>\n",
       "      <td>Starting to tire of being scolded by ChatGPT f...</td>\n",
       "      <td>Engineering leader, coach &amp; mentor building re...</td>\n",
       "      <td>False</td>\n",
       "      <td>2023-04-26 13:02:00+00:00</td>\n",
       "    </tr>\n",
       "    <tr>\n",
       "      <th>4</th>\n",
       "      <td>ɃlockRoca ⚡️</td>\n",
       "      <td>@SpartaJustice It's notable that wikipedia ent...</td>\n",
       "      <td>Never stop learning! Research, develop, ฿uild ...</td>\n",
       "      <td>False</td>\n",
       "      <td>2023-04-26 13:01:52+00:00</td>\n",
       "    </tr>\n",
       "    <tr>\n",
       "      <th>5</th>\n",
       "      <td>Susi Wallner</td>\n",
       "      <td>💬 How to utilize advancements in natural #lang...</td>\n",
       "      <td>Head of Communications @StartUsInsights 🚀  \\n\\...</td>\n",
       "      <td>False</td>\n",
       "      <td>2023-04-26 13:01:41+00:00</td>\n",
       "    </tr>\n",
       "    <tr>\n",
       "      <th>6</th>\n",
       "      <td>Jay Scott</td>\n",
       "      <td>@zerohedge #ChatGPT called it 👀 https://t.co/a...</td>\n",
       "      <td>Feed Your Mind 🤯 Nourish Your Soul 🙌 Raise You...</td>\n",
       "      <td>False</td>\n",
       "      <td>2023-04-26 13:01:24+00:00</td>\n",
       "    </tr>\n",
       "    <tr>\n",
       "      <th>7</th>\n",
       "      <td>Black Law Firm Marketing Agency</td>\n",
       "      <td>THE #CHATGPT A.I LOCAL SEO DIGITAL PLAYBOOK\\nF...</td>\n",
       "      <td>Affordable Legal Marketing Solutions For Black...</td>\n",
       "      <td>False</td>\n",
       "      <td>2023-04-26 13:01:22+00:00</td>\n",
       "    </tr>\n",
       "    <tr>\n",
       "      <th>8</th>\n",
       "      <td>Coconut_Bob 🍞</td>\n",
       "      <td>2023-04-26T13:01:04+00:00\\nI’m buying some \\nD...</td>\n",
       "      <td>🍁 Hungry to feel.\\nAlways a story, sometimes t...</td>\n",
       "      <td>False</td>\n",
       "      <td>2023-04-26 13:01:14+00:00</td>\n",
       "    </tr>\n",
       "    <tr>\n",
       "      <th>9</th>\n",
       "      <td>Benedict Nwachukwu MD, MBA</td>\n",
       "      <td>There is a huge potential for #artificialintel...</td>\n",
       "      <td>Sports Surgeon @HSpecialSurgery | Founder @bes...</td>\n",
       "      <td>False</td>\n",
       "      <td>2023-04-26 13:00:34+00:00</td>\n",
       "    </tr>\n",
       "    <tr>\n",
       "      <th>10</th>\n",
       "      <td>Written by A.I.</td>\n",
       "      <td>PROMPT: Write a funny, one-panel comic about c...</td>\n",
       "      <td>The first daily comic strip written by A.I. \\n...</td>\n",
       "      <td>False</td>\n",
       "      <td>2023-04-26 13:00:34+00:00</td>\n",
       "    </tr>\n",
       "    <tr>\n",
       "      <th>11</th>\n",
       "      <td>Omdia</td>\n",
       "      <td>Join our upcoming livestream on May 2 and get ...</td>\n",
       "      <td>Connecting the dots across the entire tech eco...</td>\n",
       "      <td>False</td>\n",
       "      <td>2023-04-26 13:00:32+00:00</td>\n",
       "    </tr>\n",
       "    <tr>\n",
       "      <th>12</th>\n",
       "      <td>Acrolinx</td>\n",
       "      <td>Did you catch the WordBirds bonus episode on w...</td>\n",
       "      <td>Acrolinx software helps the world's greatest b...</td>\n",
       "      <td>False</td>\n",
       "      <td>2023-04-26 13:00:25+00:00</td>\n",
       "    </tr>\n",
       "    <tr>\n",
       "      <th>13</th>\n",
       "      <td>EON Reality</td>\n",
       "      <td>In this video, the EON AI Assistant gives us a...</td>\n",
       "      <td>Official Global 🌎 account of EON Reality, the ...</td>\n",
       "      <td>False</td>\n",
       "      <td>2023-04-26 13:00:21+00:00</td>\n",
       "    </tr>\n",
       "    <tr>\n",
       "      <th>14</th>\n",
       "      <td>Bitone Great</td>\n",
       "      <td>📉#Sell!📉\\n🔥RSI over 85!🔥\\n[#Bybit]\\n👇 Recommen...</td>\n",
       "      <td>#ChatGPT (AI) powered Free Trading Signal! \\nL...</td>\n",
       "      <td>False</td>\n",
       "      <td>2023-04-26 13:00:16+00:00</td>\n",
       "    </tr>\n",
       "  </tbody>\n",
       "</table>\n",
       "</div>"
      ],
      "text/plain": [
       "                          user_name  \\\n",
       "0                      Bilal Haidar   \n",
       "1                    Josh Arrington   \n",
       "2                         Smartling   \n",
       "3                           Richard   \n",
       "4                      ɃlockRoca ⚡️   \n",
       "5                      Susi Wallner   \n",
       "6                         Jay Scott   \n",
       "7   Black Law Firm Marketing Agency   \n",
       "8                     Coconut_Bob 🍞   \n",
       "9        Benedict Nwachukwu MD, MBA   \n",
       "10                  Written by A.I.   \n",
       "11                            Omdia   \n",
       "12                         Acrolinx   \n",
       "13                      EON Reality   \n",
       "14                     Bitone Great   \n",
       "\n",
       "                                                 text  \\\n",
       "0   I'm happy to share with you that @draftmateai ...   \n",
       "1   🤖 - Integrate ChatGPT into your Marketo Smart ...   \n",
       "2   We’re pleased to announce new patent-pending t...   \n",
       "3   Starting to tire of being scolded by ChatGPT f...   \n",
       "4   @SpartaJustice It's notable that wikipedia ent...   \n",
       "5   💬 How to utilize advancements in natural #lang...   \n",
       "6   @zerohedge #ChatGPT called it 👀 https://t.co/a...   \n",
       "7   THE #CHATGPT A.I LOCAL SEO DIGITAL PLAYBOOK\\nF...   \n",
       "8   2023-04-26T13:01:04+00:00\\nI’m buying some \\nD...   \n",
       "9   There is a huge potential for #artificialintel...   \n",
       "10  PROMPT: Write a funny, one-panel comic about c...   \n",
       "11  Join our upcoming livestream on May 2 and get ...   \n",
       "12  Did you catch the WordBirds bonus episode on w...   \n",
       "13  In this video, the EON AI Assistant gives us a...   \n",
       "14  📉#Sell!📉\\n🔥RSI over 85!🔥\\n[#Bybit]\\n👇 Recommen...   \n",
       "\n",
       "                                     user_description user_verified  \\\n",
       "0   Building @draftmateai ▪️ Developer & Author ▪️...         False   \n",
       "1   Nomadic marketing vigilante, graphic + web des...         False   \n",
       "2   The leading #translation management platform t...         False   \n",
       "3   Engineering leader, coach & mentor building re...         False   \n",
       "4   Never stop learning! Research, develop, ฿uild ...         False   \n",
       "5   Head of Communications @StartUsInsights 🚀  \\n\\...         False   \n",
       "6   Feed Your Mind 🤯 Nourish Your Soul 🙌 Raise You...         False   \n",
       "7   Affordable Legal Marketing Solutions For Black...         False   \n",
       "8   🍁 Hungry to feel.\\nAlways a story, sometimes t...         False   \n",
       "9   Sports Surgeon @HSpecialSurgery | Founder @bes...         False   \n",
       "10  The first daily comic strip written by A.I. \\n...         False   \n",
       "11  Connecting the dots across the entire tech eco...         False   \n",
       "12  Acrolinx software helps the world's greatest b...         False   \n",
       "13  Official Global 🌎 account of EON Reality, the ...         False   \n",
       "14  #ChatGPT (AI) powered Free Trading Signal! \\nL...         False   \n",
       "\n",
       "                         date  \n",
       "0   2023-04-26 13:02:16+00:00  \n",
       "1   2023-04-26 13:02:06+00:00  \n",
       "2   2023-04-26 13:02:05+00:00  \n",
       "3   2023-04-26 13:02:00+00:00  \n",
       "4   2023-04-26 13:01:52+00:00  \n",
       "5   2023-04-26 13:01:41+00:00  \n",
       "6   2023-04-26 13:01:24+00:00  \n",
       "7   2023-04-26 13:01:22+00:00  \n",
       "8   2023-04-26 13:01:14+00:00  \n",
       "9   2023-04-26 13:00:34+00:00  \n",
       "10  2023-04-26 13:00:34+00:00  \n",
       "11  2023-04-26 13:00:32+00:00  \n",
       "12  2023-04-26 13:00:25+00:00  \n",
       "13  2023-04-26 13:00:21+00:00  \n",
       "14  2023-04-26 13:00:16+00:00  "
      ]
     },
     "execution_count": 150,
     "metadata": {},
     "output_type": "execute_result"
    }
   ],
   "source": [
    "user.head(15)"
   ]
  },
  {
   "cell_type": "code",
   "execution_count": 151,
   "id": "265dac6c",
   "metadata": {},
   "outputs": [
    {
     "data": {
      "text/plain": [
       "374777"
      ]
     },
     "execution_count": 151,
     "metadata": {},
     "output_type": "execute_result"
    }
   ],
   "source": [
    "len(user)"
   ]
  },
  {
   "cell_type": "code",
   "execution_count": 152,
   "id": "26be299a",
   "metadata": {},
   "outputs": [],
   "source": [
    "sample = user.iloc[:374, :]"
   ]
  },
  {
   "cell_type": "code",
   "execution_count": 153,
   "id": "2b94a33b",
   "metadata": {},
   "outputs": [
    {
     "data": {
      "text/html": [
       "<div>\n",
       "<style scoped>\n",
       "    .dataframe tbody tr th:only-of-type {\n",
       "        vertical-align: middle;\n",
       "    }\n",
       "\n",
       "    .dataframe tbody tr th {\n",
       "        vertical-align: top;\n",
       "    }\n",
       "\n",
       "    .dataframe thead th {\n",
       "        text-align: right;\n",
       "    }\n",
       "</style>\n",
       "<table border=\"1\" class=\"dataframe\">\n",
       "  <thead>\n",
       "    <tr style=\"text-align: right;\">\n",
       "      <th></th>\n",
       "      <th>user_name</th>\n",
       "      <th>text</th>\n",
       "      <th>user_description</th>\n",
       "      <th>user_verified</th>\n",
       "      <th>date</th>\n",
       "    </tr>\n",
       "  </thead>\n",
       "  <tbody>\n",
       "    <tr>\n",
       "      <th>0</th>\n",
       "      <td>Bilal Haidar</td>\n",
       "      <td>I'm happy to share with you that @draftmateai ...</td>\n",
       "      <td>Building @draftmateai ▪️ Developer &amp; Author ▪️...</td>\n",
       "      <td>False</td>\n",
       "      <td>2023-04-26 13:02:16+00:00</td>\n",
       "    </tr>\n",
       "    <tr>\n",
       "      <th>1</th>\n",
       "      <td>Josh Arrington</td>\n",
       "      <td>🤖 - Integrate ChatGPT into your Marketo Smart ...</td>\n",
       "      <td>Nomadic marketing vigilante, graphic + web des...</td>\n",
       "      <td>False</td>\n",
       "      <td>2023-04-26 13:02:06+00:00</td>\n",
       "    </tr>\n",
       "    <tr>\n",
       "      <th>2</th>\n",
       "      <td>Smartling</td>\n",
       "      <td>We’re pleased to announce new patent-pending t...</td>\n",
       "      <td>The leading #translation management platform t...</td>\n",
       "      <td>False</td>\n",
       "      <td>2023-04-26 13:02:05+00:00</td>\n",
       "    </tr>\n",
       "    <tr>\n",
       "      <th>3</th>\n",
       "      <td>Richard</td>\n",
       "      <td>Starting to tire of being scolded by ChatGPT f...</td>\n",
       "      <td>Engineering leader, coach &amp; mentor building re...</td>\n",
       "      <td>False</td>\n",
       "      <td>2023-04-26 13:02:00+00:00</td>\n",
       "    </tr>\n",
       "    <tr>\n",
       "      <th>4</th>\n",
       "      <td>ɃlockRoca ⚡️</td>\n",
       "      <td>@SpartaJustice It's notable that wikipedia ent...</td>\n",
       "      <td>Never stop learning! Research, develop, ฿uild ...</td>\n",
       "      <td>False</td>\n",
       "      <td>2023-04-26 13:01:52+00:00</td>\n",
       "    </tr>\n",
       "    <tr>\n",
       "      <th>...</th>\n",
       "      <td>...</td>\n",
       "      <td>...</td>\n",
       "      <td>...</td>\n",
       "      <td>...</td>\n",
       "      <td>...</td>\n",
       "    </tr>\n",
       "    <tr>\n",
       "      <th>369</th>\n",
       "      <td>🟩 Dr Martin Hiesboeck</td>\n",
       "      <td>How long before someone puts #ChatGPT in a hum...</td>\n",
       "      <td>Head of Research @upholdinc • Founder @alpineb...</td>\n",
       "      <td>False</td>\n",
       "      <td>2023-04-26 11:31:54+00:00</td>\n",
       "    </tr>\n",
       "    <tr>\n",
       "      <th>370</th>\n",
       "      <td>THE DECODER - EVERYTHING AI</td>\n",
       "      <td>👉 #ChatGPT could threaten Google search in the...</td>\n",
       "      <td>News and updates on AI one 👉 at a time\\n\\nDECO...</td>\n",
       "      <td>False</td>\n",
       "      <td>2023-04-26 11:30:36+00:00</td>\n",
       "    </tr>\n",
       "    <tr>\n",
       "      <th>371</th>\n",
       "      <td>Bernard Wainaina</td>\n",
       "      <td>#ChatGPT I don’t think ChatGPT and other langu...</td>\n",
       "      <td>Independent Agribusiness Advisor</td>\n",
       "      <td>False</td>\n",
       "      <td>2023-04-26 11:30:36+00:00</td>\n",
       "    </tr>\n",
       "    <tr>\n",
       "      <th>372</th>\n",
       "      <td>Cybersécurité, IA, Cryptos</td>\n",
       "      <td>AI #Chatbots and the #Humans Who Love Them\\nht...</td>\n",
       "      <td>Top 10 Influencers #insurtech / #cybersecurity...</td>\n",
       "      <td>False</td>\n",
       "      <td>2023-04-26 11:30:23+00:00</td>\n",
       "    </tr>\n",
       "    <tr>\n",
       "      <th>373</th>\n",
       "      <td>Charisma</td>\n",
       "      <td>Catch Charisma's @GGadney at #BridgeAI in half...</td>\n",
       "      <td>The world-leading AI toolkit for creating beli...</td>\n",
       "      <td>False</td>\n",
       "      <td>2023-04-26 11:30:07+00:00</td>\n",
       "    </tr>\n",
       "  </tbody>\n",
       "</table>\n",
       "<p>374 rows × 5 columns</p>\n",
       "</div>"
      ],
      "text/plain": [
       "                       user_name  \\\n",
       "0                   Bilal Haidar   \n",
       "1                 Josh Arrington   \n",
       "2                      Smartling   \n",
       "3                        Richard   \n",
       "4                   ɃlockRoca ⚡️   \n",
       "..                           ...   \n",
       "369        🟩 Dr Martin Hiesboeck   \n",
       "370  THE DECODER - EVERYTHING AI   \n",
       "371             Bernard Wainaina   \n",
       "372   Cybersécurité, IA, Cryptos   \n",
       "373                     Charisma   \n",
       "\n",
       "                                                  text  \\\n",
       "0    I'm happy to share with you that @draftmateai ...   \n",
       "1    🤖 - Integrate ChatGPT into your Marketo Smart ...   \n",
       "2    We’re pleased to announce new patent-pending t...   \n",
       "3    Starting to tire of being scolded by ChatGPT f...   \n",
       "4    @SpartaJustice It's notable that wikipedia ent...   \n",
       "..                                                 ...   \n",
       "369  How long before someone puts #ChatGPT in a hum...   \n",
       "370  👉 #ChatGPT could threaten Google search in the...   \n",
       "371  #ChatGPT I don’t think ChatGPT and other langu...   \n",
       "372  AI #Chatbots and the #Humans Who Love Them\\nht...   \n",
       "373  Catch Charisma's @GGadney at #BridgeAI in half...   \n",
       "\n",
       "                                      user_description user_verified  \\\n",
       "0    Building @draftmateai ▪️ Developer & Author ▪️...         False   \n",
       "1    Nomadic marketing vigilante, graphic + web des...         False   \n",
       "2    The leading #translation management platform t...         False   \n",
       "3    Engineering leader, coach & mentor building re...         False   \n",
       "4    Never stop learning! Research, develop, ฿uild ...         False   \n",
       "..                                                 ...           ...   \n",
       "369  Head of Research @upholdinc • Founder @alpineb...         False   \n",
       "370  News and updates on AI one 👉 at a time\\n\\nDECO...         False   \n",
       "371                   Independent Agribusiness Advisor         False   \n",
       "372  Top 10 Influencers #insurtech / #cybersecurity...         False   \n",
       "373  The world-leading AI toolkit for creating beli...         False   \n",
       "\n",
       "                          date  \n",
       "0    2023-04-26 13:02:16+00:00  \n",
       "1    2023-04-26 13:02:06+00:00  \n",
       "2    2023-04-26 13:02:05+00:00  \n",
       "3    2023-04-26 13:02:00+00:00  \n",
       "4    2023-04-26 13:01:52+00:00  \n",
       "..                         ...  \n",
       "369  2023-04-26 11:31:54+00:00  \n",
       "370  2023-04-26 11:30:36+00:00  \n",
       "371  2023-04-26 11:30:36+00:00  \n",
       "372  2023-04-26 11:30:23+00:00  \n",
       "373  2023-04-26 11:30:07+00:00  \n",
       "\n",
       "[374 rows x 5 columns]"
      ]
     },
     "execution_count": 153,
     "metadata": {},
     "output_type": "execute_result"
    }
   ],
   "source": [
    "sample"
   ]
  },
  {
   "cell_type": "code",
   "execution_count": 66,
   "id": "91e73831",
   "metadata": {},
   "outputs": [],
   "source": [
    "# to consider a scientists 1, othw 0\n",
    "label = np.zeros(length)"
   ]
  },
  {
   "cell_type": "code",
   "execution_count": 144,
   "id": "44d76b9d",
   "metadata": {},
   "outputs": [
    {
     "data": {
      "text/html": [
       "<div>\n",
       "<style scoped>\n",
       "    .dataframe tbody tr th:only-of-type {\n",
       "        vertical-align: middle;\n",
       "    }\n",
       "\n",
       "    .dataframe tbody tr th {\n",
       "        vertical-align: top;\n",
       "    }\n",
       "\n",
       "    .dataframe thead th {\n",
       "        text-align: right;\n",
       "    }\n",
       "</style>\n",
       "<table border=\"1\" class=\"dataframe\">\n",
       "  <thead>\n",
       "    <tr style=\"text-align: right;\">\n",
       "      <th></th>\n",
       "      <th>user_name</th>\n",
       "      <th>text</th>\n",
       "      <th>user_description</th>\n",
       "      <th>user_verified</th>\n",
       "      <th>date</th>\n",
       "    </tr>\n",
       "  </thead>\n",
       "  <tbody>\n",
       "    <tr>\n",
       "      <th>56</th>\n",
       "      <td>Bitone Great</td>\n",
       "      <td>📉#Sell!📉\\n🔥RSI over 85!🔥\\n[#Bybit]\\n👇 Recommen...</td>\n",
       "      <td>#ChatGPT (AI) powered Free Trading Signal! \\nL...</td>\n",
       "      <td>False</td>\n",
       "      <td>2023-04-26 12:52:37+00:00</td>\n",
       "    </tr>\n",
       "    <tr>\n",
       "      <th>57</th>\n",
       "      <td>Bitone Great</td>\n",
       "      <td>📉#Sell!📉\\n🔥RSI over 85!🔥\\n[#Bybit]\\n👇 Recommen...</td>\n",
       "      <td>#ChatGPT (AI) powered Free Trading Signal! \\nL...</td>\n",
       "      <td>False</td>\n",
       "      <td>2023-04-26 12:52:28+00:00</td>\n",
       "    </tr>\n",
       "    <tr>\n",
       "      <th>58</th>\n",
       "      <td>Bitone Great</td>\n",
       "      <td>📉#Sell!📉\\n🔥RSI over 85!🔥\\n[#Bybit]\\n👇 Recommen...</td>\n",
       "      <td>#ChatGPT (AI) powered Free Trading Signal! \\nL...</td>\n",
       "      <td>False</td>\n",
       "      <td>2023-04-26 12:51:27+00:00</td>\n",
       "    </tr>\n",
       "    <tr>\n",
       "      <th>59</th>\n",
       "      <td>Bend.AI</td>\n",
       "      <td>https://t.co/WOcvr56ryv 🎉 Perfect timing to be...</td>\n",
       "      <td>Marketing Science | Attribution | Analytics | ...</td>\n",
       "      <td>False</td>\n",
       "      <td>2023-04-26 12:51:07+00:00</td>\n",
       "    </tr>\n",
       "    <tr>\n",
       "      <th>60</th>\n",
       "      <td>Bitone Great</td>\n",
       "      <td>📉#Sell!📉\\n🔥RSI over 85!🔥\\n[#Bybit]\\n👇 Recommen...</td>\n",
       "      <td>#ChatGPT (AI) powered Free Trading Signal! \\nL...</td>\n",
       "      <td>False</td>\n",
       "      <td>2023-04-26 12:51:06+00:00</td>\n",
       "    </tr>\n",
       "    <tr>\n",
       "      <th>...</th>\n",
       "      <td>...</td>\n",
       "      <td>...</td>\n",
       "      <td>...</td>\n",
       "      <td>...</td>\n",
       "      <td>...</td>\n",
       "    </tr>\n",
       "    <tr>\n",
       "      <th>388</th>\n",
       "      <td>🟩 Dr Martin Hiesboeck</td>\n",
       "      <td>How long before someone puts #ChatGPT in a hum...</td>\n",
       "      <td>Head of Research @upholdinc • Founder @alpineb...</td>\n",
       "      <td>False</td>\n",
       "      <td>2023-04-26 11:31:54+00:00</td>\n",
       "    </tr>\n",
       "    <tr>\n",
       "      <th>389</th>\n",
       "      <td>THE DECODER - EVERYTHING AI</td>\n",
       "      <td>👉 #ChatGPT could threaten Google search in the...</td>\n",
       "      <td>News and updates on AI one 👉 at a time\\n\\nDECO...</td>\n",
       "      <td>False</td>\n",
       "      <td>2023-04-26 11:30:36+00:00</td>\n",
       "    </tr>\n",
       "    <tr>\n",
       "      <th>390</th>\n",
       "      <td>Bernard Wainaina</td>\n",
       "      <td>#ChatGPT I don’t think ChatGPT and other langu...</td>\n",
       "      <td>Independent Agribusiness Advisor</td>\n",
       "      <td>False</td>\n",
       "      <td>2023-04-26 11:30:36+00:00</td>\n",
       "    </tr>\n",
       "    <tr>\n",
       "      <th>391</th>\n",
       "      <td>Cybersécurité, IA, Cryptos</td>\n",
       "      <td>AI #Chatbots and the #Humans Who Love Them\\nht...</td>\n",
       "      <td>Top 10 Influencers #insurtech / #cybersecurity...</td>\n",
       "      <td>False</td>\n",
       "      <td>2023-04-26 11:30:23+00:00</td>\n",
       "    </tr>\n",
       "    <tr>\n",
       "      <th>392</th>\n",
       "      <td>Charisma</td>\n",
       "      <td>Catch Charisma's @GGadney at #BridgeAI in half...</td>\n",
       "      <td>The world-leading AI toolkit for creating beli...</td>\n",
       "      <td>False</td>\n",
       "      <td>2023-04-26 11:30:07+00:00</td>\n",
       "    </tr>\n",
       "  </tbody>\n",
       "</table>\n",
       "<p>320 rows × 5 columns</p>\n",
       "</div>"
      ],
      "text/plain": [
       "                       user_name  \\\n",
       "56                  Bitone Great   \n",
       "57                  Bitone Great   \n",
       "58                  Bitone Great   \n",
       "59                       Bend.AI   \n",
       "60                  Bitone Great   \n",
       "..                           ...   \n",
       "388        🟩 Dr Martin Hiesboeck   \n",
       "389  THE DECODER - EVERYTHING AI   \n",
       "390             Bernard Wainaina   \n",
       "391   Cybersécurité, IA, Cryptos   \n",
       "392                     Charisma   \n",
       "\n",
       "                                                  text  \\\n",
       "56   📉#Sell!📉\\n🔥RSI over 85!🔥\\n[#Bybit]\\n👇 Recommen...   \n",
       "57   📉#Sell!📉\\n🔥RSI over 85!🔥\\n[#Bybit]\\n👇 Recommen...   \n",
       "58   📉#Sell!📉\\n🔥RSI over 85!🔥\\n[#Bybit]\\n👇 Recommen...   \n",
       "59   https://t.co/WOcvr56ryv 🎉 Perfect timing to be...   \n",
       "60   📉#Sell!📉\\n🔥RSI over 85!🔥\\n[#Bybit]\\n👇 Recommen...   \n",
       "..                                                 ...   \n",
       "388  How long before someone puts #ChatGPT in a hum...   \n",
       "389  👉 #ChatGPT could threaten Google search in the...   \n",
       "390  #ChatGPT I don’t think ChatGPT and other langu...   \n",
       "391  AI #Chatbots and the #Humans Who Love Them\\nht...   \n",
       "392  Catch Charisma's @GGadney at #BridgeAI in half...   \n",
       "\n",
       "                                      user_description user_verified  \\\n",
       "56   #ChatGPT (AI) powered Free Trading Signal! \\nL...         False   \n",
       "57   #ChatGPT (AI) powered Free Trading Signal! \\nL...         False   \n",
       "58   #ChatGPT (AI) powered Free Trading Signal! \\nL...         False   \n",
       "59   Marketing Science | Attribution | Analytics | ...         False   \n",
       "60   #ChatGPT (AI) powered Free Trading Signal! \\nL...         False   \n",
       "..                                                 ...           ...   \n",
       "388  Head of Research @upholdinc • Founder @alpineb...         False   \n",
       "389  News and updates on AI one 👉 at a time\\n\\nDECO...         False   \n",
       "390                   Independent Agribusiness Advisor         False   \n",
       "391  Top 10 Influencers #insurtech / #cybersecurity...         False   \n",
       "392  The world-leading AI toolkit for creating beli...         False   \n",
       "\n",
       "                          date  \n",
       "56   2023-04-26 12:52:37+00:00  \n",
       "57   2023-04-26 12:52:28+00:00  \n",
       "58   2023-04-26 12:51:27+00:00  \n",
       "59   2023-04-26 12:51:07+00:00  \n",
       "60   2023-04-26 12:51:06+00:00  \n",
       "..                         ...  \n",
       "388  2023-04-26 11:31:54+00:00  \n",
       "389  2023-04-26 11:30:36+00:00  \n",
       "390  2023-04-26 11:30:36+00:00  \n",
       "391  2023-04-26 11:30:23+00:00  \n",
       "392  2023-04-26 11:30:07+00:00  \n",
       "\n",
       "[320 rows x 5 columns]"
      ]
     },
     "execution_count": 144,
     "metadata": {},
     "output_type": "execute_result"
    }
   ],
   "source": [
    "sample.tail(320)"
   ]
  },
  {
   "cell_type": "code",
   "execution_count": 145,
   "id": "5e2b21cf",
   "metadata": {},
   "outputs": [
    {
     "ename": "IndexError",
     "evalue": "index 388 is out of bounds for axis 0 with size 374",
     "output_type": "error",
     "traceback": [
      "\u001b[1;31m---------------------------------------------------------------------------\u001b[0m",
      "\u001b[1;31mIndexError\u001b[0m                                Traceback (most recent call last)",
      "\u001b[1;32m~\\AppData\\Local\\Temp\\ipykernel_17728\\3347309890.py\u001b[0m in \u001b[0;36m<module>\u001b[1;34m\u001b[0m\n\u001b[0;32m     25\u001b[0m \u001b[0mlabel\u001b[0m\u001b[1;33m[\u001b[0m\u001b[1;36m231\u001b[0m\u001b[1;33m]\u001b[0m \u001b[1;33m=\u001b[0m \u001b[1;36m1\u001b[0m\u001b[1;33m\u001b[0m\u001b[1;33m\u001b[0m\u001b[0m\n\u001b[0;32m     26\u001b[0m \u001b[0mlabel\u001b[0m\u001b[1;33m[\u001b[0m\u001b[1;36m294\u001b[0m\u001b[1;33m]\u001b[0m \u001b[1;33m=\u001b[0m \u001b[1;36m1\u001b[0m\u001b[1;33m\u001b[0m\u001b[1;33m\u001b[0m\u001b[0m\n\u001b[1;32m---> 27\u001b[1;33m \u001b[0mlabel\u001b[0m\u001b[1;33m[\u001b[0m\u001b[1;36m388\u001b[0m\u001b[1;33m]\u001b[0m \u001b[1;33m=\u001b[0m \u001b[1;36m1\u001b[0m\u001b[1;33m\u001b[0m\u001b[1;33m\u001b[0m\u001b[0m\n\u001b[0m\u001b[0;32m     28\u001b[0m \u001b[0mlabel\u001b[0m\u001b[1;33m[\u001b[0m\u001b[1;36m364\u001b[0m\u001b[1;33m]\u001b[0m \u001b[1;33m=\u001b[0m \u001b[1;36m1\u001b[0m\u001b[1;33m\u001b[0m\u001b[1;33m\u001b[0m\u001b[0m\n\u001b[0;32m     29\u001b[0m \u001b[0mlabel\u001b[0m\u001b[1;33m[\u001b[0m\u001b[1;36m352\u001b[0m\u001b[1;33m]\u001b[0m \u001b[1;33m=\u001b[0m \u001b[1;36m1\u001b[0m\u001b[1;33m\u001b[0m\u001b[1;33m\u001b[0m\u001b[0m\n",
      "\u001b[1;31mIndexError\u001b[0m: index 388 is out of bounds for axis 0 with size 374"
     ]
    }
   ],
   "source": [
    "# A REFAIRE\n",
    "label[4] = 1\n",
    "label[11] = 1\n",
    "label[18] = 1\n",
    "label[25] = 1\n",
    "label[27] = 1\n",
    "label[278] = 1\n",
    "label[186] = 1\n",
    "label[352] = 1\n",
    "label[23] = 1\n",
    "label[274] = 1\n",
    "label[188] = 1\n",
    "label[185] = 1\n",
    "label[110] = 1\n",
    "label[282] = 1\n",
    "label[298] = 1\n",
    "label[72] = 1\n",
    "label[139] = 1\n",
    "label[79] = 1\n",
    "label[364] = 1\n",
    "label[261] = 1\n",
    "label[182] = 1\n",
    "label[241] = 1\n",
    "label[360] = 1\n",
    "label[207] = 1\n",
    "label[231] = 1\n",
    "label[294] = 1\n",
    "label[388] = 1\n",
    "label[364] = 1\n",
    "label[352] = 1\n",
    "label[301] = 1\n",
    "label[298] = 1\n",
    "label[290] = 1\n",
    "label[274] = 1\n",
    "label[244] = 1\n",
    "label[219] = 1\n",
    "label[213] = 1\n",
    "label[146] = 1\n",
    "label[99] = 1\n",
    "label[83] = 1\n",
    "label[79] = 1\n",
    "label[72] = 1\n",
    "label[62] = 1\n",
    "label[63] = 1"
   ]
  },
  {
   "cell_type": "markdown",
   "id": "b60c448d",
   "metadata": {},
   "source": [
    "### Constructing preprocessed dataset of the two last months of launching"
   ]
  },
  {
   "cell_type": "code",
   "execution_count": 15,
   "id": "5e14008b",
   "metadata": {},
   "outputs": [
    {
     "data": {
      "text/plain": [
       "270392    2023-02-07 07:52:33+00:00\n",
       "Name: date, dtype: object"
      ]
     },
     "execution_count": 15,
     "metadata": {},
     "output_type": "execute_result"
    }
   ],
   "source": [
    "temp = df['date'].sample()\n",
    "temp"
   ]
  },
  {
   "cell_type": "code",
   "execution_count": 16,
   "id": "333c5c66",
   "metadata": {},
   "outputs": [],
   "source": [
    "start_date = '2023-02-26 12:30:18+00:00'\n",
    "end_date = '2023-04-26 12:30:18+00:00'\n",
    "\n",
    "# Select DataFrame rows between two dates\n",
    "mask = (df['date'] > start_date) & (df['date'] <= end_date)\n",
    "df2 = df.loc[mask]"
   ]
  },
  {
   "cell_type": "code",
   "execution_count": 17,
   "id": "17384e5c",
   "metadata": {},
   "outputs": [
    {
     "data": {
      "text/html": [
       "<div>\n",
       "<style scoped>\n",
       "    .dataframe tbody tr th:only-of-type {\n",
       "        vertical-align: middle;\n",
       "    }\n",
       "\n",
       "    .dataframe tbody tr th {\n",
       "        vertical-align: top;\n",
       "    }\n",
       "\n",
       "    .dataframe thead th {\n",
       "        text-align: right;\n",
       "    }\n",
       "</style>\n",
       "<table border=\"1\" class=\"dataframe\">\n",
       "  <thead>\n",
       "    <tr style=\"text-align: right;\">\n",
       "      <th></th>\n",
       "      <th>user_name</th>\n",
       "      <th>text</th>\n",
       "      <th>user_location</th>\n",
       "      <th>user_description</th>\n",
       "      <th>user_created</th>\n",
       "      <th>user_followers</th>\n",
       "      <th>user_friends</th>\n",
       "      <th>user_favourites</th>\n",
       "      <th>user_verified</th>\n",
       "      <th>date</th>\n",
       "      <th>hashtags</th>\n",
       "      <th>source</th>\n",
       "    </tr>\n",
       "  </thead>\n",
       "  <tbody>\n",
       "    <tr>\n",
       "      <th>153</th>\n",
       "      <td>TechStory</td>\n",
       "      <td>Fake ChatGpts flood the App Store 🤥\\nhttps://t...</td>\n",
       "      <td>United States</td>\n",
       "      <td>Latest News from Tech, Crypto, EV, Space, AI, ...</td>\n",
       "      <td>2014-08-14 18:49:46+00:00</td>\n",
       "      <td>6947.0</td>\n",
       "      <td>47.0</td>\n",
       "      <td>3439</td>\n",
       "      <td>False</td>\n",
       "      <td>2023-04-26 12:30:18+00:00</td>\n",
       "      <td>['chatgpt', 'appstore', 'apple', 'chatgptnews'...</td>\n",
       "      <td>Hootsuite Inc.</td>\n",
       "    </tr>\n",
       "    <tr>\n",
       "      <th>154</th>\n",
       "      <td>Neoskeptics</td>\n",
       "      <td>\"Republicans release AI-generated attack ad on...</td>\n",
       "      <td>NaN</td>\n",
       "      <td>The Neoskeptics blog discusses public policy b...</td>\n",
       "      <td>2020-04-23 06:03:16+00:00</td>\n",
       "      <td>45.0</td>\n",
       "      <td>1.0</td>\n",
       "      <td>23</td>\n",
       "      <td>False</td>\n",
       "      <td>2023-04-26 12:30:12+00:00</td>\n",
       "      <td>NaN</td>\n",
       "      <td>Hootsuite Inc.</td>\n",
       "    </tr>\n",
       "    <tr>\n",
       "      <th>155</th>\n",
       "      <td>Bitone Great</td>\n",
       "      <td>📉#Sell!📉\\n🔥RSI over 85!🔥\\n[#Bybit]\\n👇 Recommen...</td>\n",
       "      <td>Hong Kong</td>\n",
       "      <td>#ChatGPT (AI) powered Free Trading Signal! \\nL...</td>\n",
       "      <td>2022-11-21 04:42:18+00:00</td>\n",
       "      <td>1397.0</td>\n",
       "      <td>505.0</td>\n",
       "      <td>64</td>\n",
       "      <td>False</td>\n",
       "      <td>2023-04-26 12:30:07+00:00</td>\n",
       "      <td>['Sell', 'Bybit', 'Short', 'ZRXUSDT']</td>\n",
       "      <td>rsi1</td>\n",
       "    </tr>\n",
       "    <tr>\n",
       "      <th>156</th>\n",
       "      <td>L.Ali</td>\n",
       "      <td>Interesting how #chatGPT kept failing this one...</td>\n",
       "      <td>NaN</td>\n",
       "      <td>CEO/Founder @KeplerCleanNRG                 \\n...</td>\n",
       "      <td>2022-02-27 15:12:08+00:00</td>\n",
       "      <td>11.0</td>\n",
       "      <td>31.0</td>\n",
       "      <td>13</td>\n",
       "      <td>False</td>\n",
       "      <td>2023-04-26 12:30:05+00:00</td>\n",
       "      <td>['chatGPT']</td>\n",
       "      <td>Twitter Web App</td>\n",
       "    </tr>\n",
       "    <tr>\n",
       "      <th>157</th>\n",
       "      <td>Joshsanger.eth 🦎🕯️</td>\n",
       "      <td>Favourite #ChatGPT #prompt for my day to day:\\...</td>\n",
       "      <td>Ontario</td>\n",
       "      <td>Senior Front End Developer @ Shopify | Web3 cu...</td>\n",
       "      <td>2012-02-28 15:28:18+00:00</td>\n",
       "      <td>505.0</td>\n",
       "      <td>465.0</td>\n",
       "      <td>790</td>\n",
       "      <td>False</td>\n",
       "      <td>2023-04-26 12:30:01+00:00</td>\n",
       "      <td>['ChatGPT', 'prompt']</td>\n",
       "      <td>Twitter for Android</td>\n",
       "    </tr>\n",
       "    <tr>\n",
       "      <th>...</th>\n",
       "      <td>...</td>\n",
       "      <td>...</td>\n",
       "      <td>...</td>\n",
       "      <td>...</td>\n",
       "      <td>...</td>\n",
       "      <td>...</td>\n",
       "      <td>...</td>\n",
       "      <td>...</td>\n",
       "      <td>...</td>\n",
       "      <td>...</td>\n",
       "      <td>...</td>\n",
       "      <td>...</td>\n",
       "    </tr>\n",
       "    <tr>\n",
       "      <th>190488</th>\n",
       "      <td>John Fuchs</td>\n",
       "      <td>AI - The Good, the Bad and the Ugly\\nThis is N...</td>\n",
       "      <td>NaN</td>\n",
       "      <td>Yip.</td>\n",
       "      <td>2022-12-20 19:11:43+00:00</td>\n",
       "      <td>6.0</td>\n",
       "      <td>129.0</td>\n",
       "      <td>71</td>\n",
       "      <td>False</td>\n",
       "      <td>2023-02-26 14:16:09+00:00</td>\n",
       "      <td>['chatgpt', 'Microsoft', 'Bing', 'BillGates']</td>\n",
       "      <td>Twitter Web App</td>\n",
       "    </tr>\n",
       "    <tr>\n",
       "      <th>190489</th>\n",
       "      <td>Keith Cook</td>\n",
       "      <td>Check out a new FREE tradingstrategy I made us...</td>\n",
       "      <td>New Hampshire, USA</td>\n",
       "      <td>The Quadfather. husband and father of 5. i enj...</td>\n",
       "      <td>2020-02-07 15:35:24+00:00</td>\n",
       "      <td>77.0</td>\n",
       "      <td>139.0</td>\n",
       "      <td>382</td>\n",
       "      <td>False</td>\n",
       "      <td>2023-02-26 13:43:47+00:00</td>\n",
       "      <td>['chatGPT']</td>\n",
       "      <td>Twitter for Android</td>\n",
       "    </tr>\n",
       "    <tr>\n",
       "      <th>190490</th>\n",
       "      <td>aigirl.tez/eth</td>\n",
       "      <td>I made a new enemy today.😤😬#ChatGPT https://t....</td>\n",
       "      <td>NaN</td>\n",
       "      <td>She combines imagination with AI🏄🏽‍♀️ - \\nSFC-...</td>\n",
       "      <td>2022-11-07 07:00:28+00:00</td>\n",
       "      <td>320.0</td>\n",
       "      <td>345.0</td>\n",
       "      <td>5449</td>\n",
       "      <td>False</td>\n",
       "      <td>2023-02-26 13:35:54+00:00</td>\n",
       "      <td>['ChatGPT']</td>\n",
       "      <td>Twitter Web App</td>\n",
       "    </tr>\n",
       "    <tr>\n",
       "      <th>190491</th>\n",
       "      <td>ayjay 💫 freetag</td>\n",
       "      <td>what a cutie girl 🌸\\n\\n@DegenAI2 #altcoins #al...</td>\n",
       "      <td>Asia</td>\n",
       "      <td>not a multi || prev accts in my 📌 || ga accoun...</td>\n",
       "      <td>2023-01-29 01:46:05+00:00</td>\n",
       "      <td>46.0</td>\n",
       "      <td>424.0</td>\n",
       "      <td>872</td>\n",
       "      <td>False</td>\n",
       "      <td>2023-02-26 13:22:54+00:00</td>\n",
       "      <td>['altcoins', 'altcoin', 'DegenAI', 'Gems', 'im...</td>\n",
       "      <td>Twitter for Android</td>\n",
       "    </tr>\n",
       "    <tr>\n",
       "      <th>190492</th>\n",
       "      <td>dani</td>\n",
       "      <td>DEGENAI is amazing, this instant chat bot AI i...</td>\n",
       "      <td>In Your Area</td>\n",
       "      <td>ang namulat ay di na muling pipikit | not a mu...</td>\n",
       "      <td>2022-05-25 06:49:44+00:00</td>\n",
       "      <td>81.0</td>\n",
       "      <td>808.0</td>\n",
       "      <td>6074</td>\n",
       "      <td>False</td>\n",
       "      <td>2023-02-26 13:21:22+00:00</td>\n",
       "      <td>['altcoins', 'altcoin']</td>\n",
       "      <td>Twitter for Android</td>\n",
       "    </tr>\n",
       "  </tbody>\n",
       "</table>\n",
       "<p>188578 rows × 12 columns</p>\n",
       "</div>"
      ],
      "text/plain": [
       "                 user_name                                               text  \\\n",
       "153              TechStory  Fake ChatGpts flood the App Store 🤥\\nhttps://t...   \n",
       "154            Neoskeptics  \"Republicans release AI-generated attack ad on...   \n",
       "155           Bitone Great  📉#Sell!📉\\n🔥RSI over 85!🔥\\n[#Bybit]\\n👇 Recommen...   \n",
       "156                  L.Ali  Interesting how #chatGPT kept failing this one...   \n",
       "157     Joshsanger.eth 🦎🕯️  Favourite #ChatGPT #prompt for my day to day:\\...   \n",
       "...                    ...                                                ...   \n",
       "190488          John Fuchs  AI - The Good, the Bad and the Ugly\\nThis is N...   \n",
       "190489          Keith Cook  Check out a new FREE tradingstrategy I made us...   \n",
       "190490      aigirl.tez/eth  I made a new enemy today.😤😬#ChatGPT https://t....   \n",
       "190491     ayjay 💫 freetag  what a cutie girl 🌸\\n\\n@DegenAI2 #altcoins #al...   \n",
       "190492                dani  DEGENAI is amazing, this instant chat bot AI i...   \n",
       "\n",
       "             user_location                                   user_description  \\\n",
       "153          United States  Latest News from Tech, Crypto, EV, Space, AI, ...   \n",
       "154                    NaN  The Neoskeptics blog discusses public policy b...   \n",
       "155              Hong Kong  #ChatGPT (AI) powered Free Trading Signal! \\nL...   \n",
       "156                    NaN  CEO/Founder @KeplerCleanNRG                 \\n...   \n",
       "157                Ontario  Senior Front End Developer @ Shopify | Web3 cu...   \n",
       "...                    ...                                                ...   \n",
       "190488                 NaN                                               Yip.   \n",
       "190489  New Hampshire, USA  The Quadfather. husband and father of 5. i enj...   \n",
       "190490                 NaN  She combines imagination with AI🏄🏽‍♀️ - \\nSFC-...   \n",
       "190491                Asia  not a multi || prev accts in my 📌 || ga accoun...   \n",
       "190492        In Your Area  ang namulat ay di na muling pipikit | not a mu...   \n",
       "\n",
       "                     user_created user_followers user_friends user_favourites  \\\n",
       "153     2014-08-14 18:49:46+00:00         6947.0         47.0            3439   \n",
       "154     2020-04-23 06:03:16+00:00           45.0          1.0              23   \n",
       "155     2022-11-21 04:42:18+00:00         1397.0        505.0              64   \n",
       "156     2022-02-27 15:12:08+00:00           11.0         31.0              13   \n",
       "157     2012-02-28 15:28:18+00:00          505.0        465.0             790   \n",
       "...                           ...            ...          ...             ...   \n",
       "190488  2022-12-20 19:11:43+00:00            6.0        129.0              71   \n",
       "190489  2020-02-07 15:35:24+00:00           77.0        139.0             382   \n",
       "190490  2022-11-07 07:00:28+00:00          320.0        345.0            5449   \n",
       "190491  2023-01-29 01:46:05+00:00           46.0        424.0             872   \n",
       "190492  2022-05-25 06:49:44+00:00           81.0        808.0            6074   \n",
       "\n",
       "       user_verified                       date  \\\n",
       "153            False  2023-04-26 12:30:18+00:00   \n",
       "154            False  2023-04-26 12:30:12+00:00   \n",
       "155            False  2023-04-26 12:30:07+00:00   \n",
       "156            False  2023-04-26 12:30:05+00:00   \n",
       "157            False  2023-04-26 12:30:01+00:00   \n",
       "...              ...                        ...   \n",
       "190488         False  2023-02-26 14:16:09+00:00   \n",
       "190489         False  2023-02-26 13:43:47+00:00   \n",
       "190490         False  2023-02-26 13:35:54+00:00   \n",
       "190491         False  2023-02-26 13:22:54+00:00   \n",
       "190492         False  2023-02-26 13:21:22+00:00   \n",
       "\n",
       "                                                 hashtags               source  \n",
       "153     ['chatgpt', 'appstore', 'apple', 'chatgptnews'...       Hootsuite Inc.  \n",
       "154                                                   NaN       Hootsuite Inc.  \n",
       "155                 ['Sell', 'Bybit', 'Short', 'ZRXUSDT']                 rsi1  \n",
       "156                                           ['chatGPT']      Twitter Web App  \n",
       "157                                 ['ChatGPT', 'prompt']  Twitter for Android  \n",
       "...                                                   ...                  ...  \n",
       "190488      ['chatgpt', 'Microsoft', 'Bing', 'BillGates']      Twitter Web App  \n",
       "190489                                        ['chatGPT']  Twitter for Android  \n",
       "190490                                        ['ChatGPT']      Twitter Web App  \n",
       "190491  ['altcoins', 'altcoin', 'DegenAI', 'Gems', 'im...  Twitter for Android  \n",
       "190492                            ['altcoins', 'altcoin']  Twitter for Android  \n",
       "\n",
       "[188578 rows x 12 columns]"
      ]
     },
     "execution_count": 17,
     "metadata": {},
     "output_type": "execute_result"
    }
   ],
   "source": [
    "df2"
   ]
  },
  {
   "cell_type": "code",
   "execution_count": 22,
   "id": "b829ea4f",
   "metadata": {},
   "outputs": [
    {
     "data": {
      "text/html": [
       "<div>\n",
       "<style scoped>\n",
       "    .dataframe tbody tr th:only-of-type {\n",
       "        vertical-align: middle;\n",
       "    }\n",
       "\n",
       "    .dataframe tbody tr th {\n",
       "        vertical-align: top;\n",
       "    }\n",
       "\n",
       "    .dataframe thead th {\n",
       "        text-align: right;\n",
       "    }\n",
       "</style>\n",
       "<table border=\"1\" class=\"dataframe\">\n",
       "  <thead>\n",
       "    <tr style=\"text-align: right;\">\n",
       "      <th></th>\n",
       "      <th>user_name</th>\n",
       "      <th>text</th>\n",
       "      <th>user_location</th>\n",
       "      <th>user_description</th>\n",
       "      <th>user_created</th>\n",
       "      <th>user_followers</th>\n",
       "      <th>user_friends</th>\n",
       "      <th>user_favourites</th>\n",
       "      <th>user_verified</th>\n",
       "      <th>date</th>\n",
       "      <th>hashtags</th>\n",
       "      <th>source</th>\n",
       "    </tr>\n",
       "  </thead>\n",
       "  <tbody>\n",
       "    <tr>\n",
       "      <th>172880</th>\n",
       "      <td>videopictures</td>\n",
       "      <td>for people with #adhd using #chatgpt can be go...</td>\n",
       "      <td>New York, NY</td>\n",
       "      <td>i make images photographically and sometimes t...</td>\n",
       "      <td>2010-07-27 10:21:28+00:00</td>\n",
       "      <td>778.0</td>\n",
       "      <td>2503.0</td>\n",
       "      <td>38267</td>\n",
       "      <td>False</td>\n",
       "      <td>2023-03-01 19:43:53+00:00</td>\n",
       "      <td>['adhd', 'chatgpt']</td>\n",
       "      <td>Twitter for iPhone</td>\n",
       "    </tr>\n",
       "    <tr>\n",
       "      <th>139268</th>\n",
       "      <td>KnowledgeCollective</td>\n",
       "      <td>What is this thing called AI?\\nCan we control ...</td>\n",
       "      <td>Somewhere in the cosmos</td>\n",
       "      <td>Expanding consciousness, one thought at a time...</td>\n",
       "      <td>2022-02-01 12:06:48+00:00</td>\n",
       "      <td>50.0</td>\n",
       "      <td>184.0</td>\n",
       "      <td>126</td>\n",
       "      <td>False</td>\n",
       "      <td>2023-03-15 20:12:04+00:00</td>\n",
       "      <td>NaN</td>\n",
       "      <td>Make (formerly Integromat)</td>\n",
       "    </tr>\n",
       "    <tr>\n",
       "      <th>58733</th>\n",
       "      <td>ⒹⒺⒶⒻ②⑤⑧ 🦄</td>\n",
       "      <td>Observation: Professors need not worry about #...</td>\n",
       "      <td>Phoenix, AZ/Washington, DC</td>\n",
       "      <td>My quote: \"When I lived as a hearing person, i...</td>\n",
       "      <td>2007-01-25 02:32:15+00:00</td>\n",
       "      <td>3318.0</td>\n",
       "      <td>4989.0</td>\n",
       "      <td>198261</td>\n",
       "      <td>False</td>\n",
       "      <td>2023-04-11 14:35:56+00:00</td>\n",
       "      <td>['ChatGPT']</td>\n",
       "      <td>Twitter Web App</td>\n",
       "    </tr>\n",
       "    <tr>\n",
       "      <th>173738</th>\n",
       "      <td>LeviTrade</td>\n",
       "      <td>$IEF Awaiting Buy Signal based off 37 trades, ...</td>\n",
       "      <td>NaN</td>\n",
       "      <td>Ultra Bear - 98% Win rate. That which has no s...</td>\n",
       "      <td>2021-03-18 05:26:20+00:00</td>\n",
       "      <td>232.0</td>\n",
       "      <td>1.0</td>\n",
       "      <td>2</td>\n",
       "      <td>False</td>\n",
       "      <td>2023-03-01 18:04:28+00:00</td>\n",
       "      <td>['trading', 'stocks', 'Options', 'chatgpt']</td>\n",
       "      <td>Zapier.com</td>\n",
       "    </tr>\n",
       "    <tr>\n",
       "      <th>146784</th>\n",
       "      <td>ipfconline</td>\n",
       "      <td>Microsoft will launch #ChatGPT 4 with AI video...</td>\n",
       "      <td>Marseille, France</td>\n",
       "      <td>Digital Transformation Consulting \\n#AI #Machi...</td>\n",
       "      <td>2016-03-03 23:46:02+00:00</td>\n",
       "      <td>130931.0</td>\n",
       "      <td>110726.0</td>\n",
       "      <td>171647</td>\n",
       "      <td>False</td>\n",
       "      <td>2023-03-12 21:15:04+00:00</td>\n",
       "      <td>['ChatGPT']</td>\n",
       "      <td>Twittimer</td>\n",
       "    </tr>\n",
       "  </tbody>\n",
       "</table>\n",
       "</div>"
      ],
      "text/plain": [
       "                  user_name  \\\n",
       "172880        videopictures   \n",
       "139268  KnowledgeCollective   \n",
       "58733             ⒹⒺⒶⒻ②⑤⑧ 🦄   \n",
       "173738            LeviTrade   \n",
       "146784           ipfconline   \n",
       "\n",
       "                                                     text  \\\n",
       "172880  for people with #adhd using #chatgpt can be go...   \n",
       "139268  What is this thing called AI?\\nCan we control ...   \n",
       "58733   Observation: Professors need not worry about #...   \n",
       "173738  $IEF Awaiting Buy Signal based off 37 trades, ...   \n",
       "146784  Microsoft will launch #ChatGPT 4 with AI video...   \n",
       "\n",
       "                     user_location  \\\n",
       "172880                New York, NY   \n",
       "139268     Somewhere in the cosmos   \n",
       "58733   Phoenix, AZ/Washington, DC   \n",
       "173738                         NaN   \n",
       "146784           Marseille, France   \n",
       "\n",
       "                                         user_description  \\\n",
       "172880  i make images photographically and sometimes t...   \n",
       "139268  Expanding consciousness, one thought at a time...   \n",
       "58733   My quote: \"When I lived as a hearing person, i...   \n",
       "173738  Ultra Bear - 98% Win rate. That which has no s...   \n",
       "146784  Digital Transformation Consulting \\n#AI #Machi...   \n",
       "\n",
       "                     user_created user_followers user_friends user_favourites  \\\n",
       "172880  2010-07-27 10:21:28+00:00          778.0       2503.0           38267   \n",
       "139268  2022-02-01 12:06:48+00:00           50.0        184.0             126   \n",
       "58733   2007-01-25 02:32:15+00:00         3318.0       4989.0          198261   \n",
       "173738  2021-03-18 05:26:20+00:00          232.0          1.0               2   \n",
       "146784  2016-03-03 23:46:02+00:00       130931.0     110726.0          171647   \n",
       "\n",
       "       user_verified                       date  \\\n",
       "172880         False  2023-03-01 19:43:53+00:00   \n",
       "139268         False  2023-03-15 20:12:04+00:00   \n",
       "58733          False  2023-04-11 14:35:56+00:00   \n",
       "173738         False  2023-03-01 18:04:28+00:00   \n",
       "146784         False  2023-03-12 21:15:04+00:00   \n",
       "\n",
       "                                           hashtags  \\\n",
       "172880                          ['adhd', 'chatgpt']   \n",
       "139268                                          NaN   \n",
       "58733                                   ['ChatGPT']   \n",
       "173738  ['trading', 'stocks', 'Options', 'chatgpt']   \n",
       "146784                                  ['ChatGPT']   \n",
       "\n",
       "                            source  \n",
       "172880          Twitter for iPhone  \n",
       "139268  Make (formerly Integromat)  \n",
       "58733              Twitter Web App  \n",
       "173738                  Zapier.com  \n",
       "146784                   Twittimer  "
      ]
     },
     "execution_count": 22,
     "metadata": {},
     "output_type": "execute_result"
    }
   ],
   "source": [
    "df2.sample(5)"
   ]
  },
  {
   "cell_type": "code",
   "execution_count": 18,
   "id": "a2f55b12",
   "metadata": {},
   "outputs": [
    {
     "data": {
      "text/plain": [
       "188578"
      ]
     },
     "execution_count": 18,
     "metadata": {},
     "output_type": "execute_result"
    }
   ],
   "source": [
    "len(df2)"
   ]
  },
  {
   "cell_type": "code",
   "execution_count": 19,
   "id": "d645ef27",
   "metadata": {},
   "outputs": [
    {
     "data": {
      "text/plain": [
       "user_name               1\n",
       "text                    0\n",
       "user_location       55543\n",
       "user_description    14169\n",
       "user_created            0\n",
       "user_followers          0\n",
       "user_friends            0\n",
       "user_favourites         0\n",
       "user_verified           0\n",
       "date                    0\n",
       "hashtags            47844\n",
       "source                  0\n",
       "dtype: int64"
      ]
     },
     "execution_count": 19,
     "metadata": {},
     "output_type": "execute_result"
    }
   ],
   "source": [
    "# check if there is any NaN value\n",
    "df2.isnull().values.any()\n",
    "df2.isnull().sum()"
   ]
  },
  {
   "cell_type": "code",
   "execution_count": 23,
   "id": "aec4a003",
   "metadata": {},
   "outputs": [],
   "source": [
    "# write new csv file containing the preprocessed dataset\n",
    "df2.to_csv('datasets/chatgpt2last.csv')"
   ]
  },
  {
   "cell_type": "code",
   "execution_count": 24,
   "id": "97792b44",
   "metadata": {},
   "outputs": [],
   "source": [
    "df = df2['text']"
   ]
  },
  {
   "cell_type": "code",
   "execution_count": 25,
   "id": "3ee9ed07",
   "metadata": {},
   "outputs": [
    {
     "data": {
      "text/plain": [
       "153    Fake ChatGpts flood the App Store 🤥\\nhttps://t...\n",
       "154    \"Republicans release AI-generated attack ad on...\n",
       "155    📉#Sell!📉\\n🔥RSI over 85!🔥\\n[#Bybit]\\n👇 Recommen...\n",
       "156    Interesting how #chatGPT kept failing this one...\n",
       "157    Favourite #ChatGPT #prompt for my day to day:\\...\n",
       "Name: text, dtype: object"
      ]
     },
     "execution_count": 25,
     "metadata": {},
     "output_type": "execute_result"
    }
   ],
   "source": [
    "df.head()"
   ]
  },
  {
   "cell_type": "code",
   "execution_count": 32,
   "id": "8e2c3370",
   "metadata": {},
   "outputs": [
    {
     "name": "stdout",
     "output_type": "stream",
     "text": [
      "Text of tweets transformed to lower cases.\n",
      "Removed stopwords from the text of tweets.\n",
      "Cleaned and removed the punctuations.\n",
      "Cleaned and removed the URLs and hyperlinks.\n",
      "Cleaned and removed the mentions.\n",
      "Removed the emojis.\n",
      "Removed the numbers.\n",
      "Cleaned and removed the repeating characters.\n",
      "Removed the short words (length less than 3).\n",
      "Tokenized the text.\n",
      "Normalized the text.\n"
     ]
    }
   ],
   "source": [
    "path = 'datasets/preprocessed_chatgpt2last.csv'\n",
    "preprocessing(df, path)"
   ]
  },
  {
   "cell_type": "code",
   "execution_count": 33,
   "id": "fb440a36",
   "metadata": {},
   "outputs": [],
   "source": [
    "df = pd.read_csv('datasets/preprocessed_chatgpt2last.csv')"
   ]
  },
  {
   "cell_type": "code",
   "execution_count": 34,
   "id": "3e39b3ae",
   "metadata": {},
   "outputs": [
    {
     "data": {
      "text/html": [
       "<div>\n",
       "<style scoped>\n",
       "    .dataframe tbody tr th:only-of-type {\n",
       "        vertical-align: middle;\n",
       "    }\n",
       "\n",
       "    .dataframe tbody tr th {\n",
       "        vertical-align: top;\n",
       "    }\n",
       "\n",
       "    .dataframe thead th {\n",
       "        text-align: right;\n",
       "    }\n",
       "</style>\n",
       "<table border=\"1\" class=\"dataframe\">\n",
       "  <thead>\n",
       "    <tr style=\"text-align: right;\">\n",
       "      <th></th>\n",
       "      <th>Unnamed: 0</th>\n",
       "      <th>text</th>\n",
       "    </tr>\n",
       "  </thead>\n",
       "  <tbody>\n",
       "    <tr>\n",
       "      <th>0</th>\n",
       "      <td>153</td>\n",
       "      <td>fake chatgpts flood app store chatgpt appstore...</td>\n",
       "    </tr>\n",
       "    <tr>\n",
       "      <th>1</th>\n",
       "      <td>154</td>\n",
       "      <td>republicans release aigenerated attack preside...</td>\n",
       "    </tr>\n",
       "    <tr>\n",
       "      <th>2</th>\n",
       "      <td>155</td>\n",
       "      <td>sell rsi bybit recommendation short ticker zrx...</td>\n",
       "    </tr>\n",
       "    <tr>\n",
       "      <th>3</th>\n",
       "      <td>156</td>\n",
       "      <td>interesting chatgpt kept failing test promptge...</td>\n",
       "    </tr>\n",
       "    <tr>\n",
       "      <th>4</th>\n",
       "      <td>157</td>\n",
       "      <td>favourite chatgpt prompt day day act end devel...</td>\n",
       "    </tr>\n",
       "  </tbody>\n",
       "</table>\n",
       "</div>"
      ],
      "text/plain": [
       "   Unnamed: 0                                               text\n",
       "0         153  fake chatgpts flood app store chatgpt appstore...\n",
       "1         154  republicans release aigenerated attack preside...\n",
       "2         155  sell rsi bybit recommendation short ticker zrx...\n",
       "3         156  interesting chatgpt kept failing test promptge...\n",
       "4         157  favourite chatgpt prompt day day act end devel..."
      ]
     },
     "execution_count": 34,
     "metadata": {},
     "output_type": "execute_result"
    }
   ],
   "source": [
    "df.head()"
   ]
  },
  {
   "cell_type": "code",
   "execution_count": null,
   "id": "bac048af",
   "metadata": {},
   "outputs": [],
   "source": []
  }
 ],
 "metadata": {
  "kernelspec": {
   "display_name": "Python 3 (ipykernel)",
   "language": "python",
   "name": "python3"
  },
  "language_info": {
   "codemirror_mode": {
    "name": "ipython",
    "version": 3
   },
   "file_extension": ".py",
   "mimetype": "text/x-python",
   "name": "python",
   "nbconvert_exporter": "python",
   "pygments_lexer": "ipython3",
   "version": "3.9.13"
  }
 },
 "nbformat": 4,
 "nbformat_minor": 5
}
