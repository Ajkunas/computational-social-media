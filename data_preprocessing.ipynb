{
 "cells": [
  {
   "cell_type": "markdown",
   "id": "2a5c7c30",
   "metadata": {},
   "source": [
    "# Data preprocessing "
   ]
  },
  {
   "cell_type": "code",
   "execution_count": 133,
   "id": "84801b47",
   "metadata": {},
   "outputs": [],
   "source": [
    "import re\n",
    "import numpy as np\n",
    "import pandas as pd"
   ]
  },
  {
   "cell_type": "code",
   "execution_count": 166,
   "id": "2b4f9e56",
   "metadata": {},
   "outputs": [],
   "source": [
    "# loading the dataset \n",
    "# english language dataset \n",
    "\n",
    "df = pd.read_csv('datasets/sentiment.csv', usecols=['tweets','labels'])"
   ]
  },
  {
   "cell_type": "code",
   "execution_count": 167,
   "id": "2398d7f3",
   "metadata": {},
   "outputs": [
    {
     "data": {
      "text/html": [
       "<div>\n",
       "<style scoped>\n",
       "    .dataframe tbody tr th:only-of-type {\n",
       "        vertical-align: middle;\n",
       "    }\n",
       "\n",
       "    .dataframe tbody tr th {\n",
       "        vertical-align: top;\n",
       "    }\n",
       "\n",
       "    .dataframe thead th {\n",
       "        text-align: right;\n",
       "    }\n",
       "</style>\n",
       "<table border=\"1\" class=\"dataframe\">\n",
       "  <thead>\n",
       "    <tr style=\"text-align: right;\">\n",
       "      <th></th>\n",
       "      <th>tweets</th>\n",
       "      <th>labels</th>\n",
       "    </tr>\n",
       "  </thead>\n",
       "  <tbody>\n",
       "    <tr>\n",
       "      <th>174246</th>\n",
       "      <td>This is 5 Script Idea for webseries by #ChatGP...</td>\n",
       "      <td>good</td>\n",
       "    </tr>\n",
       "    <tr>\n",
       "      <th>13084</th>\n",
       "      <td>#ChatGPT describes the interior life of a corg...</td>\n",
       "      <td>bad</td>\n",
       "    </tr>\n",
       "    <tr>\n",
       "      <th>197369</th>\n",
       "      <td>Why check #crypto prices on other websites whe...</td>\n",
       "      <td>bad</td>\n",
       "    </tr>\n",
       "    <tr>\n",
       "      <th>35632</th>\n",
       "      <td>I asked  #ChatGPT this question: \\n\\n\"Will AI ...</td>\n",
       "      <td>bad</td>\n",
       "    </tr>\n",
       "    <tr>\n",
       "      <th>53288</th>\n",
       "      <td>Ripple CTO shuts down ChatGPT's XRP conspiracy...</td>\n",
       "      <td>bad</td>\n",
       "    </tr>\n",
       "  </tbody>\n",
       "</table>\n",
       "</div>"
      ],
      "text/plain": [
       "                                                   tweets labels\n",
       "174246  This is 5 Script Idea for webseries by #ChatGP...   good\n",
       "13084   #ChatGPT describes the interior life of a corg...    bad\n",
       "197369  Why check #crypto prices on other websites whe...    bad\n",
       "35632   I asked  #ChatGPT this question: \\n\\n\"Will AI ...    bad\n",
       "53288   Ripple CTO shuts down ChatGPT's XRP conspiracy...    bad"
      ]
     },
     "execution_count": 167,
     "metadata": {},
     "output_type": "execute_result"
    }
   ],
   "source": [
    "df.sample(5)"
   ]
  },
  {
   "cell_type": "code",
   "execution_count": 168,
   "id": "ce912bc5",
   "metadata": {},
   "outputs": [
    {
     "data": {
      "text/plain": [
       "bad        107796\n",
       "good        56011\n",
       "neutral     55487\n",
       "Name: labels, dtype: int64"
      ]
     },
     "execution_count": 168,
     "metadata": {},
     "output_type": "execute_result"
    }
   ],
   "source": [
    "df.labels.value_counts() "
   ]
  },
  {
   "cell_type": "code",
   "execution_count": 169,
   "id": "b3395a6f",
   "metadata": {},
   "outputs": [],
   "source": [
    "# change the labeling: neutral = 0, positive = 1, negative = -1\n",
    "\n",
    "df.labels = df.labels.replace('bad', -1)\n",
    "df.labels = df.labels.replace('good', 1)\n",
    "df.labels = df.labels.replace('neutral', 0)"
   ]
  },
  {
   "cell_type": "code",
   "execution_count": 170,
   "id": "8a2a1ec2",
   "metadata": {},
   "outputs": [
    {
     "data": {
      "text/html": [
       "<div>\n",
       "<style scoped>\n",
       "    .dataframe tbody tr th:only-of-type {\n",
       "        vertical-align: middle;\n",
       "    }\n",
       "\n",
       "    .dataframe tbody tr th {\n",
       "        vertical-align: top;\n",
       "    }\n",
       "\n",
       "    .dataframe thead th {\n",
       "        text-align: right;\n",
       "    }\n",
       "</style>\n",
       "<table border=\"1\" class=\"dataframe\">\n",
       "  <thead>\n",
       "    <tr style=\"text-align: right;\">\n",
       "      <th></th>\n",
       "      <th>tweets</th>\n",
       "      <th>labels</th>\n",
       "    </tr>\n",
       "  </thead>\n",
       "  <tbody>\n",
       "    <tr>\n",
       "      <th>90147</th>\n",
       "      <td>ChatGPT is out here serving up real human dram...</td>\n",
       "      <td>-1</td>\n",
       "    </tr>\n",
       "    <tr>\n",
       "      <th>115503</th>\n",
       "      <td>Even a robot knows this one 🤖 #chatGPT #person...</td>\n",
       "      <td>-1</td>\n",
       "    </tr>\n",
       "    <tr>\n",
       "      <th>24658</th>\n",
       "      <td>OpenAI ChatGPT is anti national..\\nI asked it ...</td>\n",
       "      <td>-1</td>\n",
       "    </tr>\n",
       "    <tr>\n",
       "      <th>191774</th>\n",
       "      <td>Delighted to hear this news, but it is frustra...</td>\n",
       "      <td>0</td>\n",
       "    </tr>\n",
       "    <tr>\n",
       "      <th>82536</th>\n",
       "      <td>I asked #chatGPT to automate editorial decisio...</td>\n",
       "      <td>0</td>\n",
       "    </tr>\n",
       "  </tbody>\n",
       "</table>\n",
       "</div>"
      ],
      "text/plain": [
       "                                                   tweets  labels\n",
       "90147   ChatGPT is out here serving up real human dram...      -1\n",
       "115503  Even a robot knows this one 🤖 #chatGPT #person...      -1\n",
       "24658   OpenAI ChatGPT is anti national..\\nI asked it ...      -1\n",
       "191774  Delighted to hear this news, but it is frustra...       0\n",
       "82536   I asked #chatGPT to automate editorial decisio...       0"
      ]
     },
     "execution_count": 170,
     "metadata": {},
     "output_type": "execute_result"
    }
   ],
   "source": [
    "df.sample(5)"
   ]
  },
  {
   "cell_type": "code",
   "execution_count": 171,
   "id": "7d8c4c92",
   "metadata": {},
   "outputs": [
    {
     "data": {
      "text/plain": [
       "-1    107796\n",
       " 1     56011\n",
       " 0     55487\n",
       "Name: labels, dtype: int64"
      ]
     },
     "execution_count": 171,
     "metadata": {},
     "output_type": "execute_result"
    }
   ],
   "source": [
    "df.labels.value_counts()"
   ]
  },
  {
   "cell_type": "code",
   "execution_count": 172,
   "id": "daaabbca",
   "metadata": {},
   "outputs": [],
   "source": [
    "# we have too much negative tweets compared to the other classes\n",
    "# we divide the set of negative tweets by 2\n",
    "\n",
    "mask = (df.labels == -1)\n",
    "idx, = np.where(mask)\n",
    "df = df.drop(df.index[idx[:len(idx)//2]])"
   ]
  },
  {
   "cell_type": "code",
   "execution_count": 173,
   "id": "fdc38cdc",
   "metadata": {},
   "outputs": [
    {
     "data": {
      "text/plain": [
       " 1    56011\n",
       " 0    55487\n",
       "-1    53898\n",
       "Name: labels, dtype: int64"
      ]
     },
     "execution_count": 173,
     "metadata": {},
     "output_type": "execute_result"
    }
   ],
   "source": [
    "df.labels.value_counts() "
   ]
  },
  {
   "cell_type": "code",
   "execution_count": 174,
   "id": "d21d59e1",
   "metadata": {},
   "outputs": [],
   "source": [
    "# discard the neutral class of tweets\n",
    "\n",
    "#df = df.loc[df.labels != 2]\n",
    "#df.labels.value_counts() "
   ]
  },
  {
   "cell_type": "code",
   "execution_count": 175,
   "id": "4a31cee1",
   "metadata": {},
   "outputs": [],
   "source": [
    "# lower cases \n",
    "df.tweets = df.tweets.str.lower()"
   ]
  },
  {
   "cell_type": "code",
   "execution_count": 176,
   "id": "f43f06a7",
   "metadata": {},
   "outputs": [
    {
     "data": {
      "text/plain": [
       "0    chatgpt: optimizing language models for dialog...\n",
       "1    try talking with chatgpt, our new ai system wh...\n",
       "2    chatgpt: optimizing language models for dialog...\n",
       "3    thrilled to share that chatgpt, our new model ...\n",
       "5    just launched chatgpt, our new ai system which...\n",
       "Name: tweets, dtype: object"
      ]
     },
     "execution_count": 176,
     "metadata": {},
     "output_type": "execute_result"
    }
   ],
   "source": [
    "df.tweets.head()"
   ]
  },
  {
   "cell_type": "code",
   "execution_count": 177,
   "id": "4e86d7e6",
   "metadata": {},
   "outputs": [],
   "source": [
    "# remove english stopwords with the help of the gensim library \n",
    "from gensim.parsing.preprocessing import remove_stopwords\n",
    "\n",
    "df.tweets = df.tweets.apply(lambda text: remove_stopwords(text))\n"
   ]
  },
  {
   "cell_type": "code",
   "execution_count": 178,
   "id": "691e0fca",
   "metadata": {},
   "outputs": [
    {
     "data": {
      "text/plain": [
       "0    chatgpt: optimizing language models dialogue h...\n",
       "1    try talking chatgpt, new ai optimized dialogue...\n",
       "2    chatgpt: optimizing language models dialogue h...\n",
       "3    thrilled share chatgpt, new model optimized di...\n",
       "5    launched chatgpt, new ai optimized dialogue: h...\n",
       "Name: tweets, dtype: object"
      ]
     },
     "execution_count": 178,
     "metadata": {},
     "output_type": "execute_result"
    }
   ],
   "source": [
    "df.tweets.head()"
   ]
  },
  {
   "cell_type": "code",
   "execution_count": 179,
   "id": "bb26afe2",
   "metadata": {},
   "outputs": [
    {
     "data": {
      "text/plain": [
       "0    chatgpt optimizing language models dialogue ht...\n",
       "1    try talking chatgpt new ai optimized dialogue ...\n",
       "2    chatgpt optimizing language models dialogue ht...\n",
       "3    thrilled share chatgpt new model optimized dia...\n",
       "5    launched chatgpt new ai optimized dialogue htt...\n",
       "Name: tweets, dtype: object"
      ]
     },
     "execution_count": 179,
     "metadata": {},
     "output_type": "execute_result"
    }
   ],
   "source": [
    "#cleaning and removing punctuation\n",
    "import string\n",
    "\n",
    "english_punctuations = string.punctuation\n",
    "punctuations_list = english_punctuations\n",
    "\n",
    "def cleaning_punctuations(text):\n",
    "    translator = str.maketrans('', '', punctuations_list)\n",
    "    return text.translate(translator)\n",
    "\n",
    "df.tweets = df.tweets.apply(lambda x: cleaning_punctuations(x))\n",
    "df.tweets.head()"
   ]
  },
  {
   "cell_type": "code",
   "execution_count": 180,
   "id": "ccdb40e3",
   "metadata": {},
   "outputs": [
    {
     "data": {
      "text/plain": [
       "0    chatgpt optimizing language models dialogue  o...\n",
       "1    try talking chatgpt new ai optimized dialogue ...\n",
       "2    chatgpt optimizing language models dialogue  a...\n",
       "3    thrilled share chatgpt new model optimized dia...\n",
       "5    launched chatgpt new ai optimized dialogue  here \n",
       "Name: tweets, dtype: object"
      ]
     },
     "execution_count": 180,
     "metadata": {},
     "output_type": "execute_result"
    }
   ],
   "source": [
    "# cleaning and removing URLs\n",
    "\n",
    "def cleaning_URLs(data):\n",
    "    return re.sub('((www.[^s]+)|(https?://[^s]+))',' ',data)\n",
    "\n",
    "df.tweets = df.tweets.apply(lambda x: cleaning_URLs(x))\n",
    "\n",
    "def remove_hyperlink(word):\n",
    "    return re.sub(r\"http\\S+\", \"\", word)\n",
    "\n",
    "df.tweets = df.tweets.apply(lambda x: remove_hyperlink(x))\n",
    "\n",
    "df.tweets.head()"
   ]
  },
  {
   "cell_type": "code",
   "execution_count": 181,
   "id": "4c5375f6",
   "metadata": {},
   "outputs": [
    {
     "data": {
      "text/plain": [
       "0    chatgpt optimizing language models dialogue  o...\n",
       "1    try talking chatgpt new ai optimized dialogue ...\n",
       "2    chatgpt optimizing language models dialogue  a...\n",
       "3    thrilled share chatgpt new model optimized dia...\n",
       "5    launched chatgpt new ai optimized dialogue  here \n",
       "Name: tweets, dtype: object"
      ]
     },
     "execution_count": 181,
     "metadata": {},
     "output_type": "execute_result"
    }
   ],
   "source": [
    "# cleaning and removing mentions \n",
    "\n",
    "def remove_mentions(word):\n",
    "    return re.sub(r\"@\\S+\", \"\", word)\n",
    "\n",
    "df.tweets = df.tweets.apply(lambda x: remove_mentions(x))\n",
    "df.tweets.head()"
   ]
  },
  {
   "cell_type": "code",
   "execution_count": 182,
   "id": "68725152",
   "metadata": {},
   "outputs": [
    {
     "data": {
      "text/plain": [
       "0    chatgpt optimizing language models dialogue  o...\n",
       "1    try talking chatgpt new ai optimized dialogue ...\n",
       "2    chatgpt optimizing language models dialogue  a...\n",
       "3    thrilled share chatgpt new model optimized dia...\n",
       "5    launched chatgpt new ai optimized dialogue  here \n",
       "Name: tweets, dtype: object"
      ]
     },
     "execution_count": 182,
     "metadata": {},
     "output_type": "execute_result"
    }
   ],
   "source": [
    "# removing emojis \n",
    "\n",
    "emoji_pattern = re.compile(\"[\"\n",
    "        u\"\\U0001F600-\\U0001F64F\"  # emoticons\n",
    "        u\"\\U0001F300-\\U0001F5FF\"  # symbols & pictographs\n",
    "        u\"\\U0001F680-\\U0001F6FF\"  # transport & map symbols\n",
    "        u\"\\U0001F1E0-\\U0001F1FF\"  # flags (iOS)\n",
    "                           \"]+\", flags=re.UNICODE)\n",
    "\n",
    "df.tweets = df.tweets.apply(lambda x: emoji_pattern.sub(r'', x))\n",
    "\n",
    "df.tweets.head()"
   ]
  },
  {
   "cell_type": "code",
   "execution_count": 183,
   "id": "f4a5fbbc",
   "metadata": {},
   "outputs": [
    {
     "data": {
      "text/plain": [
       "0    chatgpt optimizing language models dialogue  o...\n",
       "1    try talking chatgpt new ai optimized dialogue ...\n",
       "2    chatgpt optimizing language models dialogue  a...\n",
       "3    thrilled share chatgpt new model optimized dia...\n",
       "5    launched chatgpt new ai optimized dialogue  here \n",
       "Name: tweets, dtype: object"
      ]
     },
     "execution_count": 183,
     "metadata": {},
     "output_type": "execute_result"
    }
   ],
   "source": [
    "# remove numbers \n",
    "\n",
    "df.tweets = df.tweets.apply(lambda x: re.sub(\"[^a-zA-Z]\", \" \", x))\n",
    "\n",
    "df.tweets.head()"
   ]
  },
  {
   "cell_type": "code",
   "execution_count": 184,
   "id": "9af5704a",
   "metadata": {},
   "outputs": [
    {
     "data": {
      "text/plain": [
       "0    chatgpt optimizing language models dialogue  o...\n",
       "1    try talking chatgpt new ai optimized dialogue ...\n",
       "2    chatgpt optimizing language models dialogue  a...\n",
       "3    thrilled share chatgpt new model optimized dia...\n",
       "5    launched chatgpt new ai optimized dialogue  here \n",
       "Name: tweets, dtype: object"
      ]
     },
     "execution_count": 184,
     "metadata": {},
     "output_type": "execute_result"
    }
   ],
   "source": [
    "# cleaning and removing repeating characters\n",
    "\n",
    "def cleaning_repeating_char(text):\n",
    "    return re.sub(r'(.)1+', r'1', text)\n",
    "\n",
    "df.tweets = df.tweets.apply(lambda x: cleaning_repeating_char(x))\n",
    "df.tweets.head()"
   ]
  },
  {
   "cell_type": "code",
   "execution_count": 185,
   "id": "21fe9141",
   "metadata": {},
   "outputs": [
    {
     "data": {
      "text/plain": [
       "0    chatgpt optimizing language models dialogue op...\n",
       "1    try talking chatgpt new optimized dialogue fee...\n",
       "2    chatgpt optimizing language models dialogue ma...\n",
       "3    thrilled share chatgpt new model optimized dia...\n",
       "5         launched chatgpt new optimized dialogue here\n",
       "Name: tweets, dtype: object"
      ]
     },
     "execution_count": 185,
     "metadata": {},
     "output_type": "execute_result"
    }
   ],
   "source": [
    "# remove short words that are of no use \n",
    "\n",
    "df.tweets = df.tweets.apply(lambda x: ' '.join([w for w in x.split() if len(w)>2]))\n",
    "df.tweets.head()"
   ]
  },
  {
   "cell_type": "code",
   "execution_count": 186,
   "id": "d9cd5aa8",
   "metadata": {},
   "outputs": [
    {
     "data": {
      "text/plain": [
       "0    [chatgpt, optimizing, language, models, dialog...\n",
       "1    [try, talking, chatgpt, new, optimized, dialog...\n",
       "2    [chatgpt, optimizing, language, models, dialog...\n",
       "3    [thrilled, share, chatgpt, new, model, optimiz...\n",
       "5    [launched, chatgpt, new, optimized, dialogue, ...\n",
       "Name: tweets, dtype: object"
      ]
     },
     "execution_count": 186,
     "metadata": {},
     "output_type": "execute_result"
    }
   ],
   "source": [
    "# Text normalization : tokenize the tweets \n",
    "# split tweets of text into tokens (individual words of terms)\n",
    "\n",
    "tokenize_tweets = df.tweets.apply(lambda x: x.split())\n",
    "tokenize_tweets.head()"
   ]
  },
  {
   "cell_type": "code",
   "execution_count": 187,
   "id": "f5a84c2f",
   "metadata": {},
   "outputs": [
    {
     "data": {
      "text/plain": [
       "0           chatgpt optim languag model dialogu openai\n",
       "1    tri talk chatgpt new optim dialogu feedback he...\n",
       "2    chatgpt optim languag model dialogu machinelea...\n",
       "3    thrill share chatgpt new model optim dialog pu...\n",
       "5                launch chatgpt new optim dialogu here\n",
       "Name: tweets, dtype: object"
      ]
     },
     "execution_count": 187,
     "metadata": {},
     "output_type": "execute_result"
    }
   ],
   "source": [
    "# Normalization: use of PorterStemmer()\n",
    "\n",
    "from nltk.stem.porter import PorterStemmer\n",
    "\n",
    "stemmer = PorterStemmer()\n",
    "\n",
    "def stem_words(text):\n",
    "    return \" \".join([stemmer.stem(word) for word in text])\n",
    "\n",
    "\n",
    "tokenize_tweets = tokenize_tweets.apply(lambda text: stem_words(text))\n",
    "\n",
    "tokenize_tweets.head()"
   ]
  },
  {
   "cell_type": "code",
   "execution_count": 191,
   "id": "fed87d15",
   "metadata": {},
   "outputs": [
    {
     "data": {
      "text/plain": [
       "0"
      ]
     },
     "execution_count": 191,
     "metadata": {},
     "output_type": "execute_result"
    }
   ],
   "source": [
    "# check if there is any NaN values \n",
    "df.tweets = tokenize_tweets \n",
    "\n",
    "df.tweets.isnull().values.any()\n",
    "df.tweets.isnull().sum()"
   ]
  },
  {
   "cell_type": "code",
   "execution_count": 192,
   "id": "2f8855c2",
   "metadata": {},
   "outputs": [],
   "source": [
    "# write new csv file containing the preprocessed dataset\n",
    "df.to_csv('datasets/preprocessed_sentiment.csv')"
   ]
  },
  {
   "cell_type": "code",
   "execution_count": null,
   "id": "3645e92d",
   "metadata": {},
   "outputs": [],
   "source": []
  }
 ],
 "metadata": {
  "kernelspec": {
   "display_name": "Python 3 (ipykernel)",
   "language": "python",
   "name": "python3"
  },
  "language_info": {
   "codemirror_mode": {
    "name": "ipython",
    "version": 3
   },
   "file_extension": ".py",
   "mimetype": "text/x-python",
   "name": "python",
   "nbconvert_exporter": "python",
   "pygments_lexer": "ipython3",
   "version": "3.9.13"
  }
 },
 "nbformat": 4,
 "nbformat_minor": 5
}
